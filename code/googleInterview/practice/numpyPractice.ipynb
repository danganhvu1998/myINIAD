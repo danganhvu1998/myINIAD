{
 "nbformat": 4,
 "nbformat_minor": 2,
 "metadata": {
  "language_info": {
   "name": "python",
   "codemirror_mode": {
    "name": "ipython",
    "version": 3
   }
  },
  "orig_nbformat": 2,
  "file_extension": ".py",
  "mimetype": "text/x-python",
  "name": "python",
  "npconvert_exporter": "python",
  "pygments_lexer": "ipython3",
  "version": 3
 },
 "cells": [
  {
   "cell_type": "code",
   "execution_count": 18,
   "metadata": {},
   "outputs": [],
   "source": [
    "# Import\n",
    "import numpy as np"
   ]
  },
  {
   "cell_type": "code",
   "execution_count": 19,
   "metadata": {},
   "outputs": [
    {
     "name": "stdout",
     "output_type": "stream",
     "text": "[ 1  4  5  6  8  9 10]\n[ 1  4  5  6  8  9 10]\n[ 1  5  8  9 10  4  6]\n"
    }
   ],
   "source": [
    "# About array\n",
    "npArray = np.array([1,5,8,9,10,4,6]);\n",
    "npArrayCloce1 = npArray\n",
    "npArrayCloce2 = npArray.copy()\n",
    "npArray.sort()\n",
    "print(npArray)\n",
    "print(npArrayCloce1)\n",
    "print(npArrayCloce2)"
   ]
  },
  {
   "cell_type": "code",
   "execution_count": 20,
   "metadata": {},
   "outputs": [
    {
     "name": "stdout",
     "output_type": "stream",
     "text": "[ 8  9 10  6]\n"
    }
   ],
   "source": [
    "# Array take some elements satisfy condition\n",
    "npArray = np.array([1,5,8,9,10,4,6]);\n",
    "print(npArray[npArray>5])"
   ]
  },
  {
   "cell_type": "code",
   "execution_count": null,
   "metadata": {},
   "outputs": [],
   "source": []
  }
 ]
}