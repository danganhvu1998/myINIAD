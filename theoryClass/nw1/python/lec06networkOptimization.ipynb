{
 "metadata": {
  "language_info": {
   "codemirror_mode": {
    "name": "ipython",
    "version": 3
   },
   "file_extension": ".py",
   "mimetype": "text/x-python",
   "name": "python",
   "nbconvert_exporter": "python",
   "pygments_lexer": "ipython3",
   "version": "3.8.5-final"
  },
  "orig_nbformat": 2
 },
 "nbformat": 4,
 "nbformat_minor": 2,
 "cells": [
  {
   "cell_type": "code",
   "execution_count": 19,
   "metadata": {},
   "outputs": [
    {
     "output_type": "stream",
     "name": "stdout",
     "text": [
      "Requirement already satisfied: pulp in /home/anhvu/miniconda3/lib/python3.8/site-packages (2.3.1)\nRequirement already satisfied: amply>=0.1.2 in /home/anhvu/miniconda3/lib/python3.8/site-packages (from pulp) (0.1.4)\nRequirement already satisfied: docutils>=0.3 in /home/anhvu/miniconda3/lib/python3.8/site-packages (from amply>=0.1.2->pulp) (0.16)\nRequirement already satisfied: pyparsing in /home/anhvu/miniconda3/lib/python3.8/site-packages (from amply>=0.1.2->pulp) (2.4.7)\n"
     ]
    }
   ],
   "source": [
    "!pip install pulp\n",
    "import pulp"
   ]
  },
  {
   "cell_type": "code",
   "execution_count": 20,
   "metadata": {},
   "outputs": [],
   "source": [
    "t14 = 100\n",
    "t24 = 60"
   ]
  },
  {
   "cell_type": "code",
   "execution_count": 21,
   "metadata": {},
   "outputs": [],
   "source": [
    "problem = pulp.LpProblem(\"Route-selection\", pulp.LpMinimize)"
   ]
  },
  {
   "cell_type": "code",
   "execution_count": 22,
   "metadata": {},
   "outputs": [],
   "source": [
    "r = pulp.LpVariable(\"r\", lowBound=0, upBound=1)\n",
    "x14 = pulp.LpVariable.dicts(\"x14\", ([\"12\", \"13\", \"23\", \"24\", \"34\"]), lowBound=0, upBound=1)\n",
    "x24 = pulp.LpVariable.dicts(\"x24\", ([\"12\", \"13\", \"23\", \"24\", \"34\"]), lowBound=0, upBound=1)"
   ]
  },
  {
   "cell_type": "code",
   "execution_count": 23,
   "metadata": {},
   "outputs": [],
   "source": [
    "problem += r"
   ]
  },
  {
   "cell_type": "code",
   "execution_count": 24,
   "metadata": {},
   "outputs": [],
   "source": [
    "problem += x14[\"23\"] + x14[\"24\"] - x14[\"12\"] ==0\n",
    "problem += x14[\"34\"] - (x14[\"23\"] + x14[\"13\"]) == 0\n",
    "problem += x14[\"12\"] + x14[\"13\"] == 1\n",
    "\n",
    "problem += x24[\"12\"] + x24[\"13\"] == 0\n",
    "problem += x24[\"34\"] - (x24[\"23\"] + x24[\"13\"]) ==0\n",
    "problem += x24[\"23\"] + x24[\"24\"] - x24[\"12\"] == 1\n",
    "\n",
    "problem += 200*r >= t14*x14[\"12\"]+t24*x24[\"12\"]\n",
    "problem += 200*r >= t14*x14[\"13\"]+t24*x24[\"13\"]\n",
    "problem += 200*r >= t14*x14[\"23\"]+t24*x24[\"23\"]\n",
    "problem += 200*r >= t14*x14[\"24\"]+t24*x24[\"24\"]\n",
    "problem += 200*r >= t14*x14[\"34\"]+t24*x24[\"34\"]"
   ]
  },
  {
   "cell_type": "code",
   "execution_count": 25,
   "metadata": {},
   "outputs": [
    {
     "output_type": "execute_result",
     "data": {
      "text/plain": [
       "Route-selection:\n",
       "MINIMIZE\n",
       "1*r + 0\n",
       "SUBJECT TO\n",
       "_C1: - x14_12 + x14_23 + x14_24 = 0\n",
       "\n",
       "_C2: - x14_13 - x14_23 + x14_34 = 0\n",
       "\n",
       "_C3: x14_12 + x14_13 = 1\n",
       "\n",
       "_C4: x24_12 + x24_13 = 0\n",
       "\n",
       "_C5: - x24_13 - x24_23 + x24_34 = 0\n",
       "\n",
       "_C6: - x24_12 + x24_23 + x24_24 = 1\n",
       "\n",
       "_C7: 200 r - 100 x14_12 - 60 x24_12 >= 0\n",
       "\n",
       "_C8: 200 r - 100 x14_13 - 60 x24_13 >= 0\n",
       "\n",
       "_C9: 200 r - 100 x14_23 - 60 x24_23 >= 0\n",
       "\n",
       "_C10: 200 r - 100 x14_24 - 60 x24_24 >= 0\n",
       "\n",
       "_C11: 200 r - 100 x14_34 - 60 x24_34 >= 0\n",
       "\n",
       "VARIABLES\n",
       "r <= 1 Continuous\n",
       "x14_12 <= 1 Continuous\n",
       "x14_13 <= 1 Continuous\n",
       "x14_23 <= 1 Continuous\n",
       "x14_24 <= 1 Continuous\n",
       "x14_34 <= 1 Continuous\n",
       "x24_12 <= 1 Continuous\n",
       "x24_13 <= 1 Continuous\n",
       "x24_23 <= 1 Continuous\n",
       "x24_24 <= 1 Continuous\n",
       "x24_34 <= 1 Continuous"
      ]
     },
     "metadata": {},
     "execution_count": 25
    }
   ],
   "source": [
    "problem"
   ]
  },
  {
   "cell_type": "code",
   "execution_count": 26,
   "metadata": {},
   "outputs": [
    {
     "output_type": "stream",
     "name": "stdout",
     "text": [
      "Optimal\n"
     ]
    }
   ],
   "source": [
    "results = problem.solve()\n",
    "print(pulp.LpStatus[results])"
   ]
  },
  {
   "cell_type": "code",
   "execution_count": 28,
   "metadata": {},
   "outputs": [
    {
     "output_type": "stream",
     "name": "stdout",
     "text": [
      "r: 0.4\nx14_12: 0.8\nx14_13: 0.2\nx14_23: 0.0\nx14_24: 0.8\nx14_34: 0.2\n\nx24_12: 0.0\nx24_13: 0.0\nx24_23: 1.0\nx24_24: 0.0\nx24_34: 1.0\n"
     ]
    }
   ],
   "source": [
    "print(\"r:\", r.value())\n",
    "for k,v in x14.items():\n",
    "    print(f\"x14_{k}: {v.value()}\")\n",
    "print()\n",
    "for k,v in x24.items():\n",
    "    print(f\"x24_{k}: {v.value()}\")"
   ]
  },
  {
   "cell_type": "code",
   "execution_count": null,
   "metadata": {},
   "outputs": [],
   "source": []
  }
 ]
}