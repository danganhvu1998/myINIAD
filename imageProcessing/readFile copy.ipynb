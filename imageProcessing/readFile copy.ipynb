{
 "cells": [
  {
   "cell_type": "code",
   "execution_count": 1,
   "metadata": {},
   "outputs": [],
   "source": [
    "# Import Stuff\n",
    "import numpy as np\n",
    "import os\n",
    "\n",
    "# Setting K: Find K closest image\n",
    "K = 3"
   ]
  },
  {
   "cell_type": "code",
   "execution_count": 2,
   "metadata": {},
   "outputs": [],
   "source": [
    "def unpickle(file):\n",
    "    import pickle\n",
    "    with open(file, 'rb') as fo:\n",
    "        dict = pickle.load(fo, encoding='bytes')\n",
    "    return dict"
   ]
  },
  {
   "cell_type": "code",
   "execution_count": 5,
   "metadata": {
    "tags": [
     "outputPrepend"
    ]
   },
   "outputs": [
    {
     "output_type": "stream",
     "name": "stdout",
     "text": "(50000,)\n(50000, 3072)\nIs data correct:  1.0\n"
    }
   ],
   "source": [
    "# Reading Traning Data\n",
    "\n",
    "dataImage = np.array([])\n",
    "dataLabel = np.array([[]])\n",
    "testImage = np.array([])\n",
    "for i in range(1,6):\n",
    "    rawData = unpickle('data/cifar-10-batches-py/data_batch_{}'.format(i))\n",
    "    if( i==1 ): testImage = np.array( rawData[b'data'][0] )\n",
    "    dataLabel = np.append(dataLabel, rawData[b'labels'])\n",
    "    # npArray = np.array( rawData[b'data'] )\n",
    "    dataImage = np.append(dataImage, rawData[b'data'])\n",
    "# dataImage\n",
    "dataImage = dataImage.reshape(50000, -1)\n",
    "print(dataLabel.shape)\n",
    "print(dataImage.shape)\n",
    "print('Is data correct: ', 1 - np.sum(dataImage[0]-testImage))\n"
   ]
  },
  {
   "cell_type": "code",
   "execution_count": 6,
   "metadata": {},
   "outputs": [
    {
     "output_type": "stream",
     "name": "stdout",
     "text": "(10000,)\n(10000, 3072)\n"
    }
   ],
   "source": [
    "# Reading Testing Data\n",
    "\n",
    "rawData = unpickle('data/cifar-10-batches-py/test_batch')\n",
    "dataTestImage = np.array(rawData[b'data'])\n",
    "dataTestLabel = np.array(rawData[b'labels'])\n",
    "print(dataTestLabel.shape)\n",
    "print(dataTestImage.shape)"
   ]
  },
  {
   "cell_type": "code",
   "execution_count": null,
   "metadata": {},
   "outputs": [],
   "source": []
  }
 ],
 "metadata": {
  "language_info": {
   "codemirror_mode": {
    "name": "ipython",
    "version": 3
   },
   "file_extension": ".py",
   "mimetype": "text/x-python",
   "name": "python",
   "nbconvert_exporter": "python",
   "pygments_lexer": "ipython3",
   "version": "3.8.3-final"
  },
  "orig_nbformat": 2,
  "kernelspec": {
   "name": "python3",
   "display_name": "Python 3"
  }
 },
 "nbformat": 4,
 "nbformat_minor": 2
}