{
 "cells": [
  {
   "cell_type": "code",
   "execution_count": 9,
   "metadata": {},
   "outputs": [],
   "source": [
    "import tensorflow as tf \n",
    "import numpy as np\n",
    "import pandas as pd\n",
    "import matplotlib.pyplot as plt\n",
    "\n",
    "tf.compat.v1.logging.set_verbosity(tf.compat.v1.logging.INFO)\n",
    "\n",
    "def cnn_model_fn(features, labels, mode):\n",
    "    \"\"\"Model function for CNN\"\"\"\n",
    "    #Input layer\n",
    "    input_layer = tf.reshape(features['x'], shape = [-1, 28, 28, 1])\n",
    "    \n",
    "    #Convolution layer 1\n",
    "    conv1 = tf.compat.v1.layers.conv2d(\n",
    "        inputs = input_layer,\n",
    "        filters = 32,\n",
    "        kernel_size = [5, 5],\n",
    "        padding = 'same',\n",
    "        activation = tf.nn.relu)\n",
    "    #Apply formula:N1 = (N+2P-f)/S + 1\n",
    "    #in which: N is input image size, P is padding size, f is filter size and S is step\n",
    "    #Output tensor shape: N1 = (28-5)/1+1 = 24 => shape = [-1, 24, 24, 1]\n",
    "    #But we at parameter we set padding = 'same' in order to keep output shape unchange to input shape \n",
    "    #Thus output shape is [-1, 28, 28, 1]\n",
    "    \n",
    "    #Max pooling layer 1\n",
    "    pool1 = tf.compat.v1.layers.max_pooling2d(\n",
    "        inputs = conv1, \n",
    "        pool_size = [2, 2],\n",
    "        strides = 2)\n",
    "    #Output tensor shape: N2 = (28-2)/2+1 = 14 => shape = [-1, 14, 14, 1]\n",
    "    \n",
    "    #Convolution layer 2\n",
    "    conv2 = tf.compat.v1.layers.conv2d(\n",
    "        inputs = pool1,\n",
    "        filters = 64,\n",
    "        kernel_size = [5, 5],\n",
    "        padding = 'same',\n",
    "        activation = tf.nn.relu)\n",
    "    #Output tensor shape: N3 = (14-5)/1+1 = 10 => shape = [-1, 10, 10, 1]\n",
    "    #But padding = 'same' so output shape is [-1, 14, 14, 1]\n",
    "    \n",
    "    #Max pooling layer 2\n",
    "    pool2 = tf.compat.v1.layers.max_pooling2d(\n",
    "        inputs = conv2,\n",
    "        pool_size = [2, 2],\n",
    "        strides = 2)\n",
    "    #Output tensor shape: N4 = (14-2)/2+1 = 7 => shape = [-1, 7, 7, 1]\n",
    "    \n",
    "    #Dense layer\n",
    "    flat = tf.reshape(pool2, [-1, 7*7*64])\n",
    "    dense = tf.compat.v1.layers.dense(\n",
    "        inputs = flat, \n",
    "        units = 1024,\n",
    "        activation = tf.nn.relu)\n",
    "    \n",
    "    dropout = tf.compat.v1.layers.dropout(\n",
    "        inputs = dense,\n",
    "        rate = 0.4,\n",
    "        training = mode == tf.estimator.ModeKeys.TRAIN)\n",
    "    \n",
    "    #Logits layer\n",
    "    logits = tf.compat.v1.layers.dense(inputs = dropout, units = 10)\n",
    "    \n",
    "    predictions = {\n",
    "        'classes': tf.argmax(input = logits, axis = 1, name = 'class_tensor'),\n",
    "        'probabilities': tf.nn.softmax(logits, name = 'softmax_tensor')}\n",
    "    \n",
    "    if mode == tf.estimator.ModeKeys.PREDICT:\n",
    "        return tf.estimator.EstimatorSpec(mode = mode, predictions = predictions)\n",
    "\n",
    "    loss = tf.compat.v1.losses.sparse_softmax_cross_entropy(labels = labels, logits = logits)\n",
    "    \n",
    "    if mode == tf.estimator.ModeKeys.TRAIN:\n",
    "        optimizer = tf.compat.v1.train.AdamOptimizer(learning_rate = 0.001)\n",
    "        train_op = optimizer.minimize(\n",
    "            loss = loss, \n",
    "            global_step = tf.compat.v1.train.get_global_step())\n",
    "        return tf.estimator.EstimatorSpec(mode = mode, loss = loss, train_op = train_op)\n",
    "    \n",
    "    if mode == tf.estimator.ModeKeys.EVAL:\n",
    "        eval_metric_ops = {\n",
    "            'accuracy': tf.compat.v1.compat.v1.metrics.accuracy(\n",
    "            labels = labels, predictions = predictions['classes'])}\n",
    "        return tf.estimator.EstimatorSpec(\n",
    "            mode = mode, loss = loss, eval_metric_ops = eval_metric_ops)\n"
   ]
  },
  {
   "cell_type": "code",
   "execution_count": 10,
   "metadata": {
    "tags": []
   },
   "outputs": [
    {
     "output_type": "stream",
     "name": "stdout",
     "text": "Train images shape      : (60000, 784)\nTrain labels shape shape: (60000,)\nTest  images shape      : (10000, 784)\nTest  labels shape shape: (10000,)\n"
    }
   ],
   "source": [
    "import sys\n",
    "from mnist import MNIST\n",
    "mndata = MNIST('../input')\n",
    "\n",
    "mndata.load_training()\n",
    "train_data = np.asarray(mndata.train_images)/255.0\n",
    "train_labels = np.array(mndata.train_labels.tolist())\n",
    "\n",
    "mndata.load_testing()\n",
    "test_data = np.asarray(mndata.test_images)/255.0\n",
    "test_labels = np.array(mndata.test_labels.tolist())\n",
    "\n",
    "print('Train images shape      : %s'%str(train_data.shape))\n",
    "print('Train labels shape shape: %s'%str(train_labels.shape))\n",
    "print('Test  images shape      : %s'%str(test_data.shape))\n",
    "print('Test  labels shape shape: %s'%str(test_labels.shape))"
   ]
  },
  {
   "cell_type": "code",
   "execution_count": 11,
   "metadata": {
    "tags": []
   },
   "outputs": [
    {
     "output_type": "stream",
     "name": "stdout",
     "text": "INFO:tensorflow:Using default config.\nINFO:tensorflow:Using config: {'_model_dir': './tmp/conv2_checkpoints', '_tf_random_seed': None, '_save_summary_steps': 100, '_save_checkpoints_steps': None, '_save_checkpoints_secs': 600, '_session_config': allow_soft_placement: true\ngraph_options {\n  rewrite_options {\n    meta_optimizer_iterations: ONE\n  }\n}\n, '_keep_checkpoint_max': 5, '_keep_checkpoint_every_n_hours': 10000, '_log_step_count_steps': 100, '_train_distribute': None, '_device_fn': None, '_protocol': None, '_eval_distribute': None, '_experimental_distribute': None, '_experimental_max_worker_delay_secs': None, '_session_creation_timeout_secs': 7200, '_service': None, '_cluster_spec': ClusterSpec({}), '_task_type': 'worker', '_task_id': 0, '_global_id_in_cluster': 0, '_master': '', '_evaluation_master': '', '_is_chief': True, '_num_ps_replicas': 0, '_num_worker_replicas': 1}\n"
    }
   ],
   "source": [
    "#Create the Estimator\n",
    "mnist_classifier = tf.estimator.Estimator(\n",
    "    model_fn = cnn_model_fn, \n",
    "    model_dir = './tmp/conv2_checkpoints' #temporary file to save model\n",
    ")\n"
   ]
  },
  {
   "cell_type": "code",
   "execution_count": 12,
   "metadata": {
    "tags": []
   },
   "outputs": [],
   "source": [
    "#Training model\n",
    "train_input_fn = tf.compat.v1.estimator.inputs.numpy_input_fn(\n",
    "    x = {'x': train_data},\n",
    "    y = train_labels, \n",
    "    batch_size = 100,\n",
    "    num_epochs = 50,\n",
    "    shuffle = True\n",
    ")"
   ]
  },
  {
   "cell_type": "code",
   "execution_count": 14,
   "metadata": {
    "tags": []
   },
   "outputs": [
    {
     "output_type": "stream",
     "name": "stdout",
     "text": "INFO:tensorflow:Calling model_fn.\nINFO:tensorflow:Done calling model_fn.\nINFO:tensorflow:Create CheckpointSaverHook.\nINFO:tensorflow:Graph was finalized.\nINFO:tensorflow:Restoring parameters from ./tmp/conv2_checkpoints/model.ckpt-0\nWARNING:tensorflow:From /home/anhvu/miniconda3/envs/imageProcessing/lib/python3.8/site-packages/tensorflow/python/training/saver.py:1077: get_checkpoint_mtimes (from tensorflow.python.training.checkpoint_management) is deprecated and will be removed in a future version.\nInstructions for updating:\nUse standard file utilities to get mtimes.\nINFO:tensorflow:Running local_init_op.\nINFO:tensorflow:Done running local_init_op.\nINFO:tensorflow:Calling checkpoint listeners before saving checkpoint 0...\nINFO:tensorflow:Saving checkpoints for 0 into ./tmp/conv2_checkpoints/model.ckpt.\nINFO:tensorflow:Calling checkpoint listeners after saving checkpoint 0...\nINFO:tensorflow:loss = 2.316859006881714, step = 0\nINFO:tensorflow:global_step/sec: 2.12148\nINFO:tensorflow:loss = 0.030980313196778297, step = 100 (47.138 sec)\nINFO:tensorflow:global_step/sec: 2.03174\nINFO:tensorflow:loss = 0.14104227721691132, step = 200 (49.219 sec)\nINFO:tensorflow:Calling checkpoint listeners before saving checkpoint 300...\nINFO:tensorflow:Saving checkpoints for 300 into ./tmp/conv2_checkpoints/model.ckpt.\nINFO:tensorflow:Calling checkpoint listeners after saving checkpoint 300...\nINFO:tensorflow:Loss for final step: 0.022653860971331596.\n"
    },
    {
     "output_type": "execute_result",
     "data": {
      "text/plain": "<tensorflow_estimator.python.estimator.estimator.EstimatorV2 at 0x7fb6c8237e80>"
     },
     "metadata": {},
     "execution_count": 14
    }
   ],
   "source": [
    "mnist_classifier.train(\n",
    "    input_fn = train_input_fn,\n",
    "    steps = 300\n",
    "#     hooks = [logging_hook]\n",
    ")"
   ]
  },
  {
   "cell_type": "code",
   "execution_count": 16,
   "metadata": {
    "tags": []
   },
   "outputs": [
    {
     "output_type": "stream",
     "name": "stdout",
     "text": "INFO:tensorflow:Calling model_fn.\nINFO:tensorflow:Done calling model_fn.\nINFO:tensorflow:Starting evaluation at 2020-06-19T22:43:34Z\nINFO:tensorflow:Graph was finalized.\nINFO:tensorflow:Restoring parameters from ./tmp/conv2_checkpoints/model.ckpt-300\nINFO:tensorflow:Running local_init_op.\nINFO:tensorflow:Done running local_init_op.\nINFO:tensorflow:Inference Time : 10.07993s\nINFO:tensorflow:Finished evaluation at 2020-06-19-22:43:44\nINFO:tensorflow:Saving dict for global step 300: accuracy = 0.9765, global_step = 300, loss = 0.073558815\nINFO:tensorflow:Saving 'checkpoint_path' summary for global step 300: ./tmp/conv2_checkpoints/model.ckpt-300\n{'accuracy': 0.9765, 'loss': 0.073558815, 'global_step': 300}\n"
    }
   ],
   "source": [
    "#Validation on test\n",
    "eval_input_fn = tf.compat.v1.estimator.inputs.numpy_input_fn(\n",
    "      x = {\"x\": test_data},\n",
    "      y = test_labels,\n",
    "      num_epochs = 1,\n",
    "      shuffle = False)\n",
    "\n",
    "eval_results = mnist_classifier.evaluate(input_fn=eval_input_fn)\n",
    "print(eval_results)"
   ]
  },
  {
   "cell_type": "code",
   "execution_count": null,
   "metadata": {},
   "outputs": [],
   "source": []
  }
 ],
 "metadata": {
  "language_info": {
   "codemirror_mode": {
    "name": "ipython",
    "version": 3
   },
   "file_extension": ".py",
   "mimetype": "text/x-python",
   "name": "python",
   "nbconvert_exporter": "python",
   "pygments_lexer": "ipython3",
   "version": "3.7.6-final"
  },
  "orig_nbformat": 2,
  "kernelspec": {
   "name": "python3",
   "display_name": "Python 3"
  }
 },
 "nbformat": 4,
 "nbformat_minor": 2
}