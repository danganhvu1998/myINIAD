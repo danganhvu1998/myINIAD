{
 "cells": [
  {
   "cell_type": "code",
   "execution_count": 9,
   "metadata": {},
   "outputs": [],
   "source": [
    "# Import Stuff\n",
    "import numpy as np\n",
    "import os"
   ]
  },
  {
   "cell_type": "code",
   "execution_count": 2,
   "metadata": {},
   "outputs": [],
   "source": [
    "def unpickle(file):\n",
    "    import pickle\n",
    "    with open(file, 'rb') as fo:\n",
    "        dict = pickle.load(fo, encoding='bytes')\n",
    "    return dict"
   ]
  },
  {
   "cell_type": "code",
   "execution_count": 3,
   "metadata": {
    "tags": [
     "outputPrepend"
    ]
   },
   "outputs": [
    {
     "output_type": "stream",
     "name": "stdout",
     "text": "(50000,)\n(50000, 3072)\nIs data correct:  1.0\n"
    }
   ],
   "source": [
    "# Reading Traning Data\n",
    "\n",
    "dataImage = np.array([])\n",
    "dataLabel = np.array([[]])\n",
    "testImage = np.array([])\n",
    "for i in range(1,6):\n",
    "    rawData = unpickle('data/cifar-10-batches-py/data_batch_{}'.format(i))\n",
    "    if( i==1 ): testImage = np.array( rawData[b'data'][0] )\n",
    "    dataLabel = np.append(dataLabel, rawData[b'labels'])\n",
    "    dataImage = np.append(dataImage, rawData[b'data'])\n",
    "# dataImage\n",
    "dataImage = dataImage.reshape(50000, -1)\n",
    "dataLabel = dataLabel.astype('int32')\n",
    "print(dataLabel.shape)\n",
    "print(dataImage.shape)\n",
    "print('Is data correct: ', 1 - np.sum(dataImage[0]-testImage))\n"
   ]
  },
  {
   "cell_type": "code",
   "execution_count": 4,
   "metadata": {},
   "outputs": [
    {
     "output_type": "stream",
     "name": "stdout",
     "text": "(10000,)\n(10000, 3072)\n"
    }
   ],
   "source": [
    "# Reading Testing Data\n",
    "\n",
    "rawData = unpickle('data/cifar-10-batches-py/test_batch')\n",
    "dataTestImage = np.array(rawData[b'data'])\n",
    "dataTestLabel = np.array(rawData[b'labels'])\n",
    "dataTestLabel = dataTestLabel.astype('int32')\n",
    "print(dataTestLabel.shape)\n",
    "print(dataTestImage.shape)"
   ]
  },
  {
   "cell_type": "code",
   "execution_count": 5,
   "metadata": {},
   "outputs": [],
   "source": [
    "# Find K nearest Image\n",
    "\n",
    "def kNearestImage(image):\n",
    "    trainImageCount = dataImage.shape[0]\n",
    "    result = []\n",
    "    res = []\n",
    "    for i in range(trainImageCount):\n",
    "        trainImage = dataImage[i]\n",
    "        diff  = np.sum( np.absolute( image - trainImage ) )\n",
    "        res.append(diff)\n",
    "    for j in range(K):\n",
    "        currMinPos = 0\n",
    "        for k in range(trainImageCount):\n",
    "            if( (dataLabel[k], res[k]) in result ): continue\n",
    "            if( res[k]<res[currMinPos] ): currMinPos = k\n",
    "        result.append((dataLabel[currMinPos], res[currMinPos]))\n",
    "    return result\n",
    "\n",
    "def judge(resutlOfKNN):\n",
    "    currMax = 0\n",
    "    count = [0]*10\n",
    "    for result in resutlOfKNN:\n",
    "        count[ result[0] ] =  count[ result[0] ]+1\n",
    "        currMax = max(currMax, count[ result[0] ])\n",
    "    for i in range(10):\n",
    "        if( count[i]==currMax ): return i\n",
    "    return -1  \n",
    "    \n",
    "def predict(image):\n",
    "    knn = kNearestImage(image)\n",
    "    return judge(knn)"
   ]
  },
  {
   "cell_type": "code",
   "execution_count": 10,
   "metadata": {},
   "outputs": [
    {
     "output_type": "stream",
     "name": "stdout",
     "text": "74 126 37.0%\n"
    }
   ],
   "source": [
    "# RUN\n",
    "\n",
    "K = 5 # Setting K: Find K closest image\n",
    "testSize = 200 # MAX 10000\n",
    "\n",
    "hits = 0\n",
    "miss = 0\n",
    "for i in range(testSize):\n",
    "    predictLabel = predict( dataTestImage[i] )\n",
    "    actualLabel = dataTestLabel[i]\n",
    "    if( predictLabel == actualLabel ):\n",
    "        hits = hits+1\n",
    "    else:\n",
    "        miss = miss+1\n",
    "print(hits, miss, \"{}%\".format( 1.0*hits/testSize*100 ))\n",
    "\n"
   ]
  },
  {
   "cell_type": "code",
   "execution_count": null,
   "metadata": {},
   "outputs": [],
   "source": []
  }
 ],
 "metadata": {
  "language_info": {
   "codemirror_mode": {
    "name": "ipython",
    "version": 3
   },
   "file_extension": ".py",
   "mimetype": "text/x-python",
   "name": "python",
   "nbconvert_exporter": "python",
   "pygments_lexer": "ipython3",
   "version": "3.8.3-final"
  },
  "orig_nbformat": 2,
  "kernelspec": {
   "name": "python3",
   "display_name": "Python 3"
  }
 },
 "nbformat": 4,
 "nbformat_minor": 2
}