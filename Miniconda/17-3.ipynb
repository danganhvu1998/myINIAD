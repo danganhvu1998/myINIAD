{
 "cells": [
  {
   "cell_type": "code",
   "execution_count": 3,
   "metadata": {},
   "outputs": [
    {
     "name": "stdout",
     "output_type": "stream",
     "text": [
      "Summation: 70\n"
     ]
    }
   ],
   "source": [
    "import numpy as np\n",
    "\n",
    "data = np.array(range(2,9))\n",
    "s = np.sum(data[::-1]+data)\n",
    "print(\"Summation: {}\".format(s))"
   ]
  },
  {
   "cell_type": "code",
   "execution_count": 11,
   "metadata": {
    "scrolled": true
   },
   "outputs": [
    {
     "data": {
      "image/png": "[encoded data removed]",
      "text/plain": [
       "<Figure size 432x288 with 1 Axes>"
      ]
     },
     "metadata": {
      "needs_background": "light"
     },
     "output_type": "display_data"
    },
    {
     "data": {
      "image/png": "[encoded data removed]",
      "text/plain": [
       "<Figure size 432x288 with 1 Axes>"
      ]
     },
     "metadata": {
      "needs_background": "light"
     },
     "output_type": "display_data"
    }
   ],
   "source": [
    "#ライブラリのimport\n",
    "\n",
    "import numpy as np\n",
    "import matplotlib.pyplot as plt\n",
    "\n",
    "#データの読み込み\n",
    "\n",
    "dat=np.loadtxt('data/rand2d.csv', delimiter=',')\n",
    "\n",
    "#データ数とデータの確認\n",
    "\n",
    "#print(np.shape(dat))\n",
    "#print(dat)\n",
    "\n",
    "#データの分割\n",
    "\n",
    "dat1=dat[:, 0]\n",
    "dat2=dat[:, 1]\n",
    "#print('dat1')\n",
    "#print(dat1)\n",
    "#print('dat2')\n",
    "#print(dat2)\n",
    "\n",
    "plt.boxplot([dat1,dat2])\n",
    "plt.show()\n",
    "\n",
    "plt.boxplot([dat1,dat2])\n",
    "plt.xticks([1,2],[\"data1\",\"data2\"])\n",
    "plt.show()"
   ]
  },
  {
   "cell_type": "code",
   "execution_count": 12,
   "metadata": {},
   "outputs": [
    {
     "name": "stdout",
     "output_type": "stream",
     "text": [
      "(50,)\n",
      "[ 0.92370786 -1.50626553 -0.55152884  0.71932808 -1.28377573]\n",
      "(50,)\n",
      "[ 1.75263159  0.05857007 -0.23580599 -1.06936501 -0.24345294]\n"
     ]
    }
   ],
   "source": [
    "dat1 = dat[:,0]\n",
    "dat2 = dat[:,1]\n",
    "print( dat1.shape )\n",
    "print( dat1[0:5] )\n",
    "print( dat2.shape )\n",
    "print( dat2[0:5] )"
   ]
  },
  {
   "cell_type": "code",
   "execution_count": 20,
   "metadata": {},
   "outputs": [
    {
     "name": "stdout",
     "output_type": "stream",
     "text": [
      "(array([ 1.,  0.,  3.,  7.,  8., 11., 12.,  4.,  2.,  2.]), array([-3.62226334, -2.95295583, -2.28364832, -1.6143408 , -0.94503329,\n",
      "       -0.27572578,  0.39358173,  1.06288924,  1.73219676,  2.40150427,\n",
      "        3.07081178]), <a list of 10 Patch objects>)\n"
     ]
    },
    {
     "data": {
      "image/png": "[encoded data removed]",
      "text/plain": [
       "<Figure size 432x288 with 1 Axes>"
      ]
     },
     "metadata": {
      "needs_background": "light"
     },
     "output_type": "display_data"
    }
   ],
   "source": [
    "hinfo=plt.hist(dat1, bins=10)\n",
    "print(hinfo)\n",
    "plt.show()\n"
   ]
  },
  {
   "cell_type": "code",
   "execution_count": 21,
   "metadata": {},
   "outputs": [
    {
     "name": "stdout",
     "output_type": "stream",
     "text": [
      "([array([ 1.,  0.,  3.,  7.,  8., 11., 12.,  4.,  2.,  2.]), array([ 0.,  0.,  3.,  6.,  7., 17.,  8.,  5.,  2.,  2.])], array([-3.62226334, -2.95295583, -2.28364832, -1.6143408 , -0.94503329,\n",
      "       -0.27572578,  0.39358173,  1.06288924,  1.73219676,  2.40150427,\n",
      "        3.07081178]), <a list of 2 Lists of Patches objects>)\n"
     ]
    },
    {
     "data": {
      "image/png": "[encoded data removed]",
      "text/plain": [
       "<Figure size 432x288 with 1 Axes>"
      ]
     },
     "metadata": {
      "needs_background": "light"
     },
     "output_type": "display_data"
    }
   ],
   "source": [
    "hinfo=plt.hist(dat, bins=10)\n",
    "print(hinfo)\n",
    "plt.show()\n"
   ]
  },
  {
   "cell_type": "code",
   "execution_count": null,
   "metadata": {},
   "outputs": [],
   "source": []
  }
 ],
 "metadata": {
  "kernelspec": {
   "display_name": "Python 3",
   "language": "python",
   "name": "python3"
  },
  "language_info": {
   "codemirror_mode": {
    "name": "ipython",
    "version": 3
   },
   "file_extension": ".py",
   "mimetype": "text/x-python",
   "name": "python",
   "nbconvert_exporter": "python",
   "pygments_lexer": "ipython3",
   "version": "3.6.6"
  }
 },
 "nbformat": 4,
 "nbformat_minor": 2
}
