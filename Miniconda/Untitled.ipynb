{
 "cells": [
  {
   "cell_type": "code",
   "execution_count": 18,
   "metadata": {},
   "outputs": [
    {
     "data": {
      "image/png": "[encoded data removed]",
      "text/plain": [
       "<Figure size 432x288 with 1 Axes>"
      ]
     },
     "metadata": {
      "needs_background": "light"
     },
     "output_type": "display_data"
    }
   ],
   "source": [
    "import timeit\n",
    "import matplotlib.pyplot as plt\n",
    "import random\n",
    "import numpy as np\n",
    "xs = np.array([2.341, 2.444, 2.463, 2.498, 2.525, 2.560, 2.576, 2.603, 2.653, 2.690, 2.741])\n",
    "ys = np.array([0.003, 0.25, 0.35, 0.69, 1.25, 2.22, 2.78, 3.58, 5.76, 7.50, 10.13])\n",
    "plt.plot(xs,ys, \"o\")\n",
    "plt.ylim(0,max(ys)*1.1)\n",
    "plt.xlim(min(xs)-0.05,max(xs)*1.01)\n",
    "plt.xlabel('LED Voltage \\(V\\)',fontsize=9)\n",
    "plt.ylabel('Current (mA)',fontsize=9)\n",
    "plt.show()"
   ]
  },
  {
   "cell_type": "code",
   "execution_count": null,
   "metadata": {},
   "outputs": [],
   "source": []
  }
 ],
 "metadata": {
  "kernelspec": {
   "display_name": "Python 3",
   "language": "python",
   "name": "python3"
  },
  "language_info": {
   "codemirror_mode": {
    "name": "ipython",
    "version": 3
   },
   "file_extension": ".py",
   "mimetype": "text/x-python",
   "name": "python",
   "nbconvert_exporter": "python",
   "pygments_lexer": "ipython3",
   "version": "3.7.3"
  }
 },
 "nbformat": 4,
 "nbformat_minor": 2
}
