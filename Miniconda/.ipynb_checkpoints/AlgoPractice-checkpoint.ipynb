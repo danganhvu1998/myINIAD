{
 "cells": [
  {
   "cell_type": "code",
   "execution_count": 1,
   "metadata": {},
   "outputs": [],
   "source": [
    "import numpy as np\n",
    "import matplotlib.pyplot as plt\n",
    "import timeit\n",
    "import random"
   ]
  },
  {
   "cell_type": "code",
   "execution_count": 2,
   "metadata": {},
   "outputs": [],
   "source": [
    "def setup_lst(x):\n",
    "    lst = random.sample(range(x*2), k = x)\n",
    "    c = random.randrange(x*2)\n",
    "    return (lst,c)\n",
    "\n",
    "def search_linear(lst, x):\n",
    "    for i in range(len(lst)):\n",
    "        if x == lst[i]: \n",
    "            return i\n",
    "    return -1"
   ]
  },
  {
   "cell_type": "code",
   "execution_count": 3,
   "metadata": {},
   "outputs": [],
   "source": [
    "def setup_lst_sorted(x):\n",
    "    lst = sorted(random.sample(range(x*2),k=x))\n",
    "    c = random.randrange(x*2)\n",
    "    return (lst,c)\n",
    "\n",
    "def search_bin(lst,x):\n",
    "    ll = 0\n",
    "    rr = len(lst)-1\n",
    "    while ll<rr:\n",
    "        mid = (ll+rr)//2\n",
    "        if lst[mid]<x:\n",
    "            ll = mid+1\n",
    "        elif lst[mid]>x:\n",
    "            rr = mid-1\n",
    "        else:\n",
    "            return mid\n",
    "    return -1"
   ]
  },
  {
   "cell_type": "code",
   "execution_count": null,
   "metadata": {},
   "outputs": [
    {
     "data": {
      "image/png": "[encoded data removed]",
      "text/plain": [
       "<Figure size 432x288 with 1 Axes>"
      ]
     },
     "metadata": {
      "needs_background": "light"
     },
     "output_type": "display_data"
    }
   ],
   "source": [
    "n = 1\n",
    "r = 1000\n",
    "\n",
    "xs = range(20,1000,20)\n",
    "ys1 = []\n",
    "\n",
    "for x in xs:\n",
    "    time = timeit.repeat('search_linear(lst,c)',setup='(lst,c)=setup_lst(x)',globals=globals(),number=n,repeat=r)\n",
    "    ys1.append(sum(time)/(n*r))\n",
    "\n",
    "    \n",
    "plt.plot(xs,ys1,color = 'red')\n",
    "plt.ylim(0,max(ys1)*1.1)\n",
    "plt.xlabel('Length of list')\n",
    "plt.ylabel('Average time(s)')\n",
    "plt.show()"
   ]
  },
  {
   "cell_type": "code",
   "execution_count": null,
   "metadata": {},
   "outputs": [],
   "source": [
    "n = 1\n",
    "r = 1000\n",
    "\n",
    "xs = range(20,1000,20)\n",
    "ys = []\n",
    "\n",
    "for x in xs:\n",
    "    time = timeit.repeat('search_bin(lst,c)',setup='(lst,c)=setup_lst_sorted(x)',globals=globals(),number=n,repeat=r)\n",
    "    ys.append(sum(time)/(n*r))\n",
    "\n",
    "    \n",
    "plt.plot(xs,ys,color = 'red')\n",
    "plt.ylim(0,max(ys)*1.1)\n",
    "plt.xlabel('Length of list')\n",
    "plt.ylabel('Average time(s)')\n",
    "plt.show()"
   ]
  },
  {
   "cell_type": "code",
   "execution_count": null,
   "metadata": {},
   "outputs": [],
   "source": [
    "    \n",
    "plt.plot(xs,ys,color = 'red')\n",
    "plt.plot(xs,ys1,color = 'blue')\n",
    "\n",
    "plt.xlabel('Length of list')\n",
    "plt.ylabel('Average time(s)')\n",
    "plt.show()"
   ]
  },
  {
   "cell_type": "code",
   "execution_count": null,
   "metadata": {},
   "outputs": [],
   "source": [
    "x = np.linspace(1,10,100)\n",
    "plt.plot(x,x,color = 'red',label = 'y=x')\n",
    "plt.plot(x,np.log(x),color = 'blue', label = 'y=logx')\n",
    "\n",
    "plt.xlim([1,10])\n",
    "plt.legend()\n",
    "plt.show()"
   ]
  },
  {
   "cell_type": "code",
   "execution_count": null,
   "metadata": {},
   "outputs": [],
   "source": []
  },
  {
   "cell_type": "code",
   "execution_count": null,
   "metadata": {},
   "outputs": [],
   "source": []
  }
 ],
 "metadata": {
  "kernelspec": {
   "display_name": "Python 3",
   "language": "python",
   "name": "python3"
  },
  "language_info": {
   "codemirror_mode": {
    "name": "ipython",
    "version": 3
   },
   "file_extension": ".py",
   "mimetype": "text/x-python",
   "name": "python",
   "nbconvert_exporter": "python",
   "pygments_lexer": "ipython3",
   "version": "3.7.3"
  }
 },
 "nbformat": 4,
 "nbformat_minor": 2
}
