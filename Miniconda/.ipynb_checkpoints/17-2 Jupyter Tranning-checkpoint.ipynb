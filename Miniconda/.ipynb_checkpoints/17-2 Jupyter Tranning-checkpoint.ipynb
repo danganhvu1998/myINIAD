{
 "cells": [
  {
   "cell_type": "code",
   "execution_count": 1,
   "metadata": {},
   "outputs": [],
   "source": [
    "# Import Library\n",
    "import numpy as np"
   ]
  },
  {
   "cell_type": "code",
   "execution_count": 2,
   "metadata": {},
   "outputs": [
    {
     "name": "stdout",
     "output_type": "stream",
     "text": [
      "<class 'list'>\n",
      "[0.0, 1.0, 2.0, 0.0, 1.0, 2.0]\n",
      "[0.0, 1.0, 2.0, 3.0, 4.0, 5.0]\n"
     ]
    }
   ],
   "source": [
    "# Example of Python List\n",
    "a = [ 0.0, 1.0, 2.0 ]\n",
    "b = [ 3.0, 4.0, 5.0 ]\n",
    "print( type(a) )\n",
    "print( a * 2 )\n",
    "print( a + b )"
   ]
  },
  {
   "cell_type": "code",
   "execution_count": 3,
   "metadata": {},
   "outputs": [
    {
     "name": "stdout",
     "output_type": "stream",
     "text": [
      "<class 'numpy.ndarray'>\n",
      "[0. 2. 4.]\n",
      "[3. 5. 7.]\n",
      "[ 0.  4. 10.]\n",
      "5.0\n",
      "[ 3.   4.  99.9]\n"
     ]
    }
   ],
   "source": [
    "# Example of NP Array\n",
    "a = np.array( [ 0.0, 1.0, 2.0 ] )\n",
    "b = np.array( [ 3.0, 4.0, 5.0 ] )\n",
    "print( type(a) )\n",
    "print( a * 2 )\n",
    "print( a + b )\n",
    "print( a * b )\n",
    "print( b[2] )\n",
    "b[2] = 99.9\n",
    "print( b )"
   ]
  },
  {
   "cell_type": "code",
   "execution_count": 4,
   "metadata": {},
   "outputs": [
    {
     "name": "stdout",
     "output_type": "stream",
     "text": [
      "1\n",
      "(3,)\n",
      "3\n"
     ]
    }
   ],
   "source": [
    "# Checking property of NP Array\n",
    "print( a.ndim )\n",
    "print( a.shape )\n",
    "print( a.shape[0] )"
   ]
  },
  {
   "cell_type": "code",
   "execution_count": 5,
   "metadata": {},
   "outputs": [
    {
     "name": "stdout",
     "output_type": "stream",
     "text": [
      "[[0. 1. 2.]\n",
      " [3. 4. 5.]]\n",
      "<class 'numpy.ndarray'>\n"
     ]
    }
   ],
   "source": [
    "# Make 2D Array\n",
    "c = np.array( [ [ 0.0, 1.0, 2.0 ], [ 3.0, 4.0, 5.0 ] ] )\n",
    "print( c )\n",
    "print( type(c) )"
   ]
  },
  {
   "cell_type": "code",
   "execution_count": 6,
   "metadata": {},
   "outputs": [],
   "source": []
  },
  {
   "cell_type": "code",
   "execution_count": null,
   "metadata": {},
   "outputs": [],
   "source": [
    "# Mordify c\n",
    "print( c + 10.0 )\n",
    "print( c * 10.0 )\n",
    "print( c + a )\n",
    "print( c * a )\n",
    "print( c[1][2] )\n",
    "c[1][2] = 99.9\n",
    "print( c )"
   ]
  }
 ],
 "metadata": {
  "kernelspec": {
   "display_name": "Python 3",
   "language": "python",
   "name": "python3"
  },
  "language_info": {
   "codemirror_mode": {
    "name": "ipython",
    "version": 3
   },
   "file_extension": ".py",
   "mimetype": "text/x-python",
   "name": "python",
   "nbconvert_exporter": "python",
   "pygments_lexer": "ipython3",
   "version": "3.6.6"
  }
 },
 "nbformat": 4,
 "nbformat_minor": 2
}
