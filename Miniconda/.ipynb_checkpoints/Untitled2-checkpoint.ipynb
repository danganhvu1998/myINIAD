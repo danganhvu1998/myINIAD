{
 "cells": [
  {
   "cell_type": "code",
   "execution_count": null,
   "metadata": {},
   "outputs": [],
   "source": [
    "def selection_sort(lst):\n",
    "    for i in range(len(lst) - 1):\n",
    "        min = lst[i]\n",
    "        minpos = i\n",
    "        for j in range(i + 1, len(lst)):\n",
    "            if lst[j] < min:\n",
    "                min = lst[j]\n",
    "                minpos = j\n",
    "        if i != minpos:\n",
    "            tmp = lst[i]\n",
    "            lst[i] = min\n",
    "            lst[minpos]=tmp\n",
    "    return lst\n",
    "\n",
    "def quick_sort(lst):\n",
    "    if len(lst) <= 1:\n",
    "        return lst\n",
    "    pivot = lst[0]\n",
    "    lst1 = [item for item in lst if item < pivot]\n",
    "    lst2 = [item for item in lst if item > pivot]\n",
    "    return quick_sort(lst1) + [pivot] + quick_sort(lst2)"
   ]
  }
 ],
 "metadata": {
  "kernelspec": {
   "display_name": "Python 3",
   "language": "python",
   "name": "python3"
  },
  "language_info": {
   "codemirror_mode": {
    "name": "ipython",
    "version": 3
   },
   "file_extension": ".py",
   "mimetype": "text/x-python",
   "name": "python",
   "nbconvert_exporter": "python",
   "pygments_lexer": "ipython3",
   "version": "3.6.6"
  }
 },
 "nbformat": 4,
 "nbformat_minor": 2
}
