{
 "cells": [
  {
   "cell_type": "markdown",
   "metadata": {},
   "source": [
    "### 問2 - 1.  /  Problem 2 - 1."
   ]
  },
  {
   "cell_type": "code",
   "execution_count": 1,
   "metadata": {},
   "outputs": [],
   "source": [
    "import numpy as np\n",
    "A = np.array ( [\n",
    " [  0,   1,   2  ], \n",
    " [  3,   4,   5  ],\n",
    " [  6,   7,   8  ],\n",
    " [  9,  10,  11  ]\n",
    "] )"
   ]
  },
  {
   "cell_type": "markdown",
   "metadata": {},
   "source": [
    "(1) 以下の、4要素から成る1次元配列 / The following 1-d array with 4 elements  \n",
    "```[  1   4   7   10 ]```"
   ]
  },
  {
   "cell_type": "code",
   "execution_count": 2,
   "metadata": {},
   "outputs": [
    {
     "name": "stdout",
     "output_type": "stream",
     "text": [
      "[ 1  4  7 10]\n"
     ]
    }
   ],
   "source": [
    "B = A[:, 1]\n",
    "print( B )"
   ]
  },
  {
   "cell_type": "markdown",
   "metadata": {},
   "source": [
    "(2) 以下の、4行1列の2次元配列 / The following 2-d array with 4 rows and 1 column    \n",
    "``[ [ 1 ] \n",
    "   [ 4 ]\n",
    "   [ 7 ] \n",
    "   [ 10 ] ]```"
   ]
  },
  {
   "cell_type": "code",
   "execution_count": 4,
   "metadata": {},
   "outputs": [
    {
     "name": "stdout",
     "output_type": "stream",
     "text": [
      "[[ 1]\n",
      " [ 4]\n",
      " [ 7]\n",
      " [10]]\n"
     ]
    }
   ],
   "source": [
    "B = A[:, 1:2]\n",
    "print( B )"
   ]
  },
  {
   "cell_type": "markdown",
   "metadata": {},
   "source": [
    "(3) 以下の、2行2列の2次元配列 / The following 2-d array with 2 rows and 2 columns  \n",
    "```[ [  4     5  ]\n",
    "   [  7     8  ] ]```"
   ]
  },
  {
   "cell_type": "code",
   "execution_count": 5,
   "metadata": {},
   "outputs": [
    {
     "name": "stdout",
     "output_type": "stream",
     "text": [
      "[[4 5]\n",
      " [7 8]]\n"
     ]
    }
   ],
   "source": [
    "B = A[1:3, 1:3]\n",
    "print( B )"
   ]
  },
  {
   "cell_type": "markdown",
   "metadata": {},
   "source": [
    "***\n",
    "\n",
    "### 問2 - 3.  /  Problem 2 - 3."
   ]
  },
  {
   "cell_type": "code",
   "execution_count": 6,
   "metadata": {},
   "outputs": [],
   "source": [
    "import numpy as np\n",
    "import matplotlib.pyplot as plt\n",
    "from sklearn.cluster import KMeans"
   ]
  },
  {
   "cell_type": "markdown",
   "metadata": {},
   "source": [
    "csvファイルのすべての数値データを2次元配列datに読み込む。  \n",
    "Read all numerical data in csv file into 2-d array \"dat\".  "
   ]
  },
  {
   "cell_type": "code",
   "execution_count": 8,
   "metadata": {},
   "outputs": [],
   "source": [
    "dat = np.loadtxt(  'data/cs2-data-midterm.csv',  delimiter=\",\",  skiprows=2  )"
   ]
  },
  {
   "cell_type": "markdown",
   "metadata": {},
   "source": [
    "datの1列目全体を1次元配列として取り出して配列x に代入。  \n",
    "Extract entire first column of \"dat\" as a 1-d array and put it into \"x\".  \n",
    "datの2列目全体を1次元配列として取り出して配列y に代入。  \n",
    "Extract entire second column of \"dat\" as a 1-d array and put it into \"y\".  "
   ]
  },
  {
   "cell_type": "code",
   "execution_count": null,
   "metadata": {},
   "outputs": [],
   "source": [
    "x = dat[   (15)   ]\n",
    "y = dat[   (16)   ]"
   ]
  },
  {
   "cell_type": "markdown",
   "metadata": {},
   "source": [
    "dat に対して、クラスタ数2 の k-means法を実行し、結果を配列km に代入。  \n",
    "Apply k-means clustering (#clusters is two) to \"dat\" and put the result into \"km\".  "
   ]
  },
  {
   "cell_type": "code",
   "execution_count": null,
   "metadata": {},
   "outputs": [],
   "source": [
    "km = KMeans(  n_clusters=(17)  ).fit_predict(   (18)   )"
   ]
  },
  {
   "cell_type": "markdown",
   "metadata": {},
   "source": [
    "クラスタ番号0, 1の点のx座標とy座標を、それぞれ配列x0, y0および配列x1, y1に取り出す。  \n",
    "Extract x, y coordinates of points of cluster 0 and cluster 1, and put them into \"x0\", \"y0\", and \"x1\", \"y1\", respectively.  "
   ]
  },
  {
   "cell_type": "code",
   "execution_count": null,
   "metadata": {},
   "outputs": [],
   "source": [
    "x0 = x[   (19) == 0   ]\n",
    "y0 = y[   (19) == 0   ]\n",
    "x1 = x[   (19) == 1   ]\n",
    "y1 = y[   (19) == 1   ]"
   ]
  },
  {
   "cell_type": "markdown",
   "metadata": {},
   "source": [
    "散布図(クラス0:青点、クラス1:緑点)の描画(軸ラベルと凡例を入れる)。   \n",
    "Draw a scatter plot (class 0: blue, class 1: green) with axis labels and a legend."
   ]
  },
  {
   "cell_type": "code",
   "execution_count": null,
   "metadata": {
    "scrolled": true
   },
   "outputs": [],
   "source": [
    "plt.scatter(  (20),  color='blue',  label='class0'  )\n",
    "plt.scatter(  (21),  color='green',  label='class1'  )\n",
    "plt.xlabel('Height [m]')\n",
    "plt.ylabel('Weight [kg]')\n",
    "plt.legend()\n",
    "plt.show()"
   ]
  }
 ],
 "metadata": {
  "kernelspec": {
   "display_name": "Python 3",
   "language": "python",
   "name": "python3"
  },
  "language_info": {
   "codemirror_mode": {
    "name": "ipython",
    "version": 3
   },
   "file_extension": ".py",
   "mimetype": "text/x-python",
   "name": "python",
   "nbconvert_exporter": "python",
   "pygments_lexer": "ipython3",
   "version": "3.6.6"
  }
 },
 "nbformat": 4,
 "nbformat_minor": 2
}
