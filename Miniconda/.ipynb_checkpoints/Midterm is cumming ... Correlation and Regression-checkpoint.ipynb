{
 "cells": [
  {
   "cell_type": "code",
   "execution_count": 1,
   "metadata": {},
   "outputs": [],
   "source": [
    "#Import \n",
    "import numpy as np\n",
    "import matplotlib.pyplot as plt\n",
    "from scipy.stats import pearsonr\n",
    "from sklearn.linear_model import LinearRegression\n",
    "from sklearn import metrics"
   ]
  },
  {
   "cell_type": "code",
   "execution_count": 2,
   "metadata": {},
   "outputs": [
    {
     "name": "stdout",
     "output_type": "stream",
     "text": [
      "(50, 2)\n",
      "correlation coefficient: 0.7467803732639268\n",
      "p value: 4.751986580148956e-10\n"
     ]
    }
   ],
   "source": [
    "sepal=np.loadtxt('data/iris_sepal_cl0.csv', delimiter=',', skiprows=1)\n",
    "print( sepal.shape )\n",
    "\n",
    "s_len=sepal[:, 0]\n",
    "s_width=sepal[:, 1]\n",
    "\n",
    "r, p=pearsonr(s_len, s_width)\n",
    "#R(cc) value indicate how strong the connect between 2 data sets is\n",
    "print(\"correlation coefficient:\", r)\n",
    "#P value indicate how trustable r(cc) value is. 0 is very trustable\n",
    "print(\"p value:\", p)"
   ]
  },
  {
   "cell_type": "code",
   "execution_count": 3,
   "metadata": {},
   "outputs": [
    {
     "name": "stdout",
     "output_type": "stream",
     "text": [
      "(50, 1)\n",
      "[3.49387996 3.33243323 3.1709865  3.09026313 3.4131566  3.73605006\n",
      " 3.09026313 3.4131566  2.9288164  3.33243323 3.73605006 3.25170986\n",
      " 3.25170986 2.84809303 4.05894353 3.97822016 3.73605006 3.49387996\n",
      " 3.97822016 3.49387996 3.73605006 3.49387996 3.09026313 3.49387996\n",
      " 3.25170986 3.4131566  3.4131566  3.57460333 3.57460333 3.1709865\n",
      " 3.25170986 3.73605006 3.57460333 3.81677343 3.33243323 3.4131566\n",
      " 3.81677343 3.33243323 2.9288164  3.49387996 3.4131566  3.00953977\n",
      " 2.9288164  3.4131566  3.49387996 3.25170986 3.49387996 3.09026313\n",
      " 3.6553267  3.4131566 ]\n",
      "\n",
      "a: -0.623011727604216\n",
      "b: 0.807233665122696\n",
      "\n",
      "MSE: 0.06293138858775997\n",
      "R2: 0.5576809258922097\n"
     ]
    }
   ],
   "source": [
    "s_len_2d=sepal[:, :1] # .fit require 2d array\n",
    "print( s_len_2d.shape )\n",
    "\n",
    "#Find the line present the data set\n",
    "reg=LinearRegression()\n",
    "reg.fit(s_len_2d, s_width)\n",
    "pred=reg.predict(s_len_2d)\n",
    "print(pred)\n",
    "print()\n",
    "\n",
    "#Take the line y = a+b*x\n",
    "a=reg.intercept_\n",
    "b=reg.coef_[0]\n",
    "print(\"a:\", a)\n",
    "print(\"b:\", b)\n",
    "print()\n",
    "\n",
    "#Calculate Error between realNumber with predictedNumber\n",
    "MSE=metrics.mean_squared_error(s_width, pred)\n",
    "R2=metrics.r2_score(s_width, pred)\n",
    "print(\"MSE:\", MSE)\n",
    "print(\"R2:\", R2)\n"
   ]
  },
  {
   "cell_type": "code",
   "execution_count": 4,
   "metadata": {},
   "outputs": [
    {
     "name": "stdout",
     "output_type": "stream",
     "text": [
      "Start Point: 4.3 2.848093032423377\n",
      "  End Point: 5.8 4.05894353010742\n"
     ]
    },
    {
     "data": {
      "image/png": "[encoded data removed]",
      "text/plain": [
       "<Figure size 432x288 with 1 Axes>"
      ]
     },
     "metadata": {
      "needs_background": "light"
     },
     "output_type": "display_data"
    }
   ],
   "source": [
    "xmin=np.amin(s_len)\n",
    "xmax=np.amax(s_len)\n",
    "x=np.array([xmin, xmax])\n",
    "y=a+b*x\n",
    "print('Start Point:', x[0], y[0])\n",
    "print('  End Point:', x[1], y[1])\n",
    "\n",
    "lin_label=\"Y={0:.3f}+{1:.3f}*X\".format(a, b)\n",
    "plt.scatter(s_len, s_width, s=3)\n",
    "plt.plot(x, y, color='red', linewidth=2, label=lin_label)\n",
    "plt.xlabel('sepal_len [cm]')\n",
    "plt.ylabel('sepal_width [cm]')\n",
    "plt.legend()\n",
    "plt.show()"
   ]
  },
  {
   "cell_type": "markdown",
   "metadata": {},
   "source": [
    "# Assignment with different database"
   ]
  },
  {
   "cell_type": "code",
   "execution_count": 5,
   "metadata": {},
   "outputs": [
    {
     "name": "stdout",
     "output_type": "stream",
     "text": [
      "R = 0.7866680885228168 \n",
      "P = 1.2719157063236543e-11 \n",
      "\n",
      "y=a+b*x\n",
      "a = -0.08428835489833686 \n",
      "b = 0.3310536044362293 \n",
      "\n",
      "MSE: 0.014607319778188544\n",
      "R2: 0.6188466815001423 \n",
      "\n",
      "Start Point: 3.0 0.9088724584103509\n",
      "  End Point: 5.1 1.6040850277264322 \n",
      "\n"
     ]
    },
    {
     "data": {
      "image/png": "[encoded data removed]",
      "text/plain": [
       "<Figure size 432x288 with 1 Axes>"
      ]
     },
     "metadata": {
      "needs_background": "light"
     },
     "output_type": "display_data"
    }
   ],
   "source": [
    "sepal=np.loadtxt('data/iris_petal_cl1.csv', delimiter=',', skiprows=1)\n",
    "\n",
    "#split data\n",
    "s_len=sepal[:, 0]\n",
    "s_width=sepal[:, 1]\n",
    "\n",
    "#calculate r(cc) and p value\n",
    "r, p=pearsonr(s_len, s_width)\n",
    "print(\"R =\", r, \"\\nP =\", p, \"\\n\")\n",
    "\n",
    "#make 2d array\n",
    "s_len_2d=sepal[:, :1]\n",
    "\n",
    "#calculate line represent data set\n",
    "reg=LinearRegression()\n",
    "reg.fit(s_len_2d, s_width)\n",
    "pred=reg.predict(s_len_2d)\n",
    "a=reg.intercept_\n",
    "b=reg.coef_[0]\n",
    "print(\"y=a+b*x\\na =\", a, \"\\nb =\", b,\"\\n\")\n",
    "\n",
    "#calculate error\n",
    "MSE=metrics.mean_squared_error(s_width, pred)\n",
    "R2=metrics.r2_score(s_width, pred)\n",
    "print(\"MSE:\", MSE)\n",
    "print(\"R2:\", R2, \"\\n\")\n",
    "\n",
    "xmin=np.amin(s_len)\n",
    "xmax=np.amax(s_len)\n",
    "x=np.array([xmin, xmax])\n",
    "y=a+b*x\n",
    "print('Start Point:', x[0], y[0])\n",
    "print('  End Point:', x[1], y[1], \"\\n\")\n",
    "\n",
    "#show graph\n",
    "lin_label=\"Y={0:.3f}+{1:.3f}*X\".format(a, b)\n",
    "plt.scatter(s_len, s_width, s=5)\n",
    "plt.plot(x, y, color='red', linewidth=1, label=lin_label)\n",
    "plt.xlabel('sepal_len [cm]')\n",
    "plt.ylabel('sepal_width [cm]')\n",
    "plt.legend()\n",
    "plt.show()"
   ]
  },
  {
   "cell_type": "code",
   "execution_count": null,
   "metadata": {},
   "outputs": [],
   "source": []
  }
 ],
 "metadata": {
  "kernelspec": {
   "display_name": "Python 3",
   "language": "python",
   "name": "python3"
  },
  "language_info": {
   "codemirror_mode": {
    "name": "ipython",
    "version": 3
   },
   "file_extension": ".py",
   "mimetype": "text/x-python",
   "name": "python",
   "nbconvert_exporter": "python",
   "pygments_lexer": "ipython3",
   "version": "3.6.6"
  }
 },
 "nbformat": 4,
 "nbformat_minor": 2
}
