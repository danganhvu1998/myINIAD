{
 "cells": [
  {
   "cell_type": "code",
   "execution_count": 4,
   "metadata": {},
   "outputs": [
    {
     "name": "stdout",
     "output_type": "stream",
     "text": [
      "p-value is 0.0033777740043244952\n",
      "帰無仮説棄却 Reject H0\n"
     ]
    }
   ],
   "source": [
    "#DL1.\n",
    "import numpy as np\n",
    "from scipy import stats\n",
    "from scipy.stats import norm\n",
    "\n",
    "x1 = np.array([84.8,89.3,89.0,89.4,77.4,90.3,89.9,84.5,86.4,76.1])\n",
    "x2 = np.array([99.6,91.3,92.5,87.7,91.2,99.4,91.1,88.8,91.8,93.9])\n",
    "\n",
    "stat_t,p = stats.ttest_ind(x1,x2,equal_var=False)\n",
    "p_val = p\n",
    "print(\"p-value is\",p_val)\n",
    "if p_val<0.05:\n",
    "    print(\"帰無仮説棄却 Reject H0\")\n",
    "else:\n",
    "    print(\"帰無仮説棄却できない  Cannot reject H0\")"
   ]
  },
  {
   "cell_type": "code",
   "execution_count": 11,
   "metadata": {},
   "outputs": [
    {
     "name": "stdout",
     "output_type": "stream",
     "text": [
      "p-value is 0.030120077308273596\n",
      "帰無仮説棄却 Reject H0\n"
     ]
    }
   ],
   "source": [
    "#DL2.\n",
    "import numpy as np\n",
    "from scipy import stats\n",
    "from scipy.stats import norm\n",
    "\n",
    "x1 = np.array([20,49,30,67,23,55,45,72,59])\n",
    "x2 = np.array([34,68,88,46,96,42,73,74,63,66,90])\n",
    "\n",
    "stat_t,p = stats.ttest_ind(x1,x2,equal_var=False)\n",
    "p_val = p\n",
    "print(\"p-value is\",p_val)\n",
    "if p_val<0.05:\n",
    "    print(\"帰無仮説棄却 Reject H0\")\n",
    "else:\n",
    "    print(\"帰無仮説棄却できない  Cannot reject H0\")"
   ]
  },
  {
   "cell_type": "code",
   "execution_count": 12,
   "metadata": {},
   "outputs": [
    {
     "name": "stdout",
     "output_type": "stream",
     "text": [
      "p-value is 0.02480007672589995\n",
      "帰無仮説棄却 Reject H0\n"
     ]
    }
   ],
   "source": [
    "#DL3.\n",
    "import numpy as np\n",
    "from scipy import stats\n",
    "from scipy.stats import norm\n",
    "\n",
    "x1 = np.array([73,94,89,92,49,28,99,75,9,79,31])\n",
    "x2 = np.array([33,22,43,30,33,63,46,57,25])\n",
    "\n",
    "stat_t,p = stats.ttest_ind(x1,x2,equal_var=False)\n",
    "p_val = p\n",
    "print(\"p-value is\",p_val)\n",
    "if p_val<0.05:\n",
    "    print(\"帰無仮説棄却 Reject H0\")\n",
    "else:\n",
    "    print(\"帰無仮説棄却できない  Cannot reject H0\")"
   ]
  },
  {
   "cell_type": "code",
   "execution_count": 13,
   "metadata": {},
   "outputs": [
    {
     "name": "stdout",
     "output_type": "stream",
     "text": [
      "p-value is\n",
      "0.004494913051228144\n",
      "帰無仮説棄却 Reject H0\n"
     ]
    }
   ],
   "source": [
    "#DL4.\n",
    "import numpy as np\n",
    "from scipy import stats\n",
    "from scipy.stats import t\n",
    "\n",
    "x1 = np.array([53.1, 50.3, 59.5, 62.0, 58.6, 56.5, 53.5])\n",
    "x2 = np.array([51.3, 48.8, 53.6, 56.2, 52.5, 53.0, 53.4])\n",
    "X=x1-x2\n",
    "\n",
    "mu_0=0\n",
    "X_mean=X.mean()\n",
    "X_sd=np.std(X,ddof=1)\n",
    "N=X.size\n",
    "\n",
    "stats_t = (X_mean -mu_0)/ (X_sd / np.sqrt(N))\n",
    "p_val = t.cdf( -np.abs(stats_t),df=N-1)\n",
    "\n",
    "print(\"p-value is\")\n",
    "print(p_val)\n",
    "\n",
    "if p_val<0.05:\n",
    "    print(\"帰無仮説棄却 Reject H0\")\n",
    "else:\n",
    "    print(\"帰無仮説棄却できない  Cannot reject H0\")"
   ]
  },
  {
   "cell_type": "code",
   "execution_count": 14,
   "metadata": {},
   "outputs": [
    {
     "name": "stdout",
     "output_type": "stream",
     "text": [
      "p-value is 0.012227459271324176\n",
      "帰無仮説棄却 Reject H0\n"
     ]
    }
   ],
   "source": [
    "#DL5.\n",
    "import numpy as np\n",
    "from scipy import stats\n",
    "from scipy.stats import norm\n",
    "\n",
    "M1=40.2\n",
    "M2=36.4\n",
    "\n",
    "sd1=np.sqrt(25.5)\n",
    "sd2=np.sqrt(16.0)\n",
    "\n",
    "N1=20\n",
    "N2=20\n",
    "\n",
    "stat_t = (M1-M2)/np.sqrt( pow(sd1,2)/N1 + pow(sd2,2)/N2 )\n",
    "m11= pow(sd1,2)/N1 + pow(sd2,2)/N2\n",
    "m1 = pow(m11,2)\n",
    "m2 = pow(sd1,4)/(pow(N1,2)*(N1-1)) + pow(sd2,4)/(pow(N2,2)*(N2-1) )\n",
    "df_val=m1/m2\n",
    "p_val = stats.t.cdf(-np.abs(stat_t),df=df_val)\n",
    "print(\"p-value is\",p_val)\n",
    "\n",
    "if p_val<0.05:\n",
    "    print(\"帰無仮説棄却 Reject H0\")\n",
    "else:\n",
    "    print(\"帰無仮説棄却できない  Cannot reject H0\")"
   ]
  },
  {
   "cell_type": "code",
   "execution_count": 15,
   "metadata": {},
   "outputs": [
    {
     "name": "stdout",
     "output_type": "stream",
     "text": [
      "p-value is 0.014890252415938336\n",
      "帰無仮説棄却 Reject H0\n"
     ]
    }
   ],
   "source": [
    "#DL6.\n",
    "import numpy as np\n",
    "from scipy import stats\n",
    "from scipy.stats import norm\n",
    "\n",
    "x1 = np.array([6,5,10])\n",
    "x2 = np.array([12,16,22,8,17])\n",
    "\n",
    "stat_t,p = stats.ttest_ind(x1,x2,equal_var=False)\n",
    "p_val = p/2\n",
    "print(\"p-value is\",p_val)\n",
    "\n",
    "if p_val<0.05:\n",
    "    print(\"帰無仮説棄却 Reject H0\")\n",
    "else:\n",
    "    print(\"帰無仮説棄却できない  Cannot reject H0\")"
   ]
  },
  {
   "cell_type": "code",
   "execution_count": 16,
   "metadata": {},
   "outputs": [
    {
     "name": "stdout",
     "output_type": "stream",
     "text": [
      "p-value is 0.005764104981924403\n",
      "帰無仮説棄却 Reject H0\n"
     ]
    }
   ],
   "source": [
    "#DL7.\n",
    "import numpy as np\n",
    "from scipy import stats\n",
    "from scipy.stats import norm\n",
    "\n",
    "M1=15.3\n",
    "M2=17.2\n",
    "\n",
    "sd1=2.5\n",
    "sd2=4.3\n",
    "\n",
    "N1=50\n",
    "N2=45\n",
    "\n",
    "stat_t = (M1-M2)/np.sqrt( pow(sd1,2)/N1 + pow(sd2,2)/N2 )\n",
    "m11= pow(sd1,2)/N1 + pow(sd2,2)/N2\n",
    "m1 = pow(m11,2)\n",
    "m2 = pow(sd1,4)/(pow(N1,2)*(N1-1)) + pow(sd2,4)/(pow(N2,2)*(N2-1) )\n",
    "df_val=m1/m2\n",
    "p_val = stats.t.cdf(-np.abs(stat_t),df=df_val)\n",
    "print(\"p-value is\",p_val)\n",
    "\n",
    "if p_val<0.05:\n",
    "    print(\"帰無仮説棄却 Reject H0\")\n",
    "else:\n",
    "    print(\"帰無仮説棄却できない  Cannot reject H0\")"
   ]
  },
  {
   "cell_type": "code",
   "execution_count": 17,
   "metadata": {},
   "outputs": [
    {
     "name": "stdout",
     "output_type": "stream",
     "text": [
      "p-value is 0.0016366172926453044\n",
      "帰無仮説棄却 Reject H0\n"
     ]
    }
   ],
   "source": [
    "#DL8.\n",
    "import numpy as np\n",
    "from scipy import stats\n",
    "from scipy.stats import norm\n",
    "\n",
    "M1=5.3\n",
    "M2=4.9\n",
    "\n",
    "sd1=0.1\n",
    "sd2=0.9\n",
    "\n",
    "N1=70\n",
    "N2=56\n",
    "\n",
    "stat_t = (M1-M2)/np.sqrt( pow(sd1,2)/N1 + pow(sd2,2)/N2 )\n",
    "m11= pow(sd1,2)/N1 + pow(sd2,2)/N2\n",
    "m1 = pow(m11,2)\n",
    "m2 = pow(sd1,4)/(pow(N1,2)*(N1-1)) + pow(sd2,4)/(pow(N2,2)*(N2-1) )\n",
    "df_val=m1/m2\n",
    "p_val = stats.t.cdf(-np.abs(stat_t),df=df_val)*2\n",
    "print(\"p-value is\",p_val)\n",
    "\n",
    "if p_val<0.05:\n",
    "    print(\"帰無仮説棄却 Reject H0\")\n",
    "else:\n",
    "    print(\"帰無仮説棄却できない  Cannot reject H0\")"
   ]
  },
  {
   "cell_type": "code",
   "execution_count": 18,
   "metadata": {},
   "outputs": [
    {
     "name": "stdout",
     "output_type": "stream",
     "text": [
      "p-value is 0.0009365882748673731\n",
      "帰無仮説棄却 Reject H0\n"
     ]
    }
   ],
   "source": [
    "#DL9.\n",
    "import numpy as np\n",
    "from scipy import stats\n",
    "from scipy.stats import norm\n",
    "\n",
    "M1=19.5\n",
    "M2=23.5\n",
    "\n",
    "sd1=np.sqrt(12.62)\n",
    "sd2=np.sqrt(8.00)\n",
    "\n",
    "N1=18\n",
    "N2=16\n",
    "\n",
    "stat_t = (M1-M2)/np.sqrt( pow(sd1,2)/N1 + pow(sd2,2)/N2 )\n",
    "m11= pow(sd1,2)/N1 + pow(sd2,2)/N2\n",
    "m1 = pow(m11,2)\n",
    "m2 = pow(sd1,4)/(pow(N1,2)*(N1-1)) + pow(sd2,4)/(pow(N2,2)*(N2-1) )\n",
    "df_val=m1/m2\n",
    "p_val = stats.t.cdf(-np.abs(stat_t),df=df_val)*2\n",
    "print(\"p-value is\",p_val)\n",
    "\n",
    "if p_val<0.05:\n",
    "    print(\"帰無仮説棄却 Reject H0\")\n",
    "else:\n",
    "    print(\"帰無仮説棄却できない  Cannot reject H0\")"
   ]
  },
  {
   "cell_type": "code",
   "execution_count": null,
   "metadata": {},
   "outputs": [],
   "source": [
    "import numpy as  np \n",
    "from scipy import stats\n",
    "from scipy.stats import t\n",
    "\n",
    "x1 = np.array([53.1, 50.3, 59.5, 62, 58.6, 56.5, 53.5])\n",
    "x2 = np.array([51.3, 48.5, 53.6, 56.2, 52.5, 53, 53.4])\n",
    "X = x1 - x2;\n",
    "twoside = 0\n",
    "mu_0 = 0\n",
    "avg = X.mean()\n",
    "std = np.std(X, ddof = 1)\n",
    "N = X.size\n",
    "stat_t = (avg - mu_0) / (std / np.sqrt(N))\n",
    "p = t.pdf(-np.abs(stat_t), df = (N-1))*(1+twoside)\n",
    "\n",
    "print(\"Stat_t =\", stat_t)\n",
    "print(\"AVG = \", avg)\n",
    "print(\"P =\", p)\n",
    "print(\"^^^^^^^^^^^^^^^^^^^^^^^^^^^^^^^^^^^^^^^^^^^\")\n",
    "if(p>=0.05):\n",
    "    print(\"==========> Cannot reject H0\")\n",
    "else:\n",
    "    print(\"==========> Can reject H0\")\n",
    "print(\"~~~~~~~~~~~~~~~~~~~~~~~~~~~~~~~~~~~~~~~~~~~~\")"
   ]
  }
 ],
 "metadata": {
  "kernelspec": {
   "display_name": "Python 3",
   "language": "python",
   "name": "python3"
  },
  "language_info": {
   "codemirror_mode": {
    "name": "ipython",
    "version": 3
   },
   "file_extension": ".py",
   "mimetype": "text/x-python",
   "name": "python",
   "nbconvert_exporter": "python",
   "pygments_lexer": "ipython3",
   "version": "3.7.3"
  }
 },
 "nbformat": 4,
 "nbformat_minor": 2
}
