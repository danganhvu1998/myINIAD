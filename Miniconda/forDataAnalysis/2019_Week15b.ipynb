{
 "cells": [
  {
   "cell_type": "code",
   "execution_count": 56,
   "metadata": {},
   "outputs": [
    {
     "name": "stdout",
     "output_type": "stream",
     "text": [
      "p-value is\n",
      "0.5369027187014798\n",
      "帰無仮説棄却できない Cannot reject H0.\n"
     ]
    }
   ],
   "source": [
    "#2019_StatI_Week15_Ex2.\n",
    "import numpy as np\n",
    "from scipy import stats\n",
    "from scipy.stats import t\n",
    "mu_0=25.5\n",
    "X_mean=25.29\n",
    "X_sd=np.sqrt(2.23)\n",
    "N=20\n",
    "\n",
    "stats_t = (X_mean - mu_0)/(X_sd/np.sqrt(N))\n",
    "p_val = t.cdf(-np.abs(stats_t),df=N-1)*2\n",
    "print(\"p-value is\")\n",
    "print(p_val)\n",
    "\n",
    "if p_val<0.05:\n",
    "    print(\"帰無仮説棄却 Reject H0.\")\n",
    "else:\n",
    "    print(\"帰無仮説棄却できない Cannot reject H0.\")"
   ]
  },
  {
   "cell_type": "code",
   "execution_count": 57,
   "metadata": {},
   "outputs": [
    {
     "name": "stdout",
     "output_type": "stream",
     "text": [
      "p-value is\n",
      "0.0011257483136483594\n",
      "帰無仮説棄却 Reject H0.\n"
     ]
    }
   ],
   "source": [
    "#2019_StatI_Week15_Ex3.\n",
    "import numpy as np\n",
    "from scipy import stats\n",
    "from scipy.stats import t\n",
    "\n",
    "mu_0=21\n",
    "X_mean = 25\n",
    "X_sd = 3\n",
    "\n",
    "N=10\n",
    "stats_t = (X_mean -mu_0)/ (X_sd / np.sqrt(N))\n",
    "p_val = t.cdf( -np.abs(stats_t),df=N-1)\n",
    "\n",
    "print(\"p-value is\")\n",
    "print(p_val)\n",
    "\n",
    "if p_val<0.05:\n",
    "    print(\"帰無仮説棄却 Reject H0.\")\n",
    "else:\n",
    "    print(\"帰無仮説棄却できない Cannot reject H0.\")"
   ]
  },
  {
   "cell_type": "code",
   "execution_count": 58,
   "metadata": {},
   "outputs": [
    {
     "name": "stdout",
     "output_type": "stream",
     "text": [
      "p-value is\n",
      "3.7009201398846437e-82\n",
      "帰無仮説棄却 Reject H0.\n"
     ]
    }
   ],
   "source": [
    "#2019_StatI_Week15_Ex4.\n",
    "import numpy as np\n",
    "from scipy import stats\n",
    "from scipy.stats import norm\n",
    "\n",
    "mu_0=9.8\n",
    "X_mean = 7.4\n",
    "X_sd = 0.5\n",
    "N=16\n",
    "\n",
    "z = (X_mean -mu_0)/ (X_sd / np.sqrt(N))\n",
    "p_val = norm.cdf( -np.abs(z),0,1)*2\n",
    "\n",
    "print(\"p-value is\")\n",
    "print(p_val)\n",
    "\n",
    "if p_val<0.05:\n",
    "    print(\"帰無仮説棄却 Reject H0.\")\n",
    "else:\n",
    "    print(\"帰無仮説棄却できない Cannot reject H0.\")"
   ]
  },
  {
   "cell_type": "code",
   "execution_count": 59,
   "metadata": {},
   "outputs": [
    {
     "name": "stdout",
     "output_type": "stream",
     "text": [
      "p-value is\n",
      "0.004772875717597794\n",
      "帰無仮説棄却 Reject H0.\n"
     ]
    }
   ],
   "source": [
    "#2019_StatI_Week15_Ex5.\n",
    "import numpy as np\n",
    "from scipy import stats\n",
    "from scipy.stats import norm\n",
    "\n",
    "M1=93\n",
    "M2=87\n",
    "\n",
    "sd1=3.7\n",
    "sd2=3.9\n",
    "\n",
    "N1=10\n",
    "N2=8\n",
    "\n",
    "stat_t = (M2-M1)/np.sqrt( pow(sd1,2)/N1 + pow(sd2,2)/N2 )\n",
    "\n",
    "m11= pow(sd1,2)/N1 + pow(sd2,2)/N2\n",
    "m1 = pow(m11,2)\n",
    "m2 = pow(sd1,4)/pow(N1,2)/(N1-1) + pow(sd2,4)/pow(N2,2)/(N2-1) \n",
    "df_val=m1/m2\n",
    "\n",
    "p_val = stats.t.cdf(-np.abs(stat_t),df=df_val)*2\n",
    "\n",
    "print(\"p-value is\")\n",
    "print(p_val)\n",
    "\n",
    "if p_val<0.05:\n",
    "    print(\"帰無仮説棄却 Reject H0.\")\n",
    "else:\n",
    "    print(\"帰無仮説棄却できない Cannot reject H0.\")"
   ]
  },
  {
   "cell_type": "code",
   "execution_count": 60,
   "metadata": {},
   "outputs": [
    {
     "name": "stdout",
     "output_type": "stream",
     "text": [
      "p-value is\n",
      "0.03485039835728147\n",
      "帰無仮説棄却 Reject H0.\n"
     ]
    }
   ],
   "source": [
    "#2019_StatI_Week15_Ex6.\n",
    "import numpy as np\n",
    "from scipy import stats\n",
    "from scipy.stats import norm\n",
    "\n",
    "M1=3.67\n",
    "M2=2.77\n",
    "\n",
    "sd1=1.79\n",
    "sd2=1.29\n",
    "\n",
    "N1=24\n",
    "N2=48\n",
    "\n",
    "stat_t = (M2-M1)/np.sqrt( pow(sd1,2)/N1 + pow(sd2,2)/N2 )\n",
    "\n",
    "m11= pow(sd1,2)/N1 + pow(sd2,2)/N2\n",
    "m1 = pow(m11,2)\n",
    "m2 = pow(sd1,4)/pow(N1,2)/(N1-1) + pow(sd2,4)/pow(N2,2)/(N2-1) \n",
    "df_val=m1/m2\n",
    "\n",
    "p_val = stats.t.cdf(-np.abs(stat_t),df=df_val)*2\n",
    "\n",
    "print(\"p-value is\")\n",
    "print(p_val)\n",
    "\n",
    "if p_val<0.05:\n",
    "    print(\"帰無仮説棄却 Reject H0.\")\n",
    "else:\n",
    "    print(\"帰無仮説棄却できない Cannot reject H0.\") "
   ]
  },
  {
   "cell_type": "code",
   "execution_count": 61,
   "metadata": {},
   "outputs": [
    {
     "name": "stdout",
     "output_type": "stream",
     "text": [
      "p-value is\n",
      "0.0006985268118186147\n",
      "帰無仮説棄却 Reject H0.\n"
     ]
    }
   ],
   "source": [
    "#2019_StatI_Week15_Ex7.\n",
    "import numpy as np\n",
    "from scipy import stats\n",
    "from scipy.stats import norm\n",
    "\n",
    "M1=15400\n",
    "M2=18600\n",
    "\n",
    "sd1=2810\n",
    "sd2=4720\n",
    "\n",
    "N1=25\n",
    "N2=45\n",
    "\n",
    "stat_t = (M1-M2)/np.sqrt( pow(sd1,2)/N1 + pow(sd2,2)/N2 )\n",
    "\n",
    "m11= pow(sd1,2)/N1 + pow(sd2,2)/N2\n",
    "m1 = pow(m11,2)\n",
    "m2 = pow(sd1,4)/(pow(N1,2)*(N1-1)) + pow(sd2,4)/(pow(N2,2)*(N2-1) )\n",
    "df_val=m1/m2\n",
    "\n",
    "p_val = stats.t.cdf(-np.abs(stat_t),df=df_val)*2\n",
    "\n",
    "print(\"p-value is\")\n",
    "print(p_val)\n",
    "\n",
    "if p_val<0.05:\n",
    "    print(\"帰無仮説棄却 Reject H0.\")\n",
    "else:\n",
    "    print(\"帰無仮説棄却できない Cannot reject H0.\")  "
   ]
  },
  {
   "cell_type": "code",
   "execution_count": 62,
   "metadata": {},
   "outputs": [
    {
     "name": "stdout",
     "output_type": "stream",
     "text": [
      "p-value is 0.3824527698717164\n",
      "帰無仮説棄却できない Cannot reject H0.\n"
     ]
    }
   ],
   "source": [
    "#2019_StatI_Week15_Ex8.\n",
    "import numpy as np\n",
    "from scipy import stats\n",
    "from scipy.stats import norm\n",
    "\n",
    "M1=10.56\n",
    "M2=8.22\n",
    "\n",
    "sd1=10.68\n",
    "sd2=2.17\n",
    "\n",
    "N1=18\n",
    "N2=9\n",
    "\n",
    "stat_t = (M1-M2)/np.sqrt( pow(sd1,2)/N1 + pow(sd2,2)/N2 )\n",
    "\n",
    "m11= pow(sd1,2)/N1 + pow(sd2,2)/N2\n",
    "m1 = pow(m11,2)\n",
    "m2 = pow(sd1,4)/(pow(N1,2)*(N1-1)) + pow(sd2,4)/(pow(N2,2)*(N2-1) )\n",
    "df_val=m1/m2\n",
    "p_val = stats.t.cdf(-np.abs(stat_t),df=df_val)*2\n",
    "\n",
    "print(\"p-value is\",p_val)\n",
    "\n",
    "if p_val<0.05:\n",
    "    print(\"帰無仮説棄却 Reject H0.\")\n",
    "else:\n",
    "    print(\"帰無仮説棄却できない Cannot reject H0.\")  "
   ]
  },
  {
   "cell_type": "code",
   "execution_count": 63,
   "metadata": {},
   "outputs": [
    {
     "name": "stdout",
     "output_type": "stream",
     "text": [
      "p-value is 0.12402045819753468\n",
      "帰無仮説棄却できない Cannot reject H0.\n"
     ]
    }
   ],
   "source": [
    "#2019_StatI_Week15_Ex9.\n",
    "import numpy as np\n",
    "from scipy import stats\n",
    "from scipy.stats import norm\n",
    "\n",
    "M1=25356\n",
    "M2=32430\n",
    "\n",
    "sd1=21171\n",
    "sd2=24663\n",
    "\n",
    "N1=52\n",
    "N2=50\n",
    "\n",
    "stat_t = (M1-M2)/np.sqrt( pow(sd1,2)/N1 + pow(sd2,2)/N2 )\n",
    "\n",
    "m11= pow(sd1,2)/N1 + pow(sd2,2)/N2\n",
    "m1 = pow(m11,2)\n",
    "m2 = pow(sd1,4)/(pow(N1,2)*(N1-1)) + pow(sd2,4)/(pow(N2,2)*(N2-1) )\n",
    "df_val=m1/m2\n",
    "p_val = stats.t.cdf(-np.abs(stat_t),df=df_val)*2\n",
    "print(\"p-value is\",p_val)\n",
    "\n",
    "if p_val<0.05:\n",
    "    print(\"帰無仮説棄却 Reject H0.\")\n",
    "else:\n",
    "    print(\"帰無仮説棄却できない Cannot reject H0.\")  "
   ]
  },
  {
   "cell_type": "code",
   "execution_count": 1,
   "metadata": {},
   "outputs": [
    {
     "name": "stdout",
     "output_type": "stream",
     "text": [
      "p-value is 0.038039351521925495\n",
      "帰無仮説棄却 Reject H0.\n"
     ]
    }
   ],
   "source": [
    "#2019_StatI_Week15_Ex10.\n",
    "import numpy as np\n",
    "from scipy import stats\n",
    "from scipy.stats import norm\n",
    "\n",
    "x1 = np.array([53.1, 50.3, 59.5, 62, 58.6, 56.5, 53.5])\n",
    "x2 = np.array([51.3, 48.5, 53.6, 56.2, 52.5, 53, 53.4])\n",
    "\n",
    "stat_t,p = stats.ttest_ind(x1,x2,equal_var=False)\n",
    "p_val = p/2\n",
    "print(\"p-value is\",p_val)\n",
    "\n",
    "if p_val<0.05:\n",
    "    print(\"帰無仮説棄却 Reject H0.\")\n",
    "else:\n",
    "    print(\"帰無仮説棄却できない Cannot reject H0.\")  "
   ]
  },
  {
   "cell_type": "markdown",
   "metadata": {},
   "source": [
    "# 以上"
   ]
  }
 ],
 "metadata": {
  "kernelspec": {
   "display_name": "Python 3",
   "language": "python",
   "name": "python3"
  },
  "language_info": {
   "codemirror_mode": {
    "name": "ipython",
    "version": 3
   },
   "file_extension": ".py",
   "mimetype": "text/x-python",
   "name": "python",
   "nbconvert_exporter": "python",
   "pygments_lexer": "ipython3",
   "version": "3.7.3"
  }
 },
 "nbformat": 4,
 "nbformat_minor": 2
}
