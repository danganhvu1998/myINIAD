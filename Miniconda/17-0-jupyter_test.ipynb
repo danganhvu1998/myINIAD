{
 "cells": [
  {
   "cell_type": "markdown",
   "metadata": {},
   "source": [
    "上の「Cell」メニューの「Run All」をクリックすると、下のセルのプログラムが実行されます。  \n",
    "実行中は、セルの左にある「In」の右が [ \\* ]となり、実行が終了したら \\* が数字に変わります。   \n",
    "多くの場合1分程度で終わると思います。  \n",
    "「OK」の上に右上がりのグラフが出力されていれば正常です。  \n",
    "「Load」以降に表示されている内容を提出してください。  \n",
    "※ 動作チェック用なので、プログラムの意味はわからなくてもＯＫです！  \n",
    "\n",
    "* Haha\n",
    "    * hihi\n",
    "    * hehe\n",
    "    * kiki\n",
    "* Huhu\n",
    "    * huchuc\n",
    "    * hichic\n",
    "    * hemhem"
   ]
  },
  {
   "cell_type": "code",
   "execution_count": 1,
   "metadata": {},
   "outputs": [
    {
     "name": "stderr",
     "output_type": "stream",
     "text": [
      "Using TensorFlow backend.\n"
     ]
    },
    {
     "name": "stdout",
     "output_type": "stream",
     "text": [
      "Load\n",
      "CPU times: user 336 ms, sys: 23.6 ms, total: 360 ms\n",
      "Wall time: 461 ms\n",
      "Train\n",
      "CPU times: user 2min 39s, sys: 29.1 s, total: 3min 8s\n",
      "Wall time: 56.5 s\n",
      "Test\n",
      "CPU times: user 2.03 s, sys: 166 ms, total: 2.2 s\n",
      "Wall time: 776 ms\n",
      "loss= 0.09234481306374073\n",
      "accuracy= 0.967\n",
      "OK\n"
     ]
    },
    {
     "data": {
      "text/plain": [
       "<Figure size 640x480 with 1 Axes>"
      ]
     },
     "metadata": {},
     "output_type": "display_data"
    },
    {
     "name": "stdout",
     "output_type": "stream",
     "text": [
      "CPU times: user 2min 43s, sys: 29.9 s, total: 3min 13s\n",
      "Wall time: 1min 11s\n"
     ]
    }
   ],
   "source": [
    "%%time\n",
    "import numpy, scipy, sklearn, h5py, PIL\n",
    "import matplotlib.pyplot as plt\n",
    "from keras.datasets import mnist\n",
    "from keras.models import Sequential\n",
    "from keras.layers import Dense,Dropout,Flatten,Conv2D,MaxPooling2D\n",
    "from keras.utils import np_utils\n",
    "\n",
    "n_train=4000\n",
    "n_test=1000\n",
    "bs=64\n",
    "n_classes=10\n",
    "n_epochs=5\n",
    "rows,cols=28,28\n",
    "inshape=(rows,cols,1)\n",
    "\n",
    "print(\"Load\")\n",
    "%time (Xr_full,yr_full),(Xs_full,ys_full)=mnist.load_data()\n",
    "Xr=Xr_full[:n_train]\n",
    "yr=yr_full[:n_train]\n",
    "Xs=Xs_full[:n_test]\n",
    "ys=ys_full[:n_test]\n",
    "Xr=Xr.reshape(Xr.shape[0],rows,cols,1).astype('float32')/255\n",
    "Xs=Xs.reshape(Xs.shape[0],rows,cols,1).astype('float32')/255\n",
    "yr=np_utils.to_categorical(yr,n_classes)\n",
    "ys=np_utils.to_categorical(ys,n_classes)\n",
    "\n",
    "model=Sequential()\n",
    "model.add(Conv2D(32,kernel_size=(3,3),\n",
    "                 activation='relu',\n",
    "                 input_shape=inshape))\n",
    "model.add(Conv2D(64,(3,3),activation='relu'))\n",
    "model.add(MaxPooling2D(pool_size=(2,2)))\n",
    "model.add(Dropout(0.25))\n",
    "model.add(Flatten())\n",
    "model.add(Dense(128,activation='relu'))\n",
    "model.add(Dropout(0.5))\n",
    "model.add(Dense(n_classes,activation='softmax'))\n",
    "\n",
    "model.compile(loss='categorical_crossentropy',\n",
    "              optimizer='rmsprop',\n",
    "              metrics=['accuracy'])\n",
    "print(\"Train\")\n",
    "%time hist=model.fit(Xr,yr,batch_size=bs,epochs=n_epochs,verbose=0)\n",
    "print(\"Test\")\n",
    "%time score=model.evaluate(Xs,ys,verbose=0)\n",
    "print('loss=',score[0])\n",
    "print('accuracy=',score[1])\n",
    "\n",
    "plt.plot(hist.history['acc'])\n",
    "plt.title('acc')\n",
    "plt.xlabel('X')\n",
    "plt.ylabel('Y')\n",
    "plt.legend(['tr','ts'],loc='upper left')\n",
    "print(\"OK\")\n",
    "plt.show()"
   ]
  }
 ],
 "metadata": {
  "kernelspec": {
   "display_name": "Python 3",
   "language": "python",
   "name": "python3"
  },
  "language_info": {
   "codemirror_mode": {
    "name": "ipython",
    "version": 3
   },
   "file_extension": ".py",
   "mimetype": "text/x-python",
   "name": "python",
   "nbconvert_exporter": "python",
   "pygments_lexer": "ipython3",
   "version": "3.6.6"
  }
 },
 "nbformat": 4,
 "nbformat_minor": 2
}
