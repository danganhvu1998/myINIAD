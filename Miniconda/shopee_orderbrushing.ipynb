{
  "nbformat": 4,
  "nbformat_minor": 0,
  "metadata": {
    "colab": {
      "name": "shopee_orderbrushing.ipynb",
      "provenance": []
    },
    "kernelspec": {
      "name": "python3",
      "display_name": "Python 3"
    }
  },
  "cells": [
    {
      "cell_type": "code",
      "metadata": {
        "id": "IpzDQTxuTjsG",
        "colab_type": "code",
        "colab": {}
      },
      "source": [
        "import numpy as np\n",
        "import pandas as pd\n",
        "import matplotlib.pyplot as plt\n",
        "import warnings\n",
        "warnings.filterwarnings(\"ignore\")\n",
        "import tqdm\n",
        "pd.options.display.max_rows=999"
      ],
      "execution_count": 0,
      "outputs": []
    },
    {
      "cell_type": "code",
      "metadata": {
        "id": "dqpLup9DVTNt",
        "colab_type": "code",
        "outputId": "a9113e13-6fd3-4baf-b8a2-ab3924d990d7",
        "colab": {
          "base_uri": "https://localhost:8080/",
          "height": 428
        }
      },
      "source": [
        "df = pd.read_csv(\"order_brush_order.csv\")\n",
        "df['event_time'] = pd.to_datetime(df['event_time'])\n",
        "print(df.info())\n",
        "print(df.shape)\n",
        "df.head()"
      ],
      "execution_count": 0,
      "outputs": [
        {
          "output_type": "stream",
          "text": [
            "<class 'pandas.core.frame.DataFrame'>\n",
            "RangeIndex: 222750 entries, 0 to 222749\n",
            "Data columns (total 4 columns):\n",
            " #   Column      Non-Null Count   Dtype         \n",
            "---  ------      --------------   -----         \n",
            " 0   orderid     222750 non-null  int64         \n",
            " 1   shopid      222750 non-null  int64         \n",
            " 2   userid      222750 non-null  int64         \n",
            " 3   event_time  222750 non-null  datetime64[ns]\n",
            "dtypes: datetime64[ns](1), int64(3)\n",
            "memory usage: 6.8 MB\n",
            "None\n",
            "(222750, 4)\n"
          ],
          "name": "stdout"
        },
        {
          "output_type": "execute_result",
          "data": {
            "text/html": [
              "<div>\n",
              "<style scoped>\n",
              "    .dataframe tbody tr th:only-of-type {\n",
              "        vertical-align: middle;\n",
              "    }\n",
              "\n",
              "    .dataframe tbody tr th {\n",
              "        vertical-align: top;\n",
              "    }\n",
              "\n",
              "    .dataframe thead th {\n",
              "        text-align: right;\n",
              "    }\n",
              "</style>\n",
              "<table border=\"1\" class=\"dataframe\">\n",
              "  <thead>\n",
              "    <tr style=\"text-align: right;\">\n",
              "      <th></th>\n",
              "      <th>orderid</th>\n",
              "      <th>shopid</th>\n",
              "      <th>userid</th>\n",
              "      <th>event_time</th>\n",
              "    </tr>\n",
              "  </thead>\n",
              "  <tbody>\n",
              "    <tr>\n",
              "      <th>0</th>\n",
              "      <td>31076582227611</td>\n",
              "      <td>93950878</td>\n",
              "      <td>30530270</td>\n",
              "      <td>2019-12-27 00:23:03</td>\n",
              "    </tr>\n",
              "    <tr>\n",
              "      <th>1</th>\n",
              "      <td>31118059853484</td>\n",
              "      <td>156423439</td>\n",
              "      <td>46057927</td>\n",
              "      <td>2019-12-27 11:54:20</td>\n",
              "    </tr>\n",
              "    <tr>\n",
              "      <th>2</th>\n",
              "      <td>31123355095755</td>\n",
              "      <td>173699291</td>\n",
              "      <td>67341739</td>\n",
              "      <td>2019-12-27 13:22:35</td>\n",
              "    </tr>\n",
              "    <tr>\n",
              "      <th>3</th>\n",
              "      <td>31122059872723</td>\n",
              "      <td>63674025</td>\n",
              "      <td>149380322</td>\n",
              "      <td>2019-12-27 13:01:00</td>\n",
              "    </tr>\n",
              "    <tr>\n",
              "      <th>4</th>\n",
              "      <td>31117075665123</td>\n",
              "      <td>127249066</td>\n",
              "      <td>149493217</td>\n",
              "      <td>2019-12-27 11:37:55</td>\n",
              "    </tr>\n",
              "  </tbody>\n",
              "</table>\n",
              "</div>"
            ],
            "text/plain": [
              "          orderid     shopid     userid          event_time\n",
              "0  31076582227611   93950878   30530270 2019-12-27 00:23:03\n",
              "1  31118059853484  156423439   46057927 2019-12-27 11:54:20\n",
              "2  31123355095755  173699291   67341739 2019-12-27 13:22:35\n",
              "3  31122059872723   63674025  149380322 2019-12-27 13:01:00\n",
              "4  31117075665123  127249066  149493217 2019-12-27 11:37:55"
            ]
          },
          "metadata": {
            "tags": []
          },
          "execution_count": 33
        }
      ]
    },
    {
      "cell_type": "code",
      "metadata": {
        "id": "AnP728rVcHQB",
        "colab_type": "code",
        "outputId": "95f3f6a5-7e0b-4114-bfc6-02fa33893365",
        "colab": {
          "base_uri": "https://localhost:8080/",
          "height": 230
        }
      },
      "source": [
        "df['shopid'].value_counts()"
      ],
      "execution_count": 0,
      "outputs": [
        {
          "output_type": "execute_result",
          "data": {
            "text/plain": [
              "147941492    11703\n",
              "61556313      6691\n",
              "54615708      2640\n",
              "91799978       707\n",
              "57189823       687\n",
              "             ...  \n",
              "158235164        1\n",
              "147997211        1\n",
              "166898182        1\n",
              "194982850        1\n",
              "189530112        1\n",
              "Name: shopid, Length: 18770, dtype: int64"
            ]
          },
          "metadata": {
            "tags": []
          },
          "execution_count": 26
        }
      ]
    },
    {
      "cell_type": "code",
      "metadata": {
        "id": "NdTm9ManWG7o",
        "colab_type": "code",
        "colab": {}
      },
      "source": [
        "A = df[df['shopid']==147941492]"
      ],
      "execution_count": 0,
      "outputs": []
    },
    {
      "cell_type": "code",
      "metadata": {
        "id": "iG56xz1zXRv_",
        "colab_type": "code",
        "outputId": "28ce0c46-74cb-4738-fd9f-09bede62dad6",
        "colab": {
          "base_uri": "https://localhost:8080/",
          "height": 514
        }
      },
      "source": [
        "A.sort_values(by=['event_time'],inplace = True)\n",
        "print(A)\n",
        "A['event_time'] = A['event_time'] - A['event_time'].iloc[0] # Dung timestamp"
      ],
      "execution_count": 0,
      "outputs": [
        {
          "output_type": "stream",
          "text": [
            "               orderid     shopid     userid          event_time\n",
            "73106   31076433523765  181009364  214208720 2019-12-27 00:20:33\n",
            "115420  31077003494175  181009364  214208720 2019-12-27 00:30:03\n",
            "9891    31078405144719  181009364  214208720 2019-12-27 00:53:26\n",
            "169569  31167197128282  181009364   27847950 2019-12-28 01:33:18\n",
            "155018  31200690834058  181009364  214515524 2019-12-28 10:51:30\n",
            "88062   31243796889716  181009364  160784036 2019-12-28 22:49:57\n",
            "36556   31248330354574  181009364   18028327 2019-12-29 00:05:30\n",
            "36584   31298070356347  181009364  101832161 2019-12-29 13:54:31\n",
            "136504  31298092385907  181009364  101832161 2019-12-29 13:54:52\n",
            "123695  31298150262970  181009364  101832161 2019-12-29 13:55:51\n",
            "87078   31359530425916  181009364    1646431 2019-12-30 06:58:51\n",
            "51330   31392356223812  181009364  213441594 2019-12-30 16:05:56\n",
            "179523  31409023914877  181009364  198488910 2019-12-30 20:43:43\n",
            "23139   31465898498833  181009364   21653103 2019-12-31 12:31:38\n",
            "85340   31470607300366  181009364   71990360 2019-12-31 13:50:08\n",
            "16054   31493150407300  181009364  153128074 2019-12-31 20:05:50\n"
          ],
          "name": "stdout"
        },
        {
          "output_type": "stream",
          "text": [
            "/usr/local/lib/python3.6/dist-packages/ipykernel_launcher.py:1: SettingWithCopyWarning: \n",
            "A value is trying to be set on a copy of a slice from a DataFrame\n",
            "\n",
            "See the caveats in the documentation: https://pandas.pydata.org/pandas-docs/stable/user_guide/indexing.html#returning-a-view-versus-a-copy\n",
            "  \"\"\"Entry point for launching an IPython kernel.\n",
            "/usr/local/lib/python3.6/dist-packages/ipykernel_launcher.py:3: SettingWithCopyWarning: \n",
            "A value is trying to be set on a copy of a slice from a DataFrame.\n",
            "Try using .loc[row_indexer,col_indexer] = value instead\n",
            "\n",
            "See the caveats in the documentation: https://pandas.pydata.org/pandas-docs/stable/user_guide/indexing.html#returning-a-view-versus-a-copy\n",
            "  This is separate from the ipykernel package so we can avoid doing imports until\n"
          ],
          "name": "stderr"
        }
      ]
    },
    {
      "cell_type": "code",
      "metadata": {
        "id": "uLYvkZWofyQZ",
        "colab_type": "code",
        "colab": {}
      },
      "source": [
        "A['second'] = A['event_time'].dt.total_seconds()\n",
        "A"
      ],
      "execution_count": 0,
      "outputs": []
    },
    {
      "cell_type": "code",
      "metadata": {
        "id": "kLd8VOYIgCAm",
        "colab_type": "code",
        "colab": {}
      },
      "source": [
        "def solve_interval(interval, fil):\n",
        "  concen = (interval.shape[0]) / (interval['userid'].nunique())\n",
        "  if concen >= 2.8:\n",
        "    fil = fil.append(interval[['orderid','userid']], ignore_index=True, sort=False)\n",
        "  return fil"
      ],
      "execution_count": 0,
      "outputs": []
    },
    {
      "cell_type": "code",
      "metadata": {
        "id": "ijZmK6RPgJuR",
        "colab_type": "code",
        "colab": {}
      },
      "source": [
        "def solve(shop):\n",
        "  if shop.shape[0] < 3:\n",
        "    return '0'\n",
        "\n",
        "  shop.sort_values(by=['event_time'],inplace = True)\n",
        "  shop['event_time'] = shop['event_time'] - shop['event_time'].iloc[0]\n",
        "  shop['second'] = shop['event_time'].dt.total_seconds()\n",
        "  r = 0\n",
        "  fill = pd.DataFrame(None)\n",
        "\n",
        "  for l in range(shop.shape[0]):\n",
        "    while (r<shop.shape[0] and shop['second'].iloc[r] - shop['second'].iloc[l] <= 3601):\n",
        "      r+=1\n",
        "    fill = solve_interval(shop[l:r],fill)\n",
        "  \n",
        "  if fill.shape[0] == 0:\n",
        "    return '0'\n",
        "  fill = fill.drop_duplicates(keep = 'last') \n",
        "  B = fill['userid'].value_counts()\n",
        "  max_order = B.iloc[0]\n",
        "  ans = \"\"\n",
        "  for index, value in B.items():\n",
        "    if value != max_order:\n",
        "      break\n",
        "    ans = ans+ str(index)+'&'\n",
        "  return ans[:-1]"
      ],
      "execution_count": 0,
      "outputs": []
    },
    {
      "cell_type": "code",
      "metadata": {
        "id": "t9TY90LgrZr1",
        "colab_type": "code",
        "outputId": "bbc2dcea-02d5-4869-e012-59c46f3ea0f6",
        "colab": {
          "base_uri": "https://localhost:8080/",
          "height": 34
        }
      },
      "source": [
        "result = []\n",
        "for gr in tqdm.tqdm(df.groupby('shopid')):\n",
        "    shop_id = gr[0]\n",
        "    df_shop = gr[1]\n",
        "    result.append([shop_id,solve(df_shop)])"
      ],
      "execution_count": 0,
      "outputs": [
        {
          "output_type": "stream",
          "text": [
            " 46%|████▌     | 8569/18770 [01:23<01:40, 101.75it/s]"
          ],
          "name": "stderr"
        }
      ]
    },
    {
      "cell_type": "code",
      "metadata": {
        "id": "3y65Rp1zuW15",
        "colab_type": "code",
        "colab": {}
      },
      "source": [
        "df_res = pd.DataFrame(result,columns=['shopid','userid'])\n",
        "df_res.to_csv('sub.csv',index=False)"
      ],
      "execution_count": 0,
      "outputs": []
    },
    {
      "cell_type": "code",
      "metadata": {
        "id": "eEKEhbaVu84M",
        "colab_type": "code",
        "colab": {}
      },
      "source": [
        "df_res2 = pd.DataFrame(result,columns=['shopid','userid'])"
      ],
      "execution_count": 0,
      "outputs": []
    },
    {
      "cell_type": "code",
      "metadata": {
        "id": "Zz35n5Tc1TD1",
        "colab_type": "code",
        "outputId": "6b3c8fe6-8679-4757-e66f-588c4ebcc683",
        "colab": {
          "base_uri": "https://localhost:8080/",
          "height": 406
        }
      },
      "source": [
        "df_res2[df_res2['userid']=='0']"
      ],
      "execution_count": 0,
      "outputs": [
        {
          "output_type": "execute_result",
          "data": {
            "text/html": [
              "<div>\n",
              "<style scoped>\n",
              "    .dataframe tbody tr th:only-of-type {\n",
              "        vertical-align: middle;\n",
              "    }\n",
              "\n",
              "    .dataframe tbody tr th {\n",
              "        vertical-align: top;\n",
              "    }\n",
              "\n",
              "    .dataframe thead th {\n",
              "        text-align: right;\n",
              "    }\n",
              "</style>\n",
              "<table border=\"1\" class=\"dataframe\">\n",
              "  <thead>\n",
              "    <tr style=\"text-align: right;\">\n",
              "      <th></th>\n",
              "      <th>shopid</th>\n",
              "      <th>userid</th>\n",
              "    </tr>\n",
              "  </thead>\n",
              "  <tbody>\n",
              "    <tr>\n",
              "      <th>0</th>\n",
              "      <td>10009</td>\n",
              "      <td>0</td>\n",
              "    </tr>\n",
              "    <tr>\n",
              "      <th>1</th>\n",
              "      <td>10051</td>\n",
              "      <td>0</td>\n",
              "    </tr>\n",
              "    <tr>\n",
              "      <th>2</th>\n",
              "      <td>10061</td>\n",
              "      <td>0</td>\n",
              "    </tr>\n",
              "    <tr>\n",
              "      <th>3</th>\n",
              "      <td>10084</td>\n",
              "      <td>0</td>\n",
              "    </tr>\n",
              "    <tr>\n",
              "      <th>4</th>\n",
              "      <td>10100</td>\n",
              "      <td>0</td>\n",
              "    </tr>\n",
              "    <tr>\n",
              "      <th>...</th>\n",
              "      <td>...</td>\n",
              "      <td>...</td>\n",
              "    </tr>\n",
              "    <tr>\n",
              "      <th>18765</th>\n",
              "      <td>214662358</td>\n",
              "      <td>0</td>\n",
              "    </tr>\n",
              "    <tr>\n",
              "      <th>18766</th>\n",
              "      <td>214949521</td>\n",
              "      <td>0</td>\n",
              "    </tr>\n",
              "    <tr>\n",
              "      <th>18767</th>\n",
              "      <td>214964814</td>\n",
              "      <td>0</td>\n",
              "    </tr>\n",
              "    <tr>\n",
              "      <th>18768</th>\n",
              "      <td>215175775</td>\n",
              "      <td>0</td>\n",
              "    </tr>\n",
              "    <tr>\n",
              "      <th>18769</th>\n",
              "      <td>215435223</td>\n",
              "      <td>0</td>\n",
              "    </tr>\n",
              "  </tbody>\n",
              "</table>\n",
              "<p>18494 rows × 2 columns</p>\n",
              "</div>"
            ],
            "text/plain": [
              "          shopid userid\n",
              "0          10009      0\n",
              "1          10051      0\n",
              "2          10061      0\n",
              "3          10084      0\n",
              "4          10100      0\n",
              "...          ...    ...\n",
              "18765  214662358      0\n",
              "18766  214949521      0\n",
              "18767  214964814      0\n",
              "18768  215175775      0\n",
              "18769  215435223      0\n",
              "\n",
              "[18494 rows x 2 columns]"
            ]
          },
          "metadata": {
            "tags": []
          },
          "execution_count": 194
        }
      ]
    },
    {
      "cell_type": "code",
      "metadata": {
        "id": "ijLFneenyMo_",
        "colab_type": "code",
        "outputId": "6ba1d72b-0153-4f1f-e5e4-497c1e51fc3b",
        "colab": {
          "base_uri": "https://localhost:8080/",
          "height": 406
        }
      },
      "source": [
        "df_res[df_res['userid']=='0']"
      ],
      "execution_count": 0,
      "outputs": [
        {
          "output_type": "execute_result",
          "data": {
            "text/html": [
              "<div>\n",
              "<style scoped>\n",
              "    .dataframe tbody tr th:only-of-type {\n",
              "        vertical-align: middle;\n",
              "    }\n",
              "\n",
              "    .dataframe tbody tr th {\n",
              "        vertical-align: top;\n",
              "    }\n",
              "\n",
              "    .dataframe thead th {\n",
              "        text-align: right;\n",
              "    }\n",
              "</style>\n",
              "<table border=\"1\" class=\"dataframe\">\n",
              "  <thead>\n",
              "    <tr style=\"text-align: right;\">\n",
              "      <th></th>\n",
              "      <th>shopid</th>\n",
              "      <th>userid</th>\n",
              "    </tr>\n",
              "  </thead>\n",
              "  <tbody>\n",
              "    <tr>\n",
              "      <th>0</th>\n",
              "      <td>10009</td>\n",
              "      <td>0</td>\n",
              "    </tr>\n",
              "    <tr>\n",
              "      <th>1</th>\n",
              "      <td>10051</td>\n",
              "      <td>0</td>\n",
              "    </tr>\n",
              "    <tr>\n",
              "      <th>2</th>\n",
              "      <td>10061</td>\n",
              "      <td>0</td>\n",
              "    </tr>\n",
              "    <tr>\n",
              "      <th>3</th>\n",
              "      <td>10084</td>\n",
              "      <td>0</td>\n",
              "    </tr>\n",
              "    <tr>\n",
              "      <th>4</th>\n",
              "      <td>10100</td>\n",
              "      <td>0</td>\n",
              "    </tr>\n",
              "    <tr>\n",
              "      <th>...</th>\n",
              "      <td>...</td>\n",
              "      <td>...</td>\n",
              "    </tr>\n",
              "    <tr>\n",
              "      <th>18765</th>\n",
              "      <td>214662358</td>\n",
              "      <td>0</td>\n",
              "    </tr>\n",
              "    <tr>\n",
              "      <th>18766</th>\n",
              "      <td>214949521</td>\n",
              "      <td>0</td>\n",
              "    </tr>\n",
              "    <tr>\n",
              "      <th>18767</th>\n",
              "      <td>214964814</td>\n",
              "      <td>0</td>\n",
              "    </tr>\n",
              "    <tr>\n",
              "      <th>18768</th>\n",
              "      <td>215175775</td>\n",
              "      <td>0</td>\n",
              "    </tr>\n",
              "    <tr>\n",
              "      <th>18769</th>\n",
              "      <td>215435223</td>\n",
              "      <td>0</td>\n",
              "    </tr>\n",
              "  </tbody>\n",
              "</table>\n",
              "<p>18494 rows × 2 columns</p>\n",
              "</div>"
            ],
            "text/plain": [
              "          shopid userid\n",
              "0          10009      0\n",
              "1          10051      0\n",
              "2          10061      0\n",
              "3          10084      0\n",
              "4          10100      0\n",
              "...          ...    ...\n",
              "18765  214662358      0\n",
              "18766  214949521      0\n",
              "18767  214964814      0\n",
              "18768  215175775      0\n",
              "18769  215435223      0\n",
              "\n",
              "[18494 rows x 2 columns]"
            ]
          },
          "metadata": {
            "tags": []
          },
          "execution_count": 182
        }
      ]
    },
    {
      "cell_type": "code",
      "metadata": {
        "id": "6UBl-N_zv0Rc",
        "colab_type": "code",
        "outputId": "88f30cbb-08a1-4dd2-c978-3ed890770dd9",
        "colab": {
          "base_uri": "https://localhost:8080/",
          "height": 34
        }
      },
      "source": [
        "for i in range(df_res.shape[0]):\n",
        "  if df_res['userid'].iloc[i] != df_res2['userid'].iloc[i]:\n",
        "    print(df_res['userid'].iloc[i], df_res2['userid'].iloc[i])"
      ],
      "execution_count": 0,
      "outputs": [
        {
          "output_type": "stream",
          "text": [
            "156202149&214265994 156202149\n"
          ],
          "name": "stdout"
        }
      ]
    }
  ]
}