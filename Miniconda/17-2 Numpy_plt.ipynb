{
 "cells": [
  {
   "cell_type": "code",
   "execution_count": 1,
   "metadata": {},
   "outputs": [
    {
     "name": "stdout",
     "output_type": "stream",
     "text": [
      "(50,)\n",
      "[ 0.92370786 -1.50626553 -0.55152884  0.71932808 -1.28377573  2.42440826\n",
      " -0.22587131 -0.27030513 -2.03363043 -0.73828717 -0.57551415  0.34930314\n",
      " -0.72653344 -1.17002256 -0.59916554 -1.2070901  -0.07376157 -1.48412865\n",
      "  0.33796465  1.62526703  1.23747894  0.86161912 -0.02267089  0.15343123\n",
      " -0.44092078  0.47719384 -3.62226334 -1.57852676  3.07081178 -1.99863839\n",
      "  0.80636335 -0.1036234  -1.33839979  0.52547255  0.10573908  1.05448824\n",
      " -0.39801894 -0.07162773  0.42968433  0.17382849  2.29510624 -1.86914841\n",
      "  1.22012143  2.09422768  0.46908712  0.57393086  1.67901011 -0.44637162\n",
      "  0.47400535  0.59307955]\n"
     ]
    }
   ],
   "source": [
    "import  numpy  as  np\n",
    "\n",
    "dat1 = np.loadtxt('data/rand1d.csv')\n",
    "print( dat1.shape )\n",
    "print( dat1 )"
   ]
  },
  {
   "cell_type": "code",
   "execution_count": 2,
   "metadata": {},
   "outputs": [
    {
     "name": "stdout",
     "output_type": "stream",
     "text": [
      "min:  -3.62226334\n",
      "max:  3.07081178\n",
      "average:  0.0067713622\n",
      "median:  0.041534095\n",
      "variance:  1.6033728577619586\n",
      "standard dev:  1.2662436012718716\n",
      "sum:  0.33856811\n"
     ]
    }
   ],
   "source": [
    "print('min: ', np.amin(dat1))\n",
    "print('max: ', np.amax(dat1))\n",
    "print('average: ', np.mean(dat1))\n",
    "print('median: ', np.median(dat1))\n",
    "print('variance: ', np.var(dat1))\n",
    "print('standard dev: ', np.std(dat1))\n",
    "print('sum: ', np.sum(dat1))"
   ]
  },
  {
   "cell_type": "code",
   "execution_count": 5,
   "metadata": {},
   "outputs": [
    {
     "data": {
      "text/plain": [
       "<function matplotlib.pyplot.show(*args, **kw)>"
      ]
     },
     "execution_count": 5,
     "metadata": {},
     "output_type": "execute_result"
    },
    {
     "data": {
      "image/png": "[encoded data removed]",
      "text/plain": [
       "<Figure size 432x288 with 1 Axes>"
      ]
     },
     "metadata": {
      "needs_background": "light"
     },
     "output_type": "display_data"
    }
   ],
   "source": [
    "import matplotlib.pyplot as plt\n",
    "plt.boxplot(dat1);\n",
    "plt.show"
   ]
  },
  {
   "cell_type": "code",
   "execution_count": 29,
   "metadata": {},
   "outputs": [
    {
     "name": "stdout",
     "output_type": "stream",
     "text": [
      "[[50.  1.  2.]\n",
      " [ 3.  4.  5.]\n",
      " [ 6.  7.  8.]\n",
      " [ 9. 10. 11.]]\n",
      "(4, 3)\n"
     ]
    }
   ],
   "source": [
    "\n",
    "\n",
    "d = np.array( [ [ 50, 1.0, 2.0 ], [ 3.0, 4.0, 5.0 ],\n",
    "[ 6.0, 7.0, 8.0 ], [9.0, 10.0, 11.0 ] ] )\n",
    "print( d )\n",
    "print( d.shape )\n"
   ]
  },
  {
   "cell_type": "code",
   "execution_count": 6,
   "metadata": {},
   "outputs": [
    {
     "name": "stdout",
     "output_type": "stream",
     "text": [
      "[ 1.  4.  7. 10.]\n"
     ]
    }
   ],
   "source": [
    "print(d[::,1])"
   ]
  },
  {
   "cell_type": "code",
   "execution_count": 7,
   "metadata": {},
   "outputs": [
    {
     "name": "stdout",
     "output_type": "stream",
     "text": [
      "[6. 7. 8.]\n"
     ]
    }
   ],
   "source": [
    "print(d[2])"
   ]
  },
  {
   "cell_type": "code",
   "execution_count": 8,
   "metadata": {},
   "outputs": [
    {
     "name": "stdout",
     "output_type": "stream",
     "text": [
      "[[ 3.  4.  5.]\n",
      " [ 6.  7.  8.]\n",
      " [ 9. 10. 11.]]\n"
     ]
    }
   ],
   "source": [
    "print(d[1:4:1])"
   ]
  },
  {
   "cell_type": "code",
   "execution_count": 9,
   "metadata": {},
   "outputs": [
    {
     "name": "stdout",
     "output_type": "stream",
     "text": [
      "[[3. 4. 5.]\n",
      " [6. 7. 8.]]\n"
     ]
    }
   ],
   "source": [
    "print(d[1:4][0:2])"
   ]
  },
  {
   "cell_type": "code",
   "execution_count": 10,
   "metadata": {},
   "outputs": [
    {
     "name": "stdout",
     "output_type": "stream",
     "text": [
      "[[ 3.  4.]\n",
      " [ 6.  7.]\n",
      " [ 9. 10.]]\n"
     ]
    }
   ],
   "source": [
    "print(d[1:4,0:2])"
   ]
  },
  {
   "cell_type": "code",
   "execution_count": 27,
   "metadata": {},
   "outputs": [
    {
     "name": "stdout",
     "output_type": "stream",
     "text": [
      "[[6. 8.]\n",
      " [3. 5.]\n",
      " [0. 2.]]\n"
     ]
    }
   ],
   "source": [
    "print(d[-2:-5:-1,0:3:2])"
   ]
  },
  {
   "cell_type": "code",
   "execution_count": 30,
   "metadata": {},
   "outputs": [
    {
     "data": {
      "text/plain": [
       "49.0"
      ]
     },
     "execution_count": 30,
     "metadata": {},
     "output_type": "execute_result"
    }
   ],
   "source": [
    "np.ptp(d)"
   ]
  },
  {
   "cell_type": "code",
   "execution_count": null,
   "metadata": {},
   "outputs": [],
   "source": []
  }
 ],
 "metadata": {
  "kernelspec": {
   "display_name": "Python 3",
   "language": "python",
   "name": "python3"
  },
  "language_info": {
   "codemirror_mode": {
    "name": "ipython",
    "version": 3
   },
   "file_extension": ".py",
   "mimetype": "text/x-python",
   "name": "python",
   "nbconvert_exporter": "python",
   "pygments_lexer": "ipython3",
   "version": "3.6.6"
  }
 },
 "nbformat": 4,
 "nbformat_minor": 2
}
