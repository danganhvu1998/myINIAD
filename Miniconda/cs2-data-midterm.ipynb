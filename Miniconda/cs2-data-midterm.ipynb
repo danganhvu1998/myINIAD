{
 "cells": [
  {
   "cell_type": "markdown",
   "metadata": {},
   "source": [
    "### 問2 - 1.  /  Problem 2 - 1."
   ]
  },
  {
   "cell_type": "code",
   "execution_count": 1,
   "metadata": {},
   "outputs": [],
   "source": [
    "import numpy as np\n",
    "A = np.array ( [\n",
    " [  0,   1,   2  ], \n",
    " [  3,   4,   5  ],\n",
    " [  6,   7,   8  ],\n",
    " [  9,  10,  11  ]\n",
    "] )"
   ]
  },
  {
   "cell_type": "markdown",
   "metadata": {},
   "source": [
    "(1) 以下の、4要素から成る1次元配列 / The following 1-d array with 4 elements  \n",
    "```[  1   4   7   10 ]```"
   ]
  },
  {
   "cell_type": "code",
   "execution_count": 2,
   "metadata": {},
   "outputs": [
    {
     "name": "stdout",
     "output_type": "stream",
     "text": [
      "[ 1  4  7 10]\n"
     ]
    }
   ],
   "source": [
    "B = A[:, 1]\n",
    "print( B )"
   ]
  },
  {
   "cell_type": "markdown",
   "metadata": {},
   "source": [
    "(2) 以下の、4行1列の2次元配列 / The following 2-d array with 4 rows and 1 column    \n",
    "``[ [ 1 ] \n",
    "   [ 4 ]\n",
    "   [ 7 ] \n",
    "   [ 10 ] ]```"
   ]
  },
  {
   "cell_type": "code",
   "execution_count": 4,
   "metadata": {},
   "outputs": [
    {
     "name": "stdout",
     "output_type": "stream",
     "text": [
      "[[ 1]\n",
      " [ 4]\n",
      " [ 7]\n",
      " [10]]\n"
     ]
    }
   ],
   "source": [
    "B = A[:, 1:2]\n",
    "print( B )"
   ]
  },
  {
   "cell_type": "markdown",
   "metadata": {},
   "source": [
    "(3) 以下の、2行2列の2次元配列 / The following 2-d array with 2 rows and 2 columns  \n",
    "```[ [  4     5  ]\n",
    "   [  7     8  ] ]```"
   ]
  },
  {
   "cell_type": "code",
   "execution_count": 5,
   "metadata": {},
   "outputs": [
    {
     "name": "stdout",
     "output_type": "stream",
     "text": [
      "[[4 5]\n",
      " [7 8]]\n"
     ]
    }
   ],
   "source": [
    "B = A[1:3, 1:3]\n",
    "print( B )"
   ]
  },
  {
   "cell_type": "markdown",
   "metadata": {},
   "source": [
    "***\n",
    "\n",
    "### 問2 - 3.  /  Problem 2 - 3."
   ]
  },
  {
   "cell_type": "code",
   "execution_count": 18,
   "metadata": {},
   "outputs": [],
   "source": [
    "import numpy as np\n",
    "import matplotlib.pyplot as plt\n",
    "from sklearn.cluster import KMeans\n",
    "from scipy.stats import pearsonr\n",
    "from sklearn.linear_model import LinearRegression\n",
    "from sklearn import metrics"
   ]
  },
  {
   "cell_type": "markdown",
   "metadata": {},
   "source": [
    "csvファイルのすべての数値データを2次元配列datに読み込む。  \n",
    "Read all numerical data in csv file into 2-d array \"dat\".  "
   ]
  },
  {
   "cell_type": "code",
   "execution_count": 9,
   "metadata": {},
   "outputs": [
    {
     "name": "stdout",
     "output_type": "stream",
     "text": [
      "(399, 2)\n"
     ]
    }
   ],
   "source": [
    "dat = np.loadtxt(  'data/cs2-data-midterm.csv',  delimiter=\",\",  skiprows=2  )\n",
    "print(dat.shape)"
   ]
  },
  {
   "cell_type": "markdown",
   "metadata": {},
   "source": [
    "datの1列目全体を1次元配列として取り出して配列x に代入。  \n",
    "Extract entire first column of \"dat\" as a 1-d array and put it into \"x\".  \n",
    "datの2列目全体を1次元配列として取り出して配列y に代入。  \n",
    "Extract entire second column of \"dat\" as a 1-d array and put it into \"y\".  "
   ]
  },
  {
   "cell_type": "code",
   "execution_count": 13,
   "metadata": {},
   "outputs": [
    {
     "name": "stdout",
     "output_type": "stream",
     "text": [
      "(399,)\n",
      "(399,)\n"
     ]
    }
   ],
   "source": [
    "x = dat[   :, 0   ]\n",
    "y = dat[   :, 1   ]\n",
    "print(x.shape)\n",
    "print(y.shape)"
   ]
  },
  {
   "cell_type": "markdown",
   "metadata": {},
   "source": [
    "dat に対して、クラスタ数2 の k-means法を実行し、結果を配列km に代入。  \n",
    "Apply k-means clustering (#clusters is two) to \"dat\" and put the result into \"km\".  "
   ]
  },
  {
   "cell_type": "code",
   "execution_count": 14,
   "metadata": {},
   "outputs": [],
   "source": [
    "km = KMeans(  n_clusters=2  ).fit_predict(   dat   )"
   ]
  },
  {
   "cell_type": "markdown",
   "metadata": {},
   "source": [
    "クラスタ番号0, 1の点のx座標とy座標を、それぞれ配列x0, y0および配列x1, y1に取り出す。  \n",
    "Extract x, y coordinates of points of cluster 0 and cluster 1, and put them into \"x0\", \"y0\", and \"x1\", \"y1\", respectively.  "
   ]
  },
  {
   "cell_type": "code",
   "execution_count": 15,
   "metadata": {},
   "outputs": [],
   "source": [
    "x0 = x[   km == 0   ]\n",
    "y0 = y[   km == 0   ]\n",
    "x1 = x[   km == 1   ]\n",
    "y1 = y[   km == 1   ]"
   ]
  },
  {
   "cell_type": "markdown",
   "metadata": {},
   "source": [
    "散布図(クラス0:青点、クラス1:緑点)の描画(軸ラベルと凡例を入れる)。   \n",
    "Draw a scatter plot (class 0: blue, class 1: green) with axis labels and a legend."
   ]
  },
  {
   "cell_type": "code",
   "execution_count": 16,
   "metadata": {
    "scrolled": true
   },
   "outputs": [
    {
     "data": {
      "image/png": "[encoded data removed]",
      "text/plain": [
       "<Figure size 432x288 with 1 Axes>"
      ]
     },
     "metadata": {
      "needs_background": "light"
     },
     "output_type": "display_data"
    }
   ],
   "source": [
    "plt.scatter(  x0, y0,  color='blue',  label='class0'  )\n",
    "plt.scatter(  x1, y1,  color='green',  label='class1'  )\n",
    "plt.xlabel('Height [m]')\n",
    "plt.ylabel('Weight [kg]')\n",
    "plt.legend()\n",
    "plt.show()"
   ]
  },
  {
   "cell_type": "code",
   "execution_count": 20,
   "metadata": {},
   "outputs": [
    {
     "name": "stdout",
     "output_type": "stream",
     "text": [
      "0.8746978314771214 6.049475988412158e-127\n"
     ]
    }
   ],
   "source": [
    "r, p=pearsonr(x, y)\n",
    "print(r, p)"
   ]
  },
  {
   "cell_type": "code",
   "execution_count": 25,
   "metadata": {},
   "outputs": [
    {
     "name": "stdout",
     "output_type": "stream",
     "text": [
      "(399, 1)\n",
      "\n",
      "a: -76.10095787253232\n",
      "b: 79.00222075037989\n",
      "\n",
      "MSE: 35.03440427789719\n",
      "R2: 0.7650962963907789\n"
     ]
    }
   ],
   "source": [
    "x_2d=dat[:, :1] # .fit require 2d array\n",
    "print( x_2d.shape )\n",
    "\n",
    "#Find the line present the data set\n",
    "reg=LinearRegression()\n",
    "reg.fit(x_2d, y)\n",
    "pred=reg.predict(x_2d)\n",
    "print()\n",
    "\n",
    "#Take the line y = a+b*x\n",
    "a=reg.intercept_\n",
    "b=reg.coef_[0]\n",
    "print(\"a:\", a)\n",
    "print(\"b:\", b)\n",
    "print()\n",
    "\n",
    "#Calculate Error between realNumber with predictedNumber\n",
    "MSE=metrics.mean_squared_error(y, pred)\n",
    "R2=metrics.r2_score(y, pred)\n",
    "print(\"MSE:\", MSE)\n",
    "print(\"R2:\", R2)"
   ]
  },
  {
   "cell_type": "code",
   "execution_count": 28,
   "metadata": {},
   "outputs": [
    {
     "name": "stdout",
     "output_type": "stream",
     "text": [
      "(399, 2)\n",
      "r, p: 0.8746978314771214 6.049475988412158e-127\n",
      "a, b: -76.10095787253232 79.00222075037989\n",
      "MSE, R2: 35.03440427789719 0.7650962963907789\n"
     ]
    },
    {
     "data": {
      "image/png": "[encoded data removed]",
      "text/plain": [
       "<Figure size 432x288 with 1 Axes>"
      ]
     },
     "metadata": {
      "needs_background": "light"
     },
     "output_type": "display_data"
    }
   ],
   "source": [
    "dat = np.loadtxt(  'data/cs2-data-midterm.csv',  delimiter=\",\",  skiprows=2  )\n",
    "print(   dat.shape   )\n",
    "\n",
    "#Extract the entire first column of dat as a 2d array and assign it to an array xx.\n",
    "#Extract the entire first column of dat as a 1d array and assign it to an array x.\n",
    "#Extract the entire second column of dat as a 1d array and assign it to an array y.\n",
    "\n",
    "xx = dat[   :, :1   ]\n",
    "x = dat[   :,0   ]\n",
    "y = dat[   :,1   ]\n",
    "\n",
    "#Compute and display correlation coefficient r and p value between the entire first column and the entire second column.\n",
    "\n",
    "r, p = pearsonr(   x, y   )\n",
    "print( 'r, p:', r,  p )\n",
    "\n",
    "#Consider the first column data as (  Problem2-6  ) variable, the second column data as (  Problem2-7  ) variable and conduct a simple linear regression.\n",
    "#(Create an object reg_obj for regression computation)\n",
    "\n",
    "reg_obj = LinearRegression()\n",
    "reg_obj.fit(   xx, y   )\n",
    "\n",
    "#Estimating the values of Y against the first column data and assign them to an array e.\n",
    "#Compute and display the regression coefficients a, and b.\n",
    "\n",
    "e = reg_obj.predict(   xx   )\n",
    "a = reg_obj.intercept_\n",
    "b = reg_obj.coef_[0]\n",
    "print( 'a, b:', a,  b )\n",
    "\n",
    "#nation coefficient R2 of the regresssion line.\n",
    "\n",
    "MSE = metrics.mean_squared_error(   y,e   )\n",
    "R2 = metrics.r2_score(   y,e   )\n",
    "print( 'MSE, R2:', MSE, R2 )\n",
    "\n",
    "#Preparation for drawing the regression line (the red line)\n",
    "\n",
    "min_x = np.amin(x)\n",
    "max_x = np.amax(x)\n",
    "xr = np.array(   min_x, max_x   )\n",
    "yr = a + b * xr\n",
    "\n",
    "#Plotting a scatter plot for all data and the regression line(Add axis labels and a legend).\n",
    "\n",
    "plt.scatter(  x,y,  color='black',  label='data'  )\n",
    "plt.plot( xr, yr,  color='red',linewidth=2,  label='regression line' )\n",
    "plt.xlabel('Height [m]')\n",
    "plt.ylabel('Weight [kg]')\n",
    "plt.legend()\n",
    "plt.show()\n"
   ]
  },
  {
   "cell_type": "code",
   "execution_count": null,
   "metadata": {},
   "outputs": [],
   "source": []
  }
 ],
 "metadata": {
  "kernelspec": {
   "display_name": "Python 3",
   "language": "python",
   "name": "python3"
  },
  "language_info": {
   "codemirror_mode": {
    "name": "ipython",
    "version": 3
   },
   "file_extension": ".py",
   "mimetype": "text/x-python",
   "name": "python",
   "nbconvert_exporter": "python",
   "pygments_lexer": "ipython3",
   "version": "3.6.6"
  }
 },
 "nbformat": 4,
 "nbformat_minor": 2
}
