{
 "cells": [
  {
   "cell_type": "markdown",
   "metadata": {},
   "source": [
    "### 元の画像ファイルをサイズ調整してnumpy配列(npy)ファイルに保存するノートブック"
   ]
  },
  {
   "cell_type": "markdown",
   "metadata": {},
   "source": [
    "ライブラリのimport"
   ]
  },
  {
   "cell_type": "code",
   "execution_count": 1,
   "metadata": {},
   "outputs": [],
   "source": [
    "import os,glob\n",
    "import numpy as np\n",
    "from PIL import Image"
   ]
  },
  {
   "cell_type": "markdown",
   "metadata": {},
   "source": [
    "パラメータ設定（変更したらCellメニュー→Run All Belowを忘れないこと）"
   ]
  },
  {
   "cell_type": "code",
   "execution_count": 2,
   "metadata": {},
   "outputs": [],
   "source": [
    "w=56\n",
    "work_dir='data/dogs_cats'\n",
    "npy_data_base='dogs_cats-data'\n",
    "npy_labels_base='dogs_cats-labels'\n",
    "classes=['dogs','cats']\n",
    "num_classes=len(classes)"
   ]
  },
  {
   "cell_type": "markdown",
   "metadata": {},
   "source": [
    "画像の縦横サイズをwに指定してnumpy配列ファイル作成"
   ]
  },
  {
   "cell_type": "code",
   "execution_count": 3,
   "metadata": {
    "scrolled": true
   },
   "outputs": [
    {
     "name": "stdout",
     "output_type": "stream",
     "text": [
      "w: 56 mode: train class: dogs\n",
      "w: 56 mode: train class: cats\n",
      "w: 56 mode: test class: dogs\n",
      "w: 56 mode: test class: cats\n",
      "OK\n",
      "CPU times: user 7.02 s, sys: 155 ms, total: 7.17 s\n",
      "Wall time: 7.43 s\n"
     ]
    }
   ],
   "source": [
    "%%time\n",
    "\n",
    "ok=1\n",
    "for mode in [\"train\", \"test\"]:\n",
    "    X=[]\n",
    "    y=[]\n",
    "    npy_data_file='{0}-{1}-w{2}.npy'.format(npy_data_base,mode,w)\n",
    "    npy_labels_file='{0}-{1}-w{2}.npy'.format(npy_labels_base,mode,w)\n",
    "    for i in range(0, num_classes):\n",
    "        cls=classes[i]\n",
    "        image_dir=work_dir+\"/original/\"+mode+\"/\"+cls\n",
    "        files=glob.glob(image_dir+\"/*.*\")\n",
    "        print(\"w:\",w,\"mode:\",mode,\"class:\",cls)\n",
    "        for f in files:\n",
    "            img=Image.open(f)\n",
    "            img=img.convert(\"RGB\")\n",
    "            img=img.resize((w,w))\n",
    "            data=np.array(img)\n",
    "            X.append(data)\n",
    "            y.append(i)\n",
    "    X=np.array(X)\n",
    "    y=np.array(y)\n",
    "    data_file=work_dir+\"/\"+npy_data_file\n",
    "    labels_file=work_dir+\"/\"+npy_labels_file\n",
    "    np.save(data_file,X)\n",
    "    np.save(labels_file,y)\n",
    "    \n",
    "    if not os.path.exists(data_file):\n",
    "        ok=0\n",
    "    if not os.path.exists(labels_file):\n",
    "        ok=0\n",
    "        \n",
    "if ok==1:\n",
    "    print(\"OK\")"
   ]
  }
 ],
 "metadata": {
  "kernelspec": {
   "display_name": "Python 3",
   "language": "python",
   "name": "python3"
  },
  "language_info": {
   "codemirror_mode": {
    "name": "ipython",
    "version": 3
   },
   "file_extension": ".py",
   "mimetype": "text/x-python",
   "name": "python",
   "nbconvert_exporter": "python",
   "pygments_lexer": "ipython3",
   "version": "3.6.6"
  }
 },
 "nbformat": 4,
 "nbformat_minor": 2
}
