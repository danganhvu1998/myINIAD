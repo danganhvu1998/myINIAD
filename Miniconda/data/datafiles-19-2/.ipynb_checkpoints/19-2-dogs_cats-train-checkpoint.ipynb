{
 "cells": [
  {
   "cell_type": "markdown",
   "metadata": {},
   "source": [
    "### CNNの学習を行うノートブック"
   ]
  },
  {
   "cell_type": "markdown",
   "metadata": {},
   "source": [
    "ライブラリのimport"
   ]
  },
  {
   "cell_type": "code",
   "execution_count": 1,
   "metadata": {},
   "outputs": [
    {
     "name": "stderr",
     "output_type": "stream",
     "text": [
      "Using TensorFlow backend.\n"
     ]
    }
   ],
   "source": [
    "import os\n",
    "import numpy as np\n",
    "import matplotlib.pyplot as plt\n",
    "from keras.models import Sequential\n",
    "from keras.layers import Conv2D,MaxPooling2D\n",
    "from keras.layers import Activation,Dropout,Flatten,Dense\n",
    "from keras.utils import np_utils\n",
    "from keras.callbacks import EarlyStopping\n",
    "from keras.callbacks import CSVLogger"
   ]
  },
  {
   "cell_type": "markdown",
   "metadata": {},
   "source": [
    "パラメータ設定（変更したらCellメニュー→Run All Belowを忘れないこと）"
   ]
  },
  {
   "cell_type": "code",
   "execution_count": 2,
   "metadata": {},
   "outputs": [],
   "source": [
    "w=56\n",
    "work_dir='data/dogs_cats'\n",
    "npy_data_base='dogs_cats-data'\n",
    "npy_labels_base='dogs_cats-labels'\n",
    "classes=['dogs','cats']\n",
    "num_classes=len(classes)\n",
    "\n",
    "weight_file=\"dogs_cats-weight-w{0}.hd5\".format(w)\n",
    "model_file=\"dogs_cats-model-w{0}.json\".format(w)\n",
    "history_file=\"dogs_cats-history-w{0}.csv\".format(w)"
   ]
  },
  {
   "cell_type": "markdown",
   "metadata": {},
   "source": [
    "train/testデータのnumpy配列ファイルからの読み込みとサイズの確認<br> \n",
    "Xは0-1(データ型はfloat16)、yはone-hot encodingにする"
   ]
  },
  {
   "cell_type": "code",
   "execution_count": 3,
   "metadata": {},
   "outputs": [
    {
     "name": "stdout",
     "output_type": "stream",
     "text": [
      "(2000, 56, 56, 3)\n",
      "(2000, 2)\n",
      "(400, 56, 56, 3)\n",
      "(400, 2)\n",
      "image_size: 56 56\n",
      "image_channels: 3\n"
     ]
    }
   ],
   "source": [
    "mode=\"train\"\n",
    "npy_data_file=\"{0}/{1}-{2}-w{3}.npy\".format(work_dir,npy_data_base,mode,w)\n",
    "npy_labels_file=\"{0}/{1}-{2}-w{3}.npy\".format(work_dir,npy_labels_base,mode,w)\n",
    "X_train=np.load(npy_data_file).astype(\"float16\")\n",
    "X_train/=255\n",
    "y_train=np.load(npy_labels_file)\n",
    "y_train=np_utils.to_categorical(y_train,num_classes)\n",
    "\n",
    "mode=\"test\"\n",
    "npy_data_file=\"{0}/{1}-{2}-w{3}.npy\".format(work_dir,npy_data_base,mode,w)\n",
    "npy_labels_file=\"{0}/{1}-{2}-w{3}.npy\".format(work_dir,npy_labels_base,mode,w)\n",
    "X_test=np.load(npy_data_file).astype(\"float16\")\n",
    "X_test/=255\n",
    "y_test=np.load(npy_labels_file)\n",
    "y_test=np_utils.to_categorical(y_test,num_classes)\n",
    "\n",
    "print( X_train.shape )\n",
    "print( y_train.shape )\n",
    "print( X_test.shape )\n",
    "print( y_test.shape )\n",
    "img_rows=X_train.shape[1]\n",
    "img_cols=X_train.shape[2]\n",
    "img_channels=X_train.shape[3]\n",
    "print(\"image_size:\", img_rows, img_cols)\n",
    "print(\"image_channels:\", img_channels)"
   ]
  },
  {
   "cell_type": "markdown",
   "metadata": {},
   "source": [
    "CNNの構築"
   ]
  },
  {
   "cell_type": "code",
   "execution_count": 4,
   "metadata": {
    "scrolled": true
   },
   "outputs": [
    {
     "name": "stdout",
     "output_type": "stream",
     "text": [
      "_________________________________________________________________\n",
      "Layer (type)                 Output Shape              Param #   \n",
      "=================================================================\n",
      "conv2d_1 (Conv2D)            (None, 56, 56, 16)        448       \n",
      "_________________________________________________________________\n",
      "max_pooling2d_1 (MaxPooling2 (None, 28, 28, 16)        0         \n",
      "_________________________________________________________________\n",
      "dropout_1 (Dropout)          (None, 28, 28, 16)        0         \n",
      "_________________________________________________________________\n",
      "conv2d_2 (Conv2D)            (None, 28, 28, 16)        2320      \n",
      "_________________________________________________________________\n",
      "max_pooling2d_2 (MaxPooling2 (None, 14, 14, 16)        0         \n",
      "_________________________________________________________________\n",
      "dropout_2 (Dropout)          (None, 14, 14, 16)        0         \n",
      "_________________________________________________________________\n",
      "conv2d_3 (Conv2D)            (None, 14, 14, 32)        4640      \n",
      "_________________________________________________________________\n",
      "max_pooling2d_3 (MaxPooling2 (None, 7, 7, 32)          0         \n",
      "_________________________________________________________________\n",
      "dropout_3 (Dropout)          (None, 7, 7, 32)          0         \n",
      "_________________________________________________________________\n",
      "flatten_1 (Flatten)          (None, 1568)              0         \n",
      "_________________________________________________________________\n",
      "dense_1 (Dense)              (None, 64)                100416    \n",
      "_________________________________________________________________\n",
      "dropout_4 (Dropout)          (None, 64)                0         \n",
      "_________________________________________________________________\n",
      "dense_2 (Dense)              (None, 2)                 130       \n",
      "=================================================================\n",
      "Total params: 107,954\n",
      "Trainable params: 107,954\n",
      "Non-trainable params: 0\n",
      "_________________________________________________________________\n"
     ]
    }
   ],
   "source": [
    "input_shape=(img_rows,img_cols,img_channels)\n",
    "model=Sequential()\n",
    "model.add(Conv2D(16, (3,3), activation='relu', padding='same',\n",
    "                 input_shape=input_shape))\n",
    "model.add(MaxPooling2D(pool_size=(2,2)))\n",
    "model.add(Dropout(0.25))\n",
    "model.add(Conv2D(16, (3,3), activation='relu', padding='same'))\n",
    "model.add(MaxPooling2D(pool_size=(2,2)))\n",
    "model.add(Dropout(0.25))\n",
    "model.add(Conv2D(32, (3,3), activation='relu', padding='same'))\n",
    "model.add(MaxPooling2D(pool_size=(2,2)))\n",
    "model.add(Dropout(0.25))\n",
    "model.add(Flatten())\n",
    "model.add(Dense(64, activation='relu'))\n",
    "model.add(Dropout(0.25))\n",
    "model.add(Dense(num_classes, activation='softmax'))\n",
    "model.summary()"
   ]
  },
  {
   "cell_type": "markdown",
   "metadata": {},
   "source": [
    "CNNの学習"
   ]
  },
  {
   "cell_type": "code",
   "execution_count": null,
   "metadata": {},
   "outputs": [
    {
     "name": "stdout",
     "output_type": "stream",
     "text": [
      "Train on 1600 samples, validate on 400 samples\n",
      "Epoch 1/40\n",
      "1600/1600 [==============================] - 7s 4ms/step - loss: 0.8412 - acc: 0.6106 - val_loss: 0.7825 - val_acc: 0.0000e+00\n",
      "Epoch 2/40\n",
      "1600/1600 [==============================] - 5s 3ms/step - loss: 0.6677 - acc: 0.6256 - val_loss: 0.8416 - val_acc: 0.0000e+00\n",
      "Epoch 3/40\n",
      "1600/1600 [==============================] - 5s 3ms/step - loss: 0.6691 - acc: 0.6250 - val_loss: 0.7895 - val_acc: 0.0000e+00\n",
      "Epoch 4/40\n",
      "1600/1600 [==============================] - 6s 3ms/step - loss: 0.6641 - acc: 0.6262 - val_loss: 0.8372 - val_acc: 0.0000e+00\n",
      "Epoch 5/40\n",
      "1600/1600 [==============================] - 5s 3ms/step - loss: 0.6608 - acc: 0.6269 - val_loss: 0.7723 - val_acc: 0.0000e+00\n",
      "Epoch 6/40\n",
      "1600/1600 [==============================] - 6s 4ms/step - loss: 0.6536 - acc: 0.6244 - val_loss: 0.7377 - val_acc: 0.0100\n",
      "Epoch 7/40\n",
      "1600/1600 [==============================] - 6s 4ms/step - loss: 0.6592 - acc: 0.6262 - val_loss: 0.7237 - val_acc: 0.1175\n",
      "Epoch 8/40\n",
      "1600/1600 [==============================] - 5s 3ms/step - loss: 0.6492 - acc: 0.6275 - val_loss: 0.8326 - val_acc: 0.0175\n",
      "Epoch 9/40\n",
      "1600/1600 [==============================] - 6s 4ms/step - loss: 0.6443 - acc: 0.6319 - val_loss: 0.7312 - val_acc: 0.3775\n",
      "Epoch 10/40\n",
      "1600/1600 [==============================] - 6s 4ms/step - loss: 0.6376 - acc: 0.6475 - val_loss: 0.7291 - val_acc: 0.4325\n",
      "Epoch 11/40\n",
      "1600/1600 [==============================] - 6s 4ms/step - loss: 0.6183 - acc: 0.6537 - val_loss: 0.7944 - val_acc: 0.4025\n",
      "Epoch 12/40\n",
      "1600/1600 [==============================] - 6s 4ms/step - loss: 0.6138 - acc: 0.6544 - val_loss: 0.8527 - val_acc: 0.2125\n",
      "Epoch 13/40\n",
      "1600/1600 [==============================] - 6s 3ms/step - loss: 0.5927 - acc: 0.6675 - val_loss: 0.7432 - val_acc: 0.4925\n",
      "Epoch 14/40\n",
      "1600/1600 [==============================] - 6s 4ms/step - loss: 0.6117 - acc: 0.6588 - val_loss: 0.6862 - val_acc: 0.6325\n",
      "Epoch 15/40\n",
      "1600/1600 [==============================] - 5s 3ms/step - loss: 0.5853 - acc: 0.6769 - val_loss: 0.6007 - val_acc: 0.7825\n",
      "Epoch 16/40\n",
      "1600/1600 [==============================] - 5s 3ms/step - loss: 0.5721 - acc: 0.6931 - val_loss: 0.5433 - val_acc: 0.8850\n",
      "Epoch 17/40\n",
      "1600/1600 [==============================] - 5s 3ms/step - loss: 0.5622 - acc: 0.7044 - val_loss: 0.5116 - val_acc: 0.8975\n",
      "Epoch 18/40\n",
      "1600/1600 [==============================] - 6s 4ms/step - loss: 0.5790 - acc: 0.6913 - val_loss: 0.7992 - val_acc: 0.4925\n",
      "Epoch 19/40\n"
     ]
    }
   ],
   "source": [
    "%%time\n",
    "n_epochs=40\n",
    "val_split=0.2\n",
    "batch_size=128\n",
    "es=EarlyStopping(monitor='val_loss',patience=4,verbose=1)\n",
    "cl=CSVLogger(history_file)\n",
    "model.compile(loss='categorical_crossentropy', optimizer='rmsprop',\n",
    "              metrics=['accuracy'])\n",
    "#fit_log=model.fit(X_train, y_train, batch_size=batch_size,\n",
    "#                  epochs=n_epochs, validation_split=val_split,\n",
    "#                  callbacks=[cl, es])\n",
    "fit_log=model.fit(X_train, y_train, batch_size=batch_size,\n",
    "                  epochs=n_epochs, validation_split=val_split,\n",
    "                  callbacks=[cl])"
   ]
  },
  {
   "cell_type": "markdown",
   "metadata": {},
   "source": [
    "学習経過のグラフ描画"
   ]
  },
  {
   "cell_type": "code",
   "execution_count": null,
   "metadata": {},
   "outputs": [],
   "source": [
    "plt.plot(fit_log.history['loss'])\n",
    "plt.plot(fit_log.history['val_loss'])\n",
    "plt.title('Model Loss')\n",
    "plt.ylabel('Loss')\n",
    "plt.xlabel('Epoch')\n",
    "plt.legend(['train','valid'], loc='best')\n",
    "plt.show()\n",
    "\n",
    "plt.plot(fit_log.history['acc'])\n",
    "plt.plot(fit_log.history['val_acc'])\n",
    "plt.title('Model Accuracy')\n",
    "plt.ylabel('Accuracy')\n",
    "plt.xlabel('Epoch')\n",
    "plt.legend(['train','valid'], loc='best')\n",
    "plt.show()"
   ]
  },
  {
   "cell_type": "markdown",
   "metadata": {},
   "source": [
    "学習経過のグラフ描画（このようにhistory_fileから読み出すこともできる）"
   ]
  },
  {
   "cell_type": "code",
   "execution_count": null,
   "metadata": {},
   "outputs": [],
   "source": [
    "h=np.loadtxt(history_file,delimiter=',',skiprows=1)\n",
    "epoch=h[:,0]\n",
    "acc=h[:,1]\n",
    "loss=h[:,2]\n",
    "val_acc=h[:,3]\n",
    "val_loss=h[:,4]\n",
    "\n",
    "plt.plot(epoch,loss)\n",
    "plt.plot(epoch,val_loss)\n",
    "plt.title('Model Loss')\n",
    "plt.ylabel('Loss')\n",
    "plt.xlabel('Epoch')\n",
    "plt.legend(['train','valid'], loc='best')\n",
    "plt.show()\n",
    "\n",
    "plt.plot(epoch,acc)\n",
    "plt.plot(epoch,val_acc)\n",
    "plt.title('Model Accuracy')\n",
    "plt.ylabel('Accuracy')\n",
    "plt.xlabel('Epoch')\n",
    "plt.legend(['train','valid'], loc='best')\n",
    "plt.show()"
   ]
  },
  {
   "cell_type": "markdown",
   "metadata": {},
   "source": [
    "テストデータに対する精度(汎化性能の見積もり)"
   ]
  },
  {
   "cell_type": "code",
   "execution_count": null,
   "metadata": {},
   "outputs": [],
   "source": [
    "score=model.evaluate(X_test, y_test, verbose=0)\n",
    "print('loss=', score[0])\n",
    "print('accuracy=', score[1])"
   ]
  },
  {
   "cell_type": "markdown",
   "metadata": {},
   "source": [
    "modelファイルの保存"
   ]
  },
  {
   "cell_type": "code",
   "execution_count": null,
   "metadata": {},
   "outputs": [],
   "source": [
    "model.save_weights(weight_file)\n",
    "json_str=model.to_json()\n",
    "with open(model_file,\"w\") as f:\n",
    "    f.write(json_str)\n",
    "\n",
    "ok=1\n",
    "if not os.path.exists(weight_file):\n",
    "    ok=0\n",
    "if not os.path.exists(model_file):\n",
    "    ok=0\n",
    "if ok==1:\n",
    "    print(\"OK\")"
   ]
  },
  {
   "cell_type": "code",
   "execution_count": null,
   "metadata": {},
   "outputs": [],
   "source": []
  }
 ],
 "metadata": {
  "kernelspec": {
   "display_name": "Python 3",
   "language": "python",
   "name": "python3"
  },
  "language_info": {
   "codemirror_mode": {
    "name": "ipython",
    "version": 3
   },
   "file_extension": ".py",
   "mimetype": "text/x-python",
   "name": "python",
   "nbconvert_exporter": "python",
   "pygments_lexer": "ipython3",
   "version": "3.6.6"
  }
 },
 "nbformat": 4,
 "nbformat_minor": 2
}
