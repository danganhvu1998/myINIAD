{
 "cells": [
  {
   "cell_type": "markdown",
   "metadata": {},
   "source": [
    "### 手持ち画像ファイルに対する予測を行うノートブック"
   ]
  },
  {
   "cell_type": "markdown",
   "metadata": {},
   "source": [
    "ライブラリのimport"
   ]
  },
  {
   "cell_type": "code",
   "execution_count": 1,
   "metadata": {},
   "outputs": [
    {
     "name": "stderr",
     "output_type": "stream",
     "text": [
      "Using TensorFlow backend.\n"
     ]
    }
   ],
   "source": [
    "import os,glob\n",
    "from PIL import Image\n",
    "import numpy as np\n",
    "from keras.utils import np_utils\n",
    "from keras.models import model_from_json"
   ]
  },
  {
   "cell_type": "markdown",
   "metadata": {},
   "source": [
    "パラメータ設定（変更したらCellメニュー→Run All Belowを忘れないこと）"
   ]
  },
  {
   "cell_type": "code",
   "execution_count": 2,
   "metadata": {},
   "outputs": [],
   "source": [
    "w=56\n",
    "work_dir=\"data/dogs_cats\"\n",
    "image_dir=work_dir+\"/original/unknown\"\n",
    "pred_dir=work_dir+\"/predicted\"\n",
    "results_base='dogs_cats-results'\n",
    "weight_file=\"dogs_cats-weight-w{0}.hd5\".format(w)\n",
    "model_file=\"dogs_cats-model-w{0}.json\".format(w)\n",
    "classes=[\"dogs\",\"cats\"]\n",
    "num_classes=len(classes)"
   ]
  },
  {
   "cell_type": "markdown",
   "metadata": {},
   "source": [
    "modelファイルの読み込み"
   ]
  },
  {
   "cell_type": "code",
   "execution_count": 3,
   "metadata": {},
   "outputs": [],
   "source": [
    "json_str=open(model_file,\"r\").read()\n",
    "model=model_from_json(json_str)\n",
    "model.compile(loss='categorical_crossentropy',optimizer='rmsprop',metrics=['accuracy'])\n",
    "model.load_weights(weight_file)"
   ]
  },
  {
   "cell_type": "markdown",
   "metadata": {},
   "source": [
    "ファイルひとつずつに対して予測を行う"
   ]
  },
  {
   "cell_type": "code",
   "execution_count": 4,
   "metadata": {},
   "outputs": [
    {
     "name": "stdout",
     "output_type": "stream",
     "text": [
      "data/dogs_cats/predicted/0.pred_as_dogs-w56.jpg [[0.70401824 0.2959818 ]]\n",
      "data/dogs_cats/predicted/2.pred_as_dogs-w56.jpg [[0.79537404 0.2046259 ]]\n",
      "data/dogs_cats/predicted/4.pred_as_dogs-w56.jpg [[9.9987721e-01 1.2274209e-04]]\n",
      "data/dogs_cats/predicted/1.pred_as_dogs-w56.jpg [[0.5006883  0.49931163]]\n",
      "data/dogs_cats/predicted/5.pred_as_dogs-w56.jpg [[0.80733657 0.19266348]]\n",
      "data/dogs_cats/predicted/7.pred_as_cats-w56.jpg [[0.22970618 0.7702938 ]]\n",
      "data/dogs_cats/predicted/8.pred_as_cats-w56.jpg [[0.40178642 0.5982136 ]]\n",
      "data/dogs_cats/predicted/9.pred_as_cats-w56.jpg [[0.42039555 0.57960445]]\n",
      "data/dogs_cats/predicted/6.pred_as_cats-w56.jpg [[0.37107107 0.62892896]]\n",
      "data/dogs_cats/predicted/3.pred_as_dogs-w56.jpg [[0.6540159  0.34598407]]\n",
      "OK\n"
     ]
    }
   ],
   "source": [
    "#結果保存用ファイルを開く\n",
    "results_file='{0}-w{1}.csv'.format(results_base,w)\n",
    "res=open(results_file,'w')\n",
    "res.write(\"file,{0},{1}\\n\".format(classes[0],classes[1]))\n",
    "\n",
    "#出力用ディレクトリを空にする\n",
    "files=glob.glob(pred_dir+\"/*.*\")\n",
    "for f in files:\n",
    "    os.remove(f)\n",
    "\n",
    "#ファイルひとつずつに対して予測\n",
    "files=glob.glob(image_dir+\"/*.*\")\n",
    "for f in files:\n",
    "    #画像データの読み込み\n",
    "    img=Image.open(f)\n",
    "    img=img.convert(\"RGB\")\n",
    "    img=img.resize((w,w))\n",
    "    #4次元のnumpy配列にreshape\n",
    "    X=np.array(img).reshape(1,w,w,3).astype(\"float16\")\n",
    "    X_pred=X/255\n",
    "    #分類予測\n",
    "    pred=model.predict(X_pred)\n",
    "    #画像をpred_dirに出力\n",
    "    pred_ans=pred.argmax()\n",
    "    pred_cls=classes[pred_ans]\n",
    "    tag=\"pred_as_{0}-w{1}\".format(pred_cls,w)\n",
    "    base=os.path.basename(f)\n",
    "    img_file=\"{0}/{1}.{2}.jpg\".format(pred_dir,os.path.splitext(base)[0],tag)\n",
    "    img.save(img_file)\n",
    "    print(img_file,pred)\n",
    "    res.write(\"{0},{1},{2}\\n\".format(f,pred[0][0],pred[0][1]))\n",
    "\n",
    "#結果保存用ファイルを閉じる\n",
    "res.close()\n",
    "\n",
    "print(\"OK\")"
   ]
  },
  {
   "cell_type": "code",
   "execution_count": null,
   "metadata": {},
   "outputs": [],
   "source": []
  }
 ],
 "metadata": {
  "kernelspec": {
   "display_name": "Python 3",
   "language": "python",
   "name": "python3"
  },
  "language_info": {
   "codemirror_mode": {
    "name": "ipython",
    "version": 3
   },
   "file_extension": ".py",
   "mimetype": "text/x-python",
   "name": "python",
   "nbconvert_exporter": "python",
   "pygments_lexer": "ipython3",
   "version": "3.6.6"
  }
 },
 "nbformat": 4,
 "nbformat_minor": 2
}
