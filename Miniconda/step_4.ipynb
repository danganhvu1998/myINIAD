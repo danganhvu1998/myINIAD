{
 "cells": [
  {
   "cell_type": "code",
   "execution_count": 1,
   "metadata": {},
   "outputs": [],
   "source": [
    "import numpy as np\n",
    "import pandas as pd\n",
    "import matplotlib.pyplot as plt"
   ]
  },
  {
   "cell_type": "code",
   "execution_count": 2,
   "metadata": {},
   "outputs": [
    {
     "name": "stdout",
     "output_type": "stream",
     "text": [
      "Data Size: 35886\n"
     ]
    }
   ],
   "source": [
    "dat=np.loadtxt('data/length_with_time_02_DangAnhVu.csv', delimiter=',', skiprows=1)\n",
    "time_arrive=dat[:,0]\n",
    "packet_length=dat[:,1]\n",
    "data_size = time_arrive.shape[0]\n",
    "print('Data Size:', data_size)"
   ]
  },
  {
   "cell_type": "code",
   "execution_count": 3,
   "metadata": {},
   "outputs": [
    {
     "name": "stdout",
     "output_type": "stream",
     "text": [
      "Departure time: [3.70805022e+00 3.89400977e+00 4.16152566e+00 ... 4.34960713e+03\n",
      " 4.34972825e+03 4.34979089e+03]\n",
      "Delay time: [5.92000000e-03 5.32800000e-02 1.21120000e-01 ... 4.24187367e+03\n",
      " 4.24198211e+03 4.24204471e+03]\n"
     ]
    }
   ],
   "source": [
    "A = time_arrive\n",
    "L = packet_length # Packet length\n",
    "C = 100000 # Link capacity\n",
    "S = L*8/C\n",
    "D = np.ndarray(shape=(data_size,), dtype=float, order='F') # Depature time\n",
    "T = np.ndarray(shape=(data_size,), dtype=float, order='F') # Delay Time\n",
    "D[0] = A[0] + S[0]\n",
    "T[0] = S[0] #D[0] - A[0]\n",
    "curr_D_max = D[0];\n",
    "for i in range(1, data_size):\n",
    "    D[i] = max(curr_D_max, A[i]) + S[i]\n",
    "    T[i] = D[i] - A[i]\n",
    "    curr_D_max = max(curr_D_max, D[i])\n",
    "print(\"Departure time:\", D)\n",
    "print(\"Delay time:\", T)"
   ]
  },
  {
   "cell_type": "code",
   "execution_count": 4,
   "metadata": {},
   "outputs": [
    {
     "name": "stdout",
     "output_type": "stream",
     "text": [
      "43501\n",
      "[0 0 0 ... 0 0 0]\n"
     ]
    }
   ],
   "source": [
    "last_departure_time = D[-1]\n",
    "col_count = int(last_departure_time*10+4)\n",
    "print(col_count)\n",
    "delay_packet_count = np.ndarray(shape=(col_count,), dtype=int, order='F')\n",
    "delay_packet_count.fill(0)\n",
    "for i in range(0, data_size):\n",
    "    A_in = int(A[i]*10)\n",
    "    D_in = int(D[i]*10)\n",
    "    delay_packet_count[A_in] += 1\n",
    "    if(D_in > A_in): delay_packet_count[D_in] += 1\n",
    "print(delay_packet_count)"
   ]
  },
  {
   "cell_type": "code",
   "execution_count": 5,
   "metadata": {},
   "outputs": [
    {
     "data": {
      "text/plain": [
       "Text(0, 0.5, 'Delay Packet Count')"
      ]
     },
     "execution_count": 5,
     "metadata": {},
     "output_type": "execute_result"
    },
    {
     "data": {
      "image/png": "[encoded data removed]",
      "text/plain": [
       "<Figure size 1080x576 with 1 Axes>"
      ]
     },
     "metadata": {
      "needs_background": "light"
     },
     "output_type": "display_data"
    }
   ],
   "source": [
    "t = np.arange(0, col_count/10,0.1)\n",
    "plt.figure(figsize=(15,8))\n",
    "plt.plot(t, delay_packet_count)\n",
    "plt.xlabel(\"Time(s)\")\n",
    "plt.ylabel(\"Delay Packet Count\")"
   ]
  },
  {
   "cell_type": "code",
   "execution_count": null,
   "metadata": {},
   "outputs": [],
   "source": []
  }
 ],
 "metadata": {
  "kernelspec": {
   "display_name": "Python 3",
   "language": "python",
   "name": "python3"
  },
  "language_info": {
   "codemirror_mode": {
    "name": "ipython",
    "version": 3
   },
   "file_extension": ".py",
   "mimetype": "text/x-python",
   "name": "python",
   "nbconvert_exporter": "python",
   "pygments_lexer": "ipython3",
   "version": "3.7.3"
  }
 },
 "nbformat": 4,
 "nbformat_minor": 2
}
