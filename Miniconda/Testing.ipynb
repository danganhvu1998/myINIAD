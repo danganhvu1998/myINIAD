{
 "cells": [
  {
   "cell_type": "code",
   "execution_count": 1,
   "metadata": {},
   "outputs": [
    {
     "name": "stdout",
     "output_type": "stream",
     "text": [
      "B: [-0.02651971 -0.04544309  0.09814994 15.34960554]\n"
     ]
    }
   ],
   "source": [
    "import numpy as np\n",
    "from sklearn.linear_model import LinearRegression\n",
    "from sklearn.preprocessing import StandardScaler\n",
    "dat = np.loadtxt('data/testingData.dat', delimiter=';')\n",
    "X = dat[:, :-1]\n",
    "y = dat[:, -1]\n",
    "std = StandardScaler()\n",
    "X_std = std.fit_transform(X)\n",
    "reg = LinearRegression()\n",
    "reg.fit(X_std, y)\n",
    "B = reg.coef_\n",
    "print('B:', B)"
   ]
  },
  {
   "cell_type": "code",
   "execution_count": 6,
   "metadata": {},
   "outputs": [
    {
     "name": "stdout",
     "output_type": "stream",
     "text": [
      "[[4 5]\n",
      " [7 8]]\n"
     ]
    }
   ],
   "source": [
    "A = np.array ( [\n",
    " [  0,   1,   2  ],\n",
    " [  3,   4,   5  ],\n",
    " [  6,   7,   8  ],\n",
    " [  9,  10,  11  ]\n",
    "] )\n",
    "\n",
    "B = A[1:3, 1:3]\n",
    "print( B )"
   ]
  },
  {
   "cell_type": "code",
   "execution_count": null,
   "metadata": {},
   "outputs": [],
   "source": []
  },
  {
   "cell_type": "code",
   "execution_count": null,
   "metadata": {},
   "outputs": [],
   "source": []
  },
  {
   "cell_type": "code",
   "execution_count": null,
   "metadata": {},
   "outputs": [],
   "source": []
  }
 ],
 "metadata": {
  "kernelspec": {
   "display_name": "Python 3",
   "language": "python",
   "name": "python3"
  },
  "language_info": {
   "codemirror_mode": {
    "name": "ipython",
    "version": 3
   },
   "file_extension": ".py",
   "mimetype": "text/x-python",
   "name": "python",
   "nbconvert_exporter": "python",
   "pygments_lexer": "ipython3",
   "version": "3.6.6"
  }
 },
 "nbformat": 4,
 "nbformat_minor": 2
}
