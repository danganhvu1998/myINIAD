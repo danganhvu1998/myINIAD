{
 "cells": [
  {
   "cell_type": "code",
   "execution_count": 1,
   "metadata": {},
   "outputs": [],
   "source": [
    "#import. Nothing so important\n",
    "import numpy as np\n",
    "import matplotlib.pyplot as plt"
   ]
  },
  {
   "cell_type": "markdown",
   "metadata": {},
   "source": [
    "# Intro Numpy"
   ]
  },
  {
   "cell_type": "code",
   "execution_count": 2,
   "metadata": {},
   "outputs": [
    {
     "name": "stdout",
     "output_type": "stream",
     "text": [
      "<class 'list'>\n",
      "[0.0, 1.0, 2.0, 0.0, 1.0, 2.0]\n",
      "[0.0, 1.0, 2.0, 3.0, 4.0, 5.0]\n"
     ]
    }
   ],
   "source": [
    "#Python normal List\n",
    "a = [ 0.0, 1.0, 2.0 ]\n",
    "b = [ 3.0, 4.0, 5.0 ]\n",
    "print( type(a) )\n",
    "print( a * 2 )\n",
    "print( a + b )\n"
   ]
  },
  {
   "cell_type": "code",
   "execution_count": 3,
   "metadata": {},
   "outputs": [
    {
     "name": "stdout",
     "output_type": "stream",
     "text": [
      "<class 'numpy.ndarray'>\n",
      "[0. 2. 4.]\n",
      "[3. 5. 7.]\n",
      "[ 0.  4. 10.]\n",
      "5.0\n"
     ]
    }
   ],
   "source": [
    "#Numpy array\n",
    "a = np.array( [ 0.0, 1.0, 2.0 ] )\n",
    "b = np.array( [ 3.0, 4.0, 5.0 ] )\n",
    "print( type(a) )\n",
    "print( a * 2 )\n",
    "print( a + b )\n",
    "print( a * b )\n",
    "print( b[2] )"
   ]
  },
  {
   "cell_type": "code",
   "execution_count": 4,
   "metadata": {},
   "outputs": [
    {
     "name": "stdout",
     "output_type": "stream",
     "text": [
      "1\n",
      "(3,)\n",
      "3\n"
     ]
    }
   ],
   "source": [
    "#配列の形状チェック\n",
    "print( a.ndim ) #How many dimension\n",
    "print( a.shape )\n",
    "print( a.shape[0] )"
   ]
  },
  {
   "cell_type": "code",
   "execution_count": 5,
   "metadata": {},
   "outputs": [
    {
     "name": "stdout",
     "output_type": "stream",
     "text": [
      "[[0. 2. 4.]\n",
      " [3. 5. 7.]] \n",
      "\n",
      "[[ 0.  1.  4.]\n",
      " [ 0.  4. 10.]] \n",
      "\n",
      "[[10. 11. 12.]\n",
      " [13. 14. 15.]] \n",
      "\n"
     ]
    }
   ],
   "source": [
    "#2d Array\n",
    "#broadcast property of np.array\n",
    "c = np.array( [ [ 0.0, 1.0, 2.0 ], [ 3.0, 4.0, 5.0 ] ] )\n",
    "print( c + a,\"\\n\" )\n",
    "print( c * a,\"\\n\" )\n",
    "print( c + 10,\"\\n\" )"
   ]
  },
  {
   "cell_type": "markdown",
   "metadata": {},
   "source": [
    "# Intro Data Virtualization"
   ]
  },
  {
   "cell_type": "code",
   "execution_count": 6,
   "metadata": {},
   "outputs": [
    {
     "name": "stdout",
     "output_type": "stream",
     "text": [
      "ndim:  1\n",
      "min:  -3.62226334\n",
      "max:  3.07081178\n",
      "average:  0.0067713622\n",
      "median:  0.041534095\n",
      "variance:  1.6033728577619586\n",
      "standard dev:  1.2662436012718716\n",
      "sum:  0.33856811\n"
     ]
    }
   ],
   "source": [
    "dat1=np.loadtxt('data/rand1d.csv' )\n",
    "print('ndim: ', dat1.ndim)\n",
    "print('min: ', np.amin(dat1))\n",
    "print('max: ', np.amax(dat1))\n",
    "print('average: ', np.mean(dat1))\n",
    "print('median: ', np.median(dat1))\n",
    "print('variance: ', np.var(dat1))\n",
    "print('standard dev: ', np.std(dat1))\n",
    "print('sum: ', np.sum(dat1))"
   ]
  },
  {
   "cell_type": "code",
   "execution_count": 7,
   "metadata": {},
   "outputs": [
    {
     "data": {
      "image/png": "[encoded data removed]",
      "text/plain": [
       "<Figure size 432x288 with 1 Axes>"
      ]
     },
     "metadata": {
      "needs_background": "light"
     },
     "output_type": "display_data"
    }
   ],
   "source": [
    "plt.boxplot(dat1)\n",
    "plt.show()"
   ]
  },
  {
   "cell_type": "code",
   "execution_count": null,
   "metadata": {},
   "outputs": [],
   "source": []
  }
 ],
 "metadata": {
  "kernelspec": {
   "display_name": "Python 3",
   "language": "python",
   "name": "python3"
  },
  "language_info": {
   "codemirror_mode": {
    "name": "ipython",
    "version": 3
   },
   "file_extension": ".py",
   "mimetype": "text/x-python",
   "name": "python",
   "nbconvert_exporter": "python",
   "pygments_lexer": "ipython3",
   "version": "3.6.6"
  }
 },
 "nbformat": 4,
 "nbformat_minor": 2
}
