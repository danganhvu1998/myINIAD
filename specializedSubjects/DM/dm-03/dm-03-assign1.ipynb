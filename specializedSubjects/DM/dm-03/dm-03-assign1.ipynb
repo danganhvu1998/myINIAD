{
 "metadata": {
  "language_info": {
   "codemirror_mode": {
    "name": "ipython",
    "version": 3
   },
   "file_extension": ".py",
   "mimetype": "text/x-python",
   "name": "python",
   "nbconvert_exporter": "python",
   "pygments_lexer": "ipython3",
   "version": "3.8.8"
  },
  "orig_nbformat": 2,
  "kernelspec": {
   "name": "python388jvsc74a57bd0e8880c58ea65068827af19aa57df99e07da1109ce0dc5e321474e5f3a08d850b",
   "display_name": "Python 3.8.8 64-bit ('ds2021': conda)"
  },
  "metadata": {
   "interpreter": {
    "hash": "e8880c58ea65068827af19aa57df99e07da1109ce0dc5e321474e5f3a08d850b"
   }
  }
 },
 "nbformat": 4,
 "nbformat_minor": 2,
 "cells": [
  {
   "cell_type": "code",
   "execution_count": 1,
   "metadata": {},
   "outputs": [],
   "source": [
    "import numpy as np\n",
    "import pandas as pd\n",
    "import scipy.stats as ss"
   ]
  },
  {
   "cell_type": "code",
   "execution_count": 2,
   "metadata": {},
   "outputs": [
    {
     "output_type": "stream",
     "name": "stdout",
     "text": [
      "(200, 5)\n<class 'pandas.core.frame.DataFrame'>\nRangeIndex: 200 entries, 0 to 199\nData columns (total 5 columns):\n #   Column  Non-Null Count  Dtype \n---  ------  --------------  ----- \n 0   ShopID  200 non-null    int64 \n 1   Pref    200 non-null    object\n 2   Type    200 non-null    object\n 3   Sales1  200 non-null    int64 \n 4   Sales2  200 non-null    int64 \ndtypes: int64(3), object(2)\nmemory usage: 7.9+ KB\nNone\n"
     ]
    },
    {
     "output_type": "display_data",
     "data": {
      "text/plain": "   ShopID      Pref       Type  Sales1  Sales2\n0     101   Saitama  franchise     108     110\n1     102   Saitama     direct      94     108\n2     103     Tokyo     direct     103      89\n3     104   Saitama  franchise      99     122\n4     105  Kanagawa  franchise     113     109",
      "text/html": "<div>\n<style scoped>\n    .dataframe tbody tr th:only-of-type {\n        vertical-align: middle;\n    }\n\n    .dataframe tbody tr th {\n        vertical-align: top;\n    }\n\n    .dataframe thead th {\n        text-align: right;\n    }\n</style>\n<table border=\"1\" class=\"dataframe\">\n  <thead>\n    <tr style=\"text-align: right;\">\n      <th></th>\n      <th>ShopID</th>\n      <th>Pref</th>\n      <th>Type</th>\n      <th>Sales1</th>\n      <th>Sales2</th>\n    </tr>\n  </thead>\n  <tbody>\n    <tr>\n      <th>0</th>\n      <td>101</td>\n      <td>Saitama</td>\n      <td>franchise</td>\n      <td>108</td>\n      <td>110</td>\n    </tr>\n    <tr>\n      <th>1</th>\n      <td>102</td>\n      <td>Saitama</td>\n      <td>direct</td>\n      <td>94</td>\n      <td>108</td>\n    </tr>\n    <tr>\n      <th>2</th>\n      <td>103</td>\n      <td>Tokyo</td>\n      <td>direct</td>\n      <td>103</td>\n      <td>89</td>\n    </tr>\n    <tr>\n      <th>3</th>\n      <td>104</td>\n      <td>Saitama</td>\n      <td>franchise</td>\n      <td>99</td>\n      <td>122</td>\n    </tr>\n    <tr>\n      <th>4</th>\n      <td>105</td>\n      <td>Kanagawa</td>\n      <td>franchise</td>\n      <td>113</td>\n      <td>109</td>\n    </tr>\n  </tbody>\n</table>\n</div>"
     },
     "metadata": {}
    }
   ],
   "source": [
    "df = pd.read_csv('shop_sales.csv', delimiter=',', skiprows=0, header=0)\n",
    "print(df.shape)\n",
    "print(df.info())\n",
    "display(df.head())"
   ]
  },
  {
   "cell_type": "code",
   "execution_count": 3,
   "metadata": {},
   "outputs": [
    {
     "output_type": "stream",
     "name": "stdout",
     "text": [
      "9.227723073665455 2.0675782068478105e-17\n"
     ]
    }
   ],
   "source": [
    "t, p = ss.ttest_1samp(df['Sales2']-df['Sales1'], 0.0)\n",
    "print(t, p/2)"
   ]
  },
  {
   "cell_type": "code",
   "execution_count": 5,
   "metadata": {},
   "outputs": [
    {
     "output_type": "stream",
     "name": "stdout",
     "text": [
      "-0.014203050540638733 0.9887077113871919\n"
     ]
    }
   ],
   "source": [
    "df_tokyo = df[ df['Pref'] == 'Tokyo' ]\n",
    "df_chiba = df[ df['Pref'] == 'Chiba' ]\n",
    "t, p = ss.ttest_ind(df_tokyo['Sales2'], df_chiba['Sales2'], equal_var=False)\n",
    "print(t, p)"
   ]
  },
  {
   "cell_type": "code",
   "execution_count": 8,
   "metadata": {},
   "outputs": [
    {
     "output_type": "display_data",
     "data": {
      "text/plain": "Type      direct  franchise\nPref                       \nChiba         13         15\nKanagawa      28         30\nSaitama       24         25\nTokyo         34         31",
      "text/html": "<div>\n<style scoped>\n    .dataframe tbody tr th:only-of-type {\n        vertical-align: middle;\n    }\n\n    .dataframe tbody tr th {\n        vertical-align: top;\n    }\n\n    .dataframe thead th {\n        text-align: right;\n    }\n</style>\n<table border=\"1\" class=\"dataframe\">\n  <thead>\n    <tr style=\"text-align: right;\">\n      <th>Type</th>\n      <th>direct</th>\n      <th>franchise</th>\n    </tr>\n    <tr>\n      <th>Pref</th>\n      <th></th>\n      <th></th>\n    </tr>\n  </thead>\n  <tbody>\n    <tr>\n      <th>Chiba</th>\n      <td>13</td>\n      <td>15</td>\n    </tr>\n    <tr>\n      <th>Kanagawa</th>\n      <td>28</td>\n      <td>30</td>\n    </tr>\n    <tr>\n      <th>Saitama</th>\n      <td>24</td>\n      <td>25</td>\n    </tr>\n    <tr>\n      <th>Tokyo</th>\n      <td>34</td>\n      <td>31</td>\n    </tr>\n  </tbody>\n</table>\n</div>"
     },
     "metadata": {}
    },
    {
     "output_type": "stream",
     "name": "stdout",
     "text": [
      "0.9502219446727902\n"
     ]
    }
   ],
   "source": [
    "ct = pd.crosstab(df['Pref'], df['Type'])\n",
    "display(ct)\n",
    "_, p, _, _ = ss.chi2_contingency(ct)\n",
    "print(p)"
   ]
  },
  {
   "cell_type": "code",
   "execution_count": null,
   "metadata": {},
   "outputs": [],
   "source": []
  }
 ]
}