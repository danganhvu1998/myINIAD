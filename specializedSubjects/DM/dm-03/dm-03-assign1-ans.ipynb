{
 "cells": [
  {
   "cell_type": "markdown",
   "metadata": {},
   "source": [
    "### DM-04 Assignment 1  "
   ]
  },
  {
   "cell_type": "markdown",
   "metadata": {},
   "source": [
    "#### Import libraries  "
   ]
  },
  {
   "cell_type": "code",
   "execution_count": 1,
   "metadata": {},
   "outputs": [],
   "source": [
    "import numpy as np\n",
    "import pandas as pd\n",
    "import scipy.stats as ss"
   ]
  },
  {
   "cell_type": "markdown",
   "metadata": {},
   "source": [
    "#### Parameters  "
   ]
  },
  {
   "cell_type": "code",
   "execution_count": 2,
   "metadata": {},
   "outputs": [],
   "source": [
    "csv_in = 'shop_sales.csv'"
   ]
  },
  {
   "cell_type": "markdown",
   "metadata": {},
   "source": [
    "#### Read CSV file  "
   ]
  },
  {
   "cell_type": "code",
   "execution_count": 3,
   "metadata": {},
   "outputs": [
    {
     "output_type": "stream",
     "name": "stdout",
     "text": [
      "(200, 5)\n<class 'pandas.core.frame.DataFrame'>\nRangeIndex: 200 entries, 0 to 199\nData columns (total 5 columns):\n #   Column  Non-Null Count  Dtype \n---  ------  --------------  ----- \n 0   ShopID  200 non-null    int64 \n 1   Pref    200 non-null    object\n 2   Type    200 non-null    object\n 3   Sales1  200 non-null    int64 \n 4   Sales2  200 non-null    int64 \ndtypes: int64(3), object(2)\nmemory usage: 7.9+ KB\nNone\n"
     ]
    },
    {
     "output_type": "display_data",
     "data": {
      "text/plain": "   ShopID      Pref       Type  Sales1  Sales2\n0     101   Saitama  franchise     108     110\n1     102   Saitama     direct      94     108\n2     103     Tokyo     direct     103      89\n3     104   Saitama  franchise      99     122\n4     105  Kanagawa  franchise     113     109",
      "text/html": "<div>\n<style scoped>\n    .dataframe tbody tr th:only-of-type {\n        vertical-align: middle;\n    }\n\n    .dataframe tbody tr th {\n        vertical-align: top;\n    }\n\n    .dataframe thead th {\n        text-align: right;\n    }\n</style>\n<table border=\"1\" class=\"dataframe\">\n  <thead>\n    <tr style=\"text-align: right;\">\n      <th></th>\n      <th>ShopID</th>\n      <th>Pref</th>\n      <th>Type</th>\n      <th>Sales1</th>\n      <th>Sales2</th>\n    </tr>\n  </thead>\n  <tbody>\n    <tr>\n      <th>0</th>\n      <td>101</td>\n      <td>Saitama</td>\n      <td>franchise</td>\n      <td>108</td>\n      <td>110</td>\n    </tr>\n    <tr>\n      <th>1</th>\n      <td>102</td>\n      <td>Saitama</td>\n      <td>direct</td>\n      <td>94</td>\n      <td>108</td>\n    </tr>\n    <tr>\n      <th>2</th>\n      <td>103</td>\n      <td>Tokyo</td>\n      <td>direct</td>\n      <td>103</td>\n      <td>89</td>\n    </tr>\n    <tr>\n      <th>3</th>\n      <td>104</td>\n      <td>Saitama</td>\n      <td>franchise</td>\n      <td>99</td>\n      <td>122</td>\n    </tr>\n    <tr>\n      <th>4</th>\n      <td>105</td>\n      <td>Kanagawa</td>\n      <td>franchise</td>\n      <td>113</td>\n      <td>109</td>\n    </tr>\n  </tbody>\n</table>\n</div>"
     },
     "metadata": {}
    }
   ],
   "source": [
    "df = pd.read_csv(csv_in, delimiter=',', skiprows=0, header=0)\n",
    "print(df.shape)\n",
    "print(df.info())\n",
    "display(df.head())"
   ]
  },
  {
   "cell_type": "markdown",
   "metadata": {},
   "source": [
    "#### 1. Is Sales2 larger than Sales1?  \n",
    "Welch (t) test for difference of poppulation means (paired t-test, one-sided)  \n",
    "母平均の差の検定(対応のあるWelch(t)検定)  "
   ]
  },
  {
   "cell_type": "code",
   "execution_count": 4,
   "metadata": {},
   "outputs": [
    {
     "output_type": "stream",
     "name": "stdout",
     "text": [
      "9.227723073665455 2.0675782068478105e-17\n"
     ]
    }
   ],
   "source": [
    "t, p = ss.ttest_1samp(df['Sales2']-df['Sales1'], 0.0)\n",
    "print(t, p/2)"
   ]
  },
  {
   "cell_type": "markdown",
   "metadata": {},
   "source": [
    "**Answer 1:  \n",
    "H0: Sales2の母平均とSales1の母平均に差はない  \n",
    "H1: Sales2の母平均はSales1の母平均より大  \n",
    "結論: Sales2の母平均はSales1の母平均より有意に大  \n",
    "根拠: t > 0 and p/2 = 2.068e-17 < 0.05**\n",
    "\n",
    "**H0: There is no difference between the population mean of Sales2 and that of Sales1  \n",
    "H1: The population mean of Sales2 is larger than that of Sales1  \n",
    "Conclusion: The population mean of Sales2 is significantly larger than that of Sales1  \n",
    "Basis: t > 0 and p/2 = 2.068e-17 < 0.05**"
   ]
  },
  {
   "cell_type": "markdown",
   "metadata": {},
   "source": [
    "#### 2. Are Sales2 of Tokyo and Saitama different?  \n",
    "Welch (t) test for difference of poppulation means (unpaired t-test, two-sided)  \n",
    "TokyoとSaitamaのSales2の販売数は、有意に異なるといえるか。  "
   ]
  },
  {
   "cell_type": "code",
   "execution_count": 5,
   "metadata": {},
   "outputs": [
    {
     "output_type": "stream",
     "name": "stdout",
     "text": [
      "0.11753155786638277 0.9066597833906881\n"
     ]
    }
   ],
   "source": [
    "df_tky = df[ df['Pref'] == 'Tokyo' ]\n",
    "df_stm = df[ df['Pref'] == 'Chi' ]\n",
    "t, p = ss.ttest_ind(df_tky['Sales2'], df_stm['Sales2'], equal_var=False)\n",
    "print(t, p)"
   ]
  },
  {
   "cell_type": "markdown",
   "metadata": {},
   "source": [
    "**Answer 2:  \n",
    "H0: Tokyoの母平均とSaitamaの母平均に差はない  \n",
    "H1: Tokyoの母平均とSaitamaの母平均は異なる  \n",
    "結論: Tokyoの母平均とSaitamaの母平均は有意に異なるとはいえない  \n",
    "根拠: p = 0.907 > 0.05**\n",
    "\n",
    "**H0: There is no difference between the population mean of Tokyo and that of Saitama  \n",
    "H1: The population mean of Tokyo is different from that of Saitama  \n",
    "Conclusion: We can not say that there is significant difference between the population mean of Tokyo and that of Saitama.  \n",
    "Basis: p = 0.907 > 0.05**"
   ]
  },
  {
   "cell_type": "markdown",
   "metadata": {},
   "source": [
    "#### 3. Is there any relationship between Pref and Shop types?  \n",
    "(test of independence by chi-squared test)   \n",
    "都道府県と店舗種類のクロス集計表を作成し、都道府県と店舗種類の間に関連があるかどうかを判断  \n",
    "(独立性のカイ2乗検定)  "
   ]
  },
  {
   "cell_type": "code",
   "execution_count": 6,
   "metadata": {},
   "outputs": [
    {
     "output_type": "display_data",
     "data": {
      "text/plain": "Type      direct  franchise\nPref                       \nChiba         13         15\nKanagawa      28         30\nSaitama       24         25\nTokyo         34         31",
      "text/html": "<div>\n<style scoped>\n    .dataframe tbody tr th:only-of-type {\n        vertical-align: middle;\n    }\n\n    .dataframe tbody tr th {\n        vertical-align: top;\n    }\n\n    .dataframe thead th {\n        text-align: right;\n    }\n</style>\n<table border=\"1\" class=\"dataframe\">\n  <thead>\n    <tr style=\"text-align: right;\">\n      <th>Type</th>\n      <th>direct</th>\n      <th>franchise</th>\n    </tr>\n    <tr>\n      <th>Pref</th>\n      <th></th>\n      <th></th>\n    </tr>\n  </thead>\n  <tbody>\n    <tr>\n      <th>Chiba</th>\n      <td>13</td>\n      <td>15</td>\n    </tr>\n    <tr>\n      <th>Kanagawa</th>\n      <td>28</td>\n      <td>30</td>\n    </tr>\n    <tr>\n      <th>Saitama</th>\n      <td>24</td>\n      <td>25</td>\n    </tr>\n    <tr>\n      <th>Tokyo</th>\n      <td>34</td>\n      <td>31</td>\n    </tr>\n  </tbody>\n</table>\n</div>"
     },
     "metadata": {}
    }
   ],
   "source": [
    "ct = pd.crosstab(df['Pref'], df['Type'])\n",
    "display(ct)"
   ]
  },
  {
   "cell_type": "code",
   "execution_count": 7,
   "metadata": {},
   "outputs": [
    {
     "output_type": "stream",
     "name": "stdout",
     "text": [
      "0.35072743456882416 0.9502219446727902 3 [[13.86  14.14 ]\n",
      " [28.71  29.29 ]\n",
      " [24.255 24.745]\n",
      " [32.175 32.825]]\n"
     ]
    }
   ],
   "source": [
    "chi2, p, dof, expected = ss.chi2_contingency(ct)\n",
    "print(chi2, p, dof, expected)"
   ]
  },
  {
   "cell_type": "markdown",
   "metadata": {},
   "source": [
    "**Answer 3:  \n",
    "H0: 都道府県と店舗種類の間には関連がない（両者は独立である）  \n",
    "H1: 都道府県と店舗種類の間には関連がある（両者は独立でない）  \n",
    "結論: 都道府県と店舗種類の間には有意な関連があるとはいえない（この都道府県はこの種類が多い、などの傾向はない）  \n",
    "根拠: p = 0.950 > 0.05**\n",
    "\n",
    "**H0: There is no relationship between Prefs and Store types (independend).  \n",
    "H1: There is a relationship between Prefs and Store types (dependent).  \n",
    "Conclusion: We can not say that there is a significant relationship between Prefs and Store types.  \n",
    "Basis: p = 0.950 > 0.05**"
   ]
  },
  {
   "cell_type": "markdown",
   "metadata": {},
   "source": [
    "#### (Adv) 4. Is the ratio of #shops in each pref consistent to the ratio of population of each pref?  \n",
    "(M: 1 milion; Tokyo:14.0M, Saitama:7.3M, Chiba:6.3M, Kanagawa:9.2M)  \n",
    "(発展) 各都道府県の店舗数の比率は、都道府県の人口(Mを100万人として、  \n",
    "Tokyo:14.0M, Saitama:7.3M, Chiba:6.3M, Kanagawa:9.2M)  の比率  \n",
    "と一致しているとみなしてよいか。  \n",
    "\n",
    "chi-square goodness-of-fit test  \n",
    "適合度のカイ2乗検定   "
   ]
  },
  {
   "cell_type": "code",
   "execution_count": 8,
   "metadata": {},
   "outputs": [
    {
     "output_type": "stream",
     "name": "stdout",
     "text": [
      "200\nTokyo       65\nKanagawa    58\nSaitama     49\nChiba       28\nName: Pref, dtype: int64\n"
     ]
    }
   ],
   "source": [
    "shop_freq = df['Pref'].value_counts()\n",
    "n_shops = df['Pref'].value_counts().sum()\n",
    "print(n_shops)\n",
    "print(shop_freq)"
   ]
  },
  {
   "cell_type": "code",
   "execution_count": 9,
   "metadata": {},
   "outputs": [
    {
     "output_type": "stream",
     "name": "stdout",
     "text": [
      "Tokyo       14.0\nSaitama      7.3\nChiba        6.3\nKanagawa     9.2\nName: pop, dtype: float64\n"
     ]
    }
   ],
   "source": [
    "pop = pd.Series({'Tokyo':14.0, 'Saitama':7.3, 'Chiba':6.3, 'Kanagawa':9.2}, name='pop')\n",
    "print(pop)"
   ]
  },
  {
   "cell_type": "code",
   "execution_count": 10,
   "metadata": {},
   "outputs": [
    {
     "output_type": "stream",
     "name": "stdout",
     "text": [
      "Tokyo       0.380435\nSaitama     0.198370\nChiba       0.171196\nKanagawa    0.250000\nName: pop, dtype: float64\n"
     ]
    }
   ],
   "source": [
    "pop_ratio = pop / pop.sum()\n",
    "print(pop_ratio)"
   ]
  },
  {
   "cell_type": "markdown",
   "metadata": {},
   "source": [
    "#### Make expected #shops according to pop_ratio  "
   ]
  },
  {
   "cell_type": "code",
   "execution_count": 11,
   "metadata": {},
   "outputs": [
    {
     "output_type": "stream",
     "name": "stdout",
     "text": [
      "Tokyo       76.086957\nKanagawa    50.000000\nSaitama     39.673913\nChiba       34.239130\nName: pop, dtype: float64\n"
     ]
    }
   ],
   "source": [
    "shop_exp = pop_ratio * n_shops\n",
    "shop_exp = shop_exp[ shop_freq.index ]\n",
    "print(shop_exp)"
   ]
  },
  {
   "cell_type": "code",
   "execution_count": 12,
   "metadata": {},
   "outputs": [
    {
     "output_type": "stream",
     "name": "stdout",
     "text": [
      "6.224705370732769 0.10117516999032702\n"
     ]
    }
   ],
   "source": [
    "chi2, p = ss.chisquare(shop_freq, f_exp=shop_exp)\n",
    "print(chi2, p)"
   ]
  },
  {
   "cell_type": "markdown",
   "metadata": {},
   "source": [
    "**Answer 4:  \n",
    "H0: 比率は一致している  \n",
    "H1: 比率は異なっている  \n",
    "結論: 比率が有意に異なっているとはいえない    \n",
    "根拠: p = 0.101 > 0.05**  \n",
    "\n",
    "**H0: Ratios are the same.  \n",
    "H1: Ratios are different from each other.  \n",
    "Conclusion: We can not say that ratios are significantly different from each other.  \n",
    "Basis: p = 0.101 > 0.05**"
   ]
  },
  {
   "cell_type": "code",
   "execution_count": null,
   "metadata": {},
   "outputs": [],
   "source": []
  }
 ],
 "metadata": {
  "kernelspec": {
   "name": "python388jvsc74a57bd0e8880c58ea65068827af19aa57df99e07da1109ce0dc5e321474e5f3a08d850b",
   "display_name": "Python 3.8.8 64-bit ('ds2021': conda)"
  },
  "language_info": {
   "codemirror_mode": {
    "name": "ipython",
    "version": 3
   },
   "file_extension": ".py",
   "mimetype": "text/x-python",
   "name": "python",
   "nbconvert_exporter": "python",
   "pygments_lexer": "ipython3",
   "version": "3.8.8"
  },
  "metadata": {
   "interpreter": {
    "hash": "e8880c58ea65068827af19aa57df99e07da1109ce0dc5e321474e5f3a08d850b"
   }
  }
 },
 "nbformat": 4,
 "nbformat_minor": 4
}