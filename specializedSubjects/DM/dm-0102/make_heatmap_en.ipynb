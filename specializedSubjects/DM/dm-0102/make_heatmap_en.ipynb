{
 "cells": [
  {
   "cell_type": "markdown",
   "metadata": {},
   "source": [
    "## Example of displaying heatmap using folium (English)  "
   ]
  },
  {
   "cell_type": "markdown",
   "metadata": {},
   "source": [
    "### Import libraries  "
   ]
  },
  {
   "cell_type": "code",
   "execution_count": 1,
   "metadata": {},
   "outputs": [],
   "source": [
    "import pandas as pd\n",
    "import folium"
   ]
  },
  {
   "cell_type": "markdown",
   "metadata": {},
   "source": [
    "### Parameters"
   ]
  },
  {
   "cell_type": "code",
   "execution_count": 2,
   "metadata": {},
   "outputs": [],
   "source": [
    "csv_in = 'pop_move_H27_H28_en-utf8.csv'\n",
    "\n",
    "pd.options.display.max_rows = 999\n",
    "pd.options.display.max_columns = 999"
   ]
  },
  {
   "cell_type": "markdown",
   "metadata": {},
   "source": [
    "### Read CSV file"
   ]
  },
  {
   "cell_type": "code",
   "execution_count": 3,
   "metadata": {},
   "outputs": [
    {
     "name": "stdout",
     "output_type": "stream",
     "text": [
      "(47, 3)\n",
      "<class 'pandas.core.frame.DataFrame'>\n",
      "RangeIndex: 47 entries, 0 to 46\n",
      "Data columns (total 3 columns):\n",
      " #   Column    Non-Null Count  Dtype \n",
      "---  ------    --------------  ----- \n",
      " 0   Pref      47 non-null     object\n",
      " 1   Move_in   47 non-null     int64 \n",
      " 2   Move_out  47 non-null     int64 \n",
      "dtypes: int64(2), object(1)\n",
      "memory usage: 1.2+ KB\n",
      "None\n"
     ]
    },
    {
     "data": {
      "text/html": [
       "<div>\n",
       "<style scoped>\n",
       "    .dataframe tbody tr th:only-of-type {\n",
       "        vertical-align: middle;\n",
       "    }\n",
       "\n",
       "    .dataframe tbody tr th {\n",
       "        vertical-align: top;\n",
       "    }\n",
       "\n",
       "    .dataframe thead th {\n",
       "        text-align: right;\n",
       "    }\n",
       "</style>\n",
       "<table border=\"1\" class=\"dataframe\">\n",
       "  <thead>\n",
       "    <tr style=\"text-align: right;\">\n",
       "      <th></th>\n",
       "      <th>Pref</th>\n",
       "      <th>Move_in</th>\n",
       "      <th>Move_out</th>\n",
       "    </tr>\n",
       "  </thead>\n",
       "  <tbody>\n",
       "    <tr>\n",
       "      <th>0</th>\n",
       "      <td>Hokkaido</td>\n",
       "      <td>48544</td>\n",
       "      <td>55418</td>\n",
       "    </tr>\n",
       "    <tr>\n",
       "      <th>1</th>\n",
       "      <td>Aomori</td>\n",
       "      <td>17061</td>\n",
       "      <td>23384</td>\n",
       "    </tr>\n",
       "    <tr>\n",
       "      <th>2</th>\n",
       "      <td>Iwate</td>\n",
       "      <td>17113</td>\n",
       "      <td>20983</td>\n",
       "    </tr>\n",
       "    <tr>\n",
       "      <th>3</th>\n",
       "      <td>Miyagi</td>\n",
       "      <td>47124</td>\n",
       "      <td>47607</td>\n",
       "    </tr>\n",
       "    <tr>\n",
       "      <th>4</th>\n",
       "      <td>Akita</td>\n",
       "      <td>11353</td>\n",
       "      <td>15751</td>\n",
       "    </tr>\n",
       "  </tbody>\n",
       "</table>\n",
       "</div>"
      ],
      "text/plain": [
       "       Pref  Move_in  Move_out\n",
       "0  Hokkaido    48544     55418\n",
       "1    Aomori    17061     23384\n",
       "2     Iwate    17113     20983\n",
       "3    Miyagi    47124     47607\n",
       "4     Akita    11353     15751"
      ]
     },
     "metadata": {},
     "output_type": "display_data"
    }
   ],
   "source": [
    "df = pd.read_csv(csv_in, delimiter=',', skiprows=0, header=0)\n",
    "print(df.shape)\n",
    "print(df.info())\n",
    "display(df.head())\n",
    "#display(df)"
   ]
  },
  {
   "cell_type": "markdown",
   "metadata": {},
   "source": [
    "### Calculation of increase/decrease of population  "
   ]
  },
  {
   "cell_type": "code",
   "execution_count": 4,
   "metadata": {},
   "outputs": [
    {
     "data": {
      "text/html": [
       "<div>\n",
       "<style scoped>\n",
       "    .dataframe tbody tr th:only-of-type {\n",
       "        vertical-align: middle;\n",
       "    }\n",
       "\n",
       "    .dataframe tbody tr th {\n",
       "        vertical-align: top;\n",
       "    }\n",
       "\n",
       "    .dataframe thead th {\n",
       "        text-align: right;\n",
       "    }\n",
       "</style>\n",
       "<table border=\"1\" class=\"dataframe\">\n",
       "  <thead>\n",
       "    <tr style=\"text-align: right;\">\n",
       "      <th></th>\n",
       "      <th>Pref</th>\n",
       "      <th>Move_in</th>\n",
       "      <th>Move_out</th>\n",
       "      <th>diff</th>\n",
       "    </tr>\n",
       "  </thead>\n",
       "  <tbody>\n",
       "    <tr>\n",
       "      <th>0</th>\n",
       "      <td>Hokkaido</td>\n",
       "      <td>48544</td>\n",
       "      <td>55418</td>\n",
       "      <td>-6874</td>\n",
       "    </tr>\n",
       "    <tr>\n",
       "      <th>1</th>\n",
       "      <td>Aomori</td>\n",
       "      <td>17061</td>\n",
       "      <td>23384</td>\n",
       "      <td>-6323</td>\n",
       "    </tr>\n",
       "    <tr>\n",
       "      <th>2</th>\n",
       "      <td>Iwate</td>\n",
       "      <td>17113</td>\n",
       "      <td>20983</td>\n",
       "      <td>-3870</td>\n",
       "    </tr>\n",
       "    <tr>\n",
       "      <th>3</th>\n",
       "      <td>Miyagi</td>\n",
       "      <td>47124</td>\n",
       "      <td>47607</td>\n",
       "      <td>-483</td>\n",
       "    </tr>\n",
       "    <tr>\n",
       "      <th>4</th>\n",
       "      <td>Akita</td>\n",
       "      <td>11353</td>\n",
       "      <td>15751</td>\n",
       "      <td>-4398</td>\n",
       "    </tr>\n",
       "  </tbody>\n",
       "</table>\n",
       "</div>"
      ],
      "text/plain": [
       "       Pref  Move_in  Move_out  diff\n",
       "0  Hokkaido    48544     55418 -6874\n",
       "1    Aomori    17061     23384 -6323\n",
       "2     Iwate    17113     20983 -3870\n",
       "3    Miyagi    47124     47607  -483\n",
       "4     Akita    11353     15751 -4398"
      ]
     },
     "metadata": {},
     "output_type": "display_data"
    }
   ],
   "source": [
    "df['diff'] = df['Move_in'] - df['Move_out']\n",
    "display(df.head())"
   ]
  },
  {
   "cell_type": "markdown",
   "metadata": {},
   "source": [
    "### Check data  "
   ]
  },
  {
   "cell_type": "code",
   "execution_count": 5,
   "metadata": {},
   "outputs": [
    {
     "name": "stdout",
     "output_type": "stream",
     "text": [
      "Pref        Hokkaido\n",
      "Move_in        48544\n",
      "Move_out       55418\n",
      "diff           -6874\n",
      "Name: 0, dtype: object\n",
      "Pref         Tokyo\n",
      "Move_in     413444\n",
      "Move_out    339267\n",
      "diff         74177\n",
      "Name: 12, dtype: object\n"
     ]
    }
   ],
   "source": [
    "print(df.loc[df['diff'].idxmin()])\n",
    "print(df.loc[df['diff'].idxmax()])"
   ]
  },
  {
   "cell_type": "markdown",
   "metadata": {},
   "source": [
    "### Parameters2 (for lat/lon)   "
   ]
  },
  {
   "cell_type": "code",
   "execution_count": 6,
   "metadata": {},
   "outputs": [],
   "source": [
    "csv_in2 = 'h3010pref_pos_utf8_en.csv'"
   ]
  },
  {
   "cell_type": "markdown",
   "metadata": {},
   "source": [
    "### Read CSV file"
   ]
  },
  {
   "cell_type": "code",
   "execution_count": 7,
   "metadata": {},
   "outputs": [
    {
     "name": "stdout",
     "output_type": "stream",
     "text": [
      "(47, 3)\n"
     ]
    },
    {
     "data": {
      "text/html": [
       "<div>\n",
       "<style scoped>\n",
       "    .dataframe tbody tr th:only-of-type {\n",
       "        vertical-align: middle;\n",
       "    }\n",
       "\n",
       "    .dataframe tbody tr th {\n",
       "        vertical-align: top;\n",
       "    }\n",
       "\n",
       "    .dataframe thead th {\n",
       "        text-align: right;\n",
       "    }\n",
       "</style>\n",
       "<table border=\"1\" class=\"dataframe\">\n",
       "  <thead>\n",
       "    <tr style=\"text-align: right;\">\n",
       "      <th></th>\n",
       "      <th>Pref</th>\n",
       "      <th>lat</th>\n",
       "      <th>lon</th>\n",
       "    </tr>\n",
       "  </thead>\n",
       "  <tbody>\n",
       "    <tr>\n",
       "      <th>0</th>\n",
       "      <td>Hokkaido</td>\n",
       "      <td>43.064278</td>\n",
       "      <td>141.346785</td>\n",
       "    </tr>\n",
       "    <tr>\n",
       "      <th>1</th>\n",
       "      <td>Aomori</td>\n",
       "      <td>40.824338</td>\n",
       "      <td>140.740087</td>\n",
       "    </tr>\n",
       "    <tr>\n",
       "      <th>2</th>\n",
       "      <td>Iwate</td>\n",
       "      <td>39.703647</td>\n",
       "      <td>141.152592</td>\n",
       "    </tr>\n",
       "    <tr>\n",
       "      <th>3</th>\n",
       "      <td>Miyagi</td>\n",
       "      <td>38.268803</td>\n",
       "      <td>140.871846</td>\n",
       "    </tr>\n",
       "    <tr>\n",
       "      <th>4</th>\n",
       "      <td>Akita</td>\n",
       "      <td>39.718058</td>\n",
       "      <td>140.103250</td>\n",
       "    </tr>\n",
       "  </tbody>\n",
       "</table>\n",
       "</div>"
      ],
      "text/plain": [
       "       Pref        lat         lon\n",
       "0  Hokkaido  43.064278  141.346785\n",
       "1    Aomori  40.824338  140.740087\n",
       "2     Iwate  39.703647  141.152592\n",
       "3    Miyagi  38.268803  140.871846\n",
       "4     Akita  39.718058  140.103250"
      ]
     },
     "metadata": {},
     "output_type": "display_data"
    }
   ],
   "source": [
    "df_pos = pd.read_csv(csv_in2, delimiter=',', skiprows=0, header=0)\n",
    "print(df_pos.shape)\n",
    "display(df_pos.head())"
   ]
  },
  {
   "cell_type": "markdown",
   "metadata": {},
   "source": [
    "### Merge DataFrames to add lat/lon to pref data  "
   ]
  },
  {
   "cell_type": "code",
   "execution_count": 8,
   "metadata": {},
   "outputs": [
    {
     "name": "stdout",
     "output_type": "stream",
     "text": [
      "(47, 6)\n"
     ]
    },
    {
     "data": {
      "text/html": [
       "<div>\n",
       "<style scoped>\n",
       "    .dataframe tbody tr th:only-of-type {\n",
       "        vertical-align: middle;\n",
       "    }\n",
       "\n",
       "    .dataframe tbody tr th {\n",
       "        vertical-align: top;\n",
       "    }\n",
       "\n",
       "    .dataframe thead th {\n",
       "        text-align: right;\n",
       "    }\n",
       "</style>\n",
       "<table border=\"1\" class=\"dataframe\">\n",
       "  <thead>\n",
       "    <tr style=\"text-align: right;\">\n",
       "      <th></th>\n",
       "      <th>Pref</th>\n",
       "      <th>Move_in</th>\n",
       "      <th>Move_out</th>\n",
       "      <th>diff</th>\n",
       "      <th>lat</th>\n",
       "      <th>lon</th>\n",
       "    </tr>\n",
       "  </thead>\n",
       "  <tbody>\n",
       "    <tr>\n",
       "      <th>0</th>\n",
       "      <td>Hokkaido</td>\n",
       "      <td>48544</td>\n",
       "      <td>55418</td>\n",
       "      <td>-6874</td>\n",
       "      <td>43.064278</td>\n",
       "      <td>141.346785</td>\n",
       "    </tr>\n",
       "    <tr>\n",
       "      <th>1</th>\n",
       "      <td>Aomori</td>\n",
       "      <td>17061</td>\n",
       "      <td>23384</td>\n",
       "      <td>-6323</td>\n",
       "      <td>40.824338</td>\n",
       "      <td>140.740087</td>\n",
       "    </tr>\n",
       "    <tr>\n",
       "      <th>2</th>\n",
       "      <td>Iwate</td>\n",
       "      <td>17113</td>\n",
       "      <td>20983</td>\n",
       "      <td>-3870</td>\n",
       "      <td>39.703647</td>\n",
       "      <td>141.152592</td>\n",
       "    </tr>\n",
       "    <tr>\n",
       "      <th>3</th>\n",
       "      <td>Miyagi</td>\n",
       "      <td>47124</td>\n",
       "      <td>47607</td>\n",
       "      <td>-483</td>\n",
       "      <td>38.268803</td>\n",
       "      <td>140.871846</td>\n",
       "    </tr>\n",
       "    <tr>\n",
       "      <th>4</th>\n",
       "      <td>Akita</td>\n",
       "      <td>11353</td>\n",
       "      <td>15751</td>\n",
       "      <td>-4398</td>\n",
       "      <td>39.718058</td>\n",
       "      <td>140.103250</td>\n",
       "    </tr>\n",
       "  </tbody>\n",
       "</table>\n",
       "</div>"
      ],
      "text/plain": [
       "       Pref  Move_in  Move_out  diff        lat         lon\n",
       "0  Hokkaido    48544     55418 -6874  43.064278  141.346785\n",
       "1    Aomori    17061     23384 -6323  40.824338  140.740087\n",
       "2     Iwate    17113     20983 -3870  39.703647  141.152592\n",
       "3    Miyagi    47124     47607  -483  38.268803  140.871846\n",
       "4     Akita    11353     15751 -4398  39.718058  140.103250"
      ]
     },
     "metadata": {},
     "output_type": "display_data"
    }
   ],
   "source": [
    "df_merged = pd.merge(df, df_pos, on='Pref', how='left')\n",
    "print(df_merged.shape)\n",
    "display(df_merged.head())"
   ]
  },
  {
   "cell_type": "markdown",
   "metadata": {},
   "source": [
    "### Make data for heatmap  \n",
    "[ [lat2, lon2, value2], [lat2, lon2, value2], ... ]  "
   ]
  },
  {
   "cell_type": "code",
   "execution_count": 9,
   "metadata": {},
   "outputs": [
    {
     "name": "stdout",
     "output_type": "stream",
     "text": [
      "(47, 3)\n"
     ]
    },
    {
     "data": {
      "text/html": [
       "<div>\n",
       "<style scoped>\n",
       "    .dataframe tbody tr th:only-of-type {\n",
       "        vertical-align: middle;\n",
       "    }\n",
       "\n",
       "    .dataframe tbody tr th {\n",
       "        vertical-align: top;\n",
       "    }\n",
       "\n",
       "    .dataframe thead th {\n",
       "        text-align: right;\n",
       "    }\n",
       "</style>\n",
       "<table border=\"1\" class=\"dataframe\">\n",
       "  <thead>\n",
       "    <tr style=\"text-align: right;\">\n",
       "      <th></th>\n",
       "      <th>lat</th>\n",
       "      <th>lon</th>\n",
       "      <th>diff</th>\n",
       "    </tr>\n",
       "  </thead>\n",
       "  <tbody>\n",
       "    <tr>\n",
       "      <th>0</th>\n",
       "      <td>43.064278</td>\n",
       "      <td>141.346785</td>\n",
       "      <td>-6874</td>\n",
       "    </tr>\n",
       "    <tr>\n",
       "      <th>1</th>\n",
       "      <td>40.824338</td>\n",
       "      <td>140.740087</td>\n",
       "      <td>-6323</td>\n",
       "    </tr>\n",
       "    <tr>\n",
       "      <th>2</th>\n",
       "      <td>39.703647</td>\n",
       "      <td>141.152592</td>\n",
       "      <td>-3870</td>\n",
       "    </tr>\n",
       "    <tr>\n",
       "      <th>3</th>\n",
       "      <td>38.268803</td>\n",
       "      <td>140.871846</td>\n",
       "      <td>-483</td>\n",
       "    </tr>\n",
       "    <tr>\n",
       "      <th>4</th>\n",
       "      <td>39.718058</td>\n",
       "      <td>140.103250</td>\n",
       "      <td>-4398</td>\n",
       "    </tr>\n",
       "  </tbody>\n",
       "</table>\n",
       "</div>"
      ],
      "text/plain": [
       "         lat         lon  diff\n",
       "0  43.064278  141.346785 -6874\n",
       "1  40.824338  140.740087 -6323\n",
       "2  39.703647  141.152592 -3870\n",
       "3  38.268803  140.871846  -483\n",
       "4  39.718058  140.103250 -4398"
      ]
     },
     "metadata": {},
     "output_type": "display_data"
    }
   ],
   "source": [
    "df_heat = df_merged[['lat', 'lon', 'diff']]\n",
    "print(df_heat.shape)\n",
    "display(df_heat.head())"
   ]
  },
  {
   "cell_type": "code",
   "execution_count": 10,
   "metadata": {},
   "outputs": [
    {
     "name": "stdout",
     "output_type": "stream",
     "text": [
      "[lat       43.064278\n",
      "lon      141.346785\n",
      "diff   -6874.000000\n",
      "Name: 0, dtype: float64, lat       40.824338\n",
      "lon      140.740087\n",
      "diff   -6323.000000\n",
      "Name: 1, dtype: float64, lat       39.703647\n",
      "lon      141.152592\n",
      "diff   -3870.000000\n",
      "Name: 2, dtype: float64]\n"
     ]
    }
   ],
   "source": [
    "ar_heat = []\n",
    "for i,r in df_heat.iterrows():\n",
    "    ar_heat.append(r)\n",
    "print(ar_heat[:3])"
   ]
  },
  {
   "cell_type": "markdown",
   "metadata": {},
   "source": [
    "### Make map  "
   ]
  },
  {
   "cell_type": "code",
   "execution_count": 11,
   "metadata": {},
   "outputs": [
    {
     "data": {
      "text/html": [
       "<div style=\"width:100%;\"><div style=\"position:relative;width:100%;height:0;padding-bottom:60%;\"><iframe src=\"about:blank\" style=\"position:absolute;width:100%;height:100%;left:0;top:0;border:none !important;\" data-html=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 onload=\"this.contentDocument.open();this.contentDocument.write(atob(this.getAttribute('data-html')));this.contentDocument.close();\" allowfullscreen webkitallowfullscreen mozallowfullscreen></iframe></div></div>"
      ],
      "text/plain": [
       "<folium.folium.Map at 0x25f5c58d400>"
      ]
     },
     "metadata": {},
     "output_type": "display_data"
    }
   ],
   "source": [
    "from folium.plugins import HeatMap\n",
    "\n",
    "m = folium.Map(location=[35, 140], zoom_start=4)\n",
    "m.add_child(HeatMap(ar_heat, radius=12))\n",
    "display(m)"
   ]
  },
  {
   "cell_type": "markdown",
   "metadata": {},
   "source": [
    "### Add color bar  "
   ]
  },
  {
   "cell_type": "code",
   "execution_count": 12,
   "metadata": {},
   "outputs": [
    {
     "data": {
      "text/html": [
       "<div style=\"width:100%;\"><div style=\"position:relative;width:100%;height:0;padding-bottom:60%;\"><iframe src=\"about:blank\" style=\"position:absolute;width:100%;height:100%;left:0;top:0;border:none !important;\" data-html=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 onload=\"this.contentDocument.open();this.contentDocument.write(atob(this.getAttribute('data-html')));this.contentDocument.close();\" allowfullscreen webkitallowfullscreen mozallowfullscreen></iframe></div></div>"
      ],
      "text/plain": [
       "<folium.folium.Map at 0x25f5c5d6c50>"
      ]
     },
     "metadata": {},
     "output_type": "display_data"
    }
   ],
   "source": [
    "from folium.plugins import HeatMap\n",
    "import branca.colormap as cm\n",
    "\n",
    "m = folium.Map(location=[35, 140], zoom_start=4)\n",
    "m.add_child(HeatMap(ar_heat, radius=12,\n",
    "                    gradient={0:'blue', 0.5:'lime', 1:'red'}))\n",
    "\n",
    "min = df_heat['diff'].min()\n",
    "max = df_heat['diff'].max()\n",
    "colors = ['blue', 'lime', 'red']\n",
    "colormap = cm.LinearColormap(colors, vmin=min, vmax=max).to_step(10000)\n",
    "colormap.caption = 'Increase/Decrease of Population'\n",
    "m.add_child(colormap)\n",
    "\n",
    "display(m)"
   ]
  },
  {
   "cell_type": "code",
   "execution_count": null,
   "metadata": {},
   "outputs": [],
   "source": []
  }
 ],
 "metadata": {
  "kernelspec": {
   "display_name": "Python 3",
   "language": "python",
   "name": "python3"
  },
  "language_info": {
   "codemirror_mode": {
    "name": "ipython",
    "version": 3
   },
   "file_extension": ".py",
   "mimetype": "text/x-python",
   "name": "python",
   "nbconvert_exporter": "python",
   "pygments_lexer": "ipython3",
   "version": "3.6.10"
  }
 },
 "nbformat": 4,
 "nbformat_minor": 4
}
