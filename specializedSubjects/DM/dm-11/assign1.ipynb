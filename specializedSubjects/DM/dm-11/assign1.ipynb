{
 "cells": [
  {
   "cell_type": "markdown",
   "metadata": {},
   "source": [
    "### Sample program for Association Analysis (Market Basket Analysis) using FP-Growth  "
   ]
  },
  {
   "cell_type": "markdown",
   "metadata": {},
   "source": [
    "#### Import libraries  "
   ]
  },
  {
   "cell_type": "code",
   "execution_count": 116,
   "metadata": {},
   "outputs": [],
   "source": [
    "import pandas as pd\n",
    "import numpy as np\n",
    "import pyfpgrowth  # https://fp-growth.readthedocs.io/en/latest/"
   ]
  },
  {
   "cell_type": "markdown",
   "metadata": {},
   "source": [
    "#### Parameters  "
   ]
  },
  {
   "cell_type": "code",
   "execution_count": 117,
   "metadata": {},
   "outputs": [],
   "source": [
    "csv_in = 'groceries-col.csv'"
   ]
  },
  {
   "cell_type": "markdown",
   "metadata": {},
   "source": [
    "#### Read CSV file  "
   ]
  },
  {
   "cell_type": "code",
   "execution_count": 118,
   "metadata": {},
   "outputs": [
    {
     "name": "stdout",
     "output_type": "stream",
     "text": [
      "(9835, 32)\n",
      "<class 'pandas.core.frame.DataFrame'>\n",
      "RangeIndex: 9835 entries, 0 to 9834\n",
      "Data columns (total 32 columns):\n",
      " #   Column  Non-Null Count  Dtype \n",
      "---  ------  --------------  ----- \n",
      " 0   0       9835 non-null   object\n",
      " 1   1       7676 non-null   object\n",
      " 2   2       6033 non-null   object\n",
      " 3   3       4734 non-null   object\n",
      " 4   4       3729 non-null   object\n",
      " 5   5       2874 non-null   object\n",
      " 6   6       2229 non-null   object\n",
      " 7   7       1684 non-null   object\n",
      " 8   8       1246 non-null   object\n",
      " 9   9       896 non-null    object\n",
      " 10  10      650 non-null    object\n",
      " 11  11      468 non-null    object\n",
      " 12  12      351 non-null    object\n",
      " 13  13      273 non-null    object\n",
      " 14  14      196 non-null    object\n",
      " 15  15      141 non-null    object\n",
      " 16  16      95 non-null     object\n",
      " 17  17      66 non-null     object\n",
      " 18  18      52 non-null     object\n",
      " 19  19      38 non-null     object\n",
      " 20  20      29 non-null     object\n",
      " 21  21      18 non-null     object\n",
      " 22  22      14 non-null     object\n",
      " 23  23      8 non-null      object\n",
      " 24  24      7 non-null      object\n",
      " 25  25      7 non-null      object\n",
      " 26  26      6 non-null      object\n",
      " 27  27      5 non-null      object\n",
      " 28  28      4 non-null      object\n",
      " 29  29      1 non-null      object\n",
      " 30  30      1 non-null      object\n",
      " 31  31      1 non-null      object\n",
      "dtypes: object(32)\n",
      "memory usage: 2.4+ MB\n",
      "None\n"
     ]
    },
    {
     "data": {
      "text/html": [
       "<div>\n",
       "<style scoped>\n",
       "    .dataframe tbody tr th:only-of-type {\n",
       "        vertical-align: middle;\n",
       "    }\n",
       "\n",
       "    .dataframe tbody tr th {\n",
       "        vertical-align: top;\n",
       "    }\n",
       "\n",
       "    .dataframe thead th {\n",
       "        text-align: right;\n",
       "    }\n",
       "</style>\n",
       "<table border=\"1\" class=\"dataframe\">\n",
       "  <thead>\n",
       "    <tr style=\"text-align: right;\">\n",
       "      <th></th>\n",
       "      <th>0</th>\n",
       "      <th>1</th>\n",
       "      <th>2</th>\n",
       "      <th>3</th>\n",
       "      <th>4</th>\n",
       "      <th>5</th>\n",
       "      <th>6</th>\n",
       "      <th>7</th>\n",
       "      <th>8</th>\n",
       "      <th>9</th>\n",
       "      <th>...</th>\n",
       "      <th>22</th>\n",
       "      <th>23</th>\n",
       "      <th>24</th>\n",
       "      <th>25</th>\n",
       "      <th>26</th>\n",
       "      <th>27</th>\n",
       "      <th>28</th>\n",
       "      <th>29</th>\n",
       "      <th>30</th>\n",
       "      <th>31</th>\n",
       "    </tr>\n",
       "  </thead>\n",
       "  <tbody>\n",
       "    <tr>\n",
       "      <th>0</th>\n",
       "      <td>citrus fruit</td>\n",
       "      <td>semi-finished bread</td>\n",
       "      <td>margarine</td>\n",
       "      <td>ready soups</td>\n",
       "      <td>NaN</td>\n",
       "      <td>NaN</td>\n",
       "      <td>NaN</td>\n",
       "      <td>NaN</td>\n",
       "      <td>NaN</td>\n",
       "      <td>NaN</td>\n",
       "      <td>...</td>\n",
       "      <td>NaN</td>\n",
       "      <td>NaN</td>\n",
       "      <td>NaN</td>\n",
       "      <td>NaN</td>\n",
       "      <td>NaN</td>\n",
       "      <td>NaN</td>\n",
       "      <td>NaN</td>\n",
       "      <td>NaN</td>\n",
       "      <td>NaN</td>\n",
       "      <td>NaN</td>\n",
       "    </tr>\n",
       "    <tr>\n",
       "      <th>1</th>\n",
       "      <td>tropical fruit</td>\n",
       "      <td>yogurt</td>\n",
       "      <td>coffee</td>\n",
       "      <td>NaN</td>\n",
       "      <td>NaN</td>\n",
       "      <td>NaN</td>\n",
       "      <td>NaN</td>\n",
       "      <td>NaN</td>\n",
       "      <td>NaN</td>\n",
       "      <td>NaN</td>\n",
       "      <td>...</td>\n",
       "      <td>NaN</td>\n",
       "      <td>NaN</td>\n",
       "      <td>NaN</td>\n",
       "      <td>NaN</td>\n",
       "      <td>NaN</td>\n",
       "      <td>NaN</td>\n",
       "      <td>NaN</td>\n",
       "      <td>NaN</td>\n",
       "      <td>NaN</td>\n",
       "      <td>NaN</td>\n",
       "    </tr>\n",
       "    <tr>\n",
       "      <th>2</th>\n",
       "      <td>whole milk</td>\n",
       "      <td>NaN</td>\n",
       "      <td>NaN</td>\n",
       "      <td>NaN</td>\n",
       "      <td>NaN</td>\n",
       "      <td>NaN</td>\n",
       "      <td>NaN</td>\n",
       "      <td>NaN</td>\n",
       "      <td>NaN</td>\n",
       "      <td>NaN</td>\n",
       "      <td>...</td>\n",
       "      <td>NaN</td>\n",
       "      <td>NaN</td>\n",
       "      <td>NaN</td>\n",
       "      <td>NaN</td>\n",
       "      <td>NaN</td>\n",
       "      <td>NaN</td>\n",
       "      <td>NaN</td>\n",
       "      <td>NaN</td>\n",
       "      <td>NaN</td>\n",
       "      <td>NaN</td>\n",
       "    </tr>\n",
       "    <tr>\n",
       "      <th>3</th>\n",
       "      <td>pip fruit</td>\n",
       "      <td>yogurt</td>\n",
       "      <td>cream cheese</td>\n",
       "      <td>meat spreads</td>\n",
       "      <td>NaN</td>\n",
       "      <td>NaN</td>\n",
       "      <td>NaN</td>\n",
       "      <td>NaN</td>\n",
       "      <td>NaN</td>\n",
       "      <td>NaN</td>\n",
       "      <td>...</td>\n",
       "      <td>NaN</td>\n",
       "      <td>NaN</td>\n",
       "      <td>NaN</td>\n",
       "      <td>NaN</td>\n",
       "      <td>NaN</td>\n",
       "      <td>NaN</td>\n",
       "      <td>NaN</td>\n",
       "      <td>NaN</td>\n",
       "      <td>NaN</td>\n",
       "      <td>NaN</td>\n",
       "    </tr>\n",
       "    <tr>\n",
       "      <th>4</th>\n",
       "      <td>other vegetables</td>\n",
       "      <td>whole milk</td>\n",
       "      <td>condensed milk</td>\n",
       "      <td>long life bakery product</td>\n",
       "      <td>NaN</td>\n",
       "      <td>NaN</td>\n",
       "      <td>NaN</td>\n",
       "      <td>NaN</td>\n",
       "      <td>NaN</td>\n",
       "      <td>NaN</td>\n",
       "      <td>...</td>\n",
       "      <td>NaN</td>\n",
       "      <td>NaN</td>\n",
       "      <td>NaN</td>\n",
       "      <td>NaN</td>\n",
       "      <td>NaN</td>\n",
       "      <td>NaN</td>\n",
       "      <td>NaN</td>\n",
       "      <td>NaN</td>\n",
       "      <td>NaN</td>\n",
       "      <td>NaN</td>\n",
       "    </tr>\n",
       "  </tbody>\n",
       "</table>\n",
       "<p>5 rows × 32 columns</p>\n",
       "</div>"
      ],
      "text/plain": [
       "                 0                    1               2   \\\n",
       "0      citrus fruit  semi-finished bread       margarine   \n",
       "1    tropical fruit               yogurt          coffee   \n",
       "2        whole milk                  NaN             NaN   \n",
       "3         pip fruit               yogurt    cream cheese   \n",
       "4  other vegetables           whole milk  condensed milk   \n",
       "\n",
       "                         3    4    5    6    7    8    9   ...   22   23   24  \\\n",
       "0               ready soups  NaN  NaN  NaN  NaN  NaN  NaN  ...  NaN  NaN  NaN   \n",
       "1                       NaN  NaN  NaN  NaN  NaN  NaN  NaN  ...  NaN  NaN  NaN   \n",
       "2                       NaN  NaN  NaN  NaN  NaN  NaN  NaN  ...  NaN  NaN  NaN   \n",
       "3              meat spreads  NaN  NaN  NaN  NaN  NaN  NaN  ...  NaN  NaN  NaN   \n",
       "4  long life bakery product  NaN  NaN  NaN  NaN  NaN  NaN  ...  NaN  NaN  NaN   \n",
       "\n",
       "    25   26   27   28   29   30   31  \n",
       "0  NaN  NaN  NaN  NaN  NaN  NaN  NaN  \n",
       "1  NaN  NaN  NaN  NaN  NaN  NaN  NaN  \n",
       "2  NaN  NaN  NaN  NaN  NaN  NaN  NaN  \n",
       "3  NaN  NaN  NaN  NaN  NaN  NaN  NaN  \n",
       "4  NaN  NaN  NaN  NaN  NaN  NaN  NaN  \n",
       "\n",
       "[5 rows x 32 columns]"
      ]
     },
     "metadata": {},
     "output_type": "display_data"
    }
   ],
   "source": [
    "df = pd.read_csv(csv_in, delimiter=',', skiprows=0, header=None)\n",
    "print(df.shape)\n",
    "print(df.info())\n",
    "display(df.head())"
   ]
  },
  {
   "cell_type": "code",
   "execution_count": 119,
   "metadata": {},
   "outputs": [
    {
     "name": "stdout",
     "output_type": "stream",
     "text": [
      "{nan, 'bags', 'zwieback', 'decalcifier', 'white bread', 'soft cheese', 'artif. sweetener', 'dog food', 'potato products', 'liqueur', 'rolls/buns', 'hygiene articles', 'shopping bags', 'fish', 'detergent', 'cake bar', 'meat spreads', 'candles', 'ready soups', 'canned vegetables', 'female sanitary products', 'misc. beverages', 'long life bakery product', 'bottled beer', 'organic sausage', 'newspapers', 'liquor (appetizer)', 'softener', 'yogurt', 'meat', 'butter milk', 'rice', 'grapes', 'cream', 'specialty chocolate', 'dish cleaner', 'salty snack', 'chocolate marshmallow', 'organic products', 'fruit/vegetable juice', 'spread cheese', 'flower (seeds)', 'brown bread', 'beverages', 'dishes', 'finished products', 'chewing gum', 'baking powder', 'mayonnaise', 'tropical fruit', 'sugar', 'hair spray', 'white wine', 'soda', 'canned beer', 'frozen fruits', 'chocolate', 'specialty cheese', 'cookware', 'cream cheese', 'kitchen towels', 'turkey', 'male cosmetics', 'packaged fruit/vegetables', 'canned fish', 'coffee', 'curd', 'skin care', 'popcorn', 'tidbits', 'domestic eggs', 'whole milk', 'brandy', 'prosecco', 'abrasive cleaner', 'frozen chicken', 'ketchup', 'kitchen utensil', 'spices', 'candy', 'sweet spreads', 'red/blush wine', 'condensed milk', 'baby food', 'root vegetables', 'sausage', 'honey', 'nut snack', 'dessert', 'frozen fish', 'salad dressing', 'liver loaf', 'instant coffee', 'cereals', 'mustard', 'frankfurter', 'whisky', 'processed cheese', 'toilet cleaner', 'soap', 'other vegetables', 'cling film/bags', 'make up remover', 'snack products', 'pasta', 'tea', 'whipped/sour cream', 'roll products', 'dental care', 'curd cheese', 'ice cream', 'bottled water', 'citrus fruit', 'sound storage medium', 'butter', 'preservation products', 'beef', 'semi-finished bread', 'flour', 'napkins', 'herbs', 'ham', 'liquor', 'photo/film', 'margarine', 'cooking chocolate', 'sauces', 'specialty bar', 'berries', 'jam', 'pudding powder', 'cat food', 'salt', 'specialty vegetables', 'cocoa drinks', 'vinegar', 'frozen meals', 'frozen vegetables', 'cleaner', 'syrup', 'frozen potato products', 'pickled vegetables', 'sliced cheese', 'chicken', 'oil', 'pet care', 'hamburger meat', 'potted plants', 'light bulbs', 'waffles', 'canned fruit', 'baby cosmetics', 'specialty fat', 'soups', 'house keeping products', 'rum', 'UHT-milk', 'frozen dessert', 'seasonal products', 'Instant food products', 'flower soil/fertilizer', 'bathroom cleaner', 'hard cheese', 'pork', 'sparkling wine', 'nuts/prunes', 'pip fruit', 'rubbing alcohol', 'pastry', 'onions'}\n",
      "['Instant food products', 'UHT-milk', 'abrasive cleaner', 'artif. sweetener', 'baby cosmetics', 'baby food', 'bags', 'baking powder', 'bathroom cleaner', 'beef', 'berries', 'beverages', 'bottled beer', 'bottled water', 'brandy', 'brown bread', 'butter', 'butter milk', 'cake bar', 'candles', 'candy', 'canned beer', 'canned fish', 'canned fruit', 'canned vegetables', 'cat food', 'cereals', 'chewing gum', 'chicken', 'chocolate', 'chocolate marshmallow', 'citrus fruit', 'cleaner', 'cling film/bags', 'cocoa drinks', 'coffee', 'condensed milk', 'cooking chocolate', 'cookware', 'cream', 'cream cheese', 'curd', 'curd cheese', 'decalcifier', 'dental care', 'dessert', 'detergent', 'dish cleaner', 'dishes', 'dog food', 'domestic eggs', 'female sanitary products', 'finished products', 'fish', 'flour', 'flower (seeds)', 'flower soil/fertilizer', 'frankfurter', 'frozen chicken', 'frozen dessert', 'frozen fish', 'frozen fruits', 'frozen meals', 'frozen potato products', 'frozen vegetables', 'fruit/vegetable juice', 'grapes', 'hair spray', 'ham', 'hamburger meat', 'hard cheese', 'herbs', 'honey', 'house keeping products', 'hygiene articles', 'ice cream', 'instant coffee', 'jam', 'ketchup', 'kitchen towels', 'kitchen utensil', 'light bulbs', 'liqueur', 'liquor', 'liquor (appetizer)', 'liver loaf', 'long life bakery product', 'make up remover', 'male cosmetics', 'margarine', 'mayonnaise', 'meat', 'meat spreads', 'misc. beverages', 'mustard', 'napkins', 'newspapers', 'nut snack', 'nuts/prunes', 'oil', 'onions', 'organic products', 'organic sausage', 'other vegetables', 'packaged fruit/vegetables', 'pasta', 'pastry', 'pet care', 'photo/film', 'pickled vegetables', 'pip fruit', 'popcorn', 'pork', 'potato products', 'potted plants', 'preservation products', 'processed cheese', 'prosecco', 'pudding powder', 'ready soups', 'red/blush wine', 'rice', 'roll products', 'rolls/buns', 'root vegetables', 'rubbing alcohol', 'rum', 'salad dressing', 'salt', 'salty snack', 'sauces', 'sausage', 'seasonal products', 'semi-finished bread', 'shopping bags', 'skin care', 'sliced cheese', 'snack products', 'soap', 'soda', 'soft cheese', 'softener', 'sound storage medium', 'soups', 'sparkling wine', 'specialty bar', 'specialty cheese', 'specialty chocolate', 'specialty fat', 'specialty vegetables', 'spices', 'spread cheese', 'sugar', 'sweet spreads', 'syrup', 'tea', 'tidbits', 'toilet cleaner', 'tropical fruit', 'turkey', 'vinegar', 'waffles', 'whipped/sour cream', 'whisky', 'white bread', 'white wine', 'whole milk', 'yogurt', 'zwieback']\n"
     ]
    }
   ],
   "source": [
    "values_set = set( df.values.flatten() )\n",
    "print(values_set)\n",
    "values_set.remove(np.nan)\n",
    "id2item = sorted(list(values_set))\n",
    "print(id2item)"
   ]
  },
  {
   "cell_type": "code",
   "execution_count": 120,
   "metadata": {},
   "outputs": [
    {
     "name": "stdout",
     "output_type": "stream",
     "text": [
      "{'Instant food products': 0, 'UHT-milk': 1, 'abrasive cleaner': 2, 'artif. sweetener': 3, 'baby cosmetics': 4, 'baby food': 5, 'bags': 6, 'baking powder': 7, 'bathroom cleaner': 8, 'beef': 9, 'berries': 10, 'beverages': 11, 'bottled beer': 12, 'bottled water': 13, 'brandy': 14, 'brown bread': 15, 'butter': 16, 'butter milk': 17, 'cake bar': 18, 'candles': 19, 'candy': 20, 'canned beer': 21, 'canned fish': 22, 'canned fruit': 23, 'canned vegetables': 24, 'cat food': 25, 'cereals': 26, 'chewing gum': 27, 'chicken': 28, 'chocolate': 29, 'chocolate marshmallow': 30, 'citrus fruit': 31, 'cleaner': 32, 'cling film/bags': 33, 'cocoa drinks': 34, 'coffee': 35, 'condensed milk': 36, 'cooking chocolate': 37, 'cookware': 38, 'cream': 39, 'cream cheese': 40, 'curd': 41, 'curd cheese': 42, 'decalcifier': 43, 'dental care': 44, 'dessert': 45, 'detergent': 46, 'dish cleaner': 47, 'dishes': 48, 'dog food': 49, 'domestic eggs': 50, 'female sanitary products': 51, 'finished products': 52, 'fish': 53, 'flour': 54, 'flower (seeds)': 55, 'flower soil/fertilizer': 56, 'frankfurter': 57, 'frozen chicken': 58, 'frozen dessert': 59, 'frozen fish': 60, 'frozen fruits': 61, 'frozen meals': 62, 'frozen potato products': 63, 'frozen vegetables': 64, 'fruit/vegetable juice': 65, 'grapes': 66, 'hair spray': 67, 'ham': 68, 'hamburger meat': 69, 'hard cheese': 70, 'herbs': 71, 'honey': 72, 'house keeping products': 73, 'hygiene articles': 74, 'ice cream': 75, 'instant coffee': 76, 'jam': 77, 'ketchup': 78, 'kitchen towels': 79, 'kitchen utensil': 80, 'light bulbs': 81, 'liqueur': 82, 'liquor': 83, 'liquor (appetizer)': 84, 'liver loaf': 85, 'long life bakery product': 86, 'make up remover': 87, 'male cosmetics': 88, 'margarine': 89, 'mayonnaise': 90, 'meat': 91, 'meat spreads': 92, 'misc. beverages': 93, 'mustard': 94, 'napkins': 95, 'newspapers': 96, 'nut snack': 97, 'nuts/prunes': 98, 'oil': 99, 'onions': 100, 'organic products': 101, 'organic sausage': 102, 'other vegetables': 103, 'packaged fruit/vegetables': 104, 'pasta': 105, 'pastry': 106, 'pet care': 107, 'photo/film': 108, 'pickled vegetables': 109, 'pip fruit': 110, 'popcorn': 111, 'pork': 112, 'potato products': 113, 'potted plants': 114, 'preservation products': 115, 'processed cheese': 116, 'prosecco': 117, 'pudding powder': 118, 'ready soups': 119, 'red/blush wine': 120, 'rice': 121, 'roll products': 122, 'rolls/buns': 123, 'root vegetables': 124, 'rubbing alcohol': 125, 'rum': 126, 'salad dressing': 127, 'salt': 128, 'salty snack': 129, 'sauces': 130, 'sausage': 131, 'seasonal products': 132, 'semi-finished bread': 133, 'shopping bags': 134, 'skin care': 135, 'sliced cheese': 136, 'snack products': 137, 'soap': 138, 'soda': 139, 'soft cheese': 140, 'softener': 141, 'sound storage medium': 142, 'soups': 143, 'sparkling wine': 144, 'specialty bar': 145, 'specialty cheese': 146, 'specialty chocolate': 147, 'specialty fat': 148, 'specialty vegetables': 149, 'spices': 150, 'spread cheese': 151, 'sugar': 152, 'sweet spreads': 153, 'syrup': 154, 'tea': 155, 'tidbits': 156, 'toilet cleaner': 157, 'tropical fruit': 158, 'turkey': 159, 'vinegar': 160, 'waffles': 161, 'whipped/sour cream': 162, 'whisky': 163, 'white bread': 164, 'white wine': 165, 'whole milk': 166, 'yogurt': 167, 'zwieback': 168}\n"
     ]
    }
   ],
   "source": [
    "item2id = {}\n",
    "curr_id = 0\n",
    "for item in id2item:\n",
    "    item2id[ item ] = curr_id\n",
    "    curr_id += 1\n",
    "print( item2id )"
   ]
  },
  {
   "cell_type": "code",
   "execution_count": 121,
   "metadata": {},
   "outputs": [
    {
     "name": "stdout",
     "output_type": "stream",
     "text": [
      "9835\n",
      "[[31, 133, 89, 119], [158, 167, 35], [166], [110, 167, 40, 92], [103, 166, 36, 86]]\n"
     ]
    }
   ],
   "source": [
    "receipts = []\n",
    "print\n",
    "for i in range(df.shape[0]):\n",
    "    receipt = []\n",
    "    for j in range(df.shape[1]):\n",
    "        if df[j][i] is not np.nan:\n",
    "            receipt.append( item2id[df[j][i]] )\n",
    "    receipts.append(receipt)\n",
    "    \n",
    "print(len(receipts))\n",
    "print(receipts[:5])"
   ]
  },
  {
   "cell_type": "code",
   "execution_count": 122,
   "metadata": {},
   "outputs": [
    {
     "name": "stdout",
     "output_type": "stream",
     "text": [
      "CPU times: user 1.33 s, sys: 3.65 ms, total: 1.33 s\n",
      "Wall time: 1.33 s\n",
      "CPU times: user 48.2 ms, sys: 0 ns, total: 48.2 ms\n",
      "Wall time: 48.3 ms\n"
     ]
    }
   ],
   "source": [
    "%time patterns = pyfpgrowth.find_frequent_patterns(receipts, 15)\n",
    "%time rules = pyfpgrowth.generate_association_rules(patterns, 0.9)"
   ]
  },
  {
   "cell_type": "code",
   "execution_count": 123,
   "metadata": {},
   "outputs": [
    {
     "name": "stdout",
     "output_type": "stream",
     "text": [
      "{(83, 120): ((12,), 0.9047619047619048), (54, 124, 162): ((166,), 1.0), (40, 103, 152): ((166,), 0.9375), (50, 158, 162): ((166,), 0.9), (65, 158, 162): ((103,), 0.9047619047619048), (124, 131, 158, 167): ((166,), 0.9375)}\n"
     ]
    }
   ],
   "source": [
    "# print(patterns)\n",
    "print(rules)"
   ]
  },
  {
   "cell_type": "code",
   "execution_count": 124,
   "metadata": {},
   "outputs": [],
   "source": [
    "results = []\n",
    "for x in rules:\n",
    "    ret = [x, rules[x][0], rules[x][1]]\n",
    "    results.append(ret)\n",
    "df_res = pd.DataFrame(results)\n",
    "df_res.columns = ['LHS', 'RHS', 'Conf']"
   ]
  },
  {
   "cell_type": "code",
   "execution_count": 125,
   "metadata": {},
   "outputs": [
    {
     "data": {
      "text/html": [
       "<div>\n",
       "<style scoped>\n",
       "    .dataframe tbody tr th:only-of-type {\n",
       "        vertical-align: middle;\n",
       "    }\n",
       "\n",
       "    .dataframe tbody tr th {\n",
       "        vertical-align: top;\n",
       "    }\n",
       "\n",
       "    .dataframe thead th {\n",
       "        text-align: right;\n",
       "    }\n",
       "</style>\n",
       "<table border=\"1\" class=\"dataframe\">\n",
       "  <thead>\n",
       "    <tr style=\"text-align: right;\">\n",
       "      <th></th>\n",
       "      <th>LHS</th>\n",
       "      <th>RHS</th>\n",
       "      <th>Conf</th>\n",
       "    </tr>\n",
       "  </thead>\n",
       "  <tbody>\n",
       "    <tr>\n",
       "      <th>1</th>\n",
       "      <td>(54, 124, 162)</td>\n",
       "      <td>(166,)</td>\n",
       "      <td>1.000000</td>\n",
       "    </tr>\n",
       "    <tr>\n",
       "      <th>2</th>\n",
       "      <td>(40, 103, 152)</td>\n",
       "      <td>(166,)</td>\n",
       "      <td>0.937500</td>\n",
       "    </tr>\n",
       "    <tr>\n",
       "      <th>5</th>\n",
       "      <td>(124, 131, 158, 167)</td>\n",
       "      <td>(166,)</td>\n",
       "      <td>0.937500</td>\n",
       "    </tr>\n",
       "    <tr>\n",
       "      <th>0</th>\n",
       "      <td>(83, 120)</td>\n",
       "      <td>(12,)</td>\n",
       "      <td>0.904762</td>\n",
       "    </tr>\n",
       "    <tr>\n",
       "      <th>4</th>\n",
       "      <td>(65, 158, 162)</td>\n",
       "      <td>(103,)</td>\n",
       "      <td>0.904762</td>\n",
       "    </tr>\n",
       "    <tr>\n",
       "      <th>3</th>\n",
       "      <td>(50, 158, 162)</td>\n",
       "      <td>(166,)</td>\n",
       "      <td>0.900000</td>\n",
       "    </tr>\n",
       "  </tbody>\n",
       "</table>\n",
       "</div>"
      ],
      "text/plain": [
       "                    LHS     RHS      Conf\n",
       "1        (54, 124, 162)  (166,)  1.000000\n",
       "2        (40, 103, 152)  (166,)  0.937500\n",
       "5  (124, 131, 158, 167)  (166,)  0.937500\n",
       "0             (83, 120)   (12,)  0.904762\n",
       "4        (65, 158, 162)  (103,)  0.904762\n",
       "3        (50, 158, 162)  (166,)  0.900000"
      ]
     },
     "metadata": {},
     "output_type": "display_data"
    }
   ],
   "source": [
    "display(df_res.sort_values(by='Conf', ascending=False))"
   ]
  },
  {
   "cell_type": "code",
   "execution_count": 126,
   "metadata": {},
   "outputs": [],
   "source": [
    "n_all = len(receipts)\n",
    "lift = []\n",
    "for i in range(df_res.shape[0]):\n",
    "    rhs = df_res.at[i, 'RHS']\n",
    "    conf = df_res.at[i, 'Conf']\n",
    "    n_rhs = 0\n",
    "    for items in receipts:\n",
    "        if set(items) >= set(rhs):\n",
    "            n_rhs += 1\n",
    "    lift1 = conf / (n_rhs / n_all)\n",
    "    lift.append(lift1)\n",
    "    \n",
    "df_res['Lift'] = lift"
   ]
  },
  {
   "cell_type": "code",
   "execution_count": 127,
   "metadata": {},
   "outputs": [
    {
     "data": {
      "text/html": [
       "<div>\n",
       "<style scoped>\n",
       "    .dataframe tbody tr th:only-of-type {\n",
       "        vertical-align: middle;\n",
       "    }\n",
       "\n",
       "    .dataframe tbody tr th {\n",
       "        vertical-align: top;\n",
       "    }\n",
       "\n",
       "    .dataframe thead th {\n",
       "        text-align: right;\n",
       "    }\n",
       "</style>\n",
       "<table border=\"1\" class=\"dataframe\">\n",
       "  <thead>\n",
       "    <tr style=\"text-align: right;\">\n",
       "      <th></th>\n",
       "      <th>LHS</th>\n",
       "      <th>RHS</th>\n",
       "      <th>Conf</th>\n",
       "      <th>Lift</th>\n",
       "    </tr>\n",
       "  </thead>\n",
       "  <tbody>\n",
       "    <tr>\n",
       "      <th>1</th>\n",
       "      <td>(54, 124, 162)</td>\n",
       "      <td>(166,)</td>\n",
       "      <td>1.000000</td>\n",
       "      <td>3.913649</td>\n",
       "    </tr>\n",
       "    <tr>\n",
       "      <th>2</th>\n",
       "      <td>(40, 103, 152)</td>\n",
       "      <td>(166,)</td>\n",
       "      <td>0.937500</td>\n",
       "      <td>3.669046</td>\n",
       "    </tr>\n",
       "    <tr>\n",
       "      <th>5</th>\n",
       "      <td>(124, 131, 158, 167)</td>\n",
       "      <td>(166,)</td>\n",
       "      <td>0.937500</td>\n",
       "      <td>3.669046</td>\n",
       "    </tr>\n",
       "    <tr>\n",
       "      <th>0</th>\n",
       "      <td>(83, 120)</td>\n",
       "      <td>(12,)</td>\n",
       "      <td>0.904762</td>\n",
       "      <td>11.235269</td>\n",
       "    </tr>\n",
       "    <tr>\n",
       "      <th>4</th>\n",
       "      <td>(65, 158, 162)</td>\n",
       "      <td>(103,)</td>\n",
       "      <td>0.904762</td>\n",
       "      <td>4.675950</td>\n",
       "    </tr>\n",
       "    <tr>\n",
       "      <th>3</th>\n",
       "      <td>(50, 158, 162)</td>\n",
       "      <td>(166,)</td>\n",
       "      <td>0.900000</td>\n",
       "      <td>3.522284</td>\n",
       "    </tr>\n",
       "  </tbody>\n",
       "</table>\n",
       "</div>"
      ],
      "text/plain": [
       "                    LHS     RHS      Conf       Lift\n",
       "1        (54, 124, 162)  (166,)  1.000000   3.913649\n",
       "2        (40, 103, 152)  (166,)  0.937500   3.669046\n",
       "5  (124, 131, 158, 167)  (166,)  0.937500   3.669046\n",
       "0             (83, 120)   (12,)  0.904762  11.235269\n",
       "4        (65, 158, 162)  (103,)  0.904762   4.675950\n",
       "3        (50, 158, 162)  (166,)  0.900000   3.522284"
      ]
     },
     "metadata": {},
     "output_type": "display_data"
    }
   ],
   "source": [
    "display(df_res.sort_values(by='Conf', ascending=False))"
   ]
  },
  {
   "cell_type": "code",
   "execution_count": 128,
   "metadata": {},
   "outputs": [
    {
     "name": "stdout",
     "output_type": "stream",
     "text": [
      "flour\n",
      "root vegetables\n",
      "whipped/sour cream\n",
      "whole milk\n"
     ]
    }
   ],
   "source": [
    "print( id2item[54] )\n",
    "print( id2item[124] )\n",
    "print( id2item[162] )\n",
    "print( id2item[166] )"
   ]
  }
 ],
 "metadata": {
  "interpreter": {
   "hash": "db8b7fe47b70054bb2bb00b153272d4f7a23c7269610021a9b5fc371a2b81095"
  },
  "kernelspec": {
   "display_name": "Python 3.8.8 64-bit ('iniad_ai': conda)",
   "name": "python3"
  },
  "language_info": {
   "codemirror_mode": {
    "name": "ipython",
    "version": 3
   },
   "file_extension": ".py",
   "mimetype": "text/x-python",
   "name": "python",
   "nbconvert_exporter": "python",
   "pygments_lexer": "ipython3",
   "version": "3.8.8"
  }
 },
 "nbformat": 4,
 "nbformat_minor": 4
}