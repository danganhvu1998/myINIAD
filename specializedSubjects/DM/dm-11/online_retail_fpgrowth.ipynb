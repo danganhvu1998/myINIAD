{
 "cells": [
  {
   "cell_type": "markdown",
   "metadata": {},
   "source": [
    "### Sample program for Association Analysis (Market Basket Analysis) using FP-Growth  "
   ]
  },
  {
   "cell_type": "markdown",
   "metadata": {},
   "source": [
    "#### Import libraries  "
   ]
  },
  {
   "cell_type": "code",
   "execution_count": 34,
   "metadata": {},
   "outputs": [],
   "source": [
    "import pandas as pd\n",
    "import pyfpgrowth  # https://fp-growth.readthedocs.io/en/latest/"
   ]
  },
  {
   "cell_type": "markdown",
   "metadata": {},
   "source": [
    "#### Parameters  "
   ]
  },
  {
   "cell_type": "code",
   "execution_count": 35,
   "metadata": {},
   "outputs": [],
   "source": [
    "csv_in = 'online_retail_small_cleaned.csv'"
   ]
  },
  {
   "cell_type": "markdown",
   "metadata": {},
   "source": [
    "#### Read CSV file  "
   ]
  },
  {
   "cell_type": "code",
   "execution_count": 36,
   "metadata": {},
   "outputs": [
    {
     "name": "stdout",
     "output_type": "stream",
     "text": [
      "(59145, 8)\n",
      "<class 'pandas.core.frame.DataFrame'>\n",
      "RangeIndex: 59145 entries, 0 to 59144\n",
      "Data columns (total 8 columns):\n",
      " #   Column       Non-Null Count  Dtype  \n",
      "---  ------       --------------  -----  \n",
      " 0   InvoiceNo    59145 non-null  int64  \n",
      " 1   StockCode    59145 non-null  object \n",
      " 2   Description  59145 non-null  object \n",
      " 3   Quantity     59145 non-null  int64  \n",
      " 4   InvoiceDate  59145 non-null  object \n",
      " 5   UnitPrice    59145 non-null  float64\n",
      " 6   CustomerID   59145 non-null  int64  \n",
      " 7   Country      59145 non-null  object \n",
      "dtypes: float64(1), int64(3), object(4)\n",
      "memory usage: 3.6+ MB\n",
      "None\n"
     ]
    },
    {
     "data": {
      "text/html": [
       "<div>\n",
       "<style scoped>\n",
       "    .dataframe tbody tr th:only-of-type {\n",
       "        vertical-align: middle;\n",
       "    }\n",
       "\n",
       "    .dataframe tbody tr th {\n",
       "        vertical-align: top;\n",
       "    }\n",
       "\n",
       "    .dataframe thead th {\n",
       "        text-align: right;\n",
       "    }\n",
       "</style>\n",
       "<table border=\"1\" class=\"dataframe\">\n",
       "  <thead>\n",
       "    <tr style=\"text-align: right;\">\n",
       "      <th></th>\n",
       "      <th>InvoiceNo</th>\n",
       "      <th>StockCode</th>\n",
       "      <th>Description</th>\n",
       "      <th>Quantity</th>\n",
       "      <th>InvoiceDate</th>\n",
       "      <th>UnitPrice</th>\n",
       "      <th>CustomerID</th>\n",
       "      <th>Country</th>\n",
       "    </tr>\n",
       "  </thead>\n",
       "  <tbody>\n",
       "    <tr>\n",
       "      <th>0</th>\n",
       "      <td>536386</td>\n",
       "      <td>84880</td>\n",
       "      <td>WHITE WIRE EGG HOLDER</td>\n",
       "      <td>36</td>\n",
       "      <td>2010-12-01 09:57:00</td>\n",
       "      <td>4.95</td>\n",
       "      <td>16029</td>\n",
       "      <td>United Kingdom</td>\n",
       "    </tr>\n",
       "    <tr>\n",
       "      <th>1</th>\n",
       "      <td>536386</td>\n",
       "      <td>85099C</td>\n",
       "      <td>JUMBO  BAG BAROQUE BLACK WHITE</td>\n",
       "      <td>100</td>\n",
       "      <td>2010-12-01 09:57:00</td>\n",
       "      <td>1.65</td>\n",
       "      <td>16029</td>\n",
       "      <td>United Kingdom</td>\n",
       "    </tr>\n",
       "    <tr>\n",
       "      <th>2</th>\n",
       "      <td>536386</td>\n",
       "      <td>85099B</td>\n",
       "      <td>JUMBO BAG RED RETROSPOT</td>\n",
       "      <td>100</td>\n",
       "      <td>2010-12-01 09:57:00</td>\n",
       "      <td>1.65</td>\n",
       "      <td>16029</td>\n",
       "      <td>United Kingdom</td>\n",
       "    </tr>\n",
       "    <tr>\n",
       "      <th>3</th>\n",
       "      <td>536404</td>\n",
       "      <td>22297</td>\n",
       "      <td>HEART IVORY TRELLIS SMALL</td>\n",
       "      <td>24</td>\n",
       "      <td>2010-12-01 11:29:00</td>\n",
       "      <td>1.25</td>\n",
       "      <td>16218</td>\n",
       "      <td>United Kingdom</td>\n",
       "    </tr>\n",
       "    <tr>\n",
       "      <th>4</th>\n",
       "      <td>536404</td>\n",
       "      <td>22771</td>\n",
       "      <td>CLEAR DRAWER KNOB ACRYLIC EDWARDIAN</td>\n",
       "      <td>12</td>\n",
       "      <td>2010-12-01 11:29:00</td>\n",
       "      <td>1.25</td>\n",
       "      <td>16218</td>\n",
       "      <td>United Kingdom</td>\n",
       "    </tr>\n",
       "  </tbody>\n",
       "</table>\n",
       "</div>"
      ],
      "text/plain": [
       "   InvoiceNo StockCode                          Description  Quantity  \\\n",
       "0     536386     84880                WHITE WIRE EGG HOLDER        36   \n",
       "1     536386    85099C       JUMBO  BAG BAROQUE BLACK WHITE       100   \n",
       "2     536386    85099B              JUMBO BAG RED RETROSPOT       100   \n",
       "3     536404     22297            HEART IVORY TRELLIS SMALL        24   \n",
       "4     536404     22771  CLEAR DRAWER KNOB ACRYLIC EDWARDIAN        12   \n",
       "\n",
       "           InvoiceDate  UnitPrice  CustomerID         Country  \n",
       "0  2010-12-01 09:57:00       4.95       16029  United Kingdom  \n",
       "1  2010-12-01 09:57:00       1.65       16029  United Kingdom  \n",
       "2  2010-12-01 09:57:00       1.65       16029  United Kingdom  \n",
       "3  2010-12-01 11:29:00       1.25       16218  United Kingdom  \n",
       "4  2010-12-01 11:29:00       1.25       16218  United Kingdom  "
      ]
     },
     "metadata": {},
     "output_type": "display_data"
    }
   ],
   "source": [
    "df = pd.read_csv(csv_in, delimiter=',', skiprows=0, header=0)\n",
    "print(df.shape)\n",
    "print(df.info())\n",
    "display(df.head())"
   ]
  },
  {
   "cell_type": "markdown",
   "metadata": {},
   "source": [
    "#### Check appearance of each StockCode  "
   ]
  },
  {
   "cell_type": "code",
   "execution_count": 37,
   "metadata": {},
   "outputs": [
    {
     "name": "stdout",
     "output_type": "stream",
     "text": [
      "3140\n",
      "85123A    315\n",
      "85099B    246\n",
      "22423     229\n",
      "84879     213\n",
      "47566     208\n",
      "Name: StockCode, dtype: int64\n"
     ]
    }
   ],
   "source": [
    "top_sc = df['StockCode'].value_counts()\n",
    "print(top_sc.size)\n",
    "print(top_sc.head())"
   ]
  },
  {
   "cell_type": "markdown",
   "metadata": {},
   "source": [
    "#### Format transaction data  \n",
    "Before:  \n",
    "```\n",
    "invoice1, stockcode1, ...  \n",
    "invoice1, stockcode2, ...  \n",
    "invoice2, stockcode1, ...  \n",
    "invoice3, stockcode1, ...  \n",
    "invoice3, stockcode3, ...  \n",
    "```\n",
    "\n",
    "After:  \n",
    "```\n",
    "[  \n",
    "  [stockcode1, stockcode2],    \n",
    "  [stockcode1],  \n",
    "  [stockcode1, stockcode3],  \n",
    "  ...  \n",
    "]  \n",
    "```\n",
    "\n",
    "and stockcode should be interger.  "
   ]
  },
  {
   "cell_type": "markdown",
   "metadata": {},
   "source": [
    "#### Assign an integer (ID) to each stockcode  "
   ]
  },
  {
   "cell_type": "code",
   "execution_count": 38,
   "metadata": {},
   "outputs": [],
   "source": [
    "id2sc = sorted(list(set(df['StockCode'])))\n",
    "sc2id = {}\n",
    "for i in range(len(id2sc)):\n",
    "    sc2id[id2sc[i]] = i"
   ]
  },
  {
   "cell_type": "code",
   "execution_count": 39,
   "metadata": {},
   "outputs": [
    {
     "data": {
      "text/html": [
       "<div>\n",
       "<style scoped>\n",
       "    .dataframe tbody tr th:only-of-type {\n",
       "        vertical-align: middle;\n",
       "    }\n",
       "\n",
       "    .dataframe tbody tr th {\n",
       "        vertical-align: top;\n",
       "    }\n",
       "\n",
       "    .dataframe thead th {\n",
       "        text-align: right;\n",
       "    }\n",
       "</style>\n",
       "<table border=\"1\" class=\"dataframe\">\n",
       "  <thead>\n",
       "    <tr style=\"text-align: right;\">\n",
       "      <th></th>\n",
       "      <th>InvoiceNo</th>\n",
       "      <th>StockCode</th>\n",
       "      <th>Description</th>\n",
       "      <th>Quantity</th>\n",
       "      <th>InvoiceDate</th>\n",
       "      <th>UnitPrice</th>\n",
       "      <th>CustomerID</th>\n",
       "      <th>Country</th>\n",
       "      <th>StockCode_ID</th>\n",
       "    </tr>\n",
       "  </thead>\n",
       "  <tbody>\n",
       "    <tr>\n",
       "      <th>0</th>\n",
       "      <td>536386</td>\n",
       "      <td>84880</td>\n",
       "      <td>WHITE WIRE EGG HOLDER</td>\n",
       "      <td>36</td>\n",
       "      <td>2010-12-01 09:57:00</td>\n",
       "      <td>4.95</td>\n",
       "      <td>16029</td>\n",
       "      <td>United Kingdom</td>\n",
       "      <td>2775</td>\n",
       "    </tr>\n",
       "    <tr>\n",
       "      <th>1</th>\n",
       "      <td>536386</td>\n",
       "      <td>85099C</td>\n",
       "      <td>JUMBO  BAG BAROQUE BLACK WHITE</td>\n",
       "      <td>100</td>\n",
       "      <td>2010-12-01 09:57:00</td>\n",
       "      <td>1.65</td>\n",
       "      <td>16029</td>\n",
       "      <td>United Kingdom</td>\n",
       "      <td>2907</td>\n",
       "    </tr>\n",
       "    <tr>\n",
       "      <th>2</th>\n",
       "      <td>536386</td>\n",
       "      <td>85099B</td>\n",
       "      <td>JUMBO BAG RED RETROSPOT</td>\n",
       "      <td>100</td>\n",
       "      <td>2010-12-01 09:57:00</td>\n",
       "      <td>1.65</td>\n",
       "      <td>16029</td>\n",
       "      <td>United Kingdom</td>\n",
       "      <td>2906</td>\n",
       "    </tr>\n",
       "    <tr>\n",
       "      <th>3</th>\n",
       "      <td>536404</td>\n",
       "      <td>22297</td>\n",
       "      <td>HEART IVORY TRELLIS SMALL</td>\n",
       "      <td>24</td>\n",
       "      <td>2010-12-01 11:29:00</td>\n",
       "      <td>1.25</td>\n",
       "      <td>16218</td>\n",
       "      <td>United Kingdom</td>\n",
       "      <td>1078</td>\n",
       "    </tr>\n",
       "    <tr>\n",
       "      <th>4</th>\n",
       "      <td>536404</td>\n",
       "      <td>22771</td>\n",
       "      <td>CLEAR DRAWER KNOB ACRYLIC EDWARDIAN</td>\n",
       "      <td>12</td>\n",
       "      <td>2010-12-01 11:29:00</td>\n",
       "      <td>1.25</td>\n",
       "      <td>16218</td>\n",
       "      <td>United Kingdom</td>\n",
       "      <td>1517</td>\n",
       "    </tr>\n",
       "  </tbody>\n",
       "</table>\n",
       "</div>"
      ],
      "text/plain": [
       "   InvoiceNo StockCode                          Description  Quantity  \\\n",
       "0     536386     84880                WHITE WIRE EGG HOLDER        36   \n",
       "1     536386    85099C       JUMBO  BAG BAROQUE BLACK WHITE       100   \n",
       "2     536386    85099B              JUMBO BAG RED RETROSPOT       100   \n",
       "3     536404     22297            HEART IVORY TRELLIS SMALL        24   \n",
       "4     536404     22771  CLEAR DRAWER KNOB ACRYLIC EDWARDIAN        12   \n",
       "\n",
       "           InvoiceDate  UnitPrice  CustomerID         Country  StockCode_ID  \n",
       "0  2010-12-01 09:57:00       4.95       16029  United Kingdom          2775  \n",
       "1  2010-12-01 09:57:00       1.65       16029  United Kingdom          2907  \n",
       "2  2010-12-01 09:57:00       1.65       16029  United Kingdom          2906  \n",
       "3  2010-12-01 11:29:00       1.25       16218  United Kingdom          1078  \n",
       "4  2010-12-01 11:29:00       1.25       16218  United Kingdom          1517  "
      ]
     },
     "metadata": {},
     "output_type": "display_data"
    }
   ],
   "source": [
    "df['StockCode_ID'] = df['StockCode'].map(lambda x: sc2id[x])\n",
    "display(df.head())"
   ]
  },
  {
   "cell_type": "markdown",
   "metadata": {},
   "source": [
    "#### Grouping transaction data by InvoiceNo  "
   ]
  },
  {
   "cell_type": "code",
   "execution_count": 40,
   "metadata": {},
   "outputs": [
    {
     "name": "stdout",
     "output_type": "stream",
     "text": [
      "2757\n",
      "[[2906, 2907, 2775], [1155, 2827, 1548, 140, 139, 277, 278, 279, 1695, 1183, 2610, 2611, 819, 1077, 1078, 316, 317, 2879, 2880, 2881, 2883, 1232, 992, 1517, 1518, 1519, 369, 370], [2816, 2435, 1290, 652, 1294, 2575, 2831, 529, 2835, 788, 789, 1556, 2836, 1555, 922, 1307, 1695, 1184, 674, 2604, 1455, 560, 2609, 688, 689, 55, 1463, 1465, 579, 1228, 1484, 974, 1363, 2774, 1371, 1372, 735, 1250, 1253, 1513, 238, 367, 1646, 369, 1011, 2804, 119, 1144], [1670, 1514, 1515, 789, 533, 2556], [1217, 1572, 486, 2537, 1578, 1515, 1389, 563, 1396, 1397, 1398, 1267, 1270, 1401, 1339, 1692, 1215], [1376, 1377, 322, 1378, 921, 970, 1177, 2906, 798], [640, 1059, 1527, 645, 1189, 1541, 1543, 1544, 202, 979, 1111], [1541, 1543, 1641, 2986, 1707, 1673, 723, 509, 1695], [2752, 1222, 1577, 921, 698], [704, 2722, 2724, 1445, 2501, 2876, 2858, 874, 2608, 2290, 2292, 2325, 2326, 1684, 441, 1210, 2907, 2874]]\n"
     ]
    }
   ],
   "source": [
    "invoices = []\n",
    "for r in df.groupby('InvoiceNo'):\n",
    "    #print(len(r))  # debug\n",
    "    #print(r[0])  # debug\n",
    "    #print(r[1])  # debug\n",
    "    #break  # debug\n",
    "    s1 = set(r[1]['StockCode_ID'])\n",
    "    invoices.append(list(s1))\n",
    "print(len(invoices))\n",
    "print(invoices[:10])"
   ]
  },
  {
   "cell_type": "markdown",
   "metadata": {},
   "source": [
    "#### Market Basket Analysis by FP-Growth  "
   ]
  },
  {
   "cell_type": "code",
   "execution_count": 41,
   "metadata": {},
   "outputs": [
    {
     "name": "stdout",
     "output_type": "stream",
     "text": [
      "CPU times: user 346 ms, sys: 7.66 ms, total: 354 ms\n",
      "Wall time: 353 ms\n"
     ]
    }
   ],
   "source": [
    "%time patterns = pyfpgrowth.find_frequent_patterns(invoices, 40)"
   ]
  },
  {
   "cell_type": "code",
   "execution_count": 42,
   "metadata": {},
   "outputs": [],
   "source": [
    "#print(patterns)"
   ]
  },
  {
   "cell_type": "code",
   "execution_count": 43,
   "metadata": {},
   "outputs": [
    {
     "name": "stdout",
     "output_type": "stream",
     "text": [
      "CPU times: user 878 µs, sys: 0 ns, total: 878 µs\n",
      "Wall time: 888 µs\n"
     ]
    }
   ],
   "source": [
    "%time rules = pyfpgrowth.generate_association_rules(patterns, 0.8)"
   ]
  },
  {
   "cell_type": "code",
   "execution_count": 44,
   "metadata": {},
   "outputs": [
    {
     "name": "stdout",
     "output_type": "stream",
     "text": [
      "{(1473,): ((1475,), 0.803921568627451), (1332,): ((1331,), 0.8243243243243243), (1474, 1478): ((1475,), 0.8035714285714286), (1475, 1478): ((1474,), 0.8490566037735849), (138, 1156): ((137,), 0.8333333333333334), (140, 1156): ((137,), 0.8448275862068966), (1154, 1156): ((137,), 0.828125)}\n"
     ]
    }
   ],
   "source": [
    "print(rules)"
   ]
  },
  {
   "cell_type": "code",
   "execution_count": 45,
   "metadata": {},
   "outputs": [],
   "source": [
    "results = []\n",
    "for x in rules:\n",
    "    ret = [x, rules[x][0], rules[x][1]]\n",
    "    results.append(ret)\n",
    "df_res = pd.DataFrame(results)\n",
    "df_res.columns = ['LHS', 'RHS', 'Conf']"
   ]
  },
  {
   "cell_type": "code",
   "execution_count": 46,
   "metadata": {},
   "outputs": [
    {
     "data": {
      "text/html": [
       "<div>\n",
       "<style scoped>\n",
       "    .dataframe tbody tr th:only-of-type {\n",
       "        vertical-align: middle;\n",
       "    }\n",
       "\n",
       "    .dataframe tbody tr th {\n",
       "        vertical-align: top;\n",
       "    }\n",
       "\n",
       "    .dataframe thead th {\n",
       "        text-align: right;\n",
       "    }\n",
       "</style>\n",
       "<table border=\"1\" class=\"dataframe\">\n",
       "  <thead>\n",
       "    <tr style=\"text-align: right;\">\n",
       "      <th></th>\n",
       "      <th>LHS</th>\n",
       "      <th>RHS</th>\n",
       "      <th>Conf</th>\n",
       "    </tr>\n",
       "  </thead>\n",
       "  <tbody>\n",
       "    <tr>\n",
       "      <th>3</th>\n",
       "      <td>(1475, 1478)</td>\n",
       "      <td>(1474,)</td>\n",
       "      <td>0.849057</td>\n",
       "    </tr>\n",
       "    <tr>\n",
       "      <th>5</th>\n",
       "      <td>(140, 1156)</td>\n",
       "      <td>(137,)</td>\n",
       "      <td>0.844828</td>\n",
       "    </tr>\n",
       "    <tr>\n",
       "      <th>4</th>\n",
       "      <td>(138, 1156)</td>\n",
       "      <td>(137,)</td>\n",
       "      <td>0.833333</td>\n",
       "    </tr>\n",
       "    <tr>\n",
       "      <th>6</th>\n",
       "      <td>(1154, 1156)</td>\n",
       "      <td>(137,)</td>\n",
       "      <td>0.828125</td>\n",
       "    </tr>\n",
       "    <tr>\n",
       "      <th>1</th>\n",
       "      <td>(1332,)</td>\n",
       "      <td>(1331,)</td>\n",
       "      <td>0.824324</td>\n",
       "    </tr>\n",
       "    <tr>\n",
       "      <th>0</th>\n",
       "      <td>(1473,)</td>\n",
       "      <td>(1475,)</td>\n",
       "      <td>0.803922</td>\n",
       "    </tr>\n",
       "    <tr>\n",
       "      <th>2</th>\n",
       "      <td>(1474, 1478)</td>\n",
       "      <td>(1475,)</td>\n",
       "      <td>0.803571</td>\n",
       "    </tr>\n",
       "  </tbody>\n",
       "</table>\n",
       "</div>"
      ],
      "text/plain": [
       "            LHS      RHS      Conf\n",
       "3  (1475, 1478)  (1474,)  0.849057\n",
       "5   (140, 1156)   (137,)  0.844828\n",
       "4   (138, 1156)   (137,)  0.833333\n",
       "6  (1154, 1156)   (137,)  0.828125\n",
       "1       (1332,)  (1331,)  0.824324\n",
       "0       (1473,)  (1475,)  0.803922\n",
       "2  (1474, 1478)  (1475,)  0.803571"
      ]
     },
     "metadata": {},
     "output_type": "display_data"
    }
   ],
   "source": [
    "display(df_res.sort_values(by='Conf', ascending=False))"
   ]
  },
  {
   "cell_type": "markdown",
   "metadata": {},
   "source": [
    "#### Get original StockCode  "
   ]
  },
  {
   "cell_type": "code",
   "execution_count": 47,
   "metadata": {},
   "outputs": [
    {
     "name": "stdout",
     "output_type": "stream",
     "text": [
      "22726\n",
      "22727\n",
      "22730\n"
     ]
    }
   ],
   "source": [
    "print(id2sc[1474])\n",
    "print(id2sc[1475])\n",
    "print(id2sc[1478])"
   ]
  },
  {
   "cell_type": "markdown",
   "metadata": {},
   "source": [
    "#### Calculation of Lift  "
   ]
  },
  {
   "cell_type": "code",
   "execution_count": 48,
   "metadata": {},
   "outputs": [],
   "source": [
    "n_all = len(invoices)\n",
    "lift = []\n",
    "for i in range(df_res.shape[0]):\n",
    "    rhs = df_res.at[i, 'RHS']\n",
    "    conf = df_res.at[i, 'Conf']\n",
    "    n_rhs = 0\n",
    "    for items in invoices:\n",
    "        if set(items) >= set(rhs):\n",
    "            n_rhs += 1\n",
    "    lift1 = conf / (n_rhs / n_all)\n",
    "    lift.append(lift1)\n",
    "    \n",
    "df_res['Lift'] = lift"
   ]
  },
  {
   "cell_type": "code",
   "execution_count": 49,
   "metadata": {},
   "outputs": [
    {
     "data": {
      "text/html": [
       "<div>\n",
       "<style scoped>\n",
       "    .dataframe tbody tr th:only-of-type {\n",
       "        vertical-align: middle;\n",
       "    }\n",
       "\n",
       "    .dataframe tbody tr th {\n",
       "        vertical-align: top;\n",
       "    }\n",
       "\n",
       "    .dataframe thead th {\n",
       "        text-align: right;\n",
       "    }\n",
       "</style>\n",
       "<table border=\"1\" class=\"dataframe\">\n",
       "  <thead>\n",
       "    <tr style=\"text-align: right;\">\n",
       "      <th></th>\n",
       "      <th>LHS</th>\n",
       "      <th>RHS</th>\n",
       "      <th>Conf</th>\n",
       "      <th>Lift</th>\n",
       "    </tr>\n",
       "  </thead>\n",
       "  <tbody>\n",
       "    <tr>\n",
       "      <th>3</th>\n",
       "      <td>(1475, 1478)</td>\n",
       "      <td>(1474,)</td>\n",
       "      <td>0.849057</td>\n",
       "      <td>18.287883</td>\n",
       "    </tr>\n",
       "    <tr>\n",
       "      <th>5</th>\n",
       "      <td>(140, 1156)</td>\n",
       "      <td>(137,)</td>\n",
       "      <td>0.844828</td>\n",
       "      <td>11.883621</td>\n",
       "    </tr>\n",
       "    <tr>\n",
       "      <th>4</th>\n",
       "      <td>(138, 1156)</td>\n",
       "      <td>(137,)</td>\n",
       "      <td>0.833333</td>\n",
       "      <td>11.721939</td>\n",
       "    </tr>\n",
       "    <tr>\n",
       "      <th>6</th>\n",
       "      <td>(1154, 1156)</td>\n",
       "      <td>(137,)</td>\n",
       "      <td>0.828125</td>\n",
       "      <td>11.648677</td>\n",
       "    </tr>\n",
       "    <tr>\n",
       "      <th>1</th>\n",
       "      <td>(1332,)</td>\n",
       "      <td>(1331,)</td>\n",
       "      <td>0.824324</td>\n",
       "      <td>28.057558</td>\n",
       "    </tr>\n",
       "    <tr>\n",
       "      <th>0</th>\n",
       "      <td>(1473,)</td>\n",
       "      <td>(1475,)</td>\n",
       "      <td>0.803922</td>\n",
       "      <td>16.540386</td>\n",
       "    </tr>\n",
       "    <tr>\n",
       "      <th>2</th>\n",
       "      <td>(1474, 1478)</td>\n",
       "      <td>(1475,)</td>\n",
       "      <td>0.803571</td>\n",
       "      <td>16.533182</td>\n",
       "    </tr>\n",
       "  </tbody>\n",
       "</table>\n",
       "</div>"
      ],
      "text/plain": [
       "            LHS      RHS      Conf       Lift\n",
       "3  (1475, 1478)  (1474,)  0.849057  18.287883\n",
       "5   (140, 1156)   (137,)  0.844828  11.883621\n",
       "4   (138, 1156)   (137,)  0.833333  11.721939\n",
       "6  (1154, 1156)   (137,)  0.828125  11.648677\n",
       "1       (1332,)  (1331,)  0.824324  28.057558\n",
       "0       (1473,)  (1475,)  0.803922  16.540386\n",
       "2  (1474, 1478)  (1475,)  0.803571  16.533182"
      ]
     },
     "metadata": {},
     "output_type": "display_data"
    }
   ],
   "source": [
    "display(df_res.sort_values(by='Conf', ascending=False))"
   ]
  }
 ],
 "metadata": {
  "interpreter": {
   "hash": "db8b7fe47b70054bb2bb00b153272d4f7a23c7269610021a9b5fc371a2b81095"
  },
  "kernelspec": {
   "display_name": "Python 3.8.8 64-bit ('iniad_ai': conda)",
   "name": "python3"
  },
  "language_info": {
   "codemirror_mode": {
    "name": "ipython",
    "version": 3
   },
   "file_extension": ".py",
   "mimetype": "text/x-python",
   "name": "python",
   "nbconvert_exporter": "python",
   "pygments_lexer": "ipython3",
   "version": "3.8.8"
  }
 },
 "nbformat": 4,
 "nbformat_minor": 4
}