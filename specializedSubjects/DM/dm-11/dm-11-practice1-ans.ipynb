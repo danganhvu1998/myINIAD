{
 "cells": [
  {
   "cell_type": "markdown",
   "metadata": {},
   "source": [
    "### dm-11-practice1"
   ]
  },
  {
   "cell_type": "markdown",
   "metadata": {},
   "source": [
    "#### Import libraries  "
   ]
  },
  {
   "cell_type": "code",
   "execution_count": 126,
   "metadata": {},
   "outputs": [],
   "source": [
    "import pandas as pd\n",
    "import matplotlib.pyplot as plt"
   ]
  },
  {
   "cell_type": "markdown",
   "metadata": {},
   "source": [
    "#### Parameters  "
   ]
  },
  {
   "cell_type": "code",
   "execution_count": 127,
   "metadata": {},
   "outputs": [],
   "source": [
    "csv_in = 'invoices.csv'"
   ]
  },
  {
   "cell_type": "markdown",
   "metadata": {},
   "source": [
    "#### Read CSV file  "
   ]
  },
  {
   "cell_type": "code",
   "execution_count": 128,
   "metadata": {},
   "outputs": [
    {
     "name": "stdout",
     "output_type": "stream",
     "text": [
      "(252, 2)\n",
      "<class 'pandas.core.frame.DataFrame'>\n",
      "RangeIndex: 252 entries, 0 to 251\n",
      "Data columns (total 2 columns):\n",
      " #   Column     Non-Null Count  Dtype \n",
      "---  ------     --------------  ----- \n",
      " 0   InvoiceID  252 non-null    object\n",
      " 1   ItemID     252 non-null    int64 \n",
      "dtypes: int64(1), object(1)\n",
      "memory usage: 4.1+ KB\n",
      "None\n"
     ]
    },
    {
     "data": {
      "text/html": [
       "<div>\n",
       "<style scoped>\n",
       "    .dataframe tbody tr th:only-of-type {\n",
       "        vertical-align: middle;\n",
       "    }\n",
       "\n",
       "    .dataframe tbody tr th {\n",
       "        vertical-align: top;\n",
       "    }\n",
       "\n",
       "    .dataframe thead th {\n",
       "        text-align: right;\n",
       "    }\n",
       "</style>\n",
       "<table border=\"1\" class=\"dataframe\">\n",
       "  <thead>\n",
       "    <tr style=\"text-align: right;\">\n",
       "      <th></th>\n",
       "      <th>InvoiceID</th>\n",
       "      <th>ItemID</th>\n",
       "    </tr>\n",
       "  </thead>\n",
       "  <tbody>\n",
       "    <tr>\n",
       "      <th>0</th>\n",
       "      <td>S001</td>\n",
       "      <td>5</td>\n",
       "    </tr>\n",
       "    <tr>\n",
       "      <th>1</th>\n",
       "      <td>S001</td>\n",
       "      <td>3</td>\n",
       "    </tr>\n",
       "    <tr>\n",
       "      <th>2</th>\n",
       "      <td>S002</td>\n",
       "      <td>1</td>\n",
       "    </tr>\n",
       "    <tr>\n",
       "      <th>3</th>\n",
       "      <td>S002</td>\n",
       "      <td>3</td>\n",
       "    </tr>\n",
       "    <tr>\n",
       "      <th>4</th>\n",
       "      <td>S002</td>\n",
       "      <td>6</td>\n",
       "    </tr>\n",
       "  </tbody>\n",
       "</table>\n",
       "</div>"
      ],
      "text/plain": [
       "  InvoiceID  ItemID\n",
       "0      S001       5\n",
       "1      S001       3\n",
       "2      S002       1\n",
       "3      S002       3\n",
       "4      S002       6"
      ]
     },
     "metadata": {},
     "output_type": "display_data"
    }
   ],
   "source": [
    "df = pd.read_csv(csv_in, delimiter=',', skiprows=0, header=0)\n",
    "print(df.shape)\n",
    "print(df.info())\n",
    "display(df.head())"
   ]
  },
  {
   "cell_type": "markdown",
   "metadata": {},
   "source": [
    "#### How many invoices and items?  "
   ]
  },
  {
   "cell_type": "code",
   "execution_count": 129,
   "metadata": {},
   "outputs": [
    {
     "name": "stdout",
     "output_type": "stream",
     "text": [
      "#Invoices: 100\n",
      "S072    5\n",
      "S088    5\n",
      "S086    5\n",
      "S051    5\n",
      "S057    4\n",
      "Name: InvoiceID, dtype: int64\n",
      "#StockCode: 10\n",
      "3    46\n",
      "1    38\n",
      "2    31\n",
      "4    25\n",
      "6    21\n",
      "Name: ItemID, dtype: int64\n"
     ]
    }
   ],
   "source": [
    "top_iv = df['InvoiceID'].value_counts()\n",
    "top_sc = df['ItemID'].value_counts()\n",
    "print('#Invoices:', top_iv.size)\n",
    "print(top_iv.head())\n",
    "print('#StockCode:', top_sc.size)\n",
    "print(top_sc.head())"
   ]
  },
  {
   "cell_type": "code",
   "execution_count": 130,
   "metadata": {},
   "outputs": [
    {
     "data": {
      "image/png": "[encoded data removed]",
      "text/plain": [
       "<Figure size 432x288 with 1 Axes>"
      ]
     },
     "metadata": {
      "needs_background": "light"
     },
     "output_type": "display_data"
    }
   ],
   "source": [
    "n_plt = 20\n",
    "top_iv_idx = top_iv[:20].index.astype('str')\n",
    "plt.bar(top_iv_idx, top_iv[:n_plt])\n",
    "plt.xticks(rotation=90)\n",
    "plt.xlabel('InvoiceNo')\n",
    "plt.ylabel('#transactions')\n",
    "plt.show()"
   ]
  },
  {
   "cell_type": "code",
   "execution_count": 131,
   "metadata": {},
   "outputs": [
    {
     "data": {
      "image/png": "[encoded data removed]",
      "text/plain": [
       "<Figure size 432x288 with 1 Axes>"
      ]
     },
     "metadata": {
      "needs_background": "light"
     },
     "output_type": "display_data"
    }
   ],
   "source": [
    "n_plt = 10\n",
    "plt.bar(top_sc[:n_plt].index, top_sc[:n_plt])\n",
    "plt.xlabel('StockCode')\n",
    "plt.ylabel('#transactions')\n",
    "plt.show()"
   ]
  },
  {
   "cell_type": "markdown",
   "metadata": {},
   "source": [
    "#### Basket Analysis (jaccard, support, confidence, lift) of the top two items  "
   ]
  },
  {
   "cell_type": "markdown",
   "metadata": {},
   "source": [
    "##### Get StockCode for the top two items  "
   ]
  },
  {
   "cell_type": "code",
   "execution_count": 132,
   "metadata": {},
   "outputs": [
    {
     "name": "stdout",
     "output_type": "stream",
     "text": [
      "3 1\n"
     ]
    }
   ],
   "source": [
    "top_sc1 = top_sc.index[0]\n",
    "top_sc2 = top_sc.index[1]\n",
    "print(top_sc1, top_sc2)"
   ]
  },
  {
   "cell_type": "markdown",
   "metadata": {},
   "source": [
    "##### Collect invoices of these items  "
   ]
  },
  {
   "cell_type": "code",
   "execution_count": 133,
   "metadata": {},
   "outputs": [],
   "source": [
    "df_sc1 = df[ df['ItemID']==top_sc1 ]\n",
    "df_sc2 = df[ df['ItemID']==top_sc2 ]"
   ]
  },
  {
   "cell_type": "code",
   "execution_count": 134,
   "metadata": {},
   "outputs": [],
   "source": [
    "iv_all = set(df['InvoiceID'])\n",
    "iv_sc1 = set(df_sc1['InvoiceID'])\n",
    "iv_sc2 = set(df_sc2['InvoiceID'])\n",
    "iv_both = iv_sc1 & iv_sc2\n",
    "iv_either = iv_sc1 | iv_sc2"
   ]
  },
  {
   "cell_type": "code",
   "execution_count": 135,
   "metadata": {},
   "outputs": [
    {
     "name": "stdout",
     "output_type": "stream",
     "text": [
      "100 46 38 23 61\n"
     ]
    }
   ],
   "source": [
    "n_all = len(iv_all)\n",
    "n_sc1 = len(iv_sc1)\n",
    "n_sc2 = len(iv_sc2)\n",
    "n_both = len(iv_both)\n",
    "n_either = len(iv_either)\n",
    "print(n_all, n_sc1, n_sc2, n_both, n_either)"
   ]
  },
  {
   "cell_type": "markdown",
   "metadata": {},
   "source": [
    "##### Jaccard Coeff.  "
   ]
  },
  {
   "cell_type": "code",
   "execution_count": 136,
   "metadata": {},
   "outputs": [
    {
     "name": "stdout",
     "output_type": "stream",
     "text": [
      "Jac(sc1 => sc2): 0.3770491803278688\n"
     ]
    }
   ],
   "source": [
    "print('Jac(sc1 => sc2):',  n_both / n_either)"
   ]
  },
  {
   "cell_type": "markdown",
   "metadata": {},
   "source": [
    "##### Support (支持度)  "
   ]
  },
  {
   "cell_type": "code",
   "execution_count": 137,
   "metadata": {},
   "outputs": [
    {
     "name": "stdout",
     "output_type": "stream",
     "text": [
      "Supp(sc1 => sc2): 0.23\n"
     ]
    }
   ],
   "source": [
    "print('Supp(sc1 => sc2):', n_both / n_all)"
   ]
  },
  {
   "cell_type": "markdown",
   "metadata": {},
   "source": [
    "##### Confidence (確信度, 信頼度)  "
   ]
  },
  {
   "cell_type": "code",
   "execution_count": 138,
   "metadata": {},
   "outputs": [
    {
     "name": "stdout",
     "output_type": "stream",
     "text": [
      "Conf(sc1 => sc2): 0.5\n",
      "Conf(sc2 => sc1): 0.6052631578947368\n"
     ]
    }
   ],
   "source": [
    "print('Conf(sc1 => sc2):', n_both / n_sc1)  # Confidence based on top_sc1\n",
    "print('Conf(sc2 => sc1):', n_both / n_sc2)  # Confidence based on top_sc2"
   ]
  },
  {
   "cell_type": "markdown",
   "metadata": {},
   "source": [
    "##### Lift (リフト値)  "
   ]
  },
  {
   "cell_type": "code",
   "execution_count": 139,
   "metadata": {},
   "outputs": [
    {
     "name": "stdout",
     "output_type": "stream",
     "text": [
      "Lift(sc1 => sc2): 1.3157894736842104\n"
     ]
    }
   ],
   "source": [
    "a = n_both / n_sc2\n",
    "b = n_sc1 / n_all\n",
    "print('Lift(sc1 => sc2):', a/b)"
   ]
  }
 ],
 "metadata": {
  "kernelspec": {
   "display_name": "Python 3",
   "language": "python",
   "name": "python3"
  },
  "language_info": {
   "codemirror_mode": {
    "name": "ipython",
    "version": 3
   },
   "file_extension": ".py",
   "mimetype": "text/x-python",
   "name": "python",
   "nbconvert_exporter": "python",
   "pygments_lexer": "ipython3",
   "version": "3.8.8"
  }
 },
 "nbformat": 4,
 "nbformat_minor": 4
}
