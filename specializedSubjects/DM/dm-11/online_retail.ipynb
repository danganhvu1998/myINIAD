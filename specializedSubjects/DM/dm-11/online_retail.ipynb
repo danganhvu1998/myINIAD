{
 "cells": [
  {
   "cell_type": "markdown",
   "metadata": {},
   "source": [
    "### Sample program for Association Analysis (Market Basket Analysis)   "
   ]
  },
  {
   "cell_type": "markdown",
   "metadata": {},
   "source": [
    "#### Import libraries  "
   ]
  },
  {
   "cell_type": "code",
   "execution_count": null,
   "metadata": {},
   "outputs": [],
   "source": [
    "import pandas as pd\n",
    "import matplotlib.pyplot as plt"
   ]
  },
  {
   "cell_type": "markdown",
   "metadata": {},
   "source": [
    "#### Parameters  "
   ]
  },
  {
   "cell_type": "code",
   "execution_count": null,
   "metadata": {},
   "outputs": [],
   "source": [
    "csv_in = 'online_retail_small.csv'\n",
    "csv_out = 'online_retail_small_cleaned.csv'"
   ]
  },
  {
   "cell_type": "markdown",
   "metadata": {},
   "source": [
    "#### Read CSV file  "
   ]
  },
  {
   "cell_type": "code",
   "execution_count": null,
   "metadata": {},
   "outputs": [],
   "source": [
    "df_all = pd.read_csv(csv_in, delimiter=',', skiprows=0, header=0)\n",
    "print(df_all.shape)\n",
    "print(df_all.info())\n",
    "display(df_all.head())"
   ]
  },
  {
   "cell_type": "markdown",
   "metadata": {},
   "source": [
    "#### Check missing values  "
   ]
  },
  {
   "cell_type": "code",
   "execution_count": null,
   "metadata": {},
   "outputs": [],
   "source": [
    "df_missing = df_all[df_all.isnull().any(axis=1)]\n",
    "print(df_missing.shape[0])\n",
    "display(df_missing.head())"
   ]
  },
  {
   "cell_type": "markdown",
   "metadata": {},
   "source": [
    "#### Delete rows with missing values  "
   ]
  },
  {
   "cell_type": "code",
   "execution_count": null,
   "metadata": {},
   "outputs": [],
   "source": [
    "df = df_all.dropna().reset_index(drop=True)\n",
    "print(df.shape)\n",
    "print(df.info())\n",
    "display(df.head())"
   ]
  },
  {
   "cell_type": "markdown",
   "metadata": {},
   "source": [
    "#### Fix data type of columns  "
   ]
  },
  {
   "cell_type": "code",
   "execution_count": null,
   "metadata": {},
   "outputs": [],
   "source": [
    "df['InvoiceDate'] = pd.to_datetime(df['InvoiceDate'])\n",
    "df['CustomerID'] = df['CustomerID'].astype('int')\n",
    "print(df.info())\n",
    "display(df.head())"
   ]
  },
  {
   "cell_type": "markdown",
   "metadata": {},
   "source": [
    "#### Check canceled invoice  "
   ]
  },
  {
   "cell_type": "code",
   "execution_count": null,
   "metadata": {},
   "outputs": [],
   "source": [
    "df['Cancel'] = df['InvoiceNo'].map(lambda x: str(x)[0])\n",
    "display(df.head())"
   ]
  },
  {
   "cell_type": "code",
   "execution_count": null,
   "metadata": {},
   "outputs": [],
   "source": [
    "print(df['Cancel'].value_counts())"
   ]
  },
  {
   "cell_type": "markdown",
   "metadata": {},
   "source": [
    "#### Use only non-canceled invoices  "
   ]
  },
  {
   "cell_type": "code",
   "execution_count": null,
   "metadata": {},
   "outputs": [],
   "source": [
    "df = df[ df['Cancel']=='5' ]\n",
    "print(df.shape)"
   ]
  },
  {
   "cell_type": "markdown",
   "metadata": {},
   "source": [
    "#### How many invoices, items, customers, countries?  "
   ]
  },
  {
   "cell_type": "code",
   "execution_count": null,
   "metadata": {},
   "outputs": [],
   "source": [
    "top_iv = df['InvoiceNo'].value_counts()\n",
    "top_sc = df['StockCode'].value_counts()\n",
    "top_cs = df['CustomerID'].value_counts()\n",
    "top_ct = df['Country'].value_counts()\n",
    "print('#Invoices:', top_iv.size)\n",
    "print(top_iv.head())\n",
    "print('#StockCode:', top_sc.size)\n",
    "print(top_sc.head())\n",
    "print('#CustomerID:', top_cs.size)\n",
    "print(top_cs.head())\n",
    "print('#Country:', top_ct.size)\n",
    "print(top_ct.head())"
   ]
  },
  {
   "cell_type": "code",
   "execution_count": null,
   "metadata": {},
   "outputs": [],
   "source": [
    "n_plt = 20\n",
    "top_iv_idx = top_iv[:20].index.astype('str')\n",
    "plt.bar(top_iv_idx, top_iv[:n_plt])\n",
    "plt.xticks(rotation=90)\n",
    "plt.xlabel('InvoiceNo')\n",
    "plt.ylabel('#transactions')\n",
    "plt.show()"
   ]
  },
  {
   "cell_type": "code",
   "execution_count": null,
   "metadata": {},
   "outputs": [],
   "source": [
    "n_plt = 20\n",
    "plt.bar(top_sc[:n_plt].index, top_sc[:n_plt])\n",
    "plt.xticks(rotation=90)\n",
    "plt.xlabel('StockCode')\n",
    "plt.ylabel('#transactions')\n",
    "plt.show()"
   ]
  },
  {
   "cell_type": "code",
   "execution_count": null,
   "metadata": {},
   "outputs": [],
   "source": [
    "n_plt = 20\n",
    "top_cs_idx = top_cs[:20].index.astype('str')\n",
    "plt.bar(top_cs_idx, top_cs[:n_plt])\n",
    "plt.xticks(rotation=90)\n",
    "plt.xlabel('CustomerID')\n",
    "plt.ylabel('#transactions')\n",
    "plt.show()"
   ]
  },
  {
   "cell_type": "code",
   "execution_count": null,
   "metadata": {},
   "outputs": [],
   "source": [
    "n_plt = 20\n",
    "plt.bar(top_ct[:n_plt].index, top_ct[:n_plt])\n",
    "plt.xticks(rotation=90)\n",
    "plt.xlabel('Country')\n",
    "plt.ylabel('#transactions')\n",
    "plt.show()"
   ]
  },
  {
   "cell_type": "markdown",
   "metadata": {},
   "source": [
    "#### Basket Analysis (jaccard, support, confidence, lift) of the top two items  "
   ]
  },
  {
   "cell_type": "markdown",
   "metadata": {},
   "source": [
    "##### Get StockCode for the top two items  "
   ]
  },
  {
   "cell_type": "code",
   "execution_count": null,
   "metadata": {},
   "outputs": [],
   "source": [
    "top_sc1 = top_sc.index[0]\n",
    "top_sc2 = top_sc.index[1]\n",
    "print(top_sc1, top_sc2)"
   ]
  },
  {
   "cell_type": "markdown",
   "metadata": {},
   "source": [
    "##### Collect invoices of these items  "
   ]
  },
  {
   "cell_type": "code",
   "execution_count": null,
   "metadata": {},
   "outputs": [],
   "source": [
    "df_sc1 = df[ df['StockCode']==top_sc1 ]\n",
    "df_sc2 = df[ df['StockCode']==top_sc2 ]"
   ]
  },
  {
   "cell_type": "code",
   "execution_count": null,
   "metadata": {},
   "outputs": [],
   "source": [
    "iv_all = set(df['InvoiceNo'])\n",
    "iv_sc1 = set(df_sc1['InvoiceNo'])\n",
    "iv_sc2 = set(df_sc2['InvoiceNo'])\n",
    "iv_both = iv_sc1 & iv_sc2\n",
    "iv_either = iv_sc1 | iv_sc2"
   ]
  },
  {
   "cell_type": "code",
   "execution_count": null,
   "metadata": {},
   "outputs": [],
   "source": [
    "n_all = len(iv_all)\n",
    "n_sc1 = len(iv_sc1)\n",
    "n_sc2 = len(iv_sc2)\n",
    "n_both = len(iv_both)\n",
    "n_either = len(iv_either)\n",
    "print(n_all, n_sc1, n_sc2, n_both, n_either)"
   ]
  },
  {
   "cell_type": "markdown",
   "metadata": {},
   "source": [
    "##### Jaccard Coeff.  "
   ]
  },
  {
   "cell_type": "code",
   "execution_count": null,
   "metadata": {},
   "outputs": [],
   "source": [
    "print('Jac(sc1 => sc2):',  n_both / n_either)"
   ]
  },
  {
   "cell_type": "markdown",
   "metadata": {},
   "source": [
    "##### Support (支持度)  "
   ]
  },
  {
   "cell_type": "code",
   "execution_count": null,
   "metadata": {},
   "outputs": [],
   "source": [
    "print('Supp(sc1 => sc2):', n_both / n_all)"
   ]
  },
  {
   "cell_type": "markdown",
   "metadata": {},
   "source": [
    "##### Confidence (確信度, 信頼度)  "
   ]
  },
  {
   "cell_type": "code",
   "execution_count": null,
   "metadata": {},
   "outputs": [],
   "source": [
    "print('Conf(sc1 = sc2):', n_both / n_sc1)  # Confidence based on top_sc1\n",
    "print('Conf(sc2 = sc1):', n_both / n_sc2)  # Confidence based on top_sc2"
   ]
  },
  {
   "cell_type": "markdown",
   "metadata": {},
   "source": [
    "##### Lift (リフト値)  "
   ]
  },
  {
   "cell_type": "code",
   "execution_count": null,
   "metadata": {},
   "outputs": [],
   "source": [
    "a = n_both / n_sc2\n",
    "b = n_sc1 / n_all\n",
    "print('Lift(sc1 => sc2):', a/b)"
   ]
  },
  {
   "cell_type": "markdown",
   "metadata": {},
   "source": [
    "#### Write the current data to a CSV file  "
   ]
  },
  {
   "cell_type": "code",
   "execution_count": null,
   "metadata": {},
   "outputs": [],
   "source": [
    "df = df.drop(columns='Cancel')\n",
    "df.to_csv(csv_out, index=False)"
   ]
  },
  {
   "cell_type": "code",
   "execution_count": null,
   "metadata": {},
   "outputs": [],
   "source": []
  }
 ],
 "metadata": {
  "kernelspec": {
   "display_name": "Python 3",
   "language": "python",
   "name": "python3"
  },
  "language_info": {
   "codemirror_mode": {
    "name": "ipython",
    "version": 3
   },
   "file_extension": ".py",
   "mimetype": "text/x-python",
   "name": "python",
   "nbconvert_exporter": "python",
   "pygments_lexer": "ipython3",
   "version": "3.8.8"
  }
 },
 "nbformat": 4,
 "nbformat_minor": 4
}
