{
 "cells": [
  {
   "cell_type": "markdown",
   "metadata": {},
   "source": [
    "### Sample program for Association Analysis (Market Basket Analysis)   "
   ]
  },
  {
   "cell_type": "markdown",
   "metadata": {},
   "source": [
    "#### Import libraries  "
   ]
  },
  {
   "cell_type": "code",
   "execution_count": 1,
   "metadata": {},
   "outputs": [],
   "source": [
    "import pandas as pd\n",
    "import matplotlib.pyplot as plt"
   ]
  },
  {
   "cell_type": "markdown",
   "metadata": {},
   "source": [
    "#### Parameters  "
   ]
  },
  {
   "cell_type": "code",
   "execution_count": 2,
   "metadata": {},
   "outputs": [],
   "source": [
    "csv_in = 'online_retail_small.csv'\n",
    "csv_out = 'online_retail_small_cleaned.csv'"
   ]
  },
  {
   "cell_type": "markdown",
   "metadata": {},
   "source": [
    "#### Read CSV file  "
   ]
  },
  {
   "cell_type": "code",
   "execution_count": 3,
   "metadata": {},
   "outputs": [
    {
     "name": "stdout",
     "output_type": "stream",
     "text": [
      "(59681, 8)\n",
      "<class 'pandas.core.frame.DataFrame'>\n",
      "RangeIndex: 59681 entries, 0 to 59680\n",
      "Data columns (total 8 columns):\n",
      " #   Column       Non-Null Count  Dtype  \n",
      "---  ------       --------------  -----  \n",
      " 0   InvoiceNo    59681 non-null  object \n",
      " 1   StockCode    59681 non-null  object \n",
      " 2   Description  59680 non-null  object \n",
      " 3   Quantity     59681 non-null  int64  \n",
      " 4   InvoiceDate  59681 non-null  object \n",
      " 5   UnitPrice    59681 non-null  float64\n",
      " 6   CustomerID   59153 non-null  float64\n",
      " 7   Country      59681 non-null  object \n",
      "dtypes: float64(2), int64(1), object(5)\n",
      "memory usage: 3.6+ MB\n",
      "None\n"
     ]
    },
    {
     "data": {
      "text/html": [
       "<div>\n",
       "<style scoped>\n",
       "    .dataframe tbody tr th:only-of-type {\n",
       "        vertical-align: middle;\n",
       "    }\n",
       "\n",
       "    .dataframe tbody tr th {\n",
       "        vertical-align: top;\n",
       "    }\n",
       "\n",
       "    .dataframe thead th {\n",
       "        text-align: right;\n",
       "    }\n",
       "</style>\n",
       "<table border=\"1\" class=\"dataframe\">\n",
       "  <thead>\n",
       "    <tr style=\"text-align: right;\">\n",
       "      <th></th>\n",
       "      <th>InvoiceNo</th>\n",
       "      <th>StockCode</th>\n",
       "      <th>Description</th>\n",
       "      <th>Quantity</th>\n",
       "      <th>InvoiceDate</th>\n",
       "      <th>UnitPrice</th>\n",
       "      <th>CustomerID</th>\n",
       "      <th>Country</th>\n",
       "    </tr>\n",
       "  </thead>\n",
       "  <tbody>\n",
       "    <tr>\n",
       "      <th>0</th>\n",
       "      <td>C536379</td>\n",
       "      <td>D</td>\n",
       "      <td>Discount</td>\n",
       "      <td>-1</td>\n",
       "      <td>2010-12-01 09:41:00</td>\n",
       "      <td>27.50</td>\n",
       "      <td>14527.0</td>\n",
       "      <td>United Kingdom</td>\n",
       "    </tr>\n",
       "    <tr>\n",
       "      <th>1</th>\n",
       "      <td>536386</td>\n",
       "      <td>84880</td>\n",
       "      <td>WHITE WIRE EGG HOLDER</td>\n",
       "      <td>36</td>\n",
       "      <td>2010-12-01 09:57:00</td>\n",
       "      <td>4.95</td>\n",
       "      <td>16029.0</td>\n",
       "      <td>United Kingdom</td>\n",
       "    </tr>\n",
       "    <tr>\n",
       "      <th>2</th>\n",
       "      <td>536386</td>\n",
       "      <td>85099C</td>\n",
       "      <td>JUMBO  BAG BAROQUE BLACK WHITE</td>\n",
       "      <td>100</td>\n",
       "      <td>2010-12-01 09:57:00</td>\n",
       "      <td>1.65</td>\n",
       "      <td>16029.0</td>\n",
       "      <td>United Kingdom</td>\n",
       "    </tr>\n",
       "    <tr>\n",
       "      <th>3</th>\n",
       "      <td>536386</td>\n",
       "      <td>85099B</td>\n",
       "      <td>JUMBO BAG RED RETROSPOT</td>\n",
       "      <td>100</td>\n",
       "      <td>2010-12-01 09:57:00</td>\n",
       "      <td>1.65</td>\n",
       "      <td>16029.0</td>\n",
       "      <td>United Kingdom</td>\n",
       "    </tr>\n",
       "    <tr>\n",
       "      <th>4</th>\n",
       "      <td>C536391</td>\n",
       "      <td>22556</td>\n",
       "      <td>PLASTERS IN TIN CIRCUS PARADE</td>\n",
       "      <td>-12</td>\n",
       "      <td>2010-12-01 10:24:00</td>\n",
       "      <td>1.65</td>\n",
       "      <td>17548.0</td>\n",
       "      <td>United Kingdom</td>\n",
       "    </tr>\n",
       "  </tbody>\n",
       "</table>\n",
       "</div>"
      ],
      "text/plain": [
       "  InvoiceNo StockCode                     Description  Quantity  \\\n",
       "0   C536379         D                        Discount        -1   \n",
       "1    536386     84880           WHITE WIRE EGG HOLDER        36   \n",
       "2    536386    85099C  JUMBO  BAG BAROQUE BLACK WHITE       100   \n",
       "3    536386    85099B         JUMBO BAG RED RETROSPOT       100   \n",
       "4   C536391     22556  PLASTERS IN TIN CIRCUS PARADE        -12   \n",
       "\n",
       "           InvoiceDate  UnitPrice  CustomerID         Country  \n",
       "0  2010-12-01 09:41:00      27.50     14527.0  United Kingdom  \n",
       "1  2010-12-01 09:57:00       4.95     16029.0  United Kingdom  \n",
       "2  2010-12-01 09:57:00       1.65     16029.0  United Kingdom  \n",
       "3  2010-12-01 09:57:00       1.65     16029.0  United Kingdom  \n",
       "4  2010-12-01 10:24:00       1.65     17548.0  United Kingdom  "
      ]
     },
     "metadata": {},
     "output_type": "display_data"
    }
   ],
   "source": [
    "df_all = pd.read_csv(csv_in, delimiter=',', skiprows=0, header=0)\n",
    "print(df_all.shape)\n",
    "print(df_all.info())\n",
    "display(df_all.head())"
   ]
  },
  {
   "cell_type": "markdown",
   "metadata": {},
   "source": [
    "#### Check missing values  "
   ]
  },
  {
   "cell_type": "code",
   "execution_count": 4,
   "metadata": {},
   "outputs": [
    {
     "name": "stdout",
     "output_type": "stream",
     "text": [
      "528\n"
     ]
    },
    {
     "data": {
      "text/html": [
       "<div>\n",
       "<style scoped>\n",
       "    .dataframe tbody tr th:only-of-type {\n",
       "        vertical-align: middle;\n",
       "    }\n",
       "\n",
       "    .dataframe tbody tr th {\n",
       "        vertical-align: top;\n",
       "    }\n",
       "\n",
       "    .dataframe thead th {\n",
       "        text-align: right;\n",
       "    }\n",
       "</style>\n",
       "<table border=\"1\" class=\"dataframe\">\n",
       "  <thead>\n",
       "    <tr style=\"text-align: right;\">\n",
       "      <th></th>\n",
       "      <th>InvoiceNo</th>\n",
       "      <th>StockCode</th>\n",
       "      <th>Description</th>\n",
       "      <th>Quantity</th>\n",
       "      <th>InvoiceDate</th>\n",
       "      <th>UnitPrice</th>\n",
       "      <th>CustomerID</th>\n",
       "      <th>Country</th>\n",
       "    </tr>\n",
       "  </thead>\n",
       "  <tbody>\n",
       "    <tr>\n",
       "      <th>87</th>\n",
       "      <td>536414</td>\n",
       "      <td>22139</td>\n",
       "      <td>NaN</td>\n",
       "      <td>56</td>\n",
       "      <td>2010-12-01 11:52:00</td>\n",
       "      <td>0.00</td>\n",
       "      <td>NaN</td>\n",
       "      <td>United Kingdom</td>\n",
       "    </tr>\n",
       "    <tr>\n",
       "      <th>131</th>\n",
       "      <td>536544</td>\n",
       "      <td>21773</td>\n",
       "      <td>DECORATIVE ROSE BATHROOM BOTTLE</td>\n",
       "      <td>1</td>\n",
       "      <td>2010-12-01 14:32:00</td>\n",
       "      <td>2.51</td>\n",
       "      <td>NaN</td>\n",
       "      <td>United Kingdom</td>\n",
       "    </tr>\n",
       "    <tr>\n",
       "      <th>132</th>\n",
       "      <td>536544</td>\n",
       "      <td>21774</td>\n",
       "      <td>DECORATIVE CATS BATHROOM BOTTLE</td>\n",
       "      <td>2</td>\n",
       "      <td>2010-12-01 14:32:00</td>\n",
       "      <td>2.51</td>\n",
       "      <td>NaN</td>\n",
       "      <td>United Kingdom</td>\n",
       "    </tr>\n",
       "    <tr>\n",
       "      <th>133</th>\n",
       "      <td>536544</td>\n",
       "      <td>21786</td>\n",
       "      <td>POLKADOT RAIN HAT</td>\n",
       "      <td>4</td>\n",
       "      <td>2010-12-01 14:32:00</td>\n",
       "      <td>0.85</td>\n",
       "      <td>NaN</td>\n",
       "      <td>United Kingdom</td>\n",
       "    </tr>\n",
       "    <tr>\n",
       "      <th>134</th>\n",
       "      <td>536544</td>\n",
       "      <td>21787</td>\n",
       "      <td>RAIN PONCHO RETROSPOT</td>\n",
       "      <td>2</td>\n",
       "      <td>2010-12-01 14:32:00</td>\n",
       "      <td>1.66</td>\n",
       "      <td>NaN</td>\n",
       "      <td>United Kingdom</td>\n",
       "    </tr>\n",
       "  </tbody>\n",
       "</table>\n",
       "</div>"
      ],
      "text/plain": [
       "    InvoiceNo StockCode                      Description  Quantity  \\\n",
       "87     536414     22139                              NaN        56   \n",
       "131    536544     21773  DECORATIVE ROSE BATHROOM BOTTLE         1   \n",
       "132    536544     21774  DECORATIVE CATS BATHROOM BOTTLE         2   \n",
       "133    536544     21786               POLKADOT RAIN HAT          4   \n",
       "134    536544     21787            RAIN PONCHO RETROSPOT         2   \n",
       "\n",
       "             InvoiceDate  UnitPrice  CustomerID         Country  \n",
       "87   2010-12-01 11:52:00       0.00         NaN  United Kingdom  \n",
       "131  2010-12-01 14:32:00       2.51         NaN  United Kingdom  \n",
       "132  2010-12-01 14:32:00       2.51         NaN  United Kingdom  \n",
       "133  2010-12-01 14:32:00       0.85         NaN  United Kingdom  \n",
       "134  2010-12-01 14:32:00       1.66         NaN  United Kingdom  "
      ]
     },
     "metadata": {},
     "output_type": "display_data"
    }
   ],
   "source": [
    "df_missing = df_all[df_all.isnull().any(axis=1)]\n",
    "print(df_missing.shape[0])\n",
    "display(df_missing.head())"
   ]
  },
  {
   "cell_type": "markdown",
   "metadata": {},
   "source": [
    "#### Delete rows with missing values  "
   ]
  },
  {
   "cell_type": "code",
   "execution_count": 5,
   "metadata": {},
   "outputs": [
    {
     "name": "stdout",
     "output_type": "stream",
     "text": [
      "(59153, 8)\n",
      "<class 'pandas.core.frame.DataFrame'>\n",
      "RangeIndex: 59153 entries, 0 to 59152\n",
      "Data columns (total 8 columns):\n",
      " #   Column       Non-Null Count  Dtype  \n",
      "---  ------       --------------  -----  \n",
      " 0   InvoiceNo    59153 non-null  object \n",
      " 1   StockCode    59153 non-null  object \n",
      " 2   Description  59153 non-null  object \n",
      " 3   Quantity     59153 non-null  int64  \n",
      " 4   InvoiceDate  59153 non-null  object \n",
      " 5   UnitPrice    59153 non-null  float64\n",
      " 6   CustomerID   59153 non-null  float64\n",
      " 7   Country      59153 non-null  object \n",
      "dtypes: float64(2), int64(1), object(5)\n",
      "memory usage: 3.6+ MB\n",
      "None\n"
     ]
    },
    {
     "data": {
      "text/html": [
       "<div>\n",
       "<style scoped>\n",
       "    .dataframe tbody tr th:only-of-type {\n",
       "        vertical-align: middle;\n",
       "    }\n",
       "\n",
       "    .dataframe tbody tr th {\n",
       "        vertical-align: top;\n",
       "    }\n",
       "\n",
       "    .dataframe thead th {\n",
       "        text-align: right;\n",
       "    }\n",
       "</style>\n",
       "<table border=\"1\" class=\"dataframe\">\n",
       "  <thead>\n",
       "    <tr style=\"text-align: right;\">\n",
       "      <th></th>\n",
       "      <th>InvoiceNo</th>\n",
       "      <th>StockCode</th>\n",
       "      <th>Description</th>\n",
       "      <th>Quantity</th>\n",
       "      <th>InvoiceDate</th>\n",
       "      <th>UnitPrice</th>\n",
       "      <th>CustomerID</th>\n",
       "      <th>Country</th>\n",
       "    </tr>\n",
       "  </thead>\n",
       "  <tbody>\n",
       "    <tr>\n",
       "      <th>0</th>\n",
       "      <td>C536379</td>\n",
       "      <td>D</td>\n",
       "      <td>Discount</td>\n",
       "      <td>-1</td>\n",
       "      <td>2010-12-01 09:41:00</td>\n",
       "      <td>27.50</td>\n",
       "      <td>14527.0</td>\n",
       "      <td>United Kingdom</td>\n",
       "    </tr>\n",
       "    <tr>\n",
       "      <th>1</th>\n",
       "      <td>536386</td>\n",
       "      <td>84880</td>\n",
       "      <td>WHITE WIRE EGG HOLDER</td>\n",
       "      <td>36</td>\n",
       "      <td>2010-12-01 09:57:00</td>\n",
       "      <td>4.95</td>\n",
       "      <td>16029.0</td>\n",
       "      <td>United Kingdom</td>\n",
       "    </tr>\n",
       "    <tr>\n",
       "      <th>2</th>\n",
       "      <td>536386</td>\n",
       "      <td>85099C</td>\n",
       "      <td>JUMBO  BAG BAROQUE BLACK WHITE</td>\n",
       "      <td>100</td>\n",
       "      <td>2010-12-01 09:57:00</td>\n",
       "      <td>1.65</td>\n",
       "      <td>16029.0</td>\n",
       "      <td>United Kingdom</td>\n",
       "    </tr>\n",
       "    <tr>\n",
       "      <th>3</th>\n",
       "      <td>536386</td>\n",
       "      <td>85099B</td>\n",
       "      <td>JUMBO BAG RED RETROSPOT</td>\n",
       "      <td>100</td>\n",
       "      <td>2010-12-01 09:57:00</td>\n",
       "      <td>1.65</td>\n",
       "      <td>16029.0</td>\n",
       "      <td>United Kingdom</td>\n",
       "    </tr>\n",
       "    <tr>\n",
       "      <th>4</th>\n",
       "      <td>C536391</td>\n",
       "      <td>22556</td>\n",
       "      <td>PLASTERS IN TIN CIRCUS PARADE</td>\n",
       "      <td>-12</td>\n",
       "      <td>2010-12-01 10:24:00</td>\n",
       "      <td>1.65</td>\n",
       "      <td>17548.0</td>\n",
       "      <td>United Kingdom</td>\n",
       "    </tr>\n",
       "  </tbody>\n",
       "</table>\n",
       "</div>"
      ],
      "text/plain": [
       "  InvoiceNo StockCode                     Description  Quantity  \\\n",
       "0   C536379         D                        Discount        -1   \n",
       "1    536386     84880           WHITE WIRE EGG HOLDER        36   \n",
       "2    536386    85099C  JUMBO  BAG BAROQUE BLACK WHITE       100   \n",
       "3    536386    85099B         JUMBO BAG RED RETROSPOT       100   \n",
       "4   C536391     22556  PLASTERS IN TIN CIRCUS PARADE        -12   \n",
       "\n",
       "           InvoiceDate  UnitPrice  CustomerID         Country  \n",
       "0  2010-12-01 09:41:00      27.50     14527.0  United Kingdom  \n",
       "1  2010-12-01 09:57:00       4.95     16029.0  United Kingdom  \n",
       "2  2010-12-01 09:57:00       1.65     16029.0  United Kingdom  \n",
       "3  2010-12-01 09:57:00       1.65     16029.0  United Kingdom  \n",
       "4  2010-12-01 10:24:00       1.65     17548.0  United Kingdom  "
      ]
     },
     "metadata": {},
     "output_type": "display_data"
    }
   ],
   "source": [
    "df = df_all.dropna().reset_index(drop=True)\n",
    "print(df.shape)\n",
    "print(df.info())\n",
    "display(df.head())"
   ]
  },
  {
   "cell_type": "markdown",
   "metadata": {},
   "source": [
    "#### Fix data type of columns  "
   ]
  },
  {
   "cell_type": "code",
   "execution_count": 6,
   "metadata": {},
   "outputs": [
    {
     "name": "stdout",
     "output_type": "stream",
     "text": [
      "<class 'pandas.core.frame.DataFrame'>\n",
      "RangeIndex: 59153 entries, 0 to 59152\n",
      "Data columns (total 8 columns):\n",
      " #   Column       Non-Null Count  Dtype         \n",
      "---  ------       --------------  -----         \n",
      " 0   InvoiceNo    59153 non-null  object        \n",
      " 1   StockCode    59153 non-null  object        \n",
      " 2   Description  59153 non-null  object        \n",
      " 3   Quantity     59153 non-null  int64         \n",
      " 4   InvoiceDate  59153 non-null  datetime64[ns]\n",
      " 5   UnitPrice    59153 non-null  float64       \n",
      " 6   CustomerID   59153 non-null  int64         \n",
      " 7   Country      59153 non-null  object        \n",
      "dtypes: datetime64[ns](1), float64(1), int64(2), object(4)\n",
      "memory usage: 3.6+ MB\n",
      "None\n"
     ]
    },
    {
     "data": {
      "text/html": [
       "<div>\n",
       "<style scoped>\n",
       "    .dataframe tbody tr th:only-of-type {\n",
       "        vertical-align: middle;\n",
       "    }\n",
       "\n",
       "    .dataframe tbody tr th {\n",
       "        vertical-align: top;\n",
       "    }\n",
       "\n",
       "    .dataframe thead th {\n",
       "        text-align: right;\n",
       "    }\n",
       "</style>\n",
       "<table border=\"1\" class=\"dataframe\">\n",
       "  <thead>\n",
       "    <tr style=\"text-align: right;\">\n",
       "      <th></th>\n",
       "      <th>InvoiceNo</th>\n",
       "      <th>StockCode</th>\n",
       "      <th>Description</th>\n",
       "      <th>Quantity</th>\n",
       "      <th>InvoiceDate</th>\n",
       "      <th>UnitPrice</th>\n",
       "      <th>CustomerID</th>\n",
       "      <th>Country</th>\n",
       "    </tr>\n",
       "  </thead>\n",
       "  <tbody>\n",
       "    <tr>\n",
       "      <th>0</th>\n",
       "      <td>C536379</td>\n",
       "      <td>D</td>\n",
       "      <td>Discount</td>\n",
       "      <td>-1</td>\n",
       "      <td>2010-12-01 09:41:00</td>\n",
       "      <td>27.50</td>\n",
       "      <td>14527</td>\n",
       "      <td>United Kingdom</td>\n",
       "    </tr>\n",
       "    <tr>\n",
       "      <th>1</th>\n",
       "      <td>536386</td>\n",
       "      <td>84880</td>\n",
       "      <td>WHITE WIRE EGG HOLDER</td>\n",
       "      <td>36</td>\n",
       "      <td>2010-12-01 09:57:00</td>\n",
       "      <td>4.95</td>\n",
       "      <td>16029</td>\n",
       "      <td>United Kingdom</td>\n",
       "    </tr>\n",
       "    <tr>\n",
       "      <th>2</th>\n",
       "      <td>536386</td>\n",
       "      <td>85099C</td>\n",
       "      <td>JUMBO  BAG BAROQUE BLACK WHITE</td>\n",
       "      <td>100</td>\n",
       "      <td>2010-12-01 09:57:00</td>\n",
       "      <td>1.65</td>\n",
       "      <td>16029</td>\n",
       "      <td>United Kingdom</td>\n",
       "    </tr>\n",
       "    <tr>\n",
       "      <th>3</th>\n",
       "      <td>536386</td>\n",
       "      <td>85099B</td>\n",
       "      <td>JUMBO BAG RED RETROSPOT</td>\n",
       "      <td>100</td>\n",
       "      <td>2010-12-01 09:57:00</td>\n",
       "      <td>1.65</td>\n",
       "      <td>16029</td>\n",
       "      <td>United Kingdom</td>\n",
       "    </tr>\n",
       "    <tr>\n",
       "      <th>4</th>\n",
       "      <td>C536391</td>\n",
       "      <td>22556</td>\n",
       "      <td>PLASTERS IN TIN CIRCUS PARADE</td>\n",
       "      <td>-12</td>\n",
       "      <td>2010-12-01 10:24:00</td>\n",
       "      <td>1.65</td>\n",
       "      <td>17548</td>\n",
       "      <td>United Kingdom</td>\n",
       "    </tr>\n",
       "  </tbody>\n",
       "</table>\n",
       "</div>"
      ],
      "text/plain": [
       "  InvoiceNo StockCode                     Description  Quantity  \\\n",
       "0   C536379         D                        Discount        -1   \n",
       "1    536386     84880           WHITE WIRE EGG HOLDER        36   \n",
       "2    536386    85099C  JUMBO  BAG BAROQUE BLACK WHITE       100   \n",
       "3    536386    85099B         JUMBO BAG RED RETROSPOT       100   \n",
       "4   C536391     22556  PLASTERS IN TIN CIRCUS PARADE        -12   \n",
       "\n",
       "          InvoiceDate  UnitPrice  CustomerID         Country  \n",
       "0 2010-12-01 09:41:00      27.50       14527  United Kingdom  \n",
       "1 2010-12-01 09:57:00       4.95       16029  United Kingdom  \n",
       "2 2010-12-01 09:57:00       1.65       16029  United Kingdom  \n",
       "3 2010-12-01 09:57:00       1.65       16029  United Kingdom  \n",
       "4 2010-12-01 10:24:00       1.65       17548  United Kingdom  "
      ]
     },
     "metadata": {},
     "output_type": "display_data"
    }
   ],
   "source": [
    "df['InvoiceDate'] = pd.to_datetime(df['InvoiceDate'])\n",
    "df['CustomerID'] = df['CustomerID'].astype('int')\n",
    "print(df.info())\n",
    "display(df.head())"
   ]
  },
  {
   "cell_type": "markdown",
   "metadata": {},
   "source": [
    "#### Check canceled invoice  "
   ]
  },
  {
   "cell_type": "code",
   "execution_count": 7,
   "metadata": {},
   "outputs": [
    {
     "data": {
      "text/html": [
       "<div>\n",
       "<style scoped>\n",
       "    .dataframe tbody tr th:only-of-type {\n",
       "        vertical-align: middle;\n",
       "    }\n",
       "\n",
       "    .dataframe tbody tr th {\n",
       "        vertical-align: top;\n",
       "    }\n",
       "\n",
       "    .dataframe thead th {\n",
       "        text-align: right;\n",
       "    }\n",
       "</style>\n",
       "<table border=\"1\" class=\"dataframe\">\n",
       "  <thead>\n",
       "    <tr style=\"text-align: right;\">\n",
       "      <th></th>\n",
       "      <th>InvoiceNo</th>\n",
       "      <th>StockCode</th>\n",
       "      <th>Description</th>\n",
       "      <th>Quantity</th>\n",
       "      <th>InvoiceDate</th>\n",
       "      <th>UnitPrice</th>\n",
       "      <th>CustomerID</th>\n",
       "      <th>Country</th>\n",
       "      <th>Cancel</th>\n",
       "    </tr>\n",
       "  </thead>\n",
       "  <tbody>\n",
       "    <tr>\n",
       "      <th>0</th>\n",
       "      <td>C536379</td>\n",
       "      <td>D</td>\n",
       "      <td>Discount</td>\n",
       "      <td>-1</td>\n",
       "      <td>2010-12-01 09:41:00</td>\n",
       "      <td>27.50</td>\n",
       "      <td>14527</td>\n",
       "      <td>United Kingdom</td>\n",
       "      <td>C</td>\n",
       "    </tr>\n",
       "    <tr>\n",
       "      <th>1</th>\n",
       "      <td>536386</td>\n",
       "      <td>84880</td>\n",
       "      <td>WHITE WIRE EGG HOLDER</td>\n",
       "      <td>36</td>\n",
       "      <td>2010-12-01 09:57:00</td>\n",
       "      <td>4.95</td>\n",
       "      <td>16029</td>\n",
       "      <td>United Kingdom</td>\n",
       "      <td>5</td>\n",
       "    </tr>\n",
       "    <tr>\n",
       "      <th>2</th>\n",
       "      <td>536386</td>\n",
       "      <td>85099C</td>\n",
       "      <td>JUMBO  BAG BAROQUE BLACK WHITE</td>\n",
       "      <td>100</td>\n",
       "      <td>2010-12-01 09:57:00</td>\n",
       "      <td>1.65</td>\n",
       "      <td>16029</td>\n",
       "      <td>United Kingdom</td>\n",
       "      <td>5</td>\n",
       "    </tr>\n",
       "    <tr>\n",
       "      <th>3</th>\n",
       "      <td>536386</td>\n",
       "      <td>85099B</td>\n",
       "      <td>JUMBO BAG RED RETROSPOT</td>\n",
       "      <td>100</td>\n",
       "      <td>2010-12-01 09:57:00</td>\n",
       "      <td>1.65</td>\n",
       "      <td>16029</td>\n",
       "      <td>United Kingdom</td>\n",
       "      <td>5</td>\n",
       "    </tr>\n",
       "    <tr>\n",
       "      <th>4</th>\n",
       "      <td>C536391</td>\n",
       "      <td>22556</td>\n",
       "      <td>PLASTERS IN TIN CIRCUS PARADE</td>\n",
       "      <td>-12</td>\n",
       "      <td>2010-12-01 10:24:00</td>\n",
       "      <td>1.65</td>\n",
       "      <td>17548</td>\n",
       "      <td>United Kingdom</td>\n",
       "      <td>C</td>\n",
       "    </tr>\n",
       "  </tbody>\n",
       "</table>\n",
       "</div>"
      ],
      "text/plain": [
       "  InvoiceNo StockCode                     Description  Quantity  \\\n",
       "0   C536379         D                        Discount        -1   \n",
       "1    536386     84880           WHITE WIRE EGG HOLDER        36   \n",
       "2    536386    85099C  JUMBO  BAG BAROQUE BLACK WHITE       100   \n",
       "3    536386    85099B         JUMBO BAG RED RETROSPOT       100   \n",
       "4   C536391     22556  PLASTERS IN TIN CIRCUS PARADE        -12   \n",
       "\n",
       "          InvoiceDate  UnitPrice  CustomerID         Country Cancel  \n",
       "0 2010-12-01 09:41:00      27.50       14527  United Kingdom      C  \n",
       "1 2010-12-01 09:57:00       4.95       16029  United Kingdom      5  \n",
       "2 2010-12-01 09:57:00       1.65       16029  United Kingdom      5  \n",
       "3 2010-12-01 09:57:00       1.65       16029  United Kingdom      5  \n",
       "4 2010-12-01 10:24:00       1.65       17548  United Kingdom      C  "
      ]
     },
     "metadata": {},
     "output_type": "display_data"
    }
   ],
   "source": [
    "df['Cancel'] = df['InvoiceNo'].map(lambda x: str(x)[0])\n",
    "display(df.head())"
   ]
  },
  {
   "cell_type": "code",
   "execution_count": 8,
   "metadata": {},
   "outputs": [
    {
     "name": "stdout",
     "output_type": "stream",
     "text": [
      "5    59145\n",
      "C        8\n",
      "Name: Cancel, dtype: int64\n"
     ]
    }
   ],
   "source": [
    "print(df['Cancel'].value_counts())"
   ]
  },
  {
   "cell_type": "markdown",
   "metadata": {},
   "source": [
    "#### Use only non-canceled invoices  "
   ]
  },
  {
   "cell_type": "code",
   "execution_count": 9,
   "metadata": {},
   "outputs": [
    {
     "name": "stdout",
     "output_type": "stream",
     "text": [
      "(59145, 9)\n"
     ]
    }
   ],
   "source": [
    "df = df[ df['Cancel']=='5' ]\n",
    "print(df.shape)"
   ]
  },
  {
   "cell_type": "markdown",
   "metadata": {},
   "source": [
    "#### How many invoices, items, customers, countries?  "
   ]
  },
  {
   "cell_type": "code",
   "execution_count": 10,
   "metadata": {},
   "outputs": [
    {
     "name": "stdout",
     "output_type": "stream",
     "text": [
      "#Invoices: 2757\n",
      "573576    435\n",
      "568346    335\n",
      "547063    294\n",
      "574328    208\n",
      "571653    202\n",
      "Name: InvoiceNo, dtype: int64\n",
      "#StockCode: 3140\n",
      "85123A    315\n",
      "85099B    246\n",
      "22423     229\n",
      "84879     213\n",
      "47566     208\n",
      "Name: StockCode, dtype: int64\n",
      "#CustomerID: 1641\n",
      "17841    971\n",
      "14096    770\n",
      "14911    770\n",
      "12748    703\n",
      "14606    468\n",
      "Name: CustomerID, dtype: int64\n",
      "#Country: 25\n",
      "United Kingdom    53220\n",
      "Germany            1576\n",
      "EIRE               1174\n",
      "France              988\n",
      "Portugal            292\n",
      "Name: Country, dtype: int64\n"
     ]
    }
   ],
   "source": [
    "top_iv = df['InvoiceNo'].value_counts()\n",
    "top_sc = df['StockCode'].value_counts()\n",
    "top_cs = df['CustomerID'].value_counts()\n",
    "top_ct = df['Country'].value_counts()\n",
    "print('#Invoices:', top_iv.size)\n",
    "print(top_iv.head())\n",
    "print('#StockCode:', top_sc.size)\n",
    "print(top_sc.head())\n",
    "print('#CustomerID:', top_cs.size)\n",
    "print(top_cs.head())\n",
    "print('#Country:', top_ct.size)\n",
    "print(top_ct.head())"
   ]
  },
  {
   "cell_type": "code",
   "execution_count": 11,
   "metadata": {},
   "outputs": [
    {
     "data": {
      "image/png": "[encoded data removed]",
      "text/plain": [
       "<Figure size 432x288 with 1 Axes>"
      ]
     },
     "metadata": {
      "needs_background": "light"
     },
     "output_type": "display_data"
    }
   ],
   "source": [
    "n_plt = 20\n",
    "top_iv_idx = top_iv[:20].index.astype('str')\n",
    "plt.bar(top_iv_idx, top_iv[:n_plt])\n",
    "plt.xticks(rotation=90)\n",
    "plt.xlabel('InvoiceNo')\n",
    "plt.ylabel('#transactions')\n",
    "plt.show()"
   ]
  },
  {
   "cell_type": "code",
   "execution_count": 12,
   "metadata": {},
   "outputs": [
    {
     "data": {
      "image/png": "[encoded data removed]",
      "text/plain": [
       "<Figure size 432x288 with 1 Axes>"
      ]
     },
     "metadata": {
      "needs_background": "light"
     },
     "output_type": "display_data"
    }
   ],
   "source": [
    "n_plt = 20\n",
    "plt.bar(top_sc[:n_plt].index, top_sc[:n_plt])\n",
    "plt.xticks(rotation=90)\n",
    "plt.xlabel('StockCode')\n",
    "plt.ylabel('#transactions')\n",
    "plt.show()"
   ]
  },
  {
   "cell_type": "code",
   "execution_count": 13,
   "metadata": {},
   "outputs": [
    {
     "data": {
      "image/png": "[encoded data removed]",
      "text/plain": [
       "<Figure size 432x288 with 1 Axes>"
      ]
     },
     "metadata": {
      "needs_background": "light"
     },
     "output_type": "display_data"
    }
   ],
   "source": [
    "n_plt = 20\n",
    "top_cs_idx = top_cs[:20].index.astype('str')\n",
    "plt.bar(top_cs_idx, top_cs[:n_plt])\n",
    "plt.xticks(rotation=90)\n",
    "plt.xlabel('CustomerID')\n",
    "plt.ylabel('#transactions')\n",
    "plt.show()"
   ]
  },
  {
   "cell_type": "code",
   "execution_count": 14,
   "metadata": {},
   "outputs": [
    {
     "data": {
      "image/png": "[encoded data removed]",
      "text/plain": [
       "<Figure size 432x288 with 1 Axes>"
      ]
     },
     "metadata": {
      "needs_background": "light"
     },
     "output_type": "display_data"
    }
   ],
   "source": [
    "n_plt = 20\n",
    "plt.bar(top_ct[:n_plt].index, top_ct[:n_plt])\n",
    "plt.xticks(rotation=90)\n",
    "plt.xlabel('Country')\n",
    "plt.ylabel('#transactions')\n",
    "plt.show()"
   ]
  },
  {
   "cell_type": "markdown",
   "metadata": {},
   "source": [
    "#### Basket Analysis (jaccard, support, confidence, lift) of the top two items  "
   ]
  },
  {
   "cell_type": "markdown",
   "metadata": {},
   "source": [
    "##### Get StockCode for the top two items  "
   ]
  },
  {
   "cell_type": "code",
   "execution_count": 15,
   "metadata": {},
   "outputs": [
    {
     "name": "stdout",
     "output_type": "stream",
     "text": [
      "85123A 85099B\n"
     ]
    }
   ],
   "source": [
    "top_sc1 = top_sc.index[0]\n",
    "top_sc2 = top_sc.index[1]\n",
    "print(top_sc1, top_sc2)"
   ]
  },
  {
   "cell_type": "markdown",
   "metadata": {},
   "source": [
    "##### Collect invoices of these items  "
   ]
  },
  {
   "cell_type": "code",
   "execution_count": 16,
   "metadata": {},
   "outputs": [],
   "source": [
    "df_sc1 = df[ df['StockCode']==top_sc1 ]\n",
    "df_sc2 = df[ df['StockCode']==top_sc2 ]"
   ]
  },
  {
   "cell_type": "code",
   "execution_count": 17,
   "metadata": {},
   "outputs": [],
   "source": [
    "iv_all = set(df['InvoiceNo'])\n",
    "iv_sc1 = set(df_sc1['InvoiceNo'])\n",
    "iv_sc2 = set(df_sc2['InvoiceNo'])\n",
    "iv_both = iv_sc1 & iv_sc2\n",
    "iv_either = iv_sc1 | iv_sc2"
   ]
  },
  {
   "cell_type": "code",
   "execution_count": 18,
   "metadata": {},
   "outputs": [
    {
     "name": "stdout",
     "output_type": "stream",
     "text": [
      "2757 307 244 38 513\n"
     ]
    }
   ],
   "source": [
    "n_all = len(iv_all)\n",
    "n_sc1 = len(iv_sc1)\n",
    "n_sc2 = len(iv_sc2)\n",
    "n_both = len(iv_both)\n",
    "n_either = len(iv_either)\n",
    "print(n_all, n_sc1, n_sc2, n_both, n_either)"
   ]
  },
  {
   "cell_type": "markdown",
   "metadata": {},
   "source": [
    "##### Jaccard Coeff.  "
   ]
  },
  {
   "cell_type": "code",
   "execution_count": 19,
   "metadata": {},
   "outputs": [
    {
     "name": "stdout",
     "output_type": "stream",
     "text": [
      "Jac(sc1 => sc2): 0.07407407407407407\n"
     ]
    }
   ],
   "source": [
    "print('Jac(sc1 => sc2):',  n_both / n_either)"
   ]
  },
  {
   "cell_type": "markdown",
   "metadata": {},
   "source": [
    "##### Support (支持度)  "
   ]
  },
  {
   "cell_type": "code",
   "execution_count": 20,
   "metadata": {},
   "outputs": [
    {
     "name": "stdout",
     "output_type": "stream",
     "text": [
      "Supp(sc1 => sc2): 0.01378309756982227\n"
     ]
    }
   ],
   "source": [
    "print('Supp(sc1 => sc2):', n_both / n_all)"
   ]
  },
  {
   "cell_type": "markdown",
   "metadata": {},
   "source": [
    "##### Confidence (確信度, 信頼度)  "
   ]
  },
  {
   "cell_type": "code",
   "execution_count": 21,
   "metadata": {},
   "outputs": [
    {
     "name": "stdout",
     "output_type": "stream",
     "text": [
      "Conf(sc1 = sc2): 0.1237785016286645\n",
      "Conf(sc2 = sc1): 0.1557377049180328\n"
     ]
    }
   ],
   "source": [
    "print('Conf(sc1 = sc2):', n_both / n_sc1)  # Confidence based on top_sc1\n",
    "print('Conf(sc2 = sc1):', n_both / n_sc2)  # Confidence based on top_sc2"
   ]
  },
  {
   "cell_type": "markdown",
   "metadata": {},
   "source": [
    "##### Lift (リフト値)  "
   ]
  },
  {
   "cell_type": "code",
   "execution_count": 22,
   "metadata": {},
   "outputs": [
    {
     "name": "stdout",
     "output_type": "stream",
     "text": [
      "Lift(sc1 => sc2): 1.3985956106156887\n"
     ]
    }
   ],
   "source": [
    "a = n_both / n_sc2\n",
    "b = n_sc1 / n_all\n",
    "print('Lift(sc1 => sc2):', a/b)"
   ]
  },
  {
   "cell_type": "markdown",
   "metadata": {},
   "source": [
    "#### Write the current data to a CSV file  "
   ]
  },
  {
   "cell_type": "code",
   "execution_count": 23,
   "metadata": {},
   "outputs": [],
   "source": [
    "df = df.drop(columns='Cancel')\n",
    "df.to_csv(csv_out, index=False)"
   ]
  },
  {
   "cell_type": "code",
   "execution_count": null,
   "metadata": {},
   "outputs": [],
   "source": []
  }
 ],
 "metadata": {
  "interpreter": {
   "hash": "db8b7fe47b70054bb2bb00b153272d4f7a23c7269610021a9b5fc371a2b81095"
  },
  "kernelspec": {
   "display_name": "Python 3.8.8 64-bit ('iniad_ai': conda)",
   "name": "python3"
  },
  "language_info": {
   "codemirror_mode": {
    "name": "ipython",
    "version": 3
   },
   "file_extension": ".py",
   "mimetype": "text/x-python",
   "name": "python",
   "nbconvert_exporter": "python",
   "pygments_lexer": "ipython3",
   "version": "3.8.8"
  }
 },
 "nbformat": 4,
 "nbformat_minor": 4
}