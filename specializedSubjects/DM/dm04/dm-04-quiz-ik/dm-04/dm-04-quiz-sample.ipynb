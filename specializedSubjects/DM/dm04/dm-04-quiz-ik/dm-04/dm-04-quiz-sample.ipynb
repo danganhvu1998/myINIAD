{
 "cells": [
  {
   "cell_type": "markdown",
   "metadata": {},
   "source": [
    "### DM-04 quiz"
   ]
  },
  {
   "cell_type": "markdown",
   "metadata": {},
   "source": [
    "#### Import libraries  "
   ]
  },
  {
   "cell_type": "code",
   "execution_count": 1,
   "metadata": {},
   "outputs": [],
   "source": [
    "import numpy as np\n",
    "import pandas as pd\n",
    "import scipy.stats as ss"
   ]
  },
  {
   "cell_type": "markdown",
   "metadata": {},
   "source": [
    "#### Read CSV file"
   ]
  },
  {
   "cell_type": "code",
   "execution_count": 2,
   "metadata": {},
   "outputs": [
    {
     "output_type": "stream",
     "name": "stdout",
     "text": [
      "(70, 2)\n<class 'pandas.core.frame.DataFrame'>\nRangeIndex: 70 entries, 0 to 69\nData columns (total 2 columns):\n #   Column    Non-Null Count  Dtype \n---  ------    --------------  ----- \n 0   Medicine  70 non-null     object\n 1   #Days     70 non-null     int64 \ndtypes: int64(1), object(1)\nmemory usage: 1.2+ KB\nNone\n"
     ]
    },
    {
     "output_type": "display_data",
     "data": {
      "text/plain": "  Medicine  #Days\n0        A     15\n1        A     13\n2        A     14\n3        A     14\n4        A     15",
      "text/html": "<div>\n<style scoped>\n    .dataframe tbody tr th:only-of-type {\n        vertical-align: middle;\n    }\n\n    .dataframe tbody tr th {\n        vertical-align: top;\n    }\n\n    .dataframe thead th {\n        text-align: right;\n    }\n</style>\n<table border=\"1\" class=\"dataframe\">\n  <thead>\n    <tr style=\"text-align: right;\">\n      <th></th>\n      <th>Medicine</th>\n      <th>#Days</th>\n    </tr>\n  </thead>\n  <tbody>\n    <tr>\n      <th>0</th>\n      <td>A</td>\n      <td>15</td>\n    </tr>\n    <tr>\n      <th>1</th>\n      <td>A</td>\n      <td>13</td>\n    </tr>\n    <tr>\n      <th>2</th>\n      <td>A</td>\n      <td>14</td>\n    </tr>\n    <tr>\n      <th>3</th>\n      <td>A</td>\n      <td>14</td>\n    </tr>\n    <tr>\n      <th>4</th>\n      <td>A</td>\n      <td>15</td>\n    </tr>\n  </tbody>\n</table>\n</div>"
     },
     "metadata": {}
    }
   ],
   "source": [
    "csv_in = 'dm-04-quiz.csv'\n",
    "df = pd.read_csv(csv_in, delimiter=',', skiprows=0, header=0)\n",
    "print(df.shape)\n",
    "print(df.info())\n",
    "display(df.head())"
   ]
  },
  {
   "cell_type": "code",
   "execution_count": 7,
   "metadata": {},
   "outputs": [
    {
     "output_type": "stream",
     "name": "stdout",
     "text": [
      "3.935973607140801 0.00020523456139843275\n#Days    13.65\ndtype: float64\n#Days    11.6\ndtype: float64\n"
     ]
    }
   ],
   "source": [
    "df_A = df[ df['Medicine'] == 'A' ]\n",
    "df_B = df[ df['Medicine'] == 'B' ]\n",
    "t, p = ss.ttest_ind(df_A['#Days'], df_B['#Days'], equal_var=False)\n",
    "print(t, p)\n",
    "print(df_A.mean())\n",
    "print(df_B.mean())"
   ]
  },
  {
   "cell_type": "code",
   "execution_count": null,
   "metadata": {},
   "outputs": [],
   "source": []
  }
 ],
 "metadata": {
  "kernelspec": {
   "name": "python388jvsc74a57bd0e8880c58ea65068827af19aa57df99e07da1109ce0dc5e321474e5f3a08d850b",
   "display_name": "Python 3.8.8 64-bit ('ds2021': conda)"
  },
  "language_info": {
   "codemirror_mode": {
    "name": "ipython",
    "version": 3
   },
   "file_extension": ".py",
   "mimetype": "text/x-python",
   "name": "python",
   "nbconvert_exporter": "python",
   "pygments_lexer": "ipython3",
   "version": "3.8.8"
  },
  "metadata": {
   "interpreter": {
    "hash": "e8880c58ea65068827af19aa57df99e07da1109ce0dc5e321474e5f3a08d850b"
   }
  }
 },
 "nbformat": 4,
 "nbformat_minor": 4
}