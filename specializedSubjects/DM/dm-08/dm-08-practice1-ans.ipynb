{
 "cells": [
  {
   "cell_type": "markdown",
   "metadata": {},
   "source": [
    "### DM-08 Practice 1  "
   ]
  },
  {
   "cell_type": "markdown",
   "metadata": {},
   "source": [
    "#### Import libraries  "
   ]
  },
  {
   "cell_type": "code",
   "execution_count": 14,
   "metadata": {},
   "outputs": [],
   "source": [
    "import numpy as np\n",
    "import pandas as pd\n",
    "import matplotlib.pyplot as plt\n",
    "from factor_analyzer import FactorAnalyzer"
   ]
  },
  {
   "cell_type": "markdown",
   "metadata": {},
   "source": [
    "#### Parameters  "
   ]
  },
  {
   "cell_type": "code",
   "execution_count": 15,
   "metadata": {},
   "outputs": [],
   "source": [
    "csv_in = 'questionnaire-cafe.csv'\n",
    "\n",
    "%config InlineBackend.figure_formats = {'png', 'retina'}  # for high-reso graph"
   ]
  },
  {
   "cell_type": "markdown",
   "metadata": {},
   "source": [
    "#### Read CSV data  "
   ]
  },
  {
   "cell_type": "code",
   "execution_count": 16,
   "metadata": {},
   "outputs": [
    {
     "name": "stdout",
     "output_type": "stream",
     "text": [
      "(15, 6)\n",
      "<class 'pandas.core.frame.DataFrame'>\n",
      "RangeIndex: 15 entries, 0 to 14\n",
      "Data columns (total 6 columns):\n",
      " #   Column      Non-Null Count  Dtype\n",
      "---  ------      --------------  -----\n",
      " 0   Appearance  15 non-null     int64\n",
      " 1   Atmosphere  15 non-null     int64\n",
      " 2   Staff       15 non-null     int64\n",
      " 3   Taste       15 non-null     int64\n",
      " 4   Price       15 non-null     int64\n",
      " 5   Menu        15 non-null     int64\n",
      "dtypes: int64(6)\n",
      "memory usage: 848.0 bytes\n",
      "None\n"
     ]
    },
    {
     "data": {
      "text/html": [
       "<div>\n",
       "<style scoped>\n",
       "    .dataframe tbody tr th:only-of-type {\n",
       "        vertical-align: middle;\n",
       "    }\n",
       "\n",
       "    .dataframe tbody tr th {\n",
       "        vertical-align: top;\n",
       "    }\n",
       "\n",
       "    .dataframe thead th {\n",
       "        text-align: right;\n",
       "    }\n",
       "</style>\n",
       "<table border=\"1\" class=\"dataframe\">\n",
       "  <thead>\n",
       "    <tr style=\"text-align: right;\">\n",
       "      <th></th>\n",
       "      <th>Appearance</th>\n",
       "      <th>Atmosphere</th>\n",
       "      <th>Staff</th>\n",
       "      <th>Taste</th>\n",
       "      <th>Price</th>\n",
       "      <th>Menu</th>\n",
       "    </tr>\n",
       "  </thead>\n",
       "  <tbody>\n",
       "    <tr>\n",
       "      <th>0</th>\n",
       "      <td>3</td>\n",
       "      <td>3</td>\n",
       "      <td>4</td>\n",
       "      <td>5</td>\n",
       "      <td>5</td>\n",
       "      <td>4</td>\n",
       "    </tr>\n",
       "    <tr>\n",
       "      <th>1</th>\n",
       "      <td>4</td>\n",
       "      <td>1</td>\n",
       "      <td>3</td>\n",
       "      <td>3</td>\n",
       "      <td>2</td>\n",
       "      <td>3</td>\n",
       "    </tr>\n",
       "    <tr>\n",
       "      <th>2</th>\n",
       "      <td>5</td>\n",
       "      <td>5</td>\n",
       "      <td>4</td>\n",
       "      <td>4</td>\n",
       "      <td>4</td>\n",
       "      <td>4</td>\n",
       "    </tr>\n",
       "    <tr>\n",
       "      <th>3</th>\n",
       "      <td>3</td>\n",
       "      <td>1</td>\n",
       "      <td>2</td>\n",
       "      <td>5</td>\n",
       "      <td>4</td>\n",
       "      <td>4</td>\n",
       "    </tr>\n",
       "    <tr>\n",
       "      <th>4</th>\n",
       "      <td>3</td>\n",
       "      <td>3</td>\n",
       "      <td>3</td>\n",
       "      <td>4</td>\n",
       "      <td>5</td>\n",
       "      <td>5</td>\n",
       "    </tr>\n",
       "  </tbody>\n",
       "</table>\n",
       "</div>"
      ],
      "text/plain": [
       "   Appearance  Atmosphere  Staff  Taste  Price  Menu\n",
       "0           3           3      4      5      5     4\n",
       "1           4           1      3      3      2     3\n",
       "2           5           5      4      4      4     4\n",
       "3           3           1      2      5      4     4\n",
       "4           3           3      3      4      5     5"
      ]
     },
     "metadata": {},
     "output_type": "display_data"
    }
   ],
   "source": [
    "df = pd.read_csv(csv_in, delimiter=',', skiprows=4, header=0)\n",
    "print(df.shape)\n",
    "print(df.info())\n",
    "display(df.head())"
   ]
  },
  {
   "cell_type": "markdown",
   "metadata": {},
   "source": [
    "#### Factor analysis  "
   ]
  },
  {
   "cell_type": "code",
   "execution_count": 17,
   "metadata": {},
   "outputs": [
    {
     "data": {
      "text/plain": [
       "FactorAnalyzer(method='ml', n_factors=2, rotation='varimax', rotation_kwargs={})"
      ]
     },
     "execution_count": 17,
     "metadata": {},
     "output_type": "execute_result"
    }
   ],
   "source": [
    "fa = FactorAnalyzer(n_factors=2, rotation='varimax', method='ml')\n",
    "fa.fit(df.values)"
   ]
  },
  {
   "cell_type": "markdown",
   "metadata": {},
   "source": [
    "#### Correlation matrix (相関行列)   "
   ]
  },
  {
   "cell_type": "code",
   "execution_count": 18,
   "metadata": {},
   "outputs": [
    {
     "data": {
      "text/html": [
       "<div>\n",
       "<style scoped>\n",
       "    .dataframe tbody tr th:only-of-type {\n",
       "        vertical-align: middle;\n",
       "    }\n",
       "\n",
       "    .dataframe tbody tr th {\n",
       "        vertical-align: top;\n",
       "    }\n",
       "\n",
       "    .dataframe thead th {\n",
       "        text-align: right;\n",
       "    }\n",
       "</style>\n",
       "<table border=\"1\" class=\"dataframe\">\n",
       "  <thead>\n",
       "    <tr style=\"text-align: right;\">\n",
       "      <th></th>\n",
       "      <th>Appearance</th>\n",
       "      <th>Atmosphere</th>\n",
       "      <th>Staff</th>\n",
       "      <th>Taste</th>\n",
       "      <th>Price</th>\n",
       "      <th>Menu</th>\n",
       "    </tr>\n",
       "  </thead>\n",
       "  <tbody>\n",
       "    <tr>\n",
       "      <th>Appearance</th>\n",
       "      <td>1.000000</td>\n",
       "      <td>0.595145</td>\n",
       "      <td>0.674770</td>\n",
       "      <td>0.195569</td>\n",
       "      <td>0.090012</td>\n",
       "      <td>0.291342</td>\n",
       "    </tr>\n",
       "    <tr>\n",
       "      <th>Atmosphere</th>\n",
       "      <td>0.595145</td>\n",
       "      <td>1.000000</td>\n",
       "      <td>0.731657</td>\n",
       "      <td>0.084490</td>\n",
       "      <td>0.314818</td>\n",
       "      <td>0.205057</td>\n",
       "    </tr>\n",
       "    <tr>\n",
       "      <th>Staff</th>\n",
       "      <td>0.674770</td>\n",
       "      <td>0.731657</td>\n",
       "      <td>1.000000</td>\n",
       "      <td>0.019627</td>\n",
       "      <td>0.110658</td>\n",
       "      <td>0.231756</td>\n",
       "    </tr>\n",
       "    <tr>\n",
       "      <th>Taste</th>\n",
       "      <td>0.195569</td>\n",
       "      <td>0.084490</td>\n",
       "      <td>0.019627</td>\n",
       "      <td>1.000000</td>\n",
       "      <td>0.764496</td>\n",
       "      <td>0.782361</td>\n",
       "    </tr>\n",
       "    <tr>\n",
       "      <th>Price</th>\n",
       "      <td>0.090012</td>\n",
       "      <td>0.314818</td>\n",
       "      <td>0.110658</td>\n",
       "      <td>0.764496</td>\n",
       "      <td>1.000000</td>\n",
       "      <td>0.656532</td>\n",
       "    </tr>\n",
       "    <tr>\n",
       "      <th>Menu</th>\n",
       "      <td>0.291342</td>\n",
       "      <td>0.205057</td>\n",
       "      <td>0.231756</td>\n",
       "      <td>0.782361</td>\n",
       "      <td>0.656532</td>\n",
       "      <td>1.000000</td>\n",
       "    </tr>\n",
       "  </tbody>\n",
       "</table>\n",
       "</div>"
      ],
      "text/plain": [
       "            Appearance  Atmosphere     Staff     Taste     Price      Menu\n",
       "Appearance    1.000000    0.595145  0.674770  0.195569  0.090012  0.291342\n",
       "Atmosphere    0.595145    1.000000  0.731657  0.084490  0.314818  0.205057\n",
       "Staff         0.674770    0.731657  1.000000  0.019627  0.110658  0.231756\n",
       "Taste         0.195569    0.084490  0.019627  1.000000  0.764496  0.782361\n",
       "Price         0.090012    0.314818  0.110658  0.764496  1.000000  0.656532\n",
       "Menu          0.291342    0.205057  0.231756  0.782361  0.656532  1.000000"
      ]
     },
     "metadata": {},
     "output_type": "display_data"
    }
   ],
   "source": [
    "df_corr = df.corr(method='pearson')\n",
    "display(df_corr)"
   ]
  },
  {
   "cell_type": "markdown",
   "metadata": {},
   "source": [
    "#### Eigenvalues (固有値)  "
   ]
  },
  {
   "cell_type": "code",
   "execution_count": 19,
   "metadata": {},
   "outputs": [
    {
     "name": "stdout",
     "output_type": "stream",
     "text": [
      "0    2.924222\n",
      "1    1.906445\n",
      "2    0.554203\n",
      "3    0.307722\n",
      "4    0.184255\n",
      "5    0.123153\n",
      "dtype: float64\n",
      "0    2.650281\n",
      "1    1.666286\n",
      "2    0.180248\n",
      "3    0.035116\n",
      "4   -0.022489\n",
      "5   -0.196041\n",
      "dtype: float64\n"
     ]
    }
   ],
   "source": [
    "eigen_org, eigen_cf = fa.get_eigenvalues()\n",
    "ser_eigen_org = pd.Series(eigen_org)\n",
    "ser_eigen_cf = pd.Series(eigen_cf)\n",
    "print(ser_eigen_org)\n",
    "print(ser_eigen_cf)"
   ]
  },
  {
   "cell_type": "markdown",
   "metadata": {},
   "source": [
    "#### Scree plot (スクリープロット)  "
   ]
  },
  {
   "cell_type": "code",
   "execution_count": 20,
   "metadata": {},
   "outputs": [
    {
     "data": {
      "image/png": "[encoded data removed]",
      "text/plain": [
       "<Figure size 432x288 with 1 Axes>"
      ]
     },
     "metadata": {
      "image/png": {
       "height": 261,
       "width": 385
      },
      "needs_background": "light"
     },
     "output_type": "display_data"
    }
   ],
   "source": [
    "x = np.array(range(len(ser_eigen_org)))+1\n",
    "plt.plot(x, ser_eigen_org, marker='o')\n",
    "plt.xlabel('Eigenvalue No.')\n",
    "plt.ylabel('Eigenvalue')\n",
    "plt.show()"
   ]
  },
  {
   "cell_type": "markdown",
   "metadata": {},
   "source": [
    "**Number of factors: two seems to be appropriate because the third eigenvalue is less than 1 and also the graph becomes gently-sloping at the third eigenvalue.**  \n",
    "**3つめの固有値は1を下回っていて、かつそこからグラフがなだらかになっているので、因子数は2が良さそう**  \n",
    "\n",
    "**Ans. 2**"
   ]
  },
  {
   "cell_type": "markdown",
   "metadata": {},
   "source": [
    "#### Loadings (因子負荷量)  "
   ]
  },
  {
   "cell_type": "code",
   "execution_count": 21,
   "metadata": {},
   "outputs": [
    {
     "data": {
      "text/html": [
       "<div>\n",
       "<style scoped>\n",
       "    .dataframe tbody tr th:only-of-type {\n",
       "        vertical-align: middle;\n",
       "    }\n",
       "\n",
       "    .dataframe tbody tr th {\n",
       "        vertical-align: top;\n",
       "    }\n",
       "\n",
       "    .dataframe thead th {\n",
       "        text-align: right;\n",
       "    }\n",
       "</style>\n",
       "<table border=\"1\" class=\"dataframe\">\n",
       "  <thead>\n",
       "    <tr style=\"text-align: right;\">\n",
       "      <th></th>\n",
       "      <th>Factor1</th>\n",
       "      <th>Factor2</th>\n",
       "    </tr>\n",
       "  </thead>\n",
       "  <tbody>\n",
       "    <tr>\n",
       "      <th>Appearance</th>\n",
       "      <td>0.195642</td>\n",
       "      <td>0.715441</td>\n",
       "    </tr>\n",
       "    <tr>\n",
       "      <th>Atmosphere</th>\n",
       "      <td>0.097082</td>\n",
       "      <td>0.790278</td>\n",
       "    </tr>\n",
       "    <tr>\n",
       "      <th>Staff</th>\n",
       "      <td>0.027299</td>\n",
       "      <td>0.929474</td>\n",
       "    </tr>\n",
       "    <tr>\n",
       "      <th>Taste</th>\n",
       "      <td>0.987632</td>\n",
       "      <td>-0.007768</td>\n",
       "    </tr>\n",
       "    <tr>\n",
       "      <th>Price</th>\n",
       "      <td>0.775356</td>\n",
       "      <td>0.113219</td>\n",
       "    </tr>\n",
       "    <tr>\n",
       "      <th>Menu</th>\n",
       "      <td>0.794324</td>\n",
       "      <td>0.210270</td>\n",
       "    </tr>\n",
       "  </tbody>\n",
       "</table>\n",
       "</div>"
      ],
      "text/plain": [
       "             Factor1   Factor2\n",
       "Appearance  0.195642  0.715441\n",
       "Atmosphere  0.097082  0.790278\n",
       "Staff       0.027299  0.929474\n",
       "Taste       0.987632 -0.007768\n",
       "Price       0.775356  0.113219\n",
       "Menu        0.794324  0.210270"
      ]
     },
     "metadata": {},
     "output_type": "display_data"
    }
   ],
   "source": [
    "loadings = fa.loadings_\n",
    "df_loadings = pd.DataFrame(loadings, index=df.columns,\n",
    "                           columns=['Factor1','Factor2'])\n",
    "display(df_loadings)"
   ]
  },
  {
   "cell_type": "markdown",
   "metadata": {},
   "source": [
    "#### Scores (因子得点)  "
   ]
  },
  {
   "cell_type": "code",
   "execution_count": 22,
   "metadata": {},
   "outputs": [
    {
     "name": "stdout",
     "output_type": "stream",
     "text": [
      "(15, 2)\n"
     ]
    },
    {
     "data": {
      "text/html": [
       "<div>\n",
       "<style scoped>\n",
       "    .dataframe tbody tr th:only-of-type {\n",
       "        vertical-align: middle;\n",
       "    }\n",
       "\n",
       "    .dataframe tbody tr th {\n",
       "        vertical-align: top;\n",
       "    }\n",
       "\n",
       "    .dataframe thead th {\n",
       "        text-align: right;\n",
       "    }\n",
       "</style>\n",
       "<table border=\"1\" class=\"dataframe\">\n",
       "  <thead>\n",
       "    <tr style=\"text-align: right;\">\n",
       "      <th></th>\n",
       "      <th>Factor1</th>\n",
       "      <th>Factor2</th>\n",
       "    </tr>\n",
       "  </thead>\n",
       "  <tbody>\n",
       "    <tr>\n",
       "      <th>0</th>\n",
       "      <td>1.389561</td>\n",
       "      <td>0.224993</td>\n",
       "    </tr>\n",
       "    <tr>\n",
       "      <th>1</th>\n",
       "      <td>-0.533255</td>\n",
       "      <td>-0.589580</td>\n",
       "    </tr>\n",
       "    <tr>\n",
       "      <th>2</th>\n",
       "      <td>0.473102</td>\n",
       "      <td>0.962855</td>\n",
       "    </tr>\n",
       "    <tr>\n",
       "      <th>3</th>\n",
       "      <td>1.377170</td>\n",
       "      <td>-1.643416</td>\n",
       "    </tr>\n",
       "    <tr>\n",
       "      <th>4</th>\n",
       "      <td>0.559475</td>\n",
       "      <td>-0.349041</td>\n",
       "    </tr>\n",
       "  </tbody>\n",
       "</table>\n",
       "</div>"
      ],
      "text/plain": [
       "    Factor1   Factor2\n",
       "0  1.389561  0.224993\n",
       "1 -0.533255 -0.589580\n",
       "2  0.473102  0.962855\n",
       "3  1.377170 -1.643416\n",
       "4  0.559475 -0.349041"
      ]
     },
     "metadata": {},
     "output_type": "display_data"
    }
   ],
   "source": [
    "scores = fa.transform(df)\n",
    "df_scores = pd.DataFrame(scores, columns=['Factor1','Factor2'])\n",
    "print(df_scores.shape)\n",
    "display(df_scores.head())"
   ]
  },
  {
   "cell_type": "markdown",
   "metadata": {},
   "source": [
    "#### Uniquenesses (独自因子の割合)  "
   ]
  },
  {
   "cell_type": "code",
   "execution_count": 23,
   "metadata": {},
   "outputs": [
    {
     "name": "stdout",
     "output_type": "stream",
     "text": [
      "Appearance    0.449868\n",
      "Atmosphere    0.366035\n",
      "Staff         0.135332\n",
      "Taste         0.024523\n",
      "Price         0.386005\n",
      "Menu          0.324836\n",
      "dtype: float64\n"
     ]
    }
   ],
   "source": [
    "uniqueness = fa.get_uniquenesses()\n",
    "ser_uniqueness = pd.Series(uniqueness, index=df.columns)\n",
    "print(ser_uniqueness)"
   ]
  },
  {
   "cell_type": "markdown",
   "metadata": {},
   "source": [
    "**Not so high uniqueness for all data,  \n",
    "so all data are somehow affected by the common factors**"
   ]
  },
  {
   "cell_type": "markdown",
   "metadata": {},
   "source": [
    "#### Contribution of each factor (各共通因子の寄与)  \n",
    "- SS Loadings: 因子負荷量平方和(因子寄与)  \n",
    "- Proportion Var: 寄与率  \n",
    "- Cumulative Var: 累積寄与率"
   ]
  },
  {
   "cell_type": "code",
   "execution_count": 24,
   "metadata": {},
   "outputs": [
    {
     "data": {
      "text/html": [
       "<div>\n",
       "<style scoped>\n",
       "    .dataframe tbody tr th:only-of-type {\n",
       "        vertical-align: middle;\n",
       "    }\n",
       "\n",
       "    .dataframe tbody tr th {\n",
       "        vertical-align: top;\n",
       "    }\n",
       "\n",
       "    .dataframe thead th {\n",
       "        text-align: right;\n",
       "    }\n",
       "</style>\n",
       "<table border=\"1\" class=\"dataframe\">\n",
       "  <thead>\n",
       "    <tr style=\"text-align: right;\">\n",
       "      <th></th>\n",
       "      <th>Factor1</th>\n",
       "      <th>Factor2</th>\n",
       "    </tr>\n",
       "  </thead>\n",
       "  <tbody>\n",
       "    <tr>\n",
       "      <th>var</th>\n",
       "      <td>2.255990</td>\n",
       "      <td>2.057411</td>\n",
       "    </tr>\n",
       "    <tr>\n",
       "      <th>prop_var</th>\n",
       "      <td>0.375998</td>\n",
       "      <td>0.342902</td>\n",
       "    </tr>\n",
       "    <tr>\n",
       "      <th>cum_var</th>\n",
       "      <td>0.375998</td>\n",
       "      <td>0.718900</td>\n",
       "    </tr>\n",
       "  </tbody>\n",
       "</table>\n",
       "</div>"
      ],
      "text/plain": [
       "           Factor1   Factor2\n",
       "var       2.255990  2.057411\n",
       "prop_var  0.375998  0.342902\n",
       "cum_var   0.375998  0.718900"
      ]
     },
     "metadata": {},
     "output_type": "display_data"
    }
   ],
   "source": [
    "fa_var = fa.get_factor_variance()\n",
    "df_fa_var = pd.DataFrame(fa_var,\n",
    "                         index=['var', 'prop_var', 'cum_var'],\n",
    "                         columns=['Factor1', 'Factor2'])\n",
    "display(df_fa_var)"
   ]
  },
  {
   "cell_type": "markdown",
   "metadata": {},
   "source": [
    "**71.9% of total variance can be considered by Factor1 and Factor2**  \n",
    "\n",
    "**Ans. 71.9%**"
   ]
  },
  {
   "cell_type": "code",
   "execution_count": 25,
   "metadata": {},
   "outputs": [],
   "source": [
    "# slightly modified from biplot() in pca_and_biplot.ipynb of DM-08\n",
    "def biplot_fa(score_2d, loadings, load_labels=None):\n",
    "    plt.figure(figsize=(10,10))\n",
    "    r1 = 1.5\n",
    "    r2 = 1.01\n",
    "    if load_labels is None:\n",
    "        load_labels = range(len(loadings))\n",
    "    for i, coef in enumerate(loadings):\n",
    "        plt.arrow(0, 0, coef[0]*r1, coef[1]*r1, color='r')    \n",
    "        plt.text(coef[0]*r1*r2, coef[1]*r1*r2, load_labels[i],\n",
    "                 color='b', fontsize=20)\n",
    "    for i in range(len(score_2d)):\n",
    "        m = '${}$'.format(i)\n",
    "        plt.scatter(score_2d[i,0], score_2d[i,1], marker=m, s=500, c='k')\n",
    "    plt.xlabel('F_1')\n",
    "    plt.ylabel('F_2')\n",
    "    plt.grid()\n",
    "    return None"
   ]
  },
  {
   "cell_type": "code",
   "execution_count": 26,
   "metadata": {},
   "outputs": [
    {
     "data": {
      "image/png": "[encoded data removed]",
      "text/plain": [
       "<Figure size 720x720 with 1 Axes>"
      ]
     },
     "metadata": {
      "image/png": {
       "height": 588,
       "width": 645
      },
      "needs_background": "light"
     },
     "output_type": "display_data"
    }
   ],
   "source": [
    "biplot_fa(scores, loadings, load_labels=df.columns)"
   ]
  },
  {
   "cell_type": "markdown",
   "metadata": {},
   "source": [
    "**According to loading (>=0.5) and biplot,  \n",
    "F_1: About coffee (offered items), F_2: About shop (environment).**\n",
    "\n",
    "**No.0: positive to coffee, neutral to shop    \n",
    "No.3: positive to coffee, negative to shop  \n",
    "No.5: positive to both coffee and shop  \n",
    "No.10: negative to both coffee and shop  \n",
    "etc.**\n",
    "\n",
    "**Ans. No.3: positive to coffee, negative to shop**  "
   ]
  },
  {
   "cell_type": "code",
   "execution_count": null,
   "metadata": {},
   "outputs": [],
   "source": []
  }
 ],
 "metadata": {
  "kernelspec": {
   "display_name": "Python 3",
   "language": "python",
   "name": "python3"
  },
  "language_info": {
   "codemirror_mode": {
    "name": "ipython",
    "version": 3
   },
   "file_extension": ".py",
   "mimetype": "text/x-python",
   "name": "python",
   "nbconvert_exporter": "python",
   "pygments_lexer": "ipython3",
   "version": "3.8.8"
  }
 },
 "nbformat": 4,
 "nbformat_minor": 4
}
