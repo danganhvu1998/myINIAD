{
 "cells": [
  {
   "cell_type": "markdown",
   "metadata": {},
   "source": [
    "### DM-08 Quiz"
   ]
  },
  {
   "cell_type": "markdown",
   "metadata": {},
   "source": [
    "#### Import libraries  "
   ]
  },
  {
   "cell_type": "code",
   "execution_count": 2,
   "metadata": {},
   "outputs": [
    {
     "output_type": "error",
     "ename": "ModuleNotFoundError",
     "evalue": "No module named 'matplotlib'",
     "traceback": [
      "\u001b[0;31m---------------------------------------------------------------------------\u001b[0m",
      "\u001b[0;31mModuleNotFoundError\u001b[0m                       Traceback (most recent call last)",
      "\u001b[0;32m<ipython-input-2-93716d45a63e>\u001b[0m in \u001b[0;36m<module>\u001b[0;34m\u001b[0m\n\u001b[1;32m      1\u001b[0m \u001b[0;32mimport\u001b[0m \u001b[0mnumpy\u001b[0m \u001b[0;32mas\u001b[0m \u001b[0mnp\u001b[0m\u001b[0;34m\u001b[0m\u001b[0;34m\u001b[0m\u001b[0m\n\u001b[1;32m      2\u001b[0m \u001b[0;32mimport\u001b[0m \u001b[0mpandas\u001b[0m \u001b[0;32mas\u001b[0m \u001b[0mpd\u001b[0m\u001b[0;34m\u001b[0m\u001b[0;34m\u001b[0m\u001b[0m\n\u001b[0;32m----> 3\u001b[0;31m \u001b[0;32mimport\u001b[0m \u001b[0mmatplotlib\u001b[0m\u001b[0;34m.\u001b[0m\u001b[0mpyplot\u001b[0m \u001b[0;32mas\u001b[0m \u001b[0mplt\u001b[0m\u001b[0;34m\u001b[0m\u001b[0;34m\u001b[0m\u001b[0m\n\u001b[0m\u001b[1;32m      4\u001b[0m \u001b[0;32mfrom\u001b[0m \u001b[0msklearn\u001b[0m \u001b[0;32mimport\u001b[0m \u001b[0mdatasets\u001b[0m\u001b[0;34m\u001b[0m\u001b[0;34m\u001b[0m\u001b[0m\n\u001b[1;32m      5\u001b[0m \u001b[0;32mfrom\u001b[0m \u001b[0msklearn\u001b[0m\u001b[0;34m.\u001b[0m\u001b[0mpreprocessing\u001b[0m \u001b[0;32mimport\u001b[0m \u001b[0mStandardScaler\u001b[0m\u001b[0;34m\u001b[0m\u001b[0;34m\u001b[0m\u001b[0m\n",
      "\u001b[0;31mModuleNotFoundError\u001b[0m: No module named 'matplotlib'"
     ]
    }
   ],
   "source": [
    "import numpy as np\n",
    "import pandas as pd\n",
    "import matplotlib.pyplot as plt\n",
    "from sklearn import datasets\n",
    "from sklearn.preprocessing import StandardScaler\n",
    "from sklearn.decomposition import PCA\n",
    "from sklearn.manifold import LocallyLinearEmbedding, Isomap, TSNE"
   ]
  },
  {
   "cell_type": "markdown",
   "metadata": {},
   "source": [
    "#### Load data and set parameters  "
   ]
  },
  {
   "cell_type": "code",
   "execution_count": null,
   "metadata": {},
   "outputs": [],
   "source": [
    "n_class = 10\n",
    "digits_img = datasets.load_digits(n_class=n_class)\n",
    "X_org = digits_img.data\n",
    "digits = digits_img.target\n",
    "print(X_org.shape)\n",
    "print(digits.shape)\n",
    "\n",
    "n_neighbors = 30\n",
    "n_components = 2"
   ]
  },
  {
   "cell_type": "code",
   "execution_count": null,
   "metadata": {},
   "outputs": [],
   "source": [
    "sc = StandardScaler()\n",
    "X = sc.fit_transform(X_org) "
   ]
  },
  {
   "cell_type": "code",
   "execution_count": null,
   "metadata": {},
   "outputs": [],
   "source": [
    "# PCA\n",
    "Y = PCA(n_components=n_components).fit_transform(X)\n",
    "plt.figure(figsize=(10,7))\n",
    "plt.title(\"PCA\")\n",
    "for i in range(n_class):\n",
    "    marker = '${}$'.format(i)\n",
    "    y1 = Y[ digits==i ]\n",
    "    plt.scatter(y1[:, 0], y1[:, 1], marker=marker, s=70, label=i)\n",
    "plt.xlabel('PCA1')\n",
    "plt.ylabel('PCA2')\n",
    "plt.show()"
   ]
  },
  {
   "cell_type": "code",
   "execution_count": null,
   "metadata": {},
   "outputs": [],
   "source": [
    "# Isomap\n",
    "Y = Isomap(n_neighbors, n_components).fit_transform(X)\n",
    "plt.figure(figsize=(10,7))\n",
    "plt.title(\"Isomap\")\n",
    "for i in range(n_class):\n",
    "    marker = '${}$'.format(i)\n",
    "    y1 = Y[ digits==i ]\n",
    "    plt.scatter(y1[:, 0], y1[:, 1], marker=marker, s=70, label=i)\n",
    "plt.xlabel('Isomap1')\n",
    "plt.ylabel('Isomap2')\n",
    "plt.show()"
   ]
  },
  {
   "cell_type": "code",
   "execution_count": null,
   "metadata": {},
   "outputs": [],
   "source": [
    "# LLE\n",
    "Y = LocallyLinearEmbedding(n_neighbors, n_components,\n",
    "                           eigen_solver='auto',\n",
    "                           method='standard').fit_transform(X)\n",
    "plt.figure(figsize=(10,7))\n",
    "plt.title(\"standard LLE\")\n",
    "for i in range(n_class):\n",
    "    marker = '${}$'.format(i)\n",
    "    y1 = Y[ digits==i ]\n",
    "    plt.scatter(y1[:, 0], y1[:, 1], marker=marker, s=70, label=i)\n",
    "plt.xlabel('LLE1')\n",
    "plt.ylabel('LLE2')\n",
    "plt.show()"
   ]
  },
  {
   "cell_type": "code",
   "execution_count": null,
   "metadata": {},
   "outputs": [],
   "source": [
    "# t-SNE\n",
    "Y = TSNE(n_components=n_components,\n",
    "         perplexity=30, n_iter=1000,\n",
    "         random_state=0).fit_transform(X)\n",
    "plt.figure(figsize=(10,7))\n",
    "plt.title(\"t-SNE\")\n",
    "for i in range(n_class):\n",
    "    marker = '${}$'.format(i)\n",
    "    y1 = Y[ digits==i ]\n",
    "    plt.scatter(y1[:, 0], y1[:, 1], marker=marker, s=70, label=i)\n",
    "plt.xlabel('t-SNE1')\n",
    "plt.ylabel('t-SNE2')\n",
    "plt.show()"
   ]
  }
 ],
 "metadata": {
  "kernelspec": {
   "name": "python3",
   "display_name": "Python 3.8.8 64-bit ('iniad_ai': conda)"
  },
  "language_info": {
   "codemirror_mode": {
    "name": "ipython",
    "version": 3
   },
   "file_extension": ".py",
   "mimetype": "text/x-python",
   "name": "python",
   "nbconvert_exporter": "python",
   "pygments_lexer": "ipython3",
   "version": "3.8.8"
  },
  "interpreter": {
   "hash": "db8b7fe47b70054bb2bb00b153272d4f7a23c7269610021a9b5fc371a2b81095"
  }
 },
 "nbformat": 4,
 "nbformat_minor": 4
}