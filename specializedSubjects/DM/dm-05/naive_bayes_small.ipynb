{
 "cells": [
  {
   "cell_type": "markdown",
   "metadata": {},
   "source": [
    "### Sample program for Naive Bayes Classifier (small test sample)   \n",
    "単純ベイズ分類器のサンプルプログラム(小サンプルでの実行例)  "
   ]
  },
  {
   "cell_type": "markdown",
   "metadata": {},
   "source": [
    "#### Import libraries  "
   ]
  },
  {
   "cell_type": "code",
   "execution_count": 1,
   "metadata": {},
   "outputs": [],
   "source": [
    "import pandas as pd\n",
    "from sklearn.feature_extraction.text import CountVectorizer\n",
    "from sklearn.naive_bayes import MultinomialNB"
   ]
  },
  {
   "cell_type": "markdown",
   "metadata": {},
   "source": [
    "#### Make DataFrame  "
   ]
  },
  {
   "cell_type": "code",
   "execution_count": 2,
   "metadata": {},
   "outputs": [
    {
     "output_type": "stream",
     "name": "stdout",
     "text": [
      "(3, 2)\n<class 'pandas.core.frame.DataFrame'>\nRangeIndex: 3 entries, 0 to 2\nData columns (total 2 columns):\n #   Column    Non-Null Count  Dtype \n---  ------    --------------  ----- \n 0   category  3 non-null      object\n 1   text      3 non-null      object\ndtypes: object(2)\nmemory usage: 176.0+ bytes\nNone\n"
     ]
    },
    {
     "output_type": "display_data",
     "data": {
      "text/plain": "  category                                        text\n0        O             USA great Democrats care mother\n1        H       mother love Democrats care mother USA\n2        T  Russia fake USA Mexico great Mexico haters",
      "text/html": "<div>\n<style scoped>\n    .dataframe tbody tr th:only-of-type {\n        vertical-align: middle;\n    }\n\n    .dataframe tbody tr th {\n        vertical-align: top;\n    }\n\n    .dataframe thead th {\n        text-align: right;\n    }\n</style>\n<table border=\"1\" class=\"dataframe\">\n  <thead>\n    <tr style=\"text-align: right;\">\n      <th></th>\n      <th>category</th>\n      <th>text</th>\n    </tr>\n  </thead>\n  <tbody>\n    <tr>\n      <th>0</th>\n      <td>O</td>\n      <td>USA great Democrats care mother</td>\n    </tr>\n    <tr>\n      <th>1</th>\n      <td>H</td>\n      <td>mother love Democrats care mother USA</td>\n    </tr>\n    <tr>\n      <th>2</th>\n      <td>T</td>\n      <td>Russia fake USA Mexico great Mexico haters</td>\n    </tr>\n  </tbody>\n</table>\n</div>"
     },
     "metadata": {}
    }
   ],
   "source": [
    "df = pd.DataFrame(\n",
    "   [\n",
    "       ['O', 'USA great Democrats care mother'],\n",
    "       ['H', 'mother love Democrats care mother USA'],\n",
    "       ['T', 'Russia fake USA Mexico great Mexico haters'],\n",
    "   ])\n",
    "df.columns = ['category', 'text']\n",
    "print(df.shape)\n",
    "print(df.info())\n",
    "display(df.head())"
   ]
  },
  {
   "cell_type": "markdown",
   "metadata": {},
   "source": [
    "#### Obtain X_train (data) and y_train (true category)  "
   ]
  },
  {
   "cell_type": "code",
   "execution_count": 3,
   "metadata": {},
   "outputs": [
    {
     "output_type": "stream",
     "name": "stdout",
     "text": [
      "0               USA great Democrats care mother\n1         mother love Democrats care mother USA\n2    Russia fake USA Mexico great Mexico haters\nName: text, dtype: object\n0    O\n1    H\n2    T\nName: category, dtype: object\n"
     ]
    }
   ],
   "source": [
    "X_train = df['text']\n",
    "y_train = df['category']\n",
    "print(X_train)\n",
    "print(y_train)"
   ]
  },
  {
   "cell_type": "markdown",
   "metadata": {},
   "source": [
    "#### Specify X_test and y_test  "
   ]
  },
  {
   "cell_type": "code",
   "execution_count": 4,
   "metadata": {},
   "outputs": [
    {
     "output_type": "stream",
     "name": "stdout",
     "text": [
      "['USA Democrats mother', 'Russia fake USA tobe Mexico']\n"
     ]
    }
   ],
   "source": [
    "X_test = ['USA Democrats mother', 'Russia fake USA tobe Mexico']\n",
    "print(X_test)"
   ]
  },
  {
   "cell_type": "markdown",
   "metadata": {},
   "source": [
    "#### Collect words  "
   ]
  },
  {
   "cell_type": "code",
   "execution_count": 5,
   "metadata": {},
   "outputs": [
    {
     "output_type": "stream",
     "name": "stdout",
     "text": [
      "Vocabulary size: 10\n['care', 'democrats', 'fake', 'great', 'haters', 'love', 'mexico', 'mother', 'russia', 'usa']\n"
     ]
    }
   ],
   "source": [
    "vectorizer = CountVectorizer()\n",
    "vectorizer.fit(X_train)\n",
    "vocab = vectorizer. get_feature_names()\n",
    "print('Vocabulary size:', len(vocab))\n",
    "print(vocab)"
   ]
  },
  {
   "cell_type": "markdown",
   "metadata": {},
   "source": [
    "#### Make BoW (word frequency vectors)     "
   ]
  },
  {
   "cell_type": "code",
   "execution_count": 6,
   "metadata": {},
   "outputs": [
    {
     "output_type": "stream",
     "name": "stdout",
     "text": [
      "X_train_bow:\n<3x10 sparse matrix of type '<class 'numpy.int64'>'\n\twith 16 stored elements in Compressed Sparse Row format>\nX_test_bow:\n<2x10 sparse matrix of type '<class 'numpy.int64'>'\n\twith 7 stored elements in Compressed Sparse Row format>\n"
     ]
    }
   ],
   "source": [
    "X_train_bow = vectorizer.transform(X_train)\n",
    "X_test_bow = vectorizer.transform(X_test)\n",
    "print('X_train_bow:')\n",
    "print(repr(X_train_bow))\n",
    "print('X_test_bow:')\n",
    "print(repr(X_test_bow))"
   ]
  },
  {
   "cell_type": "markdown",
   "metadata": {},
   "source": [
    "#### Display BoW  "
   ]
  },
  {
   "cell_type": "code",
   "execution_count": 7,
   "metadata": {},
   "outputs": [
    {
     "output_type": "display_data",
     "data": {
      "text/plain": "          care  democrats  fake  great  haters  love  mexico  mother  russia  \\\ncategory                                                                       \nO            1          1     0      1       0     0       0       1       0   \nH            1          1     0      0       0     1       0       2       0   \nT            0          0     1      1       1     0       2       0       1   \n\n          usa  \ncategory       \nO           1  \nH           1  \nT           1  ",
      "text/html": "<div>\n<style scoped>\n    .dataframe tbody tr th:only-of-type {\n        vertical-align: middle;\n    }\n\n    .dataframe tbody tr th {\n        vertical-align: top;\n    }\n\n    .dataframe thead th {\n        text-align: right;\n    }\n</style>\n<table border=\"1\" class=\"dataframe\">\n  <thead>\n    <tr style=\"text-align: right;\">\n      <th></th>\n      <th>care</th>\n      <th>democrats</th>\n      <th>fake</th>\n      <th>great</th>\n      <th>haters</th>\n      <th>love</th>\n      <th>mexico</th>\n      <th>mother</th>\n      <th>russia</th>\n      <th>usa</th>\n    </tr>\n    <tr>\n      <th>category</th>\n      <th></th>\n      <th></th>\n      <th></th>\n      <th></th>\n      <th></th>\n      <th></th>\n      <th></th>\n      <th></th>\n      <th></th>\n      <th></th>\n    </tr>\n  </thead>\n  <tbody>\n    <tr>\n      <th>O</th>\n      <td>1</td>\n      <td>1</td>\n      <td>0</td>\n      <td>1</td>\n      <td>0</td>\n      <td>0</td>\n      <td>0</td>\n      <td>1</td>\n      <td>0</td>\n      <td>1</td>\n    </tr>\n    <tr>\n      <th>H</th>\n      <td>1</td>\n      <td>1</td>\n      <td>0</td>\n      <td>0</td>\n      <td>0</td>\n      <td>1</td>\n      <td>0</td>\n      <td>2</td>\n      <td>0</td>\n      <td>1</td>\n    </tr>\n    <tr>\n      <th>T</th>\n      <td>0</td>\n      <td>0</td>\n      <td>1</td>\n      <td>1</td>\n      <td>1</td>\n      <td>0</td>\n      <td>2</td>\n      <td>0</td>\n      <td>1</td>\n      <td>1</td>\n    </tr>\n  </tbody>\n</table>\n</div>"
     },
     "metadata": {}
    }
   ],
   "source": [
    "Xbow = pd.DataFrame(X_train_bow.toarray(), \n",
    "                    index=y_train, columns=vocab)\n",
    "display(Xbow)"
   ]
  },
  {
   "cell_type": "markdown",
   "metadata": {},
   "source": [
    "#### Training of naive Bayes classifier  "
   ]
  },
  {
   "cell_type": "code",
   "execution_count": 8,
   "metadata": {},
   "outputs": [
    {
     "output_type": "stream",
     "name": "stdout",
     "text": [
      "['H' 'O' 'T']\nTrain accuracy: 1.0\n"
     ]
    }
   ],
   "source": [
    "model = MultinomialNB(alpha=1.0, class_prior=[15/50,10/50,25/50])\n",
    "model.fit(X_train_bow, y_train)\n",
    "print(model.classes_)\n",
    "train_score = model.score(X_train_bow, y_train)\n",
    "print('Train accuracy:', train_score)"
   ]
  },
  {
   "cell_type": "markdown",
   "metadata": {},
   "source": [
    "#### Prediction using naive Bayes classifier after training  "
   ]
  },
  {
   "cell_type": "code",
   "execution_count": 9,
   "metadata": {},
   "outputs": [
    {
     "output_type": "stream",
     "name": "stdout",
     "text": [
      "Prediction:\n"
     ]
    },
    {
     "output_type": "display_data",
     "data": {
      "text/plain": "         H         O         T\n0  0.56466  0.304573  0.130767\n1  0.05696  0.049158  0.893883",
      "text/html": "<div>\n<style scoped>\n    .dataframe tbody tr th:only-of-type {\n        vertical-align: middle;\n    }\n\n    .dataframe tbody tr th {\n        vertical-align: top;\n    }\n\n    .dataframe thead th {\n        text-align: right;\n    }\n</style>\n<table border=\"1\" class=\"dataframe\">\n  <thead>\n    <tr style=\"text-align: right;\">\n      <th></th>\n      <th>H</th>\n      <th>O</th>\n      <th>T</th>\n    </tr>\n  </thead>\n  <tbody>\n    <tr>\n      <th>0</th>\n      <td>0.56466</td>\n      <td>0.304573</td>\n      <td>0.130767</td>\n    </tr>\n    <tr>\n      <th>1</th>\n      <td>0.05696</td>\n      <td>0.049158</td>\n      <td>0.893883</td>\n    </tr>\n  </tbody>\n</table>\n</div>"
     },
     "metadata": {}
    },
    {
     "output_type": "stream",
     "name": "stdout",
     "text": [
      "['H' 'T']\n"
     ]
    }
   ],
   "source": [
    "proba = model.predict_proba(X_test_bow)\n",
    "results = pd.DataFrame(proba, columns=model.classes_)\n",
    "print('Prediction:')\n",
    "display(results)\n",
    "print(model.predict(X_test_bow))"
   ]
  },
  {
   "cell_type": "code",
   "execution_count": null,
   "metadata": {},
   "outputs": [],
   "source": []
  }
 ],
 "metadata": {
  "kernelspec": {
   "name": "python388jvsc74a57bd0e8880c58ea65068827af19aa57df99e07da1109ce0dc5e321474e5f3a08d850b",
   "display_name": "Python 3.8.8 64-bit ('ds2021': conda)"
  },
  "language_info": {
   "codemirror_mode": {
    "name": "ipython",
    "version": 3
   },
   "file_extension": ".py",
   "mimetype": "text/x-python",
   "name": "python",
   "nbconvert_exporter": "python",
   "pygments_lexer": "ipython3",
   "version": "3.8.8"
  },
  "metadata": {
   "interpreter": {
    "hash": "e8880c58ea65068827af19aa57df99e07da1109ce0dc5e321474e5f3a08d850b"
   }
  }
 },
 "nbformat": 4,
 "nbformat_minor": 4
}