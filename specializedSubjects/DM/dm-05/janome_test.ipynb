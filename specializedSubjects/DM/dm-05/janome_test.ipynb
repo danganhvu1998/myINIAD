{
 "cells": [
  {
   "cell_type": "markdown",
   "metadata": {},
   "source": [
    "### Test of janome  "
   ]
  },
  {
   "cell_type": "code",
   "execution_count": 1,
   "metadata": {},
   "outputs": [],
   "source": [
    "str1 = '隣のGuestは良く柿食うGuestだ'"
   ]
  },
  {
   "cell_type": "markdown",
   "metadata": {},
   "source": [
    "#### Basic usage  "
   ]
  },
  {
   "cell_type": "code",
   "execution_count": 2,
   "metadata": {},
   "outputs": [
    {
     "name": "stdout",
     "output_type": "stream",
     "text": [
      "隣\t名詞,一般,*,*,*,*,隣,トナリ,トナリ\n",
      "の\t助詞,連体化,*,*,*,*,の,ノ,ノ\n",
      "Guest\t名詞,一般,*,*,*,*,Guest,*,*\n",
      "は\t助詞,係助詞,*,*,*,*,は,ハ,ワ\n",
      "良く\t形容詞,自立,*,*,形容詞・アウオ段,連用テ接続,良い,ヨク,ヨク\n",
      "柿\t名詞,一般,*,*,*,*,柿,カキ,カキ\n",
      "食う\t動詞,自立,*,*,五段・ワ行促音便,基本形,食う,クウ,クウ\n",
      "Guest\t名詞,一般,*,*,*,*,Guest,*,*\n",
      "だ\t助動詞,*,*,*,特殊・ダ,基本形,だ,ダ,ダ\n"
     ]
    }
   ],
   "source": [
    "from janome.tokenizer import Tokenizer\n",
    "\n",
    "t = Tokenizer()\n",
    "for token in t.tokenize(str1):\n",
    "    print(token)"
   ]
  },
  {
   "cell_type": "markdown",
   "metadata": {},
   "source": [
    "#### If you want to get a list or a space-separated string  "
   ]
  },
  {
   "cell_type": "code",
   "execution_count": 3,
   "metadata": {},
   "outputs": [
    {
     "name": "stdout",
     "output_type": "stream",
     "text": [
      "['隣', 'の', 'Guest', 'は', '良く', '柿', '食う', 'Guest', 'だ']\n",
      "隣 の Guest は 良く 柿 食う Guest だ\n"
     ]
    }
   ],
   "source": [
    "list_wakati = t.tokenize(str1, wakati=True)\n",
    "print(list_wakati)\n",
    "str_wakati = ' '.join(list_wakati)\n",
    "print(str_wakati)"
   ]
  },
  {
   "cell_type": "markdown",
   "metadata": {},
   "source": [
    "#### Add filters for preprocessing  "
   ]
  },
  {
   "cell_type": "code",
   "execution_count": 4,
   "metadata": {},
   "outputs": [
    {
     "name": "stdout",
     "output_type": "stream",
     "text": [
      "隣\t名詞,一般,*,*,*,*,隣,トナリ,トナリ\n",
      "guest\t名詞,一般,*,*,*,*,guest,*,*\n",
      "良く\t形容詞,自立,*,*,形容詞・アウオ段,連用テ接続,良い,ヨク,ヨク\n",
      "柿\t名詞,一般,*,*,*,*,柿,カキ,カキ\n",
      "食う\t動詞,自立,*,*,五段・ワ行促音便,基本形,食う,クウ,クウ\n",
      "guest\t名詞,一般,*,*,*,*,guest,*,*\n"
     ]
    }
   ],
   "source": [
    "from janome.analyzer import Analyzer\n",
    "from janome.tokenfilter import POSStopFilter, LowerCaseFilter\n",
    "\n",
    "# Omit 助詞 (postpositional particles) and 助動詞 (auxiliary verbs), lower case conversion\n",
    "token_filters = [ POSStopFilter(['助詞','助動詞']),\n",
    "                  LowerCaseFilter(),\n",
    "                ]\n",
    "tokenizer = Tokenizer()\n",
    "analyzer = Analyzer(tokenizer=tokenizer, token_filters=token_filters)\n",
    "for token in analyzer.analyze(str1):\n",
    "    print(token)"
   ]
  },
  {
   "cell_type": "markdown",
   "metadata": {},
   "source": [
    "#### If you want to get base_form of each word  "
   ]
  },
  {
   "cell_type": "code",
   "execution_count": 5,
   "metadata": {},
   "outputs": [
    {
     "name": "stdout",
     "output_type": "stream",
     "text": [
      "['隣', 'guest', '良い', '柿', '食う', 'guest']\n",
      "隣 guest 良い 柿 食う guest\n"
     ]
    }
   ],
   "source": [
    "list_wakati = [token.base_form for token in analyzer.analyze(str1)]\n",
    "print(list_wakati)\n",
    "str_wakati = ' '.join(list_wakati)\n",
    "print(str_wakati)"
   ]
  },
  {
   "cell_type": "markdown",
   "metadata": {},
   "source": [
    "#### If you want to get a list or a space-separated string  "
   ]
  },
  {
   "cell_type": "code",
   "execution_count": 6,
   "metadata": {},
   "outputs": [
    {
     "name": "stdout",
     "output_type": "stream",
     "text": [
      "['隣', 'guest', '良く', '柿', '食う', 'guest']\n",
      "隣 guest 良く 柿 食う guest\n"
     ]
    }
   ],
   "source": [
    "list_wakati = [token.surface for token in analyzer.analyze(str1)]\n",
    "print(list_wakati)\n",
    "str_wakati = ' '.join(list_wakati)\n",
    "print(str_wakati)"
   ]
  },
  {
   "cell_type": "code",
   "execution_count": null,
   "metadata": {},
   "outputs": [],
   "source": []
  }
 ],
 "metadata": {
  "kernelspec": {
   "display_name": "Python 3",
   "language": "python",
   "name": "python3"
  },
  "language_info": {
   "codemirror_mode": {
    "name": "ipython",
    "version": 3
   },
   "file_extension": ".py",
   "mimetype": "text/x-python",
   "name": "python",
   "nbconvert_exporter": "python",
   "pygments_lexer": "ipython3",
   "version": "3.6.10"
  }
 },
 "nbformat": 4,
 "nbformat_minor": 4
}
