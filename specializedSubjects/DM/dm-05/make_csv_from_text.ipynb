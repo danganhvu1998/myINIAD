{
 "cells": [
  {
   "cell_type": "markdown",
   "metadata": {},
   "source": [
    "### Format text files into a CSV file  \n",
    "folders: target_dir/category/text_files    "
   ]
  },
  {
   "cell_type": "markdown",
   "metadata": {},
   "source": [
    "#### Import libraries  "
   ]
  },
  {
   "cell_type": "code",
   "execution_count": 1,
   "metadata": {},
   "outputs": [],
   "source": [
    "import os, glob\n",
    "import pandas as pd\n",
    "from janome.tokenizer import Tokenizer\n",
    "from janome.analyzer import Analyzer\n",
    "from janome.tokenfilter import POSStopFilter, LowerCaseFilter"
   ]
  },
  {
   "cell_type": "markdown",
   "metadata": {},
   "source": [
    "#### Parameters  "
   ]
  },
  {
   "cell_type": "code",
   "execution_count": 2,
   "metadata": {},
   "outputs": [],
   "source": [
    "wakati = True\n",
    "target_dir = 'livedoor_news50'\n",
    "csv_out = 'livedoor_news50.csv'"
   ]
  },
  {
   "cell_type": "markdown",
   "metadata": {},
   "source": [
    "#### Setup for wakati  "
   ]
  },
  {
   "cell_type": "code",
   "execution_count": 3,
   "metadata": {},
   "outputs": [],
   "source": [
    "token_filters = [ POSStopFilter(['助詞','助動詞']),\n",
    "                  LowerCaseFilter(),\n",
    "                ]\n",
    "tokenizer = Tokenizer()\n",
    "analyzer = Analyzer(tokenizer=tokenizer, token_filters=token_filters)"
   ]
  },
  {
   "cell_type": "markdown",
   "metadata": {},
   "source": [
    "#### Read text files  "
   ]
  },
  {
   "cell_type": "code",
   "execution_count": 4,
   "metadata": {},
   "outputs": [
    {
     "name": "stdout",
     "output_type": "stream",
     "text": [
      "50 files read for dokujo-tsushin\n",
      "50 files read for it-life-hack\n",
      "50 files read for kaden-channel\n",
      "50 files read for livedoor-homme\n",
      "50 files read for movie-enter\n",
      "50 files read for peachy\n",
      "50 files read for smax\n",
      "50 files read for sports-watch\n",
      "50 files read for topic-news\n"
     ]
    }
   ],
   "source": [
    "file_pat = '*.txt'\n",
    "dir_pat = os.path.join(target_dir, '*')\n",
    "\n",
    "text = []\n",
    "for d in glob.glob(dir_pat):  # for-loop of directories in target_dir\n",
    "    if not os.path.isdir(d): continue  # skip if d is not a directory\n",
    "    category = os.path.basename(d)  # use directory name as the category name\n",
    "    full_pat = os.path.join(d, file_pat)  # generate full path name for text files\n",
    "    n_files = 0  # counter for number of files\n",
    "    for file in glob.glob(full_pat):  # for-loop of text files\n",
    "        n_files += 1\n",
    "        with open(file, 'r', encoding='utf-8') as f:\n",
    "            lines = f.read().splitlines()  # if you want to omit newline character\n",
    "            body = ' '.join(lines[2:])  # 1st line: URL, 2nd line: Date, so skip these lines\n",
    "            if wakati:  # add space between words (wakati-gaki)\n",
    "                body = ' '.join([t.base_form for t in analyzer.analyze(body)])\n",
    "            text.append([category, body])\n",
    "    print(n_files, 'files read for', category)"
   ]
  },
  {
   "cell_type": "code",
   "execution_count": 5,
   "metadata": {},
   "outputs": [
    {
     "name": "stdout",
     "output_type": "stream",
     "text": [
      "(450, 2)\n",
      "<class 'pandas.core.frame.DataFrame'>\n",
      "RangeIndex: 450 entries, 0 to 449\n",
      "Data columns (total 2 columns):\n",
      " #   Column    Non-Null Count  Dtype \n",
      "---  ------    --------------  ----- \n",
      " 0   category  450 non-null    object\n",
      " 1   text      450 non-null    object\n",
      "dtypes: object(2)\n",
      "memory usage: 7.2+ KB\n",
      "None\n"
     ]
    },
    {
     "data": {
      "text/html": [
       "<div>\n",
       "<style scoped>\n",
       "    .dataframe tbody tr th:only-of-type {\n",
       "        vertical-align: middle;\n",
       "    }\n",
       "\n",
       "    .dataframe tbody tr th {\n",
       "        vertical-align: top;\n",
       "    }\n",
       "\n",
       "    .dataframe thead th {\n",
       "        text-align: right;\n",
       "    }\n",
       "</style>\n",
       "<table border=\"1\" class=\"dataframe\">\n",
       "  <thead>\n",
       "    <tr style=\"text-align: right;\">\n",
       "      <th></th>\n",
       "      <th>category</th>\n",
       "      <th>text</th>\n",
       "    </tr>\n",
       "  </thead>\n",
       "  <tbody>\n",
       "    <tr>\n",
       "      <th>0</th>\n",
       "      <td>dokujo-tsushin</td>\n",
       "      <td>友人 代表 スピーチ 、 独 女 どう こなす いる ？   　 もうすぐ ジューン ・ ブ...</td>\n",
       "    </tr>\n",
       "    <tr>\n",
       "      <th>1</th>\n",
       "      <td>dokujo-tsushin</td>\n",
       "      <td>ネット 断ち切れる 元 カレ 縁   　 携帯 電話 普及 する 以前 、 恋人 連絡 ツー...</td>\n",
       "    </tr>\n",
       "    <tr>\n",
       "      <th>2</th>\n",
       "      <td>dokujo-tsushin</td>\n",
       "      <td>相次ぐ 芸能人 “ すっぴん ” 披露 　 その 時 、 独 女 心境 ？   　 「 男性...</td>\n",
       "    </tr>\n",
       "    <tr>\n",
       "      <th>3</th>\n",
       "      <td>dokujo-tsushin</td>\n",
       "      <td>ムダ 抵抗 ！ ？   加 齢 現実   　 ヒップ 加 齢 変化 「 たわむ → 下がる ...</td>\n",
       "    </tr>\n",
       "    <tr>\n",
       "      <th>4</th>\n",
       "      <td>dokujo-tsushin</td>\n",
       "      <td>税金 払う の 私 たち ん ！   　 6 月 支給 する れる 子ども 手当 、 当初 ...</td>\n",
       "    </tr>\n",
       "  </tbody>\n",
       "</table>\n",
       "</div>"
      ],
      "text/plain": [
       "         category                                               text\n",
       "0  dokujo-tsushin  友人 代表 スピーチ 、 独 女 どう こなす いる ？   　 もうすぐ ジューン ・ ブ...\n",
       "1  dokujo-tsushin  ネット 断ち切れる 元 カレ 縁   　 携帯 電話 普及 する 以前 、 恋人 連絡 ツー...\n",
       "2  dokujo-tsushin  相次ぐ 芸能人 “ すっぴん ” 披露 　 その 時 、 独 女 心境 ？   　 「 男性...\n",
       "3  dokujo-tsushin  ムダ 抵抗 ！ ？   加 齢 現実   　 ヒップ 加 齢 変化 「 たわむ → 下がる ...\n",
       "4  dokujo-tsushin  税金 払う の 私 たち ん ！   　 6 月 支給 する れる 子ども 手当 、 当初 ..."
      ]
     },
     "metadata": {},
     "output_type": "display_data"
    },
    {
     "data": {
      "text/html": [
       "<div>\n",
       "<style scoped>\n",
       "    .dataframe tbody tr th:only-of-type {\n",
       "        vertical-align: middle;\n",
       "    }\n",
       "\n",
       "    .dataframe tbody tr th {\n",
       "        vertical-align: top;\n",
       "    }\n",
       "\n",
       "    .dataframe thead th {\n",
       "        text-align: right;\n",
       "    }\n",
       "</style>\n",
       "<table border=\"1\" class=\"dataframe\">\n",
       "  <thead>\n",
       "    <tr style=\"text-align: right;\">\n",
       "      <th></th>\n",
       "      <th>category</th>\n",
       "      <th>text</th>\n",
       "    </tr>\n",
       "  </thead>\n",
       "  <tbody>\n",
       "    <tr>\n",
       "      <th>445</th>\n",
       "      <td>topic-news</td>\n",
       "      <td>ソフトバンク 対 au 激しい バトル ウラ 側 判明   ソフトバンク au iphone...</td>\n",
       "    </tr>\n",
       "    <tr>\n",
       "      <th>446</th>\n",
       "      <td>topic-news</td>\n",
       "      <td>反日 映画 ?　『 アジア 純真 』 日本 公開 物議   10 月 15 日 、 映画 『...</td>\n",
       "    </tr>\n",
       "    <tr>\n",
       "      <th>447</th>\n",
       "      <td>topic-news</td>\n",
       "      <td>堀江 氏 、 有料 メルマガ 1 億 円 稼ぐ   株式会社 ま ぐまぐ 代表 取締役 、 ...</td>\n",
       "    </tr>\n",
       "    <tr>\n",
       "      <th>448</th>\n",
       "      <td>topic-news</td>\n",
       "      <td>待ち 待つ 「 ios 」 改良 ユーザー 激怒   米 apple 現地 時間 10 月 ...</td>\n",
       "    </tr>\n",
       "    <tr>\n",
       "      <th>449</th>\n",
       "      <td>topic-news</td>\n",
       "      <td>死亡 する 原発 作業 員 妻 「 50 万 円 やる 国 帰る 」   福島 第 1 原発...</td>\n",
       "    </tr>\n",
       "  </tbody>\n",
       "</table>\n",
       "</div>"
      ],
      "text/plain": [
       "       category                                               text\n",
       "445  topic-news  ソフトバンク 対 au 激しい バトル ウラ 側 判明   ソフトバンク au iphone...\n",
       "446  topic-news  反日 映画 ?　『 アジア 純真 』 日本 公開 物議   10 月 15 日 、 映画 『...\n",
       "447  topic-news  堀江 氏 、 有料 メルマガ 1 億 円 稼ぐ   株式会社 ま ぐまぐ 代表 取締役 、 ...\n",
       "448  topic-news  待ち 待つ 「 ios 」 改良 ユーザー 激怒   米 apple 現地 時間 10 月 ...\n",
       "449  topic-news  死亡 する 原発 作業 員 妻 「 50 万 円 やる 国 帰る 」   福島 第 1 原発..."
      ]
     },
     "metadata": {},
     "output_type": "display_data"
    }
   ],
   "source": [
    "df = pd.DataFrame(text, columns=['category', 'text'])\n",
    "print(df.shape)\n",
    "print(df.info())\n",
    "display(df.head())\n",
    "display(df.tail())"
   ]
  },
  {
   "cell_type": "code",
   "execution_count": 6,
   "metadata": {},
   "outputs": [],
   "source": [
    "df.to_csv(csv_out, index=False)"
   ]
  }
 ],
 "metadata": {
  "kernelspec": {
   "display_name": "Python 3",
   "language": "python",
   "name": "python3"
  },
  "language_info": {
   "codemirror_mode": {
    "name": "ipython",
    "version": 3
   },
   "file_extension": ".py",
   "mimetype": "text/x-python",
   "name": "python",
   "nbconvert_exporter": "python",
   "pygments_lexer": "ipython3",
   "version": "3.6.10"
  }
 },
 "nbformat": 4,
 "nbformat_minor": 4
}
