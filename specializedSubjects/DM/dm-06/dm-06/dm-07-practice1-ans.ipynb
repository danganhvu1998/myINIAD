{
 "cells": [
  {
   "cell_type": "markdown",
   "metadata": {},
   "source": [
    "### DM-07 Practice 1  "
   ]
  },
  {
   "cell_type": "markdown",
   "metadata": {},
   "source": [
    "#### Import libraries  "
   ]
  },
  {
   "cell_type": "code",
   "execution_count": 1,
   "metadata": {},
   "outputs": [],
   "source": [
    "import numpy as np\n",
    "import pandas as pd\n",
    "import matplotlib.pyplot as plt\n",
    "from sklearn.decomposition import PCA\n",
    "from sklearn.preprocessing import StandardScaler"
   ]
  },
  {
   "cell_type": "markdown",
   "metadata": {},
   "source": [
    "#### Parameters  "
   ]
  },
  {
   "cell_type": "code",
   "execution_count": 2,
   "metadata": {},
   "outputs": [],
   "source": [
    "csv_in = 'decathlon2016rio.csv'\n",
    "\n",
    "# To show all rows and columns in the results \n",
    "pd.options.display.max_columns=999\n",
    "pd.options.display.max_rows=999"
   ]
  },
  {
   "cell_type": "markdown",
   "metadata": {},
   "source": [
    "#### Read CSV file  "
   ]
  },
  {
   "cell_type": "code",
   "execution_count": 3,
   "metadata": {},
   "outputs": [
    {
     "name": "stdout",
     "output_type": "stream",
     "text": [
      "(20, 14)\n",
      "<class 'pandas.core.frame.DataFrame'>\n",
      "RangeIndex: 20 entries, 0 to 19\n",
      "Data columns (total 14 columns):\n",
      " #   Column         Non-Null Count  Dtype \n",
      "---  ------         --------------  ----- \n",
      " 0   Rank           20 non-null     int64 \n",
      " 1   Name           20 non-null     object\n",
      " 2   Nationality    20 non-null     object\n",
      " 3   Result         20 non-null     int64 \n",
      " 4   100m           20 non-null     int64 \n",
      " 5   Long_jump      20 non-null     int64 \n",
      " 6   Shot_put       20 non-null     int64 \n",
      " 7   High_jump      20 non-null     int64 \n",
      " 8   400m           20 non-null     int64 \n",
      " 9   110mH          20 non-null     int64 \n",
      " 10  Discus_throw   20 non-null     int64 \n",
      " 11  Pole_vault     20 non-null     int64 \n",
      " 12  Javelin_throw  20 non-null     int64 \n",
      " 13  1500m          20 non-null     int64 \n",
      "dtypes: int64(12), object(2)\n",
      "memory usage: 2.3+ KB\n",
      "None\n"
     ]
    },
    {
     "data": {
      "text/html": [
       "<div>\n",
       "<style scoped>\n",
       "    .dataframe tbody tr th:only-of-type {\n",
       "        vertical-align: middle;\n",
       "    }\n",
       "\n",
       "    .dataframe tbody tr th {\n",
       "        vertical-align: top;\n",
       "    }\n",
       "\n",
       "    .dataframe thead th {\n",
       "        text-align: right;\n",
       "    }\n",
       "</style>\n",
       "<table border=\"1\" class=\"dataframe\">\n",
       "  <thead>\n",
       "    <tr style=\"text-align: right;\">\n",
       "      <th></th>\n",
       "      <th>Rank</th>\n",
       "      <th>Name</th>\n",
       "      <th>Nationality</th>\n",
       "      <th>Result</th>\n",
       "      <th>100m</th>\n",
       "      <th>Long_jump</th>\n",
       "      <th>Shot_put</th>\n",
       "      <th>High_jump</th>\n",
       "      <th>400m</th>\n",
       "      <th>110mH</th>\n",
       "      <th>Discus_throw</th>\n",
       "      <th>Pole_vault</th>\n",
       "      <th>Javelin_throw</th>\n",
       "      <th>1500m</th>\n",
       "    </tr>\n",
       "  </thead>\n",
       "  <tbody>\n",
       "    <tr>\n",
       "      <th>0</th>\n",
       "      <td>1</td>\n",
       "      <td>Ashton Eaton</td>\n",
       "      <td>United States</td>\n",
       "      <td>8893</td>\n",
       "      <td>985</td>\n",
       "      <td>1045</td>\n",
       "      <td>773</td>\n",
       "      <td>813</td>\n",
       "      <td>1005</td>\n",
       "      <td>1000</td>\n",
       "      <td>777</td>\n",
       "      <td>972</td>\n",
       "      <td>734</td>\n",
       "      <td>789</td>\n",
       "    </tr>\n",
       "    <tr>\n",
       "      <th>1</th>\n",
       "      <td>2</td>\n",
       "      <td>Kévin Mayer</td>\n",
       "      <td>France</td>\n",
       "      <td>8834</td>\n",
       "      <td>903</td>\n",
       "      <td>960</td>\n",
       "      <td>836</td>\n",
       "      <td>840</td>\n",
       "      <td>896</td>\n",
       "      <td>972</td>\n",
       "      <td>804</td>\n",
       "      <td>1035</td>\n",
       "      <td>814</td>\n",
       "      <td>774</td>\n",
       "    </tr>\n",
       "    <tr>\n",
       "      <th>2</th>\n",
       "      <td>3</td>\n",
       "      <td>Damian Warner</td>\n",
       "      <td>Canada</td>\n",
       "      <td>8666</td>\n",
       "      <td>1023</td>\n",
       "      <td>977</td>\n",
       "      <td>708</td>\n",
       "      <td>840</td>\n",
       "      <td>941</td>\n",
       "      <td>1029</td>\n",
       "      <td>765</td>\n",
       "      <td>819</td>\n",
       "      <td>786</td>\n",
       "      <td>778</td>\n",
       "    </tr>\n",
       "    <tr>\n",
       "      <th>3</th>\n",
       "      <td>4</td>\n",
       "      <td>Kai Kazmirek</td>\n",
       "      <td>Germany</td>\n",
       "      <td>8580</td>\n",
       "      <td>910</td>\n",
       "      <td>982</td>\n",
       "      <td>741</td>\n",
       "      <td>896</td>\n",
       "      <td>971</td>\n",
       "      <td>896</td>\n",
       "      <td>731</td>\n",
       "      <td>910</td>\n",
       "      <td>807</td>\n",
       "      <td>736</td>\n",
       "    </tr>\n",
       "    <tr>\n",
       "      <th>4</th>\n",
       "      <td>5</td>\n",
       "      <td>Larbi Bourrada</td>\n",
       "      <td>Algeria</td>\n",
       "      <td>8521</td>\n",
       "      <td>917</td>\n",
       "      <td>940</td>\n",
       "      <td>715</td>\n",
       "      <td>896</td>\n",
       "      <td>910</td>\n",
       "      <td>955</td>\n",
       "      <td>713</td>\n",
       "      <td>790</td>\n",
       "      <td>836</td>\n",
       "      <td>849</td>\n",
       "    </tr>\n",
       "  </tbody>\n",
       "</table>\n",
       "</div>"
      ],
      "text/plain": [
       "   Rank            Name    Nationality  Result  100m  Long_jump  Shot_put  \\\n",
       "0     1    Ashton Eaton  United States    8893   985       1045       773   \n",
       "1     2     Kévin Mayer         France    8834   903        960       836   \n",
       "2     3   Damian Warner         Canada    8666  1023        977       708   \n",
       "3     4    Kai Kazmirek        Germany    8580   910        982       741   \n",
       "4     5  Larbi Bourrada        Algeria    8521   917        940       715   \n",
       "\n",
       "   High_jump  400m  110mH  Discus_throw  Pole_vault  Javelin_throw  1500m  \n",
       "0        813  1005   1000           777         972            734    789  \n",
       "1        840   896    972           804        1035            814    774  \n",
       "2        840   941   1029           765         819            786    778  \n",
       "3        896   971    896           731         910            807    736  \n",
       "4        896   910    955           713         790            836    849  "
      ]
     },
     "metadata": {},
     "output_type": "display_data"
    }
   ],
   "source": [
    "df = pd.read_csv(csv_in, delimiter=',', skiprows=8, header=0)\n",
    "print(df.shape)\n",
    "print(df.info())\n",
    "display(df.head())"
   ]
  },
  {
   "cell_type": "markdown",
   "metadata": {},
   "source": [
    "#### Set data   "
   ]
  },
  {
   "cell_type": "code",
   "execution_count": 4,
   "metadata": {},
   "outputs": [
    {
     "name": "stdout",
     "output_type": "stream",
     "text": [
      "(20, 10)\n"
     ]
    },
    {
     "data": {
      "text/html": [
       "<div>\n",
       "<style scoped>\n",
       "    .dataframe tbody tr th:only-of-type {\n",
       "        vertical-align: middle;\n",
       "    }\n",
       "\n",
       "    .dataframe tbody tr th {\n",
       "        vertical-align: top;\n",
       "    }\n",
       "\n",
       "    .dataframe thead th {\n",
       "        text-align: right;\n",
       "    }\n",
       "</style>\n",
       "<table border=\"1\" class=\"dataframe\">\n",
       "  <thead>\n",
       "    <tr style=\"text-align: right;\">\n",
       "      <th></th>\n",
       "      <th>100m</th>\n",
       "      <th>Long_jump</th>\n",
       "      <th>Shot_put</th>\n",
       "      <th>High_jump</th>\n",
       "      <th>400m</th>\n",
       "      <th>110mH</th>\n",
       "      <th>Discus_throw</th>\n",
       "      <th>Pole_vault</th>\n",
       "      <th>Javelin_throw</th>\n",
       "      <th>1500m</th>\n",
       "    </tr>\n",
       "  </thead>\n",
       "  <tbody>\n",
       "    <tr>\n",
       "      <th>0</th>\n",
       "      <td>985</td>\n",
       "      <td>1045</td>\n",
       "      <td>773</td>\n",
       "      <td>813</td>\n",
       "      <td>1005</td>\n",
       "      <td>1000</td>\n",
       "      <td>777</td>\n",
       "      <td>972</td>\n",
       "      <td>734</td>\n",
       "      <td>789</td>\n",
       "    </tr>\n",
       "    <tr>\n",
       "      <th>1</th>\n",
       "      <td>903</td>\n",
       "      <td>960</td>\n",
       "      <td>836</td>\n",
       "      <td>840</td>\n",
       "      <td>896</td>\n",
       "      <td>972</td>\n",
       "      <td>804</td>\n",
       "      <td>1035</td>\n",
       "      <td>814</td>\n",
       "      <td>774</td>\n",
       "    </tr>\n",
       "    <tr>\n",
       "      <th>2</th>\n",
       "      <td>1023</td>\n",
       "      <td>977</td>\n",
       "      <td>708</td>\n",
       "      <td>840</td>\n",
       "      <td>941</td>\n",
       "      <td>1029</td>\n",
       "      <td>765</td>\n",
       "      <td>819</td>\n",
       "      <td>786</td>\n",
       "      <td>778</td>\n",
       "    </tr>\n",
       "    <tr>\n",
       "      <th>3</th>\n",
       "      <td>910</td>\n",
       "      <td>982</td>\n",
       "      <td>741</td>\n",
       "      <td>896</td>\n",
       "      <td>971</td>\n",
       "      <td>896</td>\n",
       "      <td>731</td>\n",
       "      <td>910</td>\n",
       "      <td>807</td>\n",
       "      <td>736</td>\n",
       "    </tr>\n",
       "    <tr>\n",
       "      <th>4</th>\n",
       "      <td>917</td>\n",
       "      <td>940</td>\n",
       "      <td>715</td>\n",
       "      <td>896</td>\n",
       "      <td>910</td>\n",
       "      <td>955</td>\n",
       "      <td>713</td>\n",
       "      <td>790</td>\n",
       "      <td>836</td>\n",
       "      <td>849</td>\n",
       "    </tr>\n",
       "  </tbody>\n",
       "</table>\n",
       "</div>"
      ],
      "text/plain": [
       "   100m  Long_jump  Shot_put  High_jump  400m  110mH  Discus_throw  \\\n",
       "0   985       1045       773        813  1005   1000           777   \n",
       "1   903        960       836        840   896    972           804   \n",
       "2  1023        977       708        840   941   1029           765   \n",
       "3   910        982       741        896   971    896           731   \n",
       "4   917        940       715        896   910    955           713   \n",
       "\n",
       "   Pole_vault  Javelin_throw  1500m  \n",
       "0         972            734    789  \n",
       "1        1035            814    774  \n",
       "2         819            786    778  \n",
       "3         910            807    736  \n",
       "4         790            836    849  "
      ]
     },
     "metadata": {},
     "output_type": "display_data"
    }
   ],
   "source": [
    "dfX = df.loc[:, '100m':]\n",
    "print(dfX.shape)\n",
    "display(dfX.head())"
   ]
  },
  {
   "cell_type": "markdown",
   "metadata": {},
   "source": [
    "#### Standardization  "
   ]
  },
  {
   "cell_type": "code",
   "execution_count": 5,
   "metadata": {},
   "outputs": [],
   "source": [
    "sc = StandardScaler()\n",
    "X_std = sc.fit_transform(dfX)"
   ]
  },
  {
   "cell_type": "markdown",
   "metadata": {},
   "source": [
    "#### PCA  "
   ]
  },
  {
   "cell_type": "code",
   "execution_count": 6,
   "metadata": {},
   "outputs": [],
   "source": [
    "n_pca = 7\n",
    "pca = PCA(n_components=n_pca)\n",
    "X_pca = pca.fit_transform(X_std)"
   ]
  },
  {
   "cell_type": "markdown",
   "metadata": {},
   "source": [
    "#### Check contribution ratio  "
   ]
  },
  {
   "cell_type": "code",
   "execution_count": 7,
   "metadata": {},
   "outputs": [
    {
     "name": "stdout",
     "output_type": "stream",
     "text": [
      "[0.36399551 0.19886351 0.12605592 0.09433279 0.08270855 0.05423509\n",
      " 0.03338784]\n",
      "[0.36399551 0.56285902 0.68891494 0.78324773 0.86595628 0.92019137\n",
      " 0.95357921]\n"
     ]
    }
   ],
   "source": [
    "print(pca.explained_variance_ratio_)\n",
    "print(np.cumsum(pca.explained_variance_ratio_))"
   ]
  },
  {
   "cell_type": "markdown",
   "metadata": {},
   "source": [
    "**Ans.1: up to PC3 (0.689)**"
   ]
  },
  {
   "cell_type": "markdown",
   "metadata": {},
   "source": [
    "#### Draw graph of contribution  "
   ]
  },
  {
   "cell_type": "code",
   "execution_count": 8,
   "metadata": {},
   "outputs": [
    {
     "data": {
      "image/png": "[encoded data removed]",
      "text/plain": [
       "<Figure size 432x288 with 1 Axes>"
      ]
     },
     "metadata": {
      "needs_background": "light"
     },
     "output_type": "display_data"
    }
   ],
   "source": [
    "xx = range(1, n_pca+1)\n",
    "plt.bar(xx, pca.explained_variance_ratio_)\n",
    "plt.step(xx, np.cumsum(pca.explained_variance_ratio_), where='mid')\n",
    "plt.ylabel('Explained variance ratio')\n",
    "plt.xlabel('Principal components')\n",
    "plt.show()"
   ]
  },
  {
   "cell_type": "markdown",
   "metadata": {},
   "source": [
    "#### Draw biplot  "
   ]
  },
  {
   "cell_type": "code",
   "execution_count": 9,
   "metadata": {},
   "outputs": [
    {
     "data": {
      "image/png": "[encoded data removed]",
      "text/plain": [
       "<Figure size 432x288 with 1 Axes>"
      ]
     },
     "metadata": {
      "needs_background": "light"
     },
     "output_type": "display_data"
    }
   ],
   "source": [
    "def biplot(X_2d, coef_2d, coef_labels=None):\n",
    "    r1 = 4.5\n",
    "    r2 = 1.01\n",
    "    coef_2dT = coef_2d.T\n",
    "    if coef_labels is None:\n",
    "        coef_labels = range(len(coef_2dT))\n",
    "    for i, coef in enumerate(coef_2dT):\n",
    "        plt.arrow(0, 0, coef[0]*r1, coef[1]*r1, color='r')    \n",
    "        plt.text(coef[0]*r1*r2, coef[1]*r1*r2, coef_labels[i],\n",
    "                 color='b', fontsize=11)\n",
    "    plt.scatter(X_2d[:,0], X_2d[:,1])\n",
    "    plt.xlabel('PC_1')\n",
    "    plt.ylabel('PC_2')\n",
    "    return None\n",
    "\n",
    "biplot(X_pca[:, :2], pca.components_[:2], coef_labels=dfX.columns)"
   ]
  },
  {
   "cell_type": "markdown",
   "metadata": {},
   "source": [
    "**Ans: X-axis: running like 1500m, Y-axis: +:jump, -: throw**  "
   ]
  },
  {
   "cell_type": "code",
   "execution_count": null,
   "metadata": {},
   "outputs": [],
   "source": []
  }
 ],
 "metadata": {
  "kernelspec": {
   "display_name": "Python 3",
   "language": "python",
   "name": "python3"
  },
  "language_info": {
   "codemirror_mode": {
    "name": "ipython",
    "version": 3
   },
   "file_extension": ".py",
   "mimetype": "text/x-python",
   "name": "python",
   "nbconvert_exporter": "python",
   "pygments_lexer": "ipython3",
   "version": "3.6.10"
  }
 },
 "nbformat": 4,
 "nbformat_minor": 4
}
