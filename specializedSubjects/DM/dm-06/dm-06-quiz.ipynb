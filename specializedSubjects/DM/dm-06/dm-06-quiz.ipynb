{
 "cells": [
  {
   "cell_type": "code",
   "execution_count": 1,
   "metadata": {},
   "outputs": [],
   "source": [
    "import pandas as pd\n",
    "import numpy as np\n",
    "from sklearn.feature_extraction.text import CountVectorizer\n",
    "from sklearn.naive_bayes import MultinomialNB"
   ]
  },
  {
   "cell_type": "code",
   "execution_count": 2,
   "metadata": {},
   "outputs": [
    {
     "output_type": "stream",
     "name": "stdout",
     "text": [
      "0            red  sweetness  skin  seeds\n1    red  sweetness  sourness  sweetness\n2      orange  skin  sourness  sweetness\nName: text, dtype: object\n0         Apple\n1    Strawberry\n2        Orange\nName: category, dtype: object\n"
     ]
    }
   ],
   "source": [
    "texts = np.array([\n",
    "    [\"Apple\", \"red  sweetness  skin  seeds\"],\n",
    "    [\"Strawberry\", \"red  sweetness  sourness  sweetness\"],\n",
    "    [\"Orange\", \"orange  skin  sourness  sweetness\"]\n",
    "])\n",
    "df = pd.DataFrame(texts, columns = ['category','text'])\n",
    "X_train = df['text']\n",
    "y_train = df['category']\n",
    "print(X_train)\n",
    "print(y_train)"
   ]
  },
  {
   "cell_type": "code",
   "execution_count": 3,
   "metadata": {},
   "outputs": [
    {
     "output_type": "stream",
     "name": "stdout",
     "text": [
      "['skin sweetness sourness']\nVocabulary size: 6\n['orange', 'red', 'seeds', 'skin', 'sourness', 'sweetness']\n"
     ]
    }
   ],
   "source": [
    "X_test = ['skin sweetness sourness']\n",
    "print(X_test)\n",
    "vectorizer = CountVectorizer(token_pattern='(?u)\\\\b\\\\w+\\\\b')\n",
    "vectorizer.fit(X_train)\n",
    "vocab = vectorizer. get_feature_names()\n",
    "print('Vocabulary size:', len(vocab))\n",
    "print(vocab)"
   ]
  },
  {
   "cell_type": "code",
   "execution_count": 4,
   "metadata": {},
   "outputs": [
    {
     "output_type": "stream",
     "name": "stdout",
     "text": [
      "X_train_bow:\n<3x6 sparse matrix of type '<class 'numpy.int64'>'\n\twith 11 stored elements in Compressed Sparse Row format>\nX_test_bow:\n<1x6 sparse matrix of type '<class 'numpy.int64'>'\n\twith 3 stored elements in Compressed Sparse Row format>\n"
     ]
    }
   ],
   "source": [
    "X_train_bow = vectorizer.transform(X_train)\n",
    "X_test_bow = vectorizer.transform(X_test)\n",
    "print('X_train_bow:')\n",
    "print(repr(X_train_bow))\n",
    "print('X_test_bow:')\n",
    "print(repr(X_test_bow))"
   ]
  },
  {
   "cell_type": "code",
   "execution_count": 5,
   "metadata": {},
   "outputs": [
    {
     "output_type": "display_data",
     "data": {
      "text/plain": "            orange  red  seeds  skin  sourness  sweetness\ncategory                                                 \nApple            0    1      1     1         0          1\nStrawberry       0    1      0     0         1          2\nOrange           1    0      0     1         1          1",
      "text/html": "<div>\n<style scoped>\n    .dataframe tbody tr th:only-of-type {\n        vertical-align: middle;\n    }\n\n    .dataframe tbody tr th {\n        vertical-align: top;\n    }\n\n    .dataframe thead th {\n        text-align: right;\n    }\n</style>\n<table border=\"1\" class=\"dataframe\">\n  <thead>\n    <tr style=\"text-align: right;\">\n      <th></th>\n      <th>orange</th>\n      <th>red</th>\n      <th>seeds</th>\n      <th>skin</th>\n      <th>sourness</th>\n      <th>sweetness</th>\n    </tr>\n    <tr>\n      <th>category</th>\n      <th></th>\n      <th></th>\n      <th></th>\n      <th></th>\n      <th></th>\n      <th></th>\n    </tr>\n  </thead>\n  <tbody>\n    <tr>\n      <th>Apple</th>\n      <td>0</td>\n      <td>1</td>\n      <td>1</td>\n      <td>1</td>\n      <td>0</td>\n      <td>1</td>\n    </tr>\n    <tr>\n      <th>Strawberry</th>\n      <td>0</td>\n      <td>1</td>\n      <td>0</td>\n      <td>0</td>\n      <td>1</td>\n      <td>2</td>\n    </tr>\n    <tr>\n      <th>Orange</th>\n      <td>1</td>\n      <td>0</td>\n      <td>0</td>\n      <td>1</td>\n      <td>1</td>\n      <td>1</td>\n    </tr>\n  </tbody>\n</table>\n</div>"
     },
     "metadata": {}
    }
   ],
   "source": [
    "Xbow = pd.DataFrame(X_train_bow.toarray(), \n",
    "                    index=y_train, columns=vocab)\n",
    "display(Xbow)"
   ]
  },
  {
   "cell_type": "code",
   "execution_count": 6,
   "metadata": {},
   "outputs": [
    {
     "output_type": "stream",
     "name": "stdout",
     "text": [
      "['Apple' 'Orange' 'Strawberry']\n",
      "Train accuracy: 1.0\n"
     ]
    }
   ],
   "source": [
    "model = MultinomialNB(alpha=1.0)\n",
    "model.fit(X_train_bow, y_train)\n",
    "print(model.classes_)\n",
    "train_score = model.score(X_train_bow, y_train)\n",
    "print('Train accuracy:', train_score)"
   ]
  },
  {
   "cell_type": "code",
   "execution_count": 7,
   "metadata": {},
   "outputs": [
    {
     "output_type": "stream",
     "name": "stdout",
     "text": [
      "Prediction:\n"
     ]
    },
    {
     "output_type": "display_data",
     "data": {
      "text/plain": "      Apple    Orange  Strawberry\n0  0.222222  0.444444    0.333333",
      "text/html": "<div>\n<style scoped>\n    .dataframe tbody tr th:only-of-type {\n        vertical-align: middle;\n    }\n\n    .dataframe tbody tr th {\n        vertical-align: top;\n    }\n\n    .dataframe thead th {\n        text-align: right;\n    }\n</style>\n<table border=\"1\" class=\"dataframe\">\n  <thead>\n    <tr style=\"text-align: right;\">\n      <th></th>\n      <th>Apple</th>\n      <th>Orange</th>\n      <th>Strawberry</th>\n    </tr>\n  </thead>\n  <tbody>\n    <tr>\n      <th>0</th>\n      <td>0.222222</td>\n      <td>0.444444</td>\n      <td>0.333333</td>\n    </tr>\n  </tbody>\n</table>\n</div>"
     },
     "metadata": {}
    },
    {
     "output_type": "stream",
     "name": "stdout",
     "text": [
      "['Orange']\n"
     ]
    }
   ],
   "source": [
    "proba = model.predict_proba(X_test_bow)\n",
    "results = pd.DataFrame(proba, columns=model.classes_)\n",
    "print('Prediction:')\n",
    "display(results)\n",
    "print(model.predict(X_test_bow))"
   ]
  },
  {
   "cell_type": "code",
   "execution_count": null,
   "metadata": {},
   "outputs": [],
   "source": []
  }
 ],
 "metadata": {
  "kernelspec": {
   "name": "python388jvsc74a57bd0e8880c58ea65068827af19aa57df99e07da1109ce0dc5e321474e5f3a08d850b",
   "display_name": "Python 3.8.8 64-bit ('ds2021': conda)"
  },
  "language_info": {
   "codemirror_mode": {
    "name": "ipython",
    "version": 3
   },
   "file_extension": ".py",
   "mimetype": "text/x-python",
   "name": "python",
   "nbconvert_exporter": "python",
   "pygments_lexer": "ipython3",
   "version": "3.8.8"
  },
  "metadata": {
   "interpreter": {
    "hash": "e8880c58ea65068827af19aa57df99e07da1109ce0dc5e321474e5f3a08d850b"
   }
  }
 },
 "nbformat": 4,
 "nbformat_minor": 4
}