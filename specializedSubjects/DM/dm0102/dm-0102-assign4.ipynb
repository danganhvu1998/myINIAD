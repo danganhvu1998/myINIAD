{
 "cells": [
  {
   "cell_type": "markdown",
   "metadata": {},
   "source": [
    "## Example of displaying heatmap using folium (English)  "
   ]
  },
  {
   "cell_type": "markdown",
   "metadata": {},
   "source": [
    "### Import libraries  "
   ]
  },
  {
   "cell_type": "code",
   "execution_count": 1,
   "metadata": {},
   "outputs": [],
   "source": [
    "import pandas as pd\n",
    "import folium"
   ]
  },
  {
   "cell_type": "markdown",
   "metadata": {},
   "source": [
    "### Parameters"
   ]
  },
  {
   "cell_type": "code",
   "execution_count": 2,
   "metadata": {},
   "outputs": [],
   "source": [
    "csv_in = '../iniadMaterial/2021/dm-0102/crime2006_2016_en-utf8.csv'\n",
    "\n",
    "pd.options.display.max_rows = 999\n",
    "pd.options.display.max_columns = 999"
   ]
  },
  {
   "cell_type": "markdown",
   "metadata": {},
   "source": [
    "### Read CSV file"
   ]
  },
  {
   "cell_type": "code",
   "execution_count": 3,
   "metadata": {},
   "outputs": [
    {
     "output_type": "stream",
     "name": "stdout",
     "text": [
      "(47, 3)\n<class 'pandas.core.frame.DataFrame'>\nInt64Index: 47 entries, 0 to 46\nData columns (total 3 columns):\n #   Column     Non-Null Count  Dtype \n---  ------     --------------  ----- \n 0   Year       47 non-null     int64 \n 1   Pref       47 non-null     object\n 2   #Arrested  47 non-null     int64 \ndtypes: int64(2), object(1)\nmemory usage: 1.5+ KB\nNone\n"
     ]
    },
    {
     "output_type": "display_data",
     "data": {
      "text/plain": "   Year      Pref  #Arrested\n0  2016  Hokkaido       8460\n1  2016    Aomori       1621\n2  2016     Iwate       1282\n3  2016    Miyagi       3209\n4  2016     Akita       1364",
      "text/html": "<div>\n<style scoped>\n    .dataframe tbody tr th:only-of-type {\n        vertical-align: middle;\n    }\n\n    .dataframe tbody tr th {\n        vertical-align: top;\n    }\n\n    .dataframe thead th {\n        text-align: right;\n    }\n</style>\n<table border=\"1\" class=\"dataframe\">\n  <thead>\n    <tr style=\"text-align: right;\">\n      <th></th>\n      <th>Year</th>\n      <th>Pref</th>\n      <th>#Arrested</th>\n    </tr>\n  </thead>\n  <tbody>\n    <tr>\n      <th>0</th>\n      <td>2016</td>\n      <td>Hokkaido</td>\n      <td>8460</td>\n    </tr>\n    <tr>\n      <th>1</th>\n      <td>2016</td>\n      <td>Aomori</td>\n      <td>1621</td>\n    </tr>\n    <tr>\n      <th>2</th>\n      <td>2016</td>\n      <td>Iwate</td>\n      <td>1282</td>\n    </tr>\n    <tr>\n      <th>3</th>\n      <td>2016</td>\n      <td>Miyagi</td>\n      <td>3209</td>\n    </tr>\n    <tr>\n      <th>4</th>\n      <td>2016</td>\n      <td>Akita</td>\n      <td>1364</td>\n    </tr>\n  </tbody>\n</table>\n</div>"
     },
     "metadata": {}
    }
   ],
   "source": [
    "df = pd.read_csv(csv_in, delimiter=',', skiprows=0, header=0)\n",
    "# print(df['Year'] == 2016)\n",
    "df = df[(df['Year'] == 2016)]\n",
    "print(df.shape)\n",
    "print(df.info())\n",
    "display(df.head())\n",
    "#display(df)"
   ]
  },
  {
   "cell_type": "code",
   "execution_count": 4,
   "metadata": {},
   "outputs": [],
   "source": [
    "csv_in2 = '../iniadMaterial/2021/dm-0102/h3010pref_pos_utf8_en.csv'"
   ]
  },
  {
   "cell_type": "markdown",
   "metadata": {},
   "source": [
    "### Read CSV file"
   ]
  },
  {
   "cell_type": "code",
   "execution_count": 5,
   "metadata": {},
   "outputs": [
    {
     "output_type": "stream",
     "name": "stdout",
     "text": [
      "(47, 3)\n"
     ]
    },
    {
     "output_type": "display_data",
     "data": {
      "text/plain": "       Pref        lat         lon\n0  Hokkaido  43.064278  141.346785\n1    Aomori  40.824338  140.740087\n2     Iwate  39.703647  141.152592\n3    Miyagi  38.268803  140.871846\n4     Akita  39.718058  140.103250",
      "text/html": "<div>\n<style scoped>\n    .dataframe tbody tr th:only-of-type {\n        vertical-align: middle;\n    }\n\n    .dataframe tbody tr th {\n        vertical-align: top;\n    }\n\n    .dataframe thead th {\n        text-align: right;\n    }\n</style>\n<table border=\"1\" class=\"dataframe\">\n  <thead>\n    <tr style=\"text-align: right;\">\n      <th></th>\n      <th>Pref</th>\n      <th>lat</th>\n      <th>lon</th>\n    </tr>\n  </thead>\n  <tbody>\n    <tr>\n      <th>0</th>\n      <td>Hokkaido</td>\n      <td>43.064278</td>\n      <td>141.346785</td>\n    </tr>\n    <tr>\n      <th>1</th>\n      <td>Aomori</td>\n      <td>40.824338</td>\n      <td>140.740087</td>\n    </tr>\n    <tr>\n      <th>2</th>\n      <td>Iwate</td>\n      <td>39.703647</td>\n      <td>141.152592</td>\n    </tr>\n    <tr>\n      <th>3</th>\n      <td>Miyagi</td>\n      <td>38.268803</td>\n      <td>140.871846</td>\n    </tr>\n    <tr>\n      <th>4</th>\n      <td>Akita</td>\n      <td>39.718058</td>\n      <td>140.103250</td>\n    </tr>\n  </tbody>\n</table>\n</div>"
     },
     "metadata": {}
    }
   ],
   "source": [
    "df_pos = pd.read_csv(csv_in2, delimiter=',', skiprows=0, header=0)\n",
    "print(df_pos.shape)\n",
    "display(df_pos.head())"
   ]
  },
  {
   "cell_type": "markdown",
   "metadata": {},
   "source": [
    "### Merge DataFrames to add lat/lon to pref data  "
   ]
  },
  {
   "cell_type": "code",
   "execution_count": 6,
   "metadata": {},
   "outputs": [
    {
     "output_type": "stream",
     "name": "stdout",
     "text": [
      "(47, 5)\n"
     ]
    },
    {
     "output_type": "display_data",
     "data": {
      "text/plain": "   Year      Pref  #Arrested        lat         lon\n0  2016  Hokkaido       8460  43.064278  141.346785\n1  2016    Aomori       1621  40.824338  140.740087\n2  2016     Iwate       1282  39.703647  141.152592\n3  2016    Miyagi       3209  38.268803  140.871846\n4  2016     Akita       1364  39.718058  140.103250",
      "text/html": "<div>\n<style scoped>\n    .dataframe tbody tr th:only-of-type {\n        vertical-align: middle;\n    }\n\n    .dataframe tbody tr th {\n        vertical-align: top;\n    }\n\n    .dataframe thead th {\n        text-align: right;\n    }\n</style>\n<table border=\"1\" class=\"dataframe\">\n  <thead>\n    <tr style=\"text-align: right;\">\n      <th></th>\n      <th>Year</th>\n      <th>Pref</th>\n      <th>#Arrested</th>\n      <th>lat</th>\n      <th>lon</th>\n    </tr>\n  </thead>\n  <tbody>\n    <tr>\n      <th>0</th>\n      <td>2016</td>\n      <td>Hokkaido</td>\n      <td>8460</td>\n      <td>43.064278</td>\n      <td>141.346785</td>\n    </tr>\n    <tr>\n      <th>1</th>\n      <td>2016</td>\n      <td>Aomori</td>\n      <td>1621</td>\n      <td>40.824338</td>\n      <td>140.740087</td>\n    </tr>\n    <tr>\n      <th>2</th>\n      <td>2016</td>\n      <td>Iwate</td>\n      <td>1282</td>\n      <td>39.703647</td>\n      <td>141.152592</td>\n    </tr>\n    <tr>\n      <th>3</th>\n      <td>2016</td>\n      <td>Miyagi</td>\n      <td>3209</td>\n      <td>38.268803</td>\n      <td>140.871846</td>\n    </tr>\n    <tr>\n      <th>4</th>\n      <td>2016</td>\n      <td>Akita</td>\n      <td>1364</td>\n      <td>39.718058</td>\n      <td>140.103250</td>\n    </tr>\n  </tbody>\n</table>\n</div>"
     },
     "metadata": {}
    }
   ],
   "source": [
    "df_merged = pd.merge(df, df_pos, on='Pref', how='left')\n",
    "print(df_merged.shape)\n",
    "display(df_merged.head())"
   ]
  },
  {
   "cell_type": "markdown",
   "metadata": {},
   "source": [
    "### Make data for heatmap  \n",
    "[ [lat2, lon2, value2], [lat2, lon2, value2], ... ]  "
   ]
  },
  {
   "cell_type": "code",
   "execution_count": 7,
   "metadata": {},
   "outputs": [
    {
     "output_type": "stream",
     "name": "stdout",
     "text": [
      "(47, 3)\n"
     ]
    },
    {
     "output_type": "display_data",
     "data": {
      "text/plain": "         lat         lon  #Arrested\n0  43.064278  141.346785       8460\n1  40.824338  140.740087       1621\n2  39.703647  141.152592       1282\n3  38.268803  140.871846       3209\n4  39.718058  140.103250       1364",
      "text/html": "<div>\n<style scoped>\n    .dataframe tbody tr th:only-of-type {\n        vertical-align: middle;\n    }\n\n    .dataframe tbody tr th {\n        vertical-align: top;\n    }\n\n    .dataframe thead th {\n        text-align: right;\n    }\n</style>\n<table border=\"1\" class=\"dataframe\">\n  <thead>\n    <tr style=\"text-align: right;\">\n      <th></th>\n      <th>lat</th>\n      <th>lon</th>\n      <th>#Arrested</th>\n    </tr>\n  </thead>\n  <tbody>\n    <tr>\n      <th>0</th>\n      <td>43.064278</td>\n      <td>141.346785</td>\n      <td>8460</td>\n    </tr>\n    <tr>\n      <th>1</th>\n      <td>40.824338</td>\n      <td>140.740087</td>\n      <td>1621</td>\n    </tr>\n    <tr>\n      <th>2</th>\n      <td>39.703647</td>\n      <td>141.152592</td>\n      <td>1282</td>\n    </tr>\n    <tr>\n      <th>3</th>\n      <td>38.268803</td>\n      <td>140.871846</td>\n      <td>3209</td>\n    </tr>\n    <tr>\n      <th>4</th>\n      <td>39.718058</td>\n      <td>140.103250</td>\n      <td>1364</td>\n    </tr>\n  </tbody>\n</table>\n</div>"
     },
     "metadata": {}
    }
   ],
   "source": [
    "df_heat = df_merged[['lat', 'lon', '#Arrested']]\n",
    "print(df_heat.shape)\n",
    "display(df_heat.head())"
   ]
  },
  {
   "cell_type": "markdown",
   "metadata": {},
   "source": [
    "### Make map  "
   ]
  },
  {
   "cell_type": "code",
   "execution_count": 8,
   "metadata": {},
   "outputs": [
    {
     "output_type": "display_data",
     "data": {
      "text/plain": "<folium.folium.Map at 0x7f2f121cbd60>",
      "text/html": "<div style=\"width:100%;\"><div style=\"position:relative;width:100%;height:0;padding-bottom:60%;\"><span style=\"color:#565656\">Make this Notebook Trusted to load map: File -> Trust Notebook</span><iframe src=\"about:blank\" style=\"position:absolute;width:100%;height:100%;left:0;top:0;border:none !important;\" data-html=%3C%21DOCTYPE%20html%3E%0A%3Chead%3E%20%20%20%20%0A%20%20%20%20%3Cmeta%20http-equiv%3D%22content-type%22%20content%3D%22text/html%3B%20charset%3DUTF-8%22%20/%3E%0A%20%20%20%20%0A%20%20%20%20%20%20%20%20%3Cscript%3E%0A%20%20%20%20%20%20%20%20%20%20%20%20L_NO_TOUCH%20%3D%20false%3B%0A%20%20%20%20%20%20%20%20%20%20%20%20L_DISABLE_3D%20%3D%20false%3B%0A%20%20%20%20%20%20%20%20%3C/script%3E%0A%20%20%20%20%0A%20%20%20%20%3Cstyle%3Ehtml%2C%20body%20%7Bwidth%3A%20100%25%3Bheight%3A%20100%25%3Bmargin%3A%200%3Bpadding%3A%200%3B%7D%3C/style%3E%0A%20%20%20%20%3Cstyle%3E%23map%20%7Bposition%3Aabsolute%3Btop%3A0%3Bbottom%3A0%3Bright%3A0%3Bleft%3A0%3B%7D%3C/style%3E%0A%20%20%20%20%3Cscript%20src%3D%22https%3A//cdn.jsdelivr.net/npm/leaflet%401.6.0/dist/leaflet.js%22%3E%3C/script%3E%0A%20%20%20%20%3Cscript%20src%3D%22https%3A//code.jquery.com/jquery-1.12.4.min.js%22%3E%3C/script%3E%0A%20%20%20%20%3Cscript%20src%3D%22https%3A//maxcdn.bootstrapcdn.com/bootstrap/3.2.0/js/bootstrap.min.js%22%3E%3C/script%3E%0A%20%20%20%20%3Cscript%20src%3D%22https%3A//cdnjs.cloudflare.com/ajax/libs/Leaflet.awesome-markers/2.0.2/leaflet.awesome-markers.js%22%3E%3C/script%3E%0A%20%20%20%20%3Clink%20rel%3D%22stylesheet%22%20href%3D%22https%3A//cdn.jsdelivr.net/npm/leaflet%401.6.0/dist/leaflet.css%22/%3E%0A%20%20%20%20%3Clink%20rel%3D%22stylesheet%22%20href%3D%22https%3A//maxcdn.bootstrapcdn.com/bootstrap/3.2.0/css/bootstrap.min.css%22/%3E%0A%20%20%20%20%3Clink%20rel%3D%22stylesheet%22%20href%3D%22https%3A//maxcdn.bootstrapcdn.com/bootstrap/3.2.0/css/bootstrap-theme.min.css%22/%3E%0A%20%20%20%20%3Clink%20rel%3D%22stylesheet%22%20href%3D%22https%3A//maxcdn.bootstrapcdn.com/font-awesome/4.6.3/css/font-awesome.min.css%22/%3E%0A%20%20%20%20%3Clink%20rel%3D%22stylesheet%22%20href%3D%22https%3A//cdnjs.cloudflare.com/ajax/libs/Leaflet.awesome-markers/2.0.2/leaflet.awesome-markers.css%22/%3E%0A%20%20%20%20%3Clink%20rel%3D%22stylesheet%22%20href%3D%22https%3A//cdn.jsdelivr.net/gh/python-visualization/folium/folium/templates/leaflet.awesome.rotate.min.css%22/%3E%0A%20%20%20%20%0A%20%20%20%20%20%20%20%20%20%20%20%20%3Cmeta%20name%3D%22viewport%22%20content%3D%22width%3Ddevice-width%2C%0A%20%20%20%20%20%20%20%20%20%20%20%20%20%20%20%20initial-scale%3D1.0%2C%20maximum-scale%3D1.0%2C%20user-scalable%3Dno%22%20/%3E%0A%20%20%20%20%20%20%20%20%20%20%20%20%3Cstyle%3E%0A%20%20%20%20%20%20%20%20%20%20%20%20%20%20%20%20%23map_79e5963ec9ad4ef3b3be22d02ab40f65%20%7B%0A%20%20%20%20%20%20%20%20%20%20%20%20%20%20%20%20%20%20%20%20position%3A%20relative%3B%0A%20%20%20%20%20%20%20%20%20%20%20%20%20%20%20%20%20%20%20%20width%3A%20100.0%25%3B%0A%20%20%20%20%20%20%20%20%20%20%20%20%20%20%20%20%20%20%20%20height%3A%20100.0%25%3B%0A%20%20%20%20%20%20%20%20%20%20%20%20%20%20%20%20%20%20%20%20left%3A%200.0%25%3B%0A%20%20%20%20%20%20%20%20%20%20%20%20%20%20%20%20%20%20%20%20top%3A%200.0%25%3B%0A%20%20%20%20%20%20%20%20%20%20%20%20%20%20%20%20%7D%0A%20%20%20%20%20%20%20%20%20%20%20%20%3C/style%3E%0A%20%20%20%20%20%20%20%20%0A%20%20%20%20%3Cscript%20src%3D%22https%3A//cdn.jsdelivr.net/gh/python-visualization/folium%40master/folium/templates/leaflet_heat.min.js%22%3E%3C/script%3E%0A%3C/head%3E%0A%3Cbody%3E%20%20%20%20%0A%20%20%20%20%0A%20%20%20%20%20%20%20%20%20%20%20%20%3Cdiv%20class%3D%22folium-map%22%20id%3D%22map_79e5963ec9ad4ef3b3be22d02ab40f65%22%20%3E%3C/div%3E%0A%20%20%20%20%20%20%20%20%0A%3C/body%3E%0A%3Cscript%3E%20%20%20%20%0A%20%20%20%20%0A%20%20%20%20%20%20%20%20%20%20%20%20var%20map_79e5963ec9ad4ef3b3be22d02ab40f65%20%3D%20L.map%28%0A%20%20%20%20%20%20%20%20%20%20%20%20%20%20%20%20%22map_79e5963ec9ad4ef3b3be22d02ab40f65%22%2C%0A%20%20%20%20%20%20%20%20%20%20%20%20%20%20%20%20%7B%0A%20%20%20%20%20%20%20%20%20%20%20%20%20%20%20%20%20%20%20%20center%3A%20%5B35.0%2C%20140.0%5D%2C%0A%20%20%20%20%20%20%20%20%20%20%20%20%20%20%20%20%20%20%20%20crs%3A%20L.CRS.EPSG3857%2C%0A%20%20%20%20%20%20%20%20%20%20%20%20%20%20%20%20%20%20%20%20zoom%3A%204%2C%0A%20%20%20%20%20%20%20%20%20%20%20%20%20%20%20%20%20%20%20%20zoomControl%3A%20true%2C%0A%20%20%20%20%20%20%20%20%20%20%20%20%20%20%20%20%20%20%20%20preferCanvas%3A%20false%2C%0A%20%20%20%20%20%20%20%20%20%20%20%20%20%20%20%20%7D%0A%20%20%20%20%20%20%20%20%20%20%20%20%29%3B%0A%0A%20%20%20%20%20%20%20%20%20%20%20%20%0A%0A%20%20%20%20%20%20%20%20%0A%20%20%20%20%0A%20%20%20%20%20%20%20%20%20%20%20%20var%20tile_layer_5b4cc84b399d4c09b94cfd15f431a145%20%3D%20L.tileLayer%28%0A%20%20%20%20%20%20%20%20%20%20%20%20%20%20%20%20%22https%3A//%7Bs%7D.tile.openstreetmap.org/%7Bz%7D/%7Bx%7D/%7By%7D.png%22%2C%0A%20%20%20%20%20%20%20%20%20%20%20%20%20%20%20%20%7B%22attribution%22%3A%20%22Data%20by%20%5Cu0026copy%3B%20%5Cu003ca%20href%3D%5C%22http%3A//openstreetmap.org%5C%22%5Cu003eOpenStreetMap%5Cu003c/a%5Cu003e%2C%20under%20%5Cu003ca%20href%3D%5C%22http%3A//www.openstreetmap.org/copyright%5C%22%5Cu003eODbL%5Cu003c/a%5Cu003e.%22%2C%20%22detectRetina%22%3A%20false%2C%20%22maxNativeZoom%22%3A%2018%2C%20%22maxZoom%22%3A%2018%2C%20%22minZoom%22%3A%200%2C%20%22noWrap%22%3A%20false%2C%20%22opacity%22%3A%201%2C%20%22subdomains%22%3A%20%22abc%22%2C%20%22tms%22%3A%20false%7D%0A%20%20%20%20%20%20%20%20%20%20%20%20%29.addTo%28map_79e5963ec9ad4ef3b3be22d02ab40f65%29%3B%0A%20%20%20%20%20%20%20%20%0A%20%20%20%20%0A%20%20%20%20%20%20%20%20%20%20%20%20var%20heat_map_60a3b07b169a4c62b54d274d7b1523ec%20%3D%20L.heatLayer%28%0A%20%20%20%20%20%20%20%20%20%20%20%20%20%20%20%20%5B%5B43.064278%2C%20141.346785%2C%208460.0%5D%2C%20%5B40.824338%2C%20140.74008700000005%2C%201621.0%5D%2C%20%5B39.703647%2C%20141.152592%2C%201282.0%5D%2C%20%5B38.26880300000001%2C%20140.871846%2C%203209.0%5D%2C%20%5B39.718058%2C%20140.10325%2C%201364.0%5D%2C%20%5B38.240457%2C%20140.363278%2C%201910.0%5D%2C%20%5B37.749957%2C%20140.467734%2C%202374.0%5D%2C%20%5B35.689568%2C%20139.69171699999998%2C%2031044.0%5D%2C%20%5B36.34145%2C%20140.44673500000002%2C%204873.0%5D%2C%20%5B36.565689%2C%20139.883528%2C%202841.0%5D%2C%20%5B36.391192%2C%20139.060947%2C%204063.0%5D%2C%20%5B35.856907%2C%20139.648854%2C%2012739.0%5D%2C%20%5B35.604588%2C%20140.123184%2C%2010158.0%5D%2C%20%5B35.44771%2C%20139.642536%2C%2016356.0%5D%2C%20%5B37.902238%2C%20139.02353100000002%2C%203731.0%5D%2C%20%5B35.66393499999999%2C%20138.568379%2C%201143.0%5D%2C%20%5B36.65131%2C%20138.18099099999998%2C%202411.0%5D%2C%20%5B34.976906%2C%20138.383023%2C%206812.0%5D%2C%20%5B36.69519%2C%20137.211341%2C%201584.0%5D%2C%20%5B36.594652%2C%20136.625725%2C%201687.0%5D%2C%20%5B36.065244%2C%20136.221791%2C%201153.0%5D%2C%20%5B35.391199%2C%20136.72216799999998%2C%202845.0%5D%2C%20%5B35.180198%2C%20136.906739%2C%2014505.0%5D%2C%20%5B34.730268%2C%20136.508594%2C%202159.0%5D%2C%20%5B35.004394%2C%20135.868292%2C%202172.0%5D%2C%20%5B35.021279%2C%20135.755635%2C%204489.0%5D%2C%20%5B34.686394%2C%20135.519994%2C%2017484.0%5D%2C%20%5B34.691303999999995%2C%20135.182995%2C%2012145.0%5D%2C%20%5B34.685231%2C%20135.832883%2C%202415.0%5D%2C%20%5B34.225994%2C%20135.16745%2C%201918.0%5D%2C%20%5B35.503704%2C%20134.238174%2C%20942.0%5D%2C%20%5B35.472212%2C%20133.05053%2C%20858.0%5D%2C%20%5B34.661759%2C%20133.934894%2C%203782.0%5D%2C%20%5B34.396271%2C%20132.45936899999998%2C%204989.0%5D%2C%20%5B34.185859%2C%20131.471401%2C%202159.0%5D%2C%20%5B34.065728%2C%20134.559484%2C%201103.0%5D%2C%20%5B34.34016%2C%20134.04339%2C%201788.0%5D%2C%20%5B33.841646000000004%2C%20132.76610300000002%2C%202632.0%5D%2C%20%5B33.559753%2C%20133.531115%2C%201063.0%5D%2C%20%5B33.606261%2C%20130.418114%2C%2010880.0%5D%2C%20%5B33.249322%2C%20130.298799%2C%201531.0%5D%2C%20%5B32.749990000000004%2C%20129.867628%2C%201866.0%5D%2C%20%5B32.790374%2C%20130.74113400000002%2C%202944.0%5D%2C%20%5B33.238128%2C%20131.612605%2C%201548.0%5D%2C%20%5B31.910975%2C%20131.42386299999998%2C%201642.0%5D%2C%20%5B31.560185%2C%20130.55814099999998%2C%202330.0%5D%2C%20%5B26.212365%2C%20127.680975%2C%203372.0%5D%5D%2C%0A%20%20%20%20%20%20%20%20%20%20%20%20%20%20%20%20%7B%22blur%22%3A%2015%2C%20%22maxZoom%22%3A%2018%2C%20%22minOpacity%22%3A%200.5%2C%20%22radius%22%3A%2012%7D%0A%20%20%20%20%20%20%20%20%20%20%20%20%29.addTo%28map_79e5963ec9ad4ef3b3be22d02ab40f65%29%3B%0A%20%20%20%20%20%20%20%20%0A%3C/script%3E onload=\"this.contentDocument.open();this.contentDocument.write(    decodeURIComponent(this.getAttribute('data-html')));this.contentDocument.close();\" allowfullscreen webkitallowfullscreen mozallowfullscreen></iframe></div></div>"
     },
     "metadata": {}
    }
   ],
   "source": [
    "from folium.plugins import HeatMap\n",
    "\n",
    "m = folium.Map(location=[35, 140], zoom_start=4)\n",
    "m.add_child(HeatMap(df_heat, radius=12))\n",
    "display(m)"
   ]
  }
 ],
 "metadata": {
  "kernelspec": {
   "name": "python388jvsc74a57bd0e8880c58ea65068827af19aa57df99e07da1109ce0dc5e321474e5f3a08d850b",
   "display_name": "Python 3.8.8 64-bit ('ds2021': conda)"
  },
  "language_info": {
   "codemirror_mode": {
    "name": "ipython",
    "version": 3
   },
   "file_extension": ".py",
   "mimetype": "text/x-python",
   "name": "python",
   "nbconvert_exporter": "python",
   "pygments_lexer": "ipython3",
   "version": "3.8.8-final"
  },
  "metadata": {
   "interpreter": {
    "hash": "e8880c58ea65068827af19aa57df99e07da1109ce0dc5e321474e5f3a08d850b"
   }
  }
 },
 "nbformat": 4,
 "nbformat_minor": 4
}