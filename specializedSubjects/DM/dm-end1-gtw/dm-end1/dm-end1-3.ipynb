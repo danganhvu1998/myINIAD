{
 "cells": [
  {
   "cell_type": "markdown",
   "source": [
    "#### Import libraries"
   ],
   "metadata": {}
  },
  {
   "cell_type": "code",
   "execution_count": 52,
   "source": [
    "import numpy as np\n",
    "import pandas as pd"
   ],
   "outputs": [],
   "metadata": {}
  },
  {
   "cell_type": "markdown",
   "source": [
    "#### Parameters  "
   ],
   "metadata": {}
  },
  {
   "cell_type": "code",
   "execution_count": 53,
   "source": [
    "csv_in = 'dm-end1-3.csv'\n",
    "# min number of common items between target user's evaluation and items in DB\n",
    "min_common_items = 3\n",
    "\n",
    "# To show more rows and columns\n",
    "pd.options.display.max_rows = 999 \n",
    "pd.options.display.max_columns = 999 "
   ],
   "outputs": [],
   "metadata": {}
  },
  {
   "cell_type": "markdown",
   "source": [
    "#### Read CSV file  "
   ],
   "metadata": {}
  },
  {
   "cell_type": "code",
   "execution_count": 54,
   "source": [
    "df_orig = pd.read_csv(csv_in, delimiter=',', skiprows=0, header=0)\n",
    "df_orig = df_orig.replace(-1, np.nan)\n",
    "#df.index = df.columns\n",
    "print(df_orig.shape)\n",
    "print(df_orig.info())\n",
    "display(df_orig.head())"
   ],
   "outputs": [
    {
     "output_type": "stream",
     "name": "stdout",
     "text": [
      "(50, 10)\n",
      "<class 'pandas.core.frame.DataFrame'>\n",
      "RangeIndex: 50 entries, 0 to 49\n",
      "Data columns (total 10 columns):\n",
      " #   Column  Non-Null Count  Dtype  \n",
      "---  ------  --------------  -----  \n",
      " 0   A       23 non-null     float64\n",
      " 1   B       24 non-null     float64\n",
      " 2   C       23 non-null     float64\n",
      " 3   D       28 non-null     float64\n",
      " 4   E       28 non-null     float64\n",
      " 5   F       30 non-null     float64\n",
      " 6   G       25 non-null     float64\n",
      " 7   H       25 non-null     float64\n",
      " 8   I       30 non-null     float64\n",
      " 9   J       29 non-null     float64\n",
      "dtypes: float64(10)\n",
      "memory usage: 4.0 KB\n",
      "None\n"
     ]
    },
    {
     "output_type": "display_data",
     "data": {
      "text/plain": [
       "     A    B    C    D    E    F    G    H    I    J\n",
       "0  4.0  NaN  NaN  4.0  NaN  NaN  NaN  1.0  0.0  NaN\n",
       "1  NaN  NaN  NaN  3.0  4.0  0.0  1.0  NaN  2.0  3.0\n",
       "2  3.0  2.0  0.0  NaN  2.0  4.0  1.0  NaN  NaN  NaN\n",
       "3  NaN  NaN  0.0  NaN  1.0  1.0  NaN  0.0  NaN  4.0\n",
       "4  NaN  NaN  NaN  NaN  NaN  3.0  3.0  4.0  1.0  NaN"
      ],
      "text/html": [
       "<div>\n",
       "<style scoped>\n",
       "    .dataframe tbody tr th:only-of-type {\n",
       "        vertical-align: middle;\n",
       "    }\n",
       "\n",
       "    .dataframe tbody tr th {\n",
       "        vertical-align: top;\n",
       "    }\n",
       "\n",
       "    .dataframe thead th {\n",
       "        text-align: right;\n",
       "    }\n",
       "</style>\n",
       "<table border=\"1\" class=\"dataframe\">\n",
       "  <thead>\n",
       "    <tr style=\"text-align: right;\">\n",
       "      <th></th>\n",
       "      <th>A</th>\n",
       "      <th>B</th>\n",
       "      <th>C</th>\n",
       "      <th>D</th>\n",
       "      <th>E</th>\n",
       "      <th>F</th>\n",
       "      <th>G</th>\n",
       "      <th>H</th>\n",
       "      <th>I</th>\n",
       "      <th>J</th>\n",
       "    </tr>\n",
       "  </thead>\n",
       "  <tbody>\n",
       "    <tr>\n",
       "      <th>0</th>\n",
       "      <td>4.0</td>\n",
       "      <td>NaN</td>\n",
       "      <td>NaN</td>\n",
       "      <td>4.0</td>\n",
       "      <td>NaN</td>\n",
       "      <td>NaN</td>\n",
       "      <td>NaN</td>\n",
       "      <td>1.0</td>\n",
       "      <td>0.0</td>\n",
       "      <td>NaN</td>\n",
       "    </tr>\n",
       "    <tr>\n",
       "      <th>1</th>\n",
       "      <td>NaN</td>\n",
       "      <td>NaN</td>\n",
       "      <td>NaN</td>\n",
       "      <td>3.0</td>\n",
       "      <td>4.0</td>\n",
       "      <td>0.0</td>\n",
       "      <td>1.0</td>\n",
       "      <td>NaN</td>\n",
       "      <td>2.0</td>\n",
       "      <td>3.0</td>\n",
       "    </tr>\n",
       "    <tr>\n",
       "      <th>2</th>\n",
       "      <td>3.0</td>\n",
       "      <td>2.0</td>\n",
       "      <td>0.0</td>\n",
       "      <td>NaN</td>\n",
       "      <td>2.0</td>\n",
       "      <td>4.0</td>\n",
       "      <td>1.0</td>\n",
       "      <td>NaN</td>\n",
       "      <td>NaN</td>\n",
       "      <td>NaN</td>\n",
       "    </tr>\n",
       "    <tr>\n",
       "      <th>3</th>\n",
       "      <td>NaN</td>\n",
       "      <td>NaN</td>\n",
       "      <td>0.0</td>\n",
       "      <td>NaN</td>\n",
       "      <td>1.0</td>\n",
       "      <td>1.0</td>\n",
       "      <td>NaN</td>\n",
       "      <td>0.0</td>\n",
       "      <td>NaN</td>\n",
       "      <td>4.0</td>\n",
       "    </tr>\n",
       "    <tr>\n",
       "      <th>4</th>\n",
       "      <td>NaN</td>\n",
       "      <td>NaN</td>\n",
       "      <td>NaN</td>\n",
       "      <td>NaN</td>\n",
       "      <td>NaN</td>\n",
       "      <td>3.0</td>\n",
       "      <td>3.0</td>\n",
       "      <td>4.0</td>\n",
       "      <td>1.0</td>\n",
       "      <td>NaN</td>\n",
       "    </tr>\n",
       "  </tbody>\n",
       "</table>\n",
       "</div>"
      ]
     },
     "metadata": {}
    }
   ],
   "metadata": {}
  },
  {
   "cell_type": "markdown",
   "source": [
    "相関行列を計算し、dfに格納   \n",
    "compute correlation matrix and store it to the DataFrame df\n"
   ],
   "metadata": {}
  },
  {
   "cell_type": "code",
   "execution_count": 55,
   "source": [
    "df = df_orig.corr()\n",
    "print(df.shape)\n",
    "print(df)"
   ],
   "outputs": [
    {
     "output_type": "stream",
     "name": "stdout",
     "text": [
      "(10, 10)\n",
      "          A         B         C         D         E         F         G  \\\n",
      "A  1.000000  0.000000 -0.346348  0.124781 -0.127381  0.315885  0.253388   \n",
      "B  0.000000  1.000000 -0.063112  0.103448 -0.297775  0.205456 -0.319334   \n",
      "C -0.346348 -0.063112  1.000000 -0.477567  0.376275 -0.342410 -0.050043   \n",
      "D  0.124781  0.103448 -0.477567  1.000000 -0.102489  0.062943 -0.023618   \n",
      "E -0.127381 -0.297775  0.376275 -0.102489  1.000000 -0.348724 -0.316176   \n",
      "F  0.315885  0.205456 -0.342410  0.062943 -0.348724  1.000000  0.325913   \n",
      "G  0.253388 -0.319334 -0.050043 -0.023618 -0.316176  0.325913  1.000000   \n",
      "H -0.113151 -0.017153 -0.159901  0.042618  0.295820  0.053822  0.191237   \n",
      "I -0.230590  0.220950 -0.436306  0.159281 -0.380018 -0.026504 -0.172030   \n",
      "J  0.521481  0.441975 -0.593291  0.364450  0.011155 -0.031490  0.409010   \n",
      "\n",
      "          H         I         J  \n",
      "A -0.113151 -0.230590  0.521481  \n",
      "B -0.017153  0.220950  0.441975  \n",
      "C -0.159901 -0.436306 -0.593291  \n",
      "D  0.042618  0.159281  0.364450  \n",
      "E  0.295820 -0.380018  0.011155  \n",
      "F  0.053822 -0.026504 -0.031490  \n",
      "G  0.191237 -0.172030  0.409010  \n",
      "H  1.000000  0.300123  0.532423  \n",
      "I  0.300123  1.000000 -0.132229  \n",
      "J  0.532423 -0.132229  1.000000  \n"
     ]
    }
   ],
   "metadata": {}
  },
  {
   "cell_type": "code",
   "execution_count": 56,
   "source": [
    "def predict_scores(df_sim, ser_target):\n",
    "    ret = {}\n",
    "    for item1 in df_sim.index:  # not yet rated by the target user\n",
    "        v1 = df_sim.loc[item1]\n",
    "        #if v1.isnull().sum() > 0:  # debug\n",
    "        #    print('v1:',v1)  # debug\n",
    "        if v1.notnull().sum() < min_common_items: continue\n",
    "        v11 = v1[ v1.notnull() ]\n",
    "        t11 = ser_target[ v1.notnull() ]\n",
    "        pred1 = (v11 * t11).sum() / np.abs(v11).sum()\n",
    "        #print('v11:',v11)  # debug\n",
    "        #print('t11:',t11)  # debug\n",
    "        #print('pred1:',pred1)  # debug\n",
    "        ret[item1] = pred1\n",
    "    \n",
    "    ser_ret = pd.Series(ret)\n",
    "    \n",
    "    return ser_ret.sort_values(ascending=False)"
   ],
   "outputs": [],
   "metadata": {}
  },
  {
   "cell_type": "markdown",
   "source": [
    "Function for user-based collaborative filtering.  \n",
    "\n",
    "arguments: dictionary of scores for the target user  \n",
    "and the number of items to recommend.  \n",
    "\n",
    "ex)\n",
    "```\n",
    "get_recomm_by_user_sim(df, {'maguro':1, 'ika':1, 'uni':3,\n",
    "                        'awabi':4, 'hirame':4, 'aoyagi':4})  \n",
    "```\n",
    "-> return list such as [('akagai', 2.9835603009918303), ('mirugai', 2.945676429588114), ...]"
   ],
   "metadata": {}
  },
  {
   "cell_type": "code",
   "execution_count": 57,
   "source": [
    "def get_recomm_by_item_sim(df, target_dic):\n",
    "    ser_target = pd.Series(target_dic)\n",
    "    #print(target_dic)  # debug\n",
    "    #print(ser_target)  # debug\n",
    "    # make dataframe with columns included in target_dic\n",
    "    #print(df.shape)  # debug\n",
    "    df_scores = df[ ser_target.index ]\n",
    "    #print(df_scores.shape)  # debug\n",
    "    # drop rows included in target_dic (already rated)\n",
    "    df_scores = df_scores.drop(index=ser_target.index)\n",
    "    #print(df_scores.shape)  # debug\n",
    "    #display(df_scores.head())  # debug\n",
    "    recomm = predict_scores(df_scores, ser_target)\n",
    "    \n",
    "    return recomm"
   ],
   "outputs": [],
   "metadata": {}
  },
  {
   "cell_type": "markdown",
   "source": [
    "#### Do recommendation  "
   ],
   "metadata": {}
  },
  {
   "cell_type": "code",
   "execution_count": 58,
   "source": [
    "recomm = get_recomm_by_item_sim(df,\n",
    "                                {'A':0, 'B':0, 'C':4, 'D': 4})\n",
    "print('Number of items calculated:', len(recomm))\n",
    "print('Recommendation:')\n",
    "print(recomm.head())"
   ],
   "outputs": [
    {
     "output_type": "stream",
     "name": "stdout",
     "text": [
      "Number of items calculated: 6\n",
      "Recommendation:\n",
      "E    1.211548\n",
      "G   -0.455837\n",
      "J   -0.476453\n",
      "I   -1.058230\n",
      "F   -1.206297\n",
      "dtype: float64\n"
     ]
    }
   ],
   "metadata": {}
  },
  {
   "cell_type": "code",
   "execution_count": null,
   "source": [],
   "outputs": [],
   "metadata": {}
  }
 ],
 "metadata": {
  "kernelspec": {
   "display_name": "Python 3",
   "language": "python",
   "name": "python3"
  },
  "language_info": {
   "codemirror_mode": {
    "name": "ipython",
    "version": 3
   },
   "file_extension": ".py",
   "mimetype": "text/x-python",
   "name": "python",
   "nbconvert_exporter": "python",
   "pygments_lexer": "ipython3",
   "version": "3.8.8"
  }
 },
 "nbformat": 4,
 "nbformat_minor": 4
}