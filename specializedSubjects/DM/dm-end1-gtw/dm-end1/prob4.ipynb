{
 "cells": [
  {
   "cell_type": "markdown",
   "source": [
    "### dm-11-practice2  "
   ],
   "metadata": {}
  },
  {
   "cell_type": "markdown",
   "source": [
    "#### Import libraries  "
   ],
   "metadata": {}
  },
  {
   "cell_type": "code",
   "execution_count": 1,
   "source": [
    "import pandas as pd\n",
    "import pyfpgrowth  # https://fp-growth.readthedocs.io/en/latest/"
   ],
   "outputs": [],
   "metadata": {}
  },
  {
   "cell_type": "markdown",
   "source": [
    "#### Parameters  "
   ],
   "metadata": {}
  },
  {
   "cell_type": "code",
   "execution_count": 2,
   "source": [
    "csv_in = 'dm-end1-4.csv'"
   ],
   "outputs": [],
   "metadata": {}
  },
  {
   "cell_type": "markdown",
   "source": [
    "#### Read CSV file  "
   ],
   "metadata": {}
  },
  {
   "cell_type": "code",
   "execution_count": 3,
   "source": [
    "df = pd.read_csv(csv_in, delimiter=',', skiprows=0, header=0)\n",
    "print(df.shape)\n",
    "print(df.info())\n",
    "display(df.head())"
   ],
   "outputs": [
    {
     "output_type": "stream",
     "name": "stdout",
     "text": [
      "(1000, 2)\n",
      "<class 'pandas.core.frame.DataFrame'>\n",
      "RangeIndex: 1000 entries, 0 to 999\n",
      "Data columns (total 2 columns):\n",
      " #   Column   Non-Null Count  Dtype \n",
      "---  ------   --------------  ----- \n",
      " 0   Invoice  1000 non-null   object\n",
      " 1   Item     1000 non-null   int64 \n",
      "dtypes: int64(1), object(1)\n",
      "memory usage: 15.8+ KB\n",
      "None\n"
     ]
    },
    {
     "output_type": "display_data",
     "data": {
      "text/plain": [
       "  Invoice  Item\n",
       "0   T1018   173\n",
       "1   T1098   109\n",
       "2   T1033   116\n",
       "3   T1064   198\n",
       "4   T1058   161"
      ],
      "text/html": [
       "<div>\n",
       "<style scoped>\n",
       "    .dataframe tbody tr th:only-of-type {\n",
       "        vertical-align: middle;\n",
       "    }\n",
       "\n",
       "    .dataframe tbody tr th {\n",
       "        vertical-align: top;\n",
       "    }\n",
       "\n",
       "    .dataframe thead th {\n",
       "        text-align: right;\n",
       "    }\n",
       "</style>\n",
       "<table border=\"1\" class=\"dataframe\">\n",
       "  <thead>\n",
       "    <tr style=\"text-align: right;\">\n",
       "      <th></th>\n",
       "      <th>Invoice</th>\n",
       "      <th>Item</th>\n",
       "    </tr>\n",
       "  </thead>\n",
       "  <tbody>\n",
       "    <tr>\n",
       "      <th>0</th>\n",
       "      <td>T1018</td>\n",
       "      <td>173</td>\n",
       "    </tr>\n",
       "    <tr>\n",
       "      <th>1</th>\n",
       "      <td>T1098</td>\n",
       "      <td>109</td>\n",
       "    </tr>\n",
       "    <tr>\n",
       "      <th>2</th>\n",
       "      <td>T1033</td>\n",
       "      <td>116</td>\n",
       "    </tr>\n",
       "    <tr>\n",
       "      <th>3</th>\n",
       "      <td>T1064</td>\n",
       "      <td>198</td>\n",
       "    </tr>\n",
       "    <tr>\n",
       "      <th>4</th>\n",
       "      <td>T1058</td>\n",
       "      <td>161</td>\n",
       "    </tr>\n",
       "  </tbody>\n",
       "</table>\n",
       "</div>"
      ]
     },
     "metadata": {}
    }
   ],
   "metadata": {}
  },
  {
   "cell_type": "markdown",
   "source": [
    "#### Check appearance of each StockCode  "
   ],
   "metadata": {}
  },
  {
   "cell_type": "code",
   "execution_count": 4,
   "source": [
    "top_inv = df['Invoice'].value_counts()\n",
    "print(top_inv.size)\n",
    "print(top_inv.head())"
   ],
   "outputs": [
    {
     "output_type": "stream",
     "name": "stdout",
     "text": [
      "101\n",
      "T1068    17\n",
      "T1093    16\n",
      "T1070    16\n",
      "T1017    16\n",
      "T1090    16\n",
      "Name: Invoice, dtype: int64\n"
     ]
    }
   ],
   "metadata": {}
  },
  {
   "cell_type": "code",
   "execution_count": 5,
   "source": [
    "top_sc = df['Item'].value_counts()\n",
    "print(top_sc.size)\n",
    "print(top_sc.head())"
   ],
   "outputs": [
    {
     "output_type": "stream",
     "name": "stdout",
     "text": [
      "99\n",
      "135    21\n",
      "133    20\n",
      "166    17\n",
      "169    16\n",
      "188    16\n",
      "Name: Item, dtype: int64\n"
     ]
    }
   ],
   "metadata": {}
  },
  {
   "cell_type": "markdown",
   "source": [
    "#### Format transaction data  \n",
    "Before:  \n",
    "```\n",
    "invoice1, stockcode1, ...  \n",
    "invoice1, stockcode2, ...  \n",
    "invoice2, stockcode1, ...  \n",
    "invoice3, stockcode1, ...  \n",
    "invoice3, stockcode3, ...  \n",
    "```\n",
    "\n",
    "After:  \n",
    "```\n",
    "[  \n",
    "  [stockcode1, stockcode2],    \n",
    "  [stockcode1],  \n",
    "  [stockcode1, stockcode3],  \n",
    "  ...  \n",
    "]  \n",
    "```\n",
    "\n",
    "and stockcode should be interger.  "
   ],
   "metadata": {}
  },
  {
   "cell_type": "markdown",
   "source": [
    "#### Grouping transaction data by InvoiceNo  "
   ],
   "metadata": {}
  },
  {
   "cell_type": "code",
   "execution_count": 6,
   "source": [
    "invoices = []\n",
    "for r in df.groupby('Invoice'):\n",
    "    s1 = set(r[1]['Item'])\n",
    "    invoices.append(list(s1))\n",
    "print(len(invoices))\n",
    "print(invoices[:3])"
   ],
   "outputs": [
    {
     "output_type": "stream",
     "name": "stdout",
     "text": [
      "101\n",
      "[[162, 169, 187, 112, 116, 150, 123, 190], [196, 197, 166, 169, 170, 138, 172, 112, 145, 149, 183], [162, 197, 133, 104, 140, 142, 112, 182, 153]]\n"
     ]
    }
   ],
   "metadata": {}
  },
  {
   "cell_type": "markdown",
   "source": [
    "#### Market Basket Analysis by FP-Growth  "
   ],
   "metadata": {}
  },
  {
   "cell_type": "code",
   "execution_count": 7,
   "source": [
    "%time patterns = pyfpgrowth.find_frequent_patterns(invoices, 5)"
   ],
   "outputs": [
    {
     "output_type": "stream",
     "name": "stdout",
     "text": [
      "CPU times: user 5.58 ms, sys: 1.12 ms, total: 6.71 ms\n",
      "Wall time: 6.61 ms\n"
     ]
    }
   ],
   "metadata": {}
  },
  {
   "cell_type": "code",
   "execution_count": 8,
   "source": [
    "#print(patterns)"
   ],
   "outputs": [],
   "metadata": {}
  },
  {
   "cell_type": "code",
   "execution_count": 9,
   "source": [
    "%time rules = pyfpgrowth.generate_association_rules(patterns, 0.3)"
   ],
   "outputs": [
    {
     "output_type": "stream",
     "name": "stdout",
     "text": [
      "CPU times: user 133 µs, sys: 0 ns, total: 133 µs\n",
      "Wall time: 138 µs\n"
     ]
    }
   ],
   "metadata": {}
  },
  {
   "cell_type": "code",
   "execution_count": 10,
   "source": [
    "print(rules)"
   ],
   "outputs": [
    {
     "output_type": "stream",
     "name": "stdout",
     "text": [
      "{(149,): ((169,), 0.5555555555555556), (169,): ((149,), 0.35714285714285715), (142,): ((133,), 0.5555555555555556), (136,): ((135,), 0.5555555555555556), (111,): ((196,), 0.5555555555555556), (196,): ((133,), 0.3333333333333333), (162,): ((182,), 0.45454545454545453), (113,): ((182,), 0.4166666666666667), (166,): ((171,), 0.35294117647058826), (171,): ((166,), 0.6), (144,): ((152,), 0.35714285714285715), (152,): ((144,), 0.45454545454545453), (135,): ((138,), 0.3), (138,): ((135,), 0.5), (187,): ((133,), 0.38461538461538464), (188,): ((135,), 0.3333333333333333)}\n"
     ]
    }
   ],
   "metadata": {}
  },
  {
   "cell_type": "code",
   "execution_count": 11,
   "source": [
    "results = []\n",
    "for x in rules:\n",
    "    ret = [x, rules[x][0], rules[x][1]]\n",
    "    results.append(ret)\n",
    "df_res = pd.DataFrame(results)\n",
    "df_res.columns = ['LHS', 'RHS', 'Conf']"
   ],
   "outputs": [],
   "metadata": {}
  },
  {
   "cell_type": "code",
   "execution_count": 12,
   "source": [
    "display(df_res.sort_values(by='Conf', ascending=False))"
   ],
   "outputs": [
    {
     "output_type": "display_data",
     "data": {
      "text/plain": [
       "       LHS     RHS      Conf\n",
       "9   (171,)  (166,)  0.600000\n",
       "0   (149,)  (169,)  0.555556\n",
       "2   (142,)  (133,)  0.555556\n",
       "3   (136,)  (135,)  0.555556\n",
       "4   (111,)  (196,)  0.555556\n",
       "13  (138,)  (135,)  0.500000\n",
       "6   (162,)  (182,)  0.454545\n",
       "11  (152,)  (144,)  0.454545\n",
       "7   (113,)  (182,)  0.416667\n",
       "14  (187,)  (133,)  0.384615\n",
       "1   (169,)  (149,)  0.357143\n",
       "10  (144,)  (152,)  0.357143\n",
       "8   (166,)  (171,)  0.352941\n",
       "5   (196,)  (133,)  0.333333\n",
       "15  (188,)  (135,)  0.333333\n",
       "12  (135,)  (138,)  0.300000"
      ],
      "text/html": [
       "<div>\n",
       "<style scoped>\n",
       "    .dataframe tbody tr th:only-of-type {\n",
       "        vertical-align: middle;\n",
       "    }\n",
       "\n",
       "    .dataframe tbody tr th {\n",
       "        vertical-align: top;\n",
       "    }\n",
       "\n",
       "    .dataframe thead th {\n",
       "        text-align: right;\n",
       "    }\n",
       "</style>\n",
       "<table border=\"1\" class=\"dataframe\">\n",
       "  <thead>\n",
       "    <tr style=\"text-align: right;\">\n",
       "      <th></th>\n",
       "      <th>LHS</th>\n",
       "      <th>RHS</th>\n",
       "      <th>Conf</th>\n",
       "    </tr>\n",
       "  </thead>\n",
       "  <tbody>\n",
       "    <tr>\n",
       "      <th>9</th>\n",
       "      <td>(171,)</td>\n",
       "      <td>(166,)</td>\n",
       "      <td>0.600000</td>\n",
       "    </tr>\n",
       "    <tr>\n",
       "      <th>0</th>\n",
       "      <td>(149,)</td>\n",
       "      <td>(169,)</td>\n",
       "      <td>0.555556</td>\n",
       "    </tr>\n",
       "    <tr>\n",
       "      <th>2</th>\n",
       "      <td>(142,)</td>\n",
       "      <td>(133,)</td>\n",
       "      <td>0.555556</td>\n",
       "    </tr>\n",
       "    <tr>\n",
       "      <th>3</th>\n",
       "      <td>(136,)</td>\n",
       "      <td>(135,)</td>\n",
       "      <td>0.555556</td>\n",
       "    </tr>\n",
       "    <tr>\n",
       "      <th>4</th>\n",
       "      <td>(111,)</td>\n",
       "      <td>(196,)</td>\n",
       "      <td>0.555556</td>\n",
       "    </tr>\n",
       "    <tr>\n",
       "      <th>13</th>\n",
       "      <td>(138,)</td>\n",
       "      <td>(135,)</td>\n",
       "      <td>0.500000</td>\n",
       "    </tr>\n",
       "    <tr>\n",
       "      <th>6</th>\n",
       "      <td>(162,)</td>\n",
       "      <td>(182,)</td>\n",
       "      <td>0.454545</td>\n",
       "    </tr>\n",
       "    <tr>\n",
       "      <th>11</th>\n",
       "      <td>(152,)</td>\n",
       "      <td>(144,)</td>\n",
       "      <td>0.454545</td>\n",
       "    </tr>\n",
       "    <tr>\n",
       "      <th>7</th>\n",
       "      <td>(113,)</td>\n",
       "      <td>(182,)</td>\n",
       "      <td>0.416667</td>\n",
       "    </tr>\n",
       "    <tr>\n",
       "      <th>14</th>\n",
       "      <td>(187,)</td>\n",
       "      <td>(133,)</td>\n",
       "      <td>0.384615</td>\n",
       "    </tr>\n",
       "    <tr>\n",
       "      <th>1</th>\n",
       "      <td>(169,)</td>\n",
       "      <td>(149,)</td>\n",
       "      <td>0.357143</td>\n",
       "    </tr>\n",
       "    <tr>\n",
       "      <th>10</th>\n",
       "      <td>(144,)</td>\n",
       "      <td>(152,)</td>\n",
       "      <td>0.357143</td>\n",
       "    </tr>\n",
       "    <tr>\n",
       "      <th>8</th>\n",
       "      <td>(166,)</td>\n",
       "      <td>(171,)</td>\n",
       "      <td>0.352941</td>\n",
       "    </tr>\n",
       "    <tr>\n",
       "      <th>5</th>\n",
       "      <td>(196,)</td>\n",
       "      <td>(133,)</td>\n",
       "      <td>0.333333</td>\n",
       "    </tr>\n",
       "    <tr>\n",
       "      <th>15</th>\n",
       "      <td>(188,)</td>\n",
       "      <td>(135,)</td>\n",
       "      <td>0.333333</td>\n",
       "    </tr>\n",
       "    <tr>\n",
       "      <th>12</th>\n",
       "      <td>(135,)</td>\n",
       "      <td>(138,)</td>\n",
       "      <td>0.300000</td>\n",
       "    </tr>\n",
       "  </tbody>\n",
       "</table>\n",
       "</div>"
      ]
     },
     "metadata": {}
    }
   ],
   "metadata": {}
  },
  {
   "cell_type": "markdown",
   "source": [
    "#### Calculation of Lift  "
   ],
   "metadata": {}
  },
  {
   "cell_type": "code",
   "execution_count": 13,
   "source": [
    "n_all = len(invoices)\n",
    "lift = []\n",
    "for i in range(df_res.shape[0]):\n",
    "    rhs = df_res.at[i, 'RHS']\n",
    "    conf = df_res.at[i, 'Conf']\n",
    "    n_rhs = 0\n",
    "    for items in invoices:\n",
    "        if set(items) >= set(rhs):\n",
    "            n_rhs += 1\n",
    "    lift1 = conf / (n_rhs / n_all)\n",
    "    lift.append(lift1)\n",
    "    \n",
    "df_res['Lift'] = lift"
   ],
   "outputs": [],
   "metadata": {}
  },
  {
   "cell_type": "code",
   "execution_count": 14,
   "source": [
    "display(df_res.sort_values(by='Conf', ascending=False))"
   ],
   "outputs": [
    {
     "output_type": "display_data",
     "data": {
      "text/plain": [
       "       LHS     RHS      Conf      Lift\n",
       "9   (171,)  (166,)  0.600000  3.564706\n",
       "0   (149,)  (169,)  0.555556  4.007937\n",
       "2   (142,)  (133,)  0.555556  3.300654\n",
       "3   (136,)  (135,)  0.555556  2.805556\n",
       "4   (111,)  (196,)  0.555556  3.740741\n",
       "13  (138,)  (135,)  0.500000  2.525000\n",
       "6   (162,)  (182,)  0.454545  4.590909\n",
       "11  (152,)  (144,)  0.454545  3.279221\n",
       "7   (113,)  (182,)  0.416667  4.208333\n",
       "14  (187,)  (133,)  0.384615  2.285068\n",
       "1   (169,)  (149,)  0.357143  4.007937\n",
       "10  (144,)  (152,)  0.357143  3.279221\n",
       "8   (166,)  (171,)  0.352941  3.564706\n",
       "5   (196,)  (133,)  0.333333  1.980392\n",
       "15  (188,)  (135,)  0.333333  1.683333\n",
       "12  (135,)  (138,)  0.300000  2.525000"
      ],
      "text/html": [
       "<div>\n",
       "<style scoped>\n",
       "    .dataframe tbody tr th:only-of-type {\n",
       "        vertical-align: middle;\n",
       "    }\n",
       "\n",
       "    .dataframe tbody tr th {\n",
       "        vertical-align: top;\n",
       "    }\n",
       "\n",
       "    .dataframe thead th {\n",
       "        text-align: right;\n",
       "    }\n",
       "</style>\n",
       "<table border=\"1\" class=\"dataframe\">\n",
       "  <thead>\n",
       "    <tr style=\"text-align: right;\">\n",
       "      <th></th>\n",
       "      <th>LHS</th>\n",
       "      <th>RHS</th>\n",
       "      <th>Conf</th>\n",
       "      <th>Lift</th>\n",
       "    </tr>\n",
       "  </thead>\n",
       "  <tbody>\n",
       "    <tr>\n",
       "      <th>9</th>\n",
       "      <td>(171,)</td>\n",
       "      <td>(166,)</td>\n",
       "      <td>0.600000</td>\n",
       "      <td>3.564706</td>\n",
       "    </tr>\n",
       "    <tr>\n",
       "      <th>0</th>\n",
       "      <td>(149,)</td>\n",
       "      <td>(169,)</td>\n",
       "      <td>0.555556</td>\n",
       "      <td>4.007937</td>\n",
       "    </tr>\n",
       "    <tr>\n",
       "      <th>2</th>\n",
       "      <td>(142,)</td>\n",
       "      <td>(133,)</td>\n",
       "      <td>0.555556</td>\n",
       "      <td>3.300654</td>\n",
       "    </tr>\n",
       "    <tr>\n",
       "      <th>3</th>\n",
       "      <td>(136,)</td>\n",
       "      <td>(135,)</td>\n",
       "      <td>0.555556</td>\n",
       "      <td>2.805556</td>\n",
       "    </tr>\n",
       "    <tr>\n",
       "      <th>4</th>\n",
       "      <td>(111,)</td>\n",
       "      <td>(196,)</td>\n",
       "      <td>0.555556</td>\n",
       "      <td>3.740741</td>\n",
       "    </tr>\n",
       "    <tr>\n",
       "      <th>13</th>\n",
       "      <td>(138,)</td>\n",
       "      <td>(135,)</td>\n",
       "      <td>0.500000</td>\n",
       "      <td>2.525000</td>\n",
       "    </tr>\n",
       "    <tr>\n",
       "      <th>6</th>\n",
       "      <td>(162,)</td>\n",
       "      <td>(182,)</td>\n",
       "      <td>0.454545</td>\n",
       "      <td>4.590909</td>\n",
       "    </tr>\n",
       "    <tr>\n",
       "      <th>11</th>\n",
       "      <td>(152,)</td>\n",
       "      <td>(144,)</td>\n",
       "      <td>0.454545</td>\n",
       "      <td>3.279221</td>\n",
       "    </tr>\n",
       "    <tr>\n",
       "      <th>7</th>\n",
       "      <td>(113,)</td>\n",
       "      <td>(182,)</td>\n",
       "      <td>0.416667</td>\n",
       "      <td>4.208333</td>\n",
       "    </tr>\n",
       "    <tr>\n",
       "      <th>14</th>\n",
       "      <td>(187,)</td>\n",
       "      <td>(133,)</td>\n",
       "      <td>0.384615</td>\n",
       "      <td>2.285068</td>\n",
       "    </tr>\n",
       "    <tr>\n",
       "      <th>1</th>\n",
       "      <td>(169,)</td>\n",
       "      <td>(149,)</td>\n",
       "      <td>0.357143</td>\n",
       "      <td>4.007937</td>\n",
       "    </tr>\n",
       "    <tr>\n",
       "      <th>10</th>\n",
       "      <td>(144,)</td>\n",
       "      <td>(152,)</td>\n",
       "      <td>0.357143</td>\n",
       "      <td>3.279221</td>\n",
       "    </tr>\n",
       "    <tr>\n",
       "      <th>8</th>\n",
       "      <td>(166,)</td>\n",
       "      <td>(171,)</td>\n",
       "      <td>0.352941</td>\n",
       "      <td>3.564706</td>\n",
       "    </tr>\n",
       "    <tr>\n",
       "      <th>5</th>\n",
       "      <td>(196,)</td>\n",
       "      <td>(133,)</td>\n",
       "      <td>0.333333</td>\n",
       "      <td>1.980392</td>\n",
       "    </tr>\n",
       "    <tr>\n",
       "      <th>15</th>\n",
       "      <td>(188,)</td>\n",
       "      <td>(135,)</td>\n",
       "      <td>0.333333</td>\n",
       "      <td>1.683333</td>\n",
       "    </tr>\n",
       "    <tr>\n",
       "      <th>12</th>\n",
       "      <td>(135,)</td>\n",
       "      <td>(138,)</td>\n",
       "      <td>0.300000</td>\n",
       "      <td>2.525000</td>\n",
       "    </tr>\n",
       "  </tbody>\n",
       "</table>\n",
       "</div>"
      ]
     },
     "metadata": {}
    }
   ],
   "metadata": {}
  },
  {
   "cell_type": "code",
   "execution_count": 15,
   "source": [
    "print( df_res.loc[ df_res['Conf'].idxmax() ])\n",
    "print( df_res.loc[ df_res['Lift'].idxmax() ])"
   ],
   "outputs": [
    {
     "output_type": "stream",
     "name": "stdout",
     "text": [
      "LHS       (171,)\n",
      "RHS       (166,)\n",
      "Conf         0.6\n",
      "Lift    3.564706\n",
      "Name: 9, dtype: object\n",
      "LHS       (162,)\n",
      "RHS       (182,)\n",
      "Conf    0.454545\n",
      "Lift    4.590909\n",
      "Name: 6, dtype: object\n"
     ]
    }
   ],
   "metadata": {}
  },
  {
   "cell_type": "markdown",
   "source": [
    "**Ans.  \n",
    "Max Conf: 0.83, LHS: 1 and 9, RHS: 3  \n",
    "Max Lift: 0.78, LHS: 3 and 6, RHS: 1**"
   ],
   "metadata": {}
  }
 ],
 "metadata": {
  "kernelspec": {
   "display_name": "Python 3",
   "language": "python",
   "name": "python3"
  },
  "language_info": {
   "codemirror_mode": {
    "name": "ipython",
    "version": 3
   },
   "file_extension": ".py",
   "mimetype": "text/x-python",
   "name": "python",
   "nbconvert_exporter": "python",
   "pygments_lexer": "ipython3",
   "version": "3.8.8"
  }
 },
 "nbformat": 4,
 "nbformat_minor": 4
}