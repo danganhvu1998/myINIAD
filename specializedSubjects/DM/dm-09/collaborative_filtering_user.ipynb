{
 "cells": [
  {
   "cell_type": "markdown",
   "metadata": {},
   "source": [
    "### Sample script for user-based collaborative filtering  "
   ]
  },
  {
   "cell_type": "markdown",
   "metadata": {},
   "source": [
    "#### Import libraries"
   ]
  },
  {
   "cell_type": "code",
   "execution_count": 28,
   "metadata": {},
   "outputs": [],
   "source": [
    "import numpy as np\n",
    "import pandas as pd"
   ]
  },
  {
   "cell_type": "markdown",
   "metadata": {},
   "source": [
    "#### Parameters  "
   ]
  },
  {
   "cell_type": "code",
   "execution_count": 29,
   "metadata": {},
   "outputs": [],
   "source": [
    "csv_in = 'sushi3b.5000.10.score.csv'\n",
    "# min number of common items between target user and users in DB\n",
    "min_common_items = 4\n",
    "# min number of users who evaluated an item to be recommended\n",
    "min_eval_users = 3\n",
    "\n",
    "# To show more rows and columns\n",
    "pd.options.display.max_rows = 999 \n",
    "pd.options.display.max_columns = 999 "
   ]
  },
  {
   "cell_type": "markdown",
   "metadata": {},
   "source": [
    "#### Read CSV file  "
   ]
  },
  {
   "cell_type": "code",
   "execution_count": 30,
   "metadata": {},
   "outputs": [
    {
     "output_type": "stream",
     "name": "stdout",
     "text": [
      "(5000, 100)\n<class 'pandas.core.frame.DataFrame'>\nRangeIndex: 5000 entries, 0 to 4999\nData columns (total 100 columns):\n #   Column          Non-Null Count  Dtype\n---  ------          --------------  -----\n 0   ebi             5000 non-null   int64\n 1   anago           5000 non-null   int64\n 2   maguro          5000 non-null   int64\n 3   ika             5000 non-null   int64\n 4   uni             5000 non-null   int64\n 5   tako            5000 non-null   int64\n 6   ikura           5000 non-null   int64\n 7   tamago          5000 non-null   int64\n 8   toro            5000 non-null   int64\n 9   amaebi          5000 non-null   int64\n 10  hotategai       5000 non-null   int64\n 11  tai             5000 non-null   int64\n 12  akagai          5000 non-null   int64\n 13  hamachi         5000 non-null   int64\n 14  awabi           5000 non-null   int64\n 15  samon           5000 non-null   int64\n 16  kazunoko        5000 non-null   int64\n 17  shako           5000 non-null   int64\n 18  saba            5000 non-null   int64\n 19  chu_toro        5000 non-null   int64\n 20  hirame          5000 non-null   int64\n 21  aji             5000 non-null   int64\n 22  kani            5000 non-null   int64\n 23  kohada          5000 non-null   int64\n 24  torigai         5000 non-null   int64\n 25  unagi           5000 non-null   int64\n 26  tekka_maki      5000 non-null   int64\n 27  kanpachi        5000 non-null   int64\n 28  mirugai         5000 non-null   int64\n 29  kappa_maki      5000 non-null   int64\n 30  geso            5000 non-null   int64\n 31  katsuo          5000 non-null   int64\n 32  iwashi          5000 non-null   int64\n 33  hokkigai        5000 non-null   int64\n 34  shimaaji        5000 non-null   int64\n 35  kanimiso        5000 non-null   int64\n 36  engawa          5000 non-null   int64\n 37  negi_toro       5000 non-null   int64\n 38  nattou_maki     5000 non-null   int64\n 39  sayori          5000 non-null   int64\n 40  takuwan_maki    5000 non-null   int64\n 41  botanebi        5000 non-null   int64\n 42  tobiko          5000 non-null   int64\n 43  inari           5000 non-null   int64\n 44  mentaiko        5000 non-null   int64\n 45  sarada          5000 non-null   int64\n 46  suzuki          5000 non-null   int64\n 47  tarabagani      5000 non-null   int64\n 48  ume_shiso_maki  5000 non-null   int64\n 49  komochi_konbu   5000 non-null   int64\n 50  tarako          5000 non-null   int64\n 51  sazae           5000 non-null   int64\n 52  aoyagi          5000 non-null   int64\n 53  toro_samon      5000 non-null   int64\n 54  sanma           5000 non-null   int64\n 55  hamo            5000 non-null   int64\n 56  nasu            5000 non-null   int64\n 57  shirauo         5000 non-null   int64\n 58  nattou          5000 non-null   int64\n 59  ankimo          5000 non-null   int64\n 60  kanpyo_maki     5000 non-null   int64\n 61  negi_toro_maki  5000 non-null   int64\n 62  gyusashi        5000 non-null   int64\n 63  hamaguri        5000 non-null   int64\n 64  basashi         5000 non-null   int64\n 65  fugu            5000 non-null   int64\n 66  tsubugai        5000 non-null   int64\n 67  ana_kyu_maki    5000 non-null   int64\n 68  hiragai         5000 non-null   int64\n 69  okura           5000 non-null   int64\n 70  ume_maki        5000 non-null   int64\n 71  sarada_maki     5000 non-null   int64\n 72  mentaiko_maki   5000 non-null   int64\n 73  buri            5000 non-null   int64\n 74  shiso_maki      5000 non-null   int64\n 75  ika_nattou      5000 non-null   int64\n 76  zuke            5000 non-null   int64\n 77  himo            5000 non-null   int64\n 78  kaiware         5000 non-null   int64\n 79  kurumaebi       5000 non-null   int64\n 80  mekabu          5000 non-null   int64\n 81  kue             5000 non-null   int64\n 82  sawara          5000 non-null   int64\n 83  sasami          5000 non-null   int64\n 84  kujira          5000 non-null   int64\n 85  kamo            5000 non-null   int64\n 86  himo_kyu_maki   5000 non-null   int64\n 87  tobiuo          5000 non-null   int64\n 88  ishigakidai     5000 non-null   int64\n 89  mamakari        5000 non-null   int64\n 90  hoya            5000 non-null   int64\n 91  battera         5000 non-null   int64\n 92  kyabia          5000 non-null   int64\n 93  karasumi        5000 non-null   int64\n 94  uni_kurage      5000 non-null   int64\n 95  karei           5000 non-null   int64\n 96  hiramasa        5000 non-null   int64\n 97  namako          5000 non-null   int64\n 98  shishamo        5000 non-null   int64\n 99  kaki            5000 non-null   int64\ndtypes: int64(100)\nmemory usage: 3.8 MB\n"
     ]
    },
    {
     "output_type": "display_data",
     "data": {
      "text/plain": "None"
     },
     "metadata": {}
    },
    {
     "output_type": "display_data",
     "data": {
      "text/plain": "   ebi  anago  maguro  ika  uni  tako  ikura  tamago  toro  amaebi  hotategai  \\\n0   -1      0      -1    4    2    -1     -1      -1    -1      -1         -1   \n1   -1     -1      -1   -1   -1    -1      0      -1     1      -1         -1   \n2   -1      3       4   -1   -1    -1      3      -1    -1      -1         -1   \n3    4     -1      -1    3    4     1     -1      -1     4       3         -1   \n4   -1     -1      -1   -1    1    -1     -1      -1    -1       4         -1   \n\n   tai  akagai  hamachi  awabi  samon  kazunoko  shako  saba  chu_toro  \\\n0   -1       1       -1     -1     -1        -1     -1    -1        -1   \n1   -1       0       -1     -1     -1        -1      0    -1        -1   \n2   -1      -1        4     -1      4        -1     -1    -1        -1   \n3   -1      -1       -1     -1     -1        -1     -1    -1        -1   \n4   -1      -1        0     -1     -1        -1     -1    -1         1   \n\n   hirame  aji  kani  kohada  torigai  unagi  tekka_maki  kanpachi  mirugai  \\\n0      -1   -1    -1      -1       -1     -1          -1        -1       -1   \n1      -1    1     2      -1        0     -1          -1        -1       -1   \n2      -1   -1    -1      -1       -1      3          -1        -1       -1   \n3      -1   -1    -1      -1        3     -1          -1        -1       -1   \n4      -1   -1    -1      -1       -1     -1          -1        -1       -1   \n\n   kappa_maki  geso  katsuo  iwashi  hokkigai  shimaaji  kanimiso  engawa  \\\n0          -1    -1      -1      -1        -1        -1        -1      -1   \n1          -1    -1       1      -1        -1        -1        -1      -1   \n2          -1    -1      -1      -1        -1        -1        -1      -1   \n3           2    -1      -1      -1        -1        -1        -1      -1   \n4          -1     1       0      -1        -1        -1        -1      -1   \n\n   negi_toro  nattou_maki  sayori  takuwan_maki  botanebi  tobiko  inari  \\\n0         -1           -1      -1            -1        -1      -1     -1   \n1         -1           -1      -1            -1        -1      -1     -1   \n2         -1           -1      -1            -1        -1      -1     -1   \n3         -1           -1      -1             2        -1      -1      3   \n4         -1           -1      -1            -1        -1      -1     -1   \n\n   mentaiko  sarada  suzuki  tarabagani  ume_shiso_maki  komochi_konbu  \\\n0         1      -1      -1          -1              -1             -1   \n1        -1      -1      -1          -1              -1             -1   \n2        -1      -1       2          -1              -1             -1   \n3        -1      -1      -1          -1              -1             -1   \n4        -1      -1      -1           4              -1             -1   \n\n   tarako  sazae  aoyagi  toro_samon  sanma  hamo  nasu  shirauo  nattou  \\\n0      -1     -1      -1          -1     -1    -1    -1       -1       4   \n1      -1     -1      -1          -1     -1    -1    -1       -1      -1   \n2      -1     -1      -1          -1     -1     1     1       -1      -1   \n3      -1     -1      -1          -1     -1    -1    -1       -1      -1   \n4       3     -1      -1          -1     -1     0    -1       -1      -1   \n\n   ankimo  kanpyo_maki  negi_toro_maki  gyusashi  hamaguri  basashi  fugu  \\\n0      -1            2              -1        -1        -1       -1    -1   \n1      -1            1              -1        -1        -1       -1    -1   \n2      -1           -1              -1        -1        -1       -1    -1   \n3      -1           -1              -1        -1        -1       -1    -1   \n4      -1           -1              -1        -1        -1       -1    -1   \n\n   tsubugai  ana_kyu_maki  hiragai  okura  ume_maki  sarada_maki  \\\n0        -1             0       -1     -1        -1           -1   \n1        -1            -1       -1     -1        -1           -1   \n2        -1            -1       -1     -1        -1           -1   \n3        -1            -1       -1     -1        -1           -1   \n4        -1            -1       -1     -1        -1           -1   \n\n   mentaiko_maki  buri  shiso_maki  ika_nattou  zuke  himo  kaiware  \\\n0             -1    -1           0          -1    -1    -1       -1   \n1             -1    -1          -1          -1     0    -1       -1   \n2             -1    -1           2          -1    -1    -1       -1   \n3             -1    -1          -1          -1    -1    -1       -1   \n4             -1    -1          -1          -1    -1    -1       -1   \n\n   kurumaebi  mekabu  kue  sawara  sasami  kujira  kamo  himo_kyu_maki  \\\n0         -1      -1   -1      -1      -1      -1    -1             -1   \n1         -1      -1   -1      -1      -1      -1    -1             -1   \n2         -1      -1   -1      -1      -1      -1    -1             -1   \n3         -1      -1   -1      -1      -1      -1    -1             -1   \n4         -1      -1   -1      -1      -1      -1    -1             -1   \n\n   tobiuo  ishigakidai  mamakari  hoya  battera  kyabia  karasumi  uni_kurage  \\\n0       2           -1        -1    -1       -1      -1        -1          -1   \n1      -1           -1        -1    -1       -1      -1        -1          -1   \n2      -1           -1        -1    -1       -1      -1        -1          -1   \n3      -1           -1        -1    -1       -1      -1        -1          -1   \n4      -1           -1        -1    -1       -1      -1        -1          -1   \n\n   karei  hiramasa  namako  shishamo  kaki  \n0     -1        -1      -1        -1    -1  \n1     -1        -1      -1        -1    -1  \n2     -1        -1      -1        -1    -1  \n3     -1        -1      -1        -1    -1  \n4     -1        -1      -1        -1     0  ",
      "text/html": "<div>\n<style scoped>\n    .dataframe tbody tr th:only-of-type {\n        vertical-align: middle;\n    }\n\n    .dataframe tbody tr th {\n        vertical-align: top;\n    }\n\n    .dataframe thead th {\n        text-align: right;\n    }\n</style>\n<table border=\"1\" class=\"dataframe\">\n  <thead>\n    <tr style=\"text-align: right;\">\n      <th></th>\n      <th>ebi</th>\n      <th>anago</th>\n      <th>maguro</th>\n      <th>ika</th>\n      <th>uni</th>\n      <th>tako</th>\n      <th>ikura</th>\n      <th>tamago</th>\n      <th>toro</th>\n      <th>amaebi</th>\n      <th>hotategai</th>\n      <th>tai</th>\n      <th>akagai</th>\n      <th>hamachi</th>\n      <th>awabi</th>\n      <th>samon</th>\n      <th>kazunoko</th>\n      <th>shako</th>\n      <th>saba</th>\n      <th>chu_toro</th>\n      <th>hirame</th>\n      <th>aji</th>\n      <th>kani</th>\n      <th>kohada</th>\n      <th>torigai</th>\n      <th>unagi</th>\n      <th>tekka_maki</th>\n      <th>kanpachi</th>\n      <th>mirugai</th>\n      <th>kappa_maki</th>\n      <th>geso</th>\n      <th>katsuo</th>\n      <th>iwashi</th>\n      <th>hokkigai</th>\n      <th>shimaaji</th>\n      <th>kanimiso</th>\n      <th>engawa</th>\n      <th>negi_toro</th>\n      <th>nattou_maki</th>\n      <th>sayori</th>\n      <th>takuwan_maki</th>\n      <th>botanebi</th>\n      <th>tobiko</th>\n      <th>inari</th>\n      <th>mentaiko</th>\n      <th>sarada</th>\n      <th>suzuki</th>\n      <th>tarabagani</th>\n      <th>ume_shiso_maki</th>\n      <th>komochi_konbu</th>\n      <th>tarako</th>\n      <th>sazae</th>\n      <th>aoyagi</th>\n      <th>toro_samon</th>\n      <th>sanma</th>\n      <th>hamo</th>\n      <th>nasu</th>\n      <th>shirauo</th>\n      <th>nattou</th>\n      <th>ankimo</th>\n      <th>kanpyo_maki</th>\n      <th>negi_toro_maki</th>\n      <th>gyusashi</th>\n      <th>hamaguri</th>\n      <th>basashi</th>\n      <th>fugu</th>\n      <th>tsubugai</th>\n      <th>ana_kyu_maki</th>\n      <th>hiragai</th>\n      <th>okura</th>\n      <th>ume_maki</th>\n      <th>sarada_maki</th>\n      <th>mentaiko_maki</th>\n      <th>buri</th>\n      <th>shiso_maki</th>\n      <th>ika_nattou</th>\n      <th>zuke</th>\n      <th>himo</th>\n      <th>kaiware</th>\n      <th>kurumaebi</th>\n      <th>mekabu</th>\n      <th>kue</th>\n      <th>sawara</th>\n      <th>sasami</th>\n      <th>kujira</th>\n      <th>kamo</th>\n      <th>himo_kyu_maki</th>\n      <th>tobiuo</th>\n      <th>ishigakidai</th>\n      <th>mamakari</th>\n      <th>hoya</th>\n      <th>battera</th>\n      <th>kyabia</th>\n      <th>karasumi</th>\n      <th>uni_kurage</th>\n      <th>karei</th>\n      <th>hiramasa</th>\n      <th>namako</th>\n      <th>shishamo</th>\n      <th>kaki</th>\n    </tr>\n  </thead>\n  <tbody>\n    <tr>\n      <th>0</th>\n      <td>-1</td>\n      <td>0</td>\n      <td>-1</td>\n      <td>4</td>\n      <td>2</td>\n      <td>-1</td>\n      <td>-1</td>\n      <td>-1</td>\n      <td>-1</td>\n      <td>-1</td>\n      <td>-1</td>\n      <td>-1</td>\n      <td>1</td>\n      <td>-1</td>\n      <td>-1</td>\n      <td>-1</td>\n      <td>-1</td>\n      <td>-1</td>\n      <td>-1</td>\n      <td>-1</td>\n      <td>-1</td>\n      <td>-1</td>\n      <td>-1</td>\n      <td>-1</td>\n      <td>-1</td>\n      <td>-1</td>\n      <td>-1</td>\n      <td>-1</td>\n      <td>-1</td>\n      <td>-1</td>\n      <td>-1</td>\n      <td>-1</td>\n      <td>-1</td>\n      <td>-1</td>\n      <td>-1</td>\n      <td>-1</td>\n      <td>-1</td>\n      <td>-1</td>\n      <td>-1</td>\n      <td>-1</td>\n      <td>-1</td>\n      <td>-1</td>\n      <td>-1</td>\n      <td>-1</td>\n      <td>1</td>\n      <td>-1</td>\n      <td>-1</td>\n      <td>-1</td>\n      <td>-1</td>\n      <td>-1</td>\n      <td>-1</td>\n      <td>-1</td>\n      <td>-1</td>\n      <td>-1</td>\n      <td>-1</td>\n      <td>-1</td>\n      <td>-1</td>\n      <td>-1</td>\n      <td>4</td>\n      <td>-1</td>\n      <td>2</td>\n      <td>-1</td>\n      <td>-1</td>\n      <td>-1</td>\n      <td>-1</td>\n      <td>-1</td>\n      <td>-1</td>\n      <td>0</td>\n      <td>-1</td>\n      <td>-1</td>\n      <td>-1</td>\n      <td>-1</td>\n      <td>-1</td>\n      <td>-1</td>\n      <td>0</td>\n      <td>-1</td>\n      <td>-1</td>\n      <td>-1</td>\n      <td>-1</td>\n      <td>-1</td>\n      <td>-1</td>\n      <td>-1</td>\n      <td>-1</td>\n      <td>-1</td>\n      <td>-1</td>\n      <td>-1</td>\n      <td>-1</td>\n      <td>2</td>\n      <td>-1</td>\n      <td>-1</td>\n      <td>-1</td>\n      <td>-1</td>\n      <td>-1</td>\n      <td>-1</td>\n      <td>-1</td>\n      <td>-1</td>\n      <td>-1</td>\n      <td>-1</td>\n      <td>-1</td>\n      <td>-1</td>\n    </tr>\n    <tr>\n      <th>1</th>\n      <td>-1</td>\n      <td>-1</td>\n      <td>-1</td>\n      <td>-1</td>\n      <td>-1</td>\n      <td>-1</td>\n      <td>0</td>\n      <td>-1</td>\n      <td>1</td>\n      <td>-1</td>\n      <td>-1</td>\n      <td>-1</td>\n      <td>0</td>\n      <td>-1</td>\n      <td>-1</td>\n      <td>-1</td>\n      <td>-1</td>\n      <td>0</td>\n      <td>-1</td>\n      <td>-1</td>\n      <td>-1</td>\n      <td>1</td>\n      <td>2</td>\n      <td>-1</td>\n      <td>0</td>\n      <td>-1</td>\n      <td>-1</td>\n      <td>-1</td>\n      <td>-1</td>\n      <td>-1</td>\n      <td>-1</td>\n      <td>1</td>\n      <td>-1</td>\n      <td>-1</td>\n      <td>-1</td>\n      <td>-1</td>\n      <td>-1</td>\n      <td>-1</td>\n      <td>-1</td>\n      <td>-1</td>\n      <td>-1</td>\n      <td>-1</td>\n      <td>-1</td>\n      <td>-1</td>\n      <td>-1</td>\n      <td>-1</td>\n      <td>-1</td>\n      <td>-1</td>\n      <td>-1</td>\n      <td>-1</td>\n      <td>-1</td>\n      <td>-1</td>\n      <td>-1</td>\n      <td>-1</td>\n      <td>-1</td>\n      <td>-1</td>\n      <td>-1</td>\n      <td>-1</td>\n      <td>-1</td>\n      <td>-1</td>\n      <td>1</td>\n      <td>-1</td>\n      <td>-1</td>\n      <td>-1</td>\n      <td>-1</td>\n      <td>-1</td>\n      <td>-1</td>\n      <td>-1</td>\n      <td>-1</td>\n      <td>-1</td>\n      <td>-1</td>\n      <td>-1</td>\n      <td>-1</td>\n      <td>-1</td>\n      <td>-1</td>\n      <td>-1</td>\n      <td>0</td>\n      <td>-1</td>\n      <td>-1</td>\n      <td>-1</td>\n      <td>-1</td>\n      <td>-1</td>\n      <td>-1</td>\n      <td>-1</td>\n      <td>-1</td>\n      <td>-1</td>\n      <td>-1</td>\n      <td>-1</td>\n      <td>-1</td>\n      <td>-1</td>\n      <td>-1</td>\n      <td>-1</td>\n      <td>-1</td>\n      <td>-1</td>\n      <td>-1</td>\n      <td>-1</td>\n      <td>-1</td>\n      <td>-1</td>\n      <td>-1</td>\n      <td>-1</td>\n    </tr>\n    <tr>\n      <th>2</th>\n      <td>-1</td>\n      <td>3</td>\n      <td>4</td>\n      <td>-1</td>\n      <td>-1</td>\n      <td>-1</td>\n      <td>3</td>\n      <td>-1</td>\n      <td>-1</td>\n      <td>-1</td>\n      <td>-1</td>\n      <td>-1</td>\n      <td>-1</td>\n      <td>4</td>\n      <td>-1</td>\n      <td>4</td>\n      <td>-1</td>\n      <td>-1</td>\n      <td>-1</td>\n      <td>-1</td>\n      <td>-1</td>\n      <td>-1</td>\n      <td>-1</td>\n      <td>-1</td>\n      <td>-1</td>\n      <td>3</td>\n      <td>-1</td>\n      <td>-1</td>\n      <td>-1</td>\n      <td>-1</td>\n      <td>-1</td>\n      <td>-1</td>\n      <td>-1</td>\n      <td>-1</td>\n      <td>-1</td>\n      <td>-1</td>\n      <td>-1</td>\n      <td>-1</td>\n      <td>-1</td>\n      <td>-1</td>\n      <td>-1</td>\n      <td>-1</td>\n      <td>-1</td>\n      <td>-1</td>\n      <td>-1</td>\n      <td>-1</td>\n      <td>2</td>\n      <td>-1</td>\n      <td>-1</td>\n      <td>-1</td>\n      <td>-1</td>\n      <td>-1</td>\n      <td>-1</td>\n      <td>-1</td>\n      <td>-1</td>\n      <td>1</td>\n      <td>1</td>\n      <td>-1</td>\n      <td>-1</td>\n      <td>-1</td>\n      <td>-1</td>\n      <td>-1</td>\n      <td>-1</td>\n      <td>-1</td>\n      <td>-1</td>\n      <td>-1</td>\n      <td>-1</td>\n      <td>-1</td>\n      <td>-1</td>\n      <td>-1</td>\n      <td>-1</td>\n      <td>-1</td>\n      <td>-1</td>\n      <td>-1</td>\n      <td>2</td>\n      <td>-1</td>\n      <td>-1</td>\n      <td>-1</td>\n      <td>-1</td>\n      <td>-1</td>\n      <td>-1</td>\n      <td>-1</td>\n      <td>-1</td>\n      <td>-1</td>\n      <td>-1</td>\n      <td>-1</td>\n      <td>-1</td>\n      <td>-1</td>\n      <td>-1</td>\n      <td>-1</td>\n      <td>-1</td>\n      <td>-1</td>\n      <td>-1</td>\n      <td>-1</td>\n      <td>-1</td>\n      <td>-1</td>\n      <td>-1</td>\n      <td>-1</td>\n      <td>-1</td>\n      <td>-1</td>\n    </tr>\n    <tr>\n      <th>3</th>\n      <td>4</td>\n      <td>-1</td>\n      <td>-1</td>\n      <td>3</td>\n      <td>4</td>\n      <td>1</td>\n      <td>-1</td>\n      <td>-1</td>\n      <td>4</td>\n      <td>3</td>\n      <td>-1</td>\n      <td>-1</td>\n      <td>-1</td>\n      <td>-1</td>\n      <td>-1</td>\n      <td>-1</td>\n      <td>-1</td>\n      <td>-1</td>\n      <td>-1</td>\n      <td>-1</td>\n      <td>-1</td>\n      <td>-1</td>\n      <td>-1</td>\n      <td>-1</td>\n      <td>3</td>\n      <td>-1</td>\n      <td>-1</td>\n      <td>-1</td>\n      <td>-1</td>\n      <td>2</td>\n      <td>-1</td>\n      <td>-1</td>\n      <td>-1</td>\n      <td>-1</td>\n      <td>-1</td>\n      <td>-1</td>\n      <td>-1</td>\n      <td>-1</td>\n      <td>-1</td>\n      <td>-1</td>\n      <td>2</td>\n      <td>-1</td>\n      <td>-1</td>\n      <td>3</td>\n      <td>-1</td>\n      <td>-1</td>\n      <td>-1</td>\n      <td>-1</td>\n      <td>-1</td>\n      <td>-1</td>\n      <td>-1</td>\n      <td>-1</td>\n      <td>-1</td>\n      <td>-1</td>\n      <td>-1</td>\n      <td>-1</td>\n      <td>-1</td>\n      <td>-1</td>\n      <td>-1</td>\n      <td>-1</td>\n      <td>-1</td>\n      <td>-1</td>\n      <td>-1</td>\n      <td>-1</td>\n      <td>-1</td>\n      <td>-1</td>\n      <td>-1</td>\n      <td>-1</td>\n      <td>-1</td>\n      <td>-1</td>\n      <td>-1</td>\n      <td>-1</td>\n      <td>-1</td>\n      <td>-1</td>\n      <td>-1</td>\n      <td>-1</td>\n      <td>-1</td>\n      <td>-1</td>\n      <td>-1</td>\n      <td>-1</td>\n      <td>-1</td>\n      <td>-1</td>\n      <td>-1</td>\n      <td>-1</td>\n      <td>-1</td>\n      <td>-1</td>\n      <td>-1</td>\n      <td>-1</td>\n      <td>-1</td>\n      <td>-1</td>\n      <td>-1</td>\n      <td>-1</td>\n      <td>-1</td>\n      <td>-1</td>\n      <td>-1</td>\n      <td>-1</td>\n      <td>-1</td>\n      <td>-1</td>\n      <td>-1</td>\n      <td>-1</td>\n    </tr>\n    <tr>\n      <th>4</th>\n      <td>-1</td>\n      <td>-1</td>\n      <td>-1</td>\n      <td>-1</td>\n      <td>1</td>\n      <td>-1</td>\n      <td>-1</td>\n      <td>-1</td>\n      <td>-1</td>\n      <td>4</td>\n      <td>-1</td>\n      <td>-1</td>\n      <td>-1</td>\n      <td>0</td>\n      <td>-1</td>\n      <td>-1</td>\n      <td>-1</td>\n      <td>-1</td>\n      <td>-1</td>\n      <td>1</td>\n      <td>-1</td>\n      <td>-1</td>\n      <td>-1</td>\n      <td>-1</td>\n      <td>-1</td>\n      <td>-1</td>\n      <td>-1</td>\n      <td>-1</td>\n      <td>-1</td>\n      <td>-1</td>\n      <td>1</td>\n      <td>0</td>\n      <td>-1</td>\n      <td>-1</td>\n      <td>-1</td>\n      <td>-1</td>\n      <td>-1</td>\n      <td>-1</td>\n      <td>-1</td>\n      <td>-1</td>\n      <td>-1</td>\n      <td>-1</td>\n      <td>-1</td>\n      <td>-1</td>\n      <td>-1</td>\n      <td>-1</td>\n      <td>-1</td>\n      <td>4</td>\n      <td>-1</td>\n      <td>-1</td>\n      <td>3</td>\n      <td>-1</td>\n      <td>-1</td>\n      <td>-1</td>\n      <td>-1</td>\n      <td>0</td>\n      <td>-1</td>\n      <td>-1</td>\n      <td>-1</td>\n      <td>-1</td>\n      <td>-1</td>\n      <td>-1</td>\n      <td>-1</td>\n      <td>-1</td>\n      <td>-1</td>\n      <td>-1</td>\n      <td>-1</td>\n      <td>-1</td>\n      <td>-1</td>\n      <td>-1</td>\n      <td>-1</td>\n      <td>-1</td>\n      <td>-1</td>\n      <td>-1</td>\n      <td>-1</td>\n      <td>-1</td>\n      <td>-1</td>\n      <td>-1</td>\n      <td>-1</td>\n      <td>-1</td>\n      <td>-1</td>\n      <td>-1</td>\n      <td>-1</td>\n      <td>-1</td>\n      <td>-1</td>\n      <td>-1</td>\n      <td>-1</td>\n      <td>-1</td>\n      <td>-1</td>\n      <td>-1</td>\n      <td>-1</td>\n      <td>-1</td>\n      <td>-1</td>\n      <td>-1</td>\n      <td>-1</td>\n      <td>-1</td>\n      <td>-1</td>\n      <td>-1</td>\n      <td>-1</td>\n      <td>0</td>\n    </tr>\n  </tbody>\n</table>\n</div>"
     },
     "metadata": {}
    }
   ],
   "source": [
    "df = pd.read_csv(csv_in, delimiter=',', skiprows=0, header=0)\n",
    "print(df.shape)\n",
    "display(df.info())\n",
    "display(df.head())"
   ]
  },
  {
   "cell_type": "markdown",
   "metadata": {},
   "source": [
    "#### Replace -1 into NaN (for not to be used during calculation)  "
   ]
  },
  {
   "cell_type": "code",
   "execution_count": 31,
   "metadata": {},
   "outputs": [
    {
     "output_type": "display_data",
     "data": {
      "text/plain": "   ebi  anago  maguro  ika  uni  tako  ikura  tamago  toro  amaebi  hotategai  \\\n0  NaN    0.0     NaN  4.0  2.0   NaN    NaN     NaN   NaN     NaN        NaN   \n1  NaN    NaN     NaN  NaN  NaN   NaN    0.0     NaN   1.0     NaN        NaN   \n2  NaN    3.0     4.0  NaN  NaN   NaN    3.0     NaN   NaN     NaN        NaN   \n3  4.0    NaN     NaN  3.0  4.0   1.0    NaN     NaN   4.0     3.0        NaN   \n4  NaN    NaN     NaN  NaN  1.0   NaN    NaN     NaN   NaN     4.0        NaN   \n\n   tai  akagai  hamachi  awabi  samon  kazunoko  shako  saba  chu_toro  \\\n0  NaN     1.0      NaN    NaN    NaN       NaN    NaN   NaN       NaN   \n1  NaN     0.0      NaN    NaN    NaN       NaN    0.0   NaN       NaN   \n2  NaN     NaN      4.0    NaN    4.0       NaN    NaN   NaN       NaN   \n3  NaN     NaN      NaN    NaN    NaN       NaN    NaN   NaN       NaN   \n4  NaN     NaN      0.0    NaN    NaN       NaN    NaN   NaN       1.0   \n\n   hirame  aji  kani  kohada  torigai  unagi  tekka_maki  kanpachi  mirugai  \\\n0     NaN  NaN   NaN     NaN      NaN    NaN         NaN       NaN      NaN   \n1     NaN  1.0   2.0     NaN      0.0    NaN         NaN       NaN      NaN   \n2     NaN  NaN   NaN     NaN      NaN    3.0         NaN       NaN      NaN   \n3     NaN  NaN   NaN     NaN      3.0    NaN         NaN       NaN      NaN   \n4     NaN  NaN   NaN     NaN      NaN    NaN         NaN       NaN      NaN   \n\n   kappa_maki  geso  katsuo  iwashi  hokkigai  shimaaji  kanimiso  engawa  \\\n0         NaN   NaN     NaN     NaN       NaN       NaN       NaN     NaN   \n1         NaN   NaN     1.0     NaN       NaN       NaN       NaN     NaN   \n2         NaN   NaN     NaN     NaN       NaN       NaN       NaN     NaN   \n3         2.0   NaN     NaN     NaN       NaN       NaN       NaN     NaN   \n4         NaN   1.0     0.0     NaN       NaN       NaN       NaN     NaN   \n\n   negi_toro  nattou_maki  sayori  takuwan_maki  botanebi  tobiko  inari  \\\n0        NaN          NaN     NaN           NaN       NaN     NaN    NaN   \n1        NaN          NaN     NaN           NaN       NaN     NaN    NaN   \n2        NaN          NaN     NaN           NaN       NaN     NaN    NaN   \n3        NaN          NaN     NaN           2.0       NaN     NaN    3.0   \n4        NaN          NaN     NaN           NaN       NaN     NaN    NaN   \n\n   mentaiko  sarada  suzuki  tarabagani  ume_shiso_maki  komochi_konbu  \\\n0       1.0     NaN     NaN         NaN             NaN            NaN   \n1       NaN     NaN     NaN         NaN             NaN            NaN   \n2       NaN     NaN     2.0         NaN             NaN            NaN   \n3       NaN     NaN     NaN         NaN             NaN            NaN   \n4       NaN     NaN     NaN         4.0             NaN            NaN   \n\n   tarako  sazae  aoyagi  toro_samon  sanma  hamo  nasu  shirauo  nattou  \\\n0     NaN    NaN     NaN         NaN    NaN   NaN   NaN      NaN     4.0   \n1     NaN    NaN     NaN         NaN    NaN   NaN   NaN      NaN     NaN   \n2     NaN    NaN     NaN         NaN    NaN   1.0   1.0      NaN     NaN   \n3     NaN    NaN     NaN         NaN    NaN   NaN   NaN      NaN     NaN   \n4     3.0    NaN     NaN         NaN    NaN   0.0   NaN      NaN     NaN   \n\n   ankimo  kanpyo_maki  negi_toro_maki  gyusashi  hamaguri  basashi  fugu  \\\n0     NaN          2.0             NaN       NaN       NaN      NaN   NaN   \n1     NaN          1.0             NaN       NaN       NaN      NaN   NaN   \n2     NaN          NaN             NaN       NaN       NaN      NaN   NaN   \n3     NaN          NaN             NaN       NaN       NaN      NaN   NaN   \n4     NaN          NaN             NaN       NaN       NaN      NaN   NaN   \n\n   tsubugai  ana_kyu_maki  hiragai  okura  ume_maki  sarada_maki  \\\n0       NaN           0.0      NaN    NaN       NaN          NaN   \n1       NaN           NaN      NaN    NaN       NaN          NaN   \n2       NaN           NaN      NaN    NaN       NaN          NaN   \n3       NaN           NaN      NaN    NaN       NaN          NaN   \n4       NaN           NaN      NaN    NaN       NaN          NaN   \n\n   mentaiko_maki  buri  shiso_maki  ika_nattou  zuke  himo  kaiware  \\\n0            NaN   NaN         0.0         NaN   NaN   NaN      NaN   \n1            NaN   NaN         NaN         NaN   0.0   NaN      NaN   \n2            NaN   NaN         2.0         NaN   NaN   NaN      NaN   \n3            NaN   NaN         NaN         NaN   NaN   NaN      NaN   \n4            NaN   NaN         NaN         NaN   NaN   NaN      NaN   \n\n   kurumaebi  mekabu  kue  sawara  sasami  kujira  kamo  himo_kyu_maki  \\\n0        NaN     NaN  NaN     NaN     NaN     NaN   NaN            NaN   \n1        NaN     NaN  NaN     NaN     NaN     NaN   NaN            NaN   \n2        NaN     NaN  NaN     NaN     NaN     NaN   NaN            NaN   \n3        NaN     NaN  NaN     NaN     NaN     NaN   NaN            NaN   \n4        NaN     NaN  NaN     NaN     NaN     NaN   NaN            NaN   \n\n   tobiuo  ishigakidai  mamakari  hoya  battera  kyabia  karasumi  uni_kurage  \\\n0     2.0          NaN       NaN   NaN      NaN     NaN       NaN         NaN   \n1     NaN          NaN       NaN   NaN      NaN     NaN       NaN         NaN   \n2     NaN          NaN       NaN   NaN      NaN     NaN       NaN         NaN   \n3     NaN          NaN       NaN   NaN      NaN     NaN       NaN         NaN   \n4     NaN          NaN       NaN   NaN      NaN     NaN       NaN         NaN   \n\n   karei  hiramasa  namako  shishamo  kaki  \n0    NaN       NaN     NaN       NaN   NaN  \n1    NaN       NaN     NaN       NaN   NaN  \n2    NaN       NaN     NaN       NaN   NaN  \n3    NaN       NaN     NaN       NaN   NaN  \n4    NaN       NaN     NaN       NaN   0.0  ",
      "text/html": "<div>\n<style scoped>\n    .dataframe tbody tr th:only-of-type {\n        vertical-align: middle;\n    }\n\n    .dataframe tbody tr th {\n        vertical-align: top;\n    }\n\n    .dataframe thead th {\n        text-align: right;\n    }\n</style>\n<table border=\"1\" class=\"dataframe\">\n  <thead>\n    <tr style=\"text-align: right;\">\n      <th></th>\n      <th>ebi</th>\n      <th>anago</th>\n      <th>maguro</th>\n      <th>ika</th>\n      <th>uni</th>\n      <th>tako</th>\n      <th>ikura</th>\n      <th>tamago</th>\n      <th>toro</th>\n      <th>amaebi</th>\n      <th>hotategai</th>\n      <th>tai</th>\n      <th>akagai</th>\n      <th>hamachi</th>\n      <th>awabi</th>\n      <th>samon</th>\n      <th>kazunoko</th>\n      <th>shako</th>\n      <th>saba</th>\n      <th>chu_toro</th>\n      <th>hirame</th>\n      <th>aji</th>\n      <th>kani</th>\n      <th>kohada</th>\n      <th>torigai</th>\n      <th>unagi</th>\n      <th>tekka_maki</th>\n      <th>kanpachi</th>\n      <th>mirugai</th>\n      <th>kappa_maki</th>\n      <th>geso</th>\n      <th>katsuo</th>\n      <th>iwashi</th>\n      <th>hokkigai</th>\n      <th>shimaaji</th>\n      <th>kanimiso</th>\n      <th>engawa</th>\n      <th>negi_toro</th>\n      <th>nattou_maki</th>\n      <th>sayori</th>\n      <th>takuwan_maki</th>\n      <th>botanebi</th>\n      <th>tobiko</th>\n      <th>inari</th>\n      <th>mentaiko</th>\n      <th>sarada</th>\n      <th>suzuki</th>\n      <th>tarabagani</th>\n      <th>ume_shiso_maki</th>\n      <th>komochi_konbu</th>\n      <th>tarako</th>\n      <th>sazae</th>\n      <th>aoyagi</th>\n      <th>toro_samon</th>\n      <th>sanma</th>\n      <th>hamo</th>\n      <th>nasu</th>\n      <th>shirauo</th>\n      <th>nattou</th>\n      <th>ankimo</th>\n      <th>kanpyo_maki</th>\n      <th>negi_toro_maki</th>\n      <th>gyusashi</th>\n      <th>hamaguri</th>\n      <th>basashi</th>\n      <th>fugu</th>\n      <th>tsubugai</th>\n      <th>ana_kyu_maki</th>\n      <th>hiragai</th>\n      <th>okura</th>\n      <th>ume_maki</th>\n      <th>sarada_maki</th>\n      <th>mentaiko_maki</th>\n      <th>buri</th>\n      <th>shiso_maki</th>\n      <th>ika_nattou</th>\n      <th>zuke</th>\n      <th>himo</th>\n      <th>kaiware</th>\n      <th>kurumaebi</th>\n      <th>mekabu</th>\n      <th>kue</th>\n      <th>sawara</th>\n      <th>sasami</th>\n      <th>kujira</th>\n      <th>kamo</th>\n      <th>himo_kyu_maki</th>\n      <th>tobiuo</th>\n      <th>ishigakidai</th>\n      <th>mamakari</th>\n      <th>hoya</th>\n      <th>battera</th>\n      <th>kyabia</th>\n      <th>karasumi</th>\n      <th>uni_kurage</th>\n      <th>karei</th>\n      <th>hiramasa</th>\n      <th>namako</th>\n      <th>shishamo</th>\n      <th>kaki</th>\n    </tr>\n  </thead>\n  <tbody>\n    <tr>\n      <th>0</th>\n      <td>NaN</td>\n      <td>0.0</td>\n      <td>NaN</td>\n      <td>4.0</td>\n      <td>2.0</td>\n      <td>NaN</td>\n      <td>NaN</td>\n      <td>NaN</td>\n      <td>NaN</td>\n      <td>NaN</td>\n      <td>NaN</td>\n      <td>NaN</td>\n      <td>1.0</td>\n      <td>NaN</td>\n      <td>NaN</td>\n      <td>NaN</td>\n      <td>NaN</td>\n      <td>NaN</td>\n      <td>NaN</td>\n      <td>NaN</td>\n      <td>NaN</td>\n      <td>NaN</td>\n      <td>NaN</td>\n      <td>NaN</td>\n      <td>NaN</td>\n      <td>NaN</td>\n      <td>NaN</td>\n      <td>NaN</td>\n      <td>NaN</td>\n      <td>NaN</td>\n      <td>NaN</td>\n      <td>NaN</td>\n      <td>NaN</td>\n      <td>NaN</td>\n      <td>NaN</td>\n      <td>NaN</td>\n      <td>NaN</td>\n      <td>NaN</td>\n      <td>NaN</td>\n      <td>NaN</td>\n      <td>NaN</td>\n      <td>NaN</td>\n      <td>NaN</td>\n      <td>NaN</td>\n      <td>1.0</td>\n      <td>NaN</td>\n      <td>NaN</td>\n      <td>NaN</td>\n      <td>NaN</td>\n      <td>NaN</td>\n      <td>NaN</td>\n      <td>NaN</td>\n      <td>NaN</td>\n      <td>NaN</td>\n      <td>NaN</td>\n      <td>NaN</td>\n      <td>NaN</td>\n      <td>NaN</td>\n      <td>4.0</td>\n      <td>NaN</td>\n      <td>2.0</td>\n      <td>NaN</td>\n      <td>NaN</td>\n      <td>NaN</td>\n      <td>NaN</td>\n      <td>NaN</td>\n      <td>NaN</td>\n      <td>0.0</td>\n      <td>NaN</td>\n      <td>NaN</td>\n      <td>NaN</td>\n      <td>NaN</td>\n      <td>NaN</td>\n      <td>NaN</td>\n      <td>0.0</td>\n      <td>NaN</td>\n      <td>NaN</td>\n      <td>NaN</td>\n      <td>NaN</td>\n      <td>NaN</td>\n      <td>NaN</td>\n      <td>NaN</td>\n      <td>NaN</td>\n      <td>NaN</td>\n      <td>NaN</td>\n      <td>NaN</td>\n      <td>NaN</td>\n      <td>2.0</td>\n      <td>NaN</td>\n      <td>NaN</td>\n      <td>NaN</td>\n      <td>NaN</td>\n      <td>NaN</td>\n      <td>NaN</td>\n      <td>NaN</td>\n      <td>NaN</td>\n      <td>NaN</td>\n      <td>NaN</td>\n      <td>NaN</td>\n      <td>NaN</td>\n    </tr>\n    <tr>\n      <th>1</th>\n      <td>NaN</td>\n      <td>NaN</td>\n      <td>NaN</td>\n      <td>NaN</td>\n      <td>NaN</td>\n      <td>NaN</td>\n      <td>0.0</td>\n      <td>NaN</td>\n      <td>1.0</td>\n      <td>NaN</td>\n      <td>NaN</td>\n      <td>NaN</td>\n      <td>0.0</td>\n      <td>NaN</td>\n      <td>NaN</td>\n      <td>NaN</td>\n      <td>NaN</td>\n      <td>0.0</td>\n      <td>NaN</td>\n      <td>NaN</td>\n      <td>NaN</td>\n      <td>1.0</td>\n      <td>2.0</td>\n      <td>NaN</td>\n      <td>0.0</td>\n      <td>NaN</td>\n      <td>NaN</td>\n      <td>NaN</td>\n      <td>NaN</td>\n      <td>NaN</td>\n      <td>NaN</td>\n      <td>1.0</td>\n      <td>NaN</td>\n      <td>NaN</td>\n      <td>NaN</td>\n      <td>NaN</td>\n      <td>NaN</td>\n      <td>NaN</td>\n      <td>NaN</td>\n      <td>NaN</td>\n      <td>NaN</td>\n      <td>NaN</td>\n      <td>NaN</td>\n      <td>NaN</td>\n      <td>NaN</td>\n      <td>NaN</td>\n      <td>NaN</td>\n      <td>NaN</td>\n      <td>NaN</td>\n      <td>NaN</td>\n      <td>NaN</td>\n      <td>NaN</td>\n      <td>NaN</td>\n      <td>NaN</td>\n      <td>NaN</td>\n      <td>NaN</td>\n      <td>NaN</td>\n      <td>NaN</td>\n      <td>NaN</td>\n      <td>NaN</td>\n      <td>1.0</td>\n      <td>NaN</td>\n      <td>NaN</td>\n      <td>NaN</td>\n      <td>NaN</td>\n      <td>NaN</td>\n      <td>NaN</td>\n      <td>NaN</td>\n      <td>NaN</td>\n      <td>NaN</td>\n      <td>NaN</td>\n      <td>NaN</td>\n      <td>NaN</td>\n      <td>NaN</td>\n      <td>NaN</td>\n      <td>NaN</td>\n      <td>0.0</td>\n      <td>NaN</td>\n      <td>NaN</td>\n      <td>NaN</td>\n      <td>NaN</td>\n      <td>NaN</td>\n      <td>NaN</td>\n      <td>NaN</td>\n      <td>NaN</td>\n      <td>NaN</td>\n      <td>NaN</td>\n      <td>NaN</td>\n      <td>NaN</td>\n      <td>NaN</td>\n      <td>NaN</td>\n      <td>NaN</td>\n      <td>NaN</td>\n      <td>NaN</td>\n      <td>NaN</td>\n      <td>NaN</td>\n      <td>NaN</td>\n      <td>NaN</td>\n      <td>NaN</td>\n      <td>NaN</td>\n    </tr>\n    <tr>\n      <th>2</th>\n      <td>NaN</td>\n      <td>3.0</td>\n      <td>4.0</td>\n      <td>NaN</td>\n      <td>NaN</td>\n      <td>NaN</td>\n      <td>3.0</td>\n      <td>NaN</td>\n      <td>NaN</td>\n      <td>NaN</td>\n      <td>NaN</td>\n      <td>NaN</td>\n      <td>NaN</td>\n      <td>4.0</td>\n      <td>NaN</td>\n      <td>4.0</td>\n      <td>NaN</td>\n      <td>NaN</td>\n      <td>NaN</td>\n      <td>NaN</td>\n      <td>NaN</td>\n      <td>NaN</td>\n      <td>NaN</td>\n      <td>NaN</td>\n      <td>NaN</td>\n      <td>3.0</td>\n      <td>NaN</td>\n      <td>NaN</td>\n      <td>NaN</td>\n      <td>NaN</td>\n      <td>NaN</td>\n      <td>NaN</td>\n      <td>NaN</td>\n      <td>NaN</td>\n      <td>NaN</td>\n      <td>NaN</td>\n      <td>NaN</td>\n      <td>NaN</td>\n      <td>NaN</td>\n      <td>NaN</td>\n      <td>NaN</td>\n      <td>NaN</td>\n      <td>NaN</td>\n      <td>NaN</td>\n      <td>NaN</td>\n      <td>NaN</td>\n      <td>2.0</td>\n      <td>NaN</td>\n      <td>NaN</td>\n      <td>NaN</td>\n      <td>NaN</td>\n      <td>NaN</td>\n      <td>NaN</td>\n      <td>NaN</td>\n      <td>NaN</td>\n      <td>1.0</td>\n      <td>1.0</td>\n      <td>NaN</td>\n      <td>NaN</td>\n      <td>NaN</td>\n      <td>NaN</td>\n      <td>NaN</td>\n      <td>NaN</td>\n      <td>NaN</td>\n      <td>NaN</td>\n      <td>NaN</td>\n      <td>NaN</td>\n      <td>NaN</td>\n      <td>NaN</td>\n      <td>NaN</td>\n      <td>NaN</td>\n      <td>NaN</td>\n      <td>NaN</td>\n      <td>NaN</td>\n      <td>2.0</td>\n      <td>NaN</td>\n      <td>NaN</td>\n      <td>NaN</td>\n      <td>NaN</td>\n      <td>NaN</td>\n      <td>NaN</td>\n      <td>NaN</td>\n      <td>NaN</td>\n      <td>NaN</td>\n      <td>NaN</td>\n      <td>NaN</td>\n      <td>NaN</td>\n      <td>NaN</td>\n      <td>NaN</td>\n      <td>NaN</td>\n      <td>NaN</td>\n      <td>NaN</td>\n      <td>NaN</td>\n      <td>NaN</td>\n      <td>NaN</td>\n      <td>NaN</td>\n      <td>NaN</td>\n      <td>NaN</td>\n      <td>NaN</td>\n      <td>NaN</td>\n    </tr>\n    <tr>\n      <th>3</th>\n      <td>4.0</td>\n      <td>NaN</td>\n      <td>NaN</td>\n      <td>3.0</td>\n      <td>4.0</td>\n      <td>1.0</td>\n      <td>NaN</td>\n      <td>NaN</td>\n      <td>4.0</td>\n      <td>3.0</td>\n      <td>NaN</td>\n      <td>NaN</td>\n      <td>NaN</td>\n      <td>NaN</td>\n      <td>NaN</td>\n      <td>NaN</td>\n      <td>NaN</td>\n      <td>NaN</td>\n      <td>NaN</td>\n      <td>NaN</td>\n      <td>NaN</td>\n      <td>NaN</td>\n      <td>NaN</td>\n      <td>NaN</td>\n      <td>3.0</td>\n      <td>NaN</td>\n      <td>NaN</td>\n      <td>NaN</td>\n      <td>NaN</td>\n      <td>2.0</td>\n      <td>NaN</td>\n      <td>NaN</td>\n      <td>NaN</td>\n      <td>NaN</td>\n      <td>NaN</td>\n      <td>NaN</td>\n      <td>NaN</td>\n      <td>NaN</td>\n      <td>NaN</td>\n      <td>NaN</td>\n      <td>2.0</td>\n      <td>NaN</td>\n      <td>NaN</td>\n      <td>3.0</td>\n      <td>NaN</td>\n      <td>NaN</td>\n      <td>NaN</td>\n      <td>NaN</td>\n      <td>NaN</td>\n      <td>NaN</td>\n      <td>NaN</td>\n      <td>NaN</td>\n      <td>NaN</td>\n      <td>NaN</td>\n      <td>NaN</td>\n      <td>NaN</td>\n      <td>NaN</td>\n      <td>NaN</td>\n      <td>NaN</td>\n      <td>NaN</td>\n      <td>NaN</td>\n      <td>NaN</td>\n      <td>NaN</td>\n      <td>NaN</td>\n      <td>NaN</td>\n      <td>NaN</td>\n      <td>NaN</td>\n      <td>NaN</td>\n      <td>NaN</td>\n      <td>NaN</td>\n      <td>NaN</td>\n      <td>NaN</td>\n      <td>NaN</td>\n      <td>NaN</td>\n      <td>NaN</td>\n      <td>NaN</td>\n      <td>NaN</td>\n      <td>NaN</td>\n      <td>NaN</td>\n      <td>NaN</td>\n      <td>NaN</td>\n      <td>NaN</td>\n      <td>NaN</td>\n      <td>NaN</td>\n      <td>NaN</td>\n      <td>NaN</td>\n      <td>NaN</td>\n      <td>NaN</td>\n      <td>NaN</td>\n      <td>NaN</td>\n      <td>NaN</td>\n      <td>NaN</td>\n      <td>NaN</td>\n      <td>NaN</td>\n      <td>NaN</td>\n      <td>NaN</td>\n      <td>NaN</td>\n      <td>NaN</td>\n      <td>NaN</td>\n      <td>NaN</td>\n    </tr>\n    <tr>\n      <th>4</th>\n      <td>NaN</td>\n      <td>NaN</td>\n      <td>NaN</td>\n      <td>NaN</td>\n      <td>1.0</td>\n      <td>NaN</td>\n      <td>NaN</td>\n      <td>NaN</td>\n      <td>NaN</td>\n      <td>4.0</td>\n      <td>NaN</td>\n      <td>NaN</td>\n      <td>NaN</td>\n      <td>0.0</td>\n      <td>NaN</td>\n      <td>NaN</td>\n      <td>NaN</td>\n      <td>NaN</td>\n      <td>NaN</td>\n      <td>1.0</td>\n      <td>NaN</td>\n      <td>NaN</td>\n      <td>NaN</td>\n      <td>NaN</td>\n      <td>NaN</td>\n      <td>NaN</td>\n      <td>NaN</td>\n      <td>NaN</td>\n      <td>NaN</td>\n      <td>NaN</td>\n      <td>1.0</td>\n      <td>0.0</td>\n      <td>NaN</td>\n      <td>NaN</td>\n      <td>NaN</td>\n      <td>NaN</td>\n      <td>NaN</td>\n      <td>NaN</td>\n      <td>NaN</td>\n      <td>NaN</td>\n      <td>NaN</td>\n      <td>NaN</td>\n      <td>NaN</td>\n      <td>NaN</td>\n      <td>NaN</td>\n      <td>NaN</td>\n      <td>NaN</td>\n      <td>4.0</td>\n      <td>NaN</td>\n      <td>NaN</td>\n      <td>3.0</td>\n      <td>NaN</td>\n      <td>NaN</td>\n      <td>NaN</td>\n      <td>NaN</td>\n      <td>0.0</td>\n      <td>NaN</td>\n      <td>NaN</td>\n      <td>NaN</td>\n      <td>NaN</td>\n      <td>NaN</td>\n      <td>NaN</td>\n      <td>NaN</td>\n      <td>NaN</td>\n      <td>NaN</td>\n      <td>NaN</td>\n      <td>NaN</td>\n      <td>NaN</td>\n      <td>NaN</td>\n      <td>NaN</td>\n      <td>NaN</td>\n      <td>NaN</td>\n      <td>NaN</td>\n      <td>NaN</td>\n      <td>NaN</td>\n      <td>NaN</td>\n      <td>NaN</td>\n      <td>NaN</td>\n      <td>NaN</td>\n      <td>NaN</td>\n      <td>NaN</td>\n      <td>NaN</td>\n      <td>NaN</td>\n      <td>NaN</td>\n      <td>NaN</td>\n      <td>NaN</td>\n      <td>NaN</td>\n      <td>NaN</td>\n      <td>NaN</td>\n      <td>NaN</td>\n      <td>NaN</td>\n      <td>NaN</td>\n      <td>NaN</td>\n      <td>NaN</td>\n      <td>NaN</td>\n      <td>NaN</td>\n      <td>NaN</td>\n      <td>NaN</td>\n      <td>NaN</td>\n      <td>0.0</td>\n    </tr>\n  </tbody>\n</table>\n</div>"
     },
     "metadata": {}
    }
   ],
   "source": [
    "df = df.replace(-1, np.nan)\n",
    "display(df.head())"
   ]
  },
  {
   "cell_type": "markdown",
   "metadata": {},
   "source": [
    "#### Return Series of similiarity of users  \n",
    "by using Pearson correlation coefficient (-1 .. 1).  "
   ]
  },
  {
   "cell_type": "code",
   "execution_count": 32,
   "metadata": {},
   "outputs": [],
   "source": [
    "def get_sim_ser_by_pearson(df_users, ser_target):\n",
    "    corr_all = df_users.corrwith(ser_target, axis=1).dropna()\n",
    "    return corr_all"
   ]
  },
  {
   "cell_type": "code",
   "execution_count": 33,
   "metadata": {},
   "outputs": [],
   "source": [
    "similarity = 'pearson2'\n",
    "def get_sim_ser_by_pearson2(df_users, ser_target):\n",
    "    c = df_users.corrwith(ser_target, axis=1).dropna()\n",
    "    return c if similarity == 'pearson' else (c+1)/2"
   ]
  },
  {
   "cell_type": "markdown",
   "metadata": {},
   "source": [
    "#### Prediction of scores for the target user  \n",
    "(for items with no score)  \n",
    "based on deviation from average  "
   ]
  },
  {
   "cell_type": "code",
   "execution_count": 34,
   "metadata": {},
   "outputs": [],
   "source": [
    "def predict_scores(df_sim, ser_sim, ser_target):\n",
    "    ret = {}\n",
    "    df_sim_ave = df_sim.mean(axis=1)\n",
    "    #print(df_sim.head())  # debug\n",
    "    target_ave = ser_target.mean()\n",
    "    #print(target_ave)  # debug\n",
    "    for item1 in df_sim.columns:\n",
    "        if item1 in ser_target.index: continue\n",
    "        v1 = df_sim[item1]\n",
    "        if v1.notnull().sum() < min_eval_users: continue\n",
    "        v1 -= df_sim_ave\n",
    "        v11 = v1[ v1.notnull() ]\n",
    "        t11 = ser_sim[ v1.notnull() ]\n",
    "        pred1 = target_ave + (v11 * t11).sum() / np.abs(t11).sum()\n",
    "        ret[item1] = pred1\n",
    "    \n",
    "    ser_ret = pd.Series(ret)\n",
    "    \n",
    "    return ser_ret.sort_values(ascending=False)"
   ]
  },
  {
   "cell_type": "markdown",
   "metadata": {},
   "source": [
    "#### Function for user-based collaborative filtering.  \n",
    "\n",
    "arguments: dictionary of scores for the target user  \n",
    "\n",
    "ex)\n",
    "get_recomm_by_user_sim({'maguro':1, 'ika':1, 'uni':3,\n",
    "                        'awabi':4, 'hirame':4, 'aoyagi':4})  \n",
    "-> return list such as [('akagai', 2.9835603009918303), ('mirugai', 2.945676429588114), ...]"
   ]
  },
  {
   "cell_type": "code",
   "execution_count": 35,
   "metadata": {},
   "outputs": [],
   "source": [
    "def get_recomm_by_user_sim(df, target_dic):\n",
    "    ser_target = pd.Series(target_dic)\n",
    "    # make dataframe with columns included in target_dic\n",
    "    df_scores = df[ ser_target.index ]\n",
    "    #display(df_scores)  # debug\n",
    "    n_same_items = df_scores.notnull().sum(axis=1)\n",
    "    #display(df_scores.notnull())  # debug\n",
    "    df_common = df_scores[ n_same_items>=min_common_items ]\n",
    "    #display(df_common)  # debug\n",
    "    \n",
    "    ser_sim = get_sim_ser_by_pearson2(df_common, ser_target)    \n",
    "    #print(ser_sim)  # debug\n",
    "    df_sim = df.loc[ ser_sim.index ]\n",
    "    #display(df_sim)  # debug\n",
    "    recomm = predict_scores(df_sim, ser_sim, ser_target)\n",
    "\n",
    "    return recomm"
   ]
  },
  {
   "cell_type": "markdown",
   "metadata": {},
   "source": [
    "#### Do recommendation  "
   ]
  },
  {
   "cell_type": "markdown",
   "metadata": {},
   "source": [
    "Number of items calculated: 46\n",
    "Recommendation:\n",
    "ankimo     4.176725\n",
    "kohada     3.716200\n",
    "mirugai    3.598203\n",
    "shako      3.581244\n",
    "akagai     3.539989\n",
    "dtype: float64\n",
    "Number of items calculated: 73\n",
    "Recommendation:\n",
    "toro_samon    3.993705\n",
    "okura         3.607180\n",
    "negi_toro     3.338903\n",
    "tarabagani    3.312345\n",
    "kanpachi      3.228670\n",
    "dtype: float64"
   ]
  },
  {
   "cell_type": "code",
   "execution_count": 36,
   "metadata": {},
   "outputs": [
    {
     "output_type": "stream",
     "name": "stdout",
     "text": [
      "Number of items calculated: 46\nRecommendation:\nankimo     4.176725\nkohada     3.716200\nmirugai    3.598203\nshako      3.581244\nakagai     3.539989\ndtype: float64\nNumber of items calculated: 73\nRecommendation:\ntoro_samon    3.993705\nokura         3.607180\nnegi_toro     3.338903\ntarabagani    3.312345\nkanpachi      3.228670\ndtype: float64\n"
     ]
    }
   ],
   "source": [
    "similarity = 'pearson'\n",
    "recomm = get_recomm_by_user_sim(df,\n",
    "                                {'maguro':1, 'ika':1, 'uni':3,\n",
    "                                 'awabi':4, 'hirame':4, 'aoyagi':4})\n",
    "print('Number of items calculated:', len(recomm))\n",
    "print('Recommendation:')\n",
    "print(recomm.head())\n",
    "\n",
    "recomm = get_recomm_by_user_sim(df,\n",
    "                                {'anago': 3, 'maguro': 4, 'ikura': 3,\n",
    "                                 'hamachi': 4, 'samon': 4, 'unagi': 3,\n",
    "                                 'suzuki': 2, 'hamo': 1, 'nasu': 1,\n",
    "                                 'shiso_maki': 2})\n",
    "print('Number of items calculated:', len(recomm))\n",
    "print('Recommendation:')\n",
    "print(recomm.head())"
   ]
  },
  {
   "cell_type": "code",
   "execution_count": 37,
   "metadata": {},
   "outputs": [
    {
     "output_type": "stream",
     "name": "stdout",
     "text": [
      "Number of items calculated: 46\n",
      "Recommendation:\n",
      "toro_samon    3.933693\n",
      "kurumaebi     3.715042\n",
      "hotategai     3.629251\n",
      "chu_toro      3.628787\n",
      "amaebi        3.610793\n",
      "dtype: float64\n",
      "Number of items calculated: 73\n",
      "Recommendation:\n",
      "toro_samon    3.707632\n",
      "negi_toro     3.586865\n",
      "toro          3.530291\n",
      "tarabagani    3.343768\n",
      "zuke          3.327067\n",
      "dtype: float64\n"
     ]
    }
   ],
   "source": [
    "similarity = 'pearson2'\n",
    "recomm = get_recomm_by_user_sim(df,\n",
    "                                {'maguro':1, 'ika':1, 'uni':3,\n",
    "                                 'awabi':4, 'hirame':4, 'aoyagi':4})\n",
    "print('Number of items calculated:', len(recomm))\n",
    "print('Recommendation:')\n",
    "print(recomm.head())\n",
    "\n",
    "recomm = get_recomm_by_user_sim(df,\n",
    "                                {'anago': 3, 'maguro': 4, 'ikura': 3,\n",
    "                                 'hamachi': 4, 'samon': 4, 'unagi': 3,\n",
    "                                 'suzuki': 2, 'hamo': 1, 'nasu': 1,\n",
    "                                 'shiso_maki': 2})\n",
    "print('Number of items calculated:', len(recomm))\n",
    "print('Recommendation:')\n",
    "print(recomm.head())"
   ]
  }
 ],
 "metadata": {
  "kernelspec": {
   "name": "python3",
   "display_name": "Python 3.8.8 64-bit ('ds2021': conda)"
  },
  "language_info": {
   "codemirror_mode": {
    "name": "ipython",
    "version": 3
   },
   "file_extension": ".py",
   "mimetype": "text/x-python",
   "name": "python",
   "nbconvert_exporter": "python",
   "pygments_lexer": "ipython3",
   "version": "3.8.8"
  },
  "interpreter": {
   "hash": "e8880c58ea65068827af19aa57df99e07da1109ce0dc5e321474e5f3a08d850b"
  }
 },
 "nbformat": 4,
 "nbformat_minor": 4
}