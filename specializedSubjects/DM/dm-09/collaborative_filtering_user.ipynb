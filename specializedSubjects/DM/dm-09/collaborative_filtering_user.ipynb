{
 "cells": [
  {
   "cell_type": "markdown",
   "metadata": {},
   "source": [
    "### Sample script for user-based collaborative filtering  "
   ]
  },
  {
   "cell_type": "markdown",
   "metadata": {},
   "source": [
    "#### Import libraries"
   ]
  },
  {
   "cell_type": "code",
   "execution_count": null,
   "metadata": {},
   "outputs": [],
   "source": [
    "import numpy as np\n",
    "import pandas as pd"
   ]
  },
  {
   "cell_type": "markdown",
   "metadata": {},
   "source": [
    "#### Parameters  "
   ]
  },
  {
   "cell_type": "code",
   "execution_count": null,
   "metadata": {},
   "outputs": [],
   "source": [
    "csv_in = 'sushi3b.5000.10.score.csv'\n",
    "# min number of common items between target user and users in DB\n",
    "min_common_items = 4\n",
    "# min number of users who evaluated an item to be recommended\n",
    "min_eval_users = 3\n",
    "\n",
    "# To show more rows and columns\n",
    "pd.options.display.max_rows = 999 \n",
    "pd.options.display.max_columns = 999 "
   ]
  },
  {
   "cell_type": "markdown",
   "metadata": {},
   "source": [
    "#### Read CSV file  "
   ]
  },
  {
   "cell_type": "code",
   "execution_count": null,
   "metadata": {},
   "outputs": [],
   "source": [
    "df = pd.read_csv(csv_in, delimiter=',', skiprows=0, header=0)\n",
    "print(df.shape)\n",
    "display(df.info())\n",
    "display(df.head())"
   ]
  },
  {
   "cell_type": "markdown",
   "metadata": {},
   "source": [
    "#### Replace -1 into NaN (for not to be used during calculation)  "
   ]
  },
  {
   "cell_type": "code",
   "execution_count": null,
   "metadata": {},
   "outputs": [],
   "source": [
    "df = df.replace(-1, np.nan)\n",
    "display(df.head())"
   ]
  },
  {
   "cell_type": "markdown",
   "metadata": {},
   "source": [
    "#### Return Series of similiarity of users  \n",
    "by using Pearson correlation coefficient (-1 .. 1).  "
   ]
  },
  {
   "cell_type": "code",
   "execution_count": null,
   "metadata": {},
   "outputs": [],
   "source": [
    "def get_sim_ser_by_pearson(df_users, ser_target):\n",
    "    corr_all = df_users.corrwith(ser_target, axis=1).dropna()\n",
    "    return corr_all"
   ]
  },
  {
   "cell_type": "markdown",
   "metadata": {},
   "source": [
    "#### Prediction of scores for the target user  \n",
    "(for items with no score)  \n",
    "based on deviation from average  "
   ]
  },
  {
   "cell_type": "code",
   "execution_count": null,
   "metadata": {},
   "outputs": [],
   "source": [
    "def predict_scores(df_sim, ser_sim, ser_target):\n",
    "    ret = {}\n",
    "    df_sim_ave = df_sim.mean(axis=1)\n",
    "    #print(df_sim.head())  # debug\n",
    "    target_ave = ser_target.mean()\n",
    "    #print(target_ave)  # debug\n",
    "    for item1 in df_sim.columns:\n",
    "        if item1 in ser_target.index: continue\n",
    "        v1 = df_sim[item1]\n",
    "        if v1.notnull().sum() < min_eval_users: continue\n",
    "        v1 -= df_sim_ave\n",
    "        v11 = v1[ v1.notnull() ]\n",
    "        t11 = ser_sim[ v1.notnull() ]\n",
    "        pred1 = target_ave + (v11 * t11).sum() / np.abs(t11).sum()\n",
    "        ret[item1] = pred1\n",
    "    \n",
    "    ser_ret = pd.Series(ret)\n",
    "    \n",
    "    return ser_ret.sort_values(ascending=False)"
   ]
  },
  {
   "cell_type": "markdown",
   "metadata": {},
   "source": [
    "#### Function for user-based collaborative filtering.  \n",
    "\n",
    "arguments: dictionary of scores for the target user  \n",
    "\n",
    "ex)\n",
    "get_recomm_by_user_sim({'maguro':1, 'ika':1, 'uni':3,\n",
    "                        'awabi':4, 'hirame':4, 'aoyagi':4})  \n",
    "-> return list such as [('akagai', 2.9835603009918303), ('mirugai', 2.945676429588114), ...]"
   ]
  },
  {
   "cell_type": "code",
   "execution_count": null,
   "metadata": {},
   "outputs": [],
   "source": [
    "def get_recomm_by_user_sim(df, target_dic):\n",
    "    ser_target = pd.Series(target_dic)\n",
    "    # make dataframe with columns included in target_dic\n",
    "    df_scores = df[ ser_target.index ]\n",
    "    #display(df_scores)  # debug\n",
    "    n_same_items = df_scores.notnull().sum(axis=1)\n",
    "    #display(df_scores.notnull())  # debug\n",
    "    df_common = df_scores[ n_same_items>=min_common_items ]\n",
    "    #display(df_common)  # debug\n",
    "    \n",
    "    ser_sim = get_sim_ser_by_pearson(df_common, ser_target)    \n",
    "    #print(ser_sim)  # debug\n",
    "    df_sim = df.loc[ ser_sim.index ]\n",
    "    #display(df_sim)  # debug\n",
    "    recomm = predict_scores(df_sim, ser_sim, ser_target)\n",
    "\n",
    "    return recomm"
   ]
  },
  {
   "cell_type": "markdown",
   "metadata": {},
   "source": [
    "#### Do recommendation  "
   ]
  },
  {
   "cell_type": "markdown",
   "metadata": {},
   "source": [
    "Number of items calculated: 46\n",
    "Recommendation:\n",
    "ankimo     4.176725\n",
    "kohada     3.716200\n",
    "mirugai    3.598203\n",
    "shako      3.581244\n",
    "akagai     3.539989\n",
    "dtype: float64\n",
    "Number of items calculated: 73\n",
    "Recommendation:\n",
    "toro_samon    3.993705\n",
    "okura         3.607180\n",
    "negi_toro     3.338903\n",
    "tarabagani    3.312345\n",
    "kanpachi      3.228670\n",
    "dtype: float64"
   ]
  },
  {
   "cell_type": "code",
   "execution_count": null,
   "metadata": {},
   "outputs": [],
   "source": [
    "recomm = get_recomm_by_user_sim(df,\n",
    "                                {'maguro':1, 'ika':1, 'uni':3,\n",
    "                                 'awabi':4, 'hirame':4, 'aoyagi':4})\n",
    "print('Number of items calculated:', len(recomm))\n",
    "print('Recommendation:')\n",
    "print(recomm.head())\n",
    "\n",
    "recomm = get_recomm_by_user_sim(df,\n",
    "                                {'anago': 3, 'maguro': 4, 'ikura': 3,\n",
    "                                 'hamachi': 4, 'samon': 4, 'unagi': 3,\n",
    "                                 'suzuki': 2, 'hamo': 1, 'nasu': 1,\n",
    "                                 'shiso_maki': 2})\n",
    "print('Number of items calculated:', len(recomm))\n",
    "print('Recommendation:')\n",
    "print(recomm.head())"
   ]
  }
 ],
 "metadata": {
  "kernelspec": {
   "display_name": "Python 3",
   "language": "python",
   "name": "python3"
  },
  "language_info": {
   "codemirror_mode": {
    "name": "ipython",
    "version": 3
   },
   "file_extension": ".py",
   "mimetype": "text/x-python",
   "name": "python",
   "nbconvert_exporter": "python",
   "pygments_lexer": "ipython3",
   "version": "3.8.8"
  }
 },
 "nbformat": 4,
 "nbformat_minor": 4
}
