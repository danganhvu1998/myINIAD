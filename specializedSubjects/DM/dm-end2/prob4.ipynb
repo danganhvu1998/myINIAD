{
 "cells": [
  {
   "cell_type": "markdown",
   "metadata": {},
   "source": [
    "### dm-11-practice2  "
   ]
  },
  {
   "cell_type": "markdown",
   "metadata": {},
   "source": [
    "#### Import libraries  "
   ]
  },
  {
   "cell_type": "code",
   "execution_count": 1,
   "metadata": {},
   "outputs": [],
   "source": [
    "import pandas as pd\n",
    "import numpy as np\n",
    "\n",
    "import pyfpgrowth  # https://fp-growth.readthedocs.io/en/latest/"
   ]
  },
  {
   "cell_type": "markdown",
   "metadata": {},
   "source": [
    "#### Parameters  "
   ]
  },
  {
   "cell_type": "code",
   "execution_count": 2,
   "metadata": {},
   "outputs": [],
   "source": [
    "csv_in = 'dm-end2-4.csv'"
   ]
  },
  {
   "cell_type": "markdown",
   "metadata": {},
   "source": [
    "#### Read CSV file  "
   ]
  },
  {
   "cell_type": "code",
   "execution_count": 3,
   "metadata": {},
   "outputs": [
    {
     "name": "stdout",
     "output_type": "stream",
     "text": [
      "(999, 2)\n",
      "<class 'pandas.core.frame.DataFrame'>\n",
      "RangeIndex: 999 entries, 0 to 998\n",
      "Data columns (total 2 columns):\n",
      " #   Column   Non-Null Count  Dtype \n",
      "---  ------   --------------  ----- \n",
      " 0   Invoice  999 non-null    object\n",
      " 1   Item     999 non-null    int64 \n",
      "dtypes: int64(1), object(1)\n",
      "memory usage: 15.7+ KB\n",
      "None\n"
     ]
    },
    {
     "data": {
      "text/html": [
       "<div>\n",
       "<style scoped>\n",
       "    .dataframe tbody tr th:only-of-type {\n",
       "        vertical-align: middle;\n",
       "    }\n",
       "\n",
       "    .dataframe tbody tr th {\n",
       "        vertical-align: top;\n",
       "    }\n",
       "\n",
       "    .dataframe thead th {\n",
       "        text-align: right;\n",
       "    }\n",
       "</style>\n",
       "<table border=\"1\" class=\"dataframe\">\n",
       "  <thead>\n",
       "    <tr style=\"text-align: right;\">\n",
       "      <th></th>\n",
       "      <th>Invoice</th>\n",
       "      <th>Item</th>\n",
       "    </tr>\n",
       "  </thead>\n",
       "  <tbody>\n",
       "    <tr>\n",
       "      <th>0</th>\n",
       "      <td>T1016</td>\n",
       "      <td>240</td>\n",
       "    </tr>\n",
       "    <tr>\n",
       "      <th>1</th>\n",
       "      <td>T1009</td>\n",
       "      <td>195</td>\n",
       "    </tr>\n",
       "    <tr>\n",
       "      <th>2</th>\n",
       "      <td>T1039</td>\n",
       "      <td>222</td>\n",
       "    </tr>\n",
       "    <tr>\n",
       "      <th>3</th>\n",
       "      <td>T1041</td>\n",
       "      <td>249</td>\n",
       "    </tr>\n",
       "    <tr>\n",
       "      <th>4</th>\n",
       "      <td>T1005</td>\n",
       "      <td>104</td>\n",
       "    </tr>\n",
       "  </tbody>\n",
       "</table>\n",
       "</div>"
      ],
      "text/plain": [
       "  Invoice  Item\n",
       "0   T1016   240\n",
       "1   T1009   195\n",
       "2   T1039   222\n",
       "3   T1041   249\n",
       "4   T1005   104"
      ]
     },
     "metadata": {},
     "output_type": "display_data"
    }
   ],
   "source": [
    "df = pd.read_csv(csv_in, delimiter=',', skiprows=0, header=0)\n",
    "print(df.shape)\n",
    "print(df.info())\n",
    "display(df.head())"
   ]
  },
  {
   "cell_type": "markdown",
   "metadata": {},
   "source": [
    "#### Check appearance of each StockCode  "
   ]
  },
  {
   "cell_type": "code",
   "execution_count": 4,
   "metadata": {},
   "outputs": [
    {
     "name": "stdout",
     "output_type": "stream",
     "text": [
      "50\n",
      "T1008    30\n",
      "T1007    26\n",
      "T1012    26\n",
      "T1031    26\n",
      "T1034    26\n",
      "Name: Invoice, dtype: int64\n"
     ]
    }
   ],
   "source": [
    "top_inv = df['Invoice'].value_counts()\n",
    "print(top_inv.size)\n",
    "print(top_inv.head())"
   ]
  },
  {
   "cell_type": "code",
   "execution_count": 5,
   "metadata": {},
   "outputs": [
    {
     "name": "stdout",
     "output_type": "stream",
     "text": [
      "150\n",
      "181    16\n",
      "146    12\n",
      "214    11\n",
      "238    11\n",
      "200    11\n",
      "Name: Item, dtype: int64\n"
     ]
    }
   ],
   "source": [
    "top_sc = df['Item'].value_counts()\n",
    "print(top_sc.size)\n",
    "print(top_sc.head())"
   ]
  },
  {
   "cell_type": "markdown",
   "metadata": {},
   "source": [
    "#### Format transaction data  \n",
    "Before:  \n",
    "```\n",
    "invoice1, stockcode1, ...  \n",
    "invoice1, stockcode2, ...  \n",
    "invoice2, stockcode1, ...  \n",
    "invoice3, stockcode1, ...  \n",
    "invoice3, stockcode3, ...  \n",
    "```\n",
    "\n",
    "After:  \n",
    "```\n",
    "[  \n",
    "  [stockcode1, stockcode2],    \n",
    "  [stockcode1],  \n",
    "  [stockcode1, stockcode3],  \n",
    "  ...  \n",
    "]  \n",
    "```\n",
    "\n",
    "and stockcode should be interger.  "
   ]
  },
  {
   "cell_type": "markdown",
   "metadata": {},
   "source": [
    "#### Grouping transaction data by InvoiceNo  "
   ]
  },
  {
   "cell_type": "code",
   "execution_count": 13,
   "metadata": {},
   "outputs": [
    {
     "name": "stdout",
     "output_type": "stream",
     "text": [
      "50\n",
      "[[224, 225, 226, 227, 198, 134, 108, 141, 209, 120, 219, 223], [130, 139, 143, 144, 149, 169, 182, 184, 187, 193, 204, 210, 222, 224, 225, 231, 103, 238, 116], [129, 132, 134, 135, 143, 144, 150, 151, 155, 180, 181, 187, 192, 202, 206, 217, 229, 235, 109, 250]]\n",
      "15 11 1\n",
      "0.06666666666666667 0.09090909090909091\n"
     ]
    }
   ],
   "source": [
    "invoices = []\n",
    "for r in df.groupby('Invoice'):\n",
    "    s1 = set(r[1]['Item'])\n",
    "    invoices.append(list(s1))\n",
    "print(len(invoices))\n",
    "print(invoices[:3])\n",
    "has1 = 0\n",
    "has2 = 0\n",
    "hasBoth = 0\n",
    "for invoice in invoices:\n",
    "    if(181 in invoice): has1 = has1 + 1\n",
    "    if(146 in invoice): has2 = has2 + 1\n",
    "    if (146 in invoice) and (181 in invoice): hasBoth = hasBoth + 1\n",
    "print(has1, has2, hasBoth)\n",
    "conf_1_2 = hasBoth / has1\n",
    "conf_2_1 = hasBoth / has2\n",
    "print(conf_1_2, conf_2_1)"
   ]
  },
  {
   "cell_type": "code",
   "execution_count": null,
   "metadata": {},
   "outputs": [],
   "source": []
  }
 ],
 "metadata": {
  "kernelspec": {
   "display_name": "Python 3",
   "language": "python",
   "name": "python3"
  },
  "language_info": {
   "codemirror_mode": {
    "name": "ipython",
    "version": 3
   },
   "file_extension": ".py",
   "mimetype": "text/x-python",
   "name": "python",
   "nbconvert_exporter": "python",
   "pygments_lexer": "ipython3",
   "version": "3.8.8"
  }
 },
 "nbformat": 4,
 "nbformat_minor": 4
}
