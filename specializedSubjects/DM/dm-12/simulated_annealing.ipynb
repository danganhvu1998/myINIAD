{
 "cells": [
  {
   "cell_type": "markdown",
   "metadata": {},
   "source": [
    "### Simulated annealing  "
   ]
  },
  {
   "cell_type": "markdown",
   "metadata": {},
   "source": [
    "#### Import libraries  "
   ]
  },
  {
   "cell_type": "code",
   "execution_count": null,
   "metadata": {},
   "outputs": [],
   "source": [
    "import numpy as np\n",
    "import matplotlib.pyplot as plt\n",
    "from matplotlib import cm\n",
    "from scipy.optimize import minimize"
   ]
  },
  {
   "cell_type": "markdown",
   "metadata": {},
   "source": [
    "#### Definition of function to be optimized  "
   ]
  },
  {
   "cell_type": "code",
   "execution_count": null,
   "metadata": {},
   "outputs": [],
   "source": [
    "def f(x):\n",
    "    return x**4-8*x**2+4*x"
   ]
  },
  {
   "cell_type": "markdown",
   "metadata": {},
   "source": [
    "#### Plot a graph of f(x)  "
   ]
  },
  {
   "cell_type": "code",
   "execution_count": null,
   "metadata": {},
   "outputs": [],
   "source": [
    "X = np.linspace(-3, 3, 100)\n",
    "Y = f(X)\n",
    "plt.plot(X, Y, label='f(x)')\n",
    "plt.xlabel('x')\n",
    "plt.ylabel('f(x)')\n",
    "plt.legend()\n",
    "plt.show()"
   ]
  },
  {
   "cell_type": "markdown",
   "metadata": {},
   "source": [
    "#### Simulated annealing  "
   ]
  },
  {
   "cell_type": "code",
   "execution_count": null,
   "metadata": {},
   "outputs": [],
   "source": [
    "from random import random\n",
    "\n",
    "def simulated_annealing(func, n_steps=1500, x0=0.0, xstep=0.5,\n",
    "                        T0=100.0, Tcool=0.995):\n",
    "    traj_x, traj_e, traj_temp = [], [], []\n",
    "    prev_x, prev_e, temp = x0, func(x0), T0\n",
    "    traj_x.append(prev_x)\n",
    "    traj_e.append(prev_e)\n",
    "    traj_temp.append(temp)\n",
    "    for i in range(n_steps):\n",
    "        dx = 2.0*(random()-0.5)*xstep\n",
    "        e = func(prev_x+dx)\n",
    "        dc = e - prev_e\n",
    "        if dc < 0.0 or random() < np.exp(-dc/temp):  # accepted\n",
    "            prev_x += dx\n",
    "            prev_e = e\n",
    "        traj_x.append(prev_x)\n",
    "        traj_e.append(prev_e)\n",
    "        traj_temp.append(temp)\n",
    "        temp *= Tcool\n",
    "    return (prev_x,traj_x,traj_e,traj_temp)\n",
    "\n",
    "x_end,traj_x,traj_e,traj_temp = simulated_annealing(f, x0=1.0)\n",
    "print(x_end, f(x_end))"
   ]
  },
  {
   "cell_type": "markdown",
   "metadata": {},
   "source": [
    "#### Temperature  "
   ]
  },
  {
   "cell_type": "code",
   "execution_count": null,
   "metadata": {},
   "outputs": [],
   "source": [
    "X = np.arange(len(traj_temp))\n",
    "plt.plot(X,traj_temp,label='Temperature')\n",
    "plt.xlabel('Steps')\n",
    "plt.ylabel('Temperature')\n",
    "plt.show()"
   ]
  },
  {
   "cell_type": "markdown",
   "metadata": {},
   "source": [
    "#### Trajectories  \n",
    "Initial value dependence is smaller than the methods of local minimization.  \n",
    "However, because SA is stochastic, there are cases where  \n",
    "the solution is trapped by a shallow valley,  \n",
    "so we should run SA multiple times and get the best results among them.  "
   ]
  },
  {
   "cell_type": "code",
   "execution_count": null,
   "metadata": {},
   "outputs": [],
   "source": [
    "np.random.seed(11)\n",
    "n_trial = 5\n",
    "x_min = -4.5\n",
    "x_max = 4.5\n",
    "for i in range(n_trial):\n",
    "    x0 = float(i-2)\n",
    "    x_end,traj_x,traj_e,traj_temp = simulated_annealing(f, x0=x0)\n",
    "    print('x0:', x0, ' x_end:', x_end)\n",
    "    X = np.linspace(x_min, x_max)\n",
    "    Y = f(X)\n",
    "    plt.plot(X, Y, label='f(x)', color='black')\n",
    "    c = np.arange(len(traj_x))\n",
    "    plt.scatter(traj_x, traj_e, marker='o', linewidth=1, c=c, cmap=cm.jet_r)\n",
    "    ax=plt.colorbar()\n",
    "    ax.set_label('Steps')\n",
    "    plt.xlabel('x')\n",
    "    plt.ylabel('f(x)')\n",
    "    plt.legend()\n",
    "    plt.show()"
   ]
  },
  {
   "cell_type": "code",
   "execution_count": null,
   "metadata": {},
   "outputs": [],
   "source": []
  }
 ],
 "metadata": {
  "kernelspec": {
   "display_name": "Python 3",
   "language": "python",
   "name": "python3"
  },
  "language_info": {
   "codemirror_mode": {
    "name": "ipython",
    "version": 3
   },
   "file_extension": ".py",
   "mimetype": "text/x-python",
   "name": "python",
   "nbconvert_exporter": "python",
   "pygments_lexer": "ipython3",
   "version": "3.8.8"
  }
 },
 "nbformat": 4,
 "nbformat_minor": 4
}
