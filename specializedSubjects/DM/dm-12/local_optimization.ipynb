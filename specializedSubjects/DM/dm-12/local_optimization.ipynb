{
 "cells": [
  {
   "cell_type": "markdown",
   "source": [
    "### Local minimization  "
   ],
   "metadata": {}
  },
  {
   "cell_type": "markdown",
   "source": [
    "#### Import libraries  "
   ],
   "metadata": {}
  },
  {
   "cell_type": "code",
   "execution_count": 19,
   "source": [
    "import numpy as np\n",
    "import matplotlib.pyplot as plt\n",
    "from scipy.optimize import minimize"
   ],
   "outputs": [],
   "metadata": {}
  },
  {
   "cell_type": "markdown",
   "source": [
    "#### Definition of function to be optimized  "
   ],
   "metadata": {}
  },
  {
   "cell_type": "code",
   "execution_count": 20,
   "source": [
    "def f(x):\n",
    "    return x**4-8*x**2+4*x"
   ],
   "outputs": [],
   "metadata": {}
  },
  {
   "cell_type": "markdown",
   "source": [
    "#### Plot a graph of f(x)  "
   ],
   "metadata": {}
  },
  {
   "cell_type": "code",
   "execution_count": 21,
   "source": [
    "X = np.linspace(-3, 3)\n",
    "Y = f(X)\n",
    "plt.plot(X, Y)\n",
    "plt.xlabel('X')\n",
    "plt.ylabel('f(X)')\n",
    "plt.show()"
   ],
   "outputs": [
    {
     "output_type": "display_data",
     "data": {
      "text/plain": [
       "<Figure size 432x288 with 1 Axes>"
      ],
      "image/png": "[encoded data removed]"
     },
     "metadata": {
      "needs_background": "light"
     }
    }
   ],
   "metadata": {}
  },
  {
   "cell_type": "markdown",
   "source": [
    "#### Local minimization from x0 = 0   "
   ],
   "metadata": {}
  },
  {
   "cell_type": "code",
   "execution_count": 22,
   "source": [
    "x0 = 0\n",
    "result = minimize(f, x0, method='cg')\n",
    "print(result.fun)\n",
    "print(result.x)\n",
    "print(result)"
   ],
   "outputs": [
    {
     "output_type": "stream",
     "name": "stdout",
     "text": [
      "-24.23605826041129\n",
      "[-2.11490754]\n",
      "     fun: -24.23605826041129\n",
      "     jac: array([4.76837158e-07])\n",
      " message: 'Optimization terminated successfully.'\n",
      "    nfev: 31\n",
      "     nit: 4\n",
      "    njev: 14\n",
      "  status: 0\n",
      " success: True\n",
      "       x: array([-2.11490754])\n"
     ]
    }
   ],
   "metadata": {}
  },
  {
   "cell_type": "markdown",
   "source": [
    "#### Local minimization from x0 = 1  "
   ],
   "metadata": {}
  },
  {
   "cell_type": "code",
   "execution_count": 23,
   "source": [
    "x0 = 1\n",
    "result = minimize(f, x0, method='cg')\n",
    "print(result.fun)\n",
    "print(result.x)\n",
    "print(result)"
   ],
   "outputs": [
    {
     "output_type": "stream",
     "name": "stdout",
     "text": [
      "[-24.23605826]\n",
      "[-2.11490755]\n",
      "     fun: array([-24.23605826])\n",
      "     jac: array([-4.76837158e-07])\n",
      " message: 'Optimization terminated successfully.'\n",
      "    nfev: 12\n",
      "     nit: 1\n",
      "    njev: 6\n",
      "  status: 0\n",
      " success: True\n",
      "       x: array([-2.11490755])\n"
     ]
    }
   ],
   "metadata": {}
  },
  {
   "cell_type": "code",
   "execution_count": 24,
   "source": [
    "#?minimize"
   ],
   "outputs": [],
   "metadata": {}
  }
 ],
 "metadata": {
  "kernelspec": {
   "display_name": "Python 3",
   "language": "python",
   "name": "python3"
  },
  "language_info": {
   "codemirror_mode": {
    "name": "ipython",
    "version": 3
   },
   "file_extension": ".py",
   "mimetype": "text/x-python",
   "name": "python",
   "nbconvert_exporter": "python",
   "pygments_lexer": "ipython3",
   "version": "3.8.8"
  }
 },
 "nbformat": 4,
 "nbformat_minor": 4
}