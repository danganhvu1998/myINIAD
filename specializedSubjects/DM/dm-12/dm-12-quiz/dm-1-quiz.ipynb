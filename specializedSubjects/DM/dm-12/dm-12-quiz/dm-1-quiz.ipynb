{
 "cells": [
  {
   "cell_type": "markdown",
   "source": [
    "### dm-11-practice2  "
   ],
   "metadata": {}
  },
  {
   "cell_type": "markdown",
   "source": [
    "#### Import libraries  "
   ],
   "metadata": {}
  },
  {
   "cell_type": "code",
   "execution_count": 1,
   "source": [
    "import pandas as pd\n",
    "import pyfpgrowth  # https://fp-growth.readthedocs.io/en/latest/"
   ],
   "outputs": [],
   "metadata": {}
  },
  {
   "cell_type": "markdown",
   "source": [
    "#### Parameters  "
   ],
   "metadata": {}
  },
  {
   "cell_type": "code",
   "execution_count": 2,
   "source": [
    "csv_in = 'dm-12-quiz.csv'"
   ],
   "outputs": [],
   "metadata": {}
  },
  {
   "cell_type": "markdown",
   "source": [
    "#### Read CSV file  "
   ],
   "metadata": {}
  },
  {
   "cell_type": "code",
   "execution_count": 3,
   "source": [
    "df = pd.read_csv(csv_in, delimiter=',', skiprows=0, header=0)\n",
    "print(df.shape)\n",
    "print(df.info())\n",
    "display(df.head())"
   ],
   "outputs": [
    {
     "output_type": "stream",
     "name": "stdout",
     "text": [
      "(318, 2)\n",
      "<class 'pandas.core.frame.DataFrame'>\n",
      "RangeIndex: 318 entries, 0 to 317\n",
      "Data columns (total 2 columns):\n",
      " #   Column     Non-Null Count  Dtype \n",
      "---  ------     --------------  ----- \n",
      " 0   InvoiceNo  318 non-null    object\n",
      " 1   ItemNo     318 non-null    int64 \n",
      "dtypes: int64(1), object(1)\n",
      "memory usage: 5.1+ KB\n",
      "None\n"
     ]
    },
    {
     "output_type": "display_data",
     "data": {
      "text/plain": [
       "  InvoiceNo  ItemNo\n",
       "0      T001       5\n",
       "1      T001       4\n",
       "2      T001       6\n",
       "3      T002       2\n",
       "4      T003       2"
      ],
      "text/html": [
       "<div>\n",
       "<style scoped>\n",
       "    .dataframe tbody tr th:only-of-type {\n",
       "        vertical-align: middle;\n",
       "    }\n",
       "\n",
       "    .dataframe tbody tr th {\n",
       "        vertical-align: top;\n",
       "    }\n",
       "\n",
       "    .dataframe thead th {\n",
       "        text-align: right;\n",
       "    }\n",
       "</style>\n",
       "<table border=\"1\" class=\"dataframe\">\n",
       "  <thead>\n",
       "    <tr style=\"text-align: right;\">\n",
       "      <th></th>\n",
       "      <th>InvoiceNo</th>\n",
       "      <th>ItemNo</th>\n",
       "    </tr>\n",
       "  </thead>\n",
       "  <tbody>\n",
       "    <tr>\n",
       "      <th>0</th>\n",
       "      <td>T001</td>\n",
       "      <td>5</td>\n",
       "    </tr>\n",
       "    <tr>\n",
       "      <th>1</th>\n",
       "      <td>T001</td>\n",
       "      <td>4</td>\n",
       "    </tr>\n",
       "    <tr>\n",
       "      <th>2</th>\n",
       "      <td>T001</td>\n",
       "      <td>6</td>\n",
       "    </tr>\n",
       "    <tr>\n",
       "      <th>3</th>\n",
       "      <td>T002</td>\n",
       "      <td>2</td>\n",
       "    </tr>\n",
       "    <tr>\n",
       "      <th>4</th>\n",
       "      <td>T003</td>\n",
       "      <td>2</td>\n",
       "    </tr>\n",
       "  </tbody>\n",
       "</table>\n",
       "</div>"
      ]
     },
     "metadata": {}
    }
   ],
   "metadata": {}
  },
  {
   "cell_type": "markdown",
   "source": [
    "#### Check appearance of each StockCode  "
   ],
   "metadata": {}
  },
  {
   "cell_type": "code",
   "execution_count": 4,
   "source": [
    "top_sc = df['ItemNo'].value_counts()\n",
    "print(top_sc.size)\n",
    "print(top_sc.head())"
   ],
   "outputs": [
    {
     "output_type": "stream",
     "name": "stdout",
     "text": [
      "7\n",
      "2    74\n",
      "3    60\n",
      "4    48\n",
      "1    47\n",
      "6    37\n",
      "Name: ItemNo, dtype: int64\n"
     ]
    }
   ],
   "metadata": {}
  },
  {
   "cell_type": "markdown",
   "source": [
    "#### Format transaction data  \n",
    "Before:  \n",
    "```\n",
    "invoice1, stockcode1, ...  \n",
    "invoice1, stockcode2, ...  \n",
    "invoice2, stockcode1, ...  \n",
    "invoice3, stockcode1, ...  \n",
    "invoice3, stockcode3, ...  \n",
    "```\n",
    "\n",
    "After:  \n",
    "```\n",
    "[  \n",
    "  [stockcode1, stockcode2],    \n",
    "  [stockcode1],  \n",
    "  [stockcode1, stockcode3],  \n",
    "  ...  \n",
    "]  \n",
    "```\n",
    "\n",
    "and stockcode should be interger.  "
   ],
   "metadata": {}
  },
  {
   "cell_type": "markdown",
   "source": [
    "#### Grouping transaction data by InvoiceNo  "
   ],
   "metadata": {}
  },
  {
   "cell_type": "code",
   "execution_count": 5,
   "source": [
    "invoices = []\n",
    "for r in df.groupby('InvoiceNo'):\n",
    "    s1 = set(r[1]['ItemNo'])\n",
    "    invoices.append(list(s1))\n",
    "print(len(invoices))\n",
    "print(invoices[:3])"
   ],
   "outputs": [
    {
     "output_type": "stream",
     "name": "stdout",
     "text": [
      "150\n",
      "[[4, 5, 6], [2], [2, 3, 7]]\n"
     ]
    }
   ],
   "metadata": {}
  },
  {
   "cell_type": "markdown",
   "source": [
    "#### Market Basket Analysis by FP-Growth  "
   ],
   "metadata": {}
  },
  {
   "cell_type": "code",
   "execution_count": 6,
   "source": [
    "%time patterns = pyfpgrowth.find_frequent_patterns(invoices, 5)"
   ],
   "outputs": [
    {
     "output_type": "stream",
     "name": "stdout",
     "text": [
      "CPU times: user 865 µs, sys: 145 µs, total: 1.01 ms\n",
      "Wall time: 1.01 ms\n"
     ]
    }
   ],
   "metadata": {}
  },
  {
   "cell_type": "code",
   "execution_count": 7,
   "source": [
    "#print(patterns)"
   ],
   "outputs": [],
   "metadata": {}
  },
  {
   "cell_type": "code",
   "execution_count": 8,
   "source": [
    "%time rules = pyfpgrowth.generate_association_rules(patterns, 0.3)"
   ],
   "outputs": [
    {
     "output_type": "stream",
     "name": "stdout",
     "text": [
      "CPU times: user 96 µs, sys: 0 ns, total: 96 µs\n",
      "Wall time: 98.7 µs\n"
     ]
    }
   ],
   "metadata": {}
  },
  {
   "cell_type": "code",
   "execution_count": 9,
   "source": [
    "print(rules)"
   ],
   "outputs": [
    {
     "output_type": "stream",
     "name": "stdout",
     "text": [
      "{(1, 3): ((2,), 0.3125), (1, 2): ((4,), 0.35), (3,): ((2,), 0.3448275862068966), (2,): ((4,), 0.35135135135135137)}\n"
     ]
    }
   ],
   "metadata": {}
  },
  {
   "cell_type": "code",
   "execution_count": 10,
   "source": [
    "results = []\n",
    "for x in rules:\n",
    "    ret = [x, rules[x][0], rules[x][1]]\n",
    "    results.append(ret)\n",
    "df_res = pd.DataFrame(results)\n",
    "df_res.columns = ['LHS', 'RHS', 'Conf']"
   ],
   "outputs": [],
   "metadata": {}
  },
  {
   "cell_type": "code",
   "execution_count": 11,
   "source": [
    "display(df_res.sort_values(by='Conf', ascending=False))"
   ],
   "outputs": [
    {
     "output_type": "display_data",
     "data": {
      "text/plain": [
       "      LHS   RHS      Conf\n",
       "3    (2,)  (4,)  0.351351\n",
       "1  (1, 2)  (4,)  0.350000\n",
       "2    (3,)  (2,)  0.344828\n",
       "0  (1, 3)  (2,)  0.312500"
      ],
      "text/html": [
       "<div>\n",
       "<style scoped>\n",
       "    .dataframe tbody tr th:only-of-type {\n",
       "        vertical-align: middle;\n",
       "    }\n",
       "\n",
       "    .dataframe tbody tr th {\n",
       "        vertical-align: top;\n",
       "    }\n",
       "\n",
       "    .dataframe thead th {\n",
       "        text-align: right;\n",
       "    }\n",
       "</style>\n",
       "<table border=\"1\" class=\"dataframe\">\n",
       "  <thead>\n",
       "    <tr style=\"text-align: right;\">\n",
       "      <th></th>\n",
       "      <th>LHS</th>\n",
       "      <th>RHS</th>\n",
       "      <th>Conf</th>\n",
       "    </tr>\n",
       "  </thead>\n",
       "  <tbody>\n",
       "    <tr>\n",
       "      <th>3</th>\n",
       "      <td>(2,)</td>\n",
       "      <td>(4,)</td>\n",
       "      <td>0.351351</td>\n",
       "    </tr>\n",
       "    <tr>\n",
       "      <th>1</th>\n",
       "      <td>(1, 2)</td>\n",
       "      <td>(4,)</td>\n",
       "      <td>0.350000</td>\n",
       "    </tr>\n",
       "    <tr>\n",
       "      <th>2</th>\n",
       "      <td>(3,)</td>\n",
       "      <td>(2,)</td>\n",
       "      <td>0.344828</td>\n",
       "    </tr>\n",
       "    <tr>\n",
       "      <th>0</th>\n",
       "      <td>(1, 3)</td>\n",
       "      <td>(2,)</td>\n",
       "      <td>0.312500</td>\n",
       "    </tr>\n",
       "  </tbody>\n",
       "</table>\n",
       "</div>"
      ]
     },
     "metadata": {}
    }
   ],
   "metadata": {}
  },
  {
   "cell_type": "markdown",
   "source": [
    "#### Calculation of Lift  "
   ],
   "metadata": {}
  },
  {
   "cell_type": "code",
   "execution_count": 12,
   "source": [
    "n_all = len(invoices)\n",
    "lift = []\n",
    "for i in range(df_res.shape[0]):\n",
    "    rhs = df_res.at[i, 'RHS']\n",
    "    conf = df_res.at[i, 'Conf']\n",
    "    n_rhs = 0\n",
    "    for items in invoices:\n",
    "        if set(items) >= set(rhs):\n",
    "            n_rhs += 1\n",
    "    lift1 = conf / (n_rhs / n_all)\n",
    "    lift.append(lift1)\n",
    "    \n",
    "df_res['Lift'] = lift"
   ],
   "outputs": [],
   "metadata": {}
  },
  {
   "cell_type": "code",
   "execution_count": 13,
   "source": [
    "display(df_res.sort_values(by='Conf', ascending=False))"
   ],
   "outputs": [
    {
     "output_type": "display_data",
     "data": {
      "text/plain": [
       "      LHS   RHS      Conf      Lift\n",
       "3    (2,)  (4,)  0.351351  1.097973\n",
       "1  (1, 2)  (4,)  0.350000  1.093750\n",
       "2    (3,)  (2,)  0.344828  0.698975\n",
       "0  (1, 3)  (2,)  0.312500  0.633446"
      ],
      "text/html": [
       "<div>\n",
       "<style scoped>\n",
       "    .dataframe tbody tr th:only-of-type {\n",
       "        vertical-align: middle;\n",
       "    }\n",
       "\n",
       "    .dataframe tbody tr th {\n",
       "        vertical-align: top;\n",
       "    }\n",
       "\n",
       "    .dataframe thead th {\n",
       "        text-align: right;\n",
       "    }\n",
       "</style>\n",
       "<table border=\"1\" class=\"dataframe\">\n",
       "  <thead>\n",
       "    <tr style=\"text-align: right;\">\n",
       "      <th></th>\n",
       "      <th>LHS</th>\n",
       "      <th>RHS</th>\n",
       "      <th>Conf</th>\n",
       "      <th>Lift</th>\n",
       "    </tr>\n",
       "  </thead>\n",
       "  <tbody>\n",
       "    <tr>\n",
       "      <th>3</th>\n",
       "      <td>(2,)</td>\n",
       "      <td>(4,)</td>\n",
       "      <td>0.351351</td>\n",
       "      <td>1.097973</td>\n",
       "    </tr>\n",
       "    <tr>\n",
       "      <th>1</th>\n",
       "      <td>(1, 2)</td>\n",
       "      <td>(4,)</td>\n",
       "      <td>0.350000</td>\n",
       "      <td>1.093750</td>\n",
       "    </tr>\n",
       "    <tr>\n",
       "      <th>2</th>\n",
       "      <td>(3,)</td>\n",
       "      <td>(2,)</td>\n",
       "      <td>0.344828</td>\n",
       "      <td>0.698975</td>\n",
       "    </tr>\n",
       "    <tr>\n",
       "      <th>0</th>\n",
       "      <td>(1, 3)</td>\n",
       "      <td>(2,)</td>\n",
       "      <td>0.312500</td>\n",
       "      <td>0.633446</td>\n",
       "    </tr>\n",
       "  </tbody>\n",
       "</table>\n",
       "</div>"
      ]
     },
     "metadata": {}
    }
   ],
   "metadata": {}
  },
  {
   "cell_type": "code",
   "execution_count": 14,
   "source": [
    "print( df_res.loc[ df_res['Conf'].idxmax() ])\n",
    "print( df_res.loc[ df_res['Lift'].idxmax() ])"
   ],
   "outputs": [
    {
     "output_type": "stream",
     "name": "stdout",
     "text": [
      "LHS         (2,)\n",
      "RHS         (4,)\n",
      "Conf    0.351351\n",
      "Lift    1.097973\n",
      "Name: 3, dtype: object\n",
      "LHS         (2,)\n",
      "RHS         (4,)\n",
      "Conf    0.351351\n",
      "Lift    1.097973\n",
      "Name: 3, dtype: object\n"
     ]
    }
   ],
   "metadata": {}
  },
  {
   "cell_type": "markdown",
   "source": [
    "**Ans.  \n",
    "Max Conf: 0.83, LHS: 1 and 9, RHS: 3  \n",
    "Max Lift: 0.78, LHS: 3 and 6, RHS: 1**"
   ],
   "metadata": {}
  }
 ],
 "metadata": {
  "kernelspec": {
   "display_name": "Python 3",
   "language": "python",
   "name": "python3"
  },
  "language_info": {
   "codemirror_mode": {
    "name": "ipython",
    "version": 3
   },
   "file_extension": ".py",
   "mimetype": "text/x-python",
   "name": "python",
   "nbconvert_exporter": "python",
   "pygments_lexer": "ipython3",
   "version": "3.8.8"
  }
 },
 "nbformat": 4,
 "nbformat_minor": 4
}