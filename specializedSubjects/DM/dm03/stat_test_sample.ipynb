{
 "cells": [
  {
   "cell_type": "markdown",
   "metadata": {},
   "source": [
    "### Training of statistical test "
   ]
  },
  {
   "cell_type": "code",
   "execution_count": 63,
   "metadata": {},
   "outputs": [],
   "source": [
    "import numpy as np\n",
    "import pandas as pd\n",
    "import scipy.stats as ss"
   ]
  },
  {
   "cell_type": "markdown",
   "metadata": {},
   "source": [
    "#### 1. Can population mean of weight be regarded as 100 [g] ? (one-sample t-test)  \n",
    "重さの母平均は100gであると見なせるか？ (1標本t検定)  \n",
    "\n",
    "H0: Can be regarded as 100 [g]"
   ]
  },
  {
   "cell_type": "code",
   "execution_count": 64,
   "metadata": {},
   "outputs": [
    {
     "name": "stdout",
     "output_type": "stream",
     "text": [
      "(50, 1)\n"
     ]
    },
    {
     "data": {
      "text/html": [
       "<div>\n",
       "<style scoped>\n",
       "    .dataframe tbody tr th:only-of-type {\n",
       "        vertical-align: middle;\n",
       "    }\n",
       "\n",
       "    .dataframe tbody tr th {\n",
       "        vertical-align: top;\n",
       "    }\n",
       "\n",
       "    .dataframe thead th {\n",
       "        text-align: right;\n",
       "    }\n",
       "</style>\n",
       "<table border=\"1\" class=\"dataframe\">\n",
       "  <thead>\n",
       "    <tr style=\"text-align: right;\">\n",
       "      <th></th>\n",
       "      <th>Weight</th>\n",
       "    </tr>\n",
       "  </thead>\n",
       "  <tbody>\n",
       "    <tr>\n",
       "      <th>0</th>\n",
       "      <td>104.4</td>\n",
       "    </tr>\n",
       "    <tr>\n",
       "      <th>1</th>\n",
       "      <td>100.1</td>\n",
       "    </tr>\n",
       "    <tr>\n",
       "      <th>2</th>\n",
       "      <td>101.1</td>\n",
       "    </tr>\n",
       "    <tr>\n",
       "      <th>3</th>\n",
       "      <td>101.8</td>\n",
       "    </tr>\n",
       "    <tr>\n",
       "      <th>4</th>\n",
       "      <td>99.4</td>\n",
       "    </tr>\n",
       "  </tbody>\n",
       "</table>\n",
       "</div>"
      ],
      "text/plain": [
       "   Weight\n",
       "0   104.4\n",
       "1   100.1\n",
       "2   101.1\n",
       "3   101.8\n",
       "4    99.4"
      ]
     },
     "metadata": {},
     "output_type": "display_data"
    }
   ],
   "source": [
    "csv_in = 'stat_test_sample1.csv'\n",
    "df1 = pd.read_csv(csv_in, delimiter=',', skiprows=0, header=0)\n",
    "print(df1.shape)\n",
    "display(df1.head())"
   ]
  },
  {
   "cell_type": "code",
   "execution_count": 65,
   "metadata": {},
   "outputs": [
    {
     "name": "stdout",
     "output_type": "stream",
     "text": [
      "100.81\n",
      "2.6136804129818287 0.01186444990469143\n"
     ]
    }
   ],
   "source": [
    "print(df1['Weight'].mean())\n",
    "t, p = ss.ttest_1samp(df1['Weight'], 100.0)\n",
    "print(t, p)"
   ]
  },
  {
   "cell_type": "markdown",
   "metadata": {},
   "source": [
    "##### (Conclusion) p < 0.05, so population mean of the weight CANNOT be regarded as 100g  \n",
    "(結論) 重さの母平均は100gであるとは見なせない。"
   ]
  },
  {
   "cell_type": "markdown",
   "metadata": {},
   "source": [
    "#### 2. Does the population mean of blood pressure decrease after taking a medichine? (paired t-test)\n",
    "服薬後に血圧の母平均は低下したといえるか？ (対応のある2標本t検定)  \n",
    "\n",
    "H0: Population mean of blood pressure DOES NOT decreased  "
   ]
  },
  {
   "cell_type": "code",
   "execution_count": 66,
   "metadata": {},
   "outputs": [
    {
     "name": "stdout",
     "output_type": "stream",
     "text": [
      "(30, 2)\n"
     ]
    },
    {
     "data": {
      "text/html": [
       "<div>\n",
       "<style scoped>\n",
       "    .dataframe tbody tr th:only-of-type {\n",
       "        vertical-align: middle;\n",
       "    }\n",
       "\n",
       "    .dataframe tbody tr th {\n",
       "        vertical-align: top;\n",
       "    }\n",
       "\n",
       "    .dataframe thead th {\n",
       "        text-align: right;\n",
       "    }\n",
       "</style>\n",
       "<table border=\"1\" class=\"dataframe\">\n",
       "  <thead>\n",
       "    <tr style=\"text-align: right;\">\n",
       "      <th></th>\n",
       "      <th>BP_before</th>\n",
       "      <th>BP_after</th>\n",
       "    </tr>\n",
       "  </thead>\n",
       "  <tbody>\n",
       "    <tr>\n",
       "      <th>0</th>\n",
       "      <td>123.4</td>\n",
       "      <td>115.5</td>\n",
       "    </tr>\n",
       "    <tr>\n",
       "      <th>1</th>\n",
       "      <td>119.1</td>\n",
       "      <td>119.1</td>\n",
       "    </tr>\n",
       "    <tr>\n",
       "      <th>2</th>\n",
       "      <td>120.1</td>\n",
       "      <td>113.7</td>\n",
       "    </tr>\n",
       "    <tr>\n",
       "      <th>3</th>\n",
       "      <td>120.8</td>\n",
       "      <td>118.1</td>\n",
       "    </tr>\n",
       "    <tr>\n",
       "      <th>4</th>\n",
       "      <td>118.4</td>\n",
       "      <td>112.9</td>\n",
       "    </tr>\n",
       "  </tbody>\n",
       "</table>\n",
       "</div>"
      ],
      "text/plain": [
       "   BP_before  BP_after\n",
       "0      123.4     115.5\n",
       "1      119.1     119.1\n",
       "2      120.1     113.7\n",
       "3      120.8     118.1\n",
       "4      118.4     112.9"
      ]
     },
     "metadata": {},
     "output_type": "display_data"
    }
   ],
   "source": [
    "csv_in = 'stat_test_sample2.csv'\n",
    "df2 = pd.read_csv(csv_in, delimiter=',', skiprows=0, header=0)\n",
    "print(df2.shape)\n",
    "display(df2.head())"
   ]
  },
  {
   "cell_type": "code",
   "execution_count": 67,
   "metadata": {},
   "outputs": [
    {
     "name": "stdout",
     "output_type": "stream",
     "text": [
      "0     123.4\n",
      "1     119.1\n",
      "2     120.1\n",
      "3     120.8\n",
      "4     118.4\n",
      "5     120.0\n",
      "6     120.0\n",
      "7     116.5\n",
      "8     122.0\n",
      "9     121.2\n",
      "10    118.7\n",
      "11    119.7\n",
      "12    121.0\n",
      "13    119.5\n",
      "14    119.5\n",
      "15    117.1\n",
      "16    121.1\n",
      "17    120.2\n",
      "18    120.5\n",
      "19    116.9\n",
      "20    123.3\n",
      "21    120.3\n",
      "22    119.2\n",
      "23    124.1\n",
      "24    119.9\n",
      "25    117.1\n",
      "26    119.2\n",
      "27    115.4\n",
      "28    122.1\n",
      "29    119.2\n",
      "Name: BP_before, dtype: float64 0     115.5\n",
      "1     119.1\n",
      "2     113.7\n",
      "3     118.1\n",
      "4     112.9\n",
      "5     115.7\n",
      "6     114.6\n",
      "7     119.9\n",
      "8     120.5\n",
      "9     116.3\n",
      "10    118.7\n",
      "11    116.6\n",
      "12    118.1\n",
      "13    115.5\n",
      "14    113.6\n",
      "15    113.4\n",
      "16    117.8\n",
      "17    121.5\n",
      "18    117.5\n",
      "19    116.0\n",
      "20    120.8\n",
      "21    117.5\n",
      "22    117.2\n",
      "23    117.5\n",
      "24    116.7\n",
      "25    116.4\n",
      "26    114.1\n",
      "27    118.0\n",
      "28    116.8\n",
      "29    119.4\n",
      "Name: BP_after, dtype: float64\n",
      "-5.7404882921852876 1.626650093900597e-06\n"
     ]
    }
   ],
   "source": [
    "print(df2['BP_before'], df2['BP_after'])\n",
    "t, p = ss.ttest_1samp(df2['BP_after']-df2['BP_before'], 0.0)\n",
    "print(t, p/2)"
   ]
  },
  {
   "cell_type": "markdown",
   "metadata": {},
   "source": [
    "##### (Conclusion) t < 0 and p/2 < 0.05, so population mean of the blood pressure significantly decreased after taking this medicine.  \n",
    "(結論) この薬を飲むと血圧の母平均は有意に下がったといえる。"
   ]
  },
  {
   "cell_type": "markdown",
   "metadata": {},
   "source": [
    "#### 3. Are the population means of exam results different between male and female? (unpaired t-test, two-sided)\n",
    "試験点数の母平均に男女差があるといえるか？ (対応のない2標本t検定, 両側検定)  \n",
    "\n",
    "H0: Population means of exam results are NOT different  "
   ]
  },
  {
   "cell_type": "code",
   "execution_count": 68,
   "metadata": {},
   "outputs": [
    {
     "name": "stdout",
     "output_type": "stream",
     "text": [
      "(60, 2)\n"
     ]
    },
    {
     "data": {
      "text/html": [
       "<div>\n",
       "<style scoped>\n",
       "    .dataframe tbody tr th:only-of-type {\n",
       "        vertical-align: middle;\n",
       "    }\n",
       "\n",
       "    .dataframe tbody tr th {\n",
       "        vertical-align: top;\n",
       "    }\n",
       "\n",
       "    .dataframe thead th {\n",
       "        text-align: right;\n",
       "    }\n",
       "</style>\n",
       "<table border=\"1\" class=\"dataframe\">\n",
       "  <thead>\n",
       "    <tr style=\"text-align: right;\">\n",
       "      <th></th>\n",
       "      <th>M_or_F</th>\n",
       "      <th>Points</th>\n",
       "    </tr>\n",
       "  </thead>\n",
       "  <tbody>\n",
       "    <tr>\n",
       "      <th>0</th>\n",
       "      <td>M</td>\n",
       "      <td>75</td>\n",
       "    </tr>\n",
       "    <tr>\n",
       "      <th>1</th>\n",
       "      <td>M</td>\n",
       "      <td>70</td>\n",
       "    </tr>\n",
       "    <tr>\n",
       "      <th>2</th>\n",
       "      <td>M</td>\n",
       "      <td>68</td>\n",
       "    </tr>\n",
       "    <tr>\n",
       "      <th>3</th>\n",
       "      <td>M</td>\n",
       "      <td>61</td>\n",
       "    </tr>\n",
       "    <tr>\n",
       "      <th>4</th>\n",
       "      <td>M</td>\n",
       "      <td>67</td>\n",
       "    </tr>\n",
       "  </tbody>\n",
       "</table>\n",
       "</div>"
      ],
      "text/plain": [
       "  M_or_F  Points\n",
       "0      M      75\n",
       "1      M      70\n",
       "2      M      68\n",
       "3      M      61\n",
       "4      M      67"
      ]
     },
     "metadata": {},
     "output_type": "display_data"
    }
   ],
   "source": [
    "csv_in = 'stat_test_sample3.csv'\n",
    "df3 = pd.read_csv(csv_in, delimiter=',', skiprows=0, header=0)\n",
    "print(df3.shape)\n",
    "display(df3.head())"
   ]
  },
  {
   "cell_type": "code",
   "execution_count": 69,
   "metadata": {},
   "outputs": [
    {
     "name": "stdout",
     "output_type": "stream",
     "text": [
      "67.62857142857143 69.2\n",
      "1.9459690680158375 0.05664275196687031\n"
     ]
    }
   ],
   "source": [
    "df3_M = df3[ df3['M_or_F'] == 'M' ]\n",
    "df3_F = df3[ df3['M_or_F'] == 'F' ]\n",
    "print(df3_M['Points'].mean(), df3_F['Points'].mean())\n",
    "t, p = ss.ttest_ind(df3_F['Points'], df3_M['Points'], equal_var=False)\n",
    "print(t, p)"
   ]
  },
  {
   "cell_type": "markdown",
   "metadata": {},
   "source": [
    "##### (Conclusion) p > 0.05, so population means of males' points and females' points are not significantly different.  \n",
    "(結論) 試験点数の母平均に男女差があるとはいえない。  "
   ]
  },
  {
   "cell_type": "markdown",
   "metadata": {},
   "source": [
    "#### 3-2.Is the population mean of female better than that of male? (unpaired t-test, one-sided)\n",
    "試験点数の母平均は女の方が男よりよいといえるか？ (対応のない2標本t検定, 片側検定)  \n",
    "\n",
    "H0: Population mean of female is NOT different from that of male  "
   ]
  },
  {
   "cell_type": "code",
   "execution_count": 70,
   "metadata": {},
   "outputs": [
    {
     "name": "stdout",
     "output_type": "stream",
     "text": [
      "67.62857142857143 69.2\n",
      "-1.9459690680158375 0.028321375983435156\n"
     ]
    }
   ],
   "source": [
    "print(df3_M['Points'].mean(), df3_F['Points'].mean())\n",
    "t, p = ss.ttest_ind(df3_M['Points'], df3_F['Points'], equal_var=False)\n",
    "print(t, p/2)"
   ]
  },
  {
   "cell_type": "markdown",
   "metadata": {},
   "source": [
    "##### (Conclusion) t < 0 (mean of M < mean of F) and p/2 < 0.05, so population means of females' points is significantly better than that of males' points.\n",
    "(結論) 試験点数の母平均は女の方が男より有意によいといえる。  "
   ]
  },
  {
   "cell_type": "markdown",
   "metadata": {},
   "source": [
    "#### 4. Are the population MEDIANs of exam results different between male and female? (Mann-Whitney's U-test)\n",
    "試験点数の母**中央値**に男女差があるといえるか？ (Mann-WhitneyのU検定(WilcoxonNo順位和検定))  \n",
    "\n",
    "H0: Population medians of exam results are NOT different  "
   ]
  },
  {
   "cell_type": "code",
   "execution_count": 71,
   "metadata": {},
   "outputs": [
    {
     "name": "stdout",
     "output_type": "stream",
     "text": [
      "(60, 2)\n"
     ]
    },
    {
     "data": {
      "text/html": [
       "<div>\n",
       "<style scoped>\n",
       "    .dataframe tbody tr th:only-of-type {\n",
       "        vertical-align: middle;\n",
       "    }\n",
       "\n",
       "    .dataframe tbody tr th {\n",
       "        vertical-align: top;\n",
       "    }\n",
       "\n",
       "    .dataframe thead th {\n",
       "        text-align: right;\n",
       "    }\n",
       "</style>\n",
       "<table border=\"1\" class=\"dataframe\">\n",
       "  <thead>\n",
       "    <tr style=\"text-align: right;\">\n",
       "      <th></th>\n",
       "      <th>M_or_F</th>\n",
       "      <th>Points</th>\n",
       "    </tr>\n",
       "  </thead>\n",
       "  <tbody>\n",
       "    <tr>\n",
       "      <th>0</th>\n",
       "      <td>M</td>\n",
       "      <td>75</td>\n",
       "    </tr>\n",
       "    <tr>\n",
       "      <th>1</th>\n",
       "      <td>M</td>\n",
       "      <td>70</td>\n",
       "    </tr>\n",
       "    <tr>\n",
       "      <th>2</th>\n",
       "      <td>M</td>\n",
       "      <td>68</td>\n",
       "    </tr>\n",
       "    <tr>\n",
       "      <th>3</th>\n",
       "      <td>M</td>\n",
       "      <td>61</td>\n",
       "    </tr>\n",
       "    <tr>\n",
       "      <th>4</th>\n",
       "      <td>M</td>\n",
       "      <td>67</td>\n",
       "    </tr>\n",
       "  </tbody>\n",
       "</table>\n",
       "</div>"
      ],
      "text/plain": [
       "  M_or_F  Points\n",
       "0      M      75\n",
       "1      M      70\n",
       "2      M      68\n",
       "3      M      61\n",
       "4      M      67"
      ]
     },
     "metadata": {},
     "output_type": "display_data"
    }
   ],
   "source": [
    "csv_in = 'stat_test_sample3.csv'\n",
    "df4 = pd.read_csv(csv_in, delimiter=',', skiprows=0, header=0)\n",
    "print(df4.shape)\n",
    "display(df4.head())"
   ]
  },
  {
   "cell_type": "code",
   "execution_count": 72,
   "metadata": {},
   "outputs": [
    {
     "name": "stdout",
     "output_type": "stream",
     "text": [
      "67.0 69.0\n",
      "293.5 0.030535089546651604\n"
     ]
    }
   ],
   "source": [
    "df4_M = df4[ df4['M_or_F'] == 'M' ]\n",
    "df4_F = df4[ df4['M_or_F'] == 'F' ]\n",
    "print(df4_M['Points'].median(), df4_F['Points'].median())\n",
    "u, p = ss.mannwhitneyu(df4_M['Points'], df4_F['Points'], alternative='two-sided')\n",
    "print(u, p)"
   ]
  },
  {
   "cell_type": "markdown",
   "metadata": {},
   "source": [
    "##### (Conclusion) p < 0.05, so population MEDIANs of male/femail points are significantly different.   \n",
    "Note that this conclusion is opposite to 3. using the same data.  \n",
    "\"0.05\" is NOT A GOLDEN THRESHOLD,  \n",
    "and we should collect more results to know about the data.  \n",
    "(結論) 試験点数の母中央値には男女差が有意にある。  \n",
    "注意: 3.とまったく同じデータを使用しているが結論は逆になっている。  \n",
    "「0.05」は何か根拠のある値ではない。データを把握するには、多くの解析を総合的に判断することが必要。  "
   ]
  },
  {
   "cell_type": "markdown",
   "metadata": {},
   "source": [
    "#### 5. Does the population MEDIAN of blood pressure decrease after taking a medichine? (Wilcoxon signed rank test)\n",
    "服薬後に血圧の母**中央値**は低下したといえるか？ (Wilcoxonの符号順位検定)  \n",
    "\n",
    "H0: Population medians of exam results DOES NOT decreased  "
   ]
  },
  {
   "cell_type": "code",
   "execution_count": 73,
   "metadata": {},
   "outputs": [
    {
     "name": "stdout",
     "output_type": "stream",
     "text": [
      "(30, 2)\n"
     ]
    },
    {
     "data": {
      "text/html": [
       "<div>\n",
       "<style scoped>\n",
       "    .dataframe tbody tr th:only-of-type {\n",
       "        vertical-align: middle;\n",
       "    }\n",
       "\n",
       "    .dataframe tbody tr th {\n",
       "        vertical-align: top;\n",
       "    }\n",
       "\n",
       "    .dataframe thead th {\n",
       "        text-align: right;\n",
       "    }\n",
       "</style>\n",
       "<table border=\"1\" class=\"dataframe\">\n",
       "  <thead>\n",
       "    <tr style=\"text-align: right;\">\n",
       "      <th></th>\n",
       "      <th>BP_before</th>\n",
       "      <th>BP_after</th>\n",
       "    </tr>\n",
       "  </thead>\n",
       "  <tbody>\n",
       "    <tr>\n",
       "      <th>0</th>\n",
       "      <td>123.4</td>\n",
       "      <td>115.5</td>\n",
       "    </tr>\n",
       "    <tr>\n",
       "      <th>1</th>\n",
       "      <td>119.1</td>\n",
       "      <td>119.1</td>\n",
       "    </tr>\n",
       "    <tr>\n",
       "      <th>2</th>\n",
       "      <td>120.1</td>\n",
       "      <td>113.7</td>\n",
       "    </tr>\n",
       "    <tr>\n",
       "      <th>3</th>\n",
       "      <td>120.8</td>\n",
       "      <td>118.1</td>\n",
       "    </tr>\n",
       "    <tr>\n",
       "      <th>4</th>\n",
       "      <td>118.4</td>\n",
       "      <td>112.9</td>\n",
       "    </tr>\n",
       "  </tbody>\n",
       "</table>\n",
       "</div>"
      ],
      "text/plain": [
       "   BP_before  BP_after\n",
       "0      123.4     115.5\n",
       "1      119.1     119.1\n",
       "2      120.1     113.7\n",
       "3      120.8     118.1\n",
       "4      118.4     112.9"
      ]
     },
     "metadata": {},
     "output_type": "display_data"
    }
   ],
   "source": [
    "csv_in = 'stat_test_sample2.csv'\n",
    "df5 = pd.read_csv(csv_in, delimiter=',', skiprows=0, header=0)\n",
    "print(df5.shape)\n",
    "display(df5.head())"
   ]
  },
  {
   "cell_type": "code",
   "execution_count": 74,
   "metadata": {},
   "outputs": [
    {
     "name": "stdout",
     "output_type": "stream",
     "text": [
      "rank sum: -388.0\n",
      "29.0 3.7126840619767754e-05\n"
     ]
    }
   ],
   "source": [
    "d = df5['BP_after'] - df5['BP_before']\n",
    "ranks = ss.rankdata(np.abs(d))\n",
    "rank_plus = np.sum((d>0)*ranks)\n",
    "rank_minus = np.sum((d<0)*ranks)\n",
    "print('rank sum:', rank_plus-rank_minus)\n",
    "T, p = ss.wilcoxon(d)\n",
    "print(T, p/2)"
   ]
  },
  {
   "cell_type": "markdown",
   "metadata": {},
   "source": [
    "##### (Conclusion) Rank sum of BP_after - BP_before is negative, and p/2 < 0.05, so population median of the blood pressure significantly decreased after taking this medicine.  \n",
    "(結論) この服薬後の血圧の符号付き順位和は負であり(つまり血圧は服薬により低下方向)、かつp/2(片側なので)<0.05なので、この薬を飲むと血圧の母平均は有意に下がったといえる。"
   ]
  },
  {
   "cell_type": "markdown",
   "metadata": {},
   "source": [
    "#### 6. Are rows and cols significantly correlated on a small 2x2 cross table? (Fisher's exact test)  \n",
    "Data: Results of the two questions: \"Do you live in Tokyo?\" and \"Do you like baseball?\"  \n",
    "小さな2x2クロス集計表において、行と列の間に関連はあるといえるか？ (Fisher正確確率検定)    \n",
    "データ: 「東京に住んでいますか？」「野球が好きですか？」のアンケート結果  \n",
    "\n",
    "H0: \"live in Tokyo or not\" and \"like baseball or not\" DOES NOT significantly correlated  \n",
    "\n",
    "- Hint: Program for count by values: see \"Cross Tabulation (クロス集計)\" on MOOCs AI-0102."
   ]
  },
  {
   "cell_type": "code",
   "execution_count": 75,
   "metadata": {},
   "outputs": [
    {
     "name": "stdout",
     "output_type": "stream",
     "text": [
      "(20, 2)\n"
     ]
    },
    {
     "data": {
      "text/html": [
       "<div>\n",
       "<style scoped>\n",
       "    .dataframe tbody tr th:only-of-type {\n",
       "        vertical-align: middle;\n",
       "    }\n",
       "\n",
       "    .dataframe tbody tr th {\n",
       "        vertical-align: top;\n",
       "    }\n",
       "\n",
       "    .dataframe thead th {\n",
       "        text-align: right;\n",
       "    }\n",
       "</style>\n",
       "<table border=\"1\" class=\"dataframe\">\n",
       "  <thead>\n",
       "    <tr style=\"text-align: right;\">\n",
       "      <th></th>\n",
       "      <th>Live_in_Tokyo</th>\n",
       "      <th>Like_baseball</th>\n",
       "    </tr>\n",
       "  </thead>\n",
       "  <tbody>\n",
       "    <tr>\n",
       "      <th>0</th>\n",
       "      <td>N</td>\n",
       "      <td>N</td>\n",
       "    </tr>\n",
       "    <tr>\n",
       "      <th>1</th>\n",
       "      <td>Y</td>\n",
       "      <td>N</td>\n",
       "    </tr>\n",
       "    <tr>\n",
       "      <th>2</th>\n",
       "      <td>N</td>\n",
       "      <td>N</td>\n",
       "    </tr>\n",
       "    <tr>\n",
       "      <th>3</th>\n",
       "      <td>Y</td>\n",
       "      <td>Y</td>\n",
       "    </tr>\n",
       "    <tr>\n",
       "      <th>4</th>\n",
       "      <td>Y</td>\n",
       "      <td>Y</td>\n",
       "    </tr>\n",
       "  </tbody>\n",
       "</table>\n",
       "</div>"
      ],
      "text/plain": [
       "  Live_in_Tokyo Like_baseball\n",
       "0             N             N\n",
       "1             Y             N\n",
       "2             N             N\n",
       "3             Y             Y\n",
       "4             Y             Y"
      ]
     },
     "metadata": {},
     "output_type": "display_data"
    }
   ],
   "source": [
    "csv_in = 'stat_test_sample6.csv'\n",
    "df6 = pd.read_csv(csv_in, delimiter=',', skiprows=0, header=0)\n",
    "print(df6.shape)\n",
    "display(df6.head())"
   ]
  },
  {
   "cell_type": "code",
   "execution_count": 76,
   "metadata": {},
   "outputs": [
    {
     "data": {
      "text/html": [
       "<div>\n",
       "<style scoped>\n",
       "    .dataframe tbody tr th:only-of-type {\n",
       "        vertical-align: middle;\n",
       "    }\n",
       "\n",
       "    .dataframe tbody tr th {\n",
       "        vertical-align: top;\n",
       "    }\n",
       "\n",
       "    .dataframe thead th {\n",
       "        text-align: right;\n",
       "    }\n",
       "</style>\n",
       "<table border=\"1\" class=\"dataframe\">\n",
       "  <thead>\n",
       "    <tr style=\"text-align: right;\">\n",
       "      <th>Like_baseball</th>\n",
       "      <th>N</th>\n",
       "      <th>Y</th>\n",
       "    </tr>\n",
       "    <tr>\n",
       "      <th>Live_in_Tokyo</th>\n",
       "      <th></th>\n",
       "      <th></th>\n",
       "    </tr>\n",
       "  </thead>\n",
       "  <tbody>\n",
       "    <tr>\n",
       "      <th>N</th>\n",
       "      <td>7</td>\n",
       "      <td>1</td>\n",
       "    </tr>\n",
       "    <tr>\n",
       "      <th>Y</th>\n",
       "      <td>4</td>\n",
       "      <td>8</td>\n",
       "    </tr>\n",
       "  </tbody>\n",
       "</table>\n",
       "</div>"
      ],
      "text/plain": [
       "Like_baseball  N  Y\n",
       "Live_in_Tokyo      \n",
       "N              7  1\n",
       "Y              4  8"
      ]
     },
     "metadata": {},
     "output_type": "display_data"
    }
   ],
   "source": [
    "cross_tab = pd.crosstab(df6['Live_in_Tokyo'], df6['Like_baseball'])\n",
    "display(cross_tab)"
   ]
  },
  {
   "cell_type": "code",
   "execution_count": 77,
   "metadata": {},
   "outputs": [
    {
     "name": "stdout",
     "output_type": "stream",
     "text": [
      "14.0 0.028101929030721624\n"
     ]
    }
   ],
   "source": [
    "odds, p = ss.fisher_exact(cross_tab)\n",
    "print(odds, p)"
   ]
  },
  {
   "cell_type": "markdown",
   "metadata": {},
   "source": [
    "##### (Conclusion) p < 0.05, so \"Live in Tokyo\" and \"Like baseball\" are significantly related. \n",
    "(結論) 「東京在住」と「野球好き」は有意に関連している。  "
   ]
  },
  {
   "cell_type": "markdown",
   "metadata": {},
   "source": [
    "#### 7. Are rows and cols significantly correlated on a general cross table?  (test of independence by chi-squared test)   \n",
    "Data: Results of the two questions: \"Where are you from (Kyushu/Shikoku/Honshu/Hokkaido)\" and \"Do you like baseball?\"  \n",
    "一般のクロス集計表において、行と列の間に関連はあるといえるか？ (独立性のカイ2乗検定)    \n",
    "データ: 「どの地域出身ですか？」「野球が好きですか？」のアンケート結果  \n",
    "\n",
    "H0: Area and \"like baseball\" DOES NOT significantly correlated  "
   ]
  },
  {
   "cell_type": "code",
   "execution_count": 78,
   "metadata": {},
   "outputs": [
    {
     "name": "stdout",
     "output_type": "stream",
     "text": [
      "(100, 2)\n"
     ]
    },
    {
     "data": {
      "text/html": [
       "<div>\n",
       "<style scoped>\n",
       "    .dataframe tbody tr th:only-of-type {\n",
       "        vertical-align: middle;\n",
       "    }\n",
       "\n",
       "    .dataframe tbody tr th {\n",
       "        vertical-align: top;\n",
       "    }\n",
       "\n",
       "    .dataframe thead th {\n",
       "        text-align: right;\n",
       "    }\n",
       "</style>\n",
       "<table border=\"1\" class=\"dataframe\">\n",
       "  <thead>\n",
       "    <tr style=\"text-align: right;\">\n",
       "      <th></th>\n",
       "      <th>Area</th>\n",
       "      <th>Like_baseball</th>\n",
       "    </tr>\n",
       "  </thead>\n",
       "  <tbody>\n",
       "    <tr>\n",
       "      <th>0</th>\n",
       "      <td>Honshu</td>\n",
       "      <td>Y</td>\n",
       "    </tr>\n",
       "    <tr>\n",
       "      <th>1</th>\n",
       "      <td>Hokkaido</td>\n",
       "      <td>Y</td>\n",
       "    </tr>\n",
       "    <tr>\n",
       "      <th>2</th>\n",
       "      <td>Kyushu</td>\n",
       "      <td>N</td>\n",
       "    </tr>\n",
       "    <tr>\n",
       "      <th>3</th>\n",
       "      <td>Hokkaido</td>\n",
       "      <td>N</td>\n",
       "    </tr>\n",
       "    <tr>\n",
       "      <th>4</th>\n",
       "      <td>Shikoku</td>\n",
       "      <td>Y</td>\n",
       "    </tr>\n",
       "  </tbody>\n",
       "</table>\n",
       "</div>"
      ],
      "text/plain": [
       "       Area Like_baseball\n",
       "0    Honshu             Y\n",
       "1  Hokkaido             Y\n",
       "2    Kyushu             N\n",
       "3  Hokkaido             N\n",
       "4   Shikoku             Y"
      ]
     },
     "metadata": {},
     "output_type": "display_data"
    }
   ],
   "source": [
    "csv_in = 'stat_test_sample7.csv'\n",
    "df7 = pd.read_csv(csv_in, delimiter=',', skiprows=0, header=0)\n",
    "print(df7.shape)\n",
    "display(df7.head())"
   ]
  },
  {
   "cell_type": "code",
   "execution_count": 79,
   "metadata": {},
   "outputs": [
    {
     "data": {
      "text/html": [
       "<div>\n",
       "<style scoped>\n",
       "    .dataframe tbody tr th:only-of-type {\n",
       "        vertical-align: middle;\n",
       "    }\n",
       "\n",
       "    .dataframe tbody tr th {\n",
       "        vertical-align: top;\n",
       "    }\n",
       "\n",
       "    .dataframe thead th {\n",
       "        text-align: right;\n",
       "    }\n",
       "</style>\n",
       "<table border=\"1\" class=\"dataframe\">\n",
       "  <thead>\n",
       "    <tr style=\"text-align: right;\">\n",
       "      <th>Like_baseball</th>\n",
       "      <th>N</th>\n",
       "      <th>Y</th>\n",
       "    </tr>\n",
       "    <tr>\n",
       "      <th>Area</th>\n",
       "      <th></th>\n",
       "      <th></th>\n",
       "    </tr>\n",
       "  </thead>\n",
       "  <tbody>\n",
       "    <tr>\n",
       "      <th>Hokkaido</th>\n",
       "      <td>15</td>\n",
       "      <td>8</td>\n",
       "    </tr>\n",
       "    <tr>\n",
       "      <th>Honshu</th>\n",
       "      <td>5</td>\n",
       "      <td>12</td>\n",
       "    </tr>\n",
       "    <tr>\n",
       "      <th>Kyushu</th>\n",
       "      <td>20</td>\n",
       "      <td>15</td>\n",
       "    </tr>\n",
       "    <tr>\n",
       "      <th>Shikoku</th>\n",
       "      <td>9</td>\n",
       "      <td>16</td>\n",
       "    </tr>\n",
       "  </tbody>\n",
       "</table>\n",
       "</div>"
      ],
      "text/plain": [
       "Like_baseball   N   Y\n",
       "Area                 \n",
       "Hokkaido       15   8\n",
       "Honshu          5  12\n",
       "Kyushu         20  15\n",
       "Shikoku         9  16"
      ]
     },
     "metadata": {},
     "output_type": "display_data"
    }
   ],
   "source": [
    "cross_tab = pd.crosstab(df7['Area'], df7['Like_baseball'])\n",
    "display(cross_tab)"
   ]
  },
  {
   "cell_type": "code",
   "execution_count": 80,
   "metadata": {},
   "outputs": [
    {
     "name": "stdout",
     "output_type": "stream",
     "text": [
      "7.65013349146747 0.05382380715727916 3 [[11.27 11.73]\n",
      " [ 8.33  8.67]\n",
      " [17.15 17.85]\n",
      " [12.25 12.75]]\n"
     ]
    }
   ],
   "source": [
    "chi2, p, dof, expected = ss.chi2_contingency(cross_tab)\n",
    "print(chi2, p, dof, expected)"
   ]
  },
  {
   "cell_type": "markdown",
   "metadata": {},
   "source": [
    "##### (Conclusion) p > 0.05, so \"Area\" and \"Like baseball\" are not significantly related. \n",
    "(結論) 「出身地域」と「野球好き」は有意に関連しているとはいえない。  "
   ]
  },
  {
   "cell_type": "markdown",
   "metadata": {},
   "source": [
    "#### 8. Are observed frequencies are regarded to be the same as expected frequencies? (chi-square goodness-of-fit test)   \n",
    "Data: The frequency of \"Most lucky\" zodiac sign every day: Is it uniform?   \n",
    "観測度数は理論(期待)度数と同じいえるか？ (適合度のカイ2乗検定)    \n",
    "データ: 毎日の星占い1位。偏りはない？  \n",
    "\n",
    "H0: Distribution of \"most lucky zodiac sign\" is regarded as \"uniform\".    \n",
    "\n",
    "- Hint: Program for count by values: see \"List unique values and their counts in columns (列の値の種類と個数一覧)\" on MOOCs AI-0102."
   ]
  },
  {
   "cell_type": "code",
   "execution_count": 81,
   "metadata": {},
   "outputs": [
    {
     "name": "stdout",
     "output_type": "stream",
     "text": [
      "(260, 1)\n"
     ]
    },
    {
     "data": {
      "text/html": [
       "<div>\n",
       "<style scoped>\n",
       "    .dataframe tbody tr th:only-of-type {\n",
       "        vertical-align: middle;\n",
       "    }\n",
       "\n",
       "    .dataframe tbody tr th {\n",
       "        vertical-align: top;\n",
       "    }\n",
       "\n",
       "    .dataframe thead th {\n",
       "        text-align: right;\n",
       "    }\n",
       "</style>\n",
       "<table border=\"1\" class=\"dataframe\">\n",
       "  <thead>\n",
       "    <tr style=\"text-align: right;\">\n",
       "      <th></th>\n",
       "      <th>most_lucky</th>\n",
       "    </tr>\n",
       "  </thead>\n",
       "  <tbody>\n",
       "    <tr>\n",
       "      <th>0</th>\n",
       "      <td>Aquarius</td>\n",
       "    </tr>\n",
       "    <tr>\n",
       "      <th>1</th>\n",
       "      <td>Sagittarius</td>\n",
       "    </tr>\n",
       "    <tr>\n",
       "      <th>2</th>\n",
       "      <td>Capricorn</td>\n",
       "    </tr>\n",
       "    <tr>\n",
       "      <th>3</th>\n",
       "      <td>Cancer</td>\n",
       "    </tr>\n",
       "    <tr>\n",
       "      <th>4</th>\n",
       "      <td>Sagittarius</td>\n",
       "    </tr>\n",
       "  </tbody>\n",
       "</table>\n",
       "</div>"
      ],
      "text/plain": [
       "    most_lucky\n",
       "0     Aquarius\n",
       "1  Sagittarius\n",
       "2    Capricorn\n",
       "3       Cancer\n",
       "4  Sagittarius"
      ]
     },
     "metadata": {},
     "output_type": "display_data"
    }
   ],
   "source": [
    "csv_in = 'stat_test_sample8.csv'\n",
    "df8 = pd.read_csv(csv_in, delimiter=',', skiprows=0, header=0)\n",
    "print(df8.shape)\n",
    "display(df8.head())"
   ]
  },
  {
   "cell_type": "code",
   "execution_count": 82,
   "metadata": {},
   "outputs": [
    {
     "name": "stdout",
     "output_type": "stream",
     "text": [
      "Scorpio        28\n",
      "Sagittarius    28\n",
      "Aries          27\n",
      "Aquarius       24\n",
      "Taurus         24\n",
      "Leo            24\n",
      "Virgo          23\n",
      "Pisces         21\n",
      "Gemini         20\n",
      "Capricorn      17\n",
      "Cancer         13\n",
      "Libra          11\n",
      "Name: most_lucky, dtype: int64\n"
     ]
    }
   ],
   "source": [
    "lucky = df8['most_lucky'].value_counts()\n",
    "print(lucky)"
   ]
  },
  {
   "cell_type": "code",
   "execution_count": 83,
   "metadata": {},
   "outputs": [
    {
     "name": "stdout",
     "output_type": "stream",
     "text": [
      "15.723076923076922 0.15172688327982078\n"
     ]
    }
   ],
   "source": [
    "chi2, p = ss.chisquare(lucky)\n",
    "print(chi2, p)"
   ]
  },
  {
   "cell_type": "markdown",
   "metadata": {},
   "source": [
    "##### (Conclusion) p > 0.05, so \"Distribution of Most Lucky Zodiac is not significantly different from uniform\"\n",
    "(結論) 「星占い1位」の星座は偏っているとはいえない。  "
   ]
  },
  {
   "cell_type": "markdown",
   "metadata": {},
   "source": [
    "#### Tukey-Kramer method\n",
    "Tukey-Kramer多重比較\n",
    "\n",
    "Data: Exam results of students after three kinds of lectures (A, B, C)  \n",
    "A, B, Cの3つの講義を受けたあとの試験得点  \n",
    "\n",
    "H0: All pairs of the population means of exam results (A-B, B-C, C-A) are the same.  "
   ]
  },
  {
   "cell_type": "markdown",
   "metadata": {},
   "source": [
    "##### Read data"
   ]
  },
  {
   "cell_type": "code",
   "execution_count": 84,
   "metadata": {},
   "outputs": [
    {
     "name": "stdout",
     "output_type": "stream",
     "text": [
      "(24, 2)\n"
     ]
    },
    {
     "data": {
      "text/html": [
       "<div>\n",
       "<style scoped>\n",
       "    .dataframe tbody tr th:only-of-type {\n",
       "        vertical-align: middle;\n",
       "    }\n",
       "\n",
       "    .dataframe tbody tr th {\n",
       "        vertical-align: top;\n",
       "    }\n",
       "\n",
       "    .dataframe thead th {\n",
       "        text-align: right;\n",
       "    }\n",
       "</style>\n",
       "<table border=\"1\" class=\"dataframe\">\n",
       "  <thead>\n",
       "    <tr style=\"text-align: right;\">\n",
       "      <th></th>\n",
       "      <th>Lecture</th>\n",
       "      <th>Points</th>\n",
       "    </tr>\n",
       "  </thead>\n",
       "  <tbody>\n",
       "    <tr>\n",
       "      <th>0</th>\n",
       "      <td>A</td>\n",
       "      <td>90</td>\n",
       "    </tr>\n",
       "    <tr>\n",
       "      <th>1</th>\n",
       "      <td>A</td>\n",
       "      <td>86</td>\n",
       "    </tr>\n",
       "    <tr>\n",
       "      <th>2</th>\n",
       "      <td>A</td>\n",
       "      <td>70</td>\n",
       "    </tr>\n",
       "    <tr>\n",
       "      <th>3</th>\n",
       "      <td>A</td>\n",
       "      <td>82</td>\n",
       "    </tr>\n",
       "    <tr>\n",
       "      <th>4</th>\n",
       "      <td>A</td>\n",
       "      <td>91</td>\n",
       "    </tr>\n",
       "  </tbody>\n",
       "</table>\n",
       "</div>"
      ],
      "text/plain": [
       "  Lecture  Points\n",
       "0       A      90\n",
       "1       A      86\n",
       "2       A      70\n",
       "3       A      82\n",
       "4       A      91"
      ]
     },
     "metadata": {},
     "output_type": "display_data"
    }
   ],
   "source": [
    "csv_in = 'stat_test_sample_tukey_kramer.csv'\n",
    "df_tk = pd.read_csv(csv_in, delimiter=',', skiprows=0, header=0)\n",
    "print(df_tk.shape)\n",
    "display(df_tk.head())"
   ]
  },
  {
   "cell_type": "code",
   "execution_count": 85,
   "metadata": {},
   "outputs": [],
   "source": [
    "df_tk_A = df_tk[ df_tk['Lecture']=='A' ]\n",
    "df_tk_B = df_tk[ df_tk['Lecture']=='B' ]\n",
    "df_tk_C = df_tk[ df_tk['Lecture']=='C' ]"
   ]
  },
  {
   "cell_type": "markdown",
   "metadata": {},
   "source": [
    "##### Levene's test (equality of variance)"
   ]
  },
  {
   "cell_type": "code",
   "execution_count": 86,
   "metadata": {},
   "outputs": [
    {
     "name": "stdout",
     "output_type": "stream",
     "text": [
      "2.9281575898030123 0.07556403346220929\n"
     ]
    }
   ],
   "source": [
    "W, p = ss.levene(df_tk_A['Points'], df_tk_B['Points'], df_tk_C['Points'])\n",
    "print(W, p)"
   ]
  },
  {
   "cell_type": "markdown",
   "metadata": {},
   "source": [
    "##### p > 0.05 (= can be regarded as equal variance), so go forward to execute Tukey-Kramer method  "
   ]
  },
  {
   "cell_type": "code",
   "execution_count": 87,
   "metadata": {},
   "outputs": [],
   "source": [
    "from statsmodels.stats.multicomp import pairwise_tukeyhsd"
   ]
  },
  {
   "cell_type": "markdown",
   "metadata": {},
   "source": [
    "pairwise_tukeyhsd(data, labels)  # labels can be any string or value"
   ]
  },
  {
   "cell_type": "code",
   "execution_count": 88,
   "metadata": {},
   "outputs": [
    {
     "name": "stdout",
     "output_type": "stream",
     "text": [
      " Multiple Comparison of Means - Tukey HSD, FWER=0.05 \n",
      "=====================================================\n",
      "group1 group2 meandiff p-adj   lower    upper  reject\n",
      "-----------------------------------------------------\n",
      "     A      B -14.4167  0.001 -22.7227 -6.1106   True\n",
      "     A      C  -3.6071 0.5662  -12.454  5.2397  False\n",
      "     B      C  10.8095 0.0125   2.1951  19.424   True\n",
      "-----------------------------------------------------\n"
     ]
    }
   ],
   "source": [
    "results = pairwise_tukeyhsd(df_tk['Points'], df_tk['Lecture'])\n",
    "print(results)"
   ]
  },
  {
   "cell_type": "markdown",
   "metadata": {},
   "source": [
    "##### (Conclusion) Population means of points for lectures A-B and B-C are significantly different.  \n",
    "(結論) 講義A-B, B-Cの間の試験得点の母平均は有意に差があるといえる。  "
   ]
  },
  {
   "cell_type": "markdown",
   "metadata": {},
   "source": [
    "#### Two-way ANOVA and Tukey-Kramer method  \n",
    "二元配置分散分析からのTukey-Kramer多重比較  "
   ]
  },
  {
   "cell_type": "markdown",
   "metadata": {},
   "source": [
    "##### Read data\n",
    "NOTE: columns for factors should be read as 'object'.  \n",
    "So, pd.read_csv(..., dtype={'mg':'object'}) is needed.  \n",
    "「要因」として用いる列は文字列型(object)で読んでおかないといけない。  \n",
    "このため pd.read_csv(..., dtype={'mg':'object'}) としている。  "
   ]
  },
  {
   "cell_type": "code",
   "execution_count": 89,
   "metadata": {},
   "outputs": [
    {
     "name": "stdout",
     "output_type": "stream",
     "text": [
      "(60, 3)\n",
      "<class 'pandas.core.frame.DataFrame'>\n",
      "RangeIndex: 60 entries, 0 to 59\n",
      "Data columns (total 3 columns):\n",
      " #   Column      Non-Null Count  Dtype  \n",
      "---  ------      --------------  -----  \n",
      " 0   Humidity    60 non-null     float64\n",
      " 1   Ingredient  60 non-null     object \n",
      " 2   mg          60 non-null     object \n",
      "dtypes: float64(1), object(2)\n",
      "memory usage: 1.5+ KB\n",
      "None\n"
     ]
    },
    {
     "data": {
      "text/html": [
       "<div>\n",
       "<style scoped>\n",
       "    .dataframe tbody tr th:only-of-type {\n",
       "        vertical-align: middle;\n",
       "    }\n",
       "\n",
       "    .dataframe tbody tr th {\n",
       "        vertical-align: top;\n",
       "    }\n",
       "\n",
       "    .dataframe thead th {\n",
       "        text-align: right;\n",
       "    }\n",
       "</style>\n",
       "<table border=\"1\" class=\"dataframe\">\n",
       "  <thead>\n",
       "    <tr style=\"text-align: right;\">\n",
       "      <th></th>\n",
       "      <th>Humidity</th>\n",
       "      <th>Ingredient</th>\n",
       "      <th>mg</th>\n",
       "    </tr>\n",
       "  </thead>\n",
       "  <tbody>\n",
       "    <tr>\n",
       "      <th>0</th>\n",
       "      <td>3.0</td>\n",
       "      <td>A</td>\n",
       "      <td>50</td>\n",
       "    </tr>\n",
       "    <tr>\n",
       "      <th>1</th>\n",
       "      <td>10.3</td>\n",
       "      <td>A</td>\n",
       "      <td>50</td>\n",
       "    </tr>\n",
       "    <tr>\n",
       "      <th>2</th>\n",
       "      <td>6.1</td>\n",
       "      <td>A</td>\n",
       "      <td>50</td>\n",
       "    </tr>\n",
       "    <tr>\n",
       "      <th>3</th>\n",
       "      <td>4.6</td>\n",
       "      <td>A</td>\n",
       "      <td>50</td>\n",
       "    </tr>\n",
       "    <tr>\n",
       "      <th>4</th>\n",
       "      <td>5.2</td>\n",
       "      <td>A</td>\n",
       "      <td>50</td>\n",
       "    </tr>\n",
       "  </tbody>\n",
       "</table>\n",
       "</div>"
      ],
      "text/plain": [
       "   Humidity Ingredient  mg\n",
       "0       3.0          A  50\n",
       "1      10.3          A  50\n",
       "2       6.1          A  50\n",
       "3       4.6          A  50\n",
       "4       5.2          A  50"
      ]
     },
     "metadata": {},
     "output_type": "display_data"
    }
   ],
   "source": [
    "csv_in = 'stat_test_sample_2way_anova.csv'\n",
    "df_at = pd.read_csv(csv_in, delimiter=',', skiprows=0, header=0,\n",
    "                 dtype={'mg':'object'})\n",
    "print(df_at.shape)\n",
    "print(df_at.info())\n",
    "display(df_at.head())"
   ]
  },
  {
   "cell_type": "markdown",
   "metadata": {},
   "source": [
    "##### Two-way ANOVA\n",
    "二元配置分散分析  "
   ]
  },
  {
   "cell_type": "markdown",
   "metadata": {},
   "source": [
    "Import additional libraries"
   ]
  },
  {
   "cell_type": "code",
   "execution_count": 90,
   "metadata": {},
   "outputs": [],
   "source": [
    "import statsmodels.api as sm\n",
    "from statsmodels.formula.api import ols"
   ]
  },
  {
   "cell_type": "markdown",
   "metadata": {},
   "source": [
    "Execute 2-way ANOVA"
   ]
  },
  {
   "cell_type": "code",
   "execution_count": 91,
   "metadata": {},
   "outputs": [
    {
     "name": "stdout",
     "output_type": "stream",
     "text": [
      "                            OLS Regression Results                            \n",
      "==============================================================================\n",
      "Dep. Variable:               Humidity   R-squared:                       0.794\n",
      "Model:                            OLS   Adj. R-squared:                  0.775\n",
      "Method:                 Least Squares   F-statistic:                     41.56\n",
      "Date:                Mon, 18 May 2020   Prob (F-statistic):           2.50e-17\n",
      "Time:                        16:05:12   Log-Likelihood:                -159.35\n",
      "No. Observations:                  60   AIC:                             330.7\n",
      "Df Residuals:                      54   BIC:                             343.3\n",
      "Df Model:                           5                                         \n",
      "Covariance Type:            nonrobust                                         \n",
      "=============================================================================================\n",
      "                                coef    std err          t      P>|t|      [0.025      0.975]\n",
      "---------------------------------------------------------------------------------------------\n",
      "Intercept                    15.5700      1.148     13.559      0.000      13.268      17.872\n",
      "Ingredient[T.B]               5.9300      1.624      3.651      0.001       2.674       9.186\n",
      "mg[T.150]                     9.3700      1.624      5.770      0.000       6.114      12.626\n",
      "mg[T.50]                     -8.7900      1.624     -5.413      0.000     -12.046      -5.534\n",
      "Ingredient[T.B]:mg[T.150]    -6.0100      2.297     -2.617      0.011     -10.615      -1.405\n",
      "Ingredient[T.B]:mg[T.50]     -0.6800      2.297     -0.296      0.768      -5.285       3.925\n",
      "==============================================================================\n",
      "Omnibus:                        0.336   Durbin-Watson:                   2.025\n",
      "Prob(Omnibus):                  0.846   Jarque-Bera (JB):                0.324\n",
      "Skew:                           0.164   Prob(JB):                        0.850\n",
      "Kurtosis:                       2.852   Cond. No.                         9.77\n",
      "==============================================================================\n",
      "\n",
      "Warnings:\n",
      "[1] Standard Errors assume that the covariance matrix of the errors is correctly specified.\n",
      "                    sum_sq    df          F        PR(>F)\n",
      "Ingredient      205.350000   1.0  15.571979  2.311828e-04\n",
      "mg             2426.434333   2.0  91.999965  4.046291e-18\n",
      "Ingredient:mg   108.319000   2.0   4.106991  2.186027e-02\n",
      "Residual        712.106000  54.0        NaN           NaN\n"
     ]
    }
   ],
   "source": [
    "formula = 'Humidity ~ Ingredient + mg + Ingredient:mg'  # 2-way (Ingredient and mg)\n",
    "model = ols(formula, df_at).fit()\n",
    "print(model.summary())\n",
    "aov_table = sm.stats.anova_lm(model, typ=2)  # Usually use Type II ANOVA\n",
    "print(aov_table)"
   ]
  },
  {
   "cell_type": "code",
   "execution_count": 92,
   "metadata": {},
   "outputs": [
    {
     "data": {
      "text/html": [
       "<div>\n",
       "<style scoped>\n",
       "    .dataframe tbody tr th:only-of-type {\n",
       "        vertical-align: middle;\n",
       "    }\n",
       "\n",
       "    .dataframe tbody tr th {\n",
       "        vertical-align: top;\n",
       "    }\n",
       "\n",
       "    .dataframe thead th {\n",
       "        text-align: right;\n",
       "    }\n",
       "</style>\n",
       "<table border=\"1\" class=\"dataframe\">\n",
       "  <thead>\n",
       "    <tr style=\"text-align: right;\">\n",
       "      <th></th>\n",
       "      <th>Humidity</th>\n",
       "      <th>Ingredient</th>\n",
       "      <th>mg</th>\n",
       "      <th>labels</th>\n",
       "    </tr>\n",
       "  </thead>\n",
       "  <tbody>\n",
       "    <tr>\n",
       "      <th>0</th>\n",
       "      <td>3.0</td>\n",
       "      <td>A</td>\n",
       "      <td>50</td>\n",
       "      <td>A50</td>\n",
       "    </tr>\n",
       "    <tr>\n",
       "      <th>1</th>\n",
       "      <td>10.3</td>\n",
       "      <td>A</td>\n",
       "      <td>50</td>\n",
       "      <td>A50</td>\n",
       "    </tr>\n",
       "    <tr>\n",
       "      <th>2</th>\n",
       "      <td>6.1</td>\n",
       "      <td>A</td>\n",
       "      <td>50</td>\n",
       "      <td>A50</td>\n",
       "    </tr>\n",
       "    <tr>\n",
       "      <th>3</th>\n",
       "      <td>4.6</td>\n",
       "      <td>A</td>\n",
       "      <td>50</td>\n",
       "      <td>A50</td>\n",
       "    </tr>\n",
       "    <tr>\n",
       "      <th>4</th>\n",
       "      <td>5.2</td>\n",
       "      <td>A</td>\n",
       "      <td>50</td>\n",
       "      <td>A50</td>\n",
       "    </tr>\n",
       "  </tbody>\n",
       "</table>\n",
       "</div>"
      ],
      "text/plain": [
       "   Humidity Ingredient  mg labels\n",
       "0       3.0          A  50    A50\n",
       "1      10.3          A  50    A50\n",
       "2       6.1          A  50    A50\n",
       "3       4.6          A  50    A50\n",
       "4       5.2          A  50    A50"
      ]
     },
     "metadata": {},
     "output_type": "display_data"
    }
   ],
   "source": [
    "df_at['labels'] = df_at['Ingredient']+df_at['mg']  # make unique labels for each group\n",
    "display(df_at.head())"
   ]
  },
  {
   "cell_type": "code",
   "execution_count": 93,
   "metadata": {},
   "outputs": [
    {
     "name": "stdout",
     "output_type": "stream",
     "text": [
      " Multiple Comparison of Means - Tukey HSD, FWER=0.05  \n",
      "======================================================\n",
      "group1 group2 meandiff p-adj   lower    upper   reject\n",
      "------------------------------------------------------\n",
      "  A100   A150     9.37  0.001   4.5719  14.1681   True\n",
      "  A100    A50    -8.79  0.001 -13.5881  -3.9919   True\n",
      "  A100   B100     5.93 0.0074   1.1319  10.7281   True\n",
      "  A100   B150     9.29  0.001   4.4919  14.0881   True\n",
      "  A100    B50    -3.54  0.264  -8.3381   1.2581  False\n",
      "  A150    A50   -18.16  0.001 -22.9581 -13.3619   True\n",
      "  A150   B100    -3.44 0.2937  -8.2381   1.3581  False\n",
      "  A150   B150    -0.08    0.9  -4.8781   4.7181  False\n",
      "  A150    B50   -12.91  0.001 -17.7081  -8.1119   True\n",
      "   A50   B100    14.72  0.001   9.9219  19.5181   True\n",
      "   A50   B150    18.08  0.001  13.2819  22.8781   True\n",
      "   A50    B50     5.25 0.0243   0.4519  10.0481   True\n",
      "  B100   B150     3.36 0.3187  -1.4381   8.1581  False\n",
      "  B100    B50    -9.47  0.001 -14.2681  -4.6719   True\n",
      "  B150    B50   -12.83  0.001 -17.6281  -8.0319   True\n",
      "------------------------------------------------------\n"
     ]
    }
   ],
   "source": [
    "results = pairwise_tukeyhsd(df_at['Humidity'], df_at['labels'])\n",
    "print(results)"
   ]
  },
  {
   "cell_type": "markdown",
   "metadata": {},
   "source": [
    "##### (Conclusion) Population means between A100-B50, A150-B100, A150-B150, B100-B150 are not significantly different. Population means of other pairs can be regarded as different.\n",
    "(結論) A100-B50, A150-B100, A150-B150, B100-B150 の母平均は有意に異なるとはいえない。残りのペアの母平均は有意に異なるといえる。　　"
   ]
  }
 ],
 "metadata": {
  "kernelspec": {
   "display_name": "Python 3",
   "language": "python",
   "name": "python3"
  },
  "language_info": {
   "codemirror_mode": {
    "name": "ipython",
    "version": 3
   },
   "file_extension": ".py",
   "mimetype": "text/x-python",
   "name": "python",
   "nbconvert_exporter": "python",
   "pygments_lexer": "ipython3",
   "version": "3.6.10"
  }
 },
 "nbformat": 4,
 "nbformat_minor": 4
}
