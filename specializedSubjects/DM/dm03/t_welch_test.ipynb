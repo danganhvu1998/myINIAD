{
 "cells": [
  {
   "cell_type": "markdown",
   "metadata": {},
   "source": [
    "### Test wheter the effect of new medicine is significantly larger than that of conventional one  \n",
    "新薬の薬効が従来薬よりも有意かどうかを検定するサンプルプログラム  "
   ]
  },
  {
   "cell_type": "markdown",
   "metadata": {},
   "source": [
    "#### Program 1  \n",
    "Straightforward calculation and comparison of t_stat and t_critical  \n",
    "t統計量を素直に計算し、臨界値と比較する  "
   ]
  },
  {
   "cell_type": "code",
   "execution_count": 10,
   "metadata": {},
   "outputs": [
    {
     "name": "stdout",
     "output_type": "stream",
     "text": [
      "Reject H0: t_stat(2.740109430684634) > t_critical(1.7559546224887905)\n"
     ]
    }
   ],
   "source": [
    "import  numpy  as  np\n",
    "import  scipy.stats  as  ss\n",
    "\n",
    "x1 = [1.08,  1.60,  0.98,  2.06,  2.18,  1.66,  1.06,  0.95,  2.13,  1.33]\n",
    "x2 = [0.56,  0.98,  0.48,  1.35,  1.44,  1.03,  0.55]\n",
    "alpha = 0.05\n",
    "\n",
    "n1 = np.size(x1)\n",
    "ave1 = np.mean(x1)\n",
    "std1 = np.std(x1, ddof=1)\n",
    "n2 = np.size(x2)\n",
    "ave2 = np.mean(x2)\n",
    "std2 = np.std(x2, ddof=1)\n",
    "\n",
    "t_stat = (ave1 - ave2 ) / (std1**2/n1 + std2**2/n2)**(1/2)\n",
    "df_numer = (std1**2/n1 + std2**2/n2)**2\n",
    "df_denom = (std1**2)**2 / (n1**2 * (n1-1)) + (std2**2)**2 / (n2**2 * (n2-1))\n",
    "df = df_numer / df_denom\n",
    "\n",
    "t_critical = ss.t.ppf(1-alpha, df)\n",
    "if t_stat > t_critical:\n",
    "    print('Reject H0: t_stat({}) > t_critical({})'.format(t_stat, t_critical))\n",
    "else:\n",
    "    print('Retain H0: t_stat({}) <= t_critical({})'.format(t_stat, t_critical))"
   ]
  },
  {
   "cell_type": "markdown",
   "metadata": {},
   "source": [
    "#### Program 2\n",
    "If we know only the statistics (number of data, average, standard deviation) of the sample data  "
   ]
  },
  {
   "cell_type": "code",
   "execution_count": 11,
   "metadata": {},
   "outputs": [
    {
     "name": "stdout",
     "output_type": "stream",
     "text": [
      "Reject H0: t_stat:2.740109430684634, p_value:0.01545393623098113\n"
     ]
    }
   ],
   "source": [
    "t_stat, p_value = ss.ttest_ind_from_stats(ave1, std1, n1, ave2, std2, n2, \n",
    "                                                              equal_var=False)\n",
    "if t_stat > 0 and p_value/2 < alpha:\n",
    "    print('Reject H0: t_stat:{}, p_value:{}'.format(t_stat, p_value))\n",
    "else:\n",
    "    print('Retail H0: t_stat:{}, p_value:{}'.format(t_stat, p_value))"
   ]
  },
  {
   "cell_type": "markdown",
   "metadata": {},
   "source": [
    "#### Program 3\n",
    "Calculate t-stat and p-value directly from data  "
   ]
  },
  {
   "cell_type": "code",
   "execution_count": 12,
   "metadata": {},
   "outputs": [
    {
     "name": "stdout",
     "output_type": "stream",
     "text": [
      "Reject H0: t_stat:2.740109430684634, p_value:0.015453936230981137\n"
     ]
    }
   ],
   "source": [
    "import numpy as np\n",
    "import scipy.stats as ss\n",
    "\n",
    "x1 = [1.08,  1.60,  0.98,  2.06,  2.18,  1.66,  1.06,  0.95,  2.13,  1.33]\n",
    "x2 = [0.56,  0.98,  0.48,  1.35,  1.44,  1.03,  0.55]\n",
    "alpha = 0.05\n",
    "\n",
    "t_stat, p_value = ss.ttest_ind(x1, x2, equal_var=False)\n",
    "if t_stat > 0 and p_value/2 < alpha:\n",
    "    print('Reject H0: t_stat:{}, p_value:{}'.format(t_stat, p_value))\n",
    "else:\n",
    "    print('Retail H0: t_stat:{}, p_value:{}'.format(t_stat, p_value))"
   ]
  },
  {
   "cell_type": "code",
   "execution_count": null,
   "metadata": {},
   "outputs": [],
   "source": []
  }
 ],
 "metadata": {
  "kernelspec": {
   "display_name": "Python 3",
   "language": "python",
   "name": "python3"
  },
  "language_info": {
   "codemirror_mode": {
    "name": "ipython",
    "version": 3
   },
   "file_extension": ".py",
   "mimetype": "text/x-python",
   "name": "python",
   "nbconvert_exporter": "python",
   "pygments_lexer": "ipython3",
   "version": "3.6.10"
  }
 },
 "nbformat": 4,
 "nbformat_minor": 4
}
