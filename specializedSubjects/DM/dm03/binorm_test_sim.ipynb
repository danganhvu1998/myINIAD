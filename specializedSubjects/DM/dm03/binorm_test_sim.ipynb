{
 "cells": [
  {
   "cell_type": "markdown",
   "metadata": {},
   "source": [
    "#### Calculation of the probability that the pip of a \"normal\" dice becomes \"1\" more than or equal to 25 times out of 100 casts  \n",
    "普通のサイコロを100回振ったときに1の目が25回以上出る確率を計算するプログラム  "
   ]
  },
  {
   "cell_type": "markdown",
   "metadata": {},
   "source": [
    "$$\n",
    "p = \\sum_{n=25}^{100} {}_{100} C_n \\times \\left(\\frac{1}{6}\\right)^n \\left(\\frac{5}{6}\\right)^{100-n}\n",
    "$$"
   ]
  },
  {
   "cell_type": "markdown",
   "metadata": {},
   "source": [
    "#### Program 1  \n",
    "Straightforward calculation  "
   ]
  },
  {
   "cell_type": "code",
   "execution_count": 1,
   "metadata": {},
   "outputs": [
    {
     "name": "stdout",
     "output_type": "stream",
     "text": [
      "0.021703378733936077\n"
     ]
    }
   ],
   "source": [
    "def fact(x):\n",
    "    ret = 1\n",
    "    for i in range(1, x+1):\n",
    "        ret *= i\n",
    "    return ret\n",
    "\n",
    "def comb(a, b):\n",
    "    return fact(a) / fact(b) / fact(a-b)\n",
    "\n",
    "p = 0.0\n",
    "for n in range(25, 101):\n",
    "    p1 = comb(100, n) * ((1/6)**n) * ((5/6)**(100-n))\n",
    "    p += p1\n",
    "\n",
    "print(p)"
   ]
  },
  {
   "cell_type": "markdown",
   "metadata": {},
   "source": [
    "#### Program 2\n",
    "Use scipy.special.comb() for calculation of combination"
   ]
  },
  {
   "cell_type": "code",
   "execution_count": 2,
   "metadata": {},
   "outputs": [
    {
     "name": "stdout",
     "output_type": "stream",
     "text": [
      "0.02170337873393607\n"
     ]
    }
   ],
   "source": [
    "from scipy.special import comb\n",
    "\n",
    "p = 0.0\n",
    "for n in range(25, 101):\n",
    "    p1 = comb(100, n) * ((1/6)**n) * ((5/6)**(100-n))\n",
    "    p += p1\n",
    "\n",
    "print(p)"
   ]
  },
  {
   "cell_type": "markdown",
   "metadata": {},
   "source": [
    "#### Program 3\n",
    "Obtain p-value from binomial distribution directly"
   ]
  },
  {
   "cell_type": "code",
   "execution_count": 3,
   "metadata": {},
   "outputs": [
    {
     "name": "stdout",
     "output_type": "stream",
     "text": [
      "0.02170337873393608\n"
     ]
    }
   ],
   "source": [
    "import scipy.stats as ss\n",
    "\n",
    "p_value = ss.binom_test(25, 100, p=1/6, alternative='greater')\n",
    "print(p_value)"
   ]
  },
  {
   "cell_type": "markdown",
   "metadata": {},
   "source": [
    "#### Program 4  \n",
    "By simulation using random numbers from binomial distribution  "
   ]
  },
  {
   "cell_type": "code",
   "execution_count": 4,
   "metadata": {},
   "outputs": [
    {
     "name": "stdout",
     "output_type": "stream",
     "text": [
      "p = 0.0199\n"
     ]
    }
   ],
   "source": [
    "import numpy as np\n",
    "import scipy.stats as ss\n",
    "\n",
    "a = ss.binom.rvs(100, 1/6, size=10000)\n",
    "p = np.sum( a >= 25 ) / 10000\n",
    "print('p =', p)"
   ]
  },
  {
   "cell_type": "markdown",
   "metadata": {},
   "source": [
    "#### Program 5 (Adv)  \n",
    "Visualization of convergence of calculated p-value  "
   ]
  },
  {
   "cell_type": "code",
   "execution_count": 5,
   "metadata": {},
   "outputs": [
    {
     "data": {
      "image/png": "[encoded data removed]",
      "text/plain": [
       "<Figure size 432x288 with 1 Axes>"
      ]
     },
     "metadata": {
      "needs_background": "light"
     },
     "output_type": "display_data"
    },
    {
     "name": "stdout",
     "output_type": "stream",
     "text": [
      "0.02058\n"
     ]
    }
   ],
   "source": [
    "import numpy as np\n",
    "import scipy.stats as ss\n",
    "import matplotlib.pyplot as plt\n",
    "\n",
    "x, y = [], []\n",
    "N, iter = 10000, 10\n",
    "num_over_25, num_all = 0, 0\n",
    "for i in range(iter):\n",
    "    a = ss.binom.rvs(100, 1/6, size=N)\n",
    "    num_over_25 += np.sum( a >= 25 )\n",
    "    num_all += N\n",
    "    p = num_over_25 / num_all\n",
    "    x.append(num_all)\n",
    "    y.append(p)\n",
    "plt.plot(x, y, label='p-value')\n",
    "plt.xlabel('Number of trials')\n",
    "plt.ylabel('Probability (>= 25/100)')\n",
    "plt.plot([min(x),max(x)], [0.05,0.05], label='p=0.05')\n",
    "plt.plot([min(x),max(x)], [0.01,0.01], label='p=0.01')\n",
    "plt.legend()\n",
    "plt.show()\n",
    "print(y[iter-1])"
   ]
  },
  {
   "cell_type": "code",
   "execution_count": null,
   "metadata": {},
   "outputs": [],
   "source": []
  }
 ],
 "metadata": {
  "kernelspec": {
   "display_name": "Python 3",
   "language": "python",
   "name": "python3"
  },
  "language_info": {
   "codemirror_mode": {
    "name": "ipython",
    "version": 3
   },
   "file_extension": ".py",
   "mimetype": "text/x-python",
   "name": "python",
   "nbconvert_exporter": "python",
   "pygments_lexer": "ipython3",
   "version": "3.6.10"
  }
 },
 "nbformat": 4,
 "nbformat_minor": 4
}
