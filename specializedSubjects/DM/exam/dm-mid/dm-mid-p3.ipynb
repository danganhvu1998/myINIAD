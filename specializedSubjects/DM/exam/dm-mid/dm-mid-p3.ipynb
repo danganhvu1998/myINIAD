{
 "cells": [
  {
   "cell_type": "code",
   "execution_count": 2,
   "id": "dirty-formula",
   "metadata": {},
   "outputs": [],
   "source": [
    "import numpy as np"
   ]
  },
  {
   "cell_type": "code",
   "execution_count": null,
   "id": "operational-communist",
   "metadata": {},
   "outputs": [],
   "source": [
    "# First Round\n",
    "p_pos_ill = 0.95\n",
    "p_neg_nill = 0.90\n",
    "p_ill = 1 / 5000\n",
    "p_nill = 1 - p_ill\n",
    "p_pos = p_ill * p_pos_ill + ( 1 - p_neg_nill ) * p_nill\n",
    "p_neg = 1 - p_pos\n",
    "p_ill_and_pos = p_ill * p_pos_ill\n",
    "p_ill_pos = p_ill_and_pos / p_pos\n",
    "print('Possitve then ill:', p_ill_pos)\n",
    "p_nill_and_neg = p_nill * p_neg_nill\n",
    "p_nill_neg = p_nill_and_neg / p_neg\n",
    "print('Negative then not ill:', p_nill_neg)\n",
    "\n",
    "# Second Round\n",
    "p_pos_ill = 0.97\n",
    "p_neg_nill = 0.96\n",
    "p_ill = p_ill_pos\n",
    "p_nill = 1 - p_ill\n",
    "p_pos = p_ill * p_pos_ill + ( 1 - p_neg_nill ) * p_nill\n",
    "p_neg = 1 - p_pos\n",
    "p_ill_and_pos = p_ill * p_pos_ill\n",
    "p_ill_pos = p_ill_and_pos / p_pos\n",
    "print('Possitve then ill:', p_ill_pos)\n",
    "p_nill_and_neg = p_nill * p_neg_nill\n",
    "p_nill_neg = p_nill_and_neg / p_neg\n",
    "print('Negative then not ill:', p_nill_neg)\n"
   ]
  }
 ],
 "metadata": {
  "kernelspec": {
   "display_name": "Python 3",
   "language": "python",
   "name": "python3"
  },
  "language_info": {
   "codemirror_mode": {
    "name": "ipython",
    "version": 3
   },
   "file_extension": ".py",
   "mimetype": "text/x-python",
   "name": "python",
   "nbconvert_exporter": "python",
   "pygments_lexer": "ipython3",
   "version": "3.8.8"
  }
 },
 "nbformat": 4,
 "nbformat_minor": 5
}