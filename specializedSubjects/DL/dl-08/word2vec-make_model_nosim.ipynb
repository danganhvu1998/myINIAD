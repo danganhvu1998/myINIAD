{
 "cells": [
  {
   "cell_type": "markdown",
   "metadata": {},
   "source": [
    "### Sample program to make word2vec model using gensim  \n",
    "\n",
    "- using text corpus  \n",
    "- http://mattmahoney.net/dc/text8.zip"
   ]
  },
  {
   "cell_type": "markdown",
   "metadata": {},
   "source": [
    "#### Import libraries  "
   ]
  },
  {
   "cell_type": "code",
   "execution_count": null,
   "metadata": {},
   "outputs": [],
   "source": [
    "import logging\n",
    "from gensim.models import word2vec"
   ]
  },
  {
   "cell_type": "markdown",
   "metadata": {},
   "source": [
    "#### Parameters  "
   ]
  },
  {
   "cell_type": "code",
   "execution_count": null,
   "metadata": {},
   "outputs": [],
   "source": [
    "# \"data/text8\" should be modified (use text8.txt in DL-06)\n",
    "corpus = '../dl-06/data/text8'\n",
    "words_per_sentence = 50\n",
    "embed_size = 300\n",
    "min_count = 20\n",
    "model_file = 'word2vec_text8-min{}-s{}-nosim.model'.format(min_count,embed_size)"
   ]
  },
  {
   "cell_type": "markdown",
   "metadata": {},
   "source": [
    "#### Exec word2vec  "
   ]
  },
  {
   "cell_type": "code",
   "execution_count": null,
   "metadata": {},
   "outputs": [],
   "source": [
    "%%time\n",
    "\n",
    "logging.basicConfig(format=\"%(asctime)s : %(levelname)s : %(message)s\",\n",
    "                    level=logging.INFO)\n",
    "\n",
    "sentences = word2vec.Text8Corpus(corpus, words_per_sentence)\n",
    "model = word2vec.Word2Vec(sentences, size=embed_size, min_count=min_count)  # CBOW\n",
    "\n",
    "# skip-gram (no negative sample)\n",
    "#model = word2vec.Word2Vec(sentences, size=embed_size, min_count=min_count,\n",
    "#                          sg=1)\n",
    "# skip-gram (with negative sample)\n",
    "#model = word2vec.Word2Vec(sentences, size=embed_size, min_count=min_count,\n",
    "#                          sg=1, hs=0, negative=1)\n",
    "\n",
    "# see https://radimrehurek.com/gensim/models/word2vec.html for more details"
   ]
  },
  {
   "cell_type": "markdown",
   "metadata": {},
   "source": [
    "#### Check model  "
   ]
  },
  {
   "cell_type": "code",
   "execution_count": null,
   "metadata": {},
   "outputs": [],
   "source": [
    "print(model.wv.vector_size)  # dimension of embedding\n",
    "print(len(model.wv.vocab.keys()))  # number of words"
   ]
  },
  {
   "cell_type": "markdown",
   "metadata": {},
   "source": [
    "#### Save model into file  "
   ]
  },
  {
   "cell_type": "code",
   "execution_count": null,
   "metadata": {},
   "outputs": [],
   "source": [
    "model.save(model_file)"
   ]
  },
  {
   "cell_type": "code",
   "execution_count": null,
   "metadata": {},
   "outputs": [],
   "source": []
  }
 ],
 "metadata": {
  "kernelspec": {
   "display_name": "Python 3",
   "language": "python",
   "name": "python3"
  },
  "language_info": {
   "codemirror_mode": {
    "name": "ipython",
    "version": 3
   },
   "file_extension": ".py",
   "mimetype": "text/x-python",
   "name": "python",
   "nbconvert_exporter": "python",
   "pygments_lexer": "ipython3",
   "version": "3.8.8"
  }
 },
 "nbformat": 4,
 "nbformat_minor": 4
}
