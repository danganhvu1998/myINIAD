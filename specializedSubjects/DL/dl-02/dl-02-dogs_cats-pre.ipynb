{
 "cells": [
  {
   "cell_type": "markdown",
   "source": [
    "### Sample notebook to resize original image files and save them in a ndarray file (npy) "
   ],
   "metadata": {}
  },
  {
   "cell_type": "markdown",
   "source": [
    "#### Import libraries  "
   ],
   "metadata": {}
  },
  {
   "cell_type": "code",
   "execution_count": 4,
   "source": [
    "import os,glob\n",
    "import numpy as np\n",
    "from PIL import Image"
   ],
   "outputs": [],
   "metadata": {}
  },
  {
   "cell_type": "markdown",
   "source": [
    "#### Parameters  "
   ],
   "metadata": {}
  },
  {
   "cell_type": "code",
   "execution_count": 5,
   "source": [
    "w=56\n",
    "work_dir='data/dogs_cats'\n",
    "npy_data_base='dogs_cats-data'\n",
    "npy_labels_base='dogs_cats-labels'\n",
    "classes=['dogs','cats']\n",
    "num_classes=len(classes)"
   ],
   "outputs": [],
   "metadata": {}
  },
  {
   "cell_type": "markdown",
   "source": [
    "#### Resize images into w x w and generate npy file  "
   ],
   "metadata": {}
  },
  {
   "cell_type": "code",
   "execution_count": 6,
   "source": [
    "%%time\n",
    "\n",
    "ok=1\n",
    "for mode in [\"train\", \"test\"]:\n",
    "    X=[]\n",
    "    y=[]\n",
    "    npy_data_file='{0}-{1}-w{2}.npy'.format(npy_data_base,mode,w)\n",
    "    npy_labels_file='{0}-{1}-w{2}.npy'.format(npy_labels_base,mode,w)\n",
    "    for i in range(0, num_classes):\n",
    "        cls=classes[i]\n",
    "        image_dir=work_dir+\"/original/\"+mode+\"/\"+cls\n",
    "        files=glob.glob(image_dir+\"/*.*\")\n",
    "        print(\"w:\",w,\"mode:\",mode,\"class:\",cls)\n",
    "        for f in files:\n",
    "            img=Image.open(f)\n",
    "            img=img.convert(\"RGB\")\n",
    "            img=img.resize((w,w))\n",
    "            data=np.array(img)\n",
    "            X.append(data)\n",
    "            y.append(i)\n",
    "    X=np.array(X)\n",
    "    y=np.array(y)\n",
    "    data_file=work_dir+\"/\"+npy_data_file\n",
    "    labels_file=work_dir+\"/\"+npy_labels_file\n",
    "    np.save(data_file,X)\n",
    "    np.save(labels_file,y)\n",
    "    \n",
    "    if not os.path.exists(data_file):\n",
    "        ok=0\n",
    "    if not os.path.exists(labels_file):\n",
    "        ok=0\n",
    "        \n",
    "if ok==1:\n",
    "    print(\"OK\")"
   ],
   "outputs": [
    {
     "output_type": "stream",
     "name": "stdout",
     "text": [
      "w: 56 mode: train class: dogs\n",
      "w: 56 mode: train class: cats\n",
      "w: 56 mode: test class: dogs\n",
      "w: 56 mode: test class: cats\n",
      "OK\n",
      "CPU times: user 8.65 s, sys: 157 ms, total: 8.81 s\n",
      "Wall time: 8.88 s\n"
     ]
    }
   ],
   "metadata": {}
  }
 ],
 "metadata": {
  "kernelspec": {
   "name": "python3",
   "display_name": "Python 3.8.10 64-bit ('ds2021': conda)"
  },
  "language_info": {
   "codemirror_mode": {
    "name": "ipython",
    "version": 3
   },
   "file_extension": ".py",
   "mimetype": "text/x-python",
   "name": "python",
   "nbconvert_exporter": "python",
   "pygments_lexer": "ipython3",
   "version": "3.8.10"
  },
  "interpreter": {
   "hash": "e8880c58ea65068827af19aa57df99e07da1109ce0dc5e321474e5f3a08d850b"
  }
 },
 "nbformat": 4,
 "nbformat_minor": 4
}