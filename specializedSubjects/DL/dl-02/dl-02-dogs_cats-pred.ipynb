{
 "cells": [
  {
   "cell_type": "markdown",
   "source": [
    "### Sample notebook for prediction against image files  "
   ],
   "metadata": {}
  },
  {
   "cell_type": "markdown",
   "source": [
    "#### Import libraries  "
   ],
   "metadata": {}
  },
  {
   "cell_type": "code",
   "execution_count": 1,
   "source": [
    "import os,glob\n",
    "from PIL import Image\n",
    "import numpy as np\n",
    "from tensorflow.keras.utils import to_categorical\n",
    "from tensorflow.keras.models import load_model"
   ],
   "outputs": [
    {
     "output_type": "stream",
     "name": "stderr",
     "text": [
      "2021-09-24 10:22:35.107115: W tensorflow/stream_executor/platform/default/dso_loader.cc:64] Could not load dynamic library 'libcudart.so.11.0'; dlerror: libcudart.so.11.0: cannot open shared object file: No such file or directory\n",
      "2021-09-24 10:22:35.107191: I tensorflow/stream_executor/cuda/cudart_stub.cc:29] Ignore above cudart dlerror if you do not have a GPU set up on your machine.\n"
     ]
    }
   ],
   "metadata": {}
  },
  {
   "cell_type": "markdown",
   "source": [
    "#### Parameters  "
   ],
   "metadata": {}
  },
  {
   "cell_type": "code",
   "execution_count": 2,
   "source": [
    "w=56\n",
    "work_dir=\"data/dogs_cats\"\n",
    "image_dir=work_dir+\"/original/unknown\"\n",
    "pred_dir=work_dir+\"/predicted\"\n",
    "results_base='dogs_cats-results'\n",
    "model_file=\"dogs_cats-model-w{0}.h5\".format(w)\n",
    "classes=[\"dogs\",\"cats\"]\n",
    "num_classes=len(classes)"
   ],
   "outputs": [],
   "metadata": {}
  },
  {
   "cell_type": "markdown",
   "source": [
    "#### Read model file  "
   ],
   "metadata": {}
  },
  {
   "cell_type": "code",
   "execution_count": 3,
   "source": [
    "model=load_model(model_file)"
   ],
   "outputs": [
    {
     "output_type": "stream",
     "name": "stderr",
     "text": [
      "2021-09-24 10:22:38.805307: W tensorflow/stream_executor/platform/default/dso_loader.cc:64] Could not load dynamic library 'libcuda.so.1'; dlerror: libcuda.so.1: cannot open shared object file: No such file or directory\n",
      "2021-09-24 10:22:38.805364: W tensorflow/stream_executor/cuda/cuda_driver.cc:269] failed call to cuInit: UNKNOWN ERROR (303)\n",
      "2021-09-24 10:22:38.805391: I tensorflow/stream_executor/cuda/cuda_diagnostics.cc:156] kernel driver does not appear to be running on this host (anhvu): /proc/driver/nvidia/version does not exist\n",
      "2021-09-24 10:22:38.806348: I tensorflow/core/platform/cpu_feature_guard.cc:142] This TensorFlow binary is optimized with oneAPI Deep Neural Network Library (oneDNN) to use the following CPU instructions in performance-critical operations:  AVX2 AVX512F FMA\n",
      "To enable them in other operations, rebuild TensorFlow with the appropriate compiler flags.\n"
     ]
    }
   ],
   "metadata": {}
  },
  {
   "cell_type": "markdown",
   "source": [
    "#### Prediction against an image file one by one  "
   ],
   "metadata": {}
  },
  {
   "cell_type": "code",
   "execution_count": 4,
   "source": [
    "# Open file for saving results  \n",
    "results_file='{0}-w{1}.csv'.format(results_base,w)\n",
    "res=open(results_file,'w')\n",
    "res.write(\"file,{0},{1}\\n\".format(classes[0],classes[1]))\n",
    "\n",
    "# Remove files in output directory\n",
    "files=glob.glob(pred_dir+\"/*.*\")\n",
    "for f in files:\n",
    "    os.remove(f)\n",
    "\n",
    "# Do prediction \n",
    "files=glob.glob(image_dir+\"/*.*\")\n",
    "for f in files:\n",
    "    # Read image file\n",
    "    img=Image.open(f)\n",
    "    img=img.convert(\"RGB\")\n",
    "    img=img.resize((w,w))\n",
    "    # Reshape into 4-d ndarray\n",
    "    X=np.array(img).reshape(1,w,w,3).astype(\"float16\")\n",
    "    X_pred=X/255\n",
    "    # Classification prediction\n",
    "    pred=model.predict(X_pred)\n",
    "    # Output image into pred_dir\n",
    "    pred_ans=pred.argmax()\n",
    "    pred_cls=classes[pred_ans]\n",
    "    tag=\"pred_as_{0}-w{1}\".format(pred_cls,w)\n",
    "    base=os.path.basename(f)\n",
    "    img_file=\"{0}/{1}.{2}.jpg\".format(pred_dir,os.path.splitext(base)[0],tag)\n",
    "    img.save(img_file)\n",
    "    print(img_file,pred)\n",
    "    res.write(\"{0},{1},{2}\\n\".format(f,pred[0][0],pred[0][1]))\n",
    "\n",
    "# Close results file\n",
    "res.close()\n",
    "\n",
    "print(\"OK\")"
   ],
   "outputs": [
    {
     "output_type": "stream",
     "name": "stderr",
     "text": [
      "2021-09-24 10:22:39.711458: I tensorflow/compiler/mlir/mlir_graph_optimization_pass.cc:185] None of the MLIR Optimization Passes are enabled (registered 2)\n"
     ]
    },
    {
     "output_type": "stream",
     "name": "stdout",
     "text": [
      "data/dogs_cats/predicted/9.pred_as_dogs-w56.jpg [[0.5331384 0.4668616]]\n",
      "data/dogs_cats/predicted/2.pred_as_dogs-w56.jpg [[0.65463257 0.3453674 ]]\n",
      "data/dogs_cats/predicted/4.pred_as_dogs-w56.jpg [[0.99724966 0.00275027]]\n",
      "data/dogs_cats/predicted/3.pred_as_dogs-w56.jpg [[0.6427231  0.35727695]]\n",
      "data/dogs_cats/predicted/6.pred_as_dogs-w56.jpg [[0.6063182  0.39368182]]\n",
      "data/dogs_cats/predicted/8.pred_as_cats-w56.jpg [[0.4622681 0.5377319]]\n",
      "data/dogs_cats/predicted/1.pred_as_dogs-w56.jpg [[0.57824546 0.4217545 ]]\n",
      "data/dogs_cats/predicted/7.pred_as_cats-w56.jpg [[0.4275902 0.5724098]]\n",
      "data/dogs_cats/predicted/5.pred_as_dogs-w56.jpg [[0.5870313 0.4129687]]\n",
      "data/dogs_cats/predicted/0.pred_as_dogs-w56.jpg [[0.731671 0.268329]]\n",
      "OK\n"
     ]
    }
   ],
   "metadata": {}
  },
  {
   "cell_type": "code",
   "execution_count": null,
   "source": [],
   "outputs": [],
   "metadata": {}
  }
 ],
 "metadata": {
  "kernelspec": {
   "name": "python3",
   "display_name": "Python 3.8.10 64-bit ('ds2021': conda)"
  },
  "language_info": {
   "codemirror_mode": {
    "name": "ipython",
    "version": 3
   },
   "file_extension": ".py",
   "mimetype": "text/x-python",
   "name": "python",
   "nbconvert_exporter": "python",
   "pygments_lexer": "ipython3",
   "version": "3.8.10"
  },
  "interpreter": {
   "hash": "e8880c58ea65068827af19aa57df99e07da1109ce0dc5e321474e5f3a08d850b"
  }
 },
 "nbformat": 4,
 "nbformat_minor": 4
}