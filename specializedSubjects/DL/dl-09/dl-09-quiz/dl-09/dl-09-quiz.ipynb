{
 "cells": [
  {
   "cell_type": "markdown",
   "metadata": {},
   "source": [
    "### Sample program for clustering of documents with doc2vec  \n",
    "- Consider Bi-gram  \n",
    "- Apply preprocess_string to content strings"
   ]
  },
  {
   "cell_type": "code",
   "execution_count": 208,
   "metadata": {},
   "outputs": [],
   "source": [
    "import pandas as pd\n",
    "from gensim.models.doc2vec import Doc2Vec\n",
    "from gensim.models.doc2vec import TaggedDocument\n",
    "from gensim.parsing.preprocessing import preprocess_string\n",
    "from gensim.models.phrases import Phrases, Phraser\n",
    "from sklearn.cluster import KMeans"
   ]
  },
  {
   "cell_type": "code",
   "execution_count": 209,
   "metadata": {},
   "outputs": [],
   "source": [
    "pd.options.display.max_columns=999\n",
    "pd.options.display.max_rows=999\n",
    "pd.options.display.max_colwidth=999\n",
    "\n",
    "seedval = 97\n",
    "import os\n",
    "os.environ['PYTHONHASHSEED'] = '97'"
   ]
  },
  {
   "cell_type": "markdown",
   "metadata": {},
   "source": [
    "**(1)**  "
   ]
  },
  {
   "cell_type": "code",
   "execution_count": 210,
   "metadata": {},
   "outputs": [
    {
     "data": {
      "text/html": [
       "<div>\n",
       "<style scoped>\n",
       "    .dataframe tbody tr th:only-of-type {\n",
       "        vertical-align: middle;\n",
       "    }\n",
       "\n",
       "    .dataframe tbody tr th {\n",
       "        vertical-align: top;\n",
       "    }\n",
       "\n",
       "    .dataframe thead th {\n",
       "        text-align: right;\n",
       "    }\n",
       "</style>\n",
       "<table border=\"1\" class=\"dataframe\">\n",
       "  <thead>\n",
       "    <tr style=\"text-align: right;\">\n",
       "      <th></th>\n",
       "      <th>content</th>\n",
       "    </tr>\n",
       "  </thead>\n",
       "  <tbody>\n",
       "    <tr>\n",
       "      <th>0</th>\n",
       "      <td>A goal kick is a method of restarting play.</td>\n",
       "    </tr>\n",
       "    <tr>\n",
       "      <th>1</th>\n",
       "      <td>There is no offside offence if a player receives the ball directly from a goal kick.</td>\n",
       "    </tr>\n",
       "    <tr>\n",
       "      <th>2</th>\n",
       "      <td>If the ball enters the opponents’ goal directly from a throw-in, the referee must award a goal kick.</td>\n",
       "    </tr>\n",
       "    <tr>\n",
       "      <th>3</th>\n",
       "      <td>If an indirect free kick is kicked directly into the opponents’ goal, a goal kick is awarded</td>\n",
       "    </tr>\n",
       "  </tbody>\n",
       "</table>\n",
       "</div>"
      ],
      "text/plain": [
       "                                                                                                content\n",
       "0                                                           A goal kick is a method of restarting play.\n",
       "1                  There is no offside offence if a player receives the ball directly from a goal kick.\n",
       "2  If the ball enters the opponents’ goal directly from a throw-in, the referee must award a goal kick.\n",
       "3          If an indirect free kick is kicked directly into the opponents’ goal, a goal kick is awarded"
      ]
     },
     "metadata": {},
     "output_type": "display_data"
    },
    {
     "name": "stdout",
     "output_type": "stream",
     "text": [
      "4\n"
     ]
    }
   ],
   "source": [
    "df = pd.DataFrame([[\"A goal kick is a method of restarting play.\"],\n",
    "                   [\"There is no offside offence if a player receives the ball directly from a goal kick.\"],              \n",
    "                   [\"If the ball enters the opponents’ goal directly from a throw-in, the referee must award a goal kick.\"],\n",
    "                   [\"If an indirect free kick is kicked directly into the opponents’ goal, a goal kick is awarded\"],\n",
    "                  ], columns=['content'])\n",
    "display(df)\n",
    "n_docs = df.shape[0]\n",
    "print(n_docs)"
   ]
  },
  {
   "cell_type": "markdown",
   "metadata": {},
   "source": [
    "**(2)**  "
   ]
  },
  {
   "cell_type": "code",
   "execution_count": 211,
   "metadata": {},
   "outputs": [
    {
     "data": {
      "text/html": [
       "<div>\n",
       "<style scoped>\n",
       "    .dataframe tbody tr th:only-of-type {\n",
       "        vertical-align: middle;\n",
       "    }\n",
       "\n",
       "    .dataframe tbody tr th {\n",
       "        vertical-align: top;\n",
       "    }\n",
       "\n",
       "    .dataframe thead th {\n",
       "        text-align: right;\n",
       "    }\n",
       "</style>\n",
       "<table border=\"1\" class=\"dataframe\">\n",
       "  <thead>\n",
       "    <tr style=\"text-align: right;\">\n",
       "      <th></th>\n",
       "      <th>content</th>\n",
       "    </tr>\n",
       "  </thead>\n",
       "  <tbody>\n",
       "    <tr>\n",
       "      <th>0</th>\n",
       "      <td>[goal, kick, method, restart, plai]</td>\n",
       "    </tr>\n",
       "    <tr>\n",
       "      <th>1</th>\n",
       "      <td>[offsid, offenc, player, receiv, ball, directli, goal, kick]</td>\n",
       "    </tr>\n",
       "    <tr>\n",
       "      <th>2</th>\n",
       "      <td>[ball, enter, opponents’, goal, directli, throw, refere, award, goal, kick]</td>\n",
       "    </tr>\n",
       "    <tr>\n",
       "      <th>3</th>\n",
       "      <td>[indirect, free, kick, kick, directli, opponents’, goal, goal, kick, award]</td>\n",
       "    </tr>\n",
       "  </tbody>\n",
       "</table>\n",
       "</div>"
      ],
      "text/plain": [
       "                                                                       content\n",
       "0                                          [goal, kick, method, restart, plai]\n",
       "1                 [offsid, offenc, player, receiv, ball, directli, goal, kick]\n",
       "2  [ball, enter, opponents’, goal, directli, throw, refere, award, goal, kick]\n",
       "3  [indirect, free, kick, kick, directli, opponents’, goal, goal, kick, award]"
      ]
     },
     "metadata": {},
     "output_type": "display_data"
    }
   ],
   "source": [
    "df['content'] = df['content'].map(preprocess_string)\n",
    "display(df)"
   ]
  },
  {
   "cell_type": "markdown",
   "metadata": {},
   "source": [
    "**(3)**  "
   ]
  },
  {
   "cell_type": "code",
   "execution_count": 212,
   "metadata": {},
   "outputs": [
    {
     "name": "stdout",
     "output_type": "stream",
     "text": [
      "[['goal', 'kick', 'method', 'restart', 'plai'], ['offsid', 'offenc', 'player', 'receiv', 'ball', 'directli', 'goal', 'kick'], ['ball', 'enter', 'opponents’', 'goal', 'directli', 'throw', 'refere', 'award', 'goal', 'kick'], ['indirect', 'free', 'kick', 'kick', 'directli', 'opponents’', 'goal', 'goal', 'kick', 'award']]\n"
     ]
    }
   ],
   "source": [
    "words = []\n",
    "for i in range(n_docs):\n",
    "    words.append(df.at[i, 'content'])\n",
    "print(words)"
   ]
  },
  {
   "cell_type": "markdown",
   "metadata": {},
   "source": [
    "**(4)**  "
   ]
  },
  {
   "cell_type": "code",
   "execution_count": 213,
   "metadata": {},
   "outputs": [
    {
     "data": {
      "text/html": [
       "<div>\n",
       "<style scoped>\n",
       "    .dataframe tbody tr th:only-of-type {\n",
       "        vertical-align: middle;\n",
       "    }\n",
       "\n",
       "    .dataframe tbody tr th {\n",
       "        vertical-align: top;\n",
       "    }\n",
       "\n",
       "    .dataframe thead th {\n",
       "        text-align: right;\n",
       "    }\n",
       "</style>\n",
       "<table border=\"1\" class=\"dataframe\">\n",
       "  <thead>\n",
       "    <tr style=\"text-align: right;\">\n",
       "      <th></th>\n",
       "      <th>content</th>\n",
       "    </tr>\n",
       "  </thead>\n",
       "  <tbody>\n",
       "    <tr>\n",
       "      <th>0</th>\n",
       "      <td>[goal_kick, method, restart, plai]</td>\n",
       "    </tr>\n",
       "    <tr>\n",
       "      <th>1</th>\n",
       "      <td>[offsid, offenc, player, receiv, ball, directli, goal_kick]</td>\n",
       "    </tr>\n",
       "    <tr>\n",
       "      <th>2</th>\n",
       "      <td>[ball, enter, opponents’, goal, directli, throw, refere, award, goal_kick]</td>\n",
       "    </tr>\n",
       "    <tr>\n",
       "      <th>3</th>\n",
       "      <td>[indirect, free, kick, kick, directli, opponents’, goal, goal_kick, award]</td>\n",
       "    </tr>\n",
       "  </tbody>\n",
       "</table>\n",
       "</div>"
      ],
      "text/plain": [
       "                                                                      content\n",
       "0                                          [goal_kick, method, restart, plai]\n",
       "1                 [offsid, offenc, player, receiv, ball, directli, goal_kick]\n",
       "2  [ball, enter, opponents’, goal, directli, throw, refere, award, goal_kick]\n",
       "3  [indirect, free, kick, kick, directli, opponents’, goal, goal_kick, award]"
      ]
     },
     "metadata": {},
     "output_type": "display_data"
    }
   ],
   "source": [
    "phrases_bi = Phrases(words, min_count=2, threshold=1.0)\n",
    "bigram = Phraser(phrases_bi)\n",
    "df['content'] = df['content'].map(lambda x: bigram[x])\n",
    "display(df.head())"
   ]
  },
  {
   "cell_type": "markdown",
   "metadata": {},
   "source": [
    "**(5)**  "
   ]
  },
  {
   "cell_type": "code",
   "execution_count": 214,
   "metadata": {},
   "outputs": [
    {
     "data": {
      "text/plain": [
       "[TaggedDocument(words=['goal_kick', 'method', 'restart', 'plai'], tags=[0]),\n",
       " TaggedDocument(words=['offsid', 'offenc', 'player', 'receiv', 'ball', 'directli', 'goal_kick'], tags=[1]),\n",
       " TaggedDocument(words=['ball', 'enter', 'opponents’', 'goal', 'directli', 'throw', 'refere', 'award', 'goal_kick'], tags=[2]),\n",
       " TaggedDocument(words=['indirect', 'free', 'kick', 'kick', 'directli', 'opponents’', 'goal', 'goal_kick', 'award'], tags=[3])]"
      ]
     },
     "metadata": {},
     "output_type": "display_data"
    }
   ],
   "source": [
    "docs = []\n",
    "for i in range(n_docs):\n",
    "    c = df.at[i, 'content']\n",
    "    doc_id = i\n",
    "    td = TaggedDocument(words=c, tags=[doc_id])\n",
    "    docs.append(td)\n",
    "display(docs)"
   ]
  },
  {
   "cell_type": "markdown",
   "metadata": {},
   "source": [
    "**(6)**  "
   ]
  },
  {
   "cell_type": "code",
   "execution_count": 215,
   "metadata": {},
   "outputs": [
    {
     "name": "stdout",
     "output_type": "stream",
     "text": [
      "Doc2Vec(dbow,d20,n5,s0.001,t3)\n",
      "['goal_kick', 'method', 'restart', 'plai', 'offsid', 'offenc', 'player', 'receiv', 'ball', 'directli', 'enter', 'opponents’', 'goal', 'throw', 'refere', 'award', 'indirect', 'free', 'kick']\n"
     ]
    }
   ],
   "source": [
    "model = Doc2Vec(documents=docs, vector_size=20, min_count=1, dm=0)\n",
    "print(model)\n",
    "print(list(model.wv.vocab.keys()))"
   ]
  },
  {
   "cell_type": "markdown",
   "metadata": {},
   "source": [
    "**(7)**  "
   ]
  },
  {
   "cell_type": "code",
   "execution_count": 216,
   "metadata": {},
   "outputs": [
    {
     "name": "stdout",
     "output_type": "stream",
     "text": [
      "(4, 20)\n"
     ]
    }
   ],
   "source": [
    "docvecs = model.docvecs.vectors_docs\n",
    "print(docvecs.shape)"
   ]
  },
  {
   "cell_type": "markdown",
   "metadata": {},
   "source": [
    "**(8)**  "
   ]
  },
  {
   "cell_type": "code",
   "execution_count": 217,
   "metadata": {},
   "outputs": [
    {
     "name": "stdout",
     "output_type": "stream",
     "text": [
      "[0 0 1 0]\n"
     ]
    }
   ],
   "source": [
    "n_cls = 2\n",
    "km = KMeans(n_clusters=n_cls, random_state=7)\n",
    "cls = km.fit_predict(docvecs)\n",
    "print(cls)"
   ]
  }
 ],
 "metadata": {
  "kernelspec": {
   "display_name": "Python 3",
   "language": "python",
   "name": "python3"
  },
  "language_info": {
   "codemirror_mode": {
    "name": "ipython",
    "version": 3
   },
   "file_extension": ".py",
   "mimetype": "text/x-python",
   "name": "python",
   "nbconvert_exporter": "python",
   "pygments_lexer": "ipython3",
   "version": "3.8.8"
  }
 },
 "nbformat": 4,
 "nbformat_minor": 4
}
