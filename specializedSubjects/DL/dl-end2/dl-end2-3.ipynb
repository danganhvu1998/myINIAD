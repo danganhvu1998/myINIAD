{
 "cells": [
  {
   "cell_type": "markdown",
   "metadata": {},
   "source": [
    "### Problem 3  "
   ]
  },
  {
   "cell_type": "markdown",
   "metadata": {},
   "source": [
    "#### Import libraries  "
   ]
  },
  {
   "cell_type": "code",
   "execution_count": 9,
   "metadata": {},
   "outputs": [],
   "source": [
    "import numpy as np\n",
    "import pandas as pd\n",
    "from sklearn.feature_extraction.text import TfidfVectorizer"
   ]
  },
  {
   "cell_type": "markdown",
   "metadata": {},
   "source": [
    "#### Parameters  "
   ]
  },
  {
   "cell_type": "code",
   "execution_count": 10,
   "metadata": {},
   "outputs": [],
   "source": [
    "csv_in = 'dl-end2-3.csv'"
   ]
  },
  {
   "cell_type": "markdown",
   "metadata": {},
   "source": [
    "#### Read CSV file  "
   ]
  },
  {
   "cell_type": "code",
   "execution_count": 11,
   "metadata": {},
   "outputs": [
    {
     "data": {
      "text/html": [
       "<div>\n",
       "<style scoped>\n",
       "    .dataframe tbody tr th:only-of-type {\n",
       "        vertical-align: middle;\n",
       "    }\n",
       "\n",
       "    .dataframe tbody tr th {\n",
       "        vertical-align: top;\n",
       "    }\n",
       "\n",
       "    .dataframe thead th {\n",
       "        text-align: right;\n",
       "    }\n",
       "</style>\n",
       "<table border=\"1\" class=\"dataframe\">\n",
       "  <thead>\n",
       "    <tr style=\"text-align: right;\">\n",
       "      <th></th>\n",
       "      <th>content</th>\n",
       "      <th>target</th>\n",
       "      <th>target_names</th>\n",
       "    </tr>\n",
       "  </thead>\n",
       "  <tbody>\n",
       "    <tr>\n",
       "      <th>0</th>\n",
       "      <td>I was wondering if anyone out there could en...</td>\n",
       "      <td>0</td>\n",
       "      <td>rec.autos</td>\n",
       "    </tr>\n",
       "    <tr>\n",
       "      <th>1</th>\n",
       "      <td>There were a few people who responded to my r...</td>\n",
       "      <td>3</td>\n",
       "      <td>sci.med</td>\n",
       "    </tr>\n",
       "    <tr>\n",
       "      <th>2</th>\n",
       "      <td>I recently posted an article asking what...</td>\n",
       "      <td>0</td>\n",
       "      <td>rec.autos</td>\n",
       "    </tr>\n",
       "    <tr>\n",
       "      <th>3</th>\n",
       "      <td>I would like to be able to amplify a voltag...</td>\n",
       "      <td>4</td>\n",
       "      <td>sci.electronics</td>\n",
       "    </tr>\n",
       "    <tr>\n",
       "      <th>4</th>\n",
       "      <td>Wayne Alan Martin &lt;wm1h+@andrew.cmu.edu&gt;&gt;Exce...</td>\n",
       "      <td>4</td>\n",
       "      <td>sci.electronics</td>\n",
       "    </tr>\n",
       "  </tbody>\n",
       "</table>\n",
       "</div>"
      ],
      "text/plain": [
       "                                             content  target     target_names\n",
       "0    I was wondering if anyone out there could en...       0        rec.autos\n",
       "1   There were a few people who responded to my r...       3          sci.med\n",
       "2        I recently posted an article asking what...       0        rec.autos\n",
       "3     I would like to be able to amplify a voltag...       4  sci.electronics\n",
       "4   Wayne Alan Martin <wm1h+@andrew.cmu.edu>>Exce...       4  sci.electronics"
      ]
     },
     "metadata": {},
     "output_type": "display_data"
    }
   ],
   "source": [
    "df = pd.read_csv(csv_in, delimiter=',', skiprows=0, header=0)\n",
    "display(df.head())"
   ]
  },
  {
   "cell_type": "markdown",
   "metadata": {},
   "source": [
    "#### Check the number of documents in each category  "
   ]
  },
  {
   "cell_type": "code",
   "execution_count": 12,
   "metadata": {},
   "outputs": [
    {
     "name": "stdout",
     "output_type": "stream",
     "text": [
      "1    599\n",
      "2    597\n",
      "0    594\n",
      "3    594\n",
      "4    591\n",
      "Name: target, dtype: int64\n",
      "(2975, 3)\n"
     ]
    }
   ],
   "source": [
    "print(df['target'].value_counts())\n",
    "print(df.shape)"
   ]
  },
  {
   "cell_type": "markdown",
   "metadata": {},
   "source": [
    "####  Assign docID according to its category  "
   ]
  },
  {
   "cell_type": "code",
   "execution_count": 13,
   "metadata": {},
   "outputs": [
    {
     "data": {
      "text/html": [
       "<div>\n",
       "<style scoped>\n",
       "    .dataframe tbody tr th:only-of-type {\n",
       "        vertical-align: middle;\n",
       "    }\n",
       "\n",
       "    .dataframe tbody tr th {\n",
       "        vertical-align: top;\n",
       "    }\n",
       "\n",
       "    .dataframe thead th {\n",
       "        text-align: right;\n",
       "    }\n",
       "</style>\n",
       "<table border=\"1\" class=\"dataframe\">\n",
       "  <thead>\n",
       "    <tr style=\"text-align: right;\">\n",
       "      <th></th>\n",
       "      <th>content</th>\n",
       "      <th>target</th>\n",
       "      <th>target_names</th>\n",
       "      <th>docID</th>\n",
       "    </tr>\n",
       "  </thead>\n",
       "  <tbody>\n",
       "    <tr>\n",
       "      <th>0</th>\n",
       "      <td>I was wondering if anyone out there could en...</td>\n",
       "      <td>0</td>\n",
       "      <td>rec.autos</td>\n",
       "      <td>d0</td>\n",
       "    </tr>\n",
       "    <tr>\n",
       "      <th>1</th>\n",
       "      <td>There were a few people who responded to my r...</td>\n",
       "      <td>3</td>\n",
       "      <td>sci.med</td>\n",
       "      <td>d3000</td>\n",
       "    </tr>\n",
       "    <tr>\n",
       "      <th>2</th>\n",
       "      <td>I recently posted an article asking what...</td>\n",
       "      <td>0</td>\n",
       "      <td>rec.autos</td>\n",
       "      <td>d1</td>\n",
       "    </tr>\n",
       "    <tr>\n",
       "      <th>3</th>\n",
       "      <td>I would like to be able to amplify a voltag...</td>\n",
       "      <td>4</td>\n",
       "      <td>sci.electronics</td>\n",
       "      <td>d4000</td>\n",
       "    </tr>\n",
       "    <tr>\n",
       "      <th>4</th>\n",
       "      <td>Wayne Alan Martin &lt;wm1h+@andrew.cmu.edu&gt;&gt;Exce...</td>\n",
       "      <td>4</td>\n",
       "      <td>sci.electronics</td>\n",
       "      <td>d4001</td>\n",
       "    </tr>\n",
       "  </tbody>\n",
       "</table>\n",
       "</div>"
      ],
      "text/plain": [
       "                                             content  target     target_names  \\\n",
       "0    I was wondering if anyone out there could en...       0        rec.autos   \n",
       "1   There were a few people who responded to my r...       3          sci.med   \n",
       "2        I recently posted an article asking what...       0        rec.autos   \n",
       "3     I would like to be able to amplify a voltag...       4  sci.electronics   \n",
       "4   Wayne Alan Martin <wm1h+@andrew.cmu.edu>>Exce...       4  sci.electronics   \n",
       "\n",
       "   docID  \n",
       "0     d0  \n",
       "1  d3000  \n",
       "2     d1  \n",
       "3  d4000  \n",
       "4  d4001  "
      ]
     },
     "metadata": {},
     "output_type": "display_data"
    }
   ],
   "source": [
    "docID = []\n",
    "j = np.zeros(len(df['target'].value_counts()))\n",
    "for i in range(len(df)):\n",
    "    tgt = df.at[i, 'target']\n",
    "    # base of document ID:\n",
    "    #   0 for documents of target 0, 1000 for documents of target 1,\n",
    "    #   2000 for documents of target 2, ...\n",
    "    docID.append('d'+str(int(tgt*1000+j[tgt])))\n",
    "    # increment j for target \"tgt\"\n",
    "    j[tgt] += 1\n",
    "df['docID'] = docID\n",
    "display(df.head())"
   ]
  },
  {
   "cell_type": "markdown",
   "metadata": {},
   "source": [
    "#### TF-IDF  "
   ]
  },
  {
   "cell_type": "code",
   "execution_count": 14,
   "metadata": {},
   "outputs": [
    {
     "name": "stdout",
     "output_type": "stream",
     "text": [
      "CPU times: user 467 ms, sys: 7.44 ms, total: 475 ms\n",
      "Wall time: 472 ms\n"
     ]
    }
   ],
   "source": [
    "%%time\n",
    "\n",
    "vectorizer = TfidfVectorizer(use_idf=True, stop_words='english')\n",
    "\n",
    "vecs = vectorizer.fit_transform(df['content'])"
   ]
  },
  {
   "cell_type": "code",
   "execution_count": 21,
   "metadata": {},
   "outputs": [
    {
     "name": "stderr",
     "output_type": "stream",
     "text": [
      "/home/anhvu/miniconda3/envs/ds21/lib/python3.9/site-packages/sklearn/utils/deprecation.py:87: FutureWarning: Function get_feature_names is deprecated; get_feature_names is deprecated in 1.0 and will be removed in 1.2. Please use get_feature_names_out instead.\n",
      "  warnings.warn(msg, category=FutureWarning)\n"
     ]
    },
    {
     "name": "stdout",
     "output_type": "stream",
     "text": [
      "(2975, 37183)\n",
      "cleveland 0.24359579697159642\n",
      "jason 0.23605794527657112\n",
      "abbot 0.23172006779382376\n",
      "95 d2022: rec.sport.baseball; cleveland jason abbot\n"
     ]
    }
   ],
   "source": [
    "words = vectorizer.get_feature_names()\n",
    "vecs_array = vecs.toarray()\n",
    "\n",
    "print(vecs_array.shape)\n",
    "for i in range(2975):\n",
    "    row = vecs_array[i]\n",
    "    sorted_idx = np.argsort(-row)\n",
    "    doc_id = df.at[i, 'docID']\n",
    "    if(doc_id != 'd2022'): continue\n",
    "    tgt_n = df.at[i, 'target_names']\n",
    "    result = '{} {}: {};'.format(i, doc_id, tgt_n)\n",
    "    for j in sorted_idx[:3]:\n",
    "        print(words[j], vecs_array[i][j])\n",
    "        result += ' ' + words[j]\n",
    "    print(result)"
   ]
  }
 ],
 "metadata": {
  "kernelspec": {
   "display_name": "Python 3",
   "language": "python",
   "name": "python3"
  },
  "language_info": {
   "codemirror_mode": {
    "name": "ipython",
    "version": 3
   },
   "file_extension": ".py",
   "mimetype": "text/x-python",
   "name": "python",
   "nbconvert_exporter": "python",
   "pygments_lexer": "ipython3",
   "version": "3.9.7"
  }
 },
 "nbformat": 4,
 "nbformat_minor": 4
}
