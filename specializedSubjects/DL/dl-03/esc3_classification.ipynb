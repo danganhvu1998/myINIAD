{
 "cells": [
  {
   "cell_type": "markdown",
   "metadata": {},
   "source": [
    "### ESC-3 audio classification\n",
    "\n",
    "This notebook is an example of audio classification using convolutional neural network.\n",
    "<br>\n",
    "The data is based on [ESC-50](https://github.com/karoldvl/ESC-50), which consists of 50 classes of environmental audio dataset.<br>\n",
    "Data corresponding to three classes are selected from ESC-50.  \n",
    "One data is in .wav format with 5 seconds each, 40 files per classes, so 120 files in total."
   ]
  },
  {
   "cell_type": "markdown",
   "metadata": {},
   "source": [
    "#### Import libraries  "
   ]
  },
  {
   "cell_type": "code",
   "execution_count": null,
   "metadata": {},
   "outputs": [],
   "source": [
    "import os, shutil\n",
    "import numpy as np\n",
    "import pandas as pd\n",
    "import librosa\n",
    "import librosa.display\n",
    "import matplotlib.pyplot as plt\n",
    "from sklearn.model_selection import train_test_split\n",
    "import IPython.display as ipd"
   ]
  },
  {
   "cell_type": "markdown",
   "metadata": {},
   "source": [
    "#### Parameters  "
   ]
  },
  {
   "cell_type": "code",
   "execution_count": null,
   "metadata": {},
   "outputs": [],
   "source": [
    "# sampling rate\n",
    "s_rate = 8820\n",
    "n_fft = 1024\n",
    "hop_length = 128\n",
    "n_mels = 128\n",
    "\n",
    "# define directories\n",
    "base_dir = './'\n",
    "esc_dir = os.path.join(base_dir, 'ESC3')\n",
    "meta_file = os.path.join(esc_dir, 'meta/esc3.csv')\n",
    "audio_dir = os.path.join(esc_dir, 'audio/')\n",
    "model_file = 'esc3-model-sr{}.h5'.format(s_rate)\n",
    "\n",
    "# To show more rows and columns without \"...\"\n",
    "pd.options.display.max_columns=999\n",
    "pd.options.display.max_rows=999"
   ]
  },
  {
   "cell_type": "markdown",
   "metadata": {},
   "source": [
    "#### Read CSV file (meta data)  "
   ]
  },
  {
   "cell_type": "code",
   "execution_count": null,
   "metadata": {},
   "outputs": [],
   "source": [
    "# load metadata\n",
    "meta_data = pd.read_csv(meta_file, delimiter=',', skiprows=0, header=0)\n",
    "print(meta_data.shape)\n",
    "display(meta_data.head())"
   ]
  },
  {
   "cell_type": "markdown",
   "metadata": {},
   "source": [
    "#### Replace target into sequence number as class ID   "
   ]
  },
  {
   "cell_type": "code",
   "execution_count": null,
   "metadata": {},
   "outputs": [],
   "source": [
    "tgt_vc = meta_data['target'].value_counts()\n",
    "n_classes = len(tgt_vc.index)\n",
    "display(tgt_vc)\n",
    "\n",
    "meta_data['target'] = meta_data['target'].replace(tgt_vc.index, list(range(n_classes)))\n",
    "display(meta_data.head())\n",
    "\n",
    "cat = meta_data['category']\n",
    "classes = []\n",
    "for i in range(n_classes):\n",
    "    sel = cat[meta_data['target']==i].reset_index(drop=True)\n",
    "    classes.append(sel[0])\n",
    "print(classes)"
   ]
  },
  {
   "cell_type": "markdown",
   "metadata": {},
   "source": [
    "#### Definitions of functions  "
   ]
  },
  {
   "cell_type": "code",
   "execution_count": null,
   "metadata": {},
   "outputs": [],
   "source": [
    "# load a wave data\n",
    "def load_wave_data(audio_dir, file_name):\n",
    "    file_path = os.path.join(audio_dir, file_name)\n",
    "    x, fs = librosa.load(file_path, sr=s_rate)\n",
    "    return x,fs"
   ]
  },
  {
   "cell_type": "code",
   "execution_count": null,
   "metadata": {},
   "outputs": [],
   "source": [
    "# change wave data to mel-stft\n",
    "def calculate_melsp(x, sr, n_fft=1024, hop_length=128, n_mels=128):\n",
    "    stft = np.abs(librosa.stft(x, n_fft=n_fft, hop_length=hop_length))**2\n",
    "    melsp = librosa.feature.melspectrogram(S=stft, sr=sr, n_mels=n_mels)\n",
    "    log_melsp = librosa.power_to_db(melsp)\n",
    "    #print(log_melsp[:3])  # debug\n",
    "    return log_melsp"
   ]
  },
  {
   "cell_type": "code",
   "execution_count": null,
   "metadata": {},
   "outputs": [],
   "source": [
    "# display wave in plots\n",
    "def show_wave(x):\n",
    "    plt.plot(x)\n",
    "    plt.show()"
   ]
  },
  {
   "cell_type": "code",
   "execution_count": null,
   "metadata": {},
   "outputs": [],
   "source": [
    "# display wave in heatmap\n",
    "def show_melsp(melsp, fs):\n",
    "    librosa.display.specshow(melsp, sr=fs)\n",
    "    plt.colorbar()\n",
    "    plt.show()"
   ]
  },
  {
   "cell_type": "markdown",
   "metadata": {},
   "source": [
    "#### load data  "
   ]
  },
  {
   "cell_type": "code",
   "execution_count": null,
   "metadata": {},
   "outputs": [],
   "source": [
    "# example data\n",
    "x, fs = load_wave_data(audio_dir, meta_data.loc[0,\"filename\"])\n",
    "melsp = calculate_melsp(x, s_rate, n_fft=n_fft, hop_length=hop_length, n_mels=n_mels)\n",
    "print('wave size:', x.shape)\n",
    "print('melsp size:', melsp.shape)\n",
    "print('sampling rate:', fs)\n",
    "show_wave(x)\n",
    "show_melsp(melsp, fs)"
   ]
  },
  {
   "cell_type": "code",
   "execution_count": null,
   "metadata": {},
   "outputs": [],
   "source": [
    "ipd.Audio(x, rate=fs)"
   ]
  },
  {
   "cell_type": "markdown",
   "metadata": {},
   "source": [
    "#### Split training and test dataset  "
   ]
  },
  {
   "cell_type": "code",
   "execution_count": null,
   "metadata": {},
   "outputs": [],
   "source": [
    "# get training dataset and target dataset\n",
    "filenames = meta_data.loc[:,\"filename\"]\n",
    "targets = meta_data.loc[:, \"target\"]\n",
    "\n",
    "f_train, f_test, t_train, t_test = train_test_split(filenames, targets, test_size=0.25, stratify=targets)\n",
    "f_train = f_train.reset_index(drop=True)\n",
    "t_train = t_train.reset_index(drop=True)\n",
    "f_test = f_test.reset_index(drop=True)\n",
    "t_test = t_test.reset_index(drop=True)\n",
    "\n",
    "print('Number of data:')\n",
    "print('f_train:', f_train.shape[0])\n",
    "print('t_train:', t_train.shape[0])\n",
    "print('f_test:', f_test.shape[0])\n",
    "print('t_test:', t_test.shape[0])"
   ]
  },
  {
   "cell_type": "markdown",
   "metadata": {},
   "source": [
    "#### Transform wav data to mel-stft array\n",
    "\n",
    "Transform wav data files to mel-stft array, and save them as npz, separately with test and training datasets."
   ]
  },
  {
   "cell_type": "code",
   "execution_count": null,
   "metadata": {},
   "outputs": [],
   "source": [
    "sec = 5\n",
    "freq = n_mels\n",
    "time = int(np.ceil(sec * s_rate / freq))"
   ]
  },
  {
   "cell_type": "code",
   "execution_count": null,
   "metadata": {},
   "outputs": [],
   "source": [
    "# save wave data in npz\n",
    "def save_np_data(filename, x, y):\n",
    "    np_data = np.zeros(freq*time*len(x)).reshape(len(x), freq, time)\n",
    "    np_targets = np.zeros(len(y))\n",
    "    for i in range(len(y)):\n",
    "        _x, fs = load_wave_data(audio_dir, x[i])\n",
    "        _x = calculate_melsp(_x, s_rate, n_fft=n_fft, hop_length=hop_length, n_mels=n_mels)\n",
    "        np_data[i] = _x\n",
    "        np_targets[i] = y[i]\n",
    "    np.savez(filename, x=np_data, y=np_targets)  "
   ]
  },
  {
   "cell_type": "code",
   "execution_count": null,
   "metadata": {
    "scrolled": true
   },
   "outputs": [],
   "source": [
    "# save test dataset\n",
    "test_npz = 'esc{}_melsp_test_sr{}.npz'.format(n_classes, s_rate)\n",
    "save_np_data(test_npz, f_test, t_test)"
   ]
  },
  {
   "cell_type": "code",
   "execution_count": null,
   "metadata": {},
   "outputs": [],
   "source": [
    "# save raw training dataset\n",
    "train_npz= 'esc{}_melsp_train_sr{}.npz'.format(n_classes, s_rate)\n",
    "save_np_data(train_npz, f_train, t_train)"
   ]
  },
  {
   "cell_type": "markdown",
   "metadata": {},
   "source": [
    "#### Audio classification with CNN  "
   ]
  },
  {
   "cell_type": "markdown",
   "metadata": {},
   "source": [
    "##### Preparation for CNN  "
   ]
  },
  {
   "cell_type": "code",
   "execution_count": null,
   "metadata": {},
   "outputs": [],
   "source": [
    "from tensorflow.keras.models import Sequential\n",
    "from tensorflow.keras.layers import Dense, Dropout, Activation, Flatten\n",
    "from tensorflow.keras.layers import Conv2D, MaxPooling2D\n",
    "from tensorflow.keras.callbacks import EarlyStopping\n",
    "from tensorflow.keras.models import load_model\n",
    "from tensorflow.keras.utils import to_categorical"
   ]
  },
  {
   "cell_type": "markdown",
   "metadata": {},
   "source": [
    "##### Parameters for CNN  "
   ]
  },
  {
   "cell_type": "code",
   "execution_count": null,
   "metadata": {},
   "outputs": [],
   "source": [
    "train_num = t_train.shape[0]\n",
    "test_num = t_test.shape[0]"
   ]
  },
  {
   "cell_type": "markdown",
   "metadata": {},
   "source": [
    "##### Load dataset  "
   ]
  },
  {
   "cell_type": "code",
   "execution_count": null,
   "metadata": {},
   "outputs": [],
   "source": [
    "# load training dataset\n",
    "data = np.load(train_npz)\n",
    "x_train = data[\"x\"]\n",
    "y_train = data[\"y\"]"
   ]
  },
  {
   "cell_type": "code",
   "execution_count": null,
   "metadata": {},
   "outputs": [],
   "source": [
    "# load test dataset\n",
    "test_data = np.load(test_npz)\n",
    "x_test = test_data[\"x\"]\n",
    "y_test = test_data[\"y\"]\n",
    "#print(y_test[:5]) # debug"
   ]
  },
  {
   "cell_type": "code",
   "execution_count": null,
   "metadata": {},
   "outputs": [],
   "source": [
    "# redefine target data into one hot vector\n",
    "y_train = to_categorical(y_train, n_classes)\n",
    "y_test = to_categorical(y_test, n_classes)\n",
    "#print(y_test[:5])  # debug"
   ]
  },
  {
   "cell_type": "code",
   "execution_count": null,
   "metadata": {},
   "outputs": [],
   "source": [
    "# reshape training dataset\n",
    "x_train = x_train.reshape(train_num, freq, time, 1)\n",
    "x_test = x_test.reshape(test_num, freq, time, 1)"
   ]
  },
  {
   "cell_type": "code",
   "execution_count": null,
   "metadata": {},
   "outputs": [],
   "source": [
    "print('x_train:', x_train.shape)\n",
    "print('y_train:', y_train.shape)\n",
    "print('x_test:', x_test.shape)\n",
    "print('y_test:', y_test.shape)"
   ]
  },
  {
   "cell_type": "markdown",
   "metadata": {},
   "source": [
    "#### Define a CNN  "
   ]
  },
  {
   "cell_type": "code",
   "execution_count": null,
   "metadata": {},
   "outputs": [],
   "source": [
    "input_shape = x_train.shape[1:]\n",
    "model = Sequential()\n",
    "model.add(Conv2D(32, (1,8), strides=(1,2),\n",
    "                 activation='relu', padding='same',\n",
    "                 input_shape=input_shape))\n",
    "model.add(MaxPooling2D(pool_size=(1,4)))\n",
    "model.add(Dropout(0.25))\n",
    "model.add(Conv2D(32, (8,1), strides=(2,1),\n",
    "                 activation='relu', padding='same'))\n",
    "model.add(MaxPooling2D(pool_size=(4, 1)))\n",
    "model.add(Dropout(0.25))\n",
    "model.add(Conv2D(64, (1,8), strides=(1,2),\n",
    "                 activation='relu', padding='same'))\n",
    "model.add(MaxPooling2D(pool_size=(1,4)))\n",
    "model.add(Dropout(0.25))\n",
    "model.add(Conv2D(64, (8,1), strides=(2,1),\n",
    "                 activation='relu', padding='same'))\n",
    "model.add(MaxPooling2D(pool_size=(4, 1)))\n",
    "model.add(Dropout(0.25))\n",
    "\n",
    "model.add(Flatten())\n",
    "model.add(Dense(64, activation='relu'))\n",
    "model.add(Dropout(0.25))\n",
    "model.add(Dense(n_classes, activation='softmax'))\n",
    "\n",
    "model.summary()"
   ]
  },
  {
   "cell_type": "markdown",
   "metadata": {},
   "source": [
    "#### Optimization and callbacks"
   ]
  },
  {
   "cell_type": "code",
   "execution_count": null,
   "metadata": {},
   "outputs": [],
   "source": [
    "model.compile(loss='categorical_crossentropy',\n",
    "              optimizer='adam',\n",
    "              metrics=['accuracy'])"
   ]
  },
  {
   "cell_type": "code",
   "execution_count": null,
   "metadata": {},
   "outputs": [],
   "source": [
    "# early stopping\n",
    "es_cb = EarlyStopping(monitor='val_loss', patience=10, verbose=1, mode='auto')"
   ]
  },
  {
   "cell_type": "markdown",
   "metadata": {},
   "source": [
    "#### Exec training  "
   ]
  },
  {
   "cell_type": "code",
   "execution_count": null,
   "metadata": {},
   "outputs": [],
   "source": [
    "%%time\n",
    "\n",
    "# train model\n",
    "batch_size = 16\n",
    "#epochs = 1000\n",
    "n_epochs = 100\n",
    "val_split = 0.2\n",
    "\n",
    "fit_log = model.fit(x_train, y_train,\n",
    "                    validation_split=val_split,\n",
    "                    epochs=n_epochs, batch_size=batch_size,\n",
    "                    verbose=1, callbacks=[es_cb])"
   ]
  },
  {
   "cell_type": "markdown",
   "metadata": {},
   "source": [
    "#### Model evaluation  "
   ]
  },
  {
   "cell_type": "code",
   "execution_count": null,
   "metadata": {},
   "outputs": [],
   "source": [
    "score = model.evaluate(x_test, y_test, verbose=0)\n",
    "print('loss=', score[0])\n",
    "print('accuracy=', score[1])"
   ]
  },
  {
   "cell_type": "code",
   "execution_count": null,
   "metadata": {},
   "outputs": [],
   "source": [
    "test_pred = model.predict(x_test)\n",
    "#print(test_pred)  # debug\n",
    "true = []\n",
    "pred = []\n",
    "for i in range(y_test.shape[0]):\n",
    "    pred_idx = test_pred[i].argmax()\n",
    "    pred.append(classes[pred_idx])\n",
    "    true_idx = y_test[i].argmax()\n",
    "    true.append(classes[true_idx])\n",
    "    #print(f_test[i],t_test[i],true_idx,classes[true_idx],y_test[i],\n",
    "    #      pred_idx,classes[pred_idx],test_pred[i])  # debug\n",
    "\n",
    "true = np.array(true)\n",
    "pred = np.array(pred)\n",
    "display(pd.crosstab(true, pred))\n",
    "\n",
    "print('Wrong prediction (file, true, pred):')\n",
    "for i in range(y_test.shape[0]):\n",
    "    if pred[i] != true[i]:\n",
    "        print(f_test[i],true[i],pred[i])"
   ]
  },
  {
   "cell_type": "markdown",
   "metadata": {},
   "source": [
    "#### Save model to file  "
   ]
  },
  {
   "cell_type": "code",
   "execution_count": null,
   "metadata": {},
   "outputs": [],
   "source": [
    "model.save(model_file)"
   ]
  }
 ],
 "metadata": {
  "kernelspec": {
   "display_name": "Python 3",
   "language": "python",
   "name": "python3"
  },
  "language_info": {
   "codemirror_mode": {
    "name": "ipython",
    "version": 3
   },
   "file_extension": ".py",
   "mimetype": "text/x-python",
   "name": "python",
   "nbconvert_exporter": "python",
   "pygments_lexer": "ipython3",
   "version": "3.8.8"
  }
 },
 "nbformat": 4,
 "nbformat_minor": 4
}
