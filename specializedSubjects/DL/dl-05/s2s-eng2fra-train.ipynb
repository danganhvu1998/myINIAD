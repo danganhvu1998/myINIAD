{
 "cells": [
  {
   "cell_type": "markdown",
   "metadata": {},
   "source": [
    "### Sample program for English to French translation based on seq2seq using LSTM (training)\n",
    "- based on: https://keras.io/examples/lstm_seq2seq/  "
   ]
  },
  {
   "cell_type": "markdown",
   "metadata": {},
   "source": [
    "#### Import libraries  "
   ]
  },
  {
   "cell_type": "code",
   "execution_count": 1,
   "metadata": {},
   "outputs": [
    {
     "name": "stderr",
     "output_type": "stream",
     "text": [
      "2021-10-13 20:33:50.539605: W tensorflow/stream_executor/platform/default/dso_loader.cc:64] Could not load dynamic library 'libcudart.so.11.0'; dlerror: libcudart.so.11.0: cannot open shared object file: No such file or directory\n",
      "2021-10-13 20:33:50.539635: I tensorflow/stream_executor/cuda/cudart_stub.cc:29] Ignore above cudart dlerror if you do not have a GPU set up on your machine.\n"
     ]
    }
   ],
   "source": [
    "import numpy as np\n",
    "import matplotlib.pyplot as plt\n",
    "import tensorflow as tf\n",
    "from tensorflow.keras.models import Model\n",
    "from tensorflow.keras.layers import Input, LSTM, Dense\n",
    "from tensorflow.keras.callbacks import EarlyStopping"
   ]
  },
  {
   "cell_type": "markdown",
   "metadata": {},
   "source": [
    "#### Parameters  "
   ]
  },
  {
   "cell_type": "code",
   "execution_count": 2,
   "metadata": {},
   "outputs": [],
   "source": [
    "batch_size = 64  # Batch size for training.\n",
    "epochs = 500  # Number of epochs to train for.\n",
    "latent_dim = 256  # Latent dimensionality of the encoding space.\n",
    "num_samples = 3000  # Number of samples to train on.\n",
    "# Path to the data txt file on disk.\n",
    "data_path = 'fra-eng/fra.txt'\n",
    "\n",
    "np.random.seed(31)\n",
    "tf.random.set_seed(31)"
   ]
  },
  {
   "cell_type": "markdown",
   "metadata": {},
   "source": [
    "#### Read data from file  "
   ]
  },
  {
   "cell_type": "code",
   "execution_count": 3,
   "metadata": {},
   "outputs": [],
   "source": [
    "# Vectorize the data.\n",
    "input_texts = []\n",
    "target_texts = []\n",
    "input_characters = set()\n",
    "target_characters = set()\n",
    "with open(data_path, 'r', encoding='utf-8') as f:\n",
    "    lines = f.readlines()"
   ]
  },
  {
   "cell_type": "code",
   "execution_count": 4,
   "metadata": {},
   "outputs": [
    {
     "name": "stdout",
     "output_type": "stream",
     "text": [
      "170651\n"
     ]
    }
   ],
   "source": [
    "print(len(lines))"
   ]
  },
  {
   "cell_type": "code",
   "execution_count": 5,
   "metadata": {},
   "outputs": [],
   "source": [
    "for line in lines[: min(num_samples, len(lines) - 1)]:\n",
    "    input_text, target_text = line.split('\\t')\n",
    "    # We use \"tab\" as the \"start sequence\" character\n",
    "    # for the targets, and \"\\n\" as \"end sequence\" character.\n",
    "    target_text = '\\t' + target_text + '\\n'\n",
    "    input_texts.append(input_text)\n",
    "    target_texts.append(target_text)\n",
    "    for char in input_text:\n",
    "        if char not in input_characters:\n",
    "            input_characters.add(char)\n",
    "    for char in target_text:\n",
    "        if char not in target_characters:\n",
    "            target_characters.add(char)"
   ]
  },
  {
   "cell_type": "code",
   "execution_count": 6,
   "metadata": {},
   "outputs": [
    {
     "name": "stdout",
     "output_type": "stream",
     "text": [
      "Number of samples: 3000\n",
      "Number of unique input tokens: 64\n",
      "Number of unique output tokens: 86\n",
      "Max sequence length for inputs: 12\n",
      "Max sequence length for outputs: 40\n"
     ]
    }
   ],
   "source": [
    "input_characters = sorted(list(input_characters))\n",
    "target_characters = sorted(list(target_characters))\n",
    "num_encoder_tokens = len(input_characters)\n",
    "num_decoder_tokens = len(target_characters)\n",
    "max_encoder_seq_length = max([len(txt) for txt in input_texts])\n",
    "max_decoder_seq_length = max([len(txt) for txt in target_texts])\n",
    "\n",
    "print('Number of samples:', len(input_texts))\n",
    "print('Number of unique input tokens:', num_encoder_tokens)\n",
    "print('Number of unique output tokens:', num_decoder_tokens)\n",
    "print('Max sequence length for inputs:', max_encoder_seq_length)\n",
    "print('Max sequence length for outputs:', max_decoder_seq_length)"
   ]
  },
  {
   "cell_type": "code",
   "execution_count": 7,
   "metadata": {},
   "outputs": [
    {
     "name": "stdout",
     "output_type": "stream",
     "text": [
      "{' ': 0, '!': 1, '$': 2, \"'\": 3, ',': 4, '.': 5, '0': 6, '1': 7, '3': 8, '5': 9, '7': 10, '8': 11, '9': 12, ':': 13, '?': 14, 'A': 15, 'B': 16, 'C': 17, 'D': 18, 'E': 19, 'F': 20, 'G': 21, 'H': 22, 'I': 23, 'J': 24, 'K': 25, 'L': 26, 'M': 27, 'N': 28, 'O': 29, 'P': 30, 'R': 31, 'S': 32, 'T': 33, 'U': 34, 'V': 35, 'W': 36, 'Y': 37, 'a': 38, 'b': 39, 'c': 40, 'd': 41, 'e': 42, 'f': 43, 'g': 44, 'h': 45, 'i': 46, 'j': 47, 'k': 48, 'l': 49, 'm': 50, 'n': 51, 'o': 52, 'p': 53, 'q': 54, 'r': 55, 's': 56, 't': 57, 'u': 58, 'v': 59, 'w': 60, 'x': 61, 'y': 62, 'z': 63}\n",
      "{'\\t': 0, '\\n': 1, ' ': 2, '!': 3, \"'\": 4, ',': 5, '-': 6, '.': 7, '0': 8, '1': 9, '3': 10, '5': 11, '8': 12, '9': 13, ':': 14, '?': 15, 'A': 16, 'B': 17, 'C': 18, 'D': 19, 'E': 20, 'F': 21, 'G': 22, 'H': 23, 'I': 24, 'J': 25, 'K': 26, 'L': 27, 'M': 28, 'N': 29, 'O': 30, 'P': 31, 'Q': 32, 'R': 33, 'S': 34, 'T': 35, 'U': 36, 'V': 37, 'Y': 38, 'a': 39, 'b': 40, 'c': 41, 'd': 42, 'e': 43, 'f': 44, 'g': 45, 'h': 46, 'i': 47, 'j': 48, 'k': 49, 'l': 50, 'm': 51, 'n': 52, 'o': 53, 'p': 54, 'q': 55, 'r': 56, 's': 57, 't': 58, 'u': 59, 'v': 60, 'x': 61, 'y': 62, 'z': 63, '\\xa0': 64, '«': 65, '»': 66, 'À': 67, 'Ç': 68, 'É': 69, 'Ê': 70, 'à': 71, 'â': 72, 'ç': 73, 'è': 74, 'é': 75, 'ê': 76, 'î': 77, 'ï': 78, 'ô': 79, 'ù': 80, 'û': 81, 'œ': 82, '\\u2009': 83, '’': 84, '\\u202f': 85}\n"
     ]
    }
   ],
   "source": [
    "input_token_index = dict(\n",
    "    [(char, i) for i, char in enumerate(input_characters)])\n",
    "target_token_index = dict(\n",
    "    [(char, i) for i, char in enumerate(target_characters)])\n",
    "\n",
    "print(input_token_index)  # debug\n",
    "print(target_token_index)  # debug"
   ]
  },
  {
   "cell_type": "code",
   "execution_count": 8,
   "metadata": {},
   "outputs": [],
   "source": [
    "encoder_input_data = np.zeros(\n",
    "    (len(input_texts), max_encoder_seq_length, num_encoder_tokens),\n",
    "    dtype='float32')\n",
    "decoder_input_data = np.zeros(\n",
    "    (len(input_texts), max_decoder_seq_length, num_decoder_tokens),\n",
    "    dtype='float32')\n",
    "decoder_target_data = np.zeros(\n",
    "    (len(input_texts), max_decoder_seq_length, num_decoder_tokens),\n",
    "    dtype='float32')\n",
    "\n",
    "for i, (input_text, target_text) in enumerate(zip(input_texts, target_texts)):\n",
    "    for t, char in enumerate(input_text):\n",
    "        encoder_input_data[i, t, input_token_index[char]] = 1.\n",
    "    encoder_input_data[i, t + 1:, input_token_index[' ']] = 1.\n",
    "    for t, char in enumerate(target_text):\n",
    "        # decoder_target_data is ahead of decoder_input_data by one timestep\n",
    "        decoder_input_data[i, t, target_token_index[char]] = 1.\n",
    "        if t > 0:\n",
    "            # decoder_target_data will be ahead by one timestep\n",
    "            # and will not include the start character.\n",
    "            decoder_target_data[i, t - 1, target_token_index[char]] = 1.\n",
    "    decoder_input_data[i, t + 1:, target_token_index[' ']] = 1.\n",
    "    decoder_target_data[i, t:, target_token_index[' ']] = 1."
   ]
  },
  {
   "cell_type": "code",
   "execution_count": 9,
   "metadata": {},
   "outputs": [
    {
     "name": "stderr",
     "output_type": "stream",
     "text": [
      "2021-10-13 20:33:52.433411: W tensorflow/stream_executor/platform/default/dso_loader.cc:64] Could not load dynamic library 'libcuda.so.1'; dlerror: libcuda.so.1: cannot open shared object file: No such file or directory\n",
      "2021-10-13 20:33:52.433441: W tensorflow/stream_executor/cuda/cuda_driver.cc:269] failed call to cuInit: UNKNOWN ERROR (303)\n",
      "2021-10-13 20:33:52.433461: I tensorflow/stream_executor/cuda/cuda_diagnostics.cc:156] kernel driver does not appear to be running on this host (anhvu): /proc/driver/nvidia/version does not exist\n",
      "2021-10-13 20:33:52.433832: I tensorflow/core/platform/cpu_feature_guard.cc:142] This TensorFlow binary is optimized with oneAPI Deep Neural Network Library (oneDNN) to use the following CPU instructions in performance-critical operations:  AVX2 AVX512F FMA\n",
      "To enable them in other operations, rebuild TensorFlow with the appropriate compiler flags.\n"
     ]
    }
   ],
   "source": [
    "# Define an input sequence and process it.\n",
    "encoder_inputs = Input(shape=(None, num_encoder_tokens))\n",
    "encoder = LSTM(latent_dim, return_state=True)\n",
    "encoder_outputs, state_h, state_c = encoder(encoder_inputs)\n",
    "# We discard `encoder_outputs` and only keep the states.\n",
    "encoder_states = [state_h, state_c]\n",
    "\n",
    "# Set up the decoder, using `encoder_states` as initial state.\n",
    "decoder_inputs = Input(shape=(None, num_decoder_tokens))\n",
    "# We set up our decoder to return full output sequences,\n",
    "# and to return internal states as well. We don't use the\n",
    "# return states in the training model, but we will use them in inference.\n",
    "decoder_lstm = LSTM(latent_dim, return_sequences=True, return_state=True)\n",
    "decoder_outputs, _, _ = decoder_lstm(decoder_inputs,\n",
    "                                     initial_state=encoder_states)\n",
    "decoder_dense = Dense(num_decoder_tokens, activation='softmax')\n",
    "decoder_outputs = decoder_dense(decoder_outputs)"
   ]
  },
  {
   "cell_type": "code",
   "execution_count": 10,
   "metadata": {},
   "outputs": [],
   "source": [
    "# Define the model that will turn\n",
    "# `encoder_input_data` & `decoder_input_data` into `decoder_target_data`\n",
    "model = Model([encoder_inputs, decoder_inputs], decoder_outputs)\n",
    "\n",
    "# Run training\n",
    "model.compile(optimizer='rmsprop', loss='categorical_crossentropy',\n",
    "              metrics=['accuracy'])"
   ]
  },
  {
   "cell_type": "code",
   "execution_count": 11,
   "metadata": {},
   "outputs": [
    {
     "name": "stderr",
     "output_type": "stream",
     "text": [
      "2021-10-13 20:33:53.172789: I tensorflow/compiler/mlir/mlir_graph_optimization_pass.cc:185] None of the MLIR Optimization Passes are enabled (registered 2)\n"
     ]
    },
    {
     "name": "stdout",
     "output_type": "stream",
     "text": [
      "Epoch 1/500\n",
      "38/38 [==============================] - 7s 127ms/step - loss: 1.8919 - accuracy: 0.5973 - val_loss: 1.6381 - val_accuracy: 0.5864\n",
      "Epoch 2/500\n",
      "38/38 [==============================] - 4s 99ms/step - loss: 1.4354 - accuracy: 0.6296 - val_loss: 1.4623 - val_accuracy: 0.6030\n",
      "Epoch 3/500\n",
      "38/38 [==============================] - 4s 108ms/step - loss: 1.3401 - accuracy: 0.6440 - val_loss: 1.4242 - val_accuracy: 0.6078\n",
      "Epoch 4/500\n",
      "38/38 [==============================] - 5s 129ms/step - loss: 1.2213 - accuracy: 0.6643 - val_loss: 1.2959 - val_accuracy: 0.6372\n",
      "Epoch 5/500\n",
      "38/38 [==============================] - 4s 118ms/step - loss: 1.1330 - accuracy: 0.6922 - val_loss: 1.1936 - val_accuracy: 0.6739\n",
      "Epoch 6/500\n",
      "38/38 [==============================] - 4s 112ms/step - loss: 1.0677 - accuracy: 0.7168 - val_loss: 1.1182 - val_accuracy: 0.6983\n",
      "Epoch 7/500\n",
      "38/38 [==============================] - 4s 113ms/step - loss: 0.9546 - accuracy: 0.7404 - val_loss: 1.0288 - val_accuracy: 0.7130\n",
      "Epoch 8/500\n",
      "38/38 [==============================] - 4s 115ms/step - loss: 0.8836 - accuracy: 0.7554 - val_loss: 0.9657 - val_accuracy: 0.7289\n",
      "Epoch 9/500\n",
      "38/38 [==============================] - 4s 113ms/step - loss: 0.8306 - accuracy: 0.7660 - val_loss: 0.9281 - val_accuracy: 0.7367\n",
      "Epoch 10/500\n",
      "38/38 [==============================] - 4s 113ms/step - loss: 0.7894 - accuracy: 0.7735 - val_loss: 0.9084 - val_accuracy: 0.7395\n",
      "Epoch 11/500\n",
      "38/38 [==============================] - 4s 115ms/step - loss: 0.7543 - accuracy: 0.7833 - val_loss: 0.8728 - val_accuracy: 0.7460\n",
      "Epoch 12/500\n",
      "38/38 [==============================] - 4s 113ms/step - loss: 0.7274 - accuracy: 0.7901 - val_loss: 0.8268 - val_accuracy: 0.7649\n",
      "Epoch 13/500\n",
      "38/38 [==============================] - 4s 112ms/step - loss: 0.7038 - accuracy: 0.7958 - val_loss: 0.8053 - val_accuracy: 0.7674\n",
      "Epoch 14/500\n",
      "38/38 [==============================] - 4s 113ms/step - loss: 0.6790 - accuracy: 0.8020 - val_loss: 0.7899 - val_accuracy: 0.7758\n",
      "Epoch 15/500\n",
      "38/38 [==============================] - 4s 118ms/step - loss: 0.6605 - accuracy: 0.8074 - val_loss: 0.7673 - val_accuracy: 0.7785\n",
      "Epoch 16/500\n",
      "38/38 [==============================] - 4s 114ms/step - loss: 0.6399 - accuracy: 0.8116 - val_loss: 0.7627 - val_accuracy: 0.7790\n",
      "Epoch 17/500\n",
      "38/38 [==============================] - 4s 114ms/step - loss: 0.6241 - accuracy: 0.8159 - val_loss: 0.7544 - val_accuracy: 0.7839\n",
      "Epoch 18/500\n",
      "38/38 [==============================] - 5s 121ms/step - loss: 0.6050 - accuracy: 0.8211 - val_loss: 0.7358 - val_accuracy: 0.7855\n",
      "Epoch 19/500\n",
      "38/38 [==============================] - 4s 112ms/step - loss: 0.5892 - accuracy: 0.8255 - val_loss: 0.7363 - val_accuracy: 0.7870\n",
      "Epoch 20/500\n",
      "38/38 [==============================] - 5s 120ms/step - loss: 0.5739 - accuracy: 0.8294 - val_loss: 0.7382 - val_accuracy: 0.7871\n",
      "Epoch 21/500\n",
      "38/38 [==============================] - 4s 109ms/step - loss: 0.5569 - accuracy: 0.8343 - val_loss: 0.7231 - val_accuracy: 0.7915\n",
      "Epoch 22/500\n",
      "38/38 [==============================] - 4s 106ms/step - loss: 0.5423 - accuracy: 0.8384 - val_loss: 0.7171 - val_accuracy: 0.7924\n",
      "Epoch 23/500\n",
      "38/38 [==============================] - 4s 107ms/step - loss: 0.5256 - accuracy: 0.8434 - val_loss: 0.7090 - val_accuracy: 0.7981\n",
      "Epoch 24/500\n",
      "38/38 [==============================] - 4s 108ms/step - loss: 0.5115 - accuracy: 0.8487 - val_loss: 0.7188 - val_accuracy: 0.7937\n",
      "Epoch 25/500\n",
      "38/38 [==============================] - 4s 110ms/step - loss: 0.4979 - accuracy: 0.8526 - val_loss: 0.7149 - val_accuracy: 0.7960\n",
      "Epoch 26/500\n",
      "38/38 [==============================] - 4s 107ms/step - loss: 0.4821 - accuracy: 0.8571 - val_loss: 0.7102 - val_accuracy: 0.7990\n",
      "Epoch 27/500\n",
      "38/38 [==============================] - 4s 107ms/step - loss: 0.4698 - accuracy: 0.8609 - val_loss: 0.7165 - val_accuracy: 0.7938\n",
      "Epoch 28/500\n",
      "38/38 [==============================] - 4s 107ms/step - loss: 0.4549 - accuracy: 0.8651 - val_loss: 0.7219 - val_accuracy: 0.7937\n",
      "Epoch 29/500\n",
      "38/38 [==============================] - 4s 106ms/step - loss: 0.4419 - accuracy: 0.8695 - val_loss: 0.7077 - val_accuracy: 0.7997\n",
      "Epoch 30/500\n",
      "38/38 [==============================] - 4s 107ms/step - loss: 0.4292 - accuracy: 0.8720 - val_loss: 0.7080 - val_accuracy: 0.7992\n",
      "Epoch 31/500\n",
      "38/38 [==============================] - 4s 106ms/step - loss: 0.4159 - accuracy: 0.8763 - val_loss: 0.7147 - val_accuracy: 0.8002\n",
      "Epoch 32/500\n",
      "38/38 [==============================] - 4s 108ms/step - loss: 0.4050 - accuracy: 0.8795 - val_loss: 0.7172 - val_accuracy: 0.8002\n",
      "Epoch 33/500\n",
      "38/38 [==============================] - 4s 115ms/step - loss: 0.3920 - accuracy: 0.8835 - val_loss: 0.7165 - val_accuracy: 0.8011\n",
      "Epoch 34/500\n",
      "38/38 [==============================] - 5s 127ms/step - loss: 0.3793 - accuracy: 0.8878 - val_loss: 0.7334 - val_accuracy: 0.7959\n",
      "Epoch 35/500\n",
      "38/38 [==============================] - 4s 108ms/step - loss: 0.3689 - accuracy: 0.8899 - val_loss: 0.7324 - val_accuracy: 0.7997\n",
      "Epoch 36/500\n",
      "38/38 [==============================] - 4s 108ms/step - loss: 0.3565 - accuracy: 0.8933 - val_loss: 0.7312 - val_accuracy: 0.8020\n",
      "Epoch 37/500\n",
      "38/38 [==============================] - 4s 111ms/step - loss: 0.3468 - accuracy: 0.8971 - val_loss: 0.7267 - val_accuracy: 0.8025\n",
      "Epoch 38/500\n",
      "38/38 [==============================] - 4s 114ms/step - loss: 0.3350 - accuracy: 0.9002 - val_loss: 0.7400 - val_accuracy: 0.8000\n",
      "Epoch 39/500\n",
      "38/38 [==============================] - 4s 114ms/step - loss: 0.3252 - accuracy: 0.9029 - val_loss: 0.7494 - val_accuracy: 0.7979\n",
      "Epoch 00039: early stopping\n",
      "CPU times: user 12min 19s, sys: 42.8 s, total: 13min 2s\n",
      "Wall time: 2min 49s\n"
     ]
    }
   ],
   "source": [
    "%%time\n",
    "\n",
    "# early stopping and model checkpoint\n",
    "es = EarlyStopping(monitor='val_loss',\n",
    "                   patience=10, verbose=1, mode='auto')\n",
    "\n",
    "fit_log = model.fit([encoder_input_data, decoder_input_data], decoder_target_data,\n",
    "                    batch_size=batch_size,\n",
    "                    epochs=epochs, callbacks=[es],\n",
    "                    validation_split=0.2)"
   ]
  },
  {
   "cell_type": "code",
   "execution_count": 12,
   "metadata": {},
   "outputs": [
    {
     "data": {
      "image/png": "[encoded data removed]",
      "text/plain": [
       "<Figure size 432x288 with 1 Axes>"
      ]
     },
     "metadata": {
      "needs_background": "light"
     },
     "output_type": "display_data"
    }
   ],
   "source": [
    "# Plot Training loss & Validation Loss\n",
    "loss = fit_log.history[\"loss\"]\n",
    "val_loss = fit_log.history[\"val_loss\"]\n",
    "epochs = range(1, len(loss) + 1)\n",
    "plt.plot(epochs, loss, label=\"loss\" )\n",
    "plt.plot(epochs, val_loss, label=\"val_loss\")\n",
    "plt.title(\"Training and Validation loss\")\n",
    "plt.xlabel('Epoch')\n",
    "plt.ylabel('Loss / Val_loss')\n",
    "plt.legend()\n",
    "plt.show()"
   ]
  },
  {
   "cell_type": "code",
   "execution_count": 13,
   "metadata": {},
   "outputs": [
    {
     "name": "stdout",
     "output_type": "stream",
     "text": [
      "Model saved into: s2s-eng2fra-3000.h5\n"
     ]
    }
   ],
   "source": [
    "# Save model\n",
    "model_file = 's2s-eng2fra-'+str(num_samples)+'.h5'\n",
    "model.save(model_file)\n",
    "print('Model saved into:', model_file)"
   ]
  }
 ],
 "metadata": {
  "interpreter": {
   "hash": "94fe86e276e5519dc36e122582d8572f7eaf1f8991f68af5b2411b758f5160ae"
  },
  "kernelspec": {
   "display_name": "Python 3.8.10 64-bit ('ds2021': conda)",
   "name": "python3"
  },
  "language_info": {
   "codemirror_mode": {
    "name": "ipython",
    "version": 3
   },
   "file_extension": ".py",
   "mimetype": "text/x-python",
   "name": "python",
   "nbconvert_exporter": "python",
   "pygments_lexer": "ipython3",
   "version": "3.8.10"
  }
 },
 "nbformat": 4,
 "nbformat_minor": 4
}
