{
 "cells": [
  {
   "cell_type": "markdown",
   "metadata": {},
   "source": [
    "### Sample program for TF-IDF  "
   ]
  },
  {
   "cell_type": "markdown",
   "metadata": {},
   "source": [
    "#### Import libraries  "
   ]
  },
  {
   "cell_type": "code",
   "execution_count": 9,
   "metadata": {},
   "outputs": [],
   "source": [
    "import numpy as np\n",
    "import pandas as pd\n",
    "from sklearn.feature_extraction.text import TfidfVectorizer"
   ]
  },
  {
   "cell_type": "markdown",
   "metadata": {},
   "source": [
    "#### Parameters  "
   ]
  },
  {
   "cell_type": "code",
   "execution_count": 10,
   "metadata": {},
   "outputs": [],
   "source": [
    "csv_in = 'newsgroups5-2.csv'"
   ]
  },
  {
   "cell_type": "markdown",
   "metadata": {},
   "source": [
    "#### Read CSV file  "
   ]
  },
  {
   "cell_type": "code",
   "execution_count": 11,
   "metadata": {},
   "outputs": [
    {
     "name": "stdout",
     "output_type": "stream",
     "text": [
      "(2927, 3)\n",
      "<class 'pandas.core.frame.DataFrame'>\n",
      "RangeIndex: 2927 entries, 0 to 2926\n",
      "Data columns (total 3 columns):\n",
      " #   Column        Non-Null Count  Dtype \n",
      "---  ------        --------------  ----- \n",
      " 0   content       2927 non-null   object\n",
      " 1   target        2927 non-null   int64 \n",
      " 2   target_names  2927 non-null   object\n",
      "dtypes: int64(1), object(2)\n",
      "memory usage: 68.7+ KB\n",
      "None\n"
     ]
    },
    {
     "data": {
      "text/html": [
       "<div>\n",
       "<style scoped>\n",
       "    .dataframe tbody tr th:only-of-type {\n",
       "        vertical-align: middle;\n",
       "    }\n",
       "\n",
       "    .dataframe tbody tr th {\n",
       "        vertical-align: top;\n",
       "    }\n",
       "\n",
       "    .dataframe thead th {\n",
       "        text-align: right;\n",
       "    }\n",
       "</style>\n",
       "<table border=\"1\" class=\"dataframe\">\n",
       "  <thead>\n",
       "    <tr style=\"text-align: right;\">\n",
       "      <th></th>\n",
       "      <th>content</th>\n",
       "      <th>target</th>\n",
       "      <th>target_names</th>\n",
       "    </tr>\n",
       "  </thead>\n",
       "  <tbody>\n",
       "    <tr>\n",
       "      <th>0</th>\n",
       "      <td>From article &lt;C5owCB.n3p@world.std.com&gt;, by t...</td>\n",
       "      <td>1</td>\n",
       "      <td>sci.space</td>\n",
       "    </tr>\n",
       "    <tr>\n",
       "      <th>1</th>\n",
       "      <td>In article &lt;1r1eu1$4t@transfer.stratus.com&gt; c...</td>\n",
       "      <td>3</td>\n",
       "      <td>talk.politics.guns</td>\n",
       "    </tr>\n",
       "    <tr>\n",
       "      <th>2</th>\n",
       "      <td>In article &lt;1993Apr23.184732.1105@aio.jsc.nas...</td>\n",
       "      <td>1</td>\n",
       "      <td>sci.space</td>\n",
       "    </tr>\n",
       "    <tr>\n",
       "      <th>3</th>\n",
       "      <td>What is the EXACT entry (parameter and synta...</td>\n",
       "      <td>2</td>\n",
       "      <td>comp.windows.x</td>\n",
       "    </tr>\n",
       "    <tr>\n",
       "      <th>4</th>\n",
       "      <td>In article &lt;1993Apr20.151818.4319@samba.oit.u...</td>\n",
       "      <td>0</td>\n",
       "      <td>rec.sport.hockey</td>\n",
       "    </tr>\n",
       "  </tbody>\n",
       "</table>\n",
       "</div>"
      ],
      "text/plain": [
       "                                             content  target  \\\n",
       "0   From article <C5owCB.n3p@world.std.com>, by t...       1   \n",
       "1   In article <1r1eu1$4t@transfer.stratus.com> c...       3   \n",
       "2   In article <1993Apr23.184732.1105@aio.jsc.nas...       1   \n",
       "3    What is the EXACT entry (parameter and synta...       2   \n",
       "4   In article <1993Apr20.151818.4319@samba.oit.u...       0   \n",
       "\n",
       "         target_names  \n",
       "0           sci.space  \n",
       "1  talk.politics.guns  \n",
       "2           sci.space  \n",
       "3      comp.windows.x  \n",
       "4    rec.sport.hockey  "
      ]
     },
     "metadata": {},
     "output_type": "display_data"
    }
   ],
   "source": [
    "df = pd.read_csv(csv_in, delimiter=',', skiprows=0, header=0)\n",
    "print(df.shape)\n",
    "print(df.info())\n",
    "display(df.head())"
   ]
  },
  {
   "cell_type": "markdown",
   "metadata": {},
   "source": [
    "#### Check the number of documents in each category  "
   ]
  },
  {
   "cell_type": "code",
   "execution_count": 12,
   "metadata": {},
   "outputs": [
    {
     "name": "stdout",
     "output_type": "stream",
     "text": [
      "0    600\n",
      "4    595\n",
      "1    593\n",
      "2    593\n",
      "3    546\n",
      "Name: target, dtype: int64\n"
     ]
    }
   ],
   "source": [
    "print(df['target'].value_counts())"
   ]
  },
  {
   "cell_type": "markdown",
   "metadata": {},
   "source": [
    "#### Assign docID according to its category  \n",
    "- docID = 'd' + number, such as d0, d1, ..., d1000, d1001, ...\n",
    " - number = target * 1000 + j"
   ]
  },
  {
   "cell_type": "code",
   "execution_count": 13,
   "metadata": {},
   "outputs": [
    {
     "data": {
      "text/html": [
       "<div>\n",
       "<style scoped>\n",
       "    .dataframe tbody tr th:only-of-type {\n",
       "        vertical-align: middle;\n",
       "    }\n",
       "\n",
       "    .dataframe tbody tr th {\n",
       "        vertical-align: top;\n",
       "    }\n",
       "\n",
       "    .dataframe thead th {\n",
       "        text-align: right;\n",
       "    }\n",
       "</style>\n",
       "<table border=\"1\" class=\"dataframe\">\n",
       "  <thead>\n",
       "    <tr style=\"text-align: right;\">\n",
       "      <th></th>\n",
       "      <th>content</th>\n",
       "      <th>target</th>\n",
       "      <th>target_names</th>\n",
       "      <th>docID</th>\n",
       "    </tr>\n",
       "  </thead>\n",
       "  <tbody>\n",
       "    <tr>\n",
       "      <th>0</th>\n",
       "      <td>From article &lt;C5owCB.n3p@world.std.com&gt;, by t...</td>\n",
       "      <td>1</td>\n",
       "      <td>sci.space</td>\n",
       "      <td>d1000</td>\n",
       "    </tr>\n",
       "    <tr>\n",
       "      <th>1</th>\n",
       "      <td>In article &lt;1r1eu1$4t@transfer.stratus.com&gt; c...</td>\n",
       "      <td>3</td>\n",
       "      <td>talk.politics.guns</td>\n",
       "      <td>d3000</td>\n",
       "    </tr>\n",
       "    <tr>\n",
       "      <th>2</th>\n",
       "      <td>In article &lt;1993Apr23.184732.1105@aio.jsc.nas...</td>\n",
       "      <td>1</td>\n",
       "      <td>sci.space</td>\n",
       "      <td>d1001</td>\n",
       "    </tr>\n",
       "    <tr>\n",
       "      <th>3</th>\n",
       "      <td>What is the EXACT entry (parameter and synta...</td>\n",
       "      <td>2</td>\n",
       "      <td>comp.windows.x</td>\n",
       "      <td>d2000</td>\n",
       "    </tr>\n",
       "    <tr>\n",
       "      <th>4</th>\n",
       "      <td>In article &lt;1993Apr20.151818.4319@samba.oit.u...</td>\n",
       "      <td>0</td>\n",
       "      <td>rec.sport.hockey</td>\n",
       "      <td>d0</td>\n",
       "    </tr>\n",
       "  </tbody>\n",
       "</table>\n",
       "</div>"
      ],
      "text/plain": [
       "                                             content  target  \\\n",
       "0   From article <C5owCB.n3p@world.std.com>, by t...       1   \n",
       "1   In article <1r1eu1$4t@transfer.stratus.com> c...       3   \n",
       "2   In article <1993Apr23.184732.1105@aio.jsc.nas...       1   \n",
       "3    What is the EXACT entry (parameter and synta...       2   \n",
       "4   In article <1993Apr20.151818.4319@samba.oit.u...       0   \n",
       "\n",
       "         target_names  docID  \n",
       "0           sci.space  d1000  \n",
       "1  talk.politics.guns  d3000  \n",
       "2           sci.space  d1001  \n",
       "3      comp.windows.x  d2000  \n",
       "4    rec.sport.hockey     d0  "
      ]
     },
     "metadata": {},
     "output_type": "display_data"
    }
   ],
   "source": [
    "docID = []\n",
    "j = np.zeros(len(df['target'].value_counts()))\n",
    "for i in range(len(df)):\n",
    "    tgt = df.at[i, 'target']\n",
    "    # base of document ID:\n",
    "    #   0 for documents of target 0, 1000 for documents of target 1,\n",
    "    #   2000 for documents of target 2, ...\n",
    "    docID.append('d'+str(int(tgt*1000+j[tgt])))\n",
    "    # increment j for target \"tgt\"\n",
    "    j[tgt] += 1\n",
    "df['docID'] = docID\n",
    "display(df.head())"
   ]
  },
  {
   "cell_type": "markdown",
   "metadata": {},
   "source": [
    "#### TF-IDF  "
   ]
  },
  {
   "cell_type": "code",
   "execution_count": 14,
   "metadata": {},
   "outputs": [
    {
     "name": "stdout",
     "output_type": "stream",
     "text": [
      "CPU times: user 799 ms, sys: 578 µs, total: 799 ms\n",
      "Wall time: 800 ms\n"
     ]
    }
   ],
   "source": [
    "%%time\n",
    "\n",
    "vectorizer = TfidfVectorizer(use_idf=True, stop_words='english')\n",
    "vecs = vectorizer.fit_transform(df['content'])"
   ]
  },
  {
   "cell_type": "code",
   "execution_count": 15,
   "metadata": {},
   "outputs": [
    {
     "name": "stdout",
     "output_type": "stream",
     "text": [
      "(2927, 43833)\n",
      "  (0, 23235)\t0.11433981419003146\n",
      "  (0, 21565)\t0.09828967368147341\n",
      "  (0, 24871)\t0.11731637011801296\n",
      "  (0, 2746)\t0.11179005513866408\n",
      "  (0, 29093)\t0.07834729760213531\n",
      "  (0, 13391)\t0.1013169207323394\n",
      "  (0, 38380)\t0.06253740231988479\n",
      "  (0, 23402)\t0.03793035163264413\n",
      "  (0, 28155)\t0.04844115606922844\n",
      "  (0, 22513)\t0.10757809935156604\n",
      "  (0, 31171)\t0.08512300373906294\n",
      "  (0, 12093)\t0.06692994665631972\n",
      "  (0, 18130)\t0.09431372025420827\n",
      "  (0, 37501)\t0.13136503845608435\n",
      "  (0, 24435)\t0.07746065112137435\n",
      "  (0, 38906)\t0.11901459905545898\n",
      "  (0, 35219)\t0.061099693941857075\n",
      "  (0, 7967)\t0.07358879488022269\n",
      "  (0, 40772)\t0.08998492524400967\n",
      "  (0, 33783)\t0.050149569584074405\n",
      "  (0, 15515)\t0.04058316764150822\n",
      "  (0, 11505)\t0.1019893747894061\n",
      "  (0, 38714)\t0.055065039141524365\n",
      "  (0, 36213)\t0.0682209452929941\n",
      "  (0, 10286)\t0.20993186143477519\n",
      "  :\t:\n",
      "  (2925, 28190)\t0.09831399752143957\n",
      "  (2925, 19642)\t0.15965779026890953\n",
      "  (2925, 14049)\t0.10351157607153053\n",
      "  (2925, 40529)\t0.0861009079050038\n",
      "  (2925, 43458)\t0.11028632660000394\n",
      "  (2926, 29326)\t0.2502820674768443\n",
      "  (2926, 28738)\t0.259552647067644\n",
      "  (2926, 29019)\t0.21567082998560014\n",
      "  (2926, 6802)\t0.48575930527042316\n",
      "  (2926, 33645)\t0.38691512200174627\n",
      "  (2926, 13325)\t0.2227185462300015\n",
      "  (2926, 29366)\t0.2227185462300015\n",
      "  (2926, 8250)\t0.21567082998560014\n",
      "  (2926, 9808)\t0.17568333942126316\n",
      "  (2926, 36299)\t0.16296273600758143\n",
      "  (2926, 13056)\t0.15896106192218606\n",
      "  (2926, 31168)\t0.1241405705559792\n",
      "  (2926, 35136)\t0.1607263925331702\n",
      "  (2926, 25239)\t0.15861791182073445\n",
      "  (2926, 33609)\t0.16220212411424095\n",
      "  (2926, 24993)\t0.1372020380917343\n",
      "  (2926, 32797)\t0.17206900187504381\n",
      "  (2926, 38560)\t0.23219488737159735\n",
      "  (2926, 30293)\t0.09162306480880192\n",
      "  (2926, 12242)\t0.07711325515167715\n",
      "[[0.         0.         0.         ... 0.         0.         0.        ]\n",
      " [0.         0.         0.         ... 0.         0.         0.        ]\n",
      " [0.         0.02038396 0.         ... 0.         0.         0.        ]\n",
      " ...\n",
      " [0.         0.         0.         ... 0.         0.         0.        ]\n",
      " [0.         0.         0.         ... 0.         0.         0.        ]\n",
      " [0.         0.         0.         ... 0.         0.         0.        ]]\n"
     ]
    }
   ],
   "source": [
    "print(vecs.shape)\n",
    "print(vecs)\n",
    "print(vecs.toarray())"
   ]
  },
  {
   "cell_type": "markdown",
   "metadata": {},
   "source": [
    "#### Examples of words with highest TF-IDF for each document  "
   ]
  },
  {
   "cell_type": "code",
   "execution_count": 16,
   "metadata": {},
   "outputs": [
    {
     "name": "stderr",
     "output_type": "stream",
     "text": [
      "/home/anhvu/miniconda3/envs/ds21/lib/python3.9/site-packages/sklearn/utils/deprecation.py:87: FutureWarning: Function get_feature_names is deprecated; get_feature_names is deprecated in 1.0 and will be removed in 1.2. Please use get_feature_names_out instead.\n",
      "  warnings.warn(msg, category=FutureWarning)\n"
     ]
    },
    {
     "name": "stdout",
     "output_type": "stream",
     "text": [
      "<class 'numpy.ndarray'> (2927, 43833)\n",
      "0 d1000: sci.space; warning errors std\n",
      "1 d3000: talk.politics.guns; weapons destruction mass\n",
      "2 d1001: sci.space; ssf option flights\n",
      "3 d2000: comp.windows.x; ncd 3b2 boots\n",
      "4 d0: rec.sport.hockey; captain traded leafs\n",
      "5 d1: rec.sport.hockey; mask cherry upenn\n",
      "6 d4000: sci.crypt; encryption clause weak\n",
      "7 d3001: talk.politics.guns; revolver semi autos\n",
      "8 d1002: sci.space; environment canopies windscreen\n",
      "9 d2001: comp.windows.x; failed segment shared\n"
     ]
    }
   ],
   "source": [
    "words = vectorizer.get_feature_names()\n",
    "vecs_array = vecs.toarray()\n",
    "print(type(vecs_array), vecs_array.shape)\n",
    "for i in range(10):\n",
    "    row = vecs_array[i]\n",
    "    sorted_idx = np.argsort(-row)\n",
    "    doc_id = df.at[i, 'docID']\n",
    "    tgt_n = df.at[i, 'target_names']\n",
    "    result = '{} {}: {};'.format(i, doc_id, tgt_n)\n",
    "    for j in sorted_idx[:3]:\n",
    "        result += ' ' + words[j]\n",
    "    print(result)"
   ]
  },
  {
   "cell_type": "code",
   "execution_count": null,
   "metadata": {},
   "outputs": [],
   "source": []
  }
 ],
 "metadata": {
  "interpreter": {
   "hash": "a56d7313c7010e2993fb060a40a0c89503718a8c1aa7f683102c3457bfb6b975"
  },
  "kernelspec": {
   "display_name": "Python 3.9.7 64-bit ('ds21': conda)",
   "name": "python3"
  },
  "language_info": {
   "codemirror_mode": {
    "name": "ipython",
    "version": 3
   },
   "file_extension": ".py",
   "mimetype": "text/x-python",
   "name": "python",
   "nbconvert_exporter": "python",
   "pygments_lexer": "ipython3",
   "version": "3.9.7"
  }
 },
 "nbformat": 4,
 "nbformat_minor": 4
}
