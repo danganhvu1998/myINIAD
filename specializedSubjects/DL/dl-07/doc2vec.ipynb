{
 "cells": [
  {
   "cell_type": "markdown",
   "metadata": {},
   "source": [
    "### Sample program for Doc2Vec by gensim  "
   ]
  },
  {
   "cell_type": "markdown",
   "metadata": {},
   "source": [
    "#### Import libraries  "
   ]
  },
  {
   "cell_type": "code",
   "execution_count": 10,
   "metadata": {},
   "outputs": [],
   "source": [
    "import numpy as np\n",
    "import pandas as pd\n",
    "from gensim.models.doc2vec import Doc2Vec\n",
    "from gensim.models.doc2vec import TaggedDocument"
   ]
  },
  {
   "cell_type": "markdown",
   "metadata": {},
   "source": [
    "#### Parameters  "
   ]
  },
  {
   "cell_type": "code",
   "execution_count": 11,
   "metadata": {},
   "outputs": [],
   "source": [
    "csv_in = 'newsgroups5-2.csv'\n",
    "\n",
    "embed_size = 100\n",
    "min_count = 5\n",
    "model_file = 'doc2vec_newsgroups5-2.model'"
   ]
  },
  {
   "cell_type": "markdown",
   "metadata": {},
   "source": [
    "#### Read CSV file  "
   ]
  },
  {
   "cell_type": "code",
   "execution_count": 12,
   "metadata": {},
   "outputs": [
    {
     "name": "stdout",
     "output_type": "stream",
     "text": [
      "(2927, 3)\n",
      "<class 'pandas.core.frame.DataFrame'>\n",
      "RangeIndex: 2927 entries, 0 to 2926\n",
      "Data columns (total 3 columns):\n",
      " #   Column        Non-Null Count  Dtype \n",
      "---  ------        --------------  ----- \n",
      " 0   content       2927 non-null   object\n",
      " 1   target        2927 non-null   int64 \n",
      " 2   target_names  2927 non-null   object\n",
      "dtypes: int64(1), object(2)\n",
      "memory usage: 68.7+ KB\n",
      "None\n"
     ]
    },
    {
     "data": {
      "text/html": [
       "<div>\n",
       "<style scoped>\n",
       "    .dataframe tbody tr th:only-of-type {\n",
       "        vertical-align: middle;\n",
       "    }\n",
       "\n",
       "    .dataframe tbody tr th {\n",
       "        vertical-align: top;\n",
       "    }\n",
       "\n",
       "    .dataframe thead th {\n",
       "        text-align: right;\n",
       "    }\n",
       "</style>\n",
       "<table border=\"1\" class=\"dataframe\">\n",
       "  <thead>\n",
       "    <tr style=\"text-align: right;\">\n",
       "      <th></th>\n",
       "      <th>content</th>\n",
       "      <th>target</th>\n",
       "      <th>target_names</th>\n",
       "    </tr>\n",
       "  </thead>\n",
       "  <tbody>\n",
       "    <tr>\n",
       "      <th>0</th>\n",
       "      <td>From article &lt;C5owCB.n3p@world.std.com&gt;, by t...</td>\n",
       "      <td>1</td>\n",
       "      <td>sci.space</td>\n",
       "    </tr>\n",
       "    <tr>\n",
       "      <th>1</th>\n",
       "      <td>In article &lt;1r1eu1$4t@transfer.stratus.com&gt; c...</td>\n",
       "      <td>3</td>\n",
       "      <td>talk.politics.guns</td>\n",
       "    </tr>\n",
       "    <tr>\n",
       "      <th>2</th>\n",
       "      <td>In article &lt;1993Apr23.184732.1105@aio.jsc.nas...</td>\n",
       "      <td>1</td>\n",
       "      <td>sci.space</td>\n",
       "    </tr>\n",
       "    <tr>\n",
       "      <th>3</th>\n",
       "      <td>What is the EXACT entry (parameter and synta...</td>\n",
       "      <td>2</td>\n",
       "      <td>comp.windows.x</td>\n",
       "    </tr>\n",
       "    <tr>\n",
       "      <th>4</th>\n",
       "      <td>In article &lt;1993Apr20.151818.4319@samba.oit.u...</td>\n",
       "      <td>0</td>\n",
       "      <td>rec.sport.hockey</td>\n",
       "    </tr>\n",
       "  </tbody>\n",
       "</table>\n",
       "</div>"
      ],
      "text/plain": [
       "                                             content  target  \\\n",
       "0   From article <C5owCB.n3p@world.std.com>, by t...       1   \n",
       "1   In article <1r1eu1$4t@transfer.stratus.com> c...       3   \n",
       "2   In article <1993Apr23.184732.1105@aio.jsc.nas...       1   \n",
       "3    What is the EXACT entry (parameter and synta...       2   \n",
       "4   In article <1993Apr20.151818.4319@samba.oit.u...       0   \n",
       "\n",
       "         target_names  \n",
       "0           sci.space  \n",
       "1  talk.politics.guns  \n",
       "2           sci.space  \n",
       "3      comp.windows.x  \n",
       "4    rec.sport.hockey  "
      ]
     },
     "metadata": {},
     "output_type": "display_data"
    }
   ],
   "source": [
    "df = pd.read_csv(csv_in, delimiter=',', skiprows=0, header=0)\n",
    "print(df.shape)\n",
    "print(df.info())\n",
    "display(df.head())"
   ]
  },
  {
   "cell_type": "markdown",
   "metadata": {},
   "source": [
    "#### Check the number of documents in each category  "
   ]
  },
  {
   "cell_type": "code",
   "execution_count": 26,
   "metadata": {},
   "outputs": [
    {
     "name": "stdout",
     "output_type": "stream",
     "text": [
      "0    600\n",
      "4    595\n",
      "1    593\n",
      "2    593\n",
      "3    546\n",
      "Name: target, dtype: int64\n",
      "                           content  docID\n",
      "target target_names                      \n",
      "0      rec.sport.hockey        600    600\n",
      "1      sci.space               593    593\n",
      "2      comp.windows.x          593    593\n",
      "3      talk.politics.guns      546    546\n",
      "4      sci.crypt               595    595\n"
     ]
    }
   ],
   "source": [
    "print(df['target'].value_counts())\n",
    "print(df.groupby(['target','target_names']).count())"
   ]
  },
  {
   "cell_type": "markdown",
   "metadata": {},
   "source": [
    "#### Assign docID according to its category  \n",
    "- docID = 'd' + number, such as d0, d1, ..., d1000, d1001, ...\n",
    " - number = target * 1000 + j"
   ]
  },
  {
   "cell_type": "code",
   "execution_count": 14,
   "metadata": {},
   "outputs": [
    {
     "data": {
      "text/html": [
       "<div>\n",
       "<style scoped>\n",
       "    .dataframe tbody tr th:only-of-type {\n",
       "        vertical-align: middle;\n",
       "    }\n",
       "\n",
       "    .dataframe tbody tr th {\n",
       "        vertical-align: top;\n",
       "    }\n",
       "\n",
       "    .dataframe thead th {\n",
       "        text-align: right;\n",
       "    }\n",
       "</style>\n",
       "<table border=\"1\" class=\"dataframe\">\n",
       "  <thead>\n",
       "    <tr style=\"text-align: right;\">\n",
       "      <th></th>\n",
       "      <th>content</th>\n",
       "      <th>target</th>\n",
       "      <th>target_names</th>\n",
       "      <th>docID</th>\n",
       "    </tr>\n",
       "  </thead>\n",
       "  <tbody>\n",
       "    <tr>\n",
       "      <th>0</th>\n",
       "      <td>From article &lt;C5owCB.n3p@world.std.com&gt;, by t...</td>\n",
       "      <td>1</td>\n",
       "      <td>sci.space</td>\n",
       "      <td>d1000</td>\n",
       "    </tr>\n",
       "    <tr>\n",
       "      <th>1</th>\n",
       "      <td>In article &lt;1r1eu1$4t@transfer.stratus.com&gt; c...</td>\n",
       "      <td>3</td>\n",
       "      <td>talk.politics.guns</td>\n",
       "      <td>d3000</td>\n",
       "    </tr>\n",
       "    <tr>\n",
       "      <th>2</th>\n",
       "      <td>In article &lt;1993Apr23.184732.1105@aio.jsc.nas...</td>\n",
       "      <td>1</td>\n",
       "      <td>sci.space</td>\n",
       "      <td>d1001</td>\n",
       "    </tr>\n",
       "    <tr>\n",
       "      <th>3</th>\n",
       "      <td>What is the EXACT entry (parameter and synta...</td>\n",
       "      <td>2</td>\n",
       "      <td>comp.windows.x</td>\n",
       "      <td>d2000</td>\n",
       "    </tr>\n",
       "    <tr>\n",
       "      <th>4</th>\n",
       "      <td>In article &lt;1993Apr20.151818.4319@samba.oit.u...</td>\n",
       "      <td>0</td>\n",
       "      <td>rec.sport.hockey</td>\n",
       "      <td>d0</td>\n",
       "    </tr>\n",
       "  </tbody>\n",
       "</table>\n",
       "</div>"
      ],
      "text/plain": [
       "                                             content  target  \\\n",
       "0   From article <C5owCB.n3p@world.std.com>, by t...       1   \n",
       "1   In article <1r1eu1$4t@transfer.stratus.com> c...       3   \n",
       "2   In article <1993Apr23.184732.1105@aio.jsc.nas...       1   \n",
       "3    What is the EXACT entry (parameter and synta...       2   \n",
       "4   In article <1993Apr20.151818.4319@samba.oit.u...       0   \n",
       "\n",
       "         target_names  docID  \n",
       "0           sci.space  d1000  \n",
       "1  talk.politics.guns  d3000  \n",
       "2           sci.space  d1001  \n",
       "3      comp.windows.x  d2000  \n",
       "4    rec.sport.hockey     d0  "
      ]
     },
     "metadata": {},
     "output_type": "display_data"
    }
   ],
   "source": [
    "docID = []\n",
    "j = np.zeros(len(df['target'].value_counts()))\n",
    "for i in range(len(df)):\n",
    "    tgt = df.at[i, 'target']\n",
    "    # base of document ID:\n",
    "    #   0 for documents of target 0, 1000 for documents of target 1,\n",
    "    #   2000 for documents of target 2, ...\n",
    "    docID.append('d'+str(int(tgt*1000+j[tgt])))\n",
    "    # increment j for target \"tgt\"\n",
    "    j[tgt] += 1\n",
    "df['docID'] = docID\n",
    "display(df.head())"
   ]
  },
  {
   "cell_type": "markdown",
   "metadata": {},
   "source": [
    "#### Calculation of Doc2Vec  "
   ]
  },
  {
   "cell_type": "code",
   "execution_count": 15,
   "metadata": {},
   "outputs": [],
   "source": [
    "docs = []\n",
    "for i in range(len(df)):\n",
    "    c = df.at[i, 'content']\n",
    "    doc_id = df.at[i, 'docID']\n",
    "    # make TaggedDocument\n",
    "    td = TaggedDocument(words=c.split(), tags=[doc_id])\n",
    "    docs.append(td)"
   ]
  },
  {
   "cell_type": "code",
   "execution_count": 16,
   "metadata": {},
   "outputs": [
    {
     "name": "stdout",
     "output_type": "stream",
     "text": [
      "CPU times: user 38.3 s, sys: 628 ms, total: 39 s\n",
      "Wall time: 19.1 s\n"
     ]
    }
   ],
   "source": [
    "%%time\n",
    "\n",
    "model = Doc2Vec(documents=docs, vector_size=embed_size,\n",
    "                min_count=min_count, dm=0, epochs=20) # PV-DBOW\n",
    "#model = Doc2Vec(documents=docs, vector_size=embed_size,\n",
    "#                min_count=min_count, dm=1, epochs=20)  # PV-DM\n",
    "model.save(model_file)\n",
    " \n",
    "# If you want to read saved model\n",
    "# model = Doc2Vec.load('saved_doc2vec.model')"
   ]
  },
  {
   "cell_type": "code",
   "execution_count": 17,
   "metadata": {},
   "outputs": [
    {
     "name": "stdout",
     "output_type": "stream",
     "text": [
      "100\n",
      "[-0.37661126 -0.07450546 -0.47666585 -0.12859029  0.0591739   0.666588\n",
      "  0.7262975   0.02464759  0.6024782   0.20746313 -0.06813006 -0.57986104\n",
      "  0.6085836  -0.76100177  0.52840996 -0.5870352  -0.56830823 -0.18069802\n",
      "  0.12029023 -0.35603148  0.21328051  0.20123419  0.5635116  -0.23640211\n",
      "  0.15766047 -0.12117846 -0.11898364  0.32813576  0.51085013 -0.909284\n",
      " -0.38562107 -0.2764377  -0.48819688  0.46417832  0.76088434  0.2592789\n",
      " -0.20791835  0.33964688 -0.26765227  0.42412695  0.49605897 -0.3403559\n",
      " -0.11098704  1.0164336   0.13919698 -0.18096957  0.27638832 -0.06128496\n",
      "  0.20739323 -0.12256812  0.04105749  0.278833    0.1894799   0.1714155\n",
      "  0.09460736  0.43144274  0.26755062  0.44871616  0.01298083  0.09536628\n",
      " -0.58270377 -0.89966625 -0.6203916   0.59038705 -0.16940452 -0.3392718\n",
      " -0.55265266  0.21697535  0.3681351  -0.23705108  0.05364915  0.8823749\n",
      " -0.00902858 -0.78093296 -0.339531    0.79057133 -0.49147198  0.11545987\n",
      " -0.28682217  0.47742596 -0.34997496  0.60384583  0.15070738 -0.68912804\n",
      "  0.49949992  0.5598111  -0.49079466  0.01864805 -0.7045156  -0.6463746\n",
      " -0.02950319  0.34228888 -0.22513118 -0.35761595  0.07310445 -0.00606023\n",
      " -0.01760958 -0.57073253  0.27703753  0.15871829]\n"
     ]
    }
   ],
   "source": [
    "# show vectors for 'd0'\n",
    "print(len(model.docvecs['d0']))\n",
    "print(model.docvecs['d0'])"
   ]
  },
  {
   "cell_type": "code",
   "execution_count": 18,
   "metadata": {},
   "outputs": [
    {
     "name": "stdout",
     "output_type": "stream",
     "text": [
      "sample_doc: d0\n"
     ]
    },
    {
     "data": {
      "text/html": [
       "<div>\n",
       "<style scoped>\n",
       "    .dataframe tbody tr th:only-of-type {\n",
       "        vertical-align: middle;\n",
       "    }\n",
       "\n",
       "    .dataframe tbody tr th {\n",
       "        vertical-align: top;\n",
       "    }\n",
       "\n",
       "    .dataframe thead th {\n",
       "        text-align: right;\n",
       "    }\n",
       "</style>\n",
       "<table border=\"1\" class=\"dataframe\">\n",
       "  <thead>\n",
       "    <tr style=\"text-align: right;\">\n",
       "      <th></th>\n",
       "      <th>content</th>\n",
       "      <th>target</th>\n",
       "      <th>target_names</th>\n",
       "      <th>docID</th>\n",
       "    </tr>\n",
       "  </thead>\n",
       "  <tbody>\n",
       "    <tr>\n",
       "      <th>4</th>\n",
       "      <td>In article &lt;1993Apr20.151818.4319@samba.oit.unc.edu&gt; Scott.Marks@launchpad.unc.edu (Scott Marks)&gt;&gt;And of course, Mike Ramsey was (at one time) the captain in Buffalo prior to &gt;&gt;being traded to Pittsburgh.  Currently, the Penguins have 3 former captains &gt;&gt;and 1 real captain (Lemieux) playing for them.  They rotate the As during the &gt;&gt;season (and even the C while Mario was out).  Even Troy Loney has worn the C &gt;&gt;for the Pens. &gt;  I think that Mike Foligno was the captain of the Sabres when he got traded to the Leafs. Also, wasnt Rick Vaive the captain of the Leafs when he got traded to Chicago (with Steve Thomas for Ed Olcyzk and someone). Speaking of the Leafs, I believe that Darryl Sittler was their captain (hed torn the \"C\" off his jersey but I think he re-claimed the captaincy later on) when he was traded to the Flyers.  Oh yeah, of course, Gretzky was the captain of the Oilers before he was traded wasnt he?   Gary</td>\n",
       "      <td>0</td>\n",
       "      <td>rec.sport.hockey</td>\n",
       "      <td>d0</td>\n",
       "    </tr>\n",
       "  </tbody>\n",
       "</table>\n",
       "</div>"
      ],
      "text/plain": [
       "                                                                                                                                                                                                                                                                                                                                                                                                                                                                                                                                                                                                                                                                                                                                                                                                                                                                                                                                                               content  \\\n",
       "4   In article <1993Apr20.151818.4319@samba.oit.unc.edu> Scott.Marks@launchpad.unc.edu (Scott Marks)>>And of course, Mike Ramsey was (at one time) the captain in Buffalo prior to >>being traded to Pittsburgh.  Currently, the Penguins have 3 former captains >>and 1 real captain (Lemieux) playing for them.  They rotate the As during the >>season (and even the C while Mario was out).  Even Troy Loney has worn the C >>for the Pens. >  I think that Mike Foligno was the captain of the Sabres when he got traded to the Leafs. Also, wasnt Rick Vaive the captain of the Leafs when he got traded to Chicago (with Steve Thomas for Ed Olcyzk and someone). Speaking of the Leafs, I believe that Darryl Sittler was their captain (hed torn the \"C\" off his jersey but I think he re-claimed the captaincy later on) when he was traded to the Flyers.  Oh yeah, of course, Gretzky was the captain of the Oilers before he was traded wasnt he?   Gary    \n",
       "\n",
       "   target      target_names docID  \n",
       "4       0  rec.sport.hockey    d0  "
      ]
     },
     "metadata": {},
     "output_type": "display_data"
    },
    {
     "name": "stdout",
     "output_type": "stream",
     "text": [
      "('d399', 0.971803605556488)\n"
     ]
    },
    {
     "data": {
      "text/html": [
       "<div>\n",
       "<style scoped>\n",
       "    .dataframe tbody tr th:only-of-type {\n",
       "        vertical-align: middle;\n",
       "    }\n",
       "\n",
       "    .dataframe tbody tr th {\n",
       "        vertical-align: top;\n",
       "    }\n",
       "\n",
       "    .dataframe thead th {\n",
       "        text-align: right;\n",
       "    }\n",
       "</style>\n",
       "<table border=\"1\" class=\"dataframe\">\n",
       "  <thead>\n",
       "    <tr style=\"text-align: right;\">\n",
       "      <th></th>\n",
       "      <th>content</th>\n",
       "      <th>target</th>\n",
       "      <th>target_names</th>\n",
       "      <th>docID</th>\n",
       "    </tr>\n",
       "  </thead>\n",
       "  <tbody>\n",
       "    <tr>\n",
       "      <th>1983</th>\n",
       "      <td>In article &lt;1993Apr20.113953.18879@jarvis.csri.toronto.edu&gt; leunggm@odin.control.utoronto.ca (Gary Leung)&gt;In article &lt;1993Apr20.151818.4319@samba.oit.unc.edu&gt; Scott.Marks@launchpad.unc.edu (Scott Marks)&gt;&gt;&gt;And of course, Mike Ramsey was (at one time) the captain in Buffalo prior to &gt;&gt;&gt;being traded to Pittsburgh.  Currently, the Penguins have 3 former captains &gt;&gt;&gt;and 1 real captain (Lemieux) playing for them.  They rotate the As during the &gt;&gt;&gt;season (and even the C while Mario was out).  Even Troy Loney has worn the C &gt;&gt;&gt;for the Pens. &gt;&gt; &gt; &gt;I think that Mike Foligno was the captain of the Sabres when he &gt;got traded to the Leafs. Also, wasnt Rick Vaive the captain of &gt;the Leafs when he got traded to Chicago (with Steve Thomas for &gt;Ed Olcyzk and someone). Speaking of the Leafs, I believe that &gt;Darryl Sittler was their captain (hed torn the \"C\" off his &gt;jersey but I think he re-claimed the captaincy later on) when he &gt;was traded to the Flyers. &gt; &gt;Oh yeah, of course, Gretzky was the cap...</td>\n",
       "      <td>0</td>\n",
       "      <td>rec.sport.hockey</td>\n",
       "      <td>d399</td>\n",
       "    </tr>\n",
       "  </tbody>\n",
       "</table>\n",
       "</div>"
      ],
      "text/plain": [
       "                                                                                                                                                                                                                                                                                                                                                                                                                                                                                                                                                                                                                                                                                                                                                                                                                                                                                                                                                                                                                                      content  \\\n",
       "1983   In article <1993Apr20.113953.18879@jarvis.csri.toronto.edu> leunggm@odin.control.utoronto.ca (Gary Leung)>In article <1993Apr20.151818.4319@samba.oit.unc.edu> Scott.Marks@launchpad.unc.edu (Scott Marks)>>>And of course, Mike Ramsey was (at one time) the captain in Buffalo prior to >>>being traded to Pittsburgh.  Currently, the Penguins have 3 former captains >>>and 1 real captain (Lemieux) playing for them.  They rotate the As during the >>>season (and even the C while Mario was out).  Even Troy Loney has worn the C >>>for the Pens. >> > >I think that Mike Foligno was the captain of the Sabres when he >got traded to the Leafs. Also, wasnt Rick Vaive the captain of >the Leafs when he got traded to Chicago (with Steve Thomas for >Ed Olcyzk and someone). Speaking of the Leafs, I believe that >Darryl Sittler was their captain (hed torn the \"C\" off his >jersey but I think he re-claimed the captaincy later on) when he >was traded to the Flyers. > >Oh yeah, of course, Gretzky was the cap...   \n",
       "\n",
       "      target      target_names docID  \n",
       "1983       0  rec.sport.hockey  d399  "
      ]
     },
     "metadata": {},
     "output_type": "display_data"
    },
    {
     "name": "stdout",
     "output_type": "stream",
     "text": [
      "('d292', 0.8966962099075317)\n"
     ]
    },
    {
     "data": {
      "text/html": [
       "<div>\n",
       "<style scoped>\n",
       "    .dataframe tbody tr th:only-of-type {\n",
       "        vertical-align: middle;\n",
       "    }\n",
       "\n",
       "    .dataframe tbody tr th {\n",
       "        vertical-align: top;\n",
       "    }\n",
       "\n",
       "    .dataframe thead th {\n",
       "        text-align: right;\n",
       "    }\n",
       "</style>\n",
       "<table border=\"1\" class=\"dataframe\">\n",
       "  <thead>\n",
       "    <tr style=\"text-align: right;\">\n",
       "      <th></th>\n",
       "      <th>content</th>\n",
       "      <th>target</th>\n",
       "      <th>target_names</th>\n",
       "      <th>docID</th>\n",
       "    </tr>\n",
       "  </thead>\n",
       "  <tbody>\n",
       "    <tr>\n",
       "      <th>1444</th>\n",
       "      <td>&gt;And of course, Mike Ramsey was (at one time) the captain in Buffalo prior to &gt;being traded to Pittsburgh.  Currently, the Penguins have 3 former captains &gt;and 1 real captain (Lemieux) playing for them.  They rotate the As during the &gt;season (and even the C while Mario was out).  Even Troy Loney has worn the C &gt;for the Pens.  I had heard(perhaps incorrectly) that while Lemieux was out, noone wore a C on their jersey.  The As took turns doing captain duties(whatever they are).  Scott... scott.marks@launchpad.unc.edu scott.marks@launchpad.unc.edu --    The opinions expressed are not necessarily those of the University of      North Carolina at Chapel Hill, the Campus Office for Information         Technology, or the Experimental Bulletin Board Service.</td>\n",
       "      <td>0</td>\n",
       "      <td>rec.sport.hockey</td>\n",
       "      <td>d292</td>\n",
       "    </tr>\n",
       "  </tbody>\n",
       "</table>\n",
       "</div>"
      ],
      "text/plain": [
       "                                                                                                                                                                                                                                                                                                                                                                                                                                                                                                                                                                                                                                                                                                                                                                                        content  \\\n",
       "1444   >And of course, Mike Ramsey was (at one time) the captain in Buffalo prior to >being traded to Pittsburgh.  Currently, the Penguins have 3 former captains >and 1 real captain (Lemieux) playing for them.  They rotate the As during the >season (and even the C while Mario was out).  Even Troy Loney has worn the C >for the Pens.  I had heard(perhaps incorrectly) that while Lemieux was out, noone wore a C on their jersey.  The As took turns doing captain duties(whatever they are).  Scott... scott.marks@launchpad.unc.edu scott.marks@launchpad.unc.edu --    The opinions expressed are not necessarily those of the University of      North Carolina at Chapel Hill, the Campus Office for Information         Technology, or the Experimental Bulletin Board Service.   \n",
       "\n",
       "      target      target_names docID  \n",
       "1444       0  rec.sport.hockey  d292  "
      ]
     },
     "metadata": {},
     "output_type": "display_data"
    },
    {
     "name": "stdout",
     "output_type": "stream",
     "text": [
      "('d533', 0.892473578453064)\n"
     ]
    },
    {
     "data": {
      "text/html": [
       "<div>\n",
       "<style scoped>\n",
       "    .dataframe tbody tr th:only-of-type {\n",
       "        vertical-align: middle;\n",
       "    }\n",
       "\n",
       "    .dataframe tbody tr th {\n",
       "        vertical-align: top;\n",
       "    }\n",
       "\n",
       "    .dataframe thead th {\n",
       "        text-align: right;\n",
       "    }\n",
       "</style>\n",
       "<table border=\"1\" class=\"dataframe\">\n",
       "  <thead>\n",
       "    <tr style=\"text-align: right;\">\n",
       "      <th></th>\n",
       "      <th>content</th>\n",
       "      <th>target</th>\n",
       "      <th>target_names</th>\n",
       "      <th>docID</th>\n",
       "    </tr>\n",
       "  </thead>\n",
       "  <tbody>\n",
       "    <tr>\n",
       "      <th>2603</th>\n",
       "      <td>In article &lt;1993Apr19.213015@IASTATE.EDU&gt;, njdevils@IASTATE.EDU (Cire Y. Trehguad)|&gt; Anna Matyas (am2x+@andrew.cmu.edu)|&gt; : Michael Collingridge|&gt; : &gt;And, while we are on the subject, has a captain ever been traded,  |&gt; : &gt;resigned, or been striped of his title during the season? Any other  |&gt; : &gt;team captain trivia would be appreciated. |&gt; ; |&gt; : Wasnt Ron Francis captain of the Whalers when he was traded to |&gt; : Pittsburgh? |&gt;  |&gt;   And Rick Tochett was the captain of the Flyers when traded to the Pens |&gt; recently... |&gt;   And of course, Mike Ramsey was (at one time) the captain in Buffalo prior to being traded to Pittsburgh.  Currently, the Penguins have 3 former captains and 1 real captain (Lemieux) playing for them.  They rotate the As during the season (and even the C while Mario was out).  Even Troy Loney has worn the C for the Pens.  -Jay   John W. Huber, Jr. - aka Jay   | Penguins - 1991,1992 Stanley Cup Champions Software Engineering Institute | Pirates - 1990,1991,1992 ...</td>\n",
       "      <td>0</td>\n",
       "      <td>rec.sport.hockey</td>\n",
       "      <td>d533</td>\n",
       "    </tr>\n",
       "  </tbody>\n",
       "</table>\n",
       "</div>"
      ],
      "text/plain": [
       "                                                                                                                                                                                                                                                                                                                                                                                                                                                                                                                                                                                                                                                                                                                                                                                                                                                                                                                                                                                                                                      content  \\\n",
       "2603    In article <1993Apr19.213015@IASTATE.EDU>, njdevils@IASTATE.EDU (Cire Y. Trehguad)|> Anna Matyas (am2x+@andrew.cmu.edu)|> : Michael Collingridge|> : >And, while we are on the subject, has a captain ever been traded,  |> : >resigned, or been striped of his title during the season? Any other  |> : >team captain trivia would be appreciated. |> ; |> : Wasnt Ron Francis captain of the Whalers when he was traded to |> : Pittsburgh? |>  |>   And Rick Tochett was the captain of the Flyers when traded to the Pens |> recently... |>   And of course, Mike Ramsey was (at one time) the captain in Buffalo prior to being traded to Pittsburgh.  Currently, the Penguins have 3 former captains and 1 real captain (Lemieux) playing for them.  They rotate the As during the season (and even the C while Mario was out).  Even Troy Loney has worn the C for the Pens.  -Jay   John W. Huber, Jr. - aka Jay   | Penguins - 1991,1992 Stanley Cup Champions Software Engineering Institute | Pirates - 1990,1991,1992 ...   \n",
       "\n",
       "      target      target_names docID  \n",
       "2603       0  rec.sport.hockey  d533  "
      ]
     },
     "metadata": {},
     "output_type": "display_data"
    },
    {
     "name": "stdout",
     "output_type": "stream",
     "text": [
      "sample_doc: d4000\n"
     ]
    },
    {
     "data": {
      "text/html": [
       "<div>\n",
       "<style scoped>\n",
       "    .dataframe tbody tr th:only-of-type {\n",
       "        vertical-align: middle;\n",
       "    }\n",
       "\n",
       "    .dataframe tbody tr th {\n",
       "        vertical-align: top;\n",
       "    }\n",
       "\n",
       "    .dataframe thead th {\n",
       "        text-align: right;\n",
       "    }\n",
       "</style>\n",
       "<table border=\"1\" class=\"dataframe\">\n",
       "  <thead>\n",
       "    <tr style=\"text-align: right;\">\n",
       "      <th></th>\n",
       "      <th>content</th>\n",
       "      <th>target</th>\n",
       "      <th>target_names</th>\n",
       "      <th>docID</th>\n",
       "    </tr>\n",
       "  </thead>\n",
       "  <tbody>\n",
       "    <tr>\n",
       "      <th>6</th>\n",
       "      <td>In article &lt;1r466c$an3@news.intercon.com&gt; amanda@intercon.com (Amanda Walker)&gt;Agreed.  Remember, I dont even think of Clipper as encryption in any real  &gt;sense--if I did, Id probably be a lot more annoyed about it.  I agree with this assessment.  Furthermore, its promotion as providing greater protection than bare voice is quite true, as far as it goes.  However, the only way for it to fulfill its stated goal of letting LE wiretap \"terrorists and drug dealers\" is to restrict stronger techniques.    Wiretap targets presently use strong encryption, weak encryption, or (the vast majority) no encryption.  The latter two classes can be tapped.  With weak encryption in every phone, the no-encryption class is merged into the weak-encryption class.  Will the introduction of Clipper cause targets presently enjoying strong privacy to give up on it?  that is, to rely for privacy on a system expressly designed to deny it to people like them?  I doubt it.  The mere introduction of this scheme ...</td>\n",
       "      <td>4</td>\n",
       "      <td>sci.crypt</td>\n",
       "      <td>d4000</td>\n",
       "    </tr>\n",
       "  </tbody>\n",
       "</table>\n",
       "</div>"
      ],
      "text/plain": [
       "                                                                                                                                                                                                                                                                                                                                                                                                                                                                                                                                                                                                                                                                                                                                                                                                                                                                                                                                                                                                                                   content  \\\n",
       "6   In article <1r466c$an3@news.intercon.com> amanda@intercon.com (Amanda Walker)>Agreed.  Remember, I dont even think of Clipper as encryption in any real  >sense--if I did, Id probably be a lot more annoyed about it.  I agree with this assessment.  Furthermore, its promotion as providing greater protection than bare voice is quite true, as far as it goes.  However, the only way for it to fulfill its stated goal of letting LE wiretap \"terrorists and drug dealers\" is to restrict stronger techniques.    Wiretap targets presently use strong encryption, weak encryption, or (the vast majority) no encryption.  The latter two classes can be tapped.  With weak encryption in every phone, the no-encryption class is merged into the weak-encryption class.  Will the introduction of Clipper cause targets presently enjoying strong privacy to give up on it?  that is, to rely for privacy on a system expressly designed to deny it to people like them?  I doubt it.  The mere introduction of this scheme ...   \n",
       "\n",
       "   target target_names  docID  \n",
       "6       4    sci.crypt  d4000  "
      ]
     },
     "metadata": {},
     "output_type": "display_data"
    },
    {
     "name": "stdout",
     "output_type": "stream",
     "text": [
      "('d4157', 0.7964264750480652)\n"
     ]
    },
    {
     "data": {
      "text/html": [
       "<div>\n",
       "<style scoped>\n",
       "    .dataframe tbody tr th:only-of-type {\n",
       "        vertical-align: middle;\n",
       "    }\n",
       "\n",
       "    .dataframe tbody tr th {\n",
       "        vertical-align: top;\n",
       "    }\n",
       "\n",
       "    .dataframe thead th {\n",
       "        text-align: right;\n",
       "    }\n",
       "</style>\n",
       "<table border=\"1\" class=\"dataframe\">\n",
       "  <thead>\n",
       "    <tr style=\"text-align: right;\">\n",
       "      <th></th>\n",
       "      <th>content</th>\n",
       "      <th>target</th>\n",
       "      <th>target_names</th>\n",
       "      <th>docID</th>\n",
       "    </tr>\n",
       "  </thead>\n",
       "  <tbody>\n",
       "    <tr>\n",
       "      <th>778</th>\n",
       "      <td>ebrandt@jarthur.claremont.edu (Eli Brandt)&gt; Instead we have a deliberately brain-dead version of a cryptosystem  &gt; that has not even been peer reviewed.  Yes, the NSA owns some smart  &gt; people.  But if they pulled a FEAL, well, AT&amp;T is going to be left with  &gt; a lot of dud phones on its hands.   Agreed.  Remember, I dont even think of Clipper as encryption in any real  sense--if I did, Id probably be a lot more annoyed about it.  &gt; Heh heh.  The government already gave it up for us.  Remember in the  &gt; announcement they described this scheme as balancing the two  &gt; extremes of having no privacy and claiming that citizens had a  &gt; Constitutional right to encryption?    Thats not for Clinton (or anyone under him) to say, though.  Only the  federal and supreme courts can say anything about the constitutionality. Anything the administration or any governmental agency says is opinion at  best.   Amanda Walker InterCon Systems Corporation</td>\n",
       "      <td>4</td>\n",
       "      <td>sci.crypt</td>\n",
       "      <td>d4157</td>\n",
       "    </tr>\n",
       "  </tbody>\n",
       "</table>\n",
       "</div>"
      ],
      "text/plain": [
       "                                                                                                                                                                                                                                                                                                                                                                                                                                                                                                                                                                                                                                                                                                                                                                                                                                                                                                                                                                                    content  \\\n",
       "778   ebrandt@jarthur.claremont.edu (Eli Brandt)> Instead we have a deliberately brain-dead version of a cryptosystem  > that has not even been peer reviewed.  Yes, the NSA owns some smart  > people.  But if they pulled a FEAL, well, AT&T is going to be left with  > a lot of dud phones on its hands.   Agreed.  Remember, I dont even think of Clipper as encryption in any real  sense--if I did, Id probably be a lot more annoyed about it.  > Heh heh.  The government already gave it up for us.  Remember in the  > announcement they described this scheme as balancing the two  > extremes of having no privacy and claiming that citizens had a  > Constitutional right to encryption?    Thats not for Clinton (or anyone under him) to say, though.  Only the  federal and supreme courts can say anything about the constitutionality. Anything the administration or any governmental agency says is opinion at  best.   Amanda Walker InterCon Systems Corporation      \n",
       "\n",
       "     target target_names  docID  \n",
       "778       4    sci.crypt  d4157  "
      ]
     },
     "metadata": {},
     "output_type": "display_data"
    },
    {
     "name": "stdout",
     "output_type": "stream",
     "text": [
      "('d4331', 0.7892059683799744)\n"
     ]
    },
    {
     "data": {
      "text/html": [
       "<div>\n",
       "<style scoped>\n",
       "    .dataframe tbody tr th:only-of-type {\n",
       "        vertical-align: middle;\n",
       "    }\n",
       "\n",
       "    .dataframe tbody tr th {\n",
       "        vertical-align: top;\n",
       "    }\n",
       "\n",
       "    .dataframe thead th {\n",
       "        text-align: right;\n",
       "    }\n",
       "</style>\n",
       "<table border=\"1\" class=\"dataframe\">\n",
       "  <thead>\n",
       "    <tr style=\"text-align: right;\">\n",
       "      <th></th>\n",
       "      <th>content</th>\n",
       "      <th>target</th>\n",
       "      <th>target_names</th>\n",
       "      <th>docID</th>\n",
       "    </tr>\n",
       "  </thead>\n",
       "  <tbody>\n",
       "    <tr>\n",
       "      <th>1610</th>\n",
       "      <td>uni@acs.bu.edu (Shaen Bernhardt)&gt; I wish I could agree with you.  Ask yourself this.  Why would any  &gt; private sector entity wish to buy a crypto system that was KNOWN to be  &gt; at least partially compromised?  (a) To use for sensitive but not strategically important traffic, (b) if the system was cheap.  For example, I dont own a cordless phone.  With Clipper, I would.  If the  local men in blue really want to listen to me talk to my friends or order  pizza, Im no worse off than I am now, and I dont have to worry about local kids or nosy neighbors.  That is to say, Clipper \"raises the bar\" on insecure channels.  It doesnt  make them secure, by any means, but a wall, even if the FBI can get a master  key by court order, is still better than a \"keep off the grass\" sign.  &gt; The answer seems obvious to me, they wouldnt.  There is other hardware  &gt; out there not compromised.  DES as an example (triple DES as a better  &gt; one.)   So, where can I buy a DES-encrypted cellular phone?  How m...</td>\n",
       "      <td>4</td>\n",
       "      <td>sci.crypt</td>\n",
       "      <td>d4331</td>\n",
       "    </tr>\n",
       "  </tbody>\n",
       "</table>\n",
       "</div>"
      ],
      "text/plain": [
       "                                                                                                                                                                                                                                                                                                                                                                                                                                                                                                                                                                                                                                                                                                                                                                                                                                                                                                                                                                                                                                      content  \\\n",
       "1610   uni@acs.bu.edu (Shaen Bernhardt)> I wish I could agree with you.  Ask yourself this.  Why would any  > private sector entity wish to buy a crypto system that was KNOWN to be  > at least partially compromised?  (a) To use for sensitive but not strategically important traffic, (b) if the system was cheap.  For example, I dont own a cordless phone.  With Clipper, I would.  If the  local men in blue really want to listen to me talk to my friends or order  pizza, Im no worse off than I am now, and I dont have to worry about local kids or nosy neighbors.  That is to say, Clipper \"raises the bar\" on insecure channels.  It doesnt  make them secure, by any means, but a wall, even if the FBI can get a master  key by court order, is still better than a \"keep off the grass\" sign.  > The answer seems obvious to me, they wouldnt.  There is other hardware  > out there not compromised.  DES as an example (triple DES as a better  > one.)   So, where can I buy a DES-encrypted cellular phone?  How m...   \n",
       "\n",
       "      target target_names  docID  \n",
       "1610       4    sci.crypt  d4331  "
      ]
     },
     "metadata": {},
     "output_type": "display_data"
    },
    {
     "name": "stdout",
     "output_type": "stream",
     "text": [
      "('d4466', 0.7609058618545532)\n"
     ]
    },
    {
     "data": {
      "text/html": [
       "<div>\n",
       "<style scoped>\n",
       "    .dataframe tbody tr th:only-of-type {\n",
       "        vertical-align: middle;\n",
       "    }\n",
       "\n",
       "    .dataframe tbody tr th {\n",
       "        vertical-align: top;\n",
       "    }\n",
       "\n",
       "    .dataframe thead th {\n",
       "        text-align: right;\n",
       "    }\n",
       "</style>\n",
       "<table border=\"1\" class=\"dataframe\">\n",
       "  <thead>\n",
       "    <tr style=\"text-align: right;\">\n",
       "      <th></th>\n",
       "      <th>content</th>\n",
       "      <th>target</th>\n",
       "      <th>target_names</th>\n",
       "      <th>docID</th>\n",
       "    </tr>\n",
       "  </thead>\n",
       "  <tbody>\n",
       "    <tr>\n",
       "      <th>2283</th>\n",
       "      <td>In article &lt;ygoland.735123994@wright&gt; \\tygoland@wright.seas.ucla.edu (The Jester) &gt;Ignoring for the moment the question of patented processes (such as &gt;Public Keys), can the government stop me from using an encryption &gt;process?  Following precedent in other areas, the government is likely to put a tax on encryption technology.  Once the tax is imposed, it becomes a federal matter and suspicision of an unlicensed cryptographic tool will bring the BATF or FBI tossing grenades into your house.  (The BATF appears to be the logical agency to enforce suchand firearms is similary based on taxes.)  Look at thebands that are supposed to be private.  This has nothing to do with any desire to prevent harmful interference. If the government can make a radio receiver illegal what makes you think they wont claim the right to control encryption?  --     John Carr (jfc@athena.mit.edu)</td>\n",
       "      <td>4</td>\n",
       "      <td>sci.crypt</td>\n",
       "      <td>d4466</td>\n",
       "    </tr>\n",
       "  </tbody>\n",
       "</table>\n",
       "</div>"
      ],
      "text/plain": [
       "                                                                                                                                                                                                                                                                                                                                                                                                                                                                                                                                                                                                                                                                                                                                                                                                                                                                                                                  content  \\\n",
       "2283   In article <ygoland.735123994@wright> \\tygoland@wright.seas.ucla.edu (The Jester) >Ignoring for the moment the question of patented processes (such as >Public Keys), can the government stop me from using an encryption >process?  Following precedent in other areas, the government is likely to put a tax on encryption technology.  Once the tax is imposed, it becomes a federal matter and suspicision of an unlicensed cryptographic tool will bring the BATF or FBI tossing grenades into your house.  (The BATF appears to be the logical agency to enforce suchand firearms is similary based on taxes.)  Look at thebands that are supposed to be private.  This has nothing to do with any desire to prevent harmful interference. If the government can make a radio receiver illegal what makes you think they wont claim the right to control encryption?  --     John Carr (jfc@athena.mit.edu)    \n",
       "\n",
       "      target target_names  docID  \n",
       "2283       4    sci.crypt  d4466  "
      ]
     },
     "metadata": {},
     "output_type": "display_data"
    }
   ],
   "source": [
    "# Show most similar document for d0 (target 0), d1000 (target 1)\n",
    "max_colw = pd.options.display.max_colwidth\n",
    "pd.options.display.max_colwidth = 1000\n",
    "\n",
    "#for sample_doc in ['d0', 'd1000', 'd2000', 'd3000', 'd4000']:\n",
    "for sample_doc in ['d0', 'd4000']:\n",
    "    print('sample_doc:', sample_doc)\n",
    "    display(df[ df['docID']==sample_doc ])\n",
    "    for x in model.docvecs.most_similar(sample_doc, topn=3):\n",
    "        print(x)\n",
    "        display(df[ df['docID']==x[0] ])\n",
    "\n",
    "pd.options.display.max_colwidth = max_colw"
   ]
  },
  {
   "cell_type": "code",
   "execution_count": null,
   "metadata": {},
   "outputs": [],
   "source": []
  }
 ],
 "metadata": {
  "interpreter": {
   "hash": "a56d7313c7010e2993fb060a40a0c89503718a8c1aa7f683102c3457bfb6b975"
  },
  "kernelspec": {
   "display_name": "Python 3.9.7 64-bit ('ds21': conda)",
   "name": "python3"
  },
  "language_info": {
   "codemirror_mode": {
    "name": "ipython",
    "version": 3
   },
   "file_extension": ".py",
   "mimetype": "text/x-python",
   "name": "python",
   "nbconvert_exporter": "python",
   "pygments_lexer": "ipython3",
   "version": "3.9.7"
  }
 },
 "nbformat": 4,
 "nbformat_minor": 4
}
