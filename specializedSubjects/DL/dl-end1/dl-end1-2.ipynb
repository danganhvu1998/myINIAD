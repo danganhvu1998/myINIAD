{
 "cells": [
  {
   "cell_type": "markdown",
   "metadata": {},
   "source": [
    "### Problem 2  \n"
   ]
  },
  {
   "cell_type": "markdown",
   "metadata": {},
   "source": [
    "#### Import libraries  "
   ]
  },
  {
   "cell_type": "code",
   "execution_count": 1,
   "metadata": {},
   "outputs": [],
   "source": [
    "import numpy as np\n",
    "import pandas as pd\n",
    "import matplotlib.pyplot as plt\n",
    "from gensim.models.doc2vec import Doc2Vec\n",
    "from gensim.models.doc2vec import TaggedDocument\n",
    "from gensim.parsing.preprocessing import preprocess_string\n",
    "from gensim.models.phrases import Phrases, Phraser\n",
    "\n",
    "from sklearn.cluster import KMeans\n",
    "from sklearn.decomposition import PCA\n",
    "from sklearn.manifold import TSNE"
   ]
  },
  {
   "cell_type": "markdown",
   "metadata": {},
   "source": [
    "#### Parameters  "
   ]
  },
  {
   "cell_type": "code",
   "execution_count": 2,
   "metadata": {},
   "outputs": [],
   "source": [
    "csv_in = 'dl-end1-2.csv'\n",
    "min_count = 10\n",
    "min_words = 50\n",
    "\n",
    "embed_size = 100"
   ]
  },
  {
   "cell_type": "markdown",
   "metadata": {},
   "source": [
    "#### Read CSV file  "
   ]
  },
  {
   "cell_type": "code",
   "execution_count": 3,
   "metadata": {},
   "outputs": [
    {
     "name": "stdout",
     "output_type": "stream",
     "text": [
      "(1786, 3)\n",
      "<class 'pandas.core.frame.DataFrame'>\n",
      "RangeIndex: 1786 entries, 0 to 1785\n",
      "Data columns (total 3 columns):\n",
      " #   Column        Non-Null Count  Dtype \n",
      "---  ------        --------------  ----- \n",
      " 0   content       1786 non-null   object\n",
      " 1   target        1786 non-null   int64 \n",
      " 2   target_names  1786 non-null   object\n",
      "dtypes: int64(1), object(2)\n",
      "memory usage: 42.0+ KB\n",
      "None\n"
     ]
    },
    {
     "data": {
      "text/html": [
       "<div>\n",
       "<style scoped>\n",
       "    .dataframe tbody tr th:only-of-type {\n",
       "        vertical-align: middle;\n",
       "    }\n",
       "\n",
       "    .dataframe tbody tr th {\n",
       "        vertical-align: top;\n",
       "    }\n",
       "\n",
       "    .dataframe thead th {\n",
       "        text-align: right;\n",
       "    }\n",
       "</style>\n",
       "<table border=\"1\" class=\"dataframe\">\n",
       "  <thead>\n",
       "    <tr style=\"text-align: right;\">\n",
       "      <th></th>\n",
       "      <th>content</th>\n",
       "      <th>target</th>\n",
       "      <th>target_names</th>\n",
       "    </tr>\n",
       "  </thead>\n",
       "  <tbody>\n",
       "    <tr>\n",
       "      <th>0</th>\n",
       "      <td>From article &lt;C5owCB.n3p@world.std.com&gt;, by t...</td>\n",
       "      <td>1</td>\n",
       "      <td>sci.space</td>\n",
       "    </tr>\n",
       "    <tr>\n",
       "      <th>1</th>\n",
       "      <td>In article &lt;1993Apr23.184732.1105@aio.jsc.nas...</td>\n",
       "      <td>1</td>\n",
       "      <td>sci.space</td>\n",
       "    </tr>\n",
       "    <tr>\n",
       "      <th>2</th>\n",
       "      <td>What is the EXACT entry (parameter and synta...</td>\n",
       "      <td>2</td>\n",
       "      <td>comp.windows.x</td>\n",
       "    </tr>\n",
       "    <tr>\n",
       "      <th>3</th>\n",
       "      <td>In article &lt;1993Apr20.151818.4319@samba.oit.u...</td>\n",
       "      <td>0</td>\n",
       "      <td>rec.sport.hockey</td>\n",
       "    </tr>\n",
       "    <tr>\n",
       "      <th>4</th>\n",
       "      <td>In article &lt;120666@netnews.upenn.edu&gt; kkeller...</td>\n",
       "      <td>0</td>\n",
       "      <td>rec.sport.hockey</td>\n",
       "    </tr>\n",
       "  </tbody>\n",
       "</table>\n",
       "</div>"
      ],
      "text/plain": [
       "                                             content  target      target_names\n",
       "0   From article <C5owCB.n3p@world.std.com>, by t...       1         sci.space\n",
       "1   In article <1993Apr23.184732.1105@aio.jsc.nas...       1         sci.space\n",
       "2    What is the EXACT entry (parameter and synta...       2    comp.windows.x\n",
       "3   In article <1993Apr20.151818.4319@samba.oit.u...       0  rec.sport.hockey\n",
       "4   In article <120666@netnews.upenn.edu> kkeller...       0  rec.sport.hockey"
      ]
     },
     "metadata": {},
     "output_type": "display_data"
    }
   ],
   "source": [
    "df = pd.read_csv(csv_in, delimiter=',', skiprows=0, header=0)\n",
    "print(df.shape)\n",
    "print(df.info())\n",
    "display(df.head())"
   ]
  },
  {
   "cell_type": "code",
   "execution_count": 4,
   "metadata": {},
   "outputs": [],
   "source": [
    "def func(s):\n",
    "    return len(s.split())"
   ]
  },
  {
   "cell_type": "markdown",
   "metadata": {},
   "source": [
    "#### (A) Delete too short docs  "
   ]
  },
  {
   "cell_type": "code",
   "execution_count": 5,
   "metadata": {},
   "outputs": [
    {
     "name": "stdout",
     "output_type": "stream",
     "text": [
      "(1595, 3)\n"
     ]
    }
   ],
   "source": [
    "df = df[ df['content'].map(lambda x: len(x.split())) >= min_words ]  \n",
    "# df = df[ df['content'].map(func) >= min_words ]  \n",
    "df = df.reset_index(drop=True)\n",
    "print(df.shape)"
   ]
  },
  {
   "cell_type": "markdown",
   "metadata": {},
   "source": [
    "#### Remove stop_words, punctuations, etc.   "
   ]
  },
  {
   "cell_type": "code",
   "execution_count": 6,
   "metadata": {},
   "outputs": [
    {
     "data": {
      "text/html": [
       "<div>\n",
       "<style scoped>\n",
       "    .dataframe tbody tr th:only-of-type {\n",
       "        vertical-align: middle;\n",
       "    }\n",
       "\n",
       "    .dataframe tbody tr th {\n",
       "        vertical-align: top;\n",
       "    }\n",
       "\n",
       "    .dataframe thead th {\n",
       "        text-align: right;\n",
       "    }\n",
       "</style>\n",
       "<table border=\"1\" class=\"dataframe\">\n",
       "  <thead>\n",
       "    <tr style=\"text-align: right;\">\n",
       "      <th></th>\n",
       "      <th>content</th>\n",
       "      <th>target</th>\n",
       "      <th>target_names</th>\n",
       "    </tr>\n",
       "  </thead>\n",
       "  <tbody>\n",
       "    <tr>\n",
       "      <th>0</th>\n",
       "      <td>[articl, tombak, world, std, com, tom, baker, ...</td>\n",
       "      <td>1</td>\n",
       "      <td>sci.space</td>\n",
       "    </tr>\n",
       "    <tr>\n",
       "      <th>1</th>\n",
       "      <td>[articl, kjenk, gothamc, jsc, nasa, gov, write...</td>\n",
       "      <td>1</td>\n",
       "      <td>sci.space</td>\n",
       "    </tr>\n",
       "    <tr>\n",
       "      <th>2</th>\n",
       "      <td>[exact, entri, paramet, syntax, termin, config...</td>\n",
       "      <td>2</td>\n",
       "      <td>comp.windows.x</td>\n",
       "    </tr>\n",
       "    <tr>\n",
       "      <th>3</th>\n",
       "      <td>[articl, scott, mark, launchpad, unc, edu, sco...</td>\n",
       "      <td>0</td>\n",
       "      <td>rec.sport.hockey</td>\n",
       "    </tr>\n",
       "    <tr>\n",
       "      <th>4</th>\n",
       "      <td>[articl, kkeller, mail, sa, upenn, edu, keith,...</td>\n",
       "      <td>0</td>\n",
       "      <td>rec.sport.hockey</td>\n",
       "    </tr>\n",
       "  </tbody>\n",
       "</table>\n",
       "</div>"
      ],
      "text/plain": [
       "                                             content  target      target_names\n",
       "0  [articl, tombak, world, std, com, tom, baker, ...       1         sci.space\n",
       "1  [articl, kjenk, gothamc, jsc, nasa, gov, write...       1         sci.space\n",
       "2  [exact, entri, paramet, syntax, termin, config...       2    comp.windows.x\n",
       "3  [articl, scott, mark, launchpad, unc, edu, sco...       0  rec.sport.hockey\n",
       "4  [articl, kkeller, mail, sa, upenn, edu, keith,...       0  rec.sport.hockey"
      ]
     },
     "metadata": {},
     "output_type": "display_data"
    }
   ],
   "source": [
    "df['content'] = df['content'].map(preprocess_string)\n",
    "display(df.head())"
   ]
  },
  {
   "cell_type": "markdown",
   "metadata": {},
   "source": [
    "#### Detect Bi-gram  "
   ]
  },
  {
   "cell_type": "code",
   "execution_count": 7,
   "metadata": {},
   "outputs": [],
   "source": [
    "words = []\n",
    "for i in range(len(df)):\n",
    "    #print(i, df.at[i, 'content'])\n",
    "    words.append(df.at[i, 'content'])\n",
    "    #print(len(words))  # debug\n",
    "#print(words[:5])  # debug"
   ]
  },
  {
   "cell_type": "code",
   "execution_count": 8,
   "metadata": {},
   "outputs": [
    {
     "data": {
      "text/html": [
       "<div>\n",
       "<style scoped>\n",
       "    .dataframe tbody tr th:only-of-type {\n",
       "        vertical-align: middle;\n",
       "    }\n",
       "\n",
       "    .dataframe tbody tr th {\n",
       "        vertical-align: top;\n",
       "    }\n",
       "\n",
       "    .dataframe thead th {\n",
       "        text-align: right;\n",
       "    }\n",
       "</style>\n",
       "<table border=\"1\" class=\"dataframe\">\n",
       "  <thead>\n",
       "    <tr style=\"text-align: right;\">\n",
       "      <th></th>\n",
       "      <th>content</th>\n",
       "      <th>target</th>\n",
       "      <th>target_names</th>\n",
       "    </tr>\n",
       "  </thead>\n",
       "  <tbody>\n",
       "    <tr>\n",
       "      <th>0</th>\n",
       "      <td>[articl, tombak, world, std, com, tom, baker, ...</td>\n",
       "      <td>1</td>\n",
       "      <td>sci.space</td>\n",
       "    </tr>\n",
       "    <tr>\n",
       "      <th>1</th>\n",
       "      <td>[articl, kjenk, gothamc, jsc, nasa_gov, write,...</td>\n",
       "      <td>1</td>\n",
       "      <td>sci.space</td>\n",
       "    </tr>\n",
       "    <tr>\n",
       "      <th>2</th>\n",
       "      <td>[exact, entri, paramet, syntax, termin, config...</td>\n",
       "      <td>2</td>\n",
       "      <td>comp.windows.x</td>\n",
       "    </tr>\n",
       "    <tr>\n",
       "      <th>3</th>\n",
       "      <td>[articl, scott, mark, launchpad, unc, edu, sco...</td>\n",
       "      <td>0</td>\n",
       "      <td>rec.sport.hockey</td>\n",
       "    </tr>\n",
       "    <tr>\n",
       "      <th>4</th>\n",
       "      <td>[articl, kkeller, mail, sa, upenn, edu, keith,...</td>\n",
       "      <td>0</td>\n",
       "      <td>rec.sport.hockey</td>\n",
       "    </tr>\n",
       "  </tbody>\n",
       "</table>\n",
       "</div>"
      ],
      "text/plain": [
       "                                             content  target      target_names\n",
       "0  [articl, tombak, world, std, com, tom, baker, ...       1         sci.space\n",
       "1  [articl, kjenk, gothamc, jsc, nasa_gov, write,...       1         sci.space\n",
       "2  [exact, entri, paramet, syntax, termin, config...       2    comp.windows.x\n",
       "3  [articl, scott, mark, launchpad, unc, edu, sco...       0  rec.sport.hockey\n",
       "4  [articl, kkeller, mail, sa, upenn, edu, keith,...       0  rec.sport.hockey"
      ]
     },
     "metadata": {},
     "output_type": "display_data"
    },
    {
     "name": "stdout",
     "output_type": "stream",
     "text": [
      "CPU times: user 2.4 s, sys: 20.2 ms, total: 2.42 s\n",
      "Wall time: 2.42 s\n"
     ]
    }
   ],
   "source": [
    "%%time\n",
    "\n",
    "phrases_bi = Phrases(words, min_count=30, threshold=10.0)\n",
    "bigram = Phraser(phrases_bi)\n",
    "df['content'] = df['content'].map(lambda x: bigram[x])\n",
    "display(df.head())"
   ]
  },
  {
   "cell_type": "markdown",
   "metadata": {},
   "source": [
    "#### Assign docID according to its category  \n"
   ]
  },
  {
   "cell_type": "code",
   "execution_count": 9,
   "metadata": {},
   "outputs": [
    {
     "data": {
      "text/html": [
       "<div>\n",
       "<style scoped>\n",
       "    .dataframe tbody tr th:only-of-type {\n",
       "        vertical-align: middle;\n",
       "    }\n",
       "\n",
       "    .dataframe tbody tr th {\n",
       "        vertical-align: top;\n",
       "    }\n",
       "\n",
       "    .dataframe thead th {\n",
       "        text-align: right;\n",
       "    }\n",
       "</style>\n",
       "<table border=\"1\" class=\"dataframe\">\n",
       "  <thead>\n",
       "    <tr style=\"text-align: right;\">\n",
       "      <th></th>\n",
       "      <th>content</th>\n",
       "      <th>target</th>\n",
       "      <th>target_names</th>\n",
       "      <th>docID</th>\n",
       "    </tr>\n",
       "  </thead>\n",
       "  <tbody>\n",
       "    <tr>\n",
       "      <th>0</th>\n",
       "      <td>[articl, tombak, world, std, com, tom, baker, ...</td>\n",
       "      <td>1</td>\n",
       "      <td>sci.space</td>\n",
       "      <td>d1000</td>\n",
       "    </tr>\n",
       "    <tr>\n",
       "      <th>1</th>\n",
       "      <td>[articl, kjenk, gothamc, jsc, nasa_gov, write,...</td>\n",
       "      <td>1</td>\n",
       "      <td>sci.space</td>\n",
       "      <td>d1001</td>\n",
       "    </tr>\n",
       "    <tr>\n",
       "      <th>2</th>\n",
       "      <td>[exact, entri, paramet, syntax, termin, config...</td>\n",
       "      <td>2</td>\n",
       "      <td>comp.windows.x</td>\n",
       "      <td>d2000</td>\n",
       "    </tr>\n",
       "    <tr>\n",
       "      <th>3</th>\n",
       "      <td>[articl, scott, mark, launchpad, unc, edu, sco...</td>\n",
       "      <td>0</td>\n",
       "      <td>rec.sport.hockey</td>\n",
       "      <td>d0</td>\n",
       "    </tr>\n",
       "    <tr>\n",
       "      <th>4</th>\n",
       "      <td>[articl, kkeller, mail, sa, upenn, edu, keith,...</td>\n",
       "      <td>0</td>\n",
       "      <td>rec.sport.hockey</td>\n",
       "      <td>d1</td>\n",
       "    </tr>\n",
       "  </tbody>\n",
       "</table>\n",
       "</div>"
      ],
      "text/plain": [
       "                                             content  target  \\\n",
       "0  [articl, tombak, world, std, com, tom, baker, ...       1   \n",
       "1  [articl, kjenk, gothamc, jsc, nasa_gov, write,...       1   \n",
       "2  [exact, entri, paramet, syntax, termin, config...       2   \n",
       "3  [articl, scott, mark, launchpad, unc, edu, sco...       0   \n",
       "4  [articl, kkeller, mail, sa, upenn, edu, keith,...       0   \n",
       "\n",
       "       target_names  docID  \n",
       "0         sci.space  d1000  \n",
       "1         sci.space  d1001  \n",
       "2    comp.windows.x  d2000  \n",
       "3  rec.sport.hockey     d0  \n",
       "4  rec.sport.hockey     d1  "
      ]
     },
     "metadata": {},
     "output_type": "display_data"
    }
   ],
   "source": [
    "docID = []\n",
    "j = np.zeros(len(df['target'].value_counts()))\n",
    "for i in range(len(df)):\n",
    "    tgt = df.at[i, 'target']\n",
    "\n",
    "    docID.append('d'+str(int(tgt*1000+j[tgt])))\n",
    "    \n",
    "    j[tgt] += 1\n",
    "\n",
    "df['docID'] = docID\n",
    "display(df.head())"
   ]
  },
  {
   "cell_type": "markdown",
   "metadata": {},
   "source": [
    "#### Calculation of Doc2Vec  "
   ]
  },
  {
   "cell_type": "code",
   "execution_count": 10,
   "metadata": {},
   "outputs": [],
   "source": [
    "docs = []\n",
    "for i in range(len(df)):\n",
    "    c = df.at[i, 'content']\n",
    "    doc_id = df.at[i, 'docID']\n",
    "    # make TaggedDocument\n",
    "    td = TaggedDocument(words=c, tags=[doc_id])\n",
    "    docs.append(td)"
   ]
  },
  {
   "cell_type": "markdown",
   "metadata": {},
   "source": [
    "#### Calculation of doc vectors  "
   ]
  },
  {
   "cell_type": "code",
   "execution_count": 11,
   "metadata": {},
   "outputs": [
    {
     "name": "stdout",
     "output_type": "stream",
     "text": [
      "Doc2Vec(dbow,d100,n5,mc10,s0.001,t3)\n",
      "CPU times: user 7.01 s, sys: 156 ms, total: 7.17 s\n",
      "Wall time: 3.43 s\n"
     ]
    }
   ],
   "source": [
    "%%time\n",
    "\n",
    "model = Doc2Vec(documents=docs, vector_size=embed_size,\n",
    "                min_count=min_count, dm=0, epochs=20)  \n",
    "\n",
    "print(model)\n",
    "\n",
    "model.init_sims(replace=True)\n",
    "\n"
   ]
  },
  {
   "cell_type": "markdown",
   "metadata": {},
   "source": [
    "##### Check word set  "
   ]
  },
  {
   "cell_type": "code",
   "execution_count": 12,
   "metadata": {},
   "outputs": [
    {
     "name": "stdout",
     "output_type": "stream",
     "text": [
      "3541\n",
      "['articl', 'world', 'com', 'tom', 'baker', 'edu', 'pack', 'write', 'clear', 'warn']\n"
     ]
    }
   ],
   "source": [
    "print(len(model.wv.vocab.keys()))  # number of words\n",
    "print(list(model.wv.vocab.keys())[:10])  # show first 10 words"
   ]
  },
  {
   "cell_type": "code",
   "execution_count": 13,
   "metadata": {},
   "outputs": [
    {
     "name": "stdout",
     "output_type": "stream",
     "text": [
      "(1595, 100)\n"
     ]
    }
   ],
   "source": [
    "docvecs = model.docvecs.vectors_docs\n",
    "print(docvecs.shape)"
   ]
  },
  {
   "cell_type": "markdown",
   "metadata": {},
   "source": [
    "#### (B) K-Means clustering  "
   ]
  },
  {
   "cell_type": "code",
   "execution_count": 14,
   "metadata": {},
   "outputs": [
    {
     "ename": "SyntaxError",
     "evalue": "invalid syntax (2543988675.py, line 2)",
     "output_type": "error",
     "traceback": [
      "\u001b[0;36m  File \u001b[0;32m\"/tmp/ipykernel_52324/2543988675.py\"\u001b[0;36m, line \u001b[0;32m2\u001b[0m\n\u001b[0;31m    km =  __(B1)__\u001b[0m\n\u001b[0m                ^\u001b[0m\n\u001b[0;31mSyntaxError\u001b[0m\u001b[0;31m:\u001b[0m invalid syntax\n"
     ]
    }
   ],
   "source": [
    "n_cls = 5\n",
    "km =  __(B1)__\n",
    "cls = km.fit_predict(docvecs)"
   ]
  },
  {
   "cell_type": "markdown",
   "metadata": {},
   "source": [
    "#### Check correspondence of target and clusters  "
   ]
  },
  {
   "cell_type": "code",
   "execution_count": null,
   "metadata": {},
   "outputs": [],
   "source": [
    "display(pd.crosstab(df['target'], cls))"
   ]
  }
 ],
 "metadata": {
  "kernelspec": {
   "display_name": "Python 3",
   "language": "python",
   "name": "python3"
  },
  "language_info": {
   "codemirror_mode": {
    "name": "ipython",
    "version": 3
   },
   "file_extension": ".py",
   "mimetype": "text/x-python",
   "name": "python",
   "nbconvert_exporter": "python",
   "pygments_lexer": "ipython3",
   "version": "3.9.7"
  }
 },
 "nbformat": 4,
 "nbformat_minor": 4
}
