{
 "cells": [
  {
   "cell_type": "markdown",
   "metadata": {},
   "source": [
    "### Sample program for LSTM  \n",
    "https://www.kaggle.com/andreazzini/international-airline-passengers"
   ]
  },
  {
   "cell_type": "markdown",
   "metadata": {},
   "source": [
    "#### Import libraries  "
   ]
  },
  {
   "cell_type": "code",
   "execution_count": 1,
   "metadata": {},
   "outputs": [
    {
     "name": "stderr",
     "output_type": "stream",
     "text": [
      "2021-10-09 15:31:56.656468: W tensorflow/stream_executor/platform/default/dso_loader.cc:64] Could not load dynamic library 'libcudart.so.11.0'; dlerror: libcudart.so.11.0: cannot open shared object file: No such file or directory\n",
      "2021-10-09 15:31:56.656500: I tensorflow/stream_executor/cuda/cudart_stub.cc:29] Ignore above cudart dlerror if you do not have a GPU set up on your machine.\n"
     ]
    }
   ],
   "source": [
    "import numpy as np\n",
    "import pandas as pd\n",
    "import matplotlib.pyplot as plt\n",
    "import tensorflow as tf\n",
    "from tensorflow.keras.models import Sequential\n",
    "from tensorflow.keras.layers import Dense, LSTM\n",
    "from tensorflow.keras.callbacks import EarlyStopping\n",
    "from sklearn.metrics import mean_squared_error"
   ]
  },
  {
   "cell_type": "markdown",
   "metadata": {},
   "source": [
    "#### Parameters  "
   ]
  },
  {
   "cell_type": "code",
   "execution_count": 2,
   "metadata": {},
   "outputs": [],
   "source": [
    "np.random.seed(7)\n",
    "tf.random.set_seed(7)\n",
    "\n",
    "# To show more rows and columns without \"...\"\n",
    "pd.options.display.max_columns=999\n",
    "pd.options.display.max_rows=999"
   ]
  },
  {
   "cell_type": "markdown",
   "metadata": {},
   "source": [
    "#### Read CSV file  "
   ]
  },
  {
   "cell_type": "code",
   "execution_count": 3,
   "metadata": {},
   "outputs": [
    {
     "name": "stdout",
     "output_type": "stream",
     "text": [
      "(144, 2)\n",
      "<class 'pandas.core.frame.DataFrame'>\n",
      "RangeIndex: 144 entries, 0 to 143\n",
      "Data columns (total 2 columns):\n",
      " #   Column         Non-Null Count  Dtype \n",
      "---  ------         --------------  ----- \n",
      " 0   month          144 non-null    object\n",
      " 1   passengers(k)  144 non-null    int64 \n",
      "dtypes: int64(1), object(1)\n",
      "memory usage: 2.4+ KB\n",
      "None\n"
     ]
    },
    {
     "data": {
      "text/html": [
       "<div>\n",
       "<style scoped>\n",
       "    .dataframe tbody tr th:only-of-type {\n",
       "        vertical-align: middle;\n",
       "    }\n",
       "\n",
       "    .dataframe tbody tr th {\n",
       "        vertical-align: top;\n",
       "    }\n",
       "\n",
       "    .dataframe thead th {\n",
       "        text-align: right;\n",
       "    }\n",
       "</style>\n",
       "<table border=\"1\" class=\"dataframe\">\n",
       "  <thead>\n",
       "    <tr style=\"text-align: right;\">\n",
       "      <th></th>\n",
       "      <th>month</th>\n",
       "      <th>passengers(k)</th>\n",
       "    </tr>\n",
       "  </thead>\n",
       "  <tbody>\n",
       "    <tr>\n",
       "      <th>0</th>\n",
       "      <td>1949-01</td>\n",
       "      <td>112</td>\n",
       "    </tr>\n",
       "    <tr>\n",
       "      <th>1</th>\n",
       "      <td>1949-02</td>\n",
       "      <td>118</td>\n",
       "    </tr>\n",
       "    <tr>\n",
       "      <th>2</th>\n",
       "      <td>1949-03</td>\n",
       "      <td>132</td>\n",
       "    </tr>\n",
       "    <tr>\n",
       "      <th>3</th>\n",
       "      <td>1949-04</td>\n",
       "      <td>129</td>\n",
       "    </tr>\n",
       "    <tr>\n",
       "      <th>4</th>\n",
       "      <td>1949-05</td>\n",
       "      <td>121</td>\n",
       "    </tr>\n",
       "  </tbody>\n",
       "</table>\n",
       "</div>"
      ],
      "text/plain": [
       "     month  passengers(k)\n",
       "0  1949-01            112\n",
       "1  1949-02            118\n",
       "2  1949-03            132\n",
       "3  1949-04            129\n",
       "4  1949-05            121"
      ]
     },
     "metadata": {},
     "output_type": "display_data"
    },
    {
     "data": {
      "text/html": [
       "<div>\n",
       "<style scoped>\n",
       "    .dataframe tbody tr th:only-of-type {\n",
       "        vertical-align: middle;\n",
       "    }\n",
       "\n",
       "    .dataframe tbody tr th {\n",
       "        vertical-align: top;\n",
       "    }\n",
       "\n",
       "    .dataframe thead th {\n",
       "        text-align: right;\n",
       "    }\n",
       "</style>\n",
       "<table border=\"1\" class=\"dataframe\">\n",
       "  <thead>\n",
       "    <tr style=\"text-align: right;\">\n",
       "      <th></th>\n",
       "      <th>month</th>\n",
       "      <th>passengers(k)</th>\n",
       "    </tr>\n",
       "  </thead>\n",
       "  <tbody>\n",
       "    <tr>\n",
       "      <th>139</th>\n",
       "      <td>1960-08</td>\n",
       "      <td>606</td>\n",
       "    </tr>\n",
       "    <tr>\n",
       "      <th>140</th>\n",
       "      <td>1960-09</td>\n",
       "      <td>508</td>\n",
       "    </tr>\n",
       "    <tr>\n",
       "      <th>141</th>\n",
       "      <td>1960-10</td>\n",
       "      <td>461</td>\n",
       "    </tr>\n",
       "    <tr>\n",
       "      <th>142</th>\n",
       "      <td>1960-11</td>\n",
       "      <td>390</td>\n",
       "    </tr>\n",
       "    <tr>\n",
       "      <th>143</th>\n",
       "      <td>1960-12</td>\n",
       "      <td>432</td>\n",
       "    </tr>\n",
       "  </tbody>\n",
       "</table>\n",
       "</div>"
      ],
      "text/plain": [
       "       month  passengers(k)\n",
       "139  1960-08            606\n",
       "140  1960-09            508\n",
       "141  1960-10            461\n",
       "142  1960-11            390\n",
       "143  1960-12            432"
      ]
     },
     "metadata": {},
     "output_type": "display_data"
    }
   ],
   "source": [
    "# read data\n",
    "df = pd.read_csv('international-airline-passengers.csv',\n",
    "                 delimiter=',',skiprows=1, header=None,\n",
    "                 skipfooter=3, engine='python')\n",
    "df.columns=['month', 'passengers(k)']\n",
    "print(df.shape)\n",
    "print(df.info())\n",
    "display(df.head())\n",
    "display(df.tail())"
   ]
  },
  {
   "cell_type": "markdown",
   "metadata": {},
   "source": [
    "#### Convert datatype of Month column to 'datetime'  "
   ]
  },
  {
   "cell_type": "code",
   "execution_count": 4,
   "metadata": {},
   "outputs": [
    {
     "name": "stdout",
     "output_type": "stream",
     "text": [
      "<class 'pandas.core.frame.DataFrame'>\n",
      "RangeIndex: 144 entries, 0 to 143\n",
      "Data columns (total 2 columns):\n",
      " #   Column         Non-Null Count  Dtype         \n",
      "---  ------         --------------  -----         \n",
      " 0   month          144 non-null    datetime64[ns]\n",
      " 1   passengers(k)  144 non-null    float64       \n",
      "dtypes: datetime64[ns](1), float64(1)\n",
      "memory usage: 2.4 KB\n",
      "None\n"
     ]
    },
    {
     "data": {
      "text/html": [
       "<div>\n",
       "<style scoped>\n",
       "    .dataframe tbody tr th:only-of-type {\n",
       "        vertical-align: middle;\n",
       "    }\n",
       "\n",
       "    .dataframe tbody tr th {\n",
       "        vertical-align: top;\n",
       "    }\n",
       "\n",
       "    .dataframe thead th {\n",
       "        text-align: right;\n",
       "    }\n",
       "</style>\n",
       "<table border=\"1\" class=\"dataframe\">\n",
       "  <thead>\n",
       "    <tr style=\"text-align: right;\">\n",
       "      <th></th>\n",
       "      <th>month</th>\n",
       "      <th>passengers(k)</th>\n",
       "    </tr>\n",
       "  </thead>\n",
       "  <tbody>\n",
       "    <tr>\n",
       "      <th>0</th>\n",
       "      <td>1949-01-01</td>\n",
       "      <td>112.0</td>\n",
       "    </tr>\n",
       "    <tr>\n",
       "      <th>1</th>\n",
       "      <td>1949-02-01</td>\n",
       "      <td>118.0</td>\n",
       "    </tr>\n",
       "    <tr>\n",
       "      <th>2</th>\n",
       "      <td>1949-03-01</td>\n",
       "      <td>132.0</td>\n",
       "    </tr>\n",
       "    <tr>\n",
       "      <th>3</th>\n",
       "      <td>1949-04-01</td>\n",
       "      <td>129.0</td>\n",
       "    </tr>\n",
       "    <tr>\n",
       "      <th>4</th>\n",
       "      <td>1949-05-01</td>\n",
       "      <td>121.0</td>\n",
       "    </tr>\n",
       "  </tbody>\n",
       "</table>\n",
       "</div>"
      ],
      "text/plain": [
       "       month  passengers(k)\n",
       "0 1949-01-01          112.0\n",
       "1 1949-02-01          118.0\n",
       "2 1949-03-01          132.0\n",
       "3 1949-04-01          129.0\n",
       "4 1949-05-01          121.0"
      ]
     },
     "metadata": {},
     "output_type": "display_data"
    }
   ],
   "source": [
    "df['month'] = pd.to_datetime(df['month'])\n",
    "df['passengers(k)'] = df['passengers(k)'].astype('float')\n",
    "print(df.info())\n",
    "display(df.head())"
   ]
  },
  {
   "cell_type": "markdown",
   "metadata": {},
   "source": [
    "#### Time series plot  "
   ]
  },
  {
   "cell_type": "code",
   "execution_count": 5,
   "metadata": {},
   "outputs": [
    {
     "data": {
      "image/png": "[encoded data removed]",
      "text/plain": [
       "<Figure size 432x288 with 1 Axes>"
      ]
     },
     "metadata": {
      "needs_background": "light"
     },
     "output_type": "display_data"
    }
   ],
   "source": [
    "plt.plot(df['month'], df['passengers(k)'])\n",
    "plt.xlabel('Month')\n",
    "plt.ylabel('Passengers (k)')\n",
    "plt.show()"
   ]
  },
  {
   "cell_type": "markdown",
   "metadata": {},
   "source": [
    "#### Set parameters for training / prediction  "
   ]
  },
  {
   "cell_type": "code",
   "execution_count": 6,
   "metadata": {},
   "outputs": [],
   "source": [
    "w = 24\n",
    "n_test = 12"
   ]
  },
  {
   "cell_type": "code",
   "execution_count": 7,
   "metadata": {},
   "outputs": [
    {
     "name": "stdout",
     "output_type": "stream",
     "text": [
      "(144,)\n",
      "0    112.0\n",
      "1    118.0\n",
      "2    132.0\n",
      "3    129.0\n",
      "4    121.0\n",
      "Name: passengers(k), dtype: float64\n"
     ]
    }
   ],
   "source": [
    "passengers = df['passengers(k)']\n",
    "print(passengers.shape)\n",
    "print(passengers.head())"
   ]
  },
  {
   "cell_type": "markdown",
   "metadata": {},
   "source": [
    "#### Standardization of training data  "
   ]
  },
  {
   "cell_type": "code",
   "execution_count": 8,
   "metadata": {},
   "outputs": [],
   "source": [
    "xmin = np.amin(passengers[:-n_test])\n",
    "xmax = np.amax(passengers[:-n_test])\n",
    "scale = xmax-xmin\n",
    "passengers = (passengers-xmin)/scale"
   ]
  },
  {
   "cell_type": "markdown",
   "metadata": {},
   "source": [
    "#### Prepare for windows of training / test data  "
   ]
  },
  {
   "cell_type": "code",
   "execution_count": 9,
   "metadata": {},
   "outputs": [
    {
     "name": "stdout",
     "output_type": "stream",
     "text": [
      "[[0.01758242 0.03076923 0.06153846 0.05494505 0.03736264 0.06813187\n",
      "  0.0967033  0.0967033  0.07032967 0.03296703 0.         0.03076923\n",
      "  0.02417582 0.04835165 0.08131868 0.06813187 0.04615385 0.0989011\n",
      "  0.14505495 0.14505495 0.11868132 0.06373626 0.02197802 0.07912088]\n",
      " [0.03076923 0.06153846 0.05494505 0.03736264 0.06813187 0.0967033\n",
      "  0.0967033  0.07032967 0.03296703 0.         0.03076923 0.02417582\n",
      "  0.04835165 0.08131868 0.06813187 0.04615385 0.0989011  0.14505495\n",
      "  0.14505495 0.11868132 0.06373626 0.02197802 0.07912088 0.09010989]\n",
      " [0.06153846 0.05494505 0.03736264 0.06813187 0.0967033  0.0967033\n",
      "  0.07032967 0.03296703 0.         0.03076923 0.02417582 0.04835165\n",
      "  0.08131868 0.06813187 0.04615385 0.0989011  0.14505495 0.14505495\n",
      "  0.11868132 0.06373626 0.02197802 0.07912088 0.09010989 0.1010989 ]]\n",
      "[0.09010989 0.1010989  0.16263736]\n"
     ]
    }
   ],
   "source": [
    "x = []\n",
    "y = []\n",
    "n_months = passengers.shape[0]\n",
    "for i in range(0, n_months-w-n_test):\n",
    "    x.append(passengers[i:i+w])\n",
    "    y.append(passengers[i+w])\n",
    "x = np.array(x)\n",
    "y = np.array(y)\n",
    "print(x[:3])  # debug\n",
    "print(y[:3])  # debug"
   ]
  },
  {
   "cell_type": "markdown",
   "metadata": {},
   "source": [
    "#### Reshape to fit the input of LSTM  "
   ]
  },
  {
   "cell_type": "code",
   "execution_count": 10,
   "metadata": {},
   "outputs": [
    {
     "name": "stdout",
     "output_type": "stream",
     "text": [
      "(108, 24, 1)\n",
      "(108, 1)\n",
      "[[[0.01758242]\n",
      "  [0.03076923]\n",
      "  [0.06153846]\n",
      "  ...\n",
      "  [0.06373626]\n",
      "  [0.02197802]\n",
      "  [0.07912088]]\n",
      "\n",
      " [[0.03076923]\n",
      "  [0.06153846]\n",
      "  [0.05494505]\n",
      "  ...\n",
      "  [0.02197802]\n",
      "  [0.07912088]\n",
      "  [0.09010989]]\n",
      "\n",
      " [[0.06153846]\n",
      "  [0.05494505]\n",
      "  [0.03736264]\n",
      "  ...\n",
      "  [0.07912088]\n",
      "  [0.09010989]\n",
      "  [0.1010989 ]]\n",
      "\n",
      " ...\n",
      "\n",
      " [[0.53406593]\n",
      "  [0.44175824]\n",
      "  [0.50989011]\n",
      "  ...\n",
      "  [0.97582418]\n",
      "  [1.        ]\n",
      "  [0.78901099]]\n",
      "\n",
      " [[0.44175824]\n",
      "  [0.50989011]\n",
      "  [0.51868132]\n",
      "  ...\n",
      "  [1.        ]\n",
      "  [0.78901099]\n",
      "  [0.66593407]]\n",
      "\n",
      " [[0.50989011]\n",
      "  [0.51868132]\n",
      "  [0.47032967]\n",
      "  ...\n",
      "  [0.78901099]\n",
      "  [0.66593407]\n",
      "  [0.56703297]]]\n"
     ]
    }
   ],
   "source": [
    "x = x.reshape(-1, w, 1)\n",
    "y = y.reshape(-1, 1)\n",
    "print(x.shape)\n",
    "print(y.shape)\n",
    "print(x)"
   ]
  },
  {
   "cell_type": "markdown",
   "metadata": {},
   "source": [
    "#### Model building  "
   ]
  },
  {
   "cell_type": "code",
   "execution_count": 11,
   "metadata": {},
   "outputs": [
    {
     "name": "stdout",
     "output_type": "stream",
     "text": [
      "Model: \"sequential\"\n",
      "_________________________________________________________________\n",
      "Layer (type)                 Output Shape              Param #   \n",
      "=================================================================\n",
      "lstm (LSTM)                  (None, 100)               40800     \n",
      "_________________________________________________________________\n",
      "dense (Dense)                (None, 1)                 101       \n",
      "=================================================================\n",
      "Total params: 40,901\n",
      "Trainable params: 40,901\n",
      "Non-trainable params: 0\n",
      "_________________________________________________________________\n"
     ]
    },
    {
     "name": "stderr",
     "output_type": "stream",
     "text": [
      "2021-10-09 15:32:00.071183: W tensorflow/stream_executor/platform/default/dso_loader.cc:64] Could not load dynamic library 'libcuda.so.1'; dlerror: libcuda.so.1: cannot open shared object file: No such file or directory\n",
      "2021-10-09 15:32:00.071209: W tensorflow/stream_executor/cuda/cuda_driver.cc:269] failed call to cuInit: UNKNOWN ERROR (303)\n",
      "2021-10-09 15:32:00.071228: I tensorflow/stream_executor/cuda/cuda_diagnostics.cc:156] kernel driver does not appear to be running on this host (anhvu): /proc/driver/nvidia/version does not exist\n",
      "2021-10-09 15:32:00.071616: I tensorflow/core/platform/cpu_feature_guard.cc:142] This TensorFlow binary is optimized with oneAPI Deep Neural Network Library (oneDNN) to use the following CPU instructions in performance-critical operations:  AVX2 AVX512F FMA\n",
      "To enable them in other operations, rebuild TensorFlow with the appropriate compiler flags.\n"
     ]
    }
   ],
   "source": [
    "n_out = 1\n",
    "n_hidden = 100\n",
    "\n",
    "# early stopping and model checkpoint\n",
    "es_cb = EarlyStopping(monitor='val_loss',\n",
    "                      patience=30, verbose=1, mode='auto')\n",
    "\n",
    "model = Sequential()\n",
    "model.add(LSTM(n_hidden, input_shape=(w, 1), return_sequences=False))\n",
    "model.add(Dense(n_out, activation='linear'))\n",
    "\n",
    "model.summary()"
   ]
  },
  {
   "cell_type": "code",
   "execution_count": 12,
   "metadata": {},
   "outputs": [],
   "source": [
    "model.compile(loss=\"mean_squared_error\", optimizer='adam')"
   ]
  },
  {
   "cell_type": "markdown",
   "metadata": {},
   "source": [
    "#### Training  "
   ]
  },
  {
   "cell_type": "code",
   "execution_count": 13,
   "metadata": {},
   "outputs": [
    {
     "name": "stdout",
     "output_type": "stream",
     "text": [
      "Epoch 1/500\n"
     ]
    },
    {
     "name": "stderr",
     "output_type": "stream",
     "text": [
      "2021-10-09 15:32:00.394399: I tensorflow/compiler/mlir/mlir_graph_optimization_pass.cc:185] None of the MLIR Optimization Passes are enabled (registered 2)\n"
     ]
    },
    {
     "name": "stdout",
     "output_type": "stream",
     "text": [
      "86/86 [==============================] - 1s 8ms/step - loss: 0.0233 - val_loss: 0.0262\n",
      "Epoch 2/500\n",
      "86/86 [==============================] - 0s 5ms/step - loss: 0.0123 - val_loss: 0.0249\n",
      "Epoch 3/500\n",
      "86/86 [==============================] - 0s 4ms/step - loss: 0.0106 - val_loss: 0.0231\n",
      "Epoch 4/500\n",
      "86/86 [==============================] - 0s 5ms/step - loss: 0.0089 - val_loss: 0.0236\n",
      "Epoch 5/500\n",
      "86/86 [==============================] - 0s 4ms/step - loss: 0.0099 - val_loss: 0.0242\n",
      "Epoch 6/500\n",
      "86/86 [==============================] - 0s 5ms/step - loss: 0.0078 - val_loss: 0.0234\n",
      "Epoch 7/500\n",
      "86/86 [==============================] - 0s 4ms/step - loss: 0.0073 - val_loss: 0.0228\n",
      "Epoch 8/500\n",
      "86/86 [==============================] - 0s 5ms/step - loss: 0.0065 - val_loss: 0.0204\n",
      "Epoch 9/500\n",
      "86/86 [==============================] - 0s 4ms/step - loss: 0.0058 - val_loss: 0.0156\n",
      "Epoch 10/500\n",
      "86/86 [==============================] - 0s 5ms/step - loss: 0.0038 - val_loss: 0.0070\n",
      "Epoch 11/500\n",
      "86/86 [==============================] - 0s 4ms/step - loss: 0.0045 - val_loss: 0.0139\n",
      "Epoch 12/500\n",
      "86/86 [==============================] - 0s 5ms/step - loss: 0.0052 - val_loss: 0.0076\n",
      "Epoch 13/500\n",
      "86/86 [==============================] - 0s 4ms/step - loss: 0.0030 - val_loss: 0.0065\n",
      "Epoch 14/500\n",
      "86/86 [==============================] - 0s 5ms/step - loss: 0.0032 - val_loss: 0.0203\n",
      "Epoch 15/500\n",
      "86/86 [==============================] - 0s 4ms/step - loss: 0.0042 - val_loss: 0.0065\n",
      "Epoch 16/500\n",
      "86/86 [==============================] - 0s 5ms/step - loss: 0.0027 - val_loss: 0.0088\n",
      "Epoch 17/500\n",
      "86/86 [==============================] - 0s 5ms/step - loss: 0.0032 - val_loss: 0.0068\n",
      "Epoch 18/500\n",
      "86/86 [==============================] - 0s 4ms/step - loss: 0.0023 - val_loss: 0.0042\n",
      "Epoch 19/500\n",
      "86/86 [==============================] - 0s 4ms/step - loss: 0.0024 - val_loss: 0.0057\n",
      "Epoch 20/500\n",
      "86/86 [==============================] - 0s 5ms/step - loss: 0.0019 - val_loss: 0.0093\n",
      "Epoch 21/500\n",
      "86/86 [==============================] - 0s 4ms/step - loss: 0.0019 - val_loss: 0.0050\n",
      "Epoch 22/500\n",
      "86/86 [==============================] - 0s 4ms/step - loss: 0.0022 - val_loss: 0.0100\n",
      "Epoch 23/500\n",
      "86/86 [==============================] - 0s 4ms/step - loss: 0.0017 - val_loss: 0.0063\n",
      "Epoch 24/500\n",
      "86/86 [==============================] - 0s 5ms/step - loss: 0.0019 - val_loss: 0.0044\n",
      "Epoch 25/500\n",
      "86/86 [==============================] - 0s 5ms/step - loss: 0.0018 - val_loss: 0.0038\n",
      "Epoch 26/500\n",
      "86/86 [==============================] - 1s 6ms/step - loss: 0.0020 - val_loss: 0.0046\n",
      "Epoch 27/500\n",
      "86/86 [==============================] - 0s 4ms/step - loss: 0.0020 - val_loss: 0.0066\n",
      "Epoch 28/500\n",
      "86/86 [==============================] - 0s 5ms/step - loss: 0.0019 - val_loss: 0.0029\n",
      "Epoch 29/500\n",
      "86/86 [==============================] - 0s 4ms/step - loss: 0.0016 - val_loss: 0.0050\n",
      "Epoch 30/500\n",
      "86/86 [==============================] - 0s 5ms/step - loss: 0.0013 - val_loss: 0.0105\n",
      "Epoch 31/500\n",
      "86/86 [==============================] - 0s 4ms/step - loss: 0.0021 - val_loss: 0.0044\n",
      "Epoch 32/500\n",
      "86/86 [==============================] - 0s 4ms/step - loss: 0.0016 - val_loss: 0.0034\n",
      "Epoch 33/500\n",
      "86/86 [==============================] - 0s 4ms/step - loss: 0.0023 - val_loss: 0.0036\n",
      "Epoch 34/500\n",
      "86/86 [==============================] - 0s 4ms/step - loss: 0.0013 - val_loss: 0.0118\n",
      "Epoch 35/500\n",
      "86/86 [==============================] - 0s 4ms/step - loss: 0.0020 - val_loss: 0.0045\n",
      "Epoch 36/500\n",
      "86/86 [==============================] - 0s 4ms/step - loss: 0.0013 - val_loss: 0.0057\n",
      "Epoch 37/500\n",
      "86/86 [==============================] - 0s 4ms/step - loss: 0.0013 - val_loss: 0.0082\n",
      "Epoch 38/500\n",
      "86/86 [==============================] - 0s 4ms/step - loss: 0.0026 - val_loss: 0.0035\n",
      "Epoch 39/500\n",
      "86/86 [==============================] - 0s 4ms/step - loss: 0.0016 - val_loss: 0.0049\n",
      "Epoch 40/500\n",
      "86/86 [==============================] - 0s 4ms/step - loss: 0.0019 - val_loss: 0.0042\n",
      "Epoch 41/500\n",
      "86/86 [==============================] - 0s 4ms/step - loss: 0.0014 - val_loss: 0.0057\n",
      "Epoch 42/500\n",
      "86/86 [==============================] - 0s 5ms/step - loss: 0.0017 - val_loss: 0.0032\n",
      "Epoch 43/500\n",
      "86/86 [==============================] - 0s 4ms/step - loss: 0.0015 - val_loss: 0.0036\n",
      "Epoch 44/500\n",
      "86/86 [==============================] - 0s 4ms/step - loss: 0.0014 - val_loss: 0.0031\n",
      "Epoch 45/500\n",
      "86/86 [==============================] - 0s 5ms/step - loss: 0.0012 - val_loss: 0.0119\n",
      "Epoch 46/500\n",
      "86/86 [==============================] - 0s 4ms/step - loss: 0.0020 - val_loss: 0.0083\n",
      "Epoch 47/500\n",
      "86/86 [==============================] - 0s 5ms/step - loss: 0.0017 - val_loss: 0.0037\n",
      "Epoch 48/500\n",
      "86/86 [==============================] - 0s 4ms/step - loss: 0.0018 - val_loss: 0.0038\n",
      "Epoch 49/500\n",
      "86/86 [==============================] - 0s 5ms/step - loss: 0.0015 - val_loss: 0.0051\n",
      "Epoch 50/500\n",
      "86/86 [==============================] - 0s 4ms/step - loss: 0.0013 - val_loss: 0.0037\n",
      "Epoch 51/500\n",
      "86/86 [==============================] - 0s 4ms/step - loss: 0.0015 - val_loss: 0.0154\n",
      "Epoch 52/500\n",
      "86/86 [==============================] - 0s 5ms/step - loss: 0.0019 - val_loss: 0.0066\n",
      "Epoch 53/500\n",
      "86/86 [==============================] - 0s 4ms/step - loss: 0.0012 - val_loss: 0.0034\n",
      "Epoch 54/500\n",
      "86/86 [==============================] - 0s 5ms/step - loss: 0.0014 - val_loss: 0.0052\n",
      "Epoch 55/500\n",
      "86/86 [==============================] - 0s 5ms/step - loss: 0.0016 - val_loss: 0.0034\n",
      "Epoch 56/500\n",
      "86/86 [==============================] - 0s 6ms/step - loss: 0.0017 - val_loss: 0.0052\n",
      "Epoch 57/500\n",
      "86/86 [==============================] - 0s 5ms/step - loss: 0.0014 - val_loss: 0.0038\n",
      "Epoch 58/500\n",
      "86/86 [==============================] - 1s 6ms/step - loss: 0.0013 - val_loss: 0.0036\n",
      "Epoch 00058: early stopping\n",
      "CPU times: user 40.6 s, sys: 3.37 s, total: 43.9 s\n",
      "Wall time: 24 s\n"
     ]
    }
   ],
   "source": [
    "%%time\n",
    "\n",
    "# Learning \n",
    "n_epochs = 500\n",
    "#n_epochs = 10\n",
    "val_split = 0.2\n",
    "batch_size = 1\n",
    "\n",
    "fit_log = model.fit(x, y, batch_size=batch_size, epochs=n_epochs,\n",
    "                    validation_split=val_split, callbacks=[es_cb])\n",
    "#fit_log = model.fit(x, y, batch_size=batch_size, epochs=n_epochs,\n",
    "#                    validation_split=val_split)"
   ]
  },
  {
   "cell_type": "markdown",
   "metadata": {},
   "source": [
    "#### Do prediction  "
   ]
  },
  {
   "cell_type": "code",
   "execution_count": 14,
   "metadata": {},
   "outputs": [
    {
     "name": "stdout",
     "output_type": "stream",
     "text": [
      "(108, 1)\n"
     ]
    }
   ],
   "source": [
    "# Against training data\n",
    "pred = model.predict(x)\n",
    "print(pred.shape)  # debug"
   ]
  },
  {
   "cell_type": "code",
   "execution_count": 15,
   "metadata": {},
   "outputs": [
    {
     "name": "stdout",
     "output_type": "stream",
     "text": [
      "(24, 1)\n",
      "[[0.51868132]\n",
      " [0.47032967]\n",
      " [0.56703297]\n",
      " [0.53626374]\n",
      " [0.56923077]\n",
      " [0.72747253]\n",
      " [0.85054945]\n",
      " [0.88131868]\n",
      " [0.65934066]\n",
      " [0.56043956]\n",
      " [0.45274725]\n",
      " [0.51208791]\n",
      " [0.56263736]\n",
      " [0.52307692]\n",
      " [0.66373626]\n",
      " [0.64175824]\n",
      " [0.69450549]\n",
      " [0.80879121]\n",
      " [0.97582418]\n",
      " [1.        ]\n",
      " [0.78901099]\n",
      " [0.66593407]\n",
      " [0.56703297]\n",
      " [0.66153846]]\n"
     ]
    }
   ],
   "source": [
    "# Future prediction\n",
    "future_test = passengers[n_months-w-n_test:n_months-n_test]\n",
    "future_test = future_test.values.reshape(future_test.shape[0],1)\n",
    "print(future_test.shape)\n",
    "print(future_test)  # debug"
   ]
  },
  {
   "cell_type": "code",
   "execution_count": 16,
   "metadata": {},
   "outputs": [],
   "source": [
    "future_result = []\n",
    "\n",
    "for i in range(n_test):\n",
    "    test_data = np.reshape(future_test, (1, w, 1))\n",
    "    #print(test_data.shape)  # debug\n",
    "    pred1 = model.predict(test_data)\n",
    "    future_test = np.delete(future_test, 0)\n",
    "    future_test = np.append(future_test, pred1)\n",
    "    future_result = np.append(future_result, pred1)"
   ]
  },
  {
   "cell_type": "markdown",
   "metadata": {},
   "source": [
    "#### Generalization performance  "
   ]
  },
  {
   "cell_type": "code",
   "execution_count": 17,
   "metadata": {},
   "outputs": [
    {
     "name": "stdout",
     "output_type": "stream",
     "text": [
      "mse= 0.0024857410642814552\n"
     ]
    }
   ],
   "source": [
    "mse = mean_squared_error(passengers[-n_test:], future_result)\n",
    "print('mse=', mse)"
   ]
  },
  {
   "cell_type": "markdown",
   "metadata": {},
   "source": [
    "#### Plot of the results   "
   ]
  },
  {
   "cell_type": "code",
   "execution_count": 18,
   "metadata": {},
   "outputs": [
    {
     "data": {
      "image/png": "[encoded data removed]",
      "text/plain": [
       "<Figure size 432x288 with 1 Axes>"
      ]
     },
     "metadata": {
      "needs_background": "light"
     },
     "output_type": "display_data"
    }
   ],
   "source": [
    "# Plot Wave    \n",
    "n_pass = len(passengers)\n",
    "n_pred = len(pred)\n",
    "n_future = len(future_result)\n",
    "plt.plot(range(0,n_pass), passengers, color=\"b\", label=\"raw\")\n",
    "plt.plot(range(w,w+n_pred), pred, color=\"r\", label=\"predict\")  \n",
    "plt.plot(range(n_pass-n_test,n_pass-n_test+n_future), future_result,\n",
    "         color=\"g\", label=\"future\") \n",
    "plt.xlabel('Month')\n",
    "plt.ylabel('#Passengers (k)')\n",
    "plt.legend()\n",
    "plt.show()"
   ]
  },
  {
   "cell_type": "code",
   "execution_count": 19,
   "metadata": {},
   "outputs": [
    {
     "data": {
      "image/png": "[encoded data removed]",
      "text/plain": [
       "<Figure size 432x288 with 1 Axes>"
      ]
     },
     "metadata": {
      "needs_background": "light"
     },
     "output_type": "display_data"
    }
   ],
   "source": [
    "# Plot Wave\n",
    "margin = 20\n",
    "n_pass = len(passengers)\n",
    "n_pred = len(pred)\n",
    "plt.plot(range(n_pass-n_test-margin,n_pass), passengers[-n_test-margin:],\n",
    "         color=\"b\", label=\"raw\")\n",
    "plt.plot(range(w+n_pred-margin,w+n_pred), pred[-margin:], color=\"r\", label=\"predict\")  \n",
    "plt.plot(range(n_pass-n_test,n_pass), future_result,\n",
    "         color=\"g\", label=\"future\") \n",
    "plt.xlabel('Month')\n",
    "plt.ylabel('#Passengers (k)')\n",
    "plt.legend()\n",
    "plt.show()"
   ]
  },
  {
   "cell_type": "markdown",
   "metadata": {},
   "source": [
    "#### Plot of the log during the training  "
   ]
  },
  {
   "cell_type": "code",
   "execution_count": 20,
   "metadata": {},
   "outputs": [
    {
     "data": {
      "image/png": "[encoded data removed]",
      "text/plain": [
       "<Figure size 432x288 with 1 Axes>"
      ]
     },
     "metadata": {
      "needs_background": "light"
     },
     "output_type": "display_data"
    }
   ],
   "source": [
    "# Plot Training loss & Validation Loss\n",
    "loss = fit_log.history[\"loss\"]\n",
    "val_loss = fit_log.history[\"val_loss\"]\n",
    "epochs = range(1, len(loss) + 1)\n",
    "plt.plot(epochs, loss, label=\"loss\" )\n",
    "plt.plot(epochs, val_loss, label=\"val_loss\")\n",
    "plt.title(\"Training and Validation loss\")\n",
    "plt.xlabel('Epoch')\n",
    "plt.ylabel('Loss / Val_loss')\n",
    "plt.legend()\n",
    "plt.show()"
   ]
  },
  {
   "cell_type": "code",
   "execution_count": null,
   "metadata": {},
   "outputs": [],
   "source": []
  }
 ],
 "metadata": {
  "interpreter": {
   "hash": "94fe86e276e5519dc36e122582d8572f7eaf1f8991f68af5b2411b758f5160ae"
  },
  "kernelspec": {
   "display_name": "Python 3.8.10 64-bit ('ds2021': conda)",
   "name": "python3"
  },
  "language_info": {
   "codemirror_mode": {
    "name": "ipython",
    "version": 3
   },
   "file_extension": ".py",
   "mimetype": "text/x-python",
   "name": "python",
   "nbconvert_exporter": "python",
   "pygments_lexer": "ipython3",
   "version": "3.8.10"
  }
 },
 "nbformat": 4,
 "nbformat_minor": 4
}
