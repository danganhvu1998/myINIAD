{
 "cells": [
  {
   "cell_type": "markdown",
   "metadata": {},
   "source": [
    "### Sample program for LSTM  \n",
    "https://www.kaggle.com/andreazzini/international-airline-passengers"
   ]
  },
  {
   "cell_type": "markdown",
   "metadata": {},
   "source": [
    "#### Import libraries  "
   ]
  },
  {
   "cell_type": "code",
   "execution_count": 15,
   "metadata": {},
   "outputs": [],
   "source": [
    "import numpy as np\n",
    "import pandas as pd\n",
    "import matplotlib.pyplot as plt\n",
    "import tensorflow as tf\n",
    "from tensorflow.keras.models import Sequential\n",
    "from tensorflow.keras.layers import Dense, LSTM\n",
    "from tensorflow.keras.callbacks import EarlyStopping\n",
    "from sklearn.metrics import mean_squared_error"
   ]
  },
  {
   "cell_type": "markdown",
   "metadata": {},
   "source": [
    "#### Parameters  "
   ]
  },
  {
   "cell_type": "code",
   "execution_count": 16,
   "metadata": {},
   "outputs": [],
   "source": [
    "np.random.seed(11)\n",
    "tf.random.set_seed(11)\n",
    "\n",
    "# To show more rows and columns without \"...\"\n",
    "pd.options.display.max_columns=999\n",
    "pd.options.display.max_rows=999"
   ]
  },
  {
   "cell_type": "markdown",
   "metadata": {},
   "source": [
    "#### Read CSV file  "
   ]
  },
  {
   "cell_type": "code",
   "execution_count": 17,
   "metadata": {},
   "outputs": [
    {
     "name": "stdout",
     "output_type": "stream",
     "text": [
      "(117, 5)\n",
      "<class 'pandas.core.frame.DataFrame'>\n",
      "RangeIndex: 117 entries, 0 to 116\n",
      "Data columns (total 5 columns):\n",
      " #   Column  Non-Null Count  Dtype  \n",
      "---  ------  --------------  -----  \n",
      " 0   month   117 non-null    object \n",
      " 1   x1      117 non-null    float64\n",
      " 2   x2      117 non-null    float64\n",
      " 3   x3      117 non-null    int64  \n",
      " 4   x4      117 non-null    int64  \n",
      "dtypes: float64(2), int64(2), object(1)\n",
      "memory usage: 4.7+ KB\n",
      "None\n"
     ]
    },
    {
     "data": {
      "text/html": [
       "<div>\n",
       "<style scoped>\n",
       "    .dataframe tbody tr th:only-of-type {\n",
       "        vertical-align: middle;\n",
       "    }\n",
       "\n",
       "    .dataframe tbody tr th {\n",
       "        vertical-align: top;\n",
       "    }\n",
       "\n",
       "    .dataframe thead th {\n",
       "        text-align: right;\n",
       "    }\n",
       "</style>\n",
       "<table border=\"1\" class=\"dataframe\">\n",
       "  <thead>\n",
       "    <tr style=\"text-align: right;\">\n",
       "      <th></th>\n",
       "      <th>month</th>\n",
       "      <th>x1</th>\n",
       "      <th>x2</th>\n",
       "      <th>x3</th>\n",
       "      <th>x4</th>\n",
       "    </tr>\n",
       "  </thead>\n",
       "  <tbody>\n",
       "    <tr>\n",
       "      <th>0</th>\n",
       "      <td>2003-1</td>\n",
       "      <td>9.3</td>\n",
       "      <td>101.0</td>\n",
       "      <td>46</td>\n",
       "      <td>0</td>\n",
       "    </tr>\n",
       "    <tr>\n",
       "      <th>1</th>\n",
       "      <td>2003-2</td>\n",
       "      <td>9.9</td>\n",
       "      <td>53.5</td>\n",
       "      <td>52</td>\n",
       "      <td>0</td>\n",
       "    </tr>\n",
       "    <tr>\n",
       "      <th>2</th>\n",
       "      <td>2003-3</td>\n",
       "      <td>12.7</td>\n",
       "      <td>159.5</td>\n",
       "      <td>49</td>\n",
       "      <td>0</td>\n",
       "    </tr>\n",
       "    <tr>\n",
       "      <th>3</th>\n",
       "      <td>2003-4</td>\n",
       "      <td>19.2</td>\n",
       "      <td>121.0</td>\n",
       "      <td>61</td>\n",
       "      <td>3</td>\n",
       "    </tr>\n",
       "    <tr>\n",
       "      <th>4</th>\n",
       "      <td>2003-5</td>\n",
       "      <td>22.4</td>\n",
       "      <td>172.5</td>\n",
       "      <td>65</td>\n",
       "      <td>7</td>\n",
       "    </tr>\n",
       "  </tbody>\n",
       "</table>\n",
       "</div>"
      ],
      "text/plain": [
       "    month    x1     x2  x3  x4\n",
       "0  2003-1   9.3  101.0  46   0\n",
       "1  2003-2   9.9   53.5  52   0\n",
       "2  2003-3  12.7  159.5  49   0\n",
       "3  2003-4  19.2  121.0  61   3\n",
       "4  2003-5  22.4  172.5  65   7"
      ]
     },
     "metadata": {},
     "output_type": "display_data"
    },
    {
     "data": {
      "text/html": [
       "<div>\n",
       "<style scoped>\n",
       "    .dataframe tbody tr th:only-of-type {\n",
       "        vertical-align: middle;\n",
       "    }\n",
       "\n",
       "    .dataframe tbody tr th {\n",
       "        vertical-align: top;\n",
       "    }\n",
       "\n",
       "    .dataframe thead th {\n",
       "        text-align: right;\n",
       "    }\n",
       "</style>\n",
       "<table border=\"1\" class=\"dataframe\">\n",
       "  <thead>\n",
       "    <tr style=\"text-align: right;\">\n",
       "      <th></th>\n",
       "      <th>month</th>\n",
       "      <th>x1</th>\n",
       "      <th>x2</th>\n",
       "      <th>x3</th>\n",
       "      <th>x4</th>\n",
       "    </tr>\n",
       "  </thead>\n",
       "  <tbody>\n",
       "    <tr>\n",
       "      <th>112</th>\n",
       "      <td>2012-5</td>\n",
       "      <td>23.6</td>\n",
       "      <td>231.0</td>\n",
       "      <td>65</td>\n",
       "      <td>12</td>\n",
       "    </tr>\n",
       "    <tr>\n",
       "      <th>113</th>\n",
       "      <td>2012-6</td>\n",
       "      <td>24.8</td>\n",
       "      <td>185.0</td>\n",
       "      <td>73</td>\n",
       "      <td>15</td>\n",
       "    </tr>\n",
       "    <tr>\n",
       "      <th>114</th>\n",
       "      <td>2012-7</td>\n",
       "      <td>30.1</td>\n",
       "      <td>130.0</td>\n",
       "      <td>75</td>\n",
       "      <td>27</td>\n",
       "    </tr>\n",
       "    <tr>\n",
       "      <th>115</th>\n",
       "      <td>2012-8</td>\n",
       "      <td>33.1</td>\n",
       "      <td>25.0</td>\n",
       "      <td>69</td>\n",
       "      <td>31</td>\n",
       "    </tr>\n",
       "    <tr>\n",
       "      <th>116</th>\n",
       "      <td>2012-9</td>\n",
       "      <td>29.8</td>\n",
       "      <td>214.5</td>\n",
       "      <td>73</td>\n",
       "      <td>27</td>\n",
       "    </tr>\n",
       "  </tbody>\n",
       "</table>\n",
       "</div>"
      ],
      "text/plain": [
       "      month    x1     x2  x3  x4\n",
       "112  2012-5  23.6  231.0  65  12\n",
       "113  2012-6  24.8  185.0  73  15\n",
       "114  2012-7  30.1  130.0  75  27\n",
       "115  2012-8  33.1   25.0  69  31\n",
       "116  2012-9  29.8  214.5  73  27"
      ]
     },
     "metadata": {},
     "output_type": "display_data"
    }
   ],
   "source": [
    "# read data\n",
    "df = pd.read_csv('tokyo-weather-2003-2012-utf8.csv',\n",
    "                 delimiter=',',skiprows=6, header=None,\n",
    "                 skipfooter=3, engine='python')\n",
    "df.columns=['month', 'x1', 'x2', 'x3', 'x4']\n",
    "print(df.shape)\n",
    "print(df.info())\n",
    "display(df.head())\n",
    "display(df.tail())"
   ]
  },
  {
   "cell_type": "markdown",
   "metadata": {},
   "source": [
    "#### Convert datatype of Month column to 'datetime'  "
   ]
  },
  {
   "cell_type": "code",
   "execution_count": 18,
   "metadata": {},
   "outputs": [
    {
     "name": "stdout",
     "output_type": "stream",
     "text": [
      "<class 'pandas.core.frame.DataFrame'>\n",
      "RangeIndex: 117 entries, 0 to 116\n",
      "Data columns (total 5 columns):\n",
      " #   Column  Non-Null Count  Dtype         \n",
      "---  ------  --------------  -----         \n",
      " 0   month   117 non-null    datetime64[ns]\n",
      " 1   x1      117 non-null    float64       \n",
      " 2   x2      117 non-null    float64       \n",
      " 3   x3      117 non-null    int64         \n",
      " 4   x4      117 non-null    int64         \n",
      "dtypes: datetime64[ns](1), float64(2), int64(2)\n",
      "memory usage: 4.7 KB\n",
      "None\n"
     ]
    },
    {
     "data": {
      "text/html": [
       "<div>\n",
       "<style scoped>\n",
       "    .dataframe tbody tr th:only-of-type {\n",
       "        vertical-align: middle;\n",
       "    }\n",
       "\n",
       "    .dataframe tbody tr th {\n",
       "        vertical-align: top;\n",
       "    }\n",
       "\n",
       "    .dataframe thead th {\n",
       "        text-align: right;\n",
       "    }\n",
       "</style>\n",
       "<table border=\"1\" class=\"dataframe\">\n",
       "  <thead>\n",
       "    <tr style=\"text-align: right;\">\n",
       "      <th></th>\n",
       "      <th>month</th>\n",
       "      <th>x1</th>\n",
       "      <th>x2</th>\n",
       "      <th>x3</th>\n",
       "      <th>x4</th>\n",
       "    </tr>\n",
       "  </thead>\n",
       "  <tbody>\n",
       "    <tr>\n",
       "      <th>0</th>\n",
       "      <td>2003-01-01</td>\n",
       "      <td>9.3</td>\n",
       "      <td>101.0</td>\n",
       "      <td>46</td>\n",
       "      <td>0</td>\n",
       "    </tr>\n",
       "    <tr>\n",
       "      <th>1</th>\n",
       "      <td>2003-02-01</td>\n",
       "      <td>9.9</td>\n",
       "      <td>53.5</td>\n",
       "      <td>52</td>\n",
       "      <td>0</td>\n",
       "    </tr>\n",
       "    <tr>\n",
       "      <th>2</th>\n",
       "      <td>2003-03-01</td>\n",
       "      <td>12.7</td>\n",
       "      <td>159.5</td>\n",
       "      <td>49</td>\n",
       "      <td>0</td>\n",
       "    </tr>\n",
       "    <tr>\n",
       "      <th>3</th>\n",
       "      <td>2003-04-01</td>\n",
       "      <td>19.2</td>\n",
       "      <td>121.0</td>\n",
       "      <td>61</td>\n",
       "      <td>3</td>\n",
       "    </tr>\n",
       "    <tr>\n",
       "      <th>4</th>\n",
       "      <td>2003-05-01</td>\n",
       "      <td>22.4</td>\n",
       "      <td>172.5</td>\n",
       "      <td>65</td>\n",
       "      <td>7</td>\n",
       "    </tr>\n",
       "  </tbody>\n",
       "</table>\n",
       "</div>"
      ],
      "text/plain": [
       "       month    x1     x2  x3  x4\n",
       "0 2003-01-01   9.3  101.0  46   0\n",
       "1 2003-02-01   9.9   53.5  52   0\n",
       "2 2003-03-01  12.7  159.5  49   0\n",
       "3 2003-04-01  19.2  121.0  61   3\n",
       "4 2003-05-01  22.4  172.5  65   7"
      ]
     },
     "metadata": {},
     "output_type": "display_data"
    }
   ],
   "source": [
    "df['month'] = pd.to_datetime(df['month'])\n",
    "# df['passengers(k)'] = df['passengers(k)'].astype('float')\n",
    "print(df.info())\n",
    "display(df.head())"
   ]
  },
  {
   "cell_type": "markdown",
   "metadata": {},
   "source": [
    "#### Time series plot  "
   ]
  },
  {
   "cell_type": "code",
   "execution_count": 19,
   "metadata": {},
   "outputs": [
    {
     "data": {
      "image/png": "[encoded data removed]",
      "text/plain": [
       "<Figure size 432x288 with 1 Axes>"
      ]
     },
     "metadata": {
      "needs_background": "light"
     },
     "output_type": "display_data"
    }
   ],
   "source": [
    "plt.plot(df['month'], df['x1'])\n",
    "plt.xlabel('Month')\n",
    "plt.ylabel('x1')\n",
    "plt.show()"
   ]
  },
  {
   "cell_type": "markdown",
   "metadata": {},
   "source": [
    "#### Set parameters for training / prediction  "
   ]
  },
  {
   "cell_type": "code",
   "execution_count": 20,
   "metadata": {},
   "outputs": [],
   "source": [
    "w = 24\n",
    "n_test = 12"
   ]
  },
  {
   "cell_type": "code",
   "execution_count": 21,
   "metadata": {},
   "outputs": [
    {
     "name": "stdout",
     "output_type": "stream",
     "text": [
      "(117,)\n",
      "0     9.3\n",
      "1     9.9\n",
      "2    12.7\n",
      "3    19.2\n",
      "4    22.4\n",
      "Name: x1, dtype: float64\n"
     ]
    }
   ],
   "source": [
    "passengers = df['x1']\n",
    "print(passengers.shape)\n",
    "print(passengers.head())"
   ]
  },
  {
   "cell_type": "markdown",
   "metadata": {},
   "source": [
    "#### Standardization of training data  "
   ]
  },
  {
   "cell_type": "code",
   "execution_count": 22,
   "metadata": {},
   "outputs": [],
   "source": [
    "xmin = np.amin(passengers[:-n_test])\n",
    "xmax = np.amax(passengers[:-n_test])\n",
    "scale = xmax-xmin\n",
    "passengers = (passengers-xmin)/scale"
   ]
  },
  {
   "cell_type": "markdown",
   "metadata": {},
   "source": [
    "#### Prepare for windows of training / test data  "
   ]
  },
  {
   "cell_type": "code",
   "execution_count": 23,
   "metadata": {},
   "outputs": [
    {
     "name": "stdout",
     "output_type": "stream",
     "text": [
      "[[0.032 0.056 0.168 0.428 0.556 0.724 0.7   0.84  0.784 0.516 0.356 0.188\n",
      "  0.064 0.176 0.22  0.512 0.608 0.76  0.984 0.9   0.808 0.488 0.42  0.196]\n",
      " [0.056 0.168 0.428 0.556 0.724 0.7   0.84  0.784 0.516 0.356 0.188 0.064\n",
      "  0.176 0.22  0.512 0.608 0.76  0.984 0.9   0.808 0.488 0.42  0.196 0.06 ]\n",
      " [0.168 0.428 0.556 0.724 0.7   0.84  0.784 0.516 0.356 0.188 0.064 0.176\n",
      "  0.22  0.512 0.608 0.76  0.984 0.9   0.808 0.488 0.42  0.196 0.06  0.056]]\n",
      "[0.06  0.056 0.184]\n"
     ]
    }
   ],
   "source": [
    "x = []\n",
    "y = []\n",
    "n_months = passengers.shape[0]\n",
    "for i in range(0, n_months-w-n_test):\n",
    "    x.append(passengers[i:i+w])\n",
    "    y.append(passengers[i+w])\n",
    "x = np.array(x)\n",
    "y = np.array(y)\n",
    "print(x[:3])  # debug\n",
    "print(y[:3])  # debug"
   ]
  },
  {
   "cell_type": "markdown",
   "metadata": {},
   "source": [
    "#### Reshape to fit the input of LSTM  "
   ]
  },
  {
   "cell_type": "code",
   "execution_count": 24,
   "metadata": {},
   "outputs": [
    {
     "name": "stdout",
     "output_type": "stream",
     "text": [
      "(81, 24, 1)\n",
      "(81, 1)\n",
      "[[[0.032]\n",
      "  [0.056]\n",
      "  [0.168]\n",
      "  ...\n",
      "  [0.488]\n",
      "  [0.42 ]\n",
      "  [0.196]]\n",
      "\n",
      " [[0.056]\n",
      "  [0.168]\n",
      "  [0.428]\n",
      "  ...\n",
      "  [0.42 ]\n",
      "  [0.196]\n",
      "  [0.06 ]]\n",
      "\n",
      " [[0.168]\n",
      "  [0.428]\n",
      "  [0.556]\n",
      "  ...\n",
      "  [0.196]\n",
      "  [0.06 ]\n",
      "  [0.056]]\n",
      "\n",
      " ...\n",
      "\n",
      " [[0.832]\n",
      "  [0.864]\n",
      "  [0.72 ]\n",
      "  ...\n",
      "  [0.416]\n",
      "  [0.548]\n",
      "  [0.7  ]]\n",
      "\n",
      " [[0.864]\n",
      "  [0.72 ]\n",
      "  [0.552]\n",
      "  ...\n",
      "  [0.548]\n",
      "  [0.7  ]\n",
      "  [0.896]]\n",
      "\n",
      " [[0.72 ]\n",
      "  [0.552]\n",
      "  [0.34 ]\n",
      "  ...\n",
      "  [0.7  ]\n",
      "  [0.896]\n",
      "  [0.908]]]\n"
     ]
    }
   ],
   "source": [
    "x = x.reshape(-1, w, 1)\n",
    "y = y.reshape(-1, 1)\n",
    "print(x.shape)\n",
    "print(y.shape)\n",
    "print(x)"
   ]
  },
  {
   "cell_type": "markdown",
   "metadata": {},
   "source": [
    "#### Model building  "
   ]
  },
  {
   "cell_type": "code",
   "execution_count": 25,
   "metadata": {},
   "outputs": [
    {
     "name": "stderr",
     "output_type": "stream",
     "text": [
      "2021-10-09 16:06:54.100009: W tensorflow/stream_executor/platform/default/dso_loader.cc:64] Could not load dynamic library 'libcuda.so.1'; dlerror: libcuda.so.1: cannot open shared object file: No such file or directory\n",
      "2021-10-09 16:06:54.100171: W tensorflow/stream_executor/cuda/cuda_driver.cc:269] failed call to cuInit: UNKNOWN ERROR (303)\n",
      "2021-10-09 16:06:54.100203: I tensorflow/stream_executor/cuda/cuda_diagnostics.cc:156] kernel driver does not appear to be running on this host (anhvu): /proc/driver/nvidia/version does not exist\n",
      "2021-10-09 16:06:54.100563: I tensorflow/core/platform/cpu_feature_guard.cc:142] This TensorFlow binary is optimized with oneAPI Deep Neural Network Library (oneDNN) to use the following CPU instructions in performance-critical operations:  AVX2 AVX512F FMA\n",
      "To enable them in other operations, rebuild TensorFlow with the appropriate compiler flags.\n"
     ]
    },
    {
     "name": "stdout",
     "output_type": "stream",
     "text": [
      "Model: \"sequential\"\n",
      "_________________________________________________________________\n",
      "Layer (type)                 Output Shape              Param #   \n",
      "=================================================================\n",
      "lstm (LSTM)                  (None, 100)               40800     \n",
      "_________________________________________________________________\n",
      "dense (Dense)                (None, 1)                 101       \n",
      "=================================================================\n",
      "Total params: 40,901\n",
      "Trainable params: 40,901\n",
      "Non-trainable params: 0\n",
      "_________________________________________________________________\n"
     ]
    }
   ],
   "source": [
    "n_out = 1\n",
    "n_hidden = 100\n",
    "\n",
    "# early stopping and model checkpoint\n",
    "es_cb = EarlyStopping(monitor='val_loss',\n",
    "                      patience=30, verbose=1, mode='auto')\n",
    "\n",
    "model = Sequential()\n",
    "model.add(LSTM(n_hidden, input_shape=(w, 1), return_sequences=False))\n",
    "model.add(Dense(n_out, activation='linear'))\n",
    "\n",
    "model.summary()"
   ]
  },
  {
   "cell_type": "code",
   "execution_count": 26,
   "metadata": {},
   "outputs": [],
   "source": [
    "model.compile(loss=\"mean_squared_error\", optimizer='adam')"
   ]
  },
  {
   "cell_type": "markdown",
   "metadata": {},
   "source": [
    "#### Training  "
   ]
  },
  {
   "cell_type": "code",
   "execution_count": 27,
   "metadata": {},
   "outputs": [
    {
     "name": "stdout",
     "output_type": "stream",
     "text": [
      "Epoch 1/500\n"
     ]
    },
    {
     "name": "stderr",
     "output_type": "stream",
     "text": [
      "2021-10-09 16:06:54.391214: I tensorflow/compiler/mlir/mlir_graph_optimization_pass.cc:185] None of the MLIR Optimization Passes are enabled (registered 2)\n"
     ]
    },
    {
     "name": "stdout",
     "output_type": "stream",
     "text": [
      "64/64 [==============================] - 2s 11ms/step - loss: 0.1186 - val_loss: 0.1604\n",
      "Epoch 2/500\n",
      "64/64 [==============================] - 0s 5ms/step - loss: 0.0832 - val_loss: 0.0862\n",
      "Epoch 3/500\n",
      "64/64 [==============================] - 0s 4ms/step - loss: 0.0419 - val_loss: 0.0046\n",
      "Epoch 4/500\n",
      "64/64 [==============================] - 0s 5ms/step - loss: 0.0130 - val_loss: 0.0091\n",
      "Epoch 5/500\n",
      "64/64 [==============================] - 0s 5ms/step - loss: 0.0052 - val_loss: 0.0042\n",
      "Epoch 6/500\n",
      "64/64 [==============================] - 0s 4ms/step - loss: 0.0050 - val_loss: 0.0025\n",
      "Epoch 7/500\n",
      "64/64 [==============================] - 0s 5ms/step - loss: 0.0036 - val_loss: 0.0133\n",
      "Epoch 8/500\n",
      "64/64 [==============================] - 0s 4ms/step - loss: 0.0040 - val_loss: 0.0032\n",
      "Epoch 9/500\n",
      "64/64 [==============================] - 0s 5ms/step - loss: 0.0043 - val_loss: 0.0034\n",
      "Epoch 10/500\n",
      "64/64 [==============================] - 0s 5ms/step - loss: 0.0039 - val_loss: 0.0097\n",
      "Epoch 11/500\n",
      "64/64 [==============================] - 0s 5ms/step - loss: 0.0050 - val_loss: 0.0035\n",
      "Epoch 12/500\n",
      "64/64 [==============================] - 0s 5ms/step - loss: 0.0035 - val_loss: 0.0053\n",
      "Epoch 13/500\n",
      "64/64 [==============================] - 0s 5ms/step - loss: 0.0038 - val_loss: 0.0061\n",
      "Epoch 14/500\n",
      "64/64 [==============================] - 0s 5ms/step - loss: 0.0040 - val_loss: 0.0040\n",
      "Epoch 15/500\n",
      "64/64 [==============================] - 0s 6ms/step - loss: 0.0040 - val_loss: 0.0054\n",
      "Epoch 16/500\n",
      "64/64 [==============================] - 0s 6ms/step - loss: 0.0035 - val_loss: 0.0033\n",
      "Epoch 17/500\n",
      "64/64 [==============================] - 0s 5ms/step - loss: 0.0031 - val_loss: 0.0038\n",
      "Epoch 18/500\n",
      "64/64 [==============================] - 0s 6ms/step - loss: 0.0038 - val_loss: 0.0031\n",
      "Epoch 19/500\n",
      "64/64 [==============================] - 0s 7ms/step - loss: 0.0039 - val_loss: 0.0040\n",
      "Epoch 20/500\n",
      "64/64 [==============================] - 0s 5ms/step - loss: 0.0029 - val_loss: 0.0036\n",
      "Epoch 21/500\n",
      "64/64 [==============================] - 0s 5ms/step - loss: 0.0054 - val_loss: 0.0026\n",
      "Epoch 22/500\n",
      "64/64 [==============================] - 0s 5ms/step - loss: 0.0036 - val_loss: 0.0044\n",
      "Epoch 23/500\n",
      "64/64 [==============================] - 0s 5ms/step - loss: 0.0026 - val_loss: 0.0048\n",
      "Epoch 24/500\n",
      "64/64 [==============================] - 0s 5ms/step - loss: 0.0028 - val_loss: 0.0044\n",
      "Epoch 25/500\n",
      "64/64 [==============================] - 0s 6ms/step - loss: 0.0040 - val_loss: 0.0042\n",
      "Epoch 26/500\n",
      "64/64 [==============================] - 0s 6ms/step - loss: 0.0031 - val_loss: 0.0069\n",
      "Epoch 27/500\n",
      "64/64 [==============================] - 0s 6ms/step - loss: 0.0036 - val_loss: 0.0025\n",
      "Epoch 28/500\n",
      "64/64 [==============================] - 0s 5ms/step - loss: 0.0041 - val_loss: 0.0035\n",
      "Epoch 29/500\n",
      "64/64 [==============================] - 0s 5ms/step - loss: 0.0033 - val_loss: 0.0043\n",
      "Epoch 30/500\n",
      "64/64 [==============================] - 0s 5ms/step - loss: 0.0029 - val_loss: 0.0053\n",
      "Epoch 31/500\n",
      "64/64 [==============================] - 0s 5ms/step - loss: 0.0044 - val_loss: 0.0030\n",
      "Epoch 32/500\n",
      "64/64 [==============================] - 0s 5ms/step - loss: 0.0039 - val_loss: 0.0057\n",
      "Epoch 33/500\n",
      "64/64 [==============================] - 0s 6ms/step - loss: 0.0028 - val_loss: 0.0032\n",
      "Epoch 34/500\n",
      "64/64 [==============================] - 0s 5ms/step - loss: 0.0028 - val_loss: 0.0044\n",
      "Epoch 35/500\n",
      "64/64 [==============================] - 0s 5ms/step - loss: 0.0038 - val_loss: 0.0064\n",
      "Epoch 36/500\n",
      "64/64 [==============================] - 0s 5ms/step - loss: 0.0038 - val_loss: 0.0055\n",
      "Epoch 00036: early stopping\n",
      "CPU times: user 22.7 s, sys: 1.71 s, total: 24.5 s\n",
      "Wall time: 13.5 s\n"
     ]
    }
   ],
   "source": [
    "%%time\n",
    "\n",
    "# Learning \n",
    "n_epochs = 500\n",
    "#n_epochs = 10\n",
    "val_split = 0.2\n",
    "batch_size = 1\n",
    "\n",
    "fit_log = model.fit(x, y, batch_size=batch_size, epochs=n_epochs,\n",
    "                    validation_split=val_split, callbacks=[es_cb])\n",
    "#fit_log = model.fit(x, y, batch_size=batch_size, epochs=n_epochs,\n",
    "#                    validation_split=val_split)"
   ]
  },
  {
   "cell_type": "markdown",
   "metadata": {},
   "source": [
    "#### Do prediction  "
   ]
  },
  {
   "cell_type": "code",
   "execution_count": 28,
   "metadata": {},
   "outputs": [
    {
     "name": "stdout",
     "output_type": "stream",
     "text": [
      "(81, 1)\n"
     ]
    }
   ],
   "source": [
    "# Against training data\n",
    "pred = model.predict(x)\n",
    "print(pred.shape)  # debug"
   ]
  },
  {
   "cell_type": "code",
   "execution_count": 29,
   "metadata": {},
   "outputs": [
    {
     "name": "stdout",
     "output_type": "stream",
     "text": [
      "(24, 1)\n",
      "[[0.552]\n",
      " [0.34 ]\n",
      " [0.156]\n",
      " [0.1  ]\n",
      " [0.056]\n",
      " [0.188]\n",
      " [0.324]\n",
      " [0.58 ]\n",
      " [0.76 ]\n",
      " [0.924]\n",
      " [1.   ]\n",
      " [0.82 ]\n",
      " [0.532]\n",
      " [0.348]\n",
      " [0.208]\n",
      " [0.024]\n",
      " [0.108]\n",
      " [0.152]\n",
      " [0.416]\n",
      " [0.548]\n",
      " [0.7  ]\n",
      " [0.896]\n",
      " [0.908]\n",
      " [0.812]]\n"
     ]
    }
   ],
   "source": [
    "# Future prediction\n",
    "future_test = passengers[n_months-w-n_test:n_months-n_test]\n",
    "future_test = future_test.values.reshape(future_test.shape[0],1)\n",
    "print(future_test.shape)\n",
    "print(future_test)  # debug"
   ]
  },
  {
   "cell_type": "code",
   "execution_count": 30,
   "metadata": {},
   "outputs": [],
   "source": [
    "future_result = []\n",
    "\n",
    "for i in range(n_test):\n",
    "    test_data = np.reshape(future_test, (1, w, 1))\n",
    "    #print(test_data.shape)  # debug\n",
    "    pred1 = model.predict(test_data)\n",
    "    future_test = np.delete(future_test, 0)\n",
    "    future_test = np.append(future_test, pred1)\n",
    "    future_result = np.append(future_result, pred1)"
   ]
  },
  {
   "cell_type": "markdown",
   "metadata": {},
   "source": [
    "#### Generalization performance  "
   ]
  },
  {
   "cell_type": "code",
   "execution_count": 31,
   "metadata": {},
   "outputs": [
    {
     "name": "stdout",
     "output_type": "stream",
     "text": [
      "mse= 0.008454960281578133\n"
     ]
    }
   ],
   "source": [
    "mse = mean_squared_error(passengers[-n_test:], future_result)\n",
    "print('mse=', mse)"
   ]
  },
  {
   "cell_type": "markdown",
   "metadata": {},
   "source": [
    "#### Plot of the results   "
   ]
  },
  {
   "cell_type": "code",
   "execution_count": 32,
   "metadata": {},
   "outputs": [
    {
     "data": {
      "image/png": "[encoded data removed]",
      "text/plain": [
       "<Figure size 432x288 with 1 Axes>"
      ]
     },
     "metadata": {
      "needs_background": "light"
     },
     "output_type": "display_data"
    }
   ],
   "source": [
    "# Plot Wave    \n",
    "n_pass = len(passengers)\n",
    "n_pred = len(pred)\n",
    "n_future = len(future_result)\n",
    "plt.plot(range(0,n_pass), passengers, color=\"b\", label=\"raw\")\n",
    "plt.plot(range(w,w+n_pred), pred, color=\"r\", label=\"predict\")  \n",
    "plt.plot(range(n_pass-n_test,n_pass-n_test+n_future), future_result,\n",
    "         color=\"g\", label=\"future\") \n",
    "plt.xlabel('Month')\n",
    "plt.ylabel('#Passengers (k)')\n",
    "plt.legend()\n",
    "plt.show()"
   ]
  },
  {
   "cell_type": "code",
   "execution_count": 33,
   "metadata": {},
   "outputs": [
    {
     "data": {
      "image/png": "[encoded data removed]",
      "text/plain": [
       "<Figure size 432x288 with 1 Axes>"
      ]
     },
     "metadata": {
      "needs_background": "light"
     },
     "output_type": "display_data"
    }
   ],
   "source": [
    "# Plot Wave\n",
    "margin = 20\n",
    "n_pass = len(passengers)\n",
    "n_pred = len(pred)\n",
    "plt.plot(range(n_pass-n_test-margin,n_pass), passengers[-n_test-margin:],\n",
    "         color=\"b\", label=\"raw\")\n",
    "plt.plot(range(w+n_pred-margin,w+n_pred), pred[-margin:], color=\"r\", label=\"predict\")  \n",
    "plt.plot(range(n_pass-n_test,n_pass), future_result,\n",
    "         color=\"g\", label=\"future\") \n",
    "plt.xlabel('Month')\n",
    "plt.ylabel('#Passengers (k)')\n",
    "plt.legend()\n",
    "plt.show()"
   ]
  },
  {
   "cell_type": "markdown",
   "metadata": {},
   "source": [
    "#### Plot of the log during the training  "
   ]
  },
  {
   "cell_type": "code",
   "execution_count": 34,
   "metadata": {},
   "outputs": [
    {
     "data": {
      "image/png": "[encoded data removed]",
      "text/plain": [
       "<Figure size 432x288 with 1 Axes>"
      ]
     },
     "metadata": {
      "needs_background": "light"
     },
     "output_type": "display_data"
    }
   ],
   "source": [
    "# Plot Training loss & Validation Loss\n",
    "loss = fit_log.history[\"loss\"]\n",
    "val_loss = fit_log.history[\"val_loss\"]\n",
    "epochs = range(1, len(loss) + 1)\n",
    "plt.plot(epochs, loss, label=\"loss\" )\n",
    "plt.plot(epochs, val_loss, label=\"val_loss\")\n",
    "plt.title(\"Training and Validation loss\")\n",
    "plt.xlabel('Epoch')\n",
    "plt.ylabel('Loss / Val_loss')\n",
    "plt.legend()\n",
    "plt.show()"
   ]
  },
  {
   "cell_type": "code",
   "execution_count": null,
   "metadata": {},
   "outputs": [],
   "source": []
  }
 ],
 "metadata": {
  "interpreter": {
   "hash": "94fe86e276e5519dc36e122582d8572f7eaf1f8991f68af5b2411b758f5160ae"
  },
  "kernelspec": {
   "display_name": "Python 3.8.10 64-bit ('ds2021': conda)",
   "name": "python3"
  },
  "language_info": {
   "codemirror_mode": {
    "name": "ipython",
    "version": 3
   },
   "file_extension": ".py",
   "mimetype": "text/x-python",
   "name": "python",
   "nbconvert_exporter": "python",
   "pygments_lexer": "ipython3",
   "version": "3.8.10"
  }
 },
 "nbformat": 4,
 "nbformat_minor": 4
}
