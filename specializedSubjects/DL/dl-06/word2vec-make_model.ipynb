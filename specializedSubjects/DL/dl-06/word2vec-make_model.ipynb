{
 "cells": [
  {
   "cell_type": "markdown",
   "metadata": {},
   "source": [
    "### Sample program to make word2vec model using gensim  \n",
    "\n",
    "- using text corpus  \n",
    "- http://mattmahoney.net/dc/text8.zip"
   ]
  },
  {
   "cell_type": "markdown",
   "metadata": {},
   "source": [
    "#### Import libraries  "
   ]
  },
  {
   "cell_type": "code",
   "execution_count": 6,
   "metadata": {},
   "outputs": [],
   "source": [
    "import logging\n",
    "from gensim.models import word2vec"
   ]
  },
  {
   "cell_type": "markdown",
   "metadata": {},
   "source": []
  },
  {
   "cell_type": "markdown",
   "metadata": {},
   "source": [
    "#### Parameters  "
   ]
  },
  {
   "cell_type": "code",
   "execution_count": 7,
   "metadata": {},
   "outputs": [],
   "source": [
    "corpus = 'data/text8'\n",
    "words_per_sentence = 50\n",
    "embed_size = 300\n",
    "min_count = 30\n",
    "model_file = 'word2vec_text8.model'"
   ]
  },
  {
   "cell_type": "markdown",
   "metadata": {},
   "source": [
    "#### Exec word2vec  "
   ]
  },
  {
   "cell_type": "code",
   "execution_count": 3,
   "metadata": {},
   "outputs": [
    {
     "name": "stderr",
     "output_type": "stream",
     "text": [
      "2021-10-31 16:51:54,353 : INFO : collecting all words and their counts\n",
      "2021-10-31 16:51:54,354 : INFO : PROGRESS: at sentence #0, processed 0 words, keeping 0 word types\n",
      "2021-10-31 16:51:54,477 : INFO : PROGRESS: at sentence #10000, processed 500000 words, keeping 33463 word types\n",
      "2021-10-31 16:51:54,593 : INFO : PROGRESS: at sentence #20000, processed 1000000 words, keeping 52754 word types\n",
      "2021-10-31 16:51:54,713 : INFO : PROGRESS: at sentence #30000, processed 1500000 words, keeping 65588 word types\n",
      "2021-10-31 16:51:54,837 : INFO : PROGRESS: at sentence #40000, processed 2000000 words, keeping 78382 word types\n",
      "2021-10-31 16:51:54,947 : INFO : PROGRESS: at sentence #50000, processed 2500000 words, keeping 88007 word types\n",
      "2021-10-31 16:51:55,058 : INFO : PROGRESS: at sentence #60000, processed 3000000 words, keeping 96644 word types\n",
      "2021-10-31 16:51:55,169 : INFO : PROGRESS: at sentence #70000, processed 3500000 words, keeping 104308 word types\n",
      "2021-10-31 16:51:55,282 : INFO : PROGRESS: at sentence #80000, processed 4000000 words, keeping 111460 word types\n",
      "2021-10-31 16:51:55,398 : INFO : PROGRESS: at sentence #90000, processed 4500000 words, keeping 118751 word types\n",
      "2021-10-31 16:51:55,519 : INFO : PROGRESS: at sentence #100000, processed 5000000 words, keeping 125354 word types\n",
      "2021-10-31 16:51:55,638 : INFO : PROGRESS: at sentence #110000, processed 5500000 words, keeping 133140 word types\n",
      "2021-10-31 16:51:55,749 : INFO : PROGRESS: at sentence #120000, processed 6000000 words, keeping 139565 word types\n",
      "2021-10-31 16:51:55,856 : INFO : PROGRESS: at sentence #130000, processed 6500000 words, keeping 145781 word types\n",
      "2021-10-31 16:51:55,963 : INFO : PROGRESS: at sentence #140000, processed 7000000 words, keeping 151933 word types\n",
      "2021-10-31 16:51:56,077 : INFO : PROGRESS: at sentence #150000, processed 7500000 words, keeping 158045 word types\n",
      "2021-10-31 16:51:56,197 : INFO : PROGRESS: at sentence #160000, processed 8000000 words, keeping 164114 word types\n",
      "2021-10-31 16:51:56,308 : INFO : PROGRESS: at sentence #170000, processed 8500000 words, keeping 171255 word types\n",
      "2021-10-31 16:51:56,425 : INFO : PROGRESS: at sentence #180000, processed 9000000 words, keeping 178162 word types\n",
      "2021-10-31 16:51:56,536 : INFO : PROGRESS: at sentence #190000, processed 9500000 words, keeping 184128 word types\n",
      "2021-10-31 16:51:56,648 : INFO : PROGRESS: at sentence #200000, processed 10000000 words, keeping 189074 word types\n",
      "2021-10-31 16:51:56,763 : INFO : PROGRESS: at sentence #210000, processed 10500000 words, keeping 194510 word types\n",
      "2021-10-31 16:51:56,875 : INFO : PROGRESS: at sentence #220000, processed 11000000 words, keeping 198757 word types\n",
      "2021-10-31 16:51:57,010 : INFO : PROGRESS: at sentence #230000, processed 11500000 words, keeping 203440 word types\n",
      "2021-10-31 16:51:57,127 : INFO : PROGRESS: at sentence #240000, processed 12000000 words, keeping 207894 word types\n",
      "2021-10-31 16:51:57,242 : INFO : PROGRESS: at sentence #250000, processed 12500000 words, keeping 212667 word types\n",
      "2021-10-31 16:51:57,351 : INFO : PROGRESS: at sentence #260000, processed 13000000 words, keeping 217127 word types\n",
      "2021-10-31 16:51:57,469 : INFO : PROGRESS: at sentence #270000, processed 13500000 words, keeping 221415 word types\n",
      "2021-10-31 16:51:57,584 : INFO : PROGRESS: at sentence #280000, processed 14000000 words, keeping 226854 word types\n",
      "2021-10-31 16:51:57,695 : INFO : PROGRESS: at sentence #290000, processed 14500000 words, keeping 231423 word types\n",
      "2021-10-31 16:51:57,809 : INFO : PROGRESS: at sentence #300000, processed 15000000 words, keeping 237390 word types\n",
      "2021-10-31 16:51:57,923 : INFO : PROGRESS: at sentence #310000, processed 15500000 words, keeping 241696 word types\n",
      "2021-10-31 16:51:58,041 : INFO : PROGRESS: at sentence #320000, processed 16000000 words, keeping 245648 word types\n",
      "2021-10-31 16:51:58,156 : INFO : PROGRESS: at sentence #330000, processed 16500000 words, keeping 249620 word types\n",
      "2021-10-31 16:51:58,267 : INFO : PROGRESS: at sentence #340000, processed 17000000 words, keeping 253833 word types\n",
      "2021-10-31 16:51:58,269 : INFO : collected 253854 word types from a corpus of 17005207 raw words and 340105 sentences\n",
      "2021-10-31 16:51:58,270 : INFO : Loading a fresh vocabulary\n",
      "2021-10-31 16:51:58,381 : INFO : effective_min_count=30 retains 25097 unique words (9% of original 253854, drops 228757)\n",
      "2021-10-31 16:51:58,382 : INFO : effective_min_count=30 leaves 16191060 word corpus (95% of original 17005207, drops 814147)\n",
      "2021-10-31 16:51:58,436 : INFO : deleting the raw counts dictionary of 253854 items\n",
      "2021-10-31 16:51:58,440 : INFO : sample=0.001 downsamples 38 most-common words\n",
      "2021-10-31 16:51:58,441 : INFO : downsampling leaves estimated 11928484 word corpus (73.7% of prior 16191060)\n",
      "2021-10-31 16:51:58,485 : INFO : estimated required memory for 25097 words and 300 dimensions: 72781300 bytes\n",
      "2021-10-31 16:51:58,485 : INFO : resetting layer weights\n",
      "2021-10-31 16:52:02,018 : INFO : training model with 3 workers on 25097 vocabulary and 300 features, using sg=0 hs=0 sample=0.001 negative=5 window=5\n",
      "2021-10-31 16:52:03,023 : INFO : EPOCH 1 - PROGRESS: at 5.59% examples, 661548 words/s, in_qsize 6, out_qsize 0\n",
      "2021-10-31 16:52:04,030 : INFO : EPOCH 1 - PROGRESS: at 11.11% examples, 651760 words/s, in_qsize 5, out_qsize 0\n",
      "2021-10-31 16:52:05,036 : INFO : EPOCH 1 - PROGRESS: at 17.11% examples, 672099 words/s, in_qsize 5, out_qsize 0\n",
      "2021-10-31 16:52:06,045 : INFO : EPOCH 1 - PROGRESS: at 23.11% examples, 682178 words/s, in_qsize 5, out_qsize 0\n",
      "2021-10-31 16:52:07,049 : INFO : EPOCH 1 - PROGRESS: at 28.76% examples, 681667 words/s, in_qsize 6, out_qsize 0\n",
      "2021-10-31 16:52:08,058 : INFO : EPOCH 1 - PROGRESS: at 35.40% examples, 700518 words/s, in_qsize 6, out_qsize 0\n",
      "2021-10-31 16:52:09,072 : INFO : EPOCH 1 - PROGRESS: at 41.10% examples, 696376 words/s, in_qsize 6, out_qsize 0\n",
      "2021-10-31 16:52:10,073 : INFO : EPOCH 1 - PROGRESS: at 45.69% examples, 678332 words/s, in_qsize 5, out_qsize 0\n",
      "2021-10-31 16:52:11,080 : INFO : EPOCH 1 - PROGRESS: at 51.04% examples, 673668 words/s, in_qsize 6, out_qsize 0\n",
      "2021-10-31 16:52:12,086 : INFO : EPOCH 1 - PROGRESS: at 56.34% examples, 669443 words/s, in_qsize 5, out_qsize 0\n",
      "2021-10-31 16:52:13,092 : INFO : EPOCH 1 - PROGRESS: at 61.86% examples, 668142 words/s, in_qsize 6, out_qsize 0\n",
      "2021-10-31 16:52:14,095 : INFO : EPOCH 1 - PROGRESS: at 66.74% examples, 661005 words/s, in_qsize 6, out_qsize 0\n",
      "2021-10-31 16:52:15,105 : INFO : EPOCH 1 - PROGRESS: at 71.33% examples, 652187 words/s, in_qsize 5, out_qsize 0\n",
      "2021-10-31 16:52:16,114 : INFO : EPOCH 1 - PROGRESS: at 76.86% examples, 651384 words/s, in_qsize 5, out_qsize 0\n",
      "2021-10-31 16:52:17,145 : INFO : EPOCH 1 - PROGRESS: at 83.03% examples, 655115 words/s, in_qsize 6, out_qsize 0\n",
      "2021-10-31 16:52:18,154 : INFO : EPOCH 1 - PROGRESS: at 89.38% examples, 661204 words/s, in_qsize 4, out_qsize 1\n",
      "2021-10-31 16:52:19,160 : INFO : EPOCH 1 - PROGRESS: at 96.15% examples, 669283 words/s, in_qsize 6, out_qsize 0\n",
      "2021-10-31 16:52:19,679 : INFO : worker thread finished; awaiting finish of 2 more threads\n",
      "2021-10-31 16:52:19,688 : INFO : worker thread finished; awaiting finish of 1 more threads\n",
      "2021-10-31 16:52:19,689 : INFO : worker thread finished; awaiting finish of 0 more threads\n",
      "2021-10-31 16:52:19,689 : INFO : EPOCH - 1 : training on 17005207 raw words (11928048 effective words) took 17.7s, 675056 effective words/s\n",
      "2021-10-31 16:52:20,700 : INFO : EPOCH 2 - PROGRESS: at 6.59% examples, 770493 words/s, in_qsize 6, out_qsize 0\n",
      "2021-10-31 16:52:21,718 : INFO : EPOCH 2 - PROGRESS: at 11.88% examples, 692413 words/s, in_qsize 5, out_qsize 0\n",
      "2021-10-31 16:52:22,737 : INFO : EPOCH 2 - PROGRESS: at 17.29% examples, 673013 words/s, in_qsize 5, out_qsize 1\n",
      "2021-10-31 16:52:23,746 : INFO : EPOCH 2 - PROGRESS: at 22.58% examples, 661330 words/s, in_qsize 6, out_qsize 0\n",
      "2021-10-31 16:52:24,747 : INFO : EPOCH 2 - PROGRESS: at 28.29% examples, 666933 words/s, in_qsize 6, out_qsize 0\n",
      "2021-10-31 16:52:25,748 : INFO : EPOCH 2 - PROGRESS: at 33.87% examples, 667920 words/s, in_qsize 6, out_qsize 0\n",
      "2021-10-31 16:52:26,755 : INFO : EPOCH 2 - PROGRESS: at 39.11% examples, 661655 words/s, in_qsize 6, out_qsize 0\n",
      "2021-10-31 16:52:27,756 : INFO : EPOCH 2 - PROGRESS: at 43.75% examples, 648530 words/s, in_qsize 6, out_qsize 0\n",
      "2021-10-31 16:52:28,761 : INFO : EPOCH 2 - PROGRESS: at 49.93% examples, 658250 words/s, in_qsize 5, out_qsize 0\n",
      "2021-10-31 16:52:29,770 : INFO : EPOCH 2 - PROGRESS: at 55.57% examples, 659501 words/s, in_qsize 5, out_qsize 0\n",
      "2021-10-31 16:52:30,781 : INFO : EPOCH 2 - PROGRESS: at 61.80% examples, 666642 words/s, in_qsize 6, out_qsize 0\n",
      "2021-10-31 16:52:31,787 : INFO : EPOCH 2 - PROGRESS: at 67.92% examples, 671585 words/s, in_qsize 5, out_qsize 0\n",
      "2021-10-31 16:52:32,787 : INFO : EPOCH 2 - PROGRESS: at 73.39% examples, 670633 words/s, in_qsize 5, out_qsize 0\n",
      "2021-10-31 16:52:33,788 : INFO : EPOCH 2 - PROGRESS: at 79.45% examples, 672894 words/s, in_qsize 5, out_qsize 0\n",
      "2021-10-31 16:52:34,792 : INFO : EPOCH 2 - PROGRESS: at 85.68% examples, 677320 words/s, in_qsize 5, out_qsize 0\n",
      "2021-10-31 16:52:35,792 : INFO : EPOCH 2 - PROGRESS: at 91.68% examples, 679598 words/s, in_qsize 5, out_qsize 0\n",
      "2021-10-31 16:52:36,798 : INFO : EPOCH 2 - PROGRESS: at 97.73% examples, 681494 words/s, in_qsize 5, out_qsize 0\n",
      "2021-10-31 16:52:37,193 : INFO : worker thread finished; awaiting finish of 2 more threads\n",
      "2021-10-31 16:52:37,207 : INFO : worker thread finished; awaiting finish of 1 more threads\n",
      "2021-10-31 16:52:37,213 : INFO : worker thread finished; awaiting finish of 0 more threads\n",
      "2021-10-31 16:52:37,214 : INFO : EPOCH - 2 : training on 17005207 raw words (11929370 effective words) took 17.5s, 680776 effective words/s\n",
      "2021-10-31 16:52:38,220 : INFO : EPOCH 3 - PROGRESS: at 6.06% examples, 714931 words/s, in_qsize 5, out_qsize 0\n",
      "2021-10-31 16:52:39,228 : INFO : EPOCH 3 - PROGRESS: at 12.29% examples, 721945 words/s, in_qsize 6, out_qsize 0\n",
      "2021-10-31 16:52:40,232 : INFO : EPOCH 3 - PROGRESS: at 18.17% examples, 714619 words/s, in_qsize 5, out_qsize 0\n",
      "2021-10-31 16:52:41,243 : INFO : EPOCH 3 - PROGRESS: at 24.11% examples, 712579 words/s, in_qsize 5, out_qsize 0\n",
      "2021-10-31 16:52:42,246 : INFO : EPOCH 3 - PROGRESS: at 29.93% examples, 709978 words/s, in_qsize 5, out_qsize 0\n",
      "2021-10-31 16:52:43,259 : INFO : EPOCH 3 - PROGRESS: at 35.58% examples, 703497 words/s, in_qsize 5, out_qsize 0\n",
      "2021-10-31 16:52:44,268 : INFO : EPOCH 3 - PROGRESS: at 41.46% examples, 702407 words/s, in_qsize 5, out_qsize 0\n",
      "2021-10-31 16:52:45,272 : INFO : EPOCH 3 - PROGRESS: at 47.16% examples, 700030 words/s, in_qsize 6, out_qsize 0\n",
      "2021-10-31 16:52:46,275 : INFO : EPOCH 3 - PROGRESS: at 53.63% examples, 707802 words/s, in_qsize 5, out_qsize 0\n",
      "2021-10-31 16:52:47,275 : INFO : EPOCH 3 - PROGRESS: at 59.39% examples, 706120 words/s, in_qsize 5, out_qsize 0\n",
      "2021-10-31 16:52:48,284 : INFO : EPOCH 3 - PROGRESS: at 65.63% examples, 709061 words/s, in_qsize 6, out_qsize 0\n",
      "2021-10-31 16:52:49,288 : INFO : EPOCH 3 - PROGRESS: at 71.39% examples, 707490 words/s, in_qsize 5, out_qsize 0\n",
      "2021-10-31 16:52:50,294 : INFO : EPOCH 3 - PROGRESS: at 77.62% examples, 708791 words/s, in_qsize 5, out_qsize 0\n",
      "2021-10-31 16:52:51,303 : INFO : EPOCH 3 - PROGRESS: at 83.62% examples, 708536 words/s, in_qsize 5, out_qsize 0\n",
      "2021-10-31 16:52:52,305 : INFO : EPOCH 3 - PROGRESS: at 89.21% examples, 705611 words/s, in_qsize 4, out_qsize 1\n",
      "2021-10-31 16:52:53,310 : INFO : EPOCH 3 - PROGRESS: at 95.15% examples, 705362 words/s, in_qsize 5, out_qsize 0\n",
      "2021-10-31 16:52:54,087 : INFO : worker thread finished; awaiting finish of 2 more threads\n",
      "2021-10-31 16:52:54,095 : INFO : worker thread finished; awaiting finish of 1 more threads\n",
      "2021-10-31 16:52:54,102 : INFO : worker thread finished; awaiting finish of 0 more threads\n",
      "2021-10-31 16:52:54,103 : INFO : EPOCH - 3 : training on 17005207 raw words (11928526 effective words) took 16.9s, 706352 effective words/s\n",
      "2021-10-31 16:52:55,105 : INFO : EPOCH 4 - PROGRESS: at 5.94% examples, 704374 words/s, in_qsize 5, out_qsize 0\n",
      "2021-10-31 16:52:56,113 : INFO : EPOCH 4 - PROGRESS: at 12.00% examples, 705715 words/s, in_qsize 5, out_qsize 0\n",
      "2021-10-31 16:52:57,118 : INFO : EPOCH 4 - PROGRESS: at 17.76% examples, 698687 words/s, in_qsize 5, out_qsize 0\n",
      "2021-10-31 16:52:58,124 : INFO : EPOCH 4 - PROGRESS: at 23.52% examples, 695935 words/s, in_qsize 5, out_qsize 0\n",
      "2021-10-31 16:52:59,127 : INFO : EPOCH 4 - PROGRESS: at 29.52% examples, 700878 words/s, in_qsize 5, out_qsize 0\n",
      "2021-10-31 16:53:00,131 : INFO : EPOCH 4 - PROGRESS: at 35.46% examples, 703137 words/s, in_qsize 6, out_qsize 0\n",
      "2021-10-31 16:53:01,131 : INFO : EPOCH 4 - PROGRESS: at 41.28% examples, 701933 words/s, in_qsize 5, out_qsize 0\n",
      "2021-10-31 16:53:02,142 : INFO : EPOCH 4 - PROGRESS: at 47.34% examples, 704308 words/s, in_qsize 5, out_qsize 0\n",
      "2021-10-31 16:53:03,147 : INFO : EPOCH 4 - PROGRESS: at 53.16% examples, 702893 words/s, in_qsize 5, out_qsize 0\n",
      "2021-10-31 16:53:04,153 : INFO : EPOCH 4 - PROGRESS: at 59.22% examples, 704698 words/s, in_qsize 5, out_qsize 0\n",
      "2021-10-31 16:53:05,158 : INFO : EPOCH 4 - PROGRESS: at 65.22% examples, 705581 words/s, in_qsize 5, out_qsize 0\n",
      "2021-10-31 16:53:06,163 : INFO : EPOCH 4 - PROGRESS: at 71.51% examples, 709457 words/s, in_qsize 5, out_qsize 0\n",
      "2021-10-31 16:53:07,167 : INFO : EPOCH 4 - PROGRESS: at 77.74% examples, 710643 words/s, in_qsize 6, out_qsize 0\n",
      "2021-10-31 16:53:08,170 : INFO : EPOCH 4 - PROGRESS: at 83.56% examples, 709091 words/s, in_qsize 5, out_qsize 0\n",
      "2021-10-31 16:53:09,178 : INFO : EPOCH 4 - PROGRESS: at 89.56% examples, 709113 words/s, in_qsize 5, out_qsize 0\n",
      "2021-10-31 16:53:10,189 : INFO : EPOCH 4 - PROGRESS: at 94.03% examples, 697452 words/s, in_qsize 6, out_qsize 0\n",
      "2021-10-31 16:53:11,192 : INFO : EPOCH 4 - PROGRESS: at 99.15% examples, 691959 words/s, in_qsize 5, out_qsize 0\n",
      "2021-10-31 16:53:11,317 : INFO : worker thread finished; awaiting finish of 2 more threads\n",
      "2021-10-31 16:53:11,332 : INFO : worker thread finished; awaiting finish of 1 more threads\n",
      "2021-10-31 16:53:11,339 : INFO : worker thread finished; awaiting finish of 0 more threads\n",
      "2021-10-31 16:53:11,339 : INFO : EPOCH - 4 : training on 17005207 raw words (11927228 effective words) took 17.2s, 692056 effective words/s\n",
      "2021-10-31 16:53:12,395 : INFO : EPOCH 5 - PROGRESS: at 4.82% examples, 546400 words/s, in_qsize 4, out_qsize 1\n",
      "2021-10-31 16:53:13,415 : INFO : EPOCH 5 - PROGRESS: at 10.06% examples, 573423 words/s, in_qsize 5, out_qsize 0\n",
      "2021-10-31 16:53:14,420 : INFO : EPOCH 5 - PROGRESS: at 15.29% examples, 587865 words/s, in_qsize 6, out_qsize 1\n",
      "2021-10-31 16:53:15,430 : INFO : EPOCH 5 - PROGRESS: at 19.64% examples, 569957 words/s, in_qsize 5, out_qsize 0\n",
      "2021-10-31 16:53:16,437 : INFO : EPOCH 5 - PROGRESS: at 24.46% examples, 571359 words/s, in_qsize 5, out_qsize 0\n",
      "2021-10-31 16:53:17,438 : INFO : EPOCH 5 - PROGRESS: at 30.23% examples, 591677 words/s, in_qsize 5, out_qsize 0\n",
      "2021-10-31 16:53:18,438 : INFO : EPOCH 5 - PROGRESS: at 36.22% examples, 610377 words/s, in_qsize 5, out_qsize 0\n",
      "2021-10-31 16:53:19,439 : INFO : EPOCH 5 - PROGRESS: at 42.22% examples, 623390 words/s, in_qsize 5, out_qsize 0\n",
      "2021-10-31 16:53:20,449 : INFO : EPOCH 5 - PROGRESS: at 48.16% examples, 632601 words/s, in_qsize 5, out_qsize 0\n",
      "2021-10-31 16:53:21,449 : INFO : EPOCH 5 - PROGRESS: at 53.87% examples, 637474 words/s, in_qsize 6, out_qsize 0\n",
      "2021-10-31 16:53:22,449 : INFO : EPOCH 5 - PROGRESS: at 60.10% examples, 647386 words/s, in_qsize 6, out_qsize 0\n",
      "2021-10-31 16:53:23,460 : INFO : EPOCH 5 - PROGRESS: at 66.27% examples, 654247 words/s, in_qsize 5, out_qsize 0\n",
      "2021-10-31 16:53:24,462 : INFO : EPOCH 5 - PROGRESS: at 72.33% examples, 659755 words/s, in_qsize 6, out_qsize 0\n",
      "2021-10-31 16:53:25,474 : INFO : EPOCH 5 - PROGRESS: at 78.15% examples, 660561 words/s, in_qsize 5, out_qsize 0\n",
      "2021-10-31 16:53:26,476 : INFO : EPOCH 5 - PROGRESS: at 84.27% examples, 664876 words/s, in_qsize 6, out_qsize 0\n",
      "2021-10-31 16:53:27,479 : INFO : EPOCH 5 - PROGRESS: at 90.33% examples, 668333 words/s, in_qsize 6, out_qsize 0\n",
      "2021-10-31 16:53:28,480 : INFO : EPOCH 5 - PROGRESS: at 96.44% examples, 671521 words/s, in_qsize 5, out_qsize 0\n",
      "2021-10-31 16:53:29,096 : INFO : worker thread finished; awaiting finish of 2 more threads\n",
      "2021-10-31 16:53:29,099 : INFO : worker thread finished; awaiting finish of 1 more threads\n",
      "2021-10-31 16:53:29,111 : INFO : worker thread finished; awaiting finish of 0 more threads\n",
      "2021-10-31 16:53:29,112 : INFO : EPOCH - 5 : training on 17005207 raw words (11931141 effective words) took 17.8s, 671386 effective words/s\n",
      "2021-10-31 16:53:29,113 : INFO : training on a 85026035 raw words (59644313 effective words) took 87.1s, 684823 effective words/s\n"
     ]
    }
   ],
   "source": [
    "logging.basicConfig(format=\"%(asctime)s : %(levelname)s : %(message)s\",\n",
    "                    level=logging.INFO)\n",
    "\n",
    "sentences = word2vec.Text8Corpus(corpus, words_per_sentence)\n",
    "model = word2vec.Word2Vec(sentences, size=embed_size, min_count=min_count)  # CBOW\n",
    "\n",
    "# skip-gram (no negative sample)\n",
    "#model = word2vec.Word2Vec(sentences, size=embed_size, min_count=min_count,\n",
    "#                          sg=1)\n",
    "# skip-gram (with negative sample)\n",
    "#model = word2vec.Word2Vec(sentences, size=embed_size, min_count=min_count,\n",
    "#                          sg=1, hs=0, negative=1)\n",
    "\n",
    "# see https://radimrehurek.com/gensim/models/word2vec.html for more details"
   ]
  },
  {
   "cell_type": "markdown",
   "metadata": {},
   "source": [
    "#### Check model  "
   ]
  },
  {
   "cell_type": "code",
   "execution_count": 4,
   "metadata": {},
   "outputs": [
    {
     "name": "stdout",
     "output_type": "stream",
     "text": [
      "300\n",
      "25097\n"
     ]
    }
   ],
   "source": [
    "print(model.wv.vector_size)  # dimension of embedding\n",
    "print(len(model.wv.vocab.keys()))  # number of words"
   ]
  },
  {
   "cell_type": "markdown",
   "metadata": {},
   "source": [
    "#### Save model into file  "
   ]
  },
  {
   "cell_type": "code",
   "execution_count": 5,
   "metadata": {},
   "outputs": [
    {
     "name": "stderr",
     "output_type": "stream",
     "text": [
      "2021-10-31 16:53:29,242 : INFO : precomputing L2-norms of word weight vectors\n",
      "2021-10-31 16:53:29,272 : INFO : saving Word2Vec object under word2vec_text8.model, separately None\n",
      "2021-10-31 16:53:29,273 : INFO : not storing attribute vectors_norm\n",
      "2021-10-31 16:53:29,274 : INFO : not storing attribute cum_table\n",
      "2021-10-31 16:53:29,898 : INFO : saved word2vec_text8.model\n"
     ]
    }
   ],
   "source": [
    "model.init_sims(replace=True)  # normalization of vectors  \n",
    "model.save(model_file)"
   ]
  },
  {
   "cell_type": "code",
   "execution_count": null,
   "metadata": {},
   "outputs": [],
   "source": []
  }
 ],
 "metadata": {
  "interpreter": {
   "hash": "a56d7313c7010e2993fb060a40a0c89503718a8c1aa7f683102c3457bfb6b975"
  },
  "kernelspec": {
   "display_name": "Python 3.9.7 64-bit ('ds21': conda)",
   "name": "python3"
  },
  "language_info": {
   "codemirror_mode": {
    "name": "ipython",
    "version": 3
   },
   "file_extension": ".py",
   "mimetype": "text/x-python",
   "name": "python",
   "nbconvert_exporter": "python",
   "pygments_lexer": "ipython3",
   "version": "3.9.7"
  }
 },
 "nbformat": 4,
 "nbformat_minor": 4
}
