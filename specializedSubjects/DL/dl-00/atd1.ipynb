{
 "cells": [
  {
   "cell_type": "code",
   "execution_count": 12,
   "source": [
    "import numpy as np"
   ],
   "outputs": [],
   "metadata": {}
  },
  {
   "cell_type": "code",
   "execution_count": 15,
   "source": [
    "def exam_all(scores, pass_score):\n",
    "    scores_np = np.array(scores)\n",
    "    if False in (scores_np >= pass_score): return \"FAIL\"\n",
    "    return \"PASS\"\n",
    "\n",
    "a = exam_all( [90, 80, 70], 75 )\n",
    "print(a)\n",
    "a = exam_all( [90, 80, 70], 70 )\n",
    "print(a)"
   ],
   "outputs": [
    {
     "output_type": "stream",
     "name": "stdout",
     "text": [
      "FAIL\n",
      "PASS\n"
     ]
    }
   ],
   "metadata": {}
  },
  {
   "cell_type": "code",
   "execution_count": 10,
   "source": [
    "def head_tail(strings):\n",
    "    res = []\n",
    "    for string in strings:\n",
    "        if string[0] == string[-1]: res.append(string)\n",
    "    return res\n",
    "\n",
    "a = head_tail( [ 'apple', 'edge', 'idea', 'mm' ] )\n",
    "print(a)"
   ],
   "outputs": [
    {
     "output_type": "stream",
     "name": "stdout",
     "text": [
      "['edge', 'mm']\n"
     ]
    }
   ],
   "metadata": {}
  }
 ],
 "metadata": {
  "orig_nbformat": 4,
  "language_info": {
   "name": "python",
   "version": "3.8.8",
   "mimetype": "text/x-python",
   "codemirror_mode": {
    "name": "ipython",
    "version": 3
   },
   "pygments_lexer": "ipython3",
   "nbconvert_exporter": "python",
   "file_extension": ".py"
  },
  "kernelspec": {
   "name": "python3",
   "display_name": "Python 3.8.8 64-bit ('ds2021': conda)"
  },
  "interpreter": {
   "hash": "e8880c58ea65068827af19aa57df99e07da1109ce0dc5e321474e5f3a08d850b"
  }
 },
 "nbformat": 4,
 "nbformat_minor": 2
}