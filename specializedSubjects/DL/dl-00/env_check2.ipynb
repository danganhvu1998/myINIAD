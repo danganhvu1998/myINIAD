{
 "cells": [
  {
   "cell_type": "markdown",
   "metadata": {},
   "source": [
    "### Environment check  "
   ]
  },
  {
   "cell_type": "code",
   "execution_count": 1,
   "metadata": {},
   "outputs": [
    {
     "name": "stdout",
     "output_type": "stream",
     "text": [
      "Start\n",
      "3.8.8 (default, Feb 24 2021, 15:54:32) [MSC v.1928 64 bit (AMD64)]\n",
      "2021-08-23 10:46:39.966754\n",
      "pwd: C:\\Users\\shugo\\Box Sync\\windows\\INIAD\\lecture\\business\\2021\\pptx\\lecture-DL\\DL-00\\to_drive\\dl-00\n",
      "conda: b'conda 4.10.3\\r\\n'\n",
      "where pip: b'C:\\\\Users\\\\shugo\\\\Miniconda3\\\\envs\\\\ds2021\\\\Scripts\\\\pip.exe\\r\\nC:\\\\Users\\\\shugo\\\\AppData\\\\Local\\\\Microsoft\\\\WindowsApps\\\\pip.exe\\r\\n'\n",
      "pip: b'pip 21.0.1 from C:\\\\Users\\\\shugo\\\\Miniconda3\\\\envs\\\\ds2021\\\\lib\\\\site-packages\\\\pip (python 3.8)\\r\\r\\n'\n",
      "where pip3: b'C:\\\\Users\\\\shugo\\\\Miniconda3\\\\envs\\\\ds2021\\\\Scripts\\\\pip3.exe\\r\\nC:\\\\Users\\\\shugo\\\\AppData\\\\Local\\\\Microsoft\\\\WindowsApps\\\\pip3.exe\\r\\n'\n",
      "pip3: b'pip 21.0.1 from C:\\\\Users\\\\shugo\\\\Miniconda3\\\\envs\\\\ds2021\\\\lib\\\\site-packages\\\\pip (python 3.8)\\r\\r\\n'\n",
      "JupyterLab: b'2.2.6\\r\\n'\n",
      "ipython: b'7.21.0\\r\\n'\n",
      "numpy: 1.18.5\n",
      "scipy: 1.4.1\n",
      "pandas: 1.2.3\n",
      "sklearn: 0.24.1\n",
      "matplotlib: 3.3.4\n",
      "h5py: 2.10.0\n",
      "bs4: 4.9.3\n",
      "gensim: 3.8.3\n",
      "tf: 2.3.0\n",
      "librosa: 0.8.1\n",
      "numba: 0.53.0\n",
      "pillow: 8.1.2\n",
      "gym: 0.18.0\n",
      "wordcloud: 1.8.1\n",
      "keras-rl2: b'Name: keras-rl2\\r\\nVersion: 1.0.4\\r\\nSummary: Deep Reinforcement Learning for Tensorflow 2 Keras\\r\\nHome-page: https://github.com/wau/keras-rl2\\r\\nAuthor: Taylor McNally\\r\\nAuthor-email: taylor.mcnally@emory.edu\\r\\nLicense: MIT\\r\\nLocation: c:\\\\users\\\\shugo\\\\appdata\\\\roaming\\\\python\\\\python38\\\\site-packages\\r\\nRequires: tensorflow\\r\\nRequired-by: \\r\\n'\n",
      "End\n"
     ]
    }
   ],
   "source": [
    "import sys, os, subprocess, warnings\n",
    "from subprocess import PIPE\n",
    "from datetime import datetime\n",
    "warnings.resetwarnings()\n",
    "warnings.simplefilter('ignore', FutureWarning)\n",
    "warnings.simplefilter('ignore', DeprecationWarning)\n",
    "warnings.simplefilter('ignore', RuntimeWarning)\n",
    "warnings.simplefilter('ignore', ResourceWarning)\n",
    "warnings.simplefilter('ignore', ImportWarning)\n",
    "\n",
    "print('Start')\n",
    "print(sys.version)\n",
    "t=os.path.getctime(os.environ['CONDA_PREFIX'])\n",
    "print(datetime.fromtimestamp(t))\n",
    "print('pwd:', os.getcwd())\n",
    "proc=subprocess.run('conda --version', shell=True, stdout=PIPE, stderr=PIPE)\n",
    "print('conda:', proc.stdout)\n",
    "proc=subprocess.run('where pip', shell=True, stdout=PIPE, stderr=PIPE)\n",
    "print('where pip:', proc.stdout)\n",
    "proc=subprocess.run('pip --version', shell=True, stdout=PIPE, stderr=PIPE)\n",
    "print('pip:', proc.stdout)\n",
    "proc=subprocess.run('where pip3', shell=True, stdout=PIPE, stderr=PIPE)\n",
    "print('where pip3:', proc.stdout)\n",
    "proc=subprocess.run('pip3 --version', shell=True, stdout=PIPE, stderr=PIPE)\n",
    "print('pip3:', proc.stdout)\n",
    "proc=subprocess.run('jupyter lab --version', shell=True, stdout=PIPE, stderr=PIPE)\n",
    "print('JupyterLab:', proc.stdout)\n",
    "proc=subprocess.run('ipython --version', shell=True, stdout=PIPE, stderr=PIPE)\n",
    "print('ipython:', proc.stdout)\n",
    "import numpy as np\n",
    "print('numpy:', np.__version__)\n",
    "import scipy as sp\n",
    "print('scipy:', sp.__version__)\n",
    "import pandas as pd\n",
    "print('pandas:', pd.__version__)\n",
    "import sklearn as sk\n",
    "print('sklearn:', sk.__version__)\n",
    "import matplotlib as mp\n",
    "print('matplotlib:', mp.__version__)\n",
    "import h5py\n",
    "print('h5py:', h5py.__version__)\n",
    "import bs4\n",
    "print('bs4:', bs4.__version__)\n",
    "import gensim\n",
    "print('gensim:', gensim.__version__)\n",
    "import tensorflow as tf\n",
    "print('tf:', tf.__version__)\n",
    "import librosa\n",
    "print('librosa:', librosa.__version__)\n",
    "import numba\n",
    "print('numba:', numba.__version__)\n",
    "import PIL\n",
    "print('pillow:', PIL.__version__)\n",
    "import gym\n",
    "print('gym:', gym.__version__)\n",
    "import wordcloud\n",
    "print('wordcloud:', wordcloud.__version__)\n",
    "import rl\n",
    "proc=subprocess.run('pip show keras-rl2', shell=True, stdout=PIPE, stderr=PIPE)\n",
    "print('keras-rl2:', proc.stdout)\n",
    "\n",
    "print('End')"
   ]
  }
 ],
 "metadata": {
  "kernelspec": {
   "display_name": "Python 3",
   "language": "python",
   "name": "python3"
  },
  "language_info": {
   "codemirror_mode": {
    "name": "ipython",
    "version": 3
   },
   "file_extension": ".py",
   "mimetype": "text/x-python",
   "name": "python",
   "nbconvert_exporter": "python",
   "pygments_lexer": "ipython3",
   "version": "3.8.8"
  }
 },
 "nbformat": 4,
 "nbformat_minor": 4
}
