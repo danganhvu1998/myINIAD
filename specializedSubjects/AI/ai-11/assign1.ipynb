{
 "cells": [
  {
   "cell_type": "markdown",
   "source": [
    "### Sample program for Random Forest Classifier  "
   ],
   "metadata": {}
  },
  {
   "cell_type": "markdown",
   "source": [
    "#### Import libraries  "
   ],
   "metadata": {}
  },
  {
   "cell_type": "code",
   "execution_count": 54,
   "source": [
    "import numpy as np\n",
    "import pandas as pd\n",
    "import matplotlib.pyplot as plt\n",
    "from sklearn.ensemble import RandomForestClassifier\n",
    "from sklearn.model_selection import GridSearchCV, StratifiedKFold, cross_val_score\n",
    "from joblib import dump"
   ],
   "outputs": [],
   "metadata": {}
  },
  {
   "cell_type": "markdown",
   "source": [
    "#### Parameters  "
   ],
   "metadata": {}
  },
  {
   "cell_type": "code",
   "execution_count": 55,
   "source": [
    "csv_in = 'cancer.csv'"
   ],
   "outputs": [],
   "metadata": {}
  },
  {
   "cell_type": "code",
   "execution_count": 56,
   "source": [
    "df = pd.read_csv(csv_in, delimiter=',', skiprows=14, header=0)\n",
    "print(df.shape)\n",
    "print(df.info())\n",
    "display(df.head())"
   ],
   "outputs": [
    {
     "output_type": "stream",
     "name": "stdout",
     "text": [
      "(569, 32)\n",
      "<class 'pandas.core.frame.DataFrame'>\n",
      "RangeIndex: 569 entries, 0 to 568\n",
      "Data columns (total 32 columns):\n",
      " #   Column   Non-Null Count  Dtype  \n",
      "---  ------   --------------  -----  \n",
      " 0   ID       569 non-null    int64  \n",
      " 1   Diag     569 non-null    object \n",
      " 2   ave_a    569 non-null    float64\n",
      " 3   ave_b    569 non-null    float64\n",
      " 4   ave_c    569 non-null    float64\n",
      " 5   ave_d    569 non-null    float64\n",
      " 6   ave_e    569 non-null    float64\n",
      " 7   ave_f    569 non-null    float64\n",
      " 8   ave_g    569 non-null    float64\n",
      " 9   ave_h    569 non-null    float64\n",
      " 10  ave_i    569 non-null    float64\n",
      " 11  ave_j    569 non-null    float64\n",
      " 12  se_a     569 non-null    float64\n",
      " 13  se_b     569 non-null    float64\n",
      " 14  se_c     569 non-null    float64\n",
      " 15  se_d     569 non-null    float64\n",
      " 16  se_e     569 non-null    float64\n",
      " 17  se_f     569 non-null    float64\n",
      " 18  se_g     569 non-null    float64\n",
      " 19  se_h     569 non-null    float64\n",
      " 20  se_i     569 non-null    float64\n",
      " 21  se_j     569 non-null    float64\n",
      " 22  worst_a  569 non-null    float64\n",
      " 23  worst_b  569 non-null    float64\n",
      " 24  worst_c  569 non-null    float64\n",
      " 25  worst_d  569 non-null    float64\n",
      " 26  worst_e  569 non-null    float64\n",
      " 27  worst_f  569 non-null    float64\n",
      " 28  worst_g  569 non-null    float64\n",
      " 29  worst_h  569 non-null    float64\n",
      " 30  worst_i  569 non-null    float64\n",
      " 31  worst_j  569 non-null    float64\n",
      "dtypes: float64(30), int64(1), object(1)\n",
      "memory usage: 142.4+ KB\n",
      "None\n"
     ]
    },
    {
     "output_type": "display_data",
     "data": {
      "text/plain": [
       "         ID Diag  ave_a  ave_b   ave_c   ave_d    ave_e    ave_f   ave_g  \\\n",
       "0    842302    M  17.99  10.38  122.80  1001.0  0.11840  0.27760  0.3001   \n",
       "1    842517    M  20.57  17.77  132.90  1326.0  0.08474  0.07864  0.0869   \n",
       "2  84300903    M  19.69  21.25  130.00  1203.0  0.10960  0.15990  0.1974   \n",
       "3  84348301    M  11.42  20.38   77.58   386.1  0.14250  0.28390  0.2414   \n",
       "4  84358402    M  20.29  14.34  135.10  1297.0  0.10030  0.13280  0.1980   \n",
       "\n",
       "     ave_h  ...  worst_a  worst_b  worst_c  worst_d  worst_e  worst_f  \\\n",
       "0  0.14710  ...    25.38    17.33   184.60   2019.0   0.1622   0.6656   \n",
       "1  0.07017  ...    24.99    23.41   158.80   1956.0   0.1238   0.1866   \n",
       "2  0.12790  ...    23.57    25.53   152.50   1709.0   0.1444   0.4245   \n",
       "3  0.10520  ...    14.91    26.50    98.87    567.7   0.2098   0.8663   \n",
       "4  0.10430  ...    22.54    16.67   152.20   1575.0   0.1374   0.2050   \n",
       "\n",
       "   worst_g  worst_h  worst_i  worst_j  \n",
       "0   0.7119   0.2654   0.4601  0.11890  \n",
       "1   0.2416   0.1860   0.2750  0.08902  \n",
       "2   0.4504   0.2430   0.3613  0.08758  \n",
       "3   0.6869   0.2575   0.6638  0.17300  \n",
       "4   0.4000   0.1625   0.2364  0.07678  \n",
       "\n",
       "[5 rows x 32 columns]"
      ],
      "text/html": [
       "<div>\n",
       "<style scoped>\n",
       "    .dataframe tbody tr th:only-of-type {\n",
       "        vertical-align: middle;\n",
       "    }\n",
       "\n",
       "    .dataframe tbody tr th {\n",
       "        vertical-align: top;\n",
       "    }\n",
       "\n",
       "    .dataframe thead th {\n",
       "        text-align: right;\n",
       "    }\n",
       "</style>\n",
       "<table border=\"1\" class=\"dataframe\">\n",
       "  <thead>\n",
       "    <tr style=\"text-align: right;\">\n",
       "      <th></th>\n",
       "      <th>ID</th>\n",
       "      <th>Diag</th>\n",
       "      <th>ave_a</th>\n",
       "      <th>ave_b</th>\n",
       "      <th>ave_c</th>\n",
       "      <th>ave_d</th>\n",
       "      <th>ave_e</th>\n",
       "      <th>ave_f</th>\n",
       "      <th>ave_g</th>\n",
       "      <th>ave_h</th>\n",
       "      <th>...</th>\n",
       "      <th>worst_a</th>\n",
       "      <th>worst_b</th>\n",
       "      <th>worst_c</th>\n",
       "      <th>worst_d</th>\n",
       "      <th>worst_e</th>\n",
       "      <th>worst_f</th>\n",
       "      <th>worst_g</th>\n",
       "      <th>worst_h</th>\n",
       "      <th>worst_i</th>\n",
       "      <th>worst_j</th>\n",
       "    </tr>\n",
       "  </thead>\n",
       "  <tbody>\n",
       "    <tr>\n",
       "      <th>0</th>\n",
       "      <td>842302</td>\n",
       "      <td>M</td>\n",
       "      <td>17.99</td>\n",
       "      <td>10.38</td>\n",
       "      <td>122.80</td>\n",
       "      <td>1001.0</td>\n",
       "      <td>0.11840</td>\n",
       "      <td>0.27760</td>\n",
       "      <td>0.3001</td>\n",
       "      <td>0.14710</td>\n",
       "      <td>...</td>\n",
       "      <td>25.38</td>\n",
       "      <td>17.33</td>\n",
       "      <td>184.60</td>\n",
       "      <td>2019.0</td>\n",
       "      <td>0.1622</td>\n",
       "      <td>0.6656</td>\n",
       "      <td>0.7119</td>\n",
       "      <td>0.2654</td>\n",
       "      <td>0.4601</td>\n",
       "      <td>0.11890</td>\n",
       "    </tr>\n",
       "    <tr>\n",
       "      <th>1</th>\n",
       "      <td>842517</td>\n",
       "      <td>M</td>\n",
       "      <td>20.57</td>\n",
       "      <td>17.77</td>\n",
       "      <td>132.90</td>\n",
       "      <td>1326.0</td>\n",
       "      <td>0.08474</td>\n",
       "      <td>0.07864</td>\n",
       "      <td>0.0869</td>\n",
       "      <td>0.07017</td>\n",
       "      <td>...</td>\n",
       "      <td>24.99</td>\n",
       "      <td>23.41</td>\n",
       "      <td>158.80</td>\n",
       "      <td>1956.0</td>\n",
       "      <td>0.1238</td>\n",
       "      <td>0.1866</td>\n",
       "      <td>0.2416</td>\n",
       "      <td>0.1860</td>\n",
       "      <td>0.2750</td>\n",
       "      <td>0.08902</td>\n",
       "    </tr>\n",
       "    <tr>\n",
       "      <th>2</th>\n",
       "      <td>84300903</td>\n",
       "      <td>M</td>\n",
       "      <td>19.69</td>\n",
       "      <td>21.25</td>\n",
       "      <td>130.00</td>\n",
       "      <td>1203.0</td>\n",
       "      <td>0.10960</td>\n",
       "      <td>0.15990</td>\n",
       "      <td>0.1974</td>\n",
       "      <td>0.12790</td>\n",
       "      <td>...</td>\n",
       "      <td>23.57</td>\n",
       "      <td>25.53</td>\n",
       "      <td>152.50</td>\n",
       "      <td>1709.0</td>\n",
       "      <td>0.1444</td>\n",
       "      <td>0.4245</td>\n",
       "      <td>0.4504</td>\n",
       "      <td>0.2430</td>\n",
       "      <td>0.3613</td>\n",
       "      <td>0.08758</td>\n",
       "    </tr>\n",
       "    <tr>\n",
       "      <th>3</th>\n",
       "      <td>84348301</td>\n",
       "      <td>M</td>\n",
       "      <td>11.42</td>\n",
       "      <td>20.38</td>\n",
       "      <td>77.58</td>\n",
       "      <td>386.1</td>\n",
       "      <td>0.14250</td>\n",
       "      <td>0.28390</td>\n",
       "      <td>0.2414</td>\n",
       "      <td>0.10520</td>\n",
       "      <td>...</td>\n",
       "      <td>14.91</td>\n",
       "      <td>26.50</td>\n",
       "      <td>98.87</td>\n",
       "      <td>567.7</td>\n",
       "      <td>0.2098</td>\n",
       "      <td>0.8663</td>\n",
       "      <td>0.6869</td>\n",
       "      <td>0.2575</td>\n",
       "      <td>0.6638</td>\n",
       "      <td>0.17300</td>\n",
       "    </tr>\n",
       "    <tr>\n",
       "      <th>4</th>\n",
       "      <td>84358402</td>\n",
       "      <td>M</td>\n",
       "      <td>20.29</td>\n",
       "      <td>14.34</td>\n",
       "      <td>135.10</td>\n",
       "      <td>1297.0</td>\n",
       "      <td>0.10030</td>\n",
       "      <td>0.13280</td>\n",
       "      <td>0.1980</td>\n",
       "      <td>0.10430</td>\n",
       "      <td>...</td>\n",
       "      <td>22.54</td>\n",
       "      <td>16.67</td>\n",
       "      <td>152.20</td>\n",
       "      <td>1575.0</td>\n",
       "      <td>0.1374</td>\n",
       "      <td>0.2050</td>\n",
       "      <td>0.4000</td>\n",
       "      <td>0.1625</td>\n",
       "      <td>0.2364</td>\n",
       "      <td>0.07678</td>\n",
       "    </tr>\n",
       "  </tbody>\n",
       "</table>\n",
       "<p>5 rows × 32 columns</p>\n",
       "</div>"
      ]
     },
     "metadata": {}
    }
   ],
   "metadata": {}
  },
  {
   "cell_type": "markdown",
   "source": [
    "#### Drop rows with missing value at Age and Embarked columns  "
   ],
   "metadata": {}
  },
  {
   "cell_type": "markdown",
   "source": [
    "#### Extract data  "
   ],
   "metadata": {}
  },
  {
   "cell_type": "code",
   "execution_count": 57,
   "source": [
    "df_X= df.loc[:, 'ave_a':]\n",
    "df_X = pd.get_dummies(df_X, drop_first=True)\n",
    "ser_y = df['Diag']"
   ],
   "outputs": [],
   "metadata": {}
  },
  {
   "cell_type": "code",
   "execution_count": 58,
   "source": [
    "print(df_X.shape)\n",
    "print(df_X.info())\n",
    "display(df_X.head())\n",
    "print(ser_y.shape)\n",
    "print(ser_y.head())"
   ],
   "outputs": [
    {
     "output_type": "stream",
     "name": "stdout",
     "text": [
      "(569, 30)\n",
      "<class 'pandas.core.frame.DataFrame'>\n",
      "RangeIndex: 569 entries, 0 to 568\n",
      "Data columns (total 30 columns):\n",
      " #   Column   Non-Null Count  Dtype  \n",
      "---  ------   --------------  -----  \n",
      " 0   ave_a    569 non-null    float64\n",
      " 1   ave_b    569 non-null    float64\n",
      " 2   ave_c    569 non-null    float64\n",
      " 3   ave_d    569 non-null    float64\n",
      " 4   ave_e    569 non-null    float64\n",
      " 5   ave_f    569 non-null    float64\n",
      " 6   ave_g    569 non-null    float64\n",
      " 7   ave_h    569 non-null    float64\n",
      " 8   ave_i    569 non-null    float64\n",
      " 9   ave_j    569 non-null    float64\n",
      " 10  se_a     569 non-null    float64\n",
      " 11  se_b     569 non-null    float64\n",
      " 12  se_c     569 non-null    float64\n",
      " 13  se_d     569 non-null    float64\n",
      " 14  se_e     569 non-null    float64\n",
      " 15  se_f     569 non-null    float64\n",
      " 16  se_g     569 non-null    float64\n",
      " 17  se_h     569 non-null    float64\n",
      " 18  se_i     569 non-null    float64\n",
      " 19  se_j     569 non-null    float64\n",
      " 20  worst_a  569 non-null    float64\n",
      " 21  worst_b  569 non-null    float64\n",
      " 22  worst_c  569 non-null    float64\n",
      " 23  worst_d  569 non-null    float64\n",
      " 24  worst_e  569 non-null    float64\n",
      " 25  worst_f  569 non-null    float64\n",
      " 26  worst_g  569 non-null    float64\n",
      " 27  worst_h  569 non-null    float64\n",
      " 28  worst_i  569 non-null    float64\n",
      " 29  worst_j  569 non-null    float64\n",
      "dtypes: float64(30)\n",
      "memory usage: 133.5 KB\n",
      "None\n"
     ]
    },
    {
     "output_type": "display_data",
     "data": {
      "text/plain": [
       "   ave_a  ave_b   ave_c   ave_d    ave_e    ave_f   ave_g    ave_h   ave_i  \\\n",
       "0  17.99  10.38  122.80  1001.0  0.11840  0.27760  0.3001  0.14710  0.2419   \n",
       "1  20.57  17.77  132.90  1326.0  0.08474  0.07864  0.0869  0.07017  0.1812   \n",
       "2  19.69  21.25  130.00  1203.0  0.10960  0.15990  0.1974  0.12790  0.2069   \n",
       "3  11.42  20.38   77.58   386.1  0.14250  0.28390  0.2414  0.10520  0.2597   \n",
       "4  20.29  14.34  135.10  1297.0  0.10030  0.13280  0.1980  0.10430  0.1809   \n",
       "\n",
       "     ave_j  ...  worst_a  worst_b  worst_c  worst_d  worst_e  worst_f  \\\n",
       "0  0.07871  ...    25.38    17.33   184.60   2019.0   0.1622   0.6656   \n",
       "1  0.05667  ...    24.99    23.41   158.80   1956.0   0.1238   0.1866   \n",
       "2  0.05999  ...    23.57    25.53   152.50   1709.0   0.1444   0.4245   \n",
       "3  0.09744  ...    14.91    26.50    98.87    567.7   0.2098   0.8663   \n",
       "4  0.05883  ...    22.54    16.67   152.20   1575.0   0.1374   0.2050   \n",
       "\n",
       "   worst_g  worst_h  worst_i  worst_j  \n",
       "0   0.7119   0.2654   0.4601  0.11890  \n",
       "1   0.2416   0.1860   0.2750  0.08902  \n",
       "2   0.4504   0.2430   0.3613  0.08758  \n",
       "3   0.6869   0.2575   0.6638  0.17300  \n",
       "4   0.4000   0.1625   0.2364  0.07678  \n",
       "\n",
       "[5 rows x 30 columns]"
      ],
      "text/html": [
       "<div>\n",
       "<style scoped>\n",
       "    .dataframe tbody tr th:only-of-type {\n",
       "        vertical-align: middle;\n",
       "    }\n",
       "\n",
       "    .dataframe tbody tr th {\n",
       "        vertical-align: top;\n",
       "    }\n",
       "\n",
       "    .dataframe thead th {\n",
       "        text-align: right;\n",
       "    }\n",
       "</style>\n",
       "<table border=\"1\" class=\"dataframe\">\n",
       "  <thead>\n",
       "    <tr style=\"text-align: right;\">\n",
       "      <th></th>\n",
       "      <th>ave_a</th>\n",
       "      <th>ave_b</th>\n",
       "      <th>ave_c</th>\n",
       "      <th>ave_d</th>\n",
       "      <th>ave_e</th>\n",
       "      <th>ave_f</th>\n",
       "      <th>ave_g</th>\n",
       "      <th>ave_h</th>\n",
       "      <th>ave_i</th>\n",
       "      <th>ave_j</th>\n",
       "      <th>...</th>\n",
       "      <th>worst_a</th>\n",
       "      <th>worst_b</th>\n",
       "      <th>worst_c</th>\n",
       "      <th>worst_d</th>\n",
       "      <th>worst_e</th>\n",
       "      <th>worst_f</th>\n",
       "      <th>worst_g</th>\n",
       "      <th>worst_h</th>\n",
       "      <th>worst_i</th>\n",
       "      <th>worst_j</th>\n",
       "    </tr>\n",
       "  </thead>\n",
       "  <tbody>\n",
       "    <tr>\n",
       "      <th>0</th>\n",
       "      <td>17.99</td>\n",
       "      <td>10.38</td>\n",
       "      <td>122.80</td>\n",
       "      <td>1001.0</td>\n",
       "      <td>0.11840</td>\n",
       "      <td>0.27760</td>\n",
       "      <td>0.3001</td>\n",
       "      <td>0.14710</td>\n",
       "      <td>0.2419</td>\n",
       "      <td>0.07871</td>\n",
       "      <td>...</td>\n",
       "      <td>25.38</td>\n",
       "      <td>17.33</td>\n",
       "      <td>184.60</td>\n",
       "      <td>2019.0</td>\n",
       "      <td>0.1622</td>\n",
       "      <td>0.6656</td>\n",
       "      <td>0.7119</td>\n",
       "      <td>0.2654</td>\n",
       "      <td>0.4601</td>\n",
       "      <td>0.11890</td>\n",
       "    </tr>\n",
       "    <tr>\n",
       "      <th>1</th>\n",
       "      <td>20.57</td>\n",
       "      <td>17.77</td>\n",
       "      <td>132.90</td>\n",
       "      <td>1326.0</td>\n",
       "      <td>0.08474</td>\n",
       "      <td>0.07864</td>\n",
       "      <td>0.0869</td>\n",
       "      <td>0.07017</td>\n",
       "      <td>0.1812</td>\n",
       "      <td>0.05667</td>\n",
       "      <td>...</td>\n",
       "      <td>24.99</td>\n",
       "      <td>23.41</td>\n",
       "      <td>158.80</td>\n",
       "      <td>1956.0</td>\n",
       "      <td>0.1238</td>\n",
       "      <td>0.1866</td>\n",
       "      <td>0.2416</td>\n",
       "      <td>0.1860</td>\n",
       "      <td>0.2750</td>\n",
       "      <td>0.08902</td>\n",
       "    </tr>\n",
       "    <tr>\n",
       "      <th>2</th>\n",
       "      <td>19.69</td>\n",
       "      <td>21.25</td>\n",
       "      <td>130.00</td>\n",
       "      <td>1203.0</td>\n",
       "      <td>0.10960</td>\n",
       "      <td>0.15990</td>\n",
       "      <td>0.1974</td>\n",
       "      <td>0.12790</td>\n",
       "      <td>0.2069</td>\n",
       "      <td>0.05999</td>\n",
       "      <td>...</td>\n",
       "      <td>23.57</td>\n",
       "      <td>25.53</td>\n",
       "      <td>152.50</td>\n",
       "      <td>1709.0</td>\n",
       "      <td>0.1444</td>\n",
       "      <td>0.4245</td>\n",
       "      <td>0.4504</td>\n",
       "      <td>0.2430</td>\n",
       "      <td>0.3613</td>\n",
       "      <td>0.08758</td>\n",
       "    </tr>\n",
       "    <tr>\n",
       "      <th>3</th>\n",
       "      <td>11.42</td>\n",
       "      <td>20.38</td>\n",
       "      <td>77.58</td>\n",
       "      <td>386.1</td>\n",
       "      <td>0.14250</td>\n",
       "      <td>0.28390</td>\n",
       "      <td>0.2414</td>\n",
       "      <td>0.10520</td>\n",
       "      <td>0.2597</td>\n",
       "      <td>0.09744</td>\n",
       "      <td>...</td>\n",
       "      <td>14.91</td>\n",
       "      <td>26.50</td>\n",
       "      <td>98.87</td>\n",
       "      <td>567.7</td>\n",
       "      <td>0.2098</td>\n",
       "      <td>0.8663</td>\n",
       "      <td>0.6869</td>\n",
       "      <td>0.2575</td>\n",
       "      <td>0.6638</td>\n",
       "      <td>0.17300</td>\n",
       "    </tr>\n",
       "    <tr>\n",
       "      <th>4</th>\n",
       "      <td>20.29</td>\n",
       "      <td>14.34</td>\n",
       "      <td>135.10</td>\n",
       "      <td>1297.0</td>\n",
       "      <td>0.10030</td>\n",
       "      <td>0.13280</td>\n",
       "      <td>0.1980</td>\n",
       "      <td>0.10430</td>\n",
       "      <td>0.1809</td>\n",
       "      <td>0.05883</td>\n",
       "      <td>...</td>\n",
       "      <td>22.54</td>\n",
       "      <td>16.67</td>\n",
       "      <td>152.20</td>\n",
       "      <td>1575.0</td>\n",
       "      <td>0.1374</td>\n",
       "      <td>0.2050</td>\n",
       "      <td>0.4000</td>\n",
       "      <td>0.1625</td>\n",
       "      <td>0.2364</td>\n",
       "      <td>0.07678</td>\n",
       "    </tr>\n",
       "  </tbody>\n",
       "</table>\n",
       "<p>5 rows × 30 columns</p>\n",
       "</div>"
      ]
     },
     "metadata": {}
    },
    {
     "output_type": "stream",
     "name": "stdout",
     "text": [
      "(569,)\n",
      "0    M\n",
      "1    M\n",
      "2    M\n",
      "3    M\n",
      "4    M\n",
      "Name: Diag, dtype: object\n"
     ]
    }
   ],
   "metadata": {}
  },
  {
   "cell_type": "markdown",
   "source": [
    "#### Grid search (n_estimators, max_Depth of RF)  "
   ],
   "metadata": {}
  },
  {
   "cell_type": "code",
   "execution_count": 59,
   "source": [
    "rfc=RandomForestClassifier(random_state=13)            \n",
    "\n",
    "# Hyper paramet settings for grid search\n",
    "param_grid = {\n",
    "    'n_estimators': [50, 100, 500, 1000],\n",
    "    'max_depth' : [2, 4, 6, None],\n",
    "}"
   ],
   "outputs": [],
   "metadata": {}
  },
  {
   "cell_type": "code",
   "execution_count": 60,
   "source": [
    "grid_cv = StratifiedKFold(n_splits=4, shuffle=True, random_state=17)\n",
    "gen_cv = StratifiedKFold(n_splits=4, shuffle=True, random_state=19)"
   ],
   "outputs": [],
   "metadata": {}
  },
  {
   "cell_type": "code",
   "execution_count": 61,
   "source": [
    "gs = GridSearchCV(rfc, param_grid , cv=grid_cv, scoring='accuracy')"
   ],
   "outputs": [],
   "metadata": {}
  },
  {
   "cell_type": "code",
   "execution_count": 62,
   "source": [
    "%%time\n",
    "nested_score = cross_val_score(gs, X=df_X, y=ser_y, cv=gen_cv,\n",
    "                               scoring='accuracy')\n",
    "print(nested_score)\n",
    "print(nested_score.mean())"
   ],
   "outputs": [
    {
     "output_type": "stream",
     "name": "stdout",
     "text": [
      "[0.97202797 0.93661972 0.95774648 0.97887324]\n",
      "0.9613168521619226\n",
      "CPU times: user 3min 1s, sys: 1.04 s, total: 3min 2s\n",
      "Wall time: 3min 2s\n"
     ]
    }
   ],
   "metadata": {}
  },
  {
   "cell_type": "code",
   "execution_count": 63,
   "source": [
    "%%time\n",
    "gs.fit(df_X, ser_y)\n",
    "gs_best = gs.best_estimator_"
   ],
   "outputs": [
    {
     "output_type": "stream",
     "name": "stdout",
     "text": [
      "CPU times: user 44 s, sys: 257 ms, total: 44.2 s\n",
      "Wall time: 44.9 s\n"
     ]
    }
   ],
   "metadata": {}
  },
  {
   "cell_type": "code",
   "execution_count": 64,
   "source": [
    "for k,v in gs_best.get_params(deep=True).items():\n",
    "    print(k, '->', v)"
   ],
   "outputs": [
    {
     "output_type": "stream",
     "name": "stdout",
     "text": [
      "bootstrap -> True\n",
      "ccp_alpha -> 0.0\n",
      "class_weight -> None\n",
      "criterion -> gini\n",
      "max_depth -> None\n",
      "max_features -> auto\n",
      "max_leaf_nodes -> None\n",
      "max_samples -> None\n",
      "min_impurity_decrease -> 0.0\n",
      "min_impurity_split -> None\n",
      "min_samples_leaf -> 1\n",
      "min_samples_split -> 2\n",
      "min_weight_fraction_leaf -> 0.0\n",
      "n_estimators -> 100\n",
      "n_jobs -> None\n",
      "oob_score -> False\n",
      "random_state -> 0\n",
      "verbose -> 0\n",
      "warm_start -> False\n"
     ]
    }
   ],
   "metadata": {}
  },
  {
   "cell_type": "code",
   "execution_count": 65,
   "source": [
    "print(pd.Series(gs_best.feature_importances_, index=df_X.columns))"
   ],
   "outputs": [
    {
     "output_type": "stream",
     "name": "stdout",
     "text": [
      "ave_a      0.024299\n",
      "ave_b      0.014196\n",
      "ave_c      0.053993\n",
      "ave_d      0.045401\n",
      "ave_e      0.007955\n",
      "ave_f      0.003456\n",
      "ave_g      0.071862\n",
      "ave_h      0.088527\n",
      "ave_i      0.005588\n",
      "ave_j      0.002141\n",
      "se_a       0.019009\n",
      "se_b       0.004901\n",
      "se_c       0.014594\n",
      "se_d       0.039420\n",
      "se_e       0.003746\n",
      "se_f       0.003668\n",
      "se_g       0.004241\n",
      "se_h       0.005085\n",
      "se_i       0.003711\n",
      "se_j       0.005912\n",
      "worst_a    0.121983\n",
      "worst_b    0.019173\n",
      "worst_c    0.173987\n",
      "worst_d    0.074981\n",
      "worst_e    0.012692\n",
      "worst_f    0.010236\n",
      "worst_g    0.030394\n",
      "worst_h    0.118589\n",
      "worst_i    0.007964\n",
      "worst_j    0.008298\n",
      "dtype: float64\n"
     ]
    }
   ],
   "metadata": {}
  },
  {
   "cell_type": "code",
   "execution_count": 66,
   "source": [
    "plt.bar(df_X.columns, gs_best.feature_importances_)\n",
    "plt.ylabel('Importance')\n",
    "plt.xticks(rotation=90)\n",
    "plt.show()"
   ],
   "outputs": [
    {
     "output_type": "display_data",
     "data": {
      "text/plain": [
       "<Figure size 432x288 with 1 Axes>"
      ],
      "image/png": "[encoded data removed]"
     },
     "metadata": {
      "needs_background": "light"
     }
    }
   ],
   "metadata": {}
  },
  {
   "cell_type": "markdown",
   "source": [
    "#### Save the best predictor  "
   ],
   "metadata": {}
  },
  {
   "cell_type": "code",
   "execution_count": 67,
   "source": [
    "tag = 'cancer'\n",
    "model_file = 'rfc_best_{}.joblib'.format(tag)\n",
    "dump(gs_best, model_file)"
   ],
   "outputs": [
    {
     "output_type": "execute_result",
     "data": {
      "text/plain": [
       "['rfc_best_cancer.joblib']"
      ]
     },
     "metadata": {},
     "execution_count": 67
    }
   ],
   "metadata": {}
  }
 ],
 "metadata": {
  "interpreter": {
   "hash": "e8880c58ea65068827af19aa57df99e07da1109ce0dc5e321474e5f3a08d850b"
  },
  "kernelspec": {
   "display_name": "Python 3.8.8 64-bit ('ds2021': conda)",
   "name": "python3"
  },
  "language_info": {
   "codemirror_mode": {
    "name": "ipython",
    "version": 3
   },
   "file_extension": ".py",
   "mimetype": "text/x-python",
   "name": "python",
   "nbconvert_exporter": "python",
   "pygments_lexer": "ipython3",
   "version": "3.8.8"
  }
 },
 "nbformat": 4,
 "nbformat_minor": 4
}