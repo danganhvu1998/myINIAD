{
 "cells": [
  {
   "cell_type": "code",
   "execution_count": 6,
   "metadata": {},
   "outputs": [],
   "source": [
    "import numpy as np\n",
    "import scipy.stats as ss\n",
    "import pandas as pd"
   ]
  },
  {
   "cell_type": "code",
   "execution_count": 7,
   "metadata": {},
   "outputs": [
    {
     "output_type": "stream",
     "name": "stdout",
     "text": [
      "(205, 4)\n<class 'pandas.core.frame.DataFrame'>\nRangeIndex: 205 entries, 0 to 204\nData columns (total 4 columns):\n #   Column      Non-Null Count  Dtype  \n---  ------      --------------  -----  \n 0   price       201 non-null    float64\n 1   horsepower  203 non-null    float64\n 2   width       205 non-null    float64\n 3   height      205 non-null    float64\ndtypes: float64(4)\nmemory usage: 6.5 KB\nNone\n"
     ]
    },
    {
     "output_type": "display_data",
     "data": {
      "text/plain": "     price  horsepower  width  height\n0  13495.0       111.0   64.1    48.8\n1  16500.0       111.0   64.1    48.8\n2  16500.0       154.0   65.5    52.4\n3  13950.0       102.0   66.2    54.3\n4  17450.0       115.0   66.4    54.3",
      "text/html": "<div>\n<style scoped>\n    .dataframe tbody tr th:only-of-type {\n        vertical-align: middle;\n    }\n\n    .dataframe tbody tr th {\n        vertical-align: top;\n    }\n\n    .dataframe thead th {\n        text-align: right;\n    }\n</style>\n<table border=\"1\" class=\"dataframe\">\n  <thead>\n    <tr style=\"text-align: right;\">\n      <th></th>\n      <th>price</th>\n      <th>horsepower</th>\n      <th>width</th>\n      <th>height</th>\n    </tr>\n  </thead>\n  <tbody>\n    <tr>\n      <th>0</th>\n      <td>13495.0</td>\n      <td>111.0</td>\n      <td>64.1</td>\n      <td>48.8</td>\n    </tr>\n    <tr>\n      <th>1</th>\n      <td>16500.0</td>\n      <td>111.0</td>\n      <td>64.1</td>\n      <td>48.8</td>\n    </tr>\n    <tr>\n      <th>2</th>\n      <td>16500.0</td>\n      <td>154.0</td>\n      <td>65.5</td>\n      <td>52.4</td>\n    </tr>\n    <tr>\n      <th>3</th>\n      <td>13950.0</td>\n      <td>102.0</td>\n      <td>66.2</td>\n      <td>54.3</td>\n    </tr>\n    <tr>\n      <th>4</th>\n      <td>17450.0</td>\n      <td>115.0</td>\n      <td>66.4</td>\n      <td>54.3</td>\n    </tr>\n  </tbody>\n</table>\n</div>"
     },
     "metadata": {}
    }
   ],
   "source": [
    "df = pd.read_csv('ai_mid1.csv', delimiter=';', skiprows=2, header=0)\n",
    "print(df.shape)\n",
    "print(df.info())\n",
    "display(df.head())"
   ]
  },
  {
   "cell_type": "code",
   "execution_count": 10,
   "metadata": {},
   "outputs": [
    {
     "output_type": "stream",
     "name": "stdout",
     "text": [
      "(199, 4)\n<class 'pandas.core.frame.DataFrame'>\nRangeIndex: 199 entries, 0 to 198\nData columns (total 4 columns):\n #   Column      Non-Null Count  Dtype  \n---  ------      --------------  -----  \n 0   price       199 non-null    float64\n 1   horsepower  199 non-null    float64\n 2   width       199 non-null    float64\n 3   height      199 non-null    float64\ndtypes: float64(4)\nmemory usage: 6.3 KB\nNone\n"
     ]
    },
    {
     "output_type": "display_data",
     "data": {
      "text/plain": "     price  horsepower  width  height\n0  13495.0       111.0   64.1    48.8\n1  16500.0       111.0   64.1    48.8\n2  16500.0       154.0   65.5    52.4\n3  13950.0       102.0   66.2    54.3\n4  17450.0       115.0   66.4    54.3",
      "text/html": "<div>\n<style scoped>\n    .dataframe tbody tr th:only-of-type {\n        vertical-align: middle;\n    }\n\n    .dataframe tbody tr th {\n        vertical-align: top;\n    }\n\n    .dataframe thead th {\n        text-align: right;\n    }\n</style>\n<table border=\"1\" class=\"dataframe\">\n  <thead>\n    <tr style=\"text-align: right;\">\n      <th></th>\n      <th>price</th>\n      <th>horsepower</th>\n      <th>width</th>\n      <th>height</th>\n    </tr>\n  </thead>\n  <tbody>\n    <tr>\n      <th>0</th>\n      <td>13495.0</td>\n      <td>111.0</td>\n      <td>64.1</td>\n      <td>48.8</td>\n    </tr>\n    <tr>\n      <th>1</th>\n      <td>16500.0</td>\n      <td>111.0</td>\n      <td>64.1</td>\n      <td>48.8</td>\n    </tr>\n    <tr>\n      <th>2</th>\n      <td>16500.0</td>\n      <td>154.0</td>\n      <td>65.5</td>\n      <td>52.4</td>\n    </tr>\n    <tr>\n      <th>3</th>\n      <td>13950.0</td>\n      <td>102.0</td>\n      <td>66.2</td>\n      <td>54.3</td>\n    </tr>\n    <tr>\n      <th>4</th>\n      <td>17450.0</td>\n      <td>115.0</td>\n      <td>66.4</td>\n      <td>54.3</td>\n    </tr>\n  </tbody>\n</table>\n</div>"
     },
     "metadata": {}
    }
   ],
   "source": [
    "df = df.dropna().reset_index(drop=True)\n",
    "print(df.shape)\n",
    "print(df.info())\n",
    "display(df.head())"
   ]
  },
  {
   "cell_type": "code",
   "execution_count": null,
   "metadata": {},
   "outputs": [],
   "source": []
  }
 ],
 "metadata": {
  "kernelspec": {
   "name": "python388jvsc74a57bd0e8880c58ea65068827af19aa57df99e07da1109ce0dc5e321474e5f3a08d850b",
   "display_name": "Python 3.8.8 64-bit ('ds2021': conda)"
  },
  "language_info": {
   "codemirror_mode": {
    "name": "ipython",
    "version": 3
   },
   "file_extension": ".py",
   "mimetype": "text/x-python",
   "name": "python",
   "nbconvert_exporter": "python",
   "pygments_lexer": "ipython3",
   "version": "3.8.8"
  },
  "metadata": {
   "interpreter": {
    "hash": "e8880c58ea65068827af19aa57df99e07da1109ce0dc5e321474e5f3a08d850b"
   }
  }
 },
 "nbformat": 4,
 "nbformat_minor": 4
}