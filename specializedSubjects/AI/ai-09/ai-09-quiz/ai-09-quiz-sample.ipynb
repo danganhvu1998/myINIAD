{
 "cells": [
  {
   "cell_type": "markdown",
   "metadata": {},
   "source": [
    "### AI-09 Quiz  "
   ]
  },
  {
   "cell_type": "markdown",
   "metadata": {},
   "source": [
    "#### Import libraries  "
   ]
  },
  {
   "cell_type": "code",
   "execution_count": 28,
   "metadata": {},
   "outputs": [],
   "source": [
    "import numpy as np\n",
    "import pandas as pd\n",
    "import matplotlib.pyplot as plt\n",
    "from sklearn.svm import SVC\n",
    "from sklearn.preprocessing import MinMaxScaler\n",
    "from sklearn.model_selection import train_test_split\n",
    "from sklearn.metrics import accuracy_score"
   ]
  },
  {
   "cell_type": "markdown",
   "metadata": {},
   "source": [
    "#### Parameters  "
   ]
  },
  {
   "cell_type": "code",
   "execution_count": 29,
   "metadata": {},
   "outputs": [],
   "source": [
    "csv_in = 'ai-09-quiz.csv'"
   ]
  },
  {
   "cell_type": "markdown",
   "metadata": {},
   "source": [
    "#### Read CSV file  "
   ]
  },
  {
   "cell_type": "code",
   "execution_count": 30,
   "metadata": {},
   "outputs": [
    {
     "output_type": "stream",
     "name": "stdout",
     "text": [
      "(350, 5)\n<class 'pandas.core.frame.DataFrame'>\nRangeIndex: 350 entries, 0 to 349\nData columns (total 5 columns):\n #   Column  Non-Null Count  Dtype  \n---  ------  --------------  -----  \n 0   c1      350 non-null    float64\n 1   c2      350 non-null    float64\n 2   c3      350 non-null    float64\n 3   c4      350 non-null    float64\n 4   type    350 non-null    object \ndtypes: float64(4), object(1)\nmemory usage: 13.8+ KB\nNone\n"
     ]
    },
    {
     "output_type": "display_data",
     "data": {
      "text/plain": "     c1    c2    c3    c4 type\n0  5.22  8.61  1.60  0.13   t1\n1  3.80  8.05  1.70  0.06   t1\n2  3.66  6.85 -1.59  0.28   t1\n3  2.14  7.55 -0.38 -0.25   t1\n4  3.99  8.57  1.16 -1.50   t1",
      "text/html": "<div>\n<style scoped>\n    .dataframe tbody tr th:only-of-type {\n        vertical-align: middle;\n    }\n\n    .dataframe tbody tr th {\n        vertical-align: top;\n    }\n\n    .dataframe thead th {\n        text-align: right;\n    }\n</style>\n<table border=\"1\" class=\"dataframe\">\n  <thead>\n    <tr style=\"text-align: right;\">\n      <th></th>\n      <th>c1</th>\n      <th>c2</th>\n      <th>c3</th>\n      <th>c4</th>\n      <th>type</th>\n    </tr>\n  </thead>\n  <tbody>\n    <tr>\n      <th>0</th>\n      <td>5.22</td>\n      <td>8.61</td>\n      <td>1.60</td>\n      <td>0.13</td>\n      <td>t1</td>\n    </tr>\n    <tr>\n      <th>1</th>\n      <td>3.80</td>\n      <td>8.05</td>\n      <td>1.70</td>\n      <td>0.06</td>\n      <td>t1</td>\n    </tr>\n    <tr>\n      <th>2</th>\n      <td>3.66</td>\n      <td>6.85</td>\n      <td>-1.59</td>\n      <td>0.28</td>\n      <td>t1</td>\n    </tr>\n    <tr>\n      <th>3</th>\n      <td>2.14</td>\n      <td>7.55</td>\n      <td>-0.38</td>\n      <td>-0.25</td>\n      <td>t1</td>\n    </tr>\n    <tr>\n      <th>4</th>\n      <td>3.99</td>\n      <td>8.57</td>\n      <td>1.16</td>\n      <td>-1.50</td>\n      <td>t1</td>\n    </tr>\n  </tbody>\n</table>\n</div>"
     },
     "metadata": {}
    }
   ],
   "source": [
    "df = pd.read_csv(csv_in, delimiter=',', skiprows=0, header=0)\n",
    "print(df.shape)\n",
    "print(df.info())\n",
    "display(df.head())"
   ]
  },
  {
   "cell_type": "code",
   "execution_count": 31,
   "metadata": {},
   "outputs": [
    {
     "output_type": "stream",
     "name": "stdout",
     "text": [
      "(350, 4)\n(350,)\n"
     ]
    }
   ],
   "source": [
    "X = df.loc[:, 'c1':'c4']\n",
    "y = df['type']\n",
    "print(X.shape)\n",
    "print(y.shape)"
   ]
  },
  {
   "cell_type": "code",
   "execution_count": 32,
   "metadata": {},
   "outputs": [],
   "source": [
    "X_train, X_test, y_train, y_test = train_test_split(\n",
    "    X, y, test_size=0.3, random_state=1, stratify=y)"
   ]
  },
  {
   "cell_type": "code",
   "execution_count": 33,
   "metadata": {},
   "outputs": [],
   "source": [
    "sc = MinMaxScaler(feature_range=(0, 1), copy=True)\n",
    "sc.fit(X_train)\n",
    "X_train_std = sc.transform(X_train)"
   ]
  },
  {
   "cell_type": "code",
   "execution_count": 34,
   "metadata": {},
   "outputs": [
    {
     "output_type": "execute_result",
     "data": {
      "text/plain": [
       "SVC(random_state=1)"
      ]
     },
     "metadata": {},
     "execution_count": 34
    }
   ],
   "source": [
    "svc = SVC(kernel='rbf', C=1.0, gamma='scale', random_state=7)\n",
    "svc.fit(X_train_std, y_train)"
   ]
  },
  {
   "cell_type": "code",
   "execution_count": 35,
   "metadata": {},
   "outputs": [],
   "source": [
    "y_train_pred = svc.predict(X_train_std)"
   ]
  },
  {
   "cell_type": "code",
   "execution_count": 36,
   "metadata": {},
   "outputs": [
    {
     "output_type": "stream",
     "name": "stdout",
     "text": [
      "accuracy(Q2) for train data: 0.9591836734693877\n"
     ]
    },
    {
     "output_type": "display_data",
     "data": {
      "text/plain": "col_0  t1  t2  t3\ntype             \nt1     69   0   1\nt2      0  69   1\nt3      6   2  97",
      "text/html": "<div>\n<style scoped>\n    .dataframe tbody tr th:only-of-type {\n        vertical-align: middle;\n    }\n\n    .dataframe tbody tr th {\n        vertical-align: top;\n    }\n\n    .dataframe thead th {\n        text-align: right;\n    }\n</style>\n<table border=\"1\" class=\"dataframe\">\n  <thead>\n    <tr style=\"text-align: right;\">\n      <th>col_0</th>\n      <th>t1</th>\n      <th>t2</th>\n      <th>t3</th>\n    </tr>\n    <tr>\n      <th>type</th>\n      <th></th>\n      <th></th>\n      <th></th>\n    </tr>\n  </thead>\n  <tbody>\n    <tr>\n      <th>t1</th>\n      <td>69</td>\n      <td>0</td>\n      <td>1</td>\n    </tr>\n    <tr>\n      <th>t2</th>\n      <td>0</td>\n      <td>69</td>\n      <td>1</td>\n    </tr>\n    <tr>\n      <th>t3</th>\n      <td>6</td>\n      <td>2</td>\n      <td>97</td>\n    </tr>\n  </tbody>\n</table>\n</div>"
     },
     "metadata": {}
    }
   ],
   "source": [
    "print('accuracy(Q2) for train data:', accuracy_score(y_train, y_train_pred))\n",
    "\n",
    "ct_pred = pd.crosstab(y_train, y_train_pred)\n",
    "display(ct_pred)"
   ]
  },
  {
   "cell_type": "code",
   "execution_count": 37,
   "metadata": {},
   "outputs": [],
   "source": [
    "X_test_std = sc.transform(X_test)"
   ]
  },
  {
   "cell_type": "code",
   "execution_count": 38,
   "metadata": {},
   "outputs": [],
   "source": [
    "y_test_pred = svc.predict(X_test_std)"
   ]
  },
  {
   "cell_type": "code",
   "execution_count": 39,
   "metadata": {},
   "outputs": [
    {
     "output_type": "stream",
     "name": "stdout",
     "text": [
      "accuracy(Q2) for test data: 0.9523809523809523\n"
     ]
    },
    {
     "output_type": "display_data",
     "data": {
      "text/plain": "col_0  t1  t2  t3\ntype             \nt1     29   0   1\nt2      0  30   0\nt3      4   0  41",
      "text/html": "<div>\n<style scoped>\n    .dataframe tbody tr th:only-of-type {\n        vertical-align: middle;\n    }\n\n    .dataframe tbody tr th {\n        vertical-align: top;\n    }\n\n    .dataframe thead th {\n        text-align: right;\n    }\n</style>\n<table border=\"1\" class=\"dataframe\">\n  <thead>\n    <tr style=\"text-align: right;\">\n      <th>col_0</th>\n      <th>t1</th>\n      <th>t2</th>\n      <th>t3</th>\n    </tr>\n    <tr>\n      <th>type</th>\n      <th></th>\n      <th></th>\n      <th></th>\n    </tr>\n  </thead>\n  <tbody>\n    <tr>\n      <th>t1</th>\n      <td>29</td>\n      <td>0</td>\n      <td>1</td>\n    </tr>\n    <tr>\n      <th>t2</th>\n      <td>0</td>\n      <td>30</td>\n      <td>0</td>\n    </tr>\n    <tr>\n      <th>t3</th>\n      <td>4</td>\n      <td>0</td>\n      <td>41</td>\n    </tr>\n  </tbody>\n</table>\n</div>"
     },
     "metadata": {}
    }
   ],
   "source": [
    "print('accuracy(Q2) for test data:', accuracy_score(y_test, y_test_pred))\n",
    "\n",
    "ct_test = pd.crosstab(y_test, y_test_pred)\n",
    "display(ct_test)"
   ]
  }
 ],
 "metadata": {
  "kernelspec": {
   "name": "python3",
   "display_name": "Python 3.8.8 64-bit ('iniad_ai': conda)"
  },
  "language_info": {
   "codemirror_mode": {
    "name": "ipython",
    "version": 3
   },
   "file_extension": ".py",
   "mimetype": "text/x-python",
   "name": "python",
   "nbconvert_exporter": "python",
   "pygments_lexer": "ipython3",
   "version": "3.8.8"
  },
  "interpreter": {
   "hash": "db8b7fe47b70054bb2bb00b153272d4f7a23c7269610021a9b5fc371a2b81095"
  }
 },
 "nbformat": 4,
 "nbformat_minor": 4
}