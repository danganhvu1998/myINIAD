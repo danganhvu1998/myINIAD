{
 "metadata": {
  "language_info": {
   "codemirror_mode": {
    "name": "ipython",
    "version": 3
   },
   "file_extension": ".py",
   "mimetype": "text/x-python",
   "name": "python",
   "nbconvert_exporter": "python",
   "pygments_lexer": "ipython3",
   "version": "3.8.8"
  },
  "orig_nbformat": 2,
  "kernelspec": {
   "name": "python388jvsc74a57bd0e8880c58ea65068827af19aa57df99e07da1109ce0dc5e321474e5f3a08d850b",
   "display_name": "Python 3.8.8 64-bit ('ds2021': conda)"
  },
  "metadata": {
   "interpreter": {
    "hash": "e8880c58ea65068827af19aa57df99e07da1109ce0dc5e321474e5f3a08d850b"
   }
  }
 },
 "nbformat": 4,
 "nbformat_minor": 2,
 "cells": [
  {
   "cell_type": "code",
   "execution_count": 1,
   "metadata": {},
   "outputs": [],
   "source": [
    "import numpy as np\n",
    "import pandas as pd"
   ]
  },
  {
   "source": [
    "# Numby + Pandas AI01-02\n",
    "df = pd.read_csv('./ai-0102/pandas_training-utf8.csv', delimiter=',', skiprows=13, header=0)\n",
    "display(df)\n",
    "print( df.shape )\n",
    "print( df.dtypes )\n",
    "display( df.info() )\n",
    "display( df.describe() )\n",
    "display( df.head() )"
   ],
   "cell_type": "code",
   "metadata": {},
   "execution_count": 2,
   "outputs": [
    {
     "output_type": "display_data",
     "data": {
      "text/plain": "    CHANNEL REGION  FRESH   MILK  GROCERY  FROZEN  DET_PAPER  DELICA\n0    Retail  Other  12669   9656     7561     214       2674    1338\n1    Retail  Other   7057   9810     9568    1762       3293    1776\n2    Retail  Other   6353   8808     7684    2405       3516    7844\n3    Horeca  Other  13265   1196     4221    6404        507    1788\n4    Retail  Other  22615   5410     7198    3915       1777    5185\n..      ...    ...    ...    ...      ...     ...        ...     ...\n435  Horeca  Other  29703  12051    16027   13135        182    2204\n436  Horeca  Other  39228   1431      764    4510         93    2346\n437  Retail  Other  14531  15488    30243     437      14841    1867\n438  Horeca  Other  10290   1981     2232    1038        168    2125\n439  Horeca  Other   2787   1698     2510      65        477      52\n\n[440 rows x 8 columns]",
      "text/html": "<div>\n<style scoped>\n    .dataframe tbody tr th:only-of-type {\n        vertical-align: middle;\n    }\n\n    .dataframe tbody tr th {\n        vertical-align: top;\n    }\n\n    .dataframe thead th {\n        text-align: right;\n    }\n</style>\n<table border=\"1\" class=\"dataframe\">\n  <thead>\n    <tr style=\"text-align: right;\">\n      <th></th>\n      <th>CHANNEL</th>\n      <th>REGION</th>\n      <th>FRESH</th>\n      <th>MILK</th>\n      <th>GROCERY</th>\n      <th>FROZEN</th>\n      <th>DET_PAPER</th>\n      <th>DELICA</th>\n    </tr>\n  </thead>\n  <tbody>\n    <tr>\n      <th>0</th>\n      <td>Retail</td>\n      <td>Other</td>\n      <td>12669</td>\n      <td>9656</td>\n      <td>7561</td>\n      <td>214</td>\n      <td>2674</td>\n      <td>1338</td>\n    </tr>\n    <tr>\n      <th>1</th>\n      <td>Retail</td>\n      <td>Other</td>\n      <td>7057</td>\n      <td>9810</td>\n      <td>9568</td>\n      <td>1762</td>\n      <td>3293</td>\n      <td>1776</td>\n    </tr>\n    <tr>\n      <th>2</th>\n      <td>Retail</td>\n      <td>Other</td>\n      <td>6353</td>\n      <td>8808</td>\n      <td>7684</td>\n      <td>2405</td>\n      <td>3516</td>\n      <td>7844</td>\n    </tr>\n    <tr>\n      <th>3</th>\n      <td>Horeca</td>\n      <td>Other</td>\n      <td>13265</td>\n      <td>1196</td>\n      <td>4221</td>\n      <td>6404</td>\n      <td>507</td>\n      <td>1788</td>\n    </tr>\n    <tr>\n      <th>4</th>\n      <td>Retail</td>\n      <td>Other</td>\n      <td>22615</td>\n      <td>5410</td>\n      <td>7198</td>\n      <td>3915</td>\n      <td>1777</td>\n      <td>5185</td>\n    </tr>\n    <tr>\n      <th>...</th>\n      <td>...</td>\n      <td>...</td>\n      <td>...</td>\n      <td>...</td>\n      <td>...</td>\n      <td>...</td>\n      <td>...</td>\n      <td>...</td>\n    </tr>\n    <tr>\n      <th>435</th>\n      <td>Horeca</td>\n      <td>Other</td>\n      <td>29703</td>\n      <td>12051</td>\n      <td>16027</td>\n      <td>13135</td>\n      <td>182</td>\n      <td>2204</td>\n    </tr>\n    <tr>\n      <th>436</th>\n      <td>Horeca</td>\n      <td>Other</td>\n      <td>39228</td>\n      <td>1431</td>\n      <td>764</td>\n      <td>4510</td>\n      <td>93</td>\n      <td>2346</td>\n    </tr>\n    <tr>\n      <th>437</th>\n      <td>Retail</td>\n      <td>Other</td>\n      <td>14531</td>\n      <td>15488</td>\n      <td>30243</td>\n      <td>437</td>\n      <td>14841</td>\n      <td>1867</td>\n    </tr>\n    <tr>\n      <th>438</th>\n      <td>Horeca</td>\n      <td>Other</td>\n      <td>10290</td>\n      <td>1981</td>\n      <td>2232</td>\n      <td>1038</td>\n      <td>168</td>\n      <td>2125</td>\n    </tr>\n    <tr>\n      <th>439</th>\n      <td>Horeca</td>\n      <td>Other</td>\n      <td>2787</td>\n      <td>1698</td>\n      <td>2510</td>\n      <td>65</td>\n      <td>477</td>\n      <td>52</td>\n    </tr>\n  </tbody>\n</table>\n<p>440 rows × 8 columns</p>\n</div>"
     },
     "metadata": {}
    },
    {
     "output_type": "stream",
     "name": "stdout",
     "text": [
      "(440, 8)\nCHANNEL      object\nREGION       object\nFRESH         int64\nMILK          int64\nGROCERY       int64\nFROZEN        int64\nDET_PAPER     int64\nDELICA        int64\ndtype: object\n<class 'pandas.core.frame.DataFrame'>\nRangeIndex: 440 entries, 0 to 439\nData columns (total 8 columns):\n #   Column     Non-Null Count  Dtype \n---  ------     --------------  ----- \n 0   CHANNEL    440 non-null    object\n 1   REGION     440 non-null    object\n 2   FRESH      440 non-null    int64 \n 3   MILK       440 non-null    int64 \n 4   GROCERY    440 non-null    int64 \n 5   FROZEN     440 non-null    int64 \n 6   DET_PAPER  440 non-null    int64 \n 7   DELICA     440 non-null    int64 \ndtypes: int64(6), object(2)\nmemory usage: 27.6+ KB\n"
     ]
    },
    {
     "output_type": "display_data",
     "data": {
      "text/plain": "None"
     },
     "metadata": {}
    },
    {
     "output_type": "display_data",
     "data": {
      "text/plain": "               FRESH          MILK       GROCERY        FROZEN     DET_PAPER  \\\ncount     440.000000    440.000000    440.000000    440.000000    440.000000   \nmean    12000.297727   5796.265909   7951.277273   3071.931818   2881.493182   \nstd     12647.328865   7380.377175   9503.162829   4854.673333   4767.854448   \nmin         3.000000     55.000000      3.000000     25.000000      3.000000   \n25%      3127.750000   1533.000000   2153.000000    742.250000    256.750000   \n50%      8504.000000   3627.000000   4755.500000   1526.000000    816.500000   \n75%     16933.750000   7190.250000  10655.750000   3554.250000   3922.000000   \nmax    112151.000000  73498.000000  92780.000000  60869.000000  40827.000000   \n\n             DELICA  \ncount    440.000000  \nmean    1524.870455  \nstd     2820.105937  \nmin        3.000000  \n25%      408.250000  \n50%      965.500000  \n75%     1820.250000  \nmax    47943.000000  ",
      "text/html": "<div>\n<style scoped>\n    .dataframe tbody tr th:only-of-type {\n        vertical-align: middle;\n    }\n\n    .dataframe tbody tr th {\n        vertical-align: top;\n    }\n\n    .dataframe thead th {\n        text-align: right;\n    }\n</style>\n<table border=\"1\" class=\"dataframe\">\n  <thead>\n    <tr style=\"text-align: right;\">\n      <th></th>\n      <th>FRESH</th>\n      <th>MILK</th>\n      <th>GROCERY</th>\n      <th>FROZEN</th>\n      <th>DET_PAPER</th>\n      <th>DELICA</th>\n    </tr>\n  </thead>\n  <tbody>\n    <tr>\n      <th>count</th>\n      <td>440.000000</td>\n      <td>440.000000</td>\n      <td>440.000000</td>\n      <td>440.000000</td>\n      <td>440.000000</td>\n      <td>440.000000</td>\n    </tr>\n    <tr>\n      <th>mean</th>\n      <td>12000.297727</td>\n      <td>5796.265909</td>\n      <td>7951.277273</td>\n      <td>3071.931818</td>\n      <td>2881.493182</td>\n      <td>1524.870455</td>\n    </tr>\n    <tr>\n      <th>std</th>\n      <td>12647.328865</td>\n      <td>7380.377175</td>\n      <td>9503.162829</td>\n      <td>4854.673333</td>\n      <td>4767.854448</td>\n      <td>2820.105937</td>\n    </tr>\n    <tr>\n      <th>min</th>\n      <td>3.000000</td>\n      <td>55.000000</td>\n      <td>3.000000</td>\n      <td>25.000000</td>\n      <td>3.000000</td>\n      <td>3.000000</td>\n    </tr>\n    <tr>\n      <th>25%</th>\n      <td>3127.750000</td>\n      <td>1533.000000</td>\n      <td>2153.000000</td>\n      <td>742.250000</td>\n      <td>256.750000</td>\n      <td>408.250000</td>\n    </tr>\n    <tr>\n      <th>50%</th>\n      <td>8504.000000</td>\n      <td>3627.000000</td>\n      <td>4755.500000</td>\n      <td>1526.000000</td>\n      <td>816.500000</td>\n      <td>965.500000</td>\n    </tr>\n    <tr>\n      <th>75%</th>\n      <td>16933.750000</td>\n      <td>7190.250000</td>\n      <td>10655.750000</td>\n      <td>3554.250000</td>\n      <td>3922.000000</td>\n      <td>1820.250000</td>\n    </tr>\n    <tr>\n      <th>max</th>\n      <td>112151.000000</td>\n      <td>73498.000000</td>\n      <td>92780.000000</td>\n      <td>60869.000000</td>\n      <td>40827.000000</td>\n      <td>47943.000000</td>\n    </tr>\n  </tbody>\n</table>\n</div>"
     },
     "metadata": {}
    },
    {
     "output_type": "display_data",
     "data": {
      "text/plain": "  CHANNEL REGION  FRESH  MILK  GROCERY  FROZEN  DET_PAPER  DELICA\n0  Retail  Other  12669  9656     7561     214       2674    1338\n1  Retail  Other   7057  9810     9568    1762       3293    1776\n2  Retail  Other   6353  8808     7684    2405       3516    7844\n3  Horeca  Other  13265  1196     4221    6404        507    1788\n4  Retail  Other  22615  5410     7198    3915       1777    5185",
      "text/html": "<div>\n<style scoped>\n    .dataframe tbody tr th:only-of-type {\n        vertical-align: middle;\n    }\n\n    .dataframe tbody tr th {\n        vertical-align: top;\n    }\n\n    .dataframe thead th {\n        text-align: right;\n    }\n</style>\n<table border=\"1\" class=\"dataframe\">\n  <thead>\n    <tr style=\"text-align: right;\">\n      <th></th>\n      <th>CHANNEL</th>\n      <th>REGION</th>\n      <th>FRESH</th>\n      <th>MILK</th>\n      <th>GROCERY</th>\n      <th>FROZEN</th>\n      <th>DET_PAPER</th>\n      <th>DELICA</th>\n    </tr>\n  </thead>\n  <tbody>\n    <tr>\n      <th>0</th>\n      <td>Retail</td>\n      <td>Other</td>\n      <td>12669</td>\n      <td>9656</td>\n      <td>7561</td>\n      <td>214</td>\n      <td>2674</td>\n      <td>1338</td>\n    </tr>\n    <tr>\n      <th>1</th>\n      <td>Retail</td>\n      <td>Other</td>\n      <td>7057</td>\n      <td>9810</td>\n      <td>9568</td>\n      <td>1762</td>\n      <td>3293</td>\n      <td>1776</td>\n    </tr>\n    <tr>\n      <th>2</th>\n      <td>Retail</td>\n      <td>Other</td>\n      <td>6353</td>\n      <td>8808</td>\n      <td>7684</td>\n      <td>2405</td>\n      <td>3516</td>\n      <td>7844</td>\n    </tr>\n    <tr>\n      <th>3</th>\n      <td>Horeca</td>\n      <td>Other</td>\n      <td>13265</td>\n      <td>1196</td>\n      <td>4221</td>\n      <td>6404</td>\n      <td>507</td>\n      <td>1788</td>\n    </tr>\n    <tr>\n      <th>4</th>\n      <td>Retail</td>\n      <td>Other</td>\n      <td>22615</td>\n      <td>5410</td>\n      <td>7198</td>\n      <td>3915</td>\n      <td>1777</td>\n      <td>5185</td>\n    </tr>\n  </tbody>\n</table>\n</div>"
     },
     "metadata": {}
    }
   ]
  },
  {
   "cell_type": "code",
   "execution_count": 3,
   "metadata": {},
   "outputs": [
    {
     "output_type": "stream",
     "name": "stdout",
     "text": [
      "0    9656\n1    9810\n2    8808\nName: MILK, dtype: int64\n"
     ]
    },
    {
     "output_type": "display_data",
     "data": {
      "text/plain": "   FRESH  GROCERY\n0  12669     7561\n1   7057     9568\n2   6353     7684",
      "text/html": "<div>\n<style scoped>\n    .dataframe tbody tr th:only-of-type {\n        vertical-align: middle;\n    }\n\n    .dataframe tbody tr th {\n        vertical-align: top;\n    }\n\n    .dataframe thead th {\n        text-align: right;\n    }\n</style>\n<table border=\"1\" class=\"dataframe\">\n  <thead>\n    <tr style=\"text-align: right;\">\n      <th></th>\n      <th>FRESH</th>\n      <th>GROCERY</th>\n    </tr>\n  </thead>\n  <tbody>\n    <tr>\n      <th>0</th>\n      <td>12669</td>\n      <td>7561</td>\n    </tr>\n    <tr>\n      <th>1</th>\n      <td>7057</td>\n      <td>9568</td>\n    </tr>\n    <tr>\n      <th>2</th>\n      <td>6353</td>\n      <td>7684</td>\n    </tr>\n  </tbody>\n</table>\n</div>"
     },
     "metadata": {}
    },
    {
     "output_type": "display_data",
     "data": {
      "text/plain": "   FRESH  MILK  GROCERY\n0  12669  9656     7561\n1   7057  9810     9568\n2   6353  8808     7684",
      "text/html": "<div>\n<style scoped>\n    .dataframe tbody tr th:only-of-type {\n        vertical-align: middle;\n    }\n\n    .dataframe tbody tr th {\n        vertical-align: top;\n    }\n\n    .dataframe thead th {\n        text-align: right;\n    }\n</style>\n<table border=\"1\" class=\"dataframe\">\n  <thead>\n    <tr style=\"text-align: right;\">\n      <th></th>\n      <th>FRESH</th>\n      <th>MILK</th>\n      <th>GROCERY</th>\n    </tr>\n  </thead>\n  <tbody>\n    <tr>\n      <th>0</th>\n      <td>12669</td>\n      <td>9656</td>\n      <td>7561</td>\n    </tr>\n    <tr>\n      <th>1</th>\n      <td>7057</td>\n      <td>9810</td>\n      <td>9568</td>\n    </tr>\n    <tr>\n      <th>2</th>\n      <td>6353</td>\n      <td>8808</td>\n      <td>7684</td>\n    </tr>\n  </tbody>\n</table>\n</div>"
     },
     "metadata": {}
    },
    {
     "output_type": "display_data",
     "data": {
      "text/plain": "   GROCERY  FROZEN  DET_PAPER  DELICA\n0     7561     214       2674    1338\n1     9568    1762       3293    1776\n2     7684    2405       3516    7844",
      "text/html": "<div>\n<style scoped>\n    .dataframe tbody tr th:only-of-type {\n        vertical-align: middle;\n    }\n\n    .dataframe tbody tr th {\n        vertical-align: top;\n    }\n\n    .dataframe thead th {\n        text-align: right;\n    }\n</style>\n<table border=\"1\" class=\"dataframe\">\n  <thead>\n    <tr style=\"text-align: right;\">\n      <th></th>\n      <th>GROCERY</th>\n      <th>FROZEN</th>\n      <th>DET_PAPER</th>\n      <th>DELICA</th>\n    </tr>\n  </thead>\n  <tbody>\n    <tr>\n      <th>0</th>\n      <td>7561</td>\n      <td>214</td>\n      <td>2674</td>\n      <td>1338</td>\n    </tr>\n    <tr>\n      <th>1</th>\n      <td>9568</td>\n      <td>1762</td>\n      <td>3293</td>\n      <td>1776</td>\n    </tr>\n    <tr>\n      <th>2</th>\n      <td>7684</td>\n      <td>2405</td>\n      <td>3516</td>\n      <td>7844</td>\n    </tr>\n  </tbody>\n</table>\n</div>"
     },
     "metadata": {}
    }
   ],
   "source": [
    "# Numby + Pandas AI01-02: Slice dataframe\n",
    "ser_milk = df['MILK']; print(ser_milk.head(3))\n",
    "df_list = df[['FRESH', 'GROCERY']]; display(df_list.head(3))\n",
    "df_slice = df.loc[:,'FRESH':'GROCERY']; display(df_slice.head(3))\n",
    "df2 = df.loc[:2, 'GROCERY':]\n",
    "display(df2)"
   ]
  },
  {
   "cell_type": "code",
   "execution_count": 4,
   "metadata": {},
   "outputs": [
    {
     "output_type": "display_data",
     "data": {
      "text/plain": "  CHANNEL REGION  FRESH  MILK  GROCERY  FROZEN  DET_PAPER  DELICA\n0  Retail  Other  12669  9656     7561     214       2674    1338\n1  Retail  Other   7057  9810     9568    1762       3293    1776\n2  Retail  Other   6353  8808     7684    2405       3516    7844",
      "text/html": "<div>\n<style scoped>\n    .dataframe tbody tr th:only-of-type {\n        vertical-align: middle;\n    }\n\n    .dataframe tbody tr th {\n        vertical-align: top;\n    }\n\n    .dataframe thead th {\n        text-align: right;\n    }\n</style>\n<table border=\"1\" class=\"dataframe\">\n  <thead>\n    <tr style=\"text-align: right;\">\n      <th></th>\n      <th>CHANNEL</th>\n      <th>REGION</th>\n      <th>FRESH</th>\n      <th>MILK</th>\n      <th>GROCERY</th>\n      <th>FROZEN</th>\n      <th>DET_PAPER</th>\n      <th>DELICA</th>\n    </tr>\n  </thead>\n  <tbody>\n    <tr>\n      <th>0</th>\n      <td>Retail</td>\n      <td>Other</td>\n      <td>12669</td>\n      <td>9656</td>\n      <td>7561</td>\n      <td>214</td>\n      <td>2674</td>\n      <td>1338</td>\n    </tr>\n    <tr>\n      <th>1</th>\n      <td>Retail</td>\n      <td>Other</td>\n      <td>7057</td>\n      <td>9810</td>\n      <td>9568</td>\n      <td>1762</td>\n      <td>3293</td>\n      <td>1776</td>\n    </tr>\n    <tr>\n      <th>2</th>\n      <td>Retail</td>\n      <td>Other</td>\n      <td>6353</td>\n      <td>8808</td>\n      <td>7684</td>\n      <td>2405</td>\n      <td>3516</td>\n      <td>7844</td>\n    </tr>\n  </tbody>\n</table>\n</div>"
     },
     "metadata": {}
    },
    {
     "output_type": "display_data",
     "data": {
      "text/plain": "0    22899\n1    13682\n2    10390\ndtype: int64"
     },
     "metadata": {}
    }
   ],
   "source": [
    "# Numby + Pandas AI01-02: Col calculation\n",
    "display(df.head(3))\n",
    "ser = 2*df['FRESH']+df['GROCERY']-10000\n",
    "display(ser.head(3))"
   ]
  },
  {
   "cell_type": "code",
   "execution_count": 5,
   "metadata": {},
   "outputs": [
    {
     "output_type": "stream",
     "name": "stdout",
     "text": [
      "CHANNEL      Horeca\nREGION        Other\nFRESH        112151\nMILK          29627\nGROCERY       18148\nFROZEN        16745\nDET_PAPER      4948\nDELICA         8550\nName: 181, dtype: object\n"
     ]
    }
   ],
   "source": [
    "# Numby + Pandas AI01-02: Max row\n",
    "ser_max = df.loc[ df['FRESH'].idxmax() ]\n",
    "print(ser_max)"
   ]
  },
  {
   "cell_type": "code",
   "execution_count": 6,
   "metadata": {},
   "outputs": [
    {
     "output_type": "stream",
     "name": "stdout",
     "text": [
      "Other     316\nLisbon     77\nOporto     47\nName: REGION, dtype: int64\n"
     ]
    }
   ],
   "source": [
    "# Numby + Pandas AI01-02: Value count\n",
    "print(df['REGION'].value_counts())"
   ]
  },
  {
   "cell_type": "code",
   "execution_count": 7,
   "metadata": {},
   "outputs": [
    {
     "output_type": "display_data",
     "data": {
      "text/plain": "CHANNEL  Horeca  Retail\nREGION                 \nLisbon       59      18\nOporto       28      19\nOther       211     105",
      "text/html": "<div>\n<style scoped>\n    .dataframe tbody tr th:only-of-type {\n        vertical-align: middle;\n    }\n\n    .dataframe tbody tr th {\n        vertical-align: top;\n    }\n\n    .dataframe thead th {\n        text-align: right;\n    }\n</style>\n<table border=\"1\" class=\"dataframe\">\n  <thead>\n    <tr style=\"text-align: right;\">\n      <th>CHANNEL</th>\n      <th>Horeca</th>\n      <th>Retail</th>\n    </tr>\n    <tr>\n      <th>REGION</th>\n      <th></th>\n      <th></th>\n    </tr>\n  </thead>\n  <tbody>\n    <tr>\n      <th>Lisbon</th>\n      <td>59</td>\n      <td>18</td>\n    </tr>\n    <tr>\n      <th>Oporto</th>\n      <td>28</td>\n      <td>19</td>\n    </tr>\n    <tr>\n      <th>Other</th>\n      <td>211</td>\n      <td>105</td>\n    </tr>\n  </tbody>\n</table>\n</div>"
     },
     "metadata": {}
    },
    {
     "output_type": "display_data",
     "data": {
      "text/plain": "CHANNEL    Horeca    Retail       All\nREGION                               \nLisbon   0.197987  0.126761  0.175000\nOporto   0.093960  0.133803  0.106818\nOther    0.708054  0.739437  0.718182",
      "text/html": "<div>\n<style scoped>\n    .dataframe tbody tr th:only-of-type {\n        vertical-align: middle;\n    }\n\n    .dataframe tbody tr th {\n        vertical-align: top;\n    }\n\n    .dataframe thead th {\n        text-align: right;\n    }\n</style>\n<table border=\"1\" class=\"dataframe\">\n  <thead>\n    <tr style=\"text-align: right;\">\n      <th>CHANNEL</th>\n      <th>Horeca</th>\n      <th>Retail</th>\n      <th>All</th>\n    </tr>\n    <tr>\n      <th>REGION</th>\n      <th></th>\n      <th></th>\n      <th></th>\n    </tr>\n  </thead>\n  <tbody>\n    <tr>\n      <th>Lisbon</th>\n      <td>0.197987</td>\n      <td>0.126761</td>\n      <td>0.175000</td>\n    </tr>\n    <tr>\n      <th>Oporto</th>\n      <td>0.093960</td>\n      <td>0.133803</td>\n      <td>0.106818</td>\n    </tr>\n    <tr>\n      <th>Other</th>\n      <td>0.708054</td>\n      <td>0.739437</td>\n      <td>0.718182</td>\n    </tr>\n  </tbody>\n</table>\n</div>"
     },
     "metadata": {}
    },
    {
     "output_type": "display_data",
     "data": {
      "text/plain": "                FRESH                    FROZEN             \nCHANNEL        Horeca       Retail       Horeca       Retail\nREGION                                                      \nLisbon   12902.254237  5200.000000  3127.322034  2584.111111\nOporto   11650.535714  7289.789474  5745.035714  1540.578947\nOther    13878.052133  9831.504762  3656.900474  1513.200000",
      "text/html": "<div>\n<style scoped>\n    .dataframe tbody tr th:only-of-type {\n        vertical-align: middle;\n    }\n\n    .dataframe tbody tr th {\n        vertical-align: top;\n    }\n\n    .dataframe thead tr th {\n        text-align: left;\n    }\n\n    .dataframe thead tr:last-of-type th {\n        text-align: right;\n    }\n</style>\n<table border=\"1\" class=\"dataframe\">\n  <thead>\n    <tr>\n      <th></th>\n      <th colspan=\"2\" halign=\"left\">FRESH</th>\n      <th colspan=\"2\" halign=\"left\">FROZEN</th>\n    </tr>\n    <tr>\n      <th>CHANNEL</th>\n      <th>Horeca</th>\n      <th>Retail</th>\n      <th>Horeca</th>\n      <th>Retail</th>\n    </tr>\n    <tr>\n      <th>REGION</th>\n      <th></th>\n      <th></th>\n      <th></th>\n      <th></th>\n    </tr>\n  </thead>\n  <tbody>\n    <tr>\n      <th>Lisbon</th>\n      <td>12902.254237</td>\n      <td>5200.000000</td>\n      <td>3127.322034</td>\n      <td>2584.111111</td>\n    </tr>\n    <tr>\n      <th>Oporto</th>\n      <td>11650.535714</td>\n      <td>7289.789474</td>\n      <td>5745.035714</td>\n      <td>1540.578947</td>\n    </tr>\n    <tr>\n      <th>Other</th>\n      <td>13878.052133</td>\n      <td>9831.504762</td>\n      <td>3656.900474</td>\n      <td>1513.200000</td>\n    </tr>\n  </tbody>\n</table>\n</div>"
     },
     "metadata": {}
    }
   ],
   "source": [
    "# Numby + Pandas AI01-02: Cross + Pivot table\n",
    "df_reg_ch = pd.crosstab(df['REGION'], df['CHANNEL']); display(df_reg_ch)\n",
    "df_reg_ch2 = pd.crosstab(df['REGION'], df['CHANNEL'], margins=True, normalize='columns')\n",
    "display(df_reg_ch2)\n",
    "df_pivot = df.pivot_table(index='REGION', columns='CHANNEL', values=['FRESH', 'FROZEN'])\n",
    "display(df_pivot)"
   ]
  },
  {
   "cell_type": "code",
   "execution_count": 8,
   "metadata": {},
   "outputs": [
    {
     "output_type": "display_data",
     "data": {
      "text/plain": "  CHANNEL REGION  FRESH  MILK  GROCERY  FROZEN  DET_PAPER  DELICA\n0  Retail  Other  12669  9656     7561     214       2674    1338\n1  Retail  Other   7057  9810     9568    1762       3293    1776\n2  Retail  Other   6353  8808     7684    2405       3516    7844",
      "text/html": "<div>\n<style scoped>\n    .dataframe tbody tr th:only-of-type {\n        vertical-align: middle;\n    }\n\n    .dataframe tbody tr th {\n        vertical-align: top;\n    }\n\n    .dataframe thead th {\n        text-align: right;\n    }\n</style>\n<table border=\"1\" class=\"dataframe\">\n  <thead>\n    <tr style=\"text-align: right;\">\n      <th></th>\n      <th>CHANNEL</th>\n      <th>REGION</th>\n      <th>FRESH</th>\n      <th>MILK</th>\n      <th>GROCERY</th>\n      <th>FROZEN</th>\n      <th>DET_PAPER</th>\n      <th>DELICA</th>\n    </tr>\n  </thead>\n  <tbody>\n    <tr>\n      <th>0</th>\n      <td>Retail</td>\n      <td>Other</td>\n      <td>12669</td>\n      <td>9656</td>\n      <td>7561</td>\n      <td>214</td>\n      <td>2674</td>\n      <td>1338</td>\n    </tr>\n    <tr>\n      <th>1</th>\n      <td>Retail</td>\n      <td>Other</td>\n      <td>7057</td>\n      <td>9810</td>\n      <td>9568</td>\n      <td>1762</td>\n      <td>3293</td>\n      <td>1776</td>\n    </tr>\n    <tr>\n      <th>2</th>\n      <td>Retail</td>\n      <td>Other</td>\n      <td>6353</td>\n      <td>8808</td>\n      <td>7684</td>\n      <td>2405</td>\n      <td>3516</td>\n      <td>7844</td>\n    </tr>\n  </tbody>\n</table>\n</div>"
     },
     "metadata": {}
    },
    {
     "output_type": "display_data",
     "data": {
      "text/plain": "    CHANNEL REGION   FRESH   MILK  GROCERY  FROZEN  DET_PAPER  DELICA\n181  Horeca  Other  112151  29627    18148   16745       4948    8550\n125  Horeca  Other   76237   3473     7102   16538        778     918\n284  Horeca  Other   68951   4411    12609    8692        751    2406",
      "text/html": "<div>\n<style scoped>\n    .dataframe tbody tr th:only-of-type {\n        vertical-align: middle;\n    }\n\n    .dataframe tbody tr th {\n        vertical-align: top;\n    }\n\n    .dataframe thead th {\n        text-align: right;\n    }\n</style>\n<table border=\"1\" class=\"dataframe\">\n  <thead>\n    <tr style=\"text-align: right;\">\n      <th></th>\n      <th>CHANNEL</th>\n      <th>REGION</th>\n      <th>FRESH</th>\n      <th>MILK</th>\n      <th>GROCERY</th>\n      <th>FROZEN</th>\n      <th>DET_PAPER</th>\n      <th>DELICA</th>\n    </tr>\n  </thead>\n  <tbody>\n    <tr>\n      <th>181</th>\n      <td>Horeca</td>\n      <td>Other</td>\n      <td>112151</td>\n      <td>29627</td>\n      <td>18148</td>\n      <td>16745</td>\n      <td>4948</td>\n      <td>8550</td>\n    </tr>\n    <tr>\n      <th>125</th>\n      <td>Horeca</td>\n      <td>Other</td>\n      <td>76237</td>\n      <td>3473</td>\n      <td>7102</td>\n      <td>16538</td>\n      <td>778</td>\n      <td>918</td>\n    </tr>\n    <tr>\n      <th>284</th>\n      <td>Horeca</td>\n      <td>Other</td>\n      <td>68951</td>\n      <td>4411</td>\n      <td>12609</td>\n      <td>8692</td>\n      <td>751</td>\n      <td>2406</td>\n    </tr>\n  </tbody>\n</table>\n</div>"
     },
     "metadata": {}
    }
   ],
   "source": [
    "# Numby + Pandas AI01-02: Sorting\n",
    "display(df.head(3))\n",
    "df2 = df.sort_values(by=['CHANNEL','FRESH'],ascending=[True,False])\n",
    "display(df2.head(3))"
   ]
  },
  {
   "cell_type": "code",
   "execution_count": 9,
   "metadata": {},
   "outputs": [
    {
     "output_type": "display_data",
     "data": {
      "text/plain": "              FRESH      MILK   GROCERY    FROZEN  DET_PAPER    DELICA\nFRESH      1.000000  0.100510 -0.011854  0.345881  -0.101953  0.244690\nMILK       0.100510  1.000000  0.728335  0.123994   0.661816  0.406368\nGROCERY   -0.011854  0.728335  1.000000 -0.040193   0.924641  0.205497\nFROZEN     0.345881  0.123994 -0.040193  1.000000  -0.131525  0.390947\nDET_PAPER -0.101953  0.661816  0.924641 -0.131525   1.000000  0.069291\nDELICA     0.244690  0.406368  0.205497  0.390947   0.069291  1.000000",
      "text/html": "<div>\n<style scoped>\n    .dataframe tbody tr th:only-of-type {\n        vertical-align: middle;\n    }\n\n    .dataframe tbody tr th {\n        vertical-align: top;\n    }\n\n    .dataframe thead th {\n        text-align: right;\n    }\n</style>\n<table border=\"1\" class=\"dataframe\">\n  <thead>\n    <tr style=\"text-align: right;\">\n      <th></th>\n      <th>FRESH</th>\n      <th>MILK</th>\n      <th>GROCERY</th>\n      <th>FROZEN</th>\n      <th>DET_PAPER</th>\n      <th>DELICA</th>\n    </tr>\n  </thead>\n  <tbody>\n    <tr>\n      <th>FRESH</th>\n      <td>1.000000</td>\n      <td>0.100510</td>\n      <td>-0.011854</td>\n      <td>0.345881</td>\n      <td>-0.101953</td>\n      <td>0.244690</td>\n    </tr>\n    <tr>\n      <th>MILK</th>\n      <td>0.100510</td>\n      <td>1.000000</td>\n      <td>0.728335</td>\n      <td>0.123994</td>\n      <td>0.661816</td>\n      <td>0.406368</td>\n    </tr>\n    <tr>\n      <th>GROCERY</th>\n      <td>-0.011854</td>\n      <td>0.728335</td>\n      <td>1.000000</td>\n      <td>-0.040193</td>\n      <td>0.924641</td>\n      <td>0.205497</td>\n    </tr>\n    <tr>\n      <th>FROZEN</th>\n      <td>0.345881</td>\n      <td>0.123994</td>\n      <td>-0.040193</td>\n      <td>1.000000</td>\n      <td>-0.131525</td>\n      <td>0.390947</td>\n    </tr>\n    <tr>\n      <th>DET_PAPER</th>\n      <td>-0.101953</td>\n      <td>0.661816</td>\n      <td>0.924641</td>\n      <td>-0.131525</td>\n      <td>1.000000</td>\n      <td>0.069291</td>\n    </tr>\n    <tr>\n      <th>DELICA</th>\n      <td>0.244690</td>\n      <td>0.406368</td>\n      <td>0.205497</td>\n      <td>0.390947</td>\n      <td>0.069291</td>\n      <td>1.000000</td>\n    </tr>\n  </tbody>\n</table>\n</div>"
     },
     "metadata": {}
    },
    {
     "output_type": "stream",
     "name": "stdout",
     "text": [
      "FRESH        1.000000\nMILK         0.100510\nGROCERY     -0.011854\nFROZEN       0.345881\nDET_PAPER   -0.101953\nDELICA       0.244690\ndtype: float64\n0.3458814571090803\n0.3458814571090803\n"
     ]
    }
   ],
   "source": [
    "# Numby + Pandas AI01-02: Correlation coefficients\n",
    "df2 = df.corr(); display(df2)\n",
    "ser2 = df.corrwith(df['FRESH']); print(ser2)\n",
    "print(ser2['FROZEN'])\n",
    "corr3 = df['FROZEN'].corr(df['FRESH'])\n",
    "print(corr3)"
   ]
  },
  {
   "cell_type": "code",
   "execution_count": 10,
   "metadata": {},
   "outputs": [
    {
     "output_type": "display_data",
     "data": {
      "text/plain": "  CHANNEL REGION   FRESH  MILK  GROCERY  FROZEN  DET_PAPER  DELICA\n0  Retail  Other     NaN  9656     7561     NaN       2674  1338.0\n1  Retail  Other  7057.0  9810     9568  1762.0       3293     NaN\n2  Retail  Other  6353.0  8808     7684  2405.0       3516  7844.0",
      "text/html": "<div>\n<style scoped>\n    .dataframe tbody tr th:only-of-type {\n        vertical-align: middle;\n    }\n\n    .dataframe tbody tr th {\n        vertical-align: top;\n    }\n\n    .dataframe thead th {\n        text-align: right;\n    }\n</style>\n<table border=\"1\" class=\"dataframe\">\n  <thead>\n    <tr style=\"text-align: right;\">\n      <th></th>\n      <th>CHANNEL</th>\n      <th>REGION</th>\n      <th>FRESH</th>\n      <th>MILK</th>\n      <th>GROCERY</th>\n      <th>FROZEN</th>\n      <th>DET_PAPER</th>\n      <th>DELICA</th>\n    </tr>\n  </thead>\n  <tbody>\n    <tr>\n      <th>0</th>\n      <td>Retail</td>\n      <td>Other</td>\n      <td>NaN</td>\n      <td>9656</td>\n      <td>7561</td>\n      <td>NaN</td>\n      <td>2674</td>\n      <td>1338.0</td>\n    </tr>\n    <tr>\n      <th>1</th>\n      <td>Retail</td>\n      <td>Other</td>\n      <td>7057.0</td>\n      <td>9810</td>\n      <td>9568</td>\n      <td>1762.0</td>\n      <td>3293</td>\n      <td>NaN</td>\n    </tr>\n    <tr>\n      <th>2</th>\n      <td>Retail</td>\n      <td>Other</td>\n      <td>6353.0</td>\n      <td>8808</td>\n      <td>7684</td>\n      <td>2405.0</td>\n      <td>3516</td>\n      <td>7844.0</td>\n    </tr>\n  </tbody>\n</table>\n</div>"
     },
     "metadata": {}
    },
    {
     "output_type": "stream",
     "name": "stdout",
     "text": [
      "CHANNEL      0\nREGION       0\nFRESH        1\nMILK         0\nGROCERY      0\nFROZEN       1\nDET_PAPER    0\nDELICA       1\ndtype: int64\n"
     ]
    },
    {
     "output_type": "display_data",
     "data": {
      "text/plain": "  CHANNEL REGION   FRESH  MILK  GROCERY  FROZEN  DET_PAPER  DELICA\n0  Retail  Other     NaN  9656     7561     NaN       2674  1338.0\n1  Retail  Other  7057.0  9810     9568  1762.0       3293     NaN",
      "text/html": "<div>\n<style scoped>\n    .dataframe tbody tr th:only-of-type {\n        vertical-align: middle;\n    }\n\n    .dataframe tbody tr th {\n        vertical-align: top;\n    }\n\n    .dataframe thead th {\n        text-align: right;\n    }\n</style>\n<table border=\"1\" class=\"dataframe\">\n  <thead>\n    <tr style=\"text-align: right;\">\n      <th></th>\n      <th>CHANNEL</th>\n      <th>REGION</th>\n      <th>FRESH</th>\n      <th>MILK</th>\n      <th>GROCERY</th>\n      <th>FROZEN</th>\n      <th>DET_PAPER</th>\n      <th>DELICA</th>\n    </tr>\n  </thead>\n  <tbody>\n    <tr>\n      <th>0</th>\n      <td>Retail</td>\n      <td>Other</td>\n      <td>NaN</td>\n      <td>9656</td>\n      <td>7561</td>\n      <td>NaN</td>\n      <td>2674</td>\n      <td>1338.0</td>\n    </tr>\n    <tr>\n      <th>1</th>\n      <td>Retail</td>\n      <td>Other</td>\n      <td>7057.0</td>\n      <td>9810</td>\n      <td>9568</td>\n      <td>1762.0</td>\n      <td>3293</td>\n      <td>NaN</td>\n    </tr>\n  </tbody>\n</table>\n</div>"
     },
     "metadata": {}
    }
   ],
   "source": [
    "# Numby + Pandas AI01-02: Detect missing\n",
    "df_missing = pd.read_csv('./ai-0102/pandas_training_missing-utf8.csv',delimiter=',', skiprows=13, header=0)\n",
    "display(df_missing.head(3))\n",
    "print( df_missing.isnull().sum() )\n",
    "display( df_missing[ df_missing.isnull().any(axis=1) ] )"
   ]
  },
  {
   "cell_type": "code",
   "execution_count": 11,
   "metadata": {},
   "outputs": [
    {
     "output_type": "display_data",
     "data": {
      "text/plain": "  CHANNEL REGION   FRESH  MILK  GROCERY  FROZEN  DET_PAPER  DELICA\n0  Retail  Other     NaN  9656     7561     NaN       2674  1338.0\n1  Retail  Other  7057.0  9810     9568  1762.0       3293     NaN\n2  Retail  Other  6353.0  8808     7684  2405.0       3516  7844.0",
      "text/html": "<div>\n<style scoped>\n    .dataframe tbody tr th:only-of-type {\n        vertical-align: middle;\n    }\n\n    .dataframe tbody tr th {\n        vertical-align: top;\n    }\n\n    .dataframe thead th {\n        text-align: right;\n    }\n</style>\n<table border=\"1\" class=\"dataframe\">\n  <thead>\n    <tr style=\"text-align: right;\">\n      <th></th>\n      <th>CHANNEL</th>\n      <th>REGION</th>\n      <th>FRESH</th>\n      <th>MILK</th>\n      <th>GROCERY</th>\n      <th>FROZEN</th>\n      <th>DET_PAPER</th>\n      <th>DELICA</th>\n    </tr>\n  </thead>\n  <tbody>\n    <tr>\n      <th>0</th>\n      <td>Retail</td>\n      <td>Other</td>\n      <td>NaN</td>\n      <td>9656</td>\n      <td>7561</td>\n      <td>NaN</td>\n      <td>2674</td>\n      <td>1338.0</td>\n    </tr>\n    <tr>\n      <th>1</th>\n      <td>Retail</td>\n      <td>Other</td>\n      <td>7057.0</td>\n      <td>9810</td>\n      <td>9568</td>\n      <td>1762.0</td>\n      <td>3293</td>\n      <td>NaN</td>\n    </tr>\n    <tr>\n      <th>2</th>\n      <td>Retail</td>\n      <td>Other</td>\n      <td>6353.0</td>\n      <td>8808</td>\n      <td>7684</td>\n      <td>2405.0</td>\n      <td>3516</td>\n      <td>7844.0</td>\n    </tr>\n  </tbody>\n</table>\n</div>"
     },
     "metadata": {}
    },
    {
     "output_type": "display_data",
     "data": {
      "text/plain": "  CHANNEL REGION    FRESH  MILK  GROCERY  FROZEN  DET_PAPER  DELICA\n2  Retail  Other   6353.0  8808     7684  2405.0       3516  7844.0\n3  Horeca  Other  13265.0  1196     4221  6404.0        507  1788.0\n4  Retail  Other  22615.0  5410     7198  3915.0       1777  5185.0",
      "text/html": "<div>\n<style scoped>\n    .dataframe tbody tr th:only-of-type {\n        vertical-align: middle;\n    }\n\n    .dataframe tbody tr th {\n        vertical-align: top;\n    }\n\n    .dataframe thead th {\n        text-align: right;\n    }\n</style>\n<table border=\"1\" class=\"dataframe\">\n  <thead>\n    <tr style=\"text-align: right;\">\n      <th></th>\n      <th>CHANNEL</th>\n      <th>REGION</th>\n      <th>FRESH</th>\n      <th>MILK</th>\n      <th>GROCERY</th>\n      <th>FROZEN</th>\n      <th>DET_PAPER</th>\n      <th>DELICA</th>\n    </tr>\n  </thead>\n  <tbody>\n    <tr>\n      <th>2</th>\n      <td>Retail</td>\n      <td>Other</td>\n      <td>6353.0</td>\n      <td>8808</td>\n      <td>7684</td>\n      <td>2405.0</td>\n      <td>3516</td>\n      <td>7844.0</td>\n    </tr>\n    <tr>\n      <th>3</th>\n      <td>Horeca</td>\n      <td>Other</td>\n      <td>13265.0</td>\n      <td>1196</td>\n      <td>4221</td>\n      <td>6404.0</td>\n      <td>507</td>\n      <td>1788.0</td>\n    </tr>\n    <tr>\n      <th>4</th>\n      <td>Retail</td>\n      <td>Other</td>\n      <td>22615.0</td>\n      <td>5410</td>\n      <td>7198</td>\n      <td>3915.0</td>\n      <td>1777</td>\n      <td>5185.0</td>\n    </tr>\n  </tbody>\n</table>\n</div>"
     },
     "metadata": {}
    },
    {
     "output_type": "display_data",
     "data": {
      "text/plain": "  CHANNEL REGION    FRESH  MILK  GROCERY  FROZEN  DET_PAPER  DELICA\n0  Retail  Other   6353.0  8808     7684  2405.0       3516  7844.0\n1  Horeca  Other  13265.0  1196     4221  6404.0        507  1788.0\n2  Retail  Other  22615.0  5410     7198  3915.0       1777  5185.0",
      "text/html": "<div>\n<style scoped>\n    .dataframe tbody tr th:only-of-type {\n        vertical-align: middle;\n    }\n\n    .dataframe tbody tr th {\n        vertical-align: top;\n    }\n\n    .dataframe thead th {\n        text-align: right;\n    }\n</style>\n<table border=\"1\" class=\"dataframe\">\n  <thead>\n    <tr style=\"text-align: right;\">\n      <th></th>\n      <th>CHANNEL</th>\n      <th>REGION</th>\n      <th>FRESH</th>\n      <th>MILK</th>\n      <th>GROCERY</th>\n      <th>FROZEN</th>\n      <th>DET_PAPER</th>\n      <th>DELICA</th>\n    </tr>\n  </thead>\n  <tbody>\n    <tr>\n      <th>0</th>\n      <td>Retail</td>\n      <td>Other</td>\n      <td>6353.0</td>\n      <td>8808</td>\n      <td>7684</td>\n      <td>2405.0</td>\n      <td>3516</td>\n      <td>7844.0</td>\n    </tr>\n    <tr>\n      <th>1</th>\n      <td>Horeca</td>\n      <td>Other</td>\n      <td>13265.0</td>\n      <td>1196</td>\n      <td>4221</td>\n      <td>6404.0</td>\n      <td>507</td>\n      <td>1788.0</td>\n    </tr>\n    <tr>\n      <th>2</th>\n      <td>Retail</td>\n      <td>Other</td>\n      <td>22615.0</td>\n      <td>5410</td>\n      <td>7198</td>\n      <td>3915.0</td>\n      <td>1777</td>\n      <td>5185.0</td>\n    </tr>\n  </tbody>\n</table>\n</div>"
     },
     "metadata": {}
    },
    {
     "output_type": "display_data",
     "data": {
      "text/plain": "  CHANNEL REGION    FRESH  MILK  GROCERY  FROZEN  DET_PAPER  DELICA\n0  Retail  Other      NaN  9656     7561     NaN       2674  1338.0\n2  Retail  Other   6353.0  8808     7684  2405.0       3516  7844.0\n3  Horeca  Other  13265.0  1196     4221  6404.0        507  1788.0",
      "text/html": "<div>\n<style scoped>\n    .dataframe tbody tr th:only-of-type {\n        vertical-align: middle;\n    }\n\n    .dataframe tbody tr th {\n        vertical-align: top;\n    }\n\n    .dataframe thead th {\n        text-align: right;\n    }\n</style>\n<table border=\"1\" class=\"dataframe\">\n  <thead>\n    <tr style=\"text-align: right;\">\n      <th></th>\n      <th>CHANNEL</th>\n      <th>REGION</th>\n      <th>FRESH</th>\n      <th>MILK</th>\n      <th>GROCERY</th>\n      <th>FROZEN</th>\n      <th>DET_PAPER</th>\n      <th>DELICA</th>\n    </tr>\n  </thead>\n  <tbody>\n    <tr>\n      <th>0</th>\n      <td>Retail</td>\n      <td>Other</td>\n      <td>NaN</td>\n      <td>9656</td>\n      <td>7561</td>\n      <td>NaN</td>\n      <td>2674</td>\n      <td>1338.0</td>\n    </tr>\n    <tr>\n      <th>2</th>\n      <td>Retail</td>\n      <td>Other</td>\n      <td>6353.0</td>\n      <td>8808</td>\n      <td>7684</td>\n      <td>2405.0</td>\n      <td>3516</td>\n      <td>7844.0</td>\n    </tr>\n    <tr>\n      <th>3</th>\n      <td>Horeca</td>\n      <td>Other</td>\n      <td>13265.0</td>\n      <td>1196</td>\n      <td>4221</td>\n      <td>6404.0</td>\n      <td>507</td>\n      <td>1788.0</td>\n    </tr>\n  </tbody>\n</table>\n</div>"
     },
     "metadata": {}
    },
    {
     "output_type": "display_data",
     "data": {
      "text/plain": "  CHANNEL REGION         FRESH  MILK  GROCERY       FROZEN  DET_PAPER  \\\n0  Retail  Other  11998.774487  9656     7561  3078.441913       2674   \n1  Retail  Other   7057.000000  9810     9568  1762.000000       3293   \n2  Retail  Other   6353.000000  8808     7684  2405.000000       3516   \n\n        DELICA  \n0  1338.000000  \n1  1524.298405  \n2  7844.000000  ",
      "text/html": "<div>\n<style scoped>\n    .dataframe tbody tr th:only-of-type {\n        vertical-align: middle;\n    }\n\n    .dataframe tbody tr th {\n        vertical-align: top;\n    }\n\n    .dataframe thead th {\n        text-align: right;\n    }\n</style>\n<table border=\"1\" class=\"dataframe\">\n  <thead>\n    <tr style=\"text-align: right;\">\n      <th></th>\n      <th>CHANNEL</th>\n      <th>REGION</th>\n      <th>FRESH</th>\n      <th>MILK</th>\n      <th>GROCERY</th>\n      <th>FROZEN</th>\n      <th>DET_PAPER</th>\n      <th>DELICA</th>\n    </tr>\n  </thead>\n  <tbody>\n    <tr>\n      <th>0</th>\n      <td>Retail</td>\n      <td>Other</td>\n      <td>11998.774487</td>\n      <td>9656</td>\n      <td>7561</td>\n      <td>3078.441913</td>\n      <td>2674</td>\n      <td>1338.000000</td>\n    </tr>\n    <tr>\n      <th>1</th>\n      <td>Retail</td>\n      <td>Other</td>\n      <td>7057.000000</td>\n      <td>9810</td>\n      <td>9568</td>\n      <td>1762.000000</td>\n      <td>3293</td>\n      <td>1524.298405</td>\n    </tr>\n    <tr>\n      <th>2</th>\n      <td>Retail</td>\n      <td>Other</td>\n      <td>6353.000000</td>\n      <td>8808</td>\n      <td>7684</td>\n      <td>2405.000000</td>\n      <td>3516</td>\n      <td>7844.000000</td>\n    </tr>\n  </tbody>\n</table>\n</div>"
     },
     "metadata": {}
    }
   ],
   "source": [
    "# Numby + Pandas AI01-02: Delete missing\n",
    "display(df_missing.head(3))\n",
    "df_del = df_missing.dropna(axis=0); display(df_del.head(3))\n",
    "df_del = df_missing.dropna(axis=0).reset_index(drop=True); display(df_del.head(3))\n",
    "df_del = df_missing.dropna(subset=['DELICA'], axis=0); display(df_del.head(3))\n",
    "df_filled = df_missing.fillna(df_missing.mean()); display(df_filled.head(3))"
   ]
  }
 ]
}