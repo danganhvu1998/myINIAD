{
 "cells": [
  {
   "cell_type": "markdown",
   "source": [
    "### Sample program for grid search of hyper parameters  "
   ],
   "metadata": {}
  },
  {
   "cell_type": "markdown",
   "source": [
    "#### Import libraries  "
   ],
   "metadata": {}
  },
  {
   "cell_type": "code",
   "execution_count": 11,
   "source": [
    "import numpy as np\n",
    "import pandas as pd\n",
    "import matplotlib.pyplot as plt\n",
    "from sklearn.ensemble import RandomForestClassifier\n",
    "from sklearn.ensemble import RandomForestRegressor\n",
    "from sklearn.model_selection import GridSearchCV, KFold, cross_val_score"
   ],
   "outputs": [],
   "metadata": {}
  },
  {
   "cell_type": "markdown",
   "source": [
    "#### Parameters  "
   ],
   "metadata": {}
  },
  {
   "cell_type": "code",
   "execution_count": 12,
   "source": [
    "csv_in = 'ai-end1-4.csv'"
   ],
   "outputs": [],
   "metadata": {}
  },
  {
   "cell_type": "markdown",
   "source": [
    "#### Read CSV file  "
   ],
   "metadata": {}
  },
  {
   "cell_type": "code",
   "execution_count": 13,
   "source": [
    "df = pd.read_csv(csv_in, delimiter=',', skiprows=0, header=0)\n",
    "print(df.shape)\n",
    "print(df.info())\n",
    "display(df.head())"
   ],
   "outputs": [
    {
     "output_type": "stream",
     "name": "stdout",
     "text": [
      "(301, 11)\n",
      "<class 'pandas.core.frame.DataFrame'>\n",
      "RangeIndex: 301 entries, 0 to 300\n",
      "Data columns (total 11 columns):\n",
      " #   Column   Non-Null Count  Dtype  \n",
      "---  ------   --------------  -----  \n",
      " 0   age      301 non-null    float64\n",
      " 1   sex      301 non-null    float64\n",
      " 2   bmi      301 non-null    float64\n",
      " 3   bp       301 non-null    float64\n",
      " 4   s1       301 non-null    float64\n",
      " 5   s2       301 non-null    float64\n",
      " 6   s3       301 non-null    float64\n",
      " 7   s4       301 non-null    float64\n",
      " 8   s5       301 non-null    float64\n",
      " 9   s6       301 non-null    float64\n",
      " 10  disease  301 non-null    float64\n",
      "dtypes: float64(11)\n",
      "memory usage: 26.0 KB\n",
      "None\n"
     ]
    },
    {
     "output_type": "display_data",
     "data": {
      "text/plain": [
       "        age       sex       bmi        bp        s1        s2        s3  \\\n",
       "0 -0.030942  0.050680  0.028284  0.070073 -0.126781 -0.106845 -0.054446   \n",
       "1  0.001751 -0.044642 -0.065486 -0.005671 -0.007073 -0.019476  0.041277   \n",
       "2 -0.096328 -0.044642 -0.076264 -0.043542 -0.045599 -0.034821  0.008142   \n",
       "3 -0.078165 -0.044642 -0.016984 -0.012556 -0.000193 -0.013527  0.070730   \n",
       "4  0.023546 -0.044642 -0.036385  0.000068  0.001183  0.034698 -0.043401   \n",
       "\n",
       "         s4        s5        s6  disease  \n",
       "0 -0.047981 -0.030751  0.015491    170.0  \n",
       "1 -0.039493 -0.003304  0.007207    153.0  \n",
       "2 -0.039493 -0.059473 -0.083920    134.0  \n",
       "3 -0.039493 -0.041180 -0.092204     90.0  \n",
       "4  0.034309 -0.033249  0.061054    146.0  "
      ],
      "text/html": [
       "<div>\n",
       "<style scoped>\n",
       "    .dataframe tbody tr th:only-of-type {\n",
       "        vertical-align: middle;\n",
       "    }\n",
       "\n",
       "    .dataframe tbody tr th {\n",
       "        vertical-align: top;\n",
       "    }\n",
       "\n",
       "    .dataframe thead th {\n",
       "        text-align: right;\n",
       "    }\n",
       "</style>\n",
       "<table border=\"1\" class=\"dataframe\">\n",
       "  <thead>\n",
       "    <tr style=\"text-align: right;\">\n",
       "      <th></th>\n",
       "      <th>age</th>\n",
       "      <th>sex</th>\n",
       "      <th>bmi</th>\n",
       "      <th>bp</th>\n",
       "      <th>s1</th>\n",
       "      <th>s2</th>\n",
       "      <th>s3</th>\n",
       "      <th>s4</th>\n",
       "      <th>s5</th>\n",
       "      <th>s6</th>\n",
       "      <th>disease</th>\n",
       "    </tr>\n",
       "  </thead>\n",
       "  <tbody>\n",
       "    <tr>\n",
       "      <th>0</th>\n",
       "      <td>-0.030942</td>\n",
       "      <td>0.050680</td>\n",
       "      <td>0.028284</td>\n",
       "      <td>0.070073</td>\n",
       "      <td>-0.126781</td>\n",
       "      <td>-0.106845</td>\n",
       "      <td>-0.054446</td>\n",
       "      <td>-0.047981</td>\n",
       "      <td>-0.030751</td>\n",
       "      <td>0.015491</td>\n",
       "      <td>170.0</td>\n",
       "    </tr>\n",
       "    <tr>\n",
       "      <th>1</th>\n",
       "      <td>0.001751</td>\n",
       "      <td>-0.044642</td>\n",
       "      <td>-0.065486</td>\n",
       "      <td>-0.005671</td>\n",
       "      <td>-0.007073</td>\n",
       "      <td>-0.019476</td>\n",
       "      <td>0.041277</td>\n",
       "      <td>-0.039493</td>\n",
       "      <td>-0.003304</td>\n",
       "      <td>0.007207</td>\n",
       "      <td>153.0</td>\n",
       "    </tr>\n",
       "    <tr>\n",
       "      <th>2</th>\n",
       "      <td>-0.096328</td>\n",
       "      <td>-0.044642</td>\n",
       "      <td>-0.076264</td>\n",
       "      <td>-0.043542</td>\n",
       "      <td>-0.045599</td>\n",
       "      <td>-0.034821</td>\n",
       "      <td>0.008142</td>\n",
       "      <td>-0.039493</td>\n",
       "      <td>-0.059473</td>\n",
       "      <td>-0.083920</td>\n",
       "      <td>134.0</td>\n",
       "    </tr>\n",
       "    <tr>\n",
       "      <th>3</th>\n",
       "      <td>-0.078165</td>\n",
       "      <td>-0.044642</td>\n",
       "      <td>-0.016984</td>\n",
       "      <td>-0.012556</td>\n",
       "      <td>-0.000193</td>\n",
       "      <td>-0.013527</td>\n",
       "      <td>0.070730</td>\n",
       "      <td>-0.039493</td>\n",
       "      <td>-0.041180</td>\n",
       "      <td>-0.092204</td>\n",
       "      <td>90.0</td>\n",
       "    </tr>\n",
       "    <tr>\n",
       "      <th>4</th>\n",
       "      <td>0.023546</td>\n",
       "      <td>-0.044642</td>\n",
       "      <td>-0.036385</td>\n",
       "      <td>0.000068</td>\n",
       "      <td>0.001183</td>\n",
       "      <td>0.034698</td>\n",
       "      <td>-0.043401</td>\n",
       "      <td>0.034309</td>\n",
       "      <td>-0.033249</td>\n",
       "      <td>0.061054</td>\n",
       "      <td>146.0</td>\n",
       "    </tr>\n",
       "  </tbody>\n",
       "</table>\n",
       "</div>"
      ]
     },
     "metadata": {}
    }
   ],
   "metadata": {}
  },
  {
   "cell_type": "markdown",
   "source": [
    "#### Get X and y  "
   ],
   "metadata": {}
  },
  {
   "cell_type": "code",
   "execution_count": 14,
   "source": [
    "X = df.iloc[:, :-1]  # explanatory variables\n",
    "y = df['disease']  # objective variable\n",
    "print('X:', X.shape)\n",
    "display(X.head())\n",
    "print('y:', y.shape)\n",
    "print(y.head())"
   ],
   "outputs": [
    {
     "output_type": "stream",
     "name": "stdout",
     "text": [
      "X: (301, 10)\n"
     ]
    },
    {
     "output_type": "display_data",
     "data": {
      "text/plain": [
       "        age       sex       bmi        bp        s1        s2        s3  \\\n",
       "0 -0.030942  0.050680  0.028284  0.070073 -0.126781 -0.106845 -0.054446   \n",
       "1  0.001751 -0.044642 -0.065486 -0.005671 -0.007073 -0.019476  0.041277   \n",
       "2 -0.096328 -0.044642 -0.076264 -0.043542 -0.045599 -0.034821  0.008142   \n",
       "3 -0.078165 -0.044642 -0.016984 -0.012556 -0.000193 -0.013527  0.070730   \n",
       "4  0.023546 -0.044642 -0.036385  0.000068  0.001183  0.034698 -0.043401   \n",
       "\n",
       "         s4        s5        s6  \n",
       "0 -0.047981 -0.030751  0.015491  \n",
       "1 -0.039493 -0.003304  0.007207  \n",
       "2 -0.039493 -0.059473 -0.083920  \n",
       "3 -0.039493 -0.041180 -0.092204  \n",
       "4  0.034309 -0.033249  0.061054  "
      ],
      "text/html": [
       "<div>\n",
       "<style scoped>\n",
       "    .dataframe tbody tr th:only-of-type {\n",
       "        vertical-align: middle;\n",
       "    }\n",
       "\n",
       "    .dataframe tbody tr th {\n",
       "        vertical-align: top;\n",
       "    }\n",
       "\n",
       "    .dataframe thead th {\n",
       "        text-align: right;\n",
       "    }\n",
       "</style>\n",
       "<table border=\"1\" class=\"dataframe\">\n",
       "  <thead>\n",
       "    <tr style=\"text-align: right;\">\n",
       "      <th></th>\n",
       "      <th>age</th>\n",
       "      <th>sex</th>\n",
       "      <th>bmi</th>\n",
       "      <th>bp</th>\n",
       "      <th>s1</th>\n",
       "      <th>s2</th>\n",
       "      <th>s3</th>\n",
       "      <th>s4</th>\n",
       "      <th>s5</th>\n",
       "      <th>s6</th>\n",
       "    </tr>\n",
       "  </thead>\n",
       "  <tbody>\n",
       "    <tr>\n",
       "      <th>0</th>\n",
       "      <td>-0.030942</td>\n",
       "      <td>0.050680</td>\n",
       "      <td>0.028284</td>\n",
       "      <td>0.070073</td>\n",
       "      <td>-0.126781</td>\n",
       "      <td>-0.106845</td>\n",
       "      <td>-0.054446</td>\n",
       "      <td>-0.047981</td>\n",
       "      <td>-0.030751</td>\n",
       "      <td>0.015491</td>\n",
       "    </tr>\n",
       "    <tr>\n",
       "      <th>1</th>\n",
       "      <td>0.001751</td>\n",
       "      <td>-0.044642</td>\n",
       "      <td>-0.065486</td>\n",
       "      <td>-0.005671</td>\n",
       "      <td>-0.007073</td>\n",
       "      <td>-0.019476</td>\n",
       "      <td>0.041277</td>\n",
       "      <td>-0.039493</td>\n",
       "      <td>-0.003304</td>\n",
       "      <td>0.007207</td>\n",
       "    </tr>\n",
       "    <tr>\n",
       "      <th>2</th>\n",
       "      <td>-0.096328</td>\n",
       "      <td>-0.044642</td>\n",
       "      <td>-0.076264</td>\n",
       "      <td>-0.043542</td>\n",
       "      <td>-0.045599</td>\n",
       "      <td>-0.034821</td>\n",
       "      <td>0.008142</td>\n",
       "      <td>-0.039493</td>\n",
       "      <td>-0.059473</td>\n",
       "      <td>-0.083920</td>\n",
       "    </tr>\n",
       "    <tr>\n",
       "      <th>3</th>\n",
       "      <td>-0.078165</td>\n",
       "      <td>-0.044642</td>\n",
       "      <td>-0.016984</td>\n",
       "      <td>-0.012556</td>\n",
       "      <td>-0.000193</td>\n",
       "      <td>-0.013527</td>\n",
       "      <td>0.070730</td>\n",
       "      <td>-0.039493</td>\n",
       "      <td>-0.041180</td>\n",
       "      <td>-0.092204</td>\n",
       "    </tr>\n",
       "    <tr>\n",
       "      <th>4</th>\n",
       "      <td>0.023546</td>\n",
       "      <td>-0.044642</td>\n",
       "      <td>-0.036385</td>\n",
       "      <td>0.000068</td>\n",
       "      <td>0.001183</td>\n",
       "      <td>0.034698</td>\n",
       "      <td>-0.043401</td>\n",
       "      <td>0.034309</td>\n",
       "      <td>-0.033249</td>\n",
       "      <td>0.061054</td>\n",
       "    </tr>\n",
       "  </tbody>\n",
       "</table>\n",
       "</div>"
      ]
     },
     "metadata": {}
    },
    {
     "output_type": "stream",
     "name": "stdout",
     "text": [
      "y: (301,)\n",
      "0    170.0\n",
      "1    153.0\n",
      "2    134.0\n",
      "3     90.0\n",
      "4    146.0\n",
      "Name: disease, dtype: float64\n"
     ]
    }
   ],
   "metadata": {}
  },
  {
   "cell_type": "markdown",
   "source": [
    "#### Make pipeline and set parameters for grid search   "
   ],
   "metadata": {}
  },
  {
   "cell_type": "code",
   "execution_count": 15,
   "source": [
    "abc=RandomForestClassifier(random_state=12)            \n",
    "\n",
    "param_grid = {\n",
    "    'n_estimators': [10, 50, 100],\n",
    "    'max_depth': [2, 4, 6, None],\n",
    "}"
   ],
   "outputs": [],
   "metadata": {}
  },
  {
   "cell_type": "markdown",
   "source": [
    "#### Preparation of objects for cross validation  "
   ],
   "metadata": {}
  },
  {
   "cell_type": "code",
   "execution_count": 16,
   "source": [
    "grid_cv = KFold(n_splits=4, shuffle=True, random_state=7)  # for grid search\n",
    "gen_cv = KFold(n_splits=4, shuffle=True, random_state=12)  # for estimation of generalization performance"
   ],
   "outputs": [],
   "metadata": {}
  },
  {
   "cell_type": "markdown",
   "source": [
    "#### Define the grid search for hyperparameters  "
   ],
   "metadata": {}
  },
  {
   "cell_type": "code",
   "execution_count": 17,
   "source": [
    "gs = GridSearchCV(abc, param_grid , cv=grid_cv, scoring='neg_mean_squared_error')"
   ],
   "outputs": [],
   "metadata": {}
  },
  {
   "cell_type": "markdown",
   "source": [
    "#### Estimation of generalization performance  "
   ],
   "metadata": {}
  },
  {
   "cell_type": "code",
   "execution_count": 18,
   "source": [
    "%%time\n",
    "nested_score = cross_val_score(gs, X=X, y=y, cv=gen_cv,\n",
    "                               scoring='neg_mean_squared_error')\n",
    "print(nested_score)\n",
    "print(np.sqrt(-nested_score.mean()))"
   ],
   "outputs": [
    {
     "output_type": "stream",
     "name": "stdout",
     "text": [
      "[-6000.93421053 -6962.         -7401.30666667 -7762.76      ]\n",
      "83.8555318348065\n",
      "CPU times: user 15.2 s, sys: 124 ms, total: 15.4 s\n",
      "Wall time: 15.4 s\n"
     ]
    }
   ],
   "metadata": {}
  },
  {
   "cell_type": "markdown",
   "source": [
    "**Generalization performance (RMSE) / 汎化性能 (平均2乗誤差平方根): 0.675**  "
   ],
   "metadata": {}
  },
  {
   "cell_type": "markdown",
   "source": [
    "#### Cross-validation to obtain the model with the best hyperparameter set (best estimator)  \n",
    "- Note: gs_best is already fit to the whole data (X) in gs.fit(X, y)  "
   ],
   "metadata": {}
  },
  {
   "cell_type": "code",
   "execution_count": 19,
   "source": [
    "%%time\n",
    "gs.fit(X, y)\n",
    "gs_best = gs.best_estimator_"
   ],
   "outputs": [
    {
     "output_type": "stream",
     "name": "stdout",
     "text": [
      "CPU times: user 4.21 s, sys: 19.7 ms, total: 4.23 s\n",
      "Wall time: 4.23 s\n"
     ]
    }
   ],
   "metadata": {}
  },
  {
   "cell_type": "code",
   "execution_count": 20,
   "source": [
    "print(gs_best)\n",
    "for k,v in gs_best.get_params(deep=True).items():\n",
    "    print(k, '->', v)"
   ],
   "outputs": [
    {
     "output_type": "stream",
     "name": "stdout",
     "text": [
      "RandomForestClassifier(max_depth=4, random_state=12)\n",
      "bootstrap -> True\n",
      "ccp_alpha -> 0.0\n",
      "class_weight -> None\n",
      "criterion -> gini\n",
      "max_depth -> 4\n",
      "max_features -> auto\n",
      "max_leaf_nodes -> None\n",
      "max_samples -> None\n",
      "min_impurity_decrease -> 0.0\n",
      "min_impurity_split -> None\n",
      "min_samples_leaf -> 1\n",
      "min_samples_split -> 2\n",
      "min_weight_fraction_leaf -> 0.0\n",
      "n_estimators -> 100\n",
      "n_jobs -> None\n",
      "oob_score -> False\n",
      "random_state -> 12\n",
      "verbose -> 0\n",
      "warm_start -> False\n"
     ]
    }
   ],
   "metadata": {}
  },
  {
   "cell_type": "markdown",
   "source": [
    "#### Show feature importances of the best model  "
   ],
   "metadata": {}
  },
  {
   "cell_type": "code",
   "execution_count": 21,
   "source": [
    "print(pd.Series(gs_best.feature_importances_, index=X.columns))"
   ],
   "outputs": [
    {
     "output_type": "stream",
     "name": "stdout",
     "text": [
      "age    0.109510\n",
      "sex    0.014262\n",
      "bmi    0.135725\n",
      "bp     0.111976\n",
      "s1     0.100390\n",
      "s2     0.104474\n",
      "s3     0.129731\n",
      "s4     0.066043\n",
      "s5     0.121775\n",
      "s6     0.106114\n",
      "dtype: float64\n"
     ]
    }
   ],
   "metadata": {}
  },
  {
   "cell_type": "code",
   "execution_count": 22,
   "source": [
    "plt.bar(X.columns, gs_best.feature_importances_)\n",
    "plt.ylabel('Importance')\n",
    "plt.xticks(rotation=90)\n",
    "plt.show()"
   ],
   "outputs": [
    {
     "output_type": "display_data",
     "data": {
      "text/plain": [
       "<Figure size 432x288 with 1 Axes>"
      ],
      "image/png": "[encoded data removed]"
     },
     "metadata": {
      "needs_background": "light"
     }
    }
   ],
   "metadata": {}
  },
  {
   "cell_type": "markdown",
   "source": [
    "**Features (explanatory variable) with the largest importance: alcohol**  \n",
    "**重要度が最大の説明変数(特徴量): alcohol**  "
   ],
   "metadata": {}
  }
 ],
 "metadata": {
  "interpreter": {
   "hash": "db8b7fe47b70054bb2bb00b153272d4f7a23c7269610021a9b5fc371a2b81095"
  },
  "kernelspec": {
   "display_name": "Python 3.8.8 64-bit ('iniad_ai': conda)",
   "name": "python3"
  },
  "language_info": {
   "codemirror_mode": {
    "name": "ipython",
    "version": 3
   },
   "file_extension": ".py",
   "mimetype": "text/x-python",
   "name": "python",
   "nbconvert_exporter": "python",
   "pygments_lexer": "ipython3",
   "version": "3.8.8"
  }
 },
 "nbformat": 4,
 "nbformat_minor": 4
}