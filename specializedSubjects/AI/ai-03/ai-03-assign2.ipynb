{
 "metadata": {
  "language_info": {
   "codemirror_mode": {
    "name": "ipython",
    "version": 3
   },
   "file_extension": ".py",
   "mimetype": "text/x-python",
   "name": "python",
   "nbconvert_exporter": "python",
   "pygments_lexer": "ipython3",
   "version": "3.8.8-final"
  },
  "orig_nbformat": 2,
  "kernelspec": {
   "name": "python388jvsc74a57bd0e8880c58ea65068827af19aa57df99e07da1109ce0dc5e321474e5f3a08d850b",
   "display_name": "Python 3.8.8 64-bit ('ds2021': conda)"
  },
  "metadata": {
   "interpreter": {
    "hash": "e8880c58ea65068827af19aa57df99e07da1109ce0dc5e321474e5f3a08d850b"
   }
  }
 },
 "nbformat": 4,
 "nbformat_minor": 2,
 "cells": [
  {
   "cell_type": "code",
   "execution_count": 1,
   "metadata": {},
   "outputs": [],
   "source": [
    "import numpy as np\n",
    "import pandas as pd\n",
    "import scipy.stats as ss"
   ]
  },
  {
   "cell_type": "code",
   "execution_count": 9,
   "metadata": {},
   "outputs": [
    {
     "output_type": "stream",
     "name": "stdout",
     "text": [
      "(100, 2)\n<class 'pandas.core.frame.DataFrame'>\nRangeIndex: 100 entries, 0 to 99\nData columns (total 2 columns):\n #   Column    Non-Null Count  Dtype\n---  ------    --------------  -----\n 0   FamilyID  100 non-null    int64\n 1   Have_Car  100 non-null    int64\ndtypes: int64(2)\nmemory usage: 1.7 KB\nNone\n61\n"
     ]
    }
   ],
   "source": [
    "df = pd.read_csv('cars.csv', delimiter=',', skiprows=0, header=0)\n",
    "print(df.shape)\n",
    "print(df.info())\n",
    "n = df.shape[0]\n",
    "x = df['Have_Car'].sum()\n",
    "print(x)"
   ]
  },
  {
   "cell_type": "code",
   "execution_count": 10,
   "metadata": {},
   "outputs": [
    {
     "output_type": "stream",
     "name": "stdout",
     "text": [
      "0.5144027692114916 0.7055972307885083\n"
     ]
    }
   ],
   "source": [
    "alpha = 0.95\n",
    "ave = x / n\n",
    "se = np.sqrt( ave*(1-ave)/n )\n",
    "lower, upper = ss.norm.interval(alpha, loc=ave, scale=se)\n",
    "print(lower, upper)"
   ]
  },
  {
   "cell_type": "code",
   "execution_count": null,
   "metadata": {},
   "outputs": [],
   "source": []
  }
 ]
}