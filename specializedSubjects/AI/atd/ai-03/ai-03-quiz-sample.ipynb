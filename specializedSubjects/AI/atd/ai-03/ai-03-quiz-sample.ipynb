{
 "cells": [
  {
   "cell_type": "markdown",
   "metadata": {},
   "source": [
    "### AI-03 Quiz  "
   ]
  },
  {
   "cell_type": "markdown",
   "metadata": {},
   "source": [
    "#### Import libraries  "
   ]
  },
  {
   "cell_type": "code",
   "execution_count": 1,
   "metadata": {},
   "outputs": [],
   "source": [
    "import numpy as np\n",
    "import pandas as pd"
   ]
  },
  {
   "cell_type": "markdown",
   "metadata": {},
   "source": [
    "#### Parameters"
   ]
  },
  {
   "cell_type": "code",
   "execution_count": 2,
   "metadata": {},
   "outputs": [],
   "source": [
    "csv_in = 'ai-03-quiz.csv'"
   ]
  },
  {
   "cell_type": "markdown",
   "metadata": {},
   "source": [
    "#### Read CSV file  "
   ]
  },
  {
   "cell_type": "code",
   "execution_count": 3,
   "metadata": {},
   "outputs": [
    {
     "output_type": "stream",
     "name": "stdout",
     "text": [
      "Player Count: 60\n"
     ]
    },
    {
     "output_type": "display_data",
     "data": {
      "text/plain": "   Team      Pref   Time\n0     A   Saitama  176.2\n1     A   Saitama  179.1\n2     C     Chiba  180.0\n3     A     Tokyo  176.5\n4     A     Tokyo  179.7\n5     A     Tokyo  179.3\n6     B     Tokyo  181.1\n7     A   Saitama  180.2\n8     C     Chiba  183.3\n9     A   Saitama  180.3\n10    A     Tokyo  179.9\n11    A     Tokyo  177.1\n12    C   Saitama  181.0\n13    A  Kanagawa  181.2\n14    A   Saitama  180.2\n15    B  Kanagawa  178.3\n16    A  Kanagawa  178.7\n17    B   Saitama  183.2\n18    B   Saitama  179.0\n19    C     Chiba  183.1\n20    B  Kanagawa  175.0\n21    A     Tokyo  181.4\n22    B  Kanagawa  180.4\n23    C     Chiba  183.7\n24    A     Tokyo  179.3\n25    A     Tokyo  180.3\n26    A     Chiba  179.8\n27    B     Tokyo  182.4\n28    A  Kanagawa  179.2\n29    B     Chiba  182.6\n30    B     Tokyo  179.4\n31    C     Tokyo  177.6\n32    A     Chiba  180.2\n33    A     Chiba  182.9\n34    C     Chiba  180.6\n35    C   Saitama  179.5\n36    B  Kanagawa  177.2\n37    A     Tokyo  176.9\n38    C  Kanagawa  182.2\n39    A  Kanagawa  179.3\n40    A   Saitama  175.0\n41    B   Saitama  179.0\n42    C  Kanagawa  180.2\n43    B     Tokyo  183.2\n44    B     Chiba  180.1\n45    C  Kanagawa  178.7\n46    A     Tokyo  181.0\n47    B  Kanagawa  179.0\n48    B   Saitama  180.8\n49    B   Saitama  177.1\n50    C     Tokyo  182.9\n51    B   Saitama  180.3\n52    B  Kanagawa  180.7\n53    B     Chiba  180.0\n54    B   Saitama  177.6\n55    A     Chiba  180.6\n56    A     Tokyo  181.7\n57    C     Tokyo  178.8\n58    B  Kanagawa  180.7\n59    A     Tokyo  181.9",
      "text/html": "<div>\n<style scoped>\n    .dataframe tbody tr th:only-of-type {\n        vertical-align: middle;\n    }\n\n    .dataframe tbody tr th {\n        vertical-align: top;\n    }\n\n    .dataframe thead th {\n        text-align: right;\n    }\n</style>\n<table border=\"1\" class=\"dataframe\">\n  <thead>\n    <tr style=\"text-align: right;\">\n      <th></th>\n      <th>Team</th>\n      <th>Pref</th>\n      <th>Time</th>\n    </tr>\n  </thead>\n  <tbody>\n    <tr>\n      <th>0</th>\n      <td>A</td>\n      <td>Saitama</td>\n      <td>176.2</td>\n    </tr>\n    <tr>\n      <th>1</th>\n      <td>A</td>\n      <td>Saitama</td>\n      <td>179.1</td>\n    </tr>\n    <tr>\n      <th>2</th>\n      <td>C</td>\n      <td>Chiba</td>\n      <td>180.0</td>\n    </tr>\n    <tr>\n      <th>3</th>\n      <td>A</td>\n      <td>Tokyo</td>\n      <td>176.5</td>\n    </tr>\n    <tr>\n      <th>4</th>\n      <td>A</td>\n      <td>Tokyo</td>\n      <td>179.7</td>\n    </tr>\n    <tr>\n      <th>5</th>\n      <td>A</td>\n      <td>Tokyo</td>\n      <td>179.3</td>\n    </tr>\n    <tr>\n      <th>6</th>\n      <td>B</td>\n      <td>Tokyo</td>\n      <td>181.1</td>\n    </tr>\n    <tr>\n      <th>7</th>\n      <td>A</td>\n      <td>Saitama</td>\n      <td>180.2</td>\n    </tr>\n    <tr>\n      <th>8</th>\n      <td>C</td>\n      <td>Chiba</td>\n      <td>183.3</td>\n    </tr>\n    <tr>\n      <th>9</th>\n      <td>A</td>\n      <td>Saitama</td>\n      <td>180.3</td>\n    </tr>\n    <tr>\n      <th>10</th>\n      <td>A</td>\n      <td>Tokyo</td>\n      <td>179.9</td>\n    </tr>\n    <tr>\n      <th>11</th>\n      <td>A</td>\n      <td>Tokyo</td>\n      <td>177.1</td>\n    </tr>\n    <tr>\n      <th>12</th>\n      <td>C</td>\n      <td>Saitama</td>\n      <td>181.0</td>\n    </tr>\n    <tr>\n      <th>13</th>\n      <td>A</td>\n      <td>Kanagawa</td>\n      <td>181.2</td>\n    </tr>\n    <tr>\n      <th>14</th>\n      <td>A</td>\n      <td>Saitama</td>\n      <td>180.2</td>\n    </tr>\n    <tr>\n      <th>15</th>\n      <td>B</td>\n      <td>Kanagawa</td>\n      <td>178.3</td>\n    </tr>\n    <tr>\n      <th>16</th>\n      <td>A</td>\n      <td>Kanagawa</td>\n      <td>178.7</td>\n    </tr>\n    <tr>\n      <th>17</th>\n      <td>B</td>\n      <td>Saitama</td>\n      <td>183.2</td>\n    </tr>\n    <tr>\n      <th>18</th>\n      <td>B</td>\n      <td>Saitama</td>\n      <td>179.0</td>\n    </tr>\n    <tr>\n      <th>19</th>\n      <td>C</td>\n      <td>Chiba</td>\n      <td>183.1</td>\n    </tr>\n    <tr>\n      <th>20</th>\n      <td>B</td>\n      <td>Kanagawa</td>\n      <td>175.0</td>\n    </tr>\n    <tr>\n      <th>21</th>\n      <td>A</td>\n      <td>Tokyo</td>\n      <td>181.4</td>\n    </tr>\n    <tr>\n      <th>22</th>\n      <td>B</td>\n      <td>Kanagawa</td>\n      <td>180.4</td>\n    </tr>\n    <tr>\n      <th>23</th>\n      <td>C</td>\n      <td>Chiba</td>\n      <td>183.7</td>\n    </tr>\n    <tr>\n      <th>24</th>\n      <td>A</td>\n      <td>Tokyo</td>\n      <td>179.3</td>\n    </tr>\n    <tr>\n      <th>25</th>\n      <td>A</td>\n      <td>Tokyo</td>\n      <td>180.3</td>\n    </tr>\n    <tr>\n      <th>26</th>\n      <td>A</td>\n      <td>Chiba</td>\n      <td>179.8</td>\n    </tr>\n    <tr>\n      <th>27</th>\n      <td>B</td>\n      <td>Tokyo</td>\n      <td>182.4</td>\n    </tr>\n    <tr>\n      <th>28</th>\n      <td>A</td>\n      <td>Kanagawa</td>\n      <td>179.2</td>\n    </tr>\n    <tr>\n      <th>29</th>\n      <td>B</td>\n      <td>Chiba</td>\n      <td>182.6</td>\n    </tr>\n    <tr>\n      <th>30</th>\n      <td>B</td>\n      <td>Tokyo</td>\n      <td>179.4</td>\n    </tr>\n    <tr>\n      <th>31</th>\n      <td>C</td>\n      <td>Tokyo</td>\n      <td>177.6</td>\n    </tr>\n    <tr>\n      <th>32</th>\n      <td>A</td>\n      <td>Chiba</td>\n      <td>180.2</td>\n    </tr>\n    <tr>\n      <th>33</th>\n      <td>A</td>\n      <td>Chiba</td>\n      <td>182.9</td>\n    </tr>\n    <tr>\n      <th>34</th>\n      <td>C</td>\n      <td>Chiba</td>\n      <td>180.6</td>\n    </tr>\n    <tr>\n      <th>35</th>\n      <td>C</td>\n      <td>Saitama</td>\n      <td>179.5</td>\n    </tr>\n    <tr>\n      <th>36</th>\n      <td>B</td>\n      <td>Kanagawa</td>\n      <td>177.2</td>\n    </tr>\n    <tr>\n      <th>37</th>\n      <td>A</td>\n      <td>Tokyo</td>\n      <td>176.9</td>\n    </tr>\n    <tr>\n      <th>38</th>\n      <td>C</td>\n      <td>Kanagawa</td>\n      <td>182.2</td>\n    </tr>\n    <tr>\n      <th>39</th>\n      <td>A</td>\n      <td>Kanagawa</td>\n      <td>179.3</td>\n    </tr>\n    <tr>\n      <th>40</th>\n      <td>A</td>\n      <td>Saitama</td>\n      <td>175.0</td>\n    </tr>\n    <tr>\n      <th>41</th>\n      <td>B</td>\n      <td>Saitama</td>\n      <td>179.0</td>\n    </tr>\n    <tr>\n      <th>42</th>\n      <td>C</td>\n      <td>Kanagawa</td>\n      <td>180.2</td>\n    </tr>\n    <tr>\n      <th>43</th>\n      <td>B</td>\n      <td>Tokyo</td>\n      <td>183.2</td>\n    </tr>\n    <tr>\n      <th>44</th>\n      <td>B</td>\n      <td>Chiba</td>\n      <td>180.1</td>\n    </tr>\n    <tr>\n      <th>45</th>\n      <td>C</td>\n      <td>Kanagawa</td>\n      <td>178.7</td>\n    </tr>\n    <tr>\n      <th>46</th>\n      <td>A</td>\n      <td>Tokyo</td>\n      <td>181.0</td>\n    </tr>\n    <tr>\n      <th>47</th>\n      <td>B</td>\n      <td>Kanagawa</td>\n      <td>179.0</td>\n    </tr>\n    <tr>\n      <th>48</th>\n      <td>B</td>\n      <td>Saitama</td>\n      <td>180.8</td>\n    </tr>\n    <tr>\n      <th>49</th>\n      <td>B</td>\n      <td>Saitama</td>\n      <td>177.1</td>\n    </tr>\n    <tr>\n      <th>50</th>\n      <td>C</td>\n      <td>Tokyo</td>\n      <td>182.9</td>\n    </tr>\n    <tr>\n      <th>51</th>\n      <td>B</td>\n      <td>Saitama</td>\n      <td>180.3</td>\n    </tr>\n    <tr>\n      <th>52</th>\n      <td>B</td>\n      <td>Kanagawa</td>\n      <td>180.7</td>\n    </tr>\n    <tr>\n      <th>53</th>\n      <td>B</td>\n      <td>Chiba</td>\n      <td>180.0</td>\n    </tr>\n    <tr>\n      <th>54</th>\n      <td>B</td>\n      <td>Saitama</td>\n      <td>177.6</td>\n    </tr>\n    <tr>\n      <th>55</th>\n      <td>A</td>\n      <td>Chiba</td>\n      <td>180.6</td>\n    </tr>\n    <tr>\n      <th>56</th>\n      <td>A</td>\n      <td>Tokyo</td>\n      <td>181.7</td>\n    </tr>\n    <tr>\n      <th>57</th>\n      <td>C</td>\n      <td>Tokyo</td>\n      <td>178.8</td>\n    </tr>\n    <tr>\n      <th>58</th>\n      <td>B</td>\n      <td>Kanagawa</td>\n      <td>180.7</td>\n    </tr>\n    <tr>\n      <th>59</th>\n      <td>A</td>\n      <td>Tokyo</td>\n      <td>181.9</td>\n    </tr>\n  </tbody>\n</table>\n</div>"
     },
     "metadata": {}
    }
   ],
   "source": [
    "df = pd.read_csv(csv_in,delimiter=',', skiprows=1, header=0)\n",
    "print('Player Count:', df.shape[0])\n",
    "display(df)"
   ]
  },
  {
   "cell_type": "code",
   "execution_count": 4,
   "metadata": {},
   "outputs": [
    {
     "output_type": "stream",
     "name": "stdout",
     "text": [
      "Tokyo       19\nSaitama     15\nKanagawa    14\nChiba       12\nName: Pref, dtype: int64\n"
     ]
    }
   ],
   "source": [
    "print(df['Pref'].value_counts())"
   ]
  },
  {
   "cell_type": "code",
   "execution_count": 5,
   "metadata": {},
   "outputs": [
    {
     "output_type": "stream",
     "name": "stdout",
     "text": [
      "Time    179.943333\ndtype: float64\n"
     ]
    }
   ],
   "source": [
    "mean = df.mean()\n",
    "print(mean)"
   ]
  },
  {
   "cell_type": "code",
   "execution_count": 8,
   "metadata": {},
   "outputs": [
    {
     "output_type": "stream",
     "name": "stdout",
     "text": [
      "                     Time\nPref     Team            \nChiba    A     180.875000\n         B     180.900000\n         C     182.140000\nKanagawa A     179.600000\n         B     178.757143\n         C     180.366667\nSaitama  A     178.500000\n         B     179.571429\n         C     180.250000\nTokyo    A     179.583333\n         B     181.525000\n         C     179.766667\n"
     ]
    },
    {
     "output_type": "display_data",
     "data": {
      "text/plain": "Team               A           B           C\nPref                                        \nChiba     180.875000  180.900000  182.140000\nKanagawa  179.600000  178.757143  180.366667\nSaitama   178.500000  179.571429  180.250000\nTokyo     179.583333  181.525000  179.766667",
      "text/html": "<div>\n<style scoped>\n    .dataframe tbody tr th:only-of-type {\n        vertical-align: middle;\n    }\n\n    .dataframe tbody tr th {\n        vertical-align: top;\n    }\n\n    .dataframe thead th {\n        text-align: right;\n    }\n</style>\n<table border=\"1\" class=\"dataframe\">\n  <thead>\n    <tr style=\"text-align: right;\">\n      <th>Team</th>\n      <th>A</th>\n      <th>B</th>\n      <th>C</th>\n    </tr>\n    <tr>\n      <th>Pref</th>\n      <th></th>\n      <th></th>\n      <th></th>\n    </tr>\n  </thead>\n  <tbody>\n    <tr>\n      <th>Chiba</th>\n      <td>180.875000</td>\n      <td>180.900000</td>\n      <td>182.140000</td>\n    </tr>\n    <tr>\n      <th>Kanagawa</th>\n      <td>179.600000</td>\n      <td>178.757143</td>\n      <td>180.366667</td>\n    </tr>\n    <tr>\n      <th>Saitama</th>\n      <td>178.500000</td>\n      <td>179.571429</td>\n      <td>180.250000</td>\n    </tr>\n    <tr>\n      <th>Tokyo</th>\n      <td>179.583333</td>\n      <td>181.525000</td>\n      <td>179.766667</td>\n    </tr>\n  </tbody>\n</table>\n</div>"
     },
     "metadata": {}
    }
   ],
   "source": [
    "df_pref_team = df.groupby(['Pref', 'Team']).mean()\n",
    "print(df_pref_team)\n",
    "df_pivot = df.pivot_table('Time',index='Pref', columns='Team', aggfunc=np.mean)\n",
    "display(df_pivot)"
   ]
  },
  {
   "cell_type": "code",
   "execution_count": null,
   "metadata": {},
   "outputs": [],
   "source": []
  }
 ],
 "metadata": {
  "kernelspec": {
   "name": "python388jvsc74a57bd0e8880c58ea65068827af19aa57df99e07da1109ce0dc5e321474e5f3a08d850b",
   "display_name": "Python 3.8.8 64-bit ('ds2021': conda)"
  },
  "language_info": {
   "codemirror_mode": {
    "name": "ipython",
    "version": 3
   },
   "file_extension": ".py",
   "mimetype": "text/x-python",
   "name": "python",
   "nbconvert_exporter": "python",
   "pygments_lexer": "ipython3",
   "version": "3.8.8-final"
  },
  "metadata": {
   "interpreter": {
    "hash": "e8880c58ea65068827af19aa57df99e07da1109ce0dc5e321474e5f3a08d850b"
   }
  }
 },
 "nbformat": 4,
 "nbformat_minor": 4
}