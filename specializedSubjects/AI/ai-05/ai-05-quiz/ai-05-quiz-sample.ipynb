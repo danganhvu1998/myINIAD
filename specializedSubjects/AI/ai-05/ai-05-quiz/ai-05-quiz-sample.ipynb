{
 "cells": [
  {
   "cell_type": "markdown",
   "metadata": {},
   "source": [
    "### AI-05 Quiz  "
   ]
  },
  {
   "cell_type": "markdown",
   "metadata": {},
   "source": [
    "#### Import libraries  "
   ]
  },
  {
   "cell_type": "code",
   "execution_count": 30,
   "metadata": {},
   "outputs": [],
   "source": [
    "import pandas as pd\n",
    "import statsmodels.api as sm\n",
    "from sklearn import preprocessing"
   ]
  },
  {
   "cell_type": "markdown",
   "metadata": {},
   "source": [
    "#### Read CSV file  "
   ]
  },
  {
   "cell_type": "code",
   "execution_count": 31,
   "metadata": {},
   "outputs": [
    {
     "output_type": "stream",
     "name": "stdout",
     "text": [
      "(50, 5)\n<class 'pandas.core.frame.DataFrame'>\nRangeIndex: 50 entries, 0 to 49\nData columns (total 5 columns):\n #   Column  Non-Null Count  Dtype  \n---  ------  --------------  -----  \n 0   x1      50 non-null     float64\n 1   x2      50 non-null     float64\n 2   x3      50 non-null     float64\n 3   x4      50 non-null     float64\n 4   y       50 non-null     float64\ndtypes: float64(5)\nmemory usage: 2.1 KB\nNone\n"
     ]
    },
    {
     "output_type": "display_data",
     "data": {
      "text/plain": "    x1   x2   x3   x4     y\n0  6.7  3.1  3.1  3.6 -17.3\n1  4.8  3.4  9.1  2.0  27.7\n2  4.4  3.7  4.5  1.0   3.5\n3  5.7  3.8  3.2  0.7  14.8\n4  5.3  0.9  8.0  2.6  12.8",
      "text/html": "<div>\n<style scoped>\n    .dataframe tbody tr th:only-of-type {\n        vertical-align: middle;\n    }\n\n    .dataframe tbody tr th {\n        vertical-align: top;\n    }\n\n    .dataframe thead th {\n        text-align: right;\n    }\n</style>\n<table border=\"1\" class=\"dataframe\">\n  <thead>\n    <tr style=\"text-align: right;\">\n      <th></th>\n      <th>x1</th>\n      <th>x2</th>\n      <th>x3</th>\n      <th>x4</th>\n      <th>y</th>\n    </tr>\n  </thead>\n  <tbody>\n    <tr>\n      <th>0</th>\n      <td>6.7</td>\n      <td>3.1</td>\n      <td>3.1</td>\n      <td>3.6</td>\n      <td>-17.3</td>\n    </tr>\n    <tr>\n      <th>1</th>\n      <td>4.8</td>\n      <td>3.4</td>\n      <td>9.1</td>\n      <td>2.0</td>\n      <td>27.7</td>\n    </tr>\n    <tr>\n      <th>2</th>\n      <td>4.4</td>\n      <td>3.7</td>\n      <td>4.5</td>\n      <td>1.0</td>\n      <td>3.5</td>\n    </tr>\n    <tr>\n      <th>3</th>\n      <td>5.7</td>\n      <td>3.8</td>\n      <td>3.2</td>\n      <td>0.7</td>\n      <td>14.8</td>\n    </tr>\n    <tr>\n      <th>4</th>\n      <td>5.3</td>\n      <td>0.9</td>\n      <td>8.0</td>\n      <td>2.6</td>\n      <td>12.8</td>\n    </tr>\n  </tbody>\n</table>\n</div>"
     },
     "metadata": {}
    }
   ],
   "source": [
    "csv_in = 'reg1.csv'\n",
    "df = pd.read_csv(csv_in, delimiter=',', skiprows=0, header=0)\n",
    "print(df.shape)\n",
    "print(df.info())\n",
    "display(df.head())"
   ]
  },
  {
   "cell_type": "code",
   "execution_count": 32,
   "metadata": {},
   "outputs": [
    {
     "output_type": "stream",
     "name": "stdout",
     "text": [
      "X: (50, 4)\ny: (50,)\n"
     ]
    }
   ],
   "source": [
    "df_x = df.loc[:, 'x1':'x4']\n",
    "y = df['y']\n",
    "print('X:', df_x.shape)\n",
    "print('y:', y.shape)"
   ]
  },
  {
   "cell_type": "code",
   "execution_count": 33,
   "metadata": {},
   "outputs": [
    {
     "output_type": "stream",
     "name": "stdout",
     "text": [
      "    const   x1   x2   x3   x4\n0     1.0  6.7  3.1  3.1  3.6\n1     1.0  4.8  3.4  9.1  2.0\n2     1.0  4.4  3.7  4.5  1.0\n3     1.0  5.7  3.8  3.2  0.7\n4     1.0  5.3  0.9  8.0  2.6\n5     1.0  3.6  3.7 -4.0  1.3\n6     1.0  6.0  3.2  0.8  6.3\n7     1.0  4.6  0.5  7.0 -3.0\n8     1.0  6.8  3.3  5.5  1.3\n9     1.0  4.5  7.1  8.7 -2.2\n10    1.0  5.3  3.0  8.7  2.9\n11    1.0  4.7  4.3  5.4 -4.7\n12    1.0  4.9  6.4  1.9 -5.6\n13    1.0  3.9  3.9 -0.9 -2.6\n14    1.0  4.7  1.6  7.5  0.9\n15    1.0  2.3  7.1  4.1  3.0\n16    1.0  4.8  0.4  5.0  5.6\n17    1.0  4.5  4.4  6.3 -0.0\n18    1.0  6.5  5.3  4.6  4.7\n19    1.0  3.9 -0.8  3.2 -0.7\n20    1.0  4.7  3.1  0.4  3.5\n21    1.0  3.8  4.6  4.4  3.5\n22    1.0  6.4  4.3  8.2  0.2\n23    1.0  5.5  2.0  3.7  7.4\n24    1.0  5.0  3.1  1.1  9.0\n25    1.0  5.9  0.5  7.6  1.1\n26    1.0  6.0  4.6  1.1  0.6\n27    1.0  4.8  2.8 -0.8  0.7\n28    1.0  3.0  4.7  0.9  4.0\n29    1.0  3.7  1.0 -0.9 -0.5\n30    1.0  5.0  0.4  2.4  4.8\n31    1.0  6.5  5.1  3.4  4.3\n32    1.0  6.2  6.0  0.2  3.6\n33    1.0  4.9  5.1  1.5  2.4\n34    1.0  5.5  6.2  0.9  4.3\n35    1.0  5.6  1.1 -4.0 -4.4\n36    1.0  6.0  5.1 -1.0  4.7\n37    1.0  5.3  3.4 -2.0  4.6\n38    1.0  3.6  5.5  2.2  6.6\n39    1.0  3.6  6.1  3.8  8.4\n40    1.0  3.1  5.3  5.8  2.6\n41    1.0  4.2  6.8  5.6  0.7\n42    1.0  5.3  5.6  1.7  1.3\n43    1.0  4.9  4.8  1.5 -1.3\n44    1.0  5.5  2.9  1.2  2.2\n45    1.0  6.3  2.4  0.3  2.2\n46    1.0  4.8  3.5 -0.1  2.1\n47    1.0  4.8  4.0  5.4 -7.1\n48    1.0  5.4  6.3  6.4  0.6\n49    1.0  5.4  5.3  2.1 -0.3\n                            OLS Regression Results                            \n==============================================================================\nDep. Variable:                      y   R-squared:                       0.854\nModel:                            OLS   Adj. R-squared:                  0.841\nMethod:                 Least Squares   F-statistic:                     65.66\nDate:                Fri, 14 May 2021   Prob (F-statistic):           3.33e-18\nTime:                        09:17:14   Log-Likelihood:                -178.20\nNo. Observations:                  50   AIC:                             366.4\nDf Residuals:                      45   BIC:                             376.0\nDf Model:                           4                                         \nCovariance Type:            nonrobust                                         \n==============================================================================\n                 coef    std err          t      P>|t|      [0.025      0.975]\n------------------------------------------------------------------------------\nconst         19.1721      7.322      2.618      0.012       4.424      33.920\nx1            -5.2746      1.283     -4.111      0.000      -7.859      -2.691\nx2             1.5463      0.665      2.324      0.025       0.206       2.886\nx3             3.4891      0.394      8.857      0.000       2.696       4.283\nx4            -4.3932      0.381    -11.524      0.000      -5.161      -3.625\n==============================================================================\nOmnibus:                       10.925   Durbin-Watson:                   2.099\nProb(Omnibus):                  0.004   Jarque-Bera (JB):                2.908\nSkew:                          -0.013   Prob(JB):                        0.234\nKurtosis:                       1.819   Cond. No.                         44.0\n==============================================================================\n\nNotes:\n[1] Standard Errors assume that the covariance matrix of the errors is correctly specified.\nconst    19.172142\nx1       -5.274581\nx2        1.546305\nx3        3.489137\nx4       -4.393240\ndtype: float64\nR2: 0.8537220720052421\nAdj R2: 0.8407195895168191\n"
     ]
    }
   ],
   "source": [
    "x_c = sm.add_constant(df_x)\n",
    "print(x_c)\n",
    "model = sm.OLS(y, x_c)\n",
    "results = model.fit()\n",
    "print(results.summary())\n",
    "print(results.params)\n",
    "print('R2:', results.rsquared)\n",
    "print('Adj R2:', results.rsquared_adj)"
   ]
  },
  {
   "cell_type": "code",
   "execution_count": 34,
   "metadata": {},
   "outputs": [
    {
     "output_type": "stream",
     "name": "stdout",
     "text": [
      "                                 OLS Regression Results                                \n=======================================================================================\nDep. Variable:                      y   R-squared (uncentered):                   0.854\nModel:                            OLS   Adj. R-squared (uncentered):              0.841\nMethod:                 Least Squares   F-statistic:                              67.12\nDate:                Fri, 14 May 2021   Prob (F-statistic):                    1.30e-18\nTime:                        09:17:14   Log-Likelihood:                         -22.891\nNo. Observations:                  50   AIC:                                      53.78\nDf Residuals:                      46   BIC:                                      61.43\nDf Model:                           4                                                  \nCovariance Type:            nonrobust                                                  \n==============================================================================\n                 coef    std err          t      P>|t|      [0.025      0.975]\n------------------------------------------------------------------------------\nx1            -0.2367      0.057     -4.157      0.000      -0.351      -0.122\nx2             0.1336      0.057      2.350      0.023       0.019       0.248\nx3             0.5076      0.057      8.955      0.000       0.394       0.622\nx4            -0.6618      0.057    -11.651      0.000      -0.776      -0.547\n==============================================================================\nOmnibus:                       10.925   Durbin-Watson:                   2.099\nProb(Omnibus):                  0.004   Jarque-Bera (JB):                2.908\nSkew:                          -0.013   Prob(JB):                        0.234\nKurtosis:                       1.819   Cond. No.                         1.17\n==============================================================================\n\nNotes:\n[1] R² is computed without centering (uncentered) since the model does not contain a constant.\n[2] Standard Errors assume that the covariance matrix of the errors is correctly specified.\nx1   -0.236746\nx2    0.133598\nx3    0.507625\nx4   -0.661768\ndtype: float64\n"
     ]
    }
   ],
   "source": [
    "df_x_scaled = pd.DataFrame(preprocessing.scale(df_x), columns=df_x.columns)\n",
    "ser_y_scaled = pd.Series(preprocessing.scale(y), index=y.index)\n",
    "model_scaled = sm.OLS(ser_y_scaled, df_x_scaled)\n",
    "results_scaled = model_scaled.fit()\n",
    "print(results_scaled.summary())\n",
    "print(results_scaled.params)"
   ]
  },
  {
   "cell_type": "code",
   "execution_count": null,
   "metadata": {},
   "outputs": [],
   "source": []
  }
 ],
 "metadata": {
  "kernelspec": {
   "name": "python388jvsc74a57bd0e8880c58ea65068827af19aa57df99e07da1109ce0dc5e321474e5f3a08d850b",
   "display_name": "Python 3.8.8 64-bit ('ds2021': conda)"
  },
  "language_info": {
   "codemirror_mode": {
    "name": "ipython",
    "version": 3
   },
   "file_extension": ".py",
   "mimetype": "text/x-python",
   "name": "python",
   "nbconvert_exporter": "python",
   "pygments_lexer": "ipython3",
   "version": "3.8.8"
  },
  "metadata": {
   "interpreter": {
    "hash": "e8880c58ea65068827af19aa57df99e07da1109ce0dc5e321474e5f3a08d850b"
   }
  }
 },
 "nbformat": 4,
 "nbformat_minor": 4
}