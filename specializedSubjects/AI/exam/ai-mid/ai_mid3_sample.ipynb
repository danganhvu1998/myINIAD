{
 "cells": [
  {
   "cell_type": "code",
   "execution_count": 26,
   "metadata": {},
   "outputs": [
    {
     "output_type": "error",
     "ename": "ModuleNotFoundError",
     "evalue": "No module named 'matplotlib'",
     "traceback": [
      "\u001b[0;31m---------------------------------------------------------------------------\u001b[0m",
      "\u001b[0;31mModuleNotFoundError\u001b[0m                       Traceback (most recent call last)",
      "\u001b[0;32m<ipython-input-26-dc3e0c36d022>\u001b[0m in \u001b[0;36m<module>\u001b[0;34m\u001b[0m\n\u001b[1;32m      4\u001b[0m \u001b[0;32mfrom\u001b[0m \u001b[0mpandas\u001b[0m\u001b[0;34m.\u001b[0m\u001b[0mplotting\u001b[0m \u001b[0;32mimport\u001b[0m \u001b[0mscatter_matrix\u001b[0m\u001b[0;34m\u001b[0m\u001b[0;34m\u001b[0m\u001b[0m\n\u001b[1;32m      5\u001b[0m \u001b[0;31m# import seaborn as sns\u001b[0m\u001b[0;34m\u001b[0m\u001b[0;34m\u001b[0m\u001b[0;34m\u001b[0m\u001b[0m\n\u001b[0;32m----> 6\u001b[0;31m \u001b[0;32mimport\u001b[0m \u001b[0mmatplotlib\u001b[0m\u001b[0;34m\u001b[0m\u001b[0;34m\u001b[0m\u001b[0m\n\u001b[0m\u001b[1;32m      7\u001b[0m \u001b[0;32mimport\u001b[0m \u001b[0mmatplotlib\u001b[0m\u001b[0;34m.\u001b[0m\u001b[0mpyplot\u001b[0m \u001b[0;32mas\u001b[0m \u001b[0mplt\u001b[0m\u001b[0;34m\u001b[0m\u001b[0;34m\u001b[0m\u001b[0m\n\u001b[1;32m      8\u001b[0m \u001b[0;32mfrom\u001b[0m \u001b[0mpandas\u001b[0m\u001b[0;34m.\u001b[0m\u001b[0mplotting\u001b[0m \u001b[0;32mimport\u001b[0m \u001b[0mregister_matplotlib_converters\u001b[0m\u001b[0;34m\u001b[0m\u001b[0;34m\u001b[0m\u001b[0m\n",
      "\u001b[0;31mModuleNotFoundError\u001b[0m: No module named 'matplotlib'"
     ]
    }
   ],
   "source": [
    "import sys\n",
    "import numpy as np\n",
    "import pandas as pd\n",
    "from pandas.plotting import scatter_matrix\n",
    "import seaborn as sns\n",
    "import matplotlib\n",
    "import matplotlib.pyplot as plt\n",
    "from pandas.plotting import register_matplotlib_converters\n",
    "register_matplotlib_converters()\n",
    "from sklearn import preprocessing\n",
    "import statsmodels.api as sm\n",
    "import statsmodels.formula.api as smf"
   ]
  },
  {
   "cell_type": "code",
   "execution_count": 19,
   "metadata": {},
   "outputs": [
    {
     "output_type": "stream",
     "name": "stdout",
     "text": [
      "(506, 7)\n<class 'pandas.core.frame.DataFrame'>\nRangeIndex: 506 entries, 0 to 505\nData columns (total 7 columns):\n #   Column   Non-Null Count  Dtype  \n---  ------   --------------  -----  \n 0   CRIM     506 non-null    float64\n 1   INDUS    506 non-null    float64\n 2   RM       506 non-null    float64\n 3   TAX      506 non-null    float64\n 4   PTRATIO  506 non-null    float64\n 5   LSTAT    506 non-null    float64\n 6   MEDV     506 non-null    float64\ndtypes: float64(7)\nmemory usage: 27.8 KB\nNone\n"
     ]
    },
    {
     "output_type": "display_data",
     "data": {
      "text/plain": "      CRIM  INDUS     RM    TAX  PTRATIO  LSTAT  MEDV\n0  0.00632   2.31  6.575  296.0     15.3   4.98  24.0\n1  0.02731   7.07  6.421  242.0     17.8   9.14  21.6\n2  0.02729   7.07  7.185  242.0     17.8   4.03  34.7\n3  0.03237   2.18  6.998  222.0     18.7   2.94  33.4\n4  0.06905   2.18  7.147  222.0     18.7   5.33  36.2",
      "text/html": "<div>\n<style scoped>\n    .dataframe tbody tr th:only-of-type {\n        vertical-align: middle;\n    }\n\n    .dataframe tbody tr th {\n        vertical-align: top;\n    }\n\n    .dataframe thead th {\n        text-align: right;\n    }\n</style>\n<table border=\"1\" class=\"dataframe\">\n  <thead>\n    <tr style=\"text-align: right;\">\n      <th></th>\n      <th>CRIM</th>\n      <th>INDUS</th>\n      <th>RM</th>\n      <th>TAX</th>\n      <th>PTRATIO</th>\n      <th>LSTAT</th>\n      <th>MEDV</th>\n    </tr>\n  </thead>\n  <tbody>\n    <tr>\n      <th>0</th>\n      <td>0.00632</td>\n      <td>2.31</td>\n      <td>6.575</td>\n      <td>296.0</td>\n      <td>15.3</td>\n      <td>4.98</td>\n      <td>24.0</td>\n    </tr>\n    <tr>\n      <th>1</th>\n      <td>0.02731</td>\n      <td>7.07</td>\n      <td>6.421</td>\n      <td>242.0</td>\n      <td>17.8</td>\n      <td>9.14</td>\n      <td>21.6</td>\n    </tr>\n    <tr>\n      <th>2</th>\n      <td>0.02729</td>\n      <td>7.07</td>\n      <td>7.185</td>\n      <td>242.0</td>\n      <td>17.8</td>\n      <td>4.03</td>\n      <td>34.7</td>\n    </tr>\n    <tr>\n      <th>3</th>\n      <td>0.03237</td>\n      <td>2.18</td>\n      <td>6.998</td>\n      <td>222.0</td>\n      <td>18.7</td>\n      <td>2.94</td>\n      <td>33.4</td>\n    </tr>\n    <tr>\n      <th>4</th>\n      <td>0.06905</td>\n      <td>2.18</td>\n      <td>7.147</td>\n      <td>222.0</td>\n      <td>18.7</td>\n      <td>5.33</td>\n      <td>36.2</td>\n    </tr>\n  </tbody>\n</table>\n</div>"
     },
     "metadata": {}
    }
   ],
   "source": [
    "df = pd.read_csv('ai_mid3.csv', delimiter=',', skiprows=0, header=0)\n",
    "print(df.shape)\n",
    "print(df.info())\n",
    "display(df.head())"
   ]
  },
  {
   "cell_type": "code",
   "execution_count": 20,
   "metadata": {},
   "outputs": [
    {
     "output_type": "display_data",
     "data": {
      "text/plain": "             CRIM     INDUS        RM       TAX   PTRATIO     LSTAT      MEDV\nCRIM     1.000000  0.406583 -0.219247  0.582764  0.289946  0.455621 -0.388305\nINDUS    0.406583  1.000000 -0.391676  0.720760  0.383248  0.603800 -0.483725\nRM      -0.219247 -0.391676  1.000000 -0.292048 -0.355501 -0.613808  0.695360\nTAX      0.582764  0.720760 -0.292048  1.000000  0.460853  0.543993 -0.468536\nPTRATIO  0.289946  0.383248 -0.355501  0.460853  1.000000  0.374044 -0.507787\nLSTAT    0.455621  0.603800 -0.613808  0.543993  0.374044  1.000000 -0.737663\nMEDV    -0.388305 -0.483725  0.695360 -0.468536 -0.507787 -0.737663  1.000000",
      "text/html": "<div>\n<style scoped>\n    .dataframe tbody tr th:only-of-type {\n        vertical-align: middle;\n    }\n\n    .dataframe tbody tr th {\n        vertical-align: top;\n    }\n\n    .dataframe thead th {\n        text-align: right;\n    }\n</style>\n<table border=\"1\" class=\"dataframe\">\n  <thead>\n    <tr style=\"text-align: right;\">\n      <th></th>\n      <th>CRIM</th>\n      <th>INDUS</th>\n      <th>RM</th>\n      <th>TAX</th>\n      <th>PTRATIO</th>\n      <th>LSTAT</th>\n      <th>MEDV</th>\n    </tr>\n  </thead>\n  <tbody>\n    <tr>\n      <th>CRIM</th>\n      <td>1.000000</td>\n      <td>0.406583</td>\n      <td>-0.219247</td>\n      <td>0.582764</td>\n      <td>0.289946</td>\n      <td>0.455621</td>\n      <td>-0.388305</td>\n    </tr>\n    <tr>\n      <th>INDUS</th>\n      <td>0.406583</td>\n      <td>1.000000</td>\n      <td>-0.391676</td>\n      <td>0.720760</td>\n      <td>0.383248</td>\n      <td>0.603800</td>\n      <td>-0.483725</td>\n    </tr>\n    <tr>\n      <th>RM</th>\n      <td>-0.219247</td>\n      <td>-0.391676</td>\n      <td>1.000000</td>\n      <td>-0.292048</td>\n      <td>-0.355501</td>\n      <td>-0.613808</td>\n      <td>0.695360</td>\n    </tr>\n    <tr>\n      <th>TAX</th>\n      <td>0.582764</td>\n      <td>0.720760</td>\n      <td>-0.292048</td>\n      <td>1.000000</td>\n      <td>0.460853</td>\n      <td>0.543993</td>\n      <td>-0.468536</td>\n    </tr>\n    <tr>\n      <th>PTRATIO</th>\n      <td>0.289946</td>\n      <td>0.383248</td>\n      <td>-0.355501</td>\n      <td>0.460853</td>\n      <td>1.000000</td>\n      <td>0.374044</td>\n      <td>-0.507787</td>\n    </tr>\n    <tr>\n      <th>LSTAT</th>\n      <td>0.455621</td>\n      <td>0.603800</td>\n      <td>-0.613808</td>\n      <td>0.543993</td>\n      <td>0.374044</td>\n      <td>1.000000</td>\n      <td>-0.737663</td>\n    </tr>\n    <tr>\n      <th>MEDV</th>\n      <td>-0.388305</td>\n      <td>-0.483725</td>\n      <td>0.695360</td>\n      <td>-0.468536</td>\n      <td>-0.507787</td>\n      <td>-0.737663</td>\n      <td>1.000000</td>\n    </tr>\n  </tbody>\n</table>\n</div>"
     },
     "metadata": {}
    }
   ],
   "source": [
    "df_corr = df.corr(); display(df_corr)"
   ]
  },
  {
   "cell_type": "code",
   "execution_count": 21,
   "metadata": {},
   "outputs": [
    {
     "output_type": "stream",
     "name": "stdout",
     "text": [
      "CRIM      -0.388305\nINDUS     -0.483725\nRM         0.695360\nTAX       -0.468536\nPTRATIO   -0.507787\nLSTAT     -0.737663\nMEDV       1.000000\ndtype: float64\n"
     ]
    }
   ],
   "source": [
    "ser_medv_corr = df.corrwith(df['MEDV']); print(ser_medv_corr)"
   ]
  },
  {
   "cell_type": "code",
   "execution_count": 22,
   "metadata": {},
   "outputs": [
    {
     "output_type": "stream",
     "name": "stdout",
     "text": [
      "X_all_org: (506, 3)\n"
     ]
    },
    {
     "output_type": "display_data",
     "data": {
      "text/plain": "     TAX  PTRATIO  LSTAT\n0  296.0     15.3   4.98\n1  242.0     17.8   9.14\n2  242.0     17.8   4.03\n3  222.0     18.7   2.94\n4  222.0     18.7   5.33",
      "text/html": "<div>\n<style scoped>\n    .dataframe tbody tr th:only-of-type {\n        vertical-align: middle;\n    }\n\n    .dataframe tbody tr th {\n        vertical-align: top;\n    }\n\n    .dataframe thead th {\n        text-align: right;\n    }\n</style>\n<table border=\"1\" class=\"dataframe\">\n  <thead>\n    <tr style=\"text-align: right;\">\n      <th></th>\n      <th>TAX</th>\n      <th>PTRATIO</th>\n      <th>LSTAT</th>\n    </tr>\n  </thead>\n  <tbody>\n    <tr>\n      <th>0</th>\n      <td>296.0</td>\n      <td>15.3</td>\n      <td>4.98</td>\n    </tr>\n    <tr>\n      <th>1</th>\n      <td>242.0</td>\n      <td>17.8</td>\n      <td>9.14</td>\n    </tr>\n    <tr>\n      <th>2</th>\n      <td>242.0</td>\n      <td>17.8</td>\n      <td>4.03</td>\n    </tr>\n    <tr>\n      <th>3</th>\n      <td>222.0</td>\n      <td>18.7</td>\n      <td>2.94</td>\n    </tr>\n    <tr>\n      <th>4</th>\n      <td>222.0</td>\n      <td>18.7</td>\n      <td>5.33</td>\n    </tr>\n  </tbody>\n</table>\n</div>"
     },
     "metadata": {}
    },
    {
     "output_type": "stream",
     "name": "stdout",
     "text": [
      "y: (506,)\n0    24.0\n1    21.6\n2    34.7\n3    33.4\n4    36.2\nName: MEDV, dtype: float64\n"
     ]
    }
   ],
   "source": [
    "X_all_org = df.loc[:, 'TAX':'LSTAT']  # explanatory variables\n",
    "y = df['MEDV']  # objective variable\n",
    "print('X_all_org:', X_all_org.shape)\n",
    "display(X_all_org.head())\n",
    "print('y:', y.shape)\n",
    "print(y.head())"
   ]
  },
  {
   "cell_type": "code",
   "execution_count": 23,
   "metadata": {},
   "outputs": [
    {
     "output_type": "stream",
     "name": "stdout",
     "text": [
      "X_all: (506, 3)\n"
     ]
    },
    {
     "output_type": "display_data",
     "data": {
      "text/plain": "     TAX  PTRATIO  LSTAT\n0  296.0     15.3   4.98\n1  242.0     17.8   9.14\n2  242.0     17.8   4.03\n3  222.0     18.7   2.94\n4  222.0     18.7   5.33",
      "text/html": "<div>\n<style scoped>\n    .dataframe tbody tr th:only-of-type {\n        vertical-align: middle;\n    }\n\n    .dataframe tbody tr th {\n        vertical-align: top;\n    }\n\n    .dataframe thead th {\n        text-align: right;\n    }\n</style>\n<table border=\"1\" class=\"dataframe\">\n  <thead>\n    <tr style=\"text-align: right;\">\n      <th></th>\n      <th>TAX</th>\n      <th>PTRATIO</th>\n      <th>LSTAT</th>\n    </tr>\n  </thead>\n  <tbody>\n    <tr>\n      <th>0</th>\n      <td>296.0</td>\n      <td>15.3</td>\n      <td>4.98</td>\n    </tr>\n    <tr>\n      <th>1</th>\n      <td>242.0</td>\n      <td>17.8</td>\n      <td>9.14</td>\n    </tr>\n    <tr>\n      <th>2</th>\n      <td>242.0</td>\n      <td>17.8</td>\n      <td>4.03</td>\n    </tr>\n    <tr>\n      <th>3</th>\n      <td>222.0</td>\n      <td>18.7</td>\n      <td>2.94</td>\n    </tr>\n    <tr>\n      <th>4</th>\n      <td>222.0</td>\n      <td>18.7</td>\n      <td>5.33</td>\n    </tr>\n  </tbody>\n</table>\n</div>"
     },
     "metadata": {}
    }
   ],
   "source": [
    "X_all = pd.get_dummies(X_all_org, drop_first=True)\n",
    "print('X_all:', X_all.shape)\n",
    "display(X_all.head())"
   ]
  },
  {
   "cell_type": "code",
   "execution_count": 24,
   "metadata": {},
   "outputs": [
    {
     "output_type": "error",
     "ename": "NameError",
     "evalue": "name 'preprocessing' is not defined",
     "traceback": [
      "\u001b[0;31m---------------------------------------------------------------------------\u001b[0m",
      "\u001b[0;31mNameError\u001b[0m                                 Traceback (most recent call last)",
      "\u001b[0;32m<ipython-input-24-dc1544356786>\u001b[0m in \u001b[0;36m<module>\u001b[0;34m\u001b[0m\n\u001b[0;32m----> 1\u001b[0;31m \u001b[0mX_scaled\u001b[0m \u001b[0;34m=\u001b[0m \u001b[0mpreprocessing\u001b[0m\u001b[0;34m.\u001b[0m\u001b[0mscale\u001b[0m\u001b[0;34m(\u001b[0m\u001b[0mX_all\u001b[0m\u001b[0;34m)\u001b[0m\u001b[0;34m\u001b[0m\u001b[0;34m\u001b[0m\u001b[0m\n\u001b[0m\u001b[1;32m      2\u001b[0m \u001b[0my_scaled\u001b[0m \u001b[0;34m=\u001b[0m \u001b[0mpreprocessing\u001b[0m\u001b[0;34m.\u001b[0m\u001b[0mscale\u001b[0m\u001b[0;34m(\u001b[0m\u001b[0my\u001b[0m\u001b[0;34m)\u001b[0m\u001b[0;34m\u001b[0m\u001b[0;34m\u001b[0m\u001b[0m\n\u001b[1;32m      3\u001b[0m \u001b[0mmodel\u001b[0m \u001b[0;34m=\u001b[0m \u001b[0msm\u001b[0m\u001b[0;34m.\u001b[0m\u001b[0mOLS\u001b[0m\u001b[0;34m(\u001b[0m\u001b[0my_scaled\u001b[0m\u001b[0;34m,\u001b[0m \u001b[0mX_scaled\u001b[0m\u001b[0;34m)\u001b[0m\u001b[0;34m\u001b[0m\u001b[0;34m\u001b[0m\u001b[0m\n\u001b[1;32m      4\u001b[0m \u001b[0mresults\u001b[0m \u001b[0;34m=\u001b[0m \u001b[0mmodel\u001b[0m\u001b[0;34m.\u001b[0m\u001b[0mfit\u001b[0m\u001b[0;34m(\u001b[0m\u001b[0;34m)\u001b[0m\u001b[0;34m\u001b[0m\u001b[0;34m\u001b[0m\u001b[0m\n\u001b[1;32m      5\u001b[0m \u001b[0mprint\u001b[0m\u001b[0;34m(\u001b[0m\u001b[0mresults\u001b[0m\u001b[0;34m.\u001b[0m\u001b[0msummary\u001b[0m\u001b[0;34m(\u001b[0m\u001b[0;34m)\u001b[0m\u001b[0;34m)\u001b[0m\u001b[0;34m\u001b[0m\u001b[0;34m\u001b[0m\u001b[0m\n",
      "\u001b[0;31mNameError\u001b[0m: name 'preprocessing' is not defined"
     ]
    }
   ],
   "source": [
    "X_scaled = preprocessing.scale(X_all)\n",
    "y_scaled = preprocessing.scale(y)\n",
    "model = sm.OLS(y_scaled, X_scaled)\n",
    "results = model.fit()\n",
    "print(results.summary())"
   ]
  },
  {
   "cell_type": "code",
   "execution_count": null,
   "metadata": {},
   "outputs": [],
   "source": [
    "dfX_scaled = pd.DataFrame(X_scaled, columns=X_all.columns)\n",
    "dfy_scaled = pd.Series(y_scaled, name=y.name)"
   ]
  },
  {
   "cell_type": "code",
   "execution_count": null,
   "metadata": {},
   "outputs": [],
   "source": [
    "exogs = ['TAX', 'PTRATIO', 'LSTAT']\n",
    "X_final_scaled = dfX_scaled[exogs]\n",
    "model_final_scaled = sm.OLS(y_scaled, X_final_scaled)\n",
    "results_final_scaled = model_final_scaled.fit()\n",
    "print(results_final_scaled.summary())"
   ]
  }
 ],
 "metadata": {
  "kernelspec": {
   "name": "python388jvsc74a57bd0db8b7fe47b70054bb2bb00b153272d4f7a23c7269610021a9b5fc371a2b81095",
   "display_name": "Python 3.8.8 64-bit ('iniad_ai': conda)"
  },
  "language_info": {
   "codemirror_mode": {
    "name": "ipython",
    "version": 3
   },
   "file_extension": ".py",
   "mimetype": "text/x-python",
   "name": "python",
   "nbconvert_exporter": "python",
   "pygments_lexer": "ipython3",
   "version": "3.8.8"
  },
  "metadata": {
   "interpreter": {
    "hash": "db8b7fe47b70054bb2bb00b153272d4f7a23c7269610021a9b5fc371a2b81095"
   }
  }
 },
 "nbformat": 4,
 "nbformat_minor": 4
}