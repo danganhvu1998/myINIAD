{
 "cells": [
  {
   "cell_type": "code",
   "execution_count": 16,
   "metadata": {},
   "outputs": [],
   "source": [
    "import sys\n",
    "import numpy as np\n",
    "import pandas as pd\n",
    "from pandas.plotting import scatter_matrix\n",
    "import seaborn as sns\n",
    "import matplotlib\n",
    "import matplotlib.pyplot as plt\n",
    "from pandas.plotting import register_matplotlib_converters\n",
    "register_matplotlib_converters()\n",
    "from sklearn import preprocessing\n",
    "import statsmodels.api as sm\n",
    "import statsmodels.formula.api as smf"
   ]
  },
  {
   "cell_type": "code",
   "execution_count": 17,
   "metadata": {},
   "outputs": [
    {
     "output_type": "stream",
     "name": "stdout",
     "text": [
      "(506, 7)\n<class 'pandas.core.frame.DataFrame'>\nRangeIndex: 506 entries, 0 to 505\nData columns (total 7 columns):\n #   Column   Non-Null Count  Dtype  \n---  ------   --------------  -----  \n 0   CRIM     506 non-null    float64\n 1   INDUS    506 non-null    float64\n 2   RM       506 non-null    float64\n 3   TAX      506 non-null    float64\n 4   PTRATIO  506 non-null    float64\n 5   LSTAT    506 non-null    float64\n 6   MEDV     506 non-null    float64\ndtypes: float64(7)\nmemory usage: 27.8 KB\nNone\n"
     ]
    },
    {
     "output_type": "display_data",
     "data": {
      "text/plain": "      CRIM  INDUS     RM    TAX  PTRATIO  LSTAT  MEDV\n0  0.00632   2.31  6.575  296.0     15.3   4.98  24.0\n1  0.02731   7.07  6.421  242.0     17.8   9.14  21.6\n2  0.02729   7.07  7.185  242.0     17.8   4.03  34.7\n3  0.03237   2.18  6.998  222.0     18.7   2.94  33.4\n4  0.06905   2.18  7.147  222.0     18.7   5.33  36.2",
      "text/html": "<div>\n<style scoped>\n    .dataframe tbody tr th:only-of-type {\n        vertical-align: middle;\n    }\n\n    .dataframe tbody tr th {\n        vertical-align: top;\n    }\n\n    .dataframe thead th {\n        text-align: right;\n    }\n</style>\n<table border=\"1\" class=\"dataframe\">\n  <thead>\n    <tr style=\"text-align: right;\">\n      <th></th>\n      <th>CRIM</th>\n      <th>INDUS</th>\n      <th>RM</th>\n      <th>TAX</th>\n      <th>PTRATIO</th>\n      <th>LSTAT</th>\n      <th>MEDV</th>\n    </tr>\n  </thead>\n  <tbody>\n    <tr>\n      <th>0</th>\n      <td>0.00632</td>\n      <td>2.31</td>\n      <td>6.575</td>\n      <td>296.0</td>\n      <td>15.3</td>\n      <td>4.98</td>\n      <td>24.0</td>\n    </tr>\n    <tr>\n      <th>1</th>\n      <td>0.02731</td>\n      <td>7.07</td>\n      <td>6.421</td>\n      <td>242.0</td>\n      <td>17.8</td>\n      <td>9.14</td>\n      <td>21.6</td>\n    </tr>\n    <tr>\n      <th>2</th>\n      <td>0.02729</td>\n      <td>7.07</td>\n      <td>7.185</td>\n      <td>242.0</td>\n      <td>17.8</td>\n      <td>4.03</td>\n      <td>34.7</td>\n    </tr>\n    <tr>\n      <th>3</th>\n      <td>0.03237</td>\n      <td>2.18</td>\n      <td>6.998</td>\n      <td>222.0</td>\n      <td>18.7</td>\n      <td>2.94</td>\n      <td>33.4</td>\n    </tr>\n    <tr>\n      <th>4</th>\n      <td>0.06905</td>\n      <td>2.18</td>\n      <td>7.147</td>\n      <td>222.0</td>\n      <td>18.7</td>\n      <td>5.33</td>\n      <td>36.2</td>\n    </tr>\n  </tbody>\n</table>\n</div>"
     },
     "metadata": {}
    }
   ],
   "source": [
    "df = pd.read_csv('ai_mid3.csv', delimiter=',', skiprows=0, header=0)\n",
    "print(df.shape)\n",
    "print(df.info())\n",
    "display(df.head())"
   ]
  },
  {
   "cell_type": "code",
   "execution_count": 18,
   "metadata": {},
   "outputs": [
    {
     "output_type": "display_data",
     "data": {
      "text/plain": "             CRIM     INDUS        RM       TAX   PTRATIO     LSTAT      MEDV\nCRIM     1.000000  0.406583 -0.219247  0.582764  0.289946  0.455621 -0.388305\nINDUS    0.406583  1.000000 -0.391676  0.720760  0.383248  0.603800 -0.483725\nRM      -0.219247 -0.391676  1.000000 -0.292048 -0.355501 -0.613808  0.695360\nTAX      0.582764  0.720760 -0.292048  1.000000  0.460853  0.543993 -0.468536\nPTRATIO  0.289946  0.383248 -0.355501  0.460853  1.000000  0.374044 -0.507787\nLSTAT    0.455621  0.603800 -0.613808  0.543993  0.374044  1.000000 -0.737663\nMEDV    -0.388305 -0.483725  0.695360 -0.468536 -0.507787 -0.737663  1.000000",
      "text/html": "<div>\n<style scoped>\n    .dataframe tbody tr th:only-of-type {\n        vertical-align: middle;\n    }\n\n    .dataframe tbody tr th {\n        vertical-align: top;\n    }\n\n    .dataframe thead th {\n        text-align: right;\n    }\n</style>\n<table border=\"1\" class=\"dataframe\">\n  <thead>\n    <tr style=\"text-align: right;\">\n      <th></th>\n      <th>CRIM</th>\n      <th>INDUS</th>\n      <th>RM</th>\n      <th>TAX</th>\n      <th>PTRATIO</th>\n      <th>LSTAT</th>\n      <th>MEDV</th>\n    </tr>\n  </thead>\n  <tbody>\n    <tr>\n      <th>CRIM</th>\n      <td>1.000000</td>\n      <td>0.406583</td>\n      <td>-0.219247</td>\n      <td>0.582764</td>\n      <td>0.289946</td>\n      <td>0.455621</td>\n      <td>-0.388305</td>\n    </tr>\n    <tr>\n      <th>INDUS</th>\n      <td>0.406583</td>\n      <td>1.000000</td>\n      <td>-0.391676</td>\n      <td>0.720760</td>\n      <td>0.383248</td>\n      <td>0.603800</td>\n      <td>-0.483725</td>\n    </tr>\n    <tr>\n      <th>RM</th>\n      <td>-0.219247</td>\n      <td>-0.391676</td>\n      <td>1.000000</td>\n      <td>-0.292048</td>\n      <td>-0.355501</td>\n      <td>-0.613808</td>\n      <td>0.695360</td>\n    </tr>\n    <tr>\n      <th>TAX</th>\n      <td>0.582764</td>\n      <td>0.720760</td>\n      <td>-0.292048</td>\n      <td>1.000000</td>\n      <td>0.460853</td>\n      <td>0.543993</td>\n      <td>-0.468536</td>\n    </tr>\n    <tr>\n      <th>PTRATIO</th>\n      <td>0.289946</td>\n      <td>0.383248</td>\n      <td>-0.355501</td>\n      <td>0.460853</td>\n      <td>1.000000</td>\n      <td>0.374044</td>\n      <td>-0.507787</td>\n    </tr>\n    <tr>\n      <th>LSTAT</th>\n      <td>0.455621</td>\n      <td>0.603800</td>\n      <td>-0.613808</td>\n      <td>0.543993</td>\n      <td>0.374044</td>\n      <td>1.000000</td>\n      <td>-0.737663</td>\n    </tr>\n    <tr>\n      <th>MEDV</th>\n      <td>-0.388305</td>\n      <td>-0.483725</td>\n      <td>0.695360</td>\n      <td>-0.468536</td>\n      <td>-0.507787</td>\n      <td>-0.737663</td>\n      <td>1.000000</td>\n    </tr>\n  </tbody>\n</table>\n</div>"
     },
     "metadata": {}
    }
   ],
   "source": [
    "df_corr = df.corr(); display(df_corr)"
   ]
  },
  {
   "cell_type": "code",
   "execution_count": 19,
   "metadata": {},
   "outputs": [
    {
     "output_type": "stream",
     "name": "stdout",
     "text": [
      "CRIM      -0.388305\nINDUS     -0.483725\nRM         0.695360\nTAX       -0.468536\nPTRATIO   -0.507787\nLSTAT     -0.737663\nMEDV       1.000000\ndtype: float64\n"
     ]
    }
   ],
   "source": [
    "ser_medv_corr = df.corrwith(df['MEDV']); print(ser_medv_corr)"
   ]
  },
  {
   "cell_type": "code",
   "execution_count": 20,
   "metadata": {},
   "outputs": [
    {
     "output_type": "stream",
     "name": "stdout",
     "text": [
      "X_all_org: (506, 3)\n"
     ]
    },
    {
     "output_type": "display_data",
     "data": {
      "text/plain": "     TAX  PTRATIO  LSTAT\n0  296.0     15.3   4.98\n1  242.0     17.8   9.14\n2  242.0     17.8   4.03\n3  222.0     18.7   2.94\n4  222.0     18.7   5.33",
      "text/html": "<div>\n<style scoped>\n    .dataframe tbody tr th:only-of-type {\n        vertical-align: middle;\n    }\n\n    .dataframe tbody tr th {\n        vertical-align: top;\n    }\n\n    .dataframe thead th {\n        text-align: right;\n    }\n</style>\n<table border=\"1\" class=\"dataframe\">\n  <thead>\n    <tr style=\"text-align: right;\">\n      <th></th>\n      <th>TAX</th>\n      <th>PTRATIO</th>\n      <th>LSTAT</th>\n    </tr>\n  </thead>\n  <tbody>\n    <tr>\n      <th>0</th>\n      <td>296.0</td>\n      <td>15.3</td>\n      <td>4.98</td>\n    </tr>\n    <tr>\n      <th>1</th>\n      <td>242.0</td>\n      <td>17.8</td>\n      <td>9.14</td>\n    </tr>\n    <tr>\n      <th>2</th>\n      <td>242.0</td>\n      <td>17.8</td>\n      <td>4.03</td>\n    </tr>\n    <tr>\n      <th>3</th>\n      <td>222.0</td>\n      <td>18.7</td>\n      <td>2.94</td>\n    </tr>\n    <tr>\n      <th>4</th>\n      <td>222.0</td>\n      <td>18.7</td>\n      <td>5.33</td>\n    </tr>\n  </tbody>\n</table>\n</div>"
     },
     "metadata": {}
    },
    {
     "output_type": "stream",
     "name": "stdout",
     "text": [
      "y: (506,)\n0    24.0\n1    21.6\n2    34.7\n3    33.4\n4    36.2\nName: MEDV, dtype: float64\n"
     ]
    }
   ],
   "source": [
    "X_all_org = df.loc[:, 'TAX':'LSTAT']  # explanatory variables\n",
    "y = df['MEDV']  # objective variable\n",
    "print('X_all_org:', X_all_org.shape)\n",
    "display(X_all_org.head())\n",
    "print('y:', y.shape)\n",
    "print(y.head())"
   ]
  },
  {
   "cell_type": "code",
   "execution_count": 21,
   "metadata": {},
   "outputs": [
    {
     "output_type": "stream",
     "name": "stdout",
     "text": [
      "X_all: (506, 3)\n"
     ]
    },
    {
     "output_type": "display_data",
     "data": {
      "text/plain": "     TAX  PTRATIO  LSTAT\n0  296.0     15.3   4.98\n1  242.0     17.8   9.14\n2  242.0     17.8   4.03\n3  222.0     18.7   2.94\n4  222.0     18.7   5.33",
      "text/html": "<div>\n<style scoped>\n    .dataframe tbody tr th:only-of-type {\n        vertical-align: middle;\n    }\n\n    .dataframe tbody tr th {\n        vertical-align: top;\n    }\n\n    .dataframe thead th {\n        text-align: right;\n    }\n</style>\n<table border=\"1\" class=\"dataframe\">\n  <thead>\n    <tr style=\"text-align: right;\">\n      <th></th>\n      <th>TAX</th>\n      <th>PTRATIO</th>\n      <th>LSTAT</th>\n    </tr>\n  </thead>\n  <tbody>\n    <tr>\n      <th>0</th>\n      <td>296.0</td>\n      <td>15.3</td>\n      <td>4.98</td>\n    </tr>\n    <tr>\n      <th>1</th>\n      <td>242.0</td>\n      <td>17.8</td>\n      <td>9.14</td>\n    </tr>\n    <tr>\n      <th>2</th>\n      <td>242.0</td>\n      <td>17.8</td>\n      <td>4.03</td>\n    </tr>\n    <tr>\n      <th>3</th>\n      <td>222.0</td>\n      <td>18.7</td>\n      <td>2.94</td>\n    </tr>\n    <tr>\n      <th>4</th>\n      <td>222.0</td>\n      <td>18.7</td>\n      <td>5.33</td>\n    </tr>\n  </tbody>\n</table>\n</div>"
     },
     "metadata": {}
    }
   ],
   "source": [
    "X_all = pd.get_dummies(X_all_org, drop_first=True)\n",
    "print('X_all:', X_all.shape)\n",
    "display(X_all.head())"
   ]
  },
  {
   "cell_type": "code",
   "execution_count": 22,
   "metadata": {},
   "outputs": [
    {
     "output_type": "stream",
     "name": "stdout",
     "text": [
      "                                 OLS Regression Results                                \n=======================================================================================\nDep. Variable:                      y   R-squared (uncentered):                   0.607\nModel:                            OLS   Adj. R-squared (uncentered):              0.604\nMethod:                 Least Squares   F-statistic:                              258.6\nDate:                Fri, 04 Jun 2021   Prob (F-statistic):                   1.69e-101\nTime:                        09:58:50   Log-Likelihood:                         -481.91\nNo. Observations:                 506   AIC:                                      969.8\nDf Residuals:                     503   BIC:                                      982.5\nDf Model:                           3                                                  \nCovariance Type:            nonrobust                                                  \n==============================================================================\n                 coef    std err          t      P>|t|      [0.025      0.975]\n------------------------------------------------------------------------------\nx1             0.0034      0.035      0.096      0.923      -0.066       0.073\nx2            -0.2706      0.032     -8.469      0.000      -0.333      -0.208\nx3            -0.6383      0.034    -18.888      0.000      -0.705      -0.572\n==============================================================================\nOmnibus:                      149.686   Durbin-Watson:                   0.995\nProb(Omnibus):                  0.000   Jarque-Bera (JB):              399.112\nSkew:                           1.457   Prob(JB):                     2.16e-87\nKurtosis:                       6.230   Cond. No.                         2.09\n==============================================================================\n\nNotes:\n[1] R² is computed without centering (uncentered) since the model does not contain a constant.\n[2] Standard Errors assume that the covariance matrix of the errors is correctly specified.\n"
     ]
    }
   ],
   "source": [
    "X_scaled = preprocessing.scale(X_all)\n",
    "y_scaled = preprocessing.scale(y)\n",
    "model = sm.OLS(y_scaled, X_scaled)\n",
    "results = model.fit()\n",
    "print(results.summary())"
   ]
  },
  {
   "cell_type": "code",
   "execution_count": 23,
   "metadata": {},
   "outputs": [],
   "source": [
    "dfX_scaled = pd.DataFrame(X_scaled, columns=X_all.columns)\n",
    "dfy_scaled = pd.Series(y_scaled, name=y.name)"
   ]
  },
  {
   "cell_type": "code",
   "execution_count": 24,
   "metadata": {},
   "outputs": [
    {
     "output_type": "stream",
     "name": "stdout",
     "text": [
      "                                 OLS Regression Results                                \n=======================================================================================\nDep. Variable:                      y   R-squared (uncentered):                   0.607\nModel:                            OLS   Adj. R-squared (uncentered):              0.604\nMethod:                 Least Squares   F-statistic:                              258.6\nDate:                Fri, 04 Jun 2021   Prob (F-statistic):                   1.69e-101\nTime:                        09:58:50   Log-Likelihood:                         -481.91\nNo. Observations:                 506   AIC:                                      969.8\nDf Residuals:                     503   BIC:                                      982.5\nDf Model:                           3                                                  \nCovariance Type:            nonrobust                                                  \n==============================================================================\n                 coef    std err          t      P>|t|      [0.025      0.975]\n------------------------------------------------------------------------------\nTAX            0.0034      0.035      0.096      0.923      -0.066       0.073\nPTRATIO       -0.2706      0.032     -8.469      0.000      -0.333      -0.208\nLSTAT         -0.6383      0.034    -18.888      0.000      -0.705      -0.572\n==============================================================================\nOmnibus:                      149.686   Durbin-Watson:                   0.995\nProb(Omnibus):                  0.000   Jarque-Bera (JB):              399.112\nSkew:                           1.457   Prob(JB):                     2.16e-87\nKurtosis:                       6.230   Cond. No.                         2.09\n==============================================================================\n\nNotes:\n[1] R² is computed without centering (uncentered) since the model does not contain a constant.\n[2] Standard Errors assume that the covariance matrix of the errors is correctly specified.\n"
     ]
    }
   ],
   "source": [
    "exogs = ['TAX', 'PTRATIO', 'LSTAT']\n",
    "X_final_scaled = dfX_scaled[exogs]\n",
    "model_final_scaled = sm.OLS(y_scaled, X_final_scaled)\n",
    "results_final_scaled = model_final_scaled.fit()\n",
    "print(results_final_scaled.summary())"
   ]
  },
  {
   "cell_type": "code",
   "execution_count": 26,
   "metadata": {},
   "outputs": [
    {
     "output_type": "stream",
     "name": "stdout",
     "text": [
      "TAX        0.003401\nPTRATIO   -0.270603\nLSTAT     -0.638295\ndtype: float64\n"
     ]
    }
   ],
   "source": [
    "print(results_final_scaled.params)"
   ]
  },
  {
   "cell_type": "code",
   "execution_count": null,
   "metadata": {},
   "outputs": [],
   "source": []
  }
 ],
 "metadata": {
  "kernelspec": {
   "name": "python388jvsc74a57bd0e8880c58ea65068827af19aa57df99e07da1109ce0dc5e321474e5f3a08d850b",
   "display_name": "Python 3.8.8 64-bit ('ds2021': conda)"
  },
  "language_info": {
   "codemirror_mode": {
    "name": "ipython",
    "version": 3
   },
   "file_extension": ".py",
   "mimetype": "text/x-python",
   "name": "python",
   "nbconvert_exporter": "python",
   "pygments_lexer": "ipython3",
   "version": "3.8.8"
  },
  "metadata": {
   "interpreter": {
    "hash": "e8880c58ea65068827af19aa57df99e07da1109ce0dc5e321474e5f3a08d850b"
   }
  }
 },
 "nbformat": 4,
 "nbformat_minor": 4
}