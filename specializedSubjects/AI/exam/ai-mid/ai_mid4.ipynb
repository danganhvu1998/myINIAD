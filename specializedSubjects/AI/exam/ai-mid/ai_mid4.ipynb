{
 "cells": [
  {
   "cell_type": "code",
   "execution_count": 1,
   "metadata": {},
   "outputs": [],
   "source": [
    "import numpy as np\n",
    "import pandas as pd\n",
    "import matplotlib.pyplot as plt\n",
    "from scipy.cluster.hierarchy import linkage, dendrogram, fcluster"
   ]
  },
  {
   "cell_type": "code",
   "execution_count": 2,
   "metadata": {},
   "outputs": [
    {
     "output_type": "stream",
     "name": "stdout",
     "text": [
      "(100, 5)\n<class 'pandas.core.frame.DataFrame'>\nRangeIndex: 100 entries, 0 to 99\nData columns (total 5 columns):\n #   Column        Non-Null Count  Dtype  \n---  ------        --------------  -----  \n 0   sepal_length  100 non-null    float64\n 1   sepal_width   100 non-null    float64\n 2   petal_length  100 non-null    float64\n 3   petal_width   100 non-null    float64\n 4   class         100 non-null    object \ndtypes: float64(4), object(1)\nmemory usage: 4.0+ KB\nNone\n"
     ]
    },
    {
     "output_type": "display_data",
     "data": {
      "text/plain": "   sepal_length  sepal_width  petal_length  petal_width       class\n0           4.6          3.2           1.4          0.2      setosa\n1           6.1          2.8           4.7          1.2  versicolor\n2           6.4          2.9           4.3          1.3  versicolor\n3           7.2          3.0           5.8          1.6   virginica\n4           5.8          2.7           4.1          1.0  versicolor",
      "text/html": "<div>\n<style scoped>\n    .dataframe tbody tr th:only-of-type {\n        vertical-align: middle;\n    }\n\n    .dataframe tbody tr th {\n        vertical-align: top;\n    }\n\n    .dataframe thead th {\n        text-align: right;\n    }\n</style>\n<table border=\"1\" class=\"dataframe\">\n  <thead>\n    <tr style=\"text-align: right;\">\n      <th></th>\n      <th>sepal_length</th>\n      <th>sepal_width</th>\n      <th>petal_length</th>\n      <th>petal_width</th>\n      <th>class</th>\n    </tr>\n  </thead>\n  <tbody>\n    <tr>\n      <th>0</th>\n      <td>4.6</td>\n      <td>3.2</td>\n      <td>1.4</td>\n      <td>0.2</td>\n      <td>setosa</td>\n    </tr>\n    <tr>\n      <th>1</th>\n      <td>6.1</td>\n      <td>2.8</td>\n      <td>4.7</td>\n      <td>1.2</td>\n      <td>versicolor</td>\n    </tr>\n    <tr>\n      <th>2</th>\n      <td>6.4</td>\n      <td>2.9</td>\n      <td>4.3</td>\n      <td>1.3</td>\n      <td>versicolor</td>\n    </tr>\n    <tr>\n      <th>3</th>\n      <td>7.2</td>\n      <td>3.0</td>\n      <td>5.8</td>\n      <td>1.6</td>\n      <td>virginica</td>\n    </tr>\n    <tr>\n      <th>4</th>\n      <td>5.8</td>\n      <td>2.7</td>\n      <td>4.1</td>\n      <td>1.0</td>\n      <td>versicolor</td>\n    </tr>\n  </tbody>\n</table>\n</div>"
     },
     "metadata": {}
    }
   ],
   "source": [
    "df = pd.read_csv('ai-mid-p4.csv', delimiter=',', skiprows=0, header=0)\n",
    "print(df.shape)\n",
    "print(df.info())\n",
    "display(df.head())"
   ]
  },
  {
   "cell_type": "code",
   "execution_count": 3,
   "metadata": {},
   "outputs": [
    {
     "output_type": "stream",
     "name": "stdout",
     "text": [
      "versicolor    37\nvirginica     32\nsetosa        31\nName: class, dtype: int64\n"
     ]
    }
   ],
   "source": [
    "print(df['class'].value_counts())"
   ]
  },
  {
   "cell_type": "code",
   "execution_count": 4,
   "metadata": {},
   "outputs": [
    {
     "output_type": "display_data",
     "data": {
      "text/plain": "   sepal_length  sepal_width  petal_length  petal_width\n0           4.6          3.2           1.4          0.2\n1           6.1          2.8           4.7          1.2\n2           6.4          2.9           4.3          1.3\n3           7.2          3.0           5.8          1.6\n4           5.8          2.7           4.1          1.0",
      "text/html": "<div>\n<style scoped>\n    .dataframe tbody tr th:only-of-type {\n        vertical-align: middle;\n    }\n\n    .dataframe tbody tr th {\n        vertical-align: top;\n    }\n\n    .dataframe thead th {\n        text-align: right;\n    }\n</style>\n<table border=\"1\" class=\"dataframe\">\n  <thead>\n    <tr style=\"text-align: right;\">\n      <th></th>\n      <th>sepal_length</th>\n      <th>sepal_width</th>\n      <th>petal_length</th>\n      <th>petal_width</th>\n    </tr>\n  </thead>\n  <tbody>\n    <tr>\n      <th>0</th>\n      <td>4.6</td>\n      <td>3.2</td>\n      <td>1.4</td>\n      <td>0.2</td>\n    </tr>\n    <tr>\n      <th>1</th>\n      <td>6.1</td>\n      <td>2.8</td>\n      <td>4.7</td>\n      <td>1.2</td>\n    </tr>\n    <tr>\n      <th>2</th>\n      <td>6.4</td>\n      <td>2.9</td>\n      <td>4.3</td>\n      <td>1.3</td>\n    </tr>\n    <tr>\n      <th>3</th>\n      <td>7.2</td>\n      <td>3.0</td>\n      <td>5.8</td>\n      <td>1.6</td>\n    </tr>\n    <tr>\n      <th>4</th>\n      <td>5.8</td>\n      <td>2.7</td>\n      <td>4.1</td>\n      <td>1.0</td>\n    </tr>\n  </tbody>\n</table>\n</div>"
     },
     "metadata": {}
    }
   ],
   "source": [
    "df_data = df.loc[:, :'petal_width']\n",
    "customers = df_data.index\n",
    "display(df_data.head())"
   ]
  },
  {
   "cell_type": "code",
   "execution_count": 5,
   "metadata": {},
   "outputs": [
    {
     "output_type": "stream",
     "name": "stdout",
     "text": [
      "(99, 4)\n"
     ]
    },
    {
     "output_type": "display_data",
     "data": {
      "text/plain": "           label1  label2  distance  #members\nmerged100      27      69  0.100000         2\nmerged101      50      84  0.100000         2\nmerged102      42      93  0.141421         2\nmerged103       7      74  0.141421         2\nmerged104      25      59  0.141421         2",
      "text/html": "<div>\n<style scoped>\n    .dataframe tbody tr th:only-of-type {\n        vertical-align: middle;\n    }\n\n    .dataframe tbody tr th {\n        vertical-align: top;\n    }\n\n    .dataframe thead th {\n        text-align: right;\n    }\n</style>\n<table border=\"1\" class=\"dataframe\">\n  <thead>\n    <tr style=\"text-align: right;\">\n      <th></th>\n      <th>label1</th>\n      <th>label2</th>\n      <th>distance</th>\n      <th>#members</th>\n    </tr>\n  </thead>\n  <tbody>\n    <tr>\n      <th>merged100</th>\n      <td>27</td>\n      <td>69</td>\n      <td>0.100000</td>\n      <td>2</td>\n    </tr>\n    <tr>\n      <th>merged101</th>\n      <td>50</td>\n      <td>84</td>\n      <td>0.100000</td>\n      <td>2</td>\n    </tr>\n    <tr>\n      <th>merged102</th>\n      <td>42</td>\n      <td>93</td>\n      <td>0.141421</td>\n      <td>2</td>\n    </tr>\n    <tr>\n      <th>merged103</th>\n      <td>7</td>\n      <td>74</td>\n      <td>0.141421</td>\n      <td>2</td>\n    </tr>\n    <tr>\n      <th>merged104</th>\n      <td>25</td>\n      <td>59</td>\n      <td>0.141421</td>\n      <td>2</td>\n    </tr>\n  </tbody>\n</table>\n</div>"
     },
     "metadata": {}
    },
    {
     "output_type": "display_data",
     "data": {
      "text/plain": "           label1  label2   distance  #members\nmerged194     183     187   2.962009        31\nmerged195     186     188   3.013067        21\nmerged196     192     193   5.650102        48\nmerged197     195     196   9.072652        69\nmerged198     194     197  25.339227       100",
      "text/html": "<div>\n<style scoped>\n    .dataframe tbody tr th:only-of-type {\n        vertical-align: middle;\n    }\n\n    .dataframe tbody tr th {\n        vertical-align: top;\n    }\n\n    .dataframe thead th {\n        text-align: right;\n    }\n</style>\n<table border=\"1\" class=\"dataframe\">\n  <thead>\n    <tr style=\"text-align: right;\">\n      <th></th>\n      <th>label1</th>\n      <th>label2</th>\n      <th>distance</th>\n      <th>#members</th>\n    </tr>\n  </thead>\n  <tbody>\n    <tr>\n      <th>merged194</th>\n      <td>183</td>\n      <td>187</td>\n      <td>2.962009</td>\n      <td>31</td>\n    </tr>\n    <tr>\n      <th>merged195</th>\n      <td>186</td>\n      <td>188</td>\n      <td>3.013067</td>\n      <td>21</td>\n    </tr>\n    <tr>\n      <th>merged196</th>\n      <td>192</td>\n      <td>193</td>\n      <td>5.650102</td>\n      <td>48</td>\n    </tr>\n    <tr>\n      <th>merged197</th>\n      <td>195</td>\n      <td>196</td>\n      <td>9.072652</td>\n      <td>69</td>\n    </tr>\n    <tr>\n      <th>merged198</th>\n      <td>194</td>\n      <td>197</td>\n      <td>25.339227</td>\n      <td>100</td>\n    </tr>\n  </tbody>\n</table>\n</div>"
     },
     "metadata": {}
    }
   ],
   "source": [
    "Z = linkage(df_data, method='ward', metric='euclidean')\n",
    "print(Z.shape)\n",
    "n_data = Z.shape[0]\n",
    "df_Z = pd.DataFrame(Z,\n",
    "                    columns=['label1', 'label2',\n",
    "                             'distance', '#members'],\n",
    "                    index=['merged{}'.format(i+1+n_data) \n",
    "                           for i in range(n_data)])\n",
    "df_Z['label1'] = df_Z['label1'].astype('int')\n",
    "df_Z['label2'] = df_Z['label2'].astype('int')\n",
    "df_Z['#members'] = df_Z['#members'].astype('int')\n",
    "display(df_Z.head())\n",
    "display(df_Z.tail())"
   ]
  },
  {
   "cell_type": "code",
   "execution_count": 6,
   "metadata": {},
   "outputs": [
    {
     "output_type": "stream",
     "name": "stdout",
     "text": [
      "=== n_cluster: 3 ===\ndist: 5.650102190394856\n0    1\n1    3\n2    3\n3    2\n4    3\ndtype: int32\n"
     ]
    }
   ],
   "source": [
    "dist = df_Z['distance']\n",
    "n_cluster = 3\n",
    "print('=== n_cluster:', n_cluster, '===')\n",
    "cls = pd.Series(fcluster(Z, n_cluster, criterion='maxclust'), index=customers)\n",
    "print('dist:', dist[n_data-n_cluster])\n",
    "print(cls.head())"
   ]
  },
  {
   "cell_type": "code",
   "execution_count": 7,
   "metadata": {},
   "outputs": [
    {
     "output_type": "display_data",
     "data": {
      "text/plain": "col_0        1   2   3\nclass                 \nsetosa      31   0   0\nversicolor   0   0  37\nvirginica    0  21  11",
      "text/html": "<div>\n<style scoped>\n    .dataframe tbody tr th:only-of-type {\n        vertical-align: middle;\n    }\n\n    .dataframe tbody tr th {\n        vertical-align: top;\n    }\n\n    .dataframe thead th {\n        text-align: right;\n    }\n</style>\n<table border=\"1\" class=\"dataframe\">\n  <thead>\n    <tr style=\"text-align: right;\">\n      <th>col_0</th>\n      <th>1</th>\n      <th>2</th>\n      <th>3</th>\n    </tr>\n    <tr>\n      <th>class</th>\n      <th></th>\n      <th></th>\n      <th></th>\n    </tr>\n  </thead>\n  <tbody>\n    <tr>\n      <th>setosa</th>\n      <td>31</td>\n      <td>0</td>\n      <td>0</td>\n    </tr>\n    <tr>\n      <th>versicolor</th>\n      <td>0</td>\n      <td>0</td>\n      <td>37</td>\n    </tr>\n    <tr>\n      <th>virginica</th>\n      <td>0</td>\n      <td>21</td>\n      <td>11</td>\n    </tr>\n  </tbody>\n</table>\n</div>"
     },
     "metadata": {}
    }
   ],
   "source": [
    "ct = pd.crosstab(df['class'], cls)\n",
    "display(ct)"
   ]
  },
  {
   "cell_type": "code",
   "execution_count": null,
   "metadata": {},
   "outputs": [],
   "source": []
  }
 ],
 "metadata": {
  "kernelspec": {
   "name": "python388jvsc74a57bd0e8880c58ea65068827af19aa57df99e07da1109ce0dc5e321474e5f3a08d850b",
   "display_name": "Python 3.8.8 64-bit ('ds2021': conda)"
  },
  "language_info": {
   "codemirror_mode": {
    "name": "ipython",
    "version": 3
   },
   "file_extension": ".py",
   "mimetype": "text/x-python",
   "name": "python",
   "nbconvert_exporter": "python",
   "pygments_lexer": "ipython3",
   "version": "3.8.8"
  },
  "metadata": {
   "interpreter": {
    "hash": "e8880c58ea65068827af19aa57df99e07da1109ce0dc5e321474e5f3a08d850b"
   }
  }
 },
 "nbformat": 4,
 "nbformat_minor": 4
}