{
 "cells": [
  {
   "cell_type": "code",
   "execution_count": 6,
   "metadata": {},
   "outputs": [],
   "source": [
    "import numpy as np\n",
    "import scipy.stats as ss\n",
    "import pandas as pd"
   ]
  },
  {
   "cell_type": "code",
   "execution_count": 7,
   "metadata": {},
   "outputs": [
    {
     "output_type": "stream",
     "name": "stdout",
     "text": [
      "(100, 4)\n<class 'pandas.core.frame.DataFrame'>\nRangeIndex: 100 entries, 0 to 99\nData columns (total 4 columns):\n #   Column      Non-Null Count  Dtype  \n---  ------      --------------  -----  \n 0   price       100 non-null    int64  \n 1   horsepower  100 non-null    float64\n 2   width       99 non-null     float64\n 3   height      100 non-null    float64\ndtypes: float64(3), int64(1)\nmemory usage: 3.2 KB\nNone\n"
     ]
    },
    {
     "output_type": "display_data",
     "data": {
      "text/plain": "   price  horsepower  width  height\n0   8778        62.0   63.6    59.1\n1  12964       145.0   66.3    50.2\n2  24565       121.0   66.9    55.7\n3   7975        85.0   65.5    55.7\n4  16900        95.0   68.4    56.7",
      "text/html": "<div>\n<style scoped>\n    .dataframe tbody tr th:only-of-type {\n        vertical-align: middle;\n    }\n\n    .dataframe tbody tr th {\n        vertical-align: top;\n    }\n\n    .dataframe thead th {\n        text-align: right;\n    }\n</style>\n<table border=\"1\" class=\"dataframe\">\n  <thead>\n    <tr style=\"text-align: right;\">\n      <th></th>\n      <th>price</th>\n      <th>horsepower</th>\n      <th>width</th>\n      <th>height</th>\n    </tr>\n  </thead>\n  <tbody>\n    <tr>\n      <th>0</th>\n      <td>8778</td>\n      <td>62.0</td>\n      <td>63.6</td>\n      <td>59.1</td>\n    </tr>\n    <tr>\n      <th>1</th>\n      <td>12964</td>\n      <td>145.0</td>\n      <td>66.3</td>\n      <td>50.2</td>\n    </tr>\n    <tr>\n      <th>2</th>\n      <td>24565</td>\n      <td>121.0</td>\n      <td>66.9</td>\n      <td>55.7</td>\n    </tr>\n    <tr>\n      <th>3</th>\n      <td>7975</td>\n      <td>85.0</td>\n      <td>65.5</td>\n      <td>55.7</td>\n    </tr>\n    <tr>\n      <th>4</th>\n      <td>16900</td>\n      <td>95.0</td>\n      <td>68.4</td>\n      <td>56.7</td>\n    </tr>\n  </tbody>\n</table>\n</div>"
     },
     "metadata": {}
    }
   ],
   "source": [
    "df = pd.read_csv('ai-mid-p1.csv', delimiter=',', skiprows=4, header=0)\n",
    "print(df.shape)\n",
    "print(df.info())\n",
    "display(df.head())"
   ]
  },
  {
   "cell_type": "code",
   "execution_count": 8,
   "metadata": {},
   "outputs": [
    {
     "output_type": "stream",
     "name": "stdout",
     "text": [
      "price         0\nhorsepower    0\nwidth         1\nheight        0\ndtype: int64\n"
     ]
    }
   ],
   "source": [
    "print( df.isnull().sum() )\n"
   ]
  },
  {
   "cell_type": "code",
   "execution_count": 9,
   "metadata": {},
   "outputs": [
    {
     "output_type": "stream",
     "name": "stdout",
     "text": [
      "(99, 4)\n<class 'pandas.core.frame.DataFrame'>\nRangeIndex: 99 entries, 0 to 98\nData columns (total 4 columns):\n #   Column      Non-Null Count  Dtype  \n---  ------      --------------  -----  \n 0   price       99 non-null     int64  \n 1   horsepower  99 non-null     float64\n 2   width       99 non-null     float64\n 3   height      99 non-null     float64\ndtypes: float64(3), int64(1)\nmemory usage: 3.2 KB\nNone\n"
     ]
    },
    {
     "output_type": "display_data",
     "data": {
      "text/plain": "   price  horsepower  width  height\n0   8778        62.0   63.6    59.1\n1  12964       145.0   66.3    50.2\n2  24565       121.0   66.9    55.7\n3   7975        85.0   65.5    55.7\n4  16900        95.0   68.4    56.7",
      "text/html": "<div>\n<style scoped>\n    .dataframe tbody tr th:only-of-type {\n        vertical-align: middle;\n    }\n\n    .dataframe tbody tr th {\n        vertical-align: top;\n    }\n\n    .dataframe thead th {\n        text-align: right;\n    }\n</style>\n<table border=\"1\" class=\"dataframe\">\n  <thead>\n    <tr style=\"text-align: right;\">\n      <th></th>\n      <th>price</th>\n      <th>horsepower</th>\n      <th>width</th>\n      <th>height</th>\n    </tr>\n  </thead>\n  <tbody>\n    <tr>\n      <th>0</th>\n      <td>8778</td>\n      <td>62.0</td>\n      <td>63.6</td>\n      <td>59.1</td>\n    </tr>\n    <tr>\n      <th>1</th>\n      <td>12964</td>\n      <td>145.0</td>\n      <td>66.3</td>\n      <td>50.2</td>\n    </tr>\n    <tr>\n      <th>2</th>\n      <td>24565</td>\n      <td>121.0</td>\n      <td>66.9</td>\n      <td>55.7</td>\n    </tr>\n    <tr>\n      <th>3</th>\n      <td>7975</td>\n      <td>85.0</td>\n      <td>65.5</td>\n      <td>55.7</td>\n    </tr>\n    <tr>\n      <th>4</th>\n      <td>16900</td>\n      <td>95.0</td>\n      <td>68.4</td>\n      <td>56.7</td>\n    </tr>\n  </tbody>\n</table>\n</div>"
     },
     "metadata": {}
    }
   ],
   "source": [
    "df = df.dropna().reset_index(drop=True)\n",
    "print(df.shape)\n",
    "print(df.info())\n",
    "display(df.head())"
   ]
  },
  {
   "cell_type": "code",
   "execution_count": 10,
   "metadata": {},
   "outputs": [
    {
     "output_type": "stream",
     "name": "stdout",
     "text": [
      "66.08888888888889\n"
     ]
    }
   ],
   "source": [
    "print(df['width'].mean())"
   ]
  },
  {
   "cell_type": "code",
   "execution_count": 11,
   "metadata": {},
   "outputs": [
    {
     "output_type": "stream",
     "name": "stdout",
     "text": [
      "price         36000.0\nhorsepower      262.0\nwidth            70.6\nheight           47.8\nName: 36, dtype: float64\n"
     ]
    }
   ],
   "source": [
    "ser_max = df.loc[ df['price'].idxmax() ]\n",
    "print(ser_max)"
   ]
  },
  {
   "cell_type": "code",
   "execution_count": 12,
   "metadata": {},
   "outputs": [
    {
     "output_type": "stream",
     "name": "stdout",
     "text": [
      "price         36000.000000\nhorsepower      262.000000\nwidth            70.600000\nheight           47.800000\nh/w               3.711048\nName: 36, dtype: float64\n"
     ]
    }
   ],
   "source": [
    "df['h/w'] = df['horsepower'] / df['width']\n",
    "ser_max = df.loc[ df['h/w'].idxmax() ]\n",
    "print(ser_max)"
   ]
  },
  {
   "cell_type": "code",
   "execution_count": 13,
   "metadata": {},
   "outputs": [
    {
     "output_type": "stream",
     "name": "stdout",
     "text": [
      "price         22018.000000\nhorsepower      143.000000\nwidth            68.300000\nheight           50.200000\nh/w               2.093704\nName: 46, dtype: float64\n"
     ]
    }
   ],
   "source": [
    "print(df.loc[46])"
   ]
  },
  {
   "cell_type": "code",
   "execution_count": 14,
   "metadata": {},
   "outputs": [
    {
     "output_type": "stream",
     "name": "stdout",
     "text": [
      "20\n9.840463130786542 10.063136869213459\n"
     ]
    }
   ],
   "source": [
    "x = np.array([10.229, 9.807, 10.118, 10.365, 10.089, 9.922, 10.12, 9.707, 9.847, 9.728, 9.839, 9.754, 9.844, 9.786, 9.927, 9.919, 9.989, 10.321, 9.436, 10.289])\n",
    "n = x.shape[0]\n",
    "print(n)\n",
    "alpha = 0.95\n",
    "ave = np.mean(x)\n",
    "unbiased_std = np.std(x, ddof=1)\n",
    "t_alpha = ss.t.ppf( (1+alpha)/2, n-1 )\n",
    "\n",
    "lower = ave - t_alpha * unbiased_std / np.sqrt(n)\n",
    "upper = ave + t_alpha * unbiased_std / np.sqrt(n)\n",
    "print(lower, upper)"
   ]
  },
  {
   "cell_type": "code",
   "execution_count": null,
   "metadata": {},
   "outputs": [],
   "source": []
  }
 ],
 "metadata": {
  "kernelspec": {
   "name": "python388jvsc74a57bd0e8880c58ea65068827af19aa57df99e07da1109ce0dc5e321474e5f3a08d850b",
   "display_name": "Python 3.8.8 64-bit ('ds2021': conda)"
  },
  "language_info": {
   "codemirror_mode": {
    "name": "ipython",
    "version": 3
   },
   "file_extension": ".py",
   "mimetype": "text/x-python",
   "name": "python",
   "nbconvert_exporter": "python",
   "pygments_lexer": "ipython3",
   "version": "3.8.8"
  },
  "metadata": {
   "interpreter": {
    "hash": "e8880c58ea65068827af19aa57df99e07da1109ce0dc5e321474e5f3a08d850b"
   }
  }
 },
 "nbformat": 4,
 "nbformat_minor": 4
}