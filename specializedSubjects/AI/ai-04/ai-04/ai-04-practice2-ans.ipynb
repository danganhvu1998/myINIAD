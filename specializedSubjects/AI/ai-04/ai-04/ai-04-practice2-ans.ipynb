{
 "cells": [
  {
   "cell_type": "markdown",
   "metadata": {},
   "source": [
    "### AI-04 Practice 2  \n",
    "#### Sample notebook of logistic regression\n",
    "ロジスティック回帰分析の手順例  "
   ]
  },
  {
   "cell_type": "markdown",
   "metadata": {},
   "source": [
    "#### Import libraries  "
   ]
  },
  {
   "cell_type": "code",
   "execution_count": 1,
   "metadata": {},
   "outputs": [],
   "source": [
    "import numpy as np\n",
    "import pandas as pd\n",
    "import statsmodels.api as sm\n",
    "from sklearn import preprocessing"
   ]
  },
  {
   "cell_type": "markdown",
   "metadata": {},
   "source": [
    "#### Parameters  "
   ]
  },
  {
   "cell_type": "code",
   "execution_count": 2,
   "metadata": {},
   "outputs": [],
   "source": [
    "csv_in = 'infection2.csv'"
   ]
  },
  {
   "cell_type": "markdown",
   "metadata": {},
   "source": [
    "#### Read CSV file"
   ]
  },
  {
   "cell_type": "code",
   "execution_count": 3,
   "metadata": {},
   "outputs": [
    {
     "name": "stdout",
     "output_type": "stream",
     "text": [
      "(100, 4)\n",
      "<class 'pandas.core.frame.DataFrame'>\n",
      "RangeIndex: 100 entries, 0 to 99\n",
      "Data columns (total 4 columns):\n",
      " #   Column    Non-Null Count  Dtype  \n",
      "---  ------    --------------  -----  \n",
      " 0   factor1   100 non-null    float64\n",
      " 1   factor2   100 non-null    float64\n",
      " 2   factor3   100 non-null    float64\n",
      " 3   infected  100 non-null    int64  \n",
      "dtypes: float64(3), int64(1)\n",
      "memory usage: 3.2 KB\n",
      "None\n"
     ]
    },
    {
     "data": {
      "text/html": [
       "<div>\n",
       "<style scoped>\n",
       "    .dataframe tbody tr th:only-of-type {\n",
       "        vertical-align: middle;\n",
       "    }\n",
       "\n",
       "    .dataframe tbody tr th {\n",
       "        vertical-align: top;\n",
       "    }\n",
       "\n",
       "    .dataframe thead th {\n",
       "        text-align: right;\n",
       "    }\n",
       "</style>\n",
       "<table border=\"1\" class=\"dataframe\">\n",
       "  <thead>\n",
       "    <tr style=\"text-align: right;\">\n",
       "      <th></th>\n",
       "      <th>factor1</th>\n",
       "      <th>factor2</th>\n",
       "      <th>factor3</th>\n",
       "      <th>infected</th>\n",
       "    </tr>\n",
       "  </thead>\n",
       "  <tbody>\n",
       "    <tr>\n",
       "      <th>0</th>\n",
       "      <td>0.4</td>\n",
       "      <td>-2.9</td>\n",
       "      <td>2.5</td>\n",
       "      <td>1</td>\n",
       "    </tr>\n",
       "    <tr>\n",
       "      <th>1</th>\n",
       "      <td>1.2</td>\n",
       "      <td>-0.2</td>\n",
       "      <td>0.9</td>\n",
       "      <td>0</td>\n",
       "    </tr>\n",
       "    <tr>\n",
       "      <th>2</th>\n",
       "      <td>0.2</td>\n",
       "      <td>-0.1</td>\n",
       "      <td>7.1</td>\n",
       "      <td>1</td>\n",
       "    </tr>\n",
       "    <tr>\n",
       "      <th>3</th>\n",
       "      <td>1.3</td>\n",
       "      <td>-1.2</td>\n",
       "      <td>-2.6</td>\n",
       "      <td>0</td>\n",
       "    </tr>\n",
       "    <tr>\n",
       "      <th>4</th>\n",
       "      <td>1.4</td>\n",
       "      <td>-0.1</td>\n",
       "      <td>-2.7</td>\n",
       "      <td>0</td>\n",
       "    </tr>\n",
       "  </tbody>\n",
       "</table>\n",
       "</div>"
      ],
      "text/plain": [
       "   factor1  factor2  factor3  infected\n",
       "0      0.4     -2.9      2.5         1\n",
       "1      1.2     -0.2      0.9         0\n",
       "2      0.2     -0.1      7.1         1\n",
       "3      1.3     -1.2     -2.6         0\n",
       "4      1.4     -0.1     -2.7         0"
      ]
     },
     "metadata": {},
     "output_type": "display_data"
    }
   ],
   "source": [
    "df = pd.read_csv(csv_in, delimiter=',', skiprows=0, header=0)\n",
    "print(df.shape)\n",
    "print(df.info())\n",
    "display(df.head())"
   ]
  },
  {
   "cell_type": "markdown",
   "metadata": {},
   "source": [
    "**Ans1. 100**"
   ]
  },
  {
   "cell_type": "markdown",
   "metadata": {},
   "source": [
    "#### Separate explanatory variables and objective variable  \n",
    "説明変数と目的変数を分ける  "
   ]
  },
  {
   "cell_type": "code",
   "execution_count": 4,
   "metadata": {},
   "outputs": [
    {
     "name": "stdout",
     "output_type": "stream",
     "text": [
      "X: (100, 3)\n",
      "y: (100,)\n"
     ]
    }
   ],
   "source": [
    "y= df['infected']\n",
    "X = df.loc[:, 'factor1':'factor3']\n",
    "print('X:', X.shape)\n",
    "print('y:', y.shape)"
   ]
  },
  {
   "cell_type": "markdown",
   "metadata": {},
   "source": [
    "#### Logistic regression (standardized)"
   ]
  },
  {
   "cell_type": "code",
   "execution_count": 5,
   "metadata": {},
   "outputs": [
    {
     "name": "stdout",
     "output_type": "stream",
     "text": [
      "                         Results: Logit\n",
      "=================================================================\n",
      "Model:              Logit            Pseudo R-squared: 0.291     \n",
      "Dependent Variable: infected         AIC:              106.0484  \n",
      "Date:               2020-04-28 22:14 BIC:              116.4690  \n",
      "No. Observations:   100              Log-Likelihood:   -49.024   \n",
      "Df Model:           3                LL-Null:          -69.135   \n",
      "Df Residuals:       96               LLR p-value:      9.5661e-09\n",
      "Converged:          1.0000           Scale:            1.0000    \n",
      "No. Iterations:     6.0000                                       \n",
      "-------------------------------------------------------------------\n",
      "            Coef.    Std.Err.      z      P>|z|     [0.025   0.975]\n",
      "-------------------------------------------------------------------\n",
      "const       0.1976     0.2498    0.7910   0.4289   -0.2920   0.6873\n",
      "factor1    -0.2954     0.2550   -1.1583   0.2468   -0.7953   0.2045\n",
      "factor2     0.0362     0.2523    0.1434   0.8860   -0.4583   0.5306\n",
      "factor3     1.6796     0.3650    4.6015   0.0000    0.9642   2.3950\n",
      "=================================================================\n",
      "\n"
     ]
    }
   ],
   "source": [
    "# NOTE: after scaling, X_scaled and Y_scaled are ndarray, not DataFrame.\n",
    "X_scaled = preprocessing.scale(X)\n",
    "dfX_scaled = pd.DataFrame(X_scaled, columns=X.columns)\n",
    "dfX_scaled_c = sm.add_constant(dfX_scaled)\n",
    "model = sm.Logit(y, dfX_scaled_c)\n",
    "results = model.fit(disp=0)\n",
    "print(results.summary2())"
   ]
  },
  {
   "cell_type": "markdown",
   "metadata": {},
   "source": [
    "#### Regression coefficients (standardized)  "
   ]
  },
  {
   "cell_type": "code",
   "execution_count": 6,
   "metadata": {},
   "outputs": [
    {
     "name": "stdout",
     "output_type": "stream",
     "text": [
      "const      0.197619\n",
      "factor1   -0.295404\n",
      "factor2    0.036174\n",
      "factor3    1.679615\n",
      "dtype: float64\n"
     ]
    }
   ],
   "source": [
    "print(results.params)"
   ]
  },
  {
   "cell_type": "markdown",
   "metadata": {},
   "source": [
    "**Contribution to objective variable (目的変数への寄与):**\n",
    "**factor3(positive) > factor1(negative) > factor2(positive)**\n",
    "\n",
    "**Ans2. factor3**"
   ]
  },
  {
   "cell_type": "markdown",
   "metadata": {},
   "source": [
    "#### Logistic regression  "
   ]
  },
  {
   "cell_type": "code",
   "execution_count": 7,
   "metadata": {},
   "outputs": [
    {
     "name": "stdout",
     "output_type": "stream",
     "text": [
      "                         Results: Logit\n",
      "=================================================================\n",
      "Model:              Logit            Pseudo R-squared: 0.291     \n",
      "Dependent Variable: infected         AIC:              106.0484  \n",
      "Date:               2020-04-28 22:14 BIC:              116.4690  \n",
      "No. Observations:   100              Log-Likelihood:   -49.024   \n",
      "Df Model:           3                LL-Null:          -69.135   \n",
      "Df Residuals:       96               LLR p-value:      9.5661e-09\n",
      "Converged:          1.0000           Scale:            1.0000    \n",
      "No. Iterations:     6.0000                                       \n",
      "-------------------------------------------------------------------\n",
      "            Coef.    Std.Err.      z      P>|z|     [0.025   0.975]\n",
      "-------------------------------------------------------------------\n",
      "const      -0.3367     0.2737   -1.2301   0.2187   -0.8731   0.1998\n",
      "factor1    -0.2914     0.2516   -1.1583   0.2468   -0.7846   0.2017\n",
      "factor2     0.0182     0.1267    0.1434   0.8860   -0.2302   0.2666\n",
      "factor3     0.5371     0.1167    4.6015   0.0000    0.3083   0.7659\n",
      "=================================================================\n",
      "\n"
     ]
    }
   ],
   "source": [
    "X_c = sm.add_constant(X)\n",
    "model = sm.Logit(y, X_c)\n",
    "results = model.fit(disp=0)  # disp=1: additional message is printed  \n",
    "print(results.summary2())"
   ]
  },
  {
   "cell_type": "markdown",
   "metadata": {},
   "source": [
    "#### Regression coefficients  "
   ]
  },
  {
   "cell_type": "code",
   "execution_count": 8,
   "metadata": {},
   "outputs": [
    {
     "name": "stdout",
     "output_type": "stream",
     "text": [
      "const     -0.336659\n",
      "factor1   -0.291447\n",
      "factor2    0.018174\n",
      "factor3    0.537089\n",
      "dtype: float64\n"
     ]
    }
   ],
   "source": [
    "print(results.params)"
   ]
  },
  {
   "cell_type": "markdown",
   "metadata": {},
   "source": [
    "**Ans3. Obtained model:\n",
    "$\\ln(\\frac{\\rm{infected}}{1-\\rm{infected}}) = (-0.29) * \\rm{factor1} + 0.02 * \\rm{factor2} + 0.54 * \\rm{factor3} - 0.34$**"
   ]
  },
  {
   "cell_type": "markdown",
   "metadata": {},
   "source": [
    "#### Ratio of correct answers  "
   ]
  },
  {
   "cell_type": "code",
   "execution_count": 9,
   "metadata": {},
   "outputs": [
    {
     "name": "stdout",
     "output_type": "stream",
     "text": [
      "0.77\n"
     ]
    }
   ],
   "source": [
    "n_data = y.shape[0]\n",
    "n_correct_pred = ((results.predict(X_c) >= 0.5) == y).sum()\n",
    "print(n_correct_pred / n_data)"
   ]
  },
  {
   "cell_type": "markdown",
   "metadata": {},
   "source": [
    "**Ans4. 0.77**  "
   ]
  },
  {
   "cell_type": "markdown",
   "metadata": {},
   "source": [
    "#### Odds ratio\n",
    "How many times the objective variable will increase when corresponding variable is increased by 1  \n",
    "and other variables are not changed  \n",
    "得られたexp(回帰係数)の値(オッズ比)から、「各説明変数が1増えたときに目的変数が何倍になるか」がわかる。  "
   ]
  },
  {
   "cell_type": "code",
   "execution_count": 10,
   "metadata": {},
   "outputs": [
    {
     "name": "stdout",
     "output_type": "stream",
     "text": [
      "const      0.714152\n",
      "factor1    0.747182\n",
      "factor2    1.018341\n",
      "factor3    1.711019\n",
      "dtype: float64\n"
     ]
    }
   ],
   "source": [
    "print(np.exp(results.params))"
   ]
  },
  {
   "cell_type": "markdown",
   "metadata": {},
   "source": [
    "**Ans5. 1.02**  "
   ]
  }
 ],
 "metadata": {
  "kernelspec": {
   "display_name": "Python 3",
   "language": "python",
   "name": "python3"
  },
  "language_info": {
   "codemirror_mode": {
    "name": "ipython",
    "version": 3
   },
   "file_extension": ".py",
   "mimetype": "text/x-python",
   "name": "python",
   "nbconvert_exporter": "python",
   "pygments_lexer": "ipython3",
   "version": "3.6.10"
  }
 },
 "nbformat": 4,
 "nbformat_minor": 4
}
