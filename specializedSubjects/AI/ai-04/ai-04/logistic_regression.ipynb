{
 "cells": [
  {
   "cell_type": "markdown",
   "metadata": {},
   "source": [
    "### Sample notebook of logistic regression for Cake data \n",
    "ケーキデータのロジスティック回帰分析の手順例  \n",
    "\n",
    "WedSatSun: 1 if the day is Wed or Sat or Sun.  \n",
    "HighTemp: High temperature of the day.  \n",
    "Sales: 1 if the specific cake has been sold."
   ]
  },
  {
   "cell_type": "markdown",
   "metadata": {},
   "source": [
    "#### Import libraries  "
   ]
  },
  {
   "cell_type": "code",
   "execution_count": 1,
   "metadata": {},
   "outputs": [],
   "source": [
    "import numpy as np\n",
    "import pandas as pd\n",
    "import statsmodels.api as sm\n",
    "from sklearn import preprocessing"
   ]
  },
  {
   "cell_type": "markdown",
   "metadata": {},
   "source": [
    "#### Parameters  "
   ]
  },
  {
   "cell_type": "code",
   "execution_count": 2,
   "metadata": {},
   "outputs": [],
   "source": [
    "csv_in = 'cake.csv'"
   ]
  },
  {
   "cell_type": "markdown",
   "metadata": {},
   "source": [
    "#### Read CSV file"
   ]
  },
  {
   "cell_type": "code",
   "execution_count": 3,
   "metadata": {},
   "outputs": [
    {
     "name": "stdout",
     "output_type": "stream",
     "text": [
      "(21, 3)\n",
      "<class 'pandas.core.frame.DataFrame'>\n",
      "RangeIndex: 21 entries, 0 to 20\n",
      "Data columns (total 3 columns):\n",
      " #   Column     Non-Null Count  Dtype\n",
      "---  ------     --------------  -----\n",
      " 0   WedSatSun  21 non-null     int64\n",
      " 1   HighTemp   21 non-null     int64\n",
      " 2   Sales      21 non-null     int64\n",
      "dtypes: int64(3)\n",
      "memory usage: 632.0 bytes\n",
      "None\n"
     ]
    },
    {
     "data": {
      "text/html": [
       "<div>\n",
       "<style scoped>\n",
       "    .dataframe tbody tr th:only-of-type {\n",
       "        vertical-align: middle;\n",
       "    }\n",
       "\n",
       "    .dataframe tbody tr th {\n",
       "        vertical-align: top;\n",
       "    }\n",
       "\n",
       "    .dataframe thead th {\n",
       "        text-align: right;\n",
       "    }\n",
       "</style>\n",
       "<table border=\"1\" class=\"dataframe\">\n",
       "  <thead>\n",
       "    <tr style=\"text-align: right;\">\n",
       "      <th></th>\n",
       "      <th>WedSatSun</th>\n",
       "      <th>HighTemp</th>\n",
       "      <th>Sales</th>\n",
       "    </tr>\n",
       "  </thead>\n",
       "  <tbody>\n",
       "    <tr>\n",
       "      <th>0</th>\n",
       "      <td>0</td>\n",
       "      <td>28</td>\n",
       "      <td>1</td>\n",
       "    </tr>\n",
       "    <tr>\n",
       "      <th>1</th>\n",
       "      <td>0</td>\n",
       "      <td>24</td>\n",
       "      <td>0</td>\n",
       "    </tr>\n",
       "    <tr>\n",
       "      <th>2</th>\n",
       "      <td>1</td>\n",
       "      <td>26</td>\n",
       "      <td>0</td>\n",
       "    </tr>\n",
       "    <tr>\n",
       "      <th>3</th>\n",
       "      <td>0</td>\n",
       "      <td>24</td>\n",
       "      <td>0</td>\n",
       "    </tr>\n",
       "    <tr>\n",
       "      <th>4</th>\n",
       "      <td>0</td>\n",
       "      <td>23</td>\n",
       "      <td>0</td>\n",
       "    </tr>\n",
       "  </tbody>\n",
       "</table>\n",
       "</div>"
      ],
      "text/plain": [
       "   WedSatSun  HighTemp  Sales\n",
       "0          0        28      1\n",
       "1          0        24      0\n",
       "2          1        26      0\n",
       "3          0        24      0\n",
       "4          0        23      0"
      ]
     },
     "metadata": {},
     "output_type": "display_data"
    }
   ],
   "source": [
    "df = pd.read_csv(csv_in, delimiter=',', skiprows=0, header=0)\n",
    "print(df.shape)\n",
    "print(df.info())\n",
    "display(df.head())"
   ]
  },
  {
   "cell_type": "markdown",
   "metadata": {},
   "source": [
    "#### Separate explanatory variables and objective variable  \n",
    "説明変数と目的変数を分ける  "
   ]
  },
  {
   "cell_type": "code",
   "execution_count": 4,
   "metadata": {},
   "outputs": [
    {
     "name": "stdout",
     "output_type": "stream",
     "text": [
      "X: (21, 2)\n",
      "y: (21,)\n"
     ]
    }
   ],
   "source": [
    "y= df['Sales']\n",
    "X = df[['WedSatSun','HighTemp']]\n",
    "print('X:', X.shape)\n",
    "print('y:', y.shape)"
   ]
  },
  {
   "cell_type": "markdown",
   "metadata": {},
   "source": [
    "#### Logistic regression (standardized)"
   ]
  },
  {
   "cell_type": "code",
   "execution_count": 5,
   "metadata": {},
   "outputs": [
    {
     "name": "stdout",
     "output_type": "stream",
     "text": [
      "                         Results: Logit\n",
      "================================================================\n",
      "Model:              Logit            Pseudo R-squared: 0.362    \n",
      "Dependent Variable: Sales            AIC:              23.8021  \n",
      "Date:               2020-04-28 22:05 BIC:              26.9357  \n",
      "No. Observations:   21               Log-Likelihood:   -8.9010  \n",
      "Df Model:           2                LL-Null:          -13.955  \n",
      "Df Residuals:       18               LLR p-value:      0.0063834\n",
      "Converged:          1.0000           Scale:            1.0000   \n",
      "No. Iterations:     6.0000                                      \n",
      "-----------------------------------------------------------------\n",
      "               Coef.   Std.Err.     z     P>|z|    [0.025  0.975]\n",
      "-----------------------------------------------------------------\n",
      "const         -0.7774    0.6219  -1.2500  0.2113  -1.9963  0.4415\n",
      "WedSatSun      1.2088    0.6139   1.9691  0.0489   0.0056  2.4120\n",
      "HighTemp       1.2639    0.6891   1.8342  0.0666  -0.0867  2.6144\n",
      "================================================================\n",
      "\n"
     ]
    }
   ],
   "source": [
    "# NOTE: after scaling, X_scaled and Y_scaled are ndarray, not DataFrame.\n",
    "X_scaled = preprocessing.scale(X)\n",
    "dfX_scaled = pd.DataFrame(X_scaled, columns=X.columns)\n",
    "dfX_scaled_c = sm.add_constant(dfX_scaled)\n",
    "model = sm.Logit(y, dfX_scaled_c)\n",
    "results = model.fit(disp=0)\n",
    "print(results.summary2())"
   ]
  },
  {
   "cell_type": "markdown",
   "metadata": {},
   "source": [
    "#### Regression coefficients (standardized)  "
   ]
  },
  {
   "cell_type": "code",
   "execution_count": 6,
   "metadata": {},
   "outputs": [
    {
     "name": "stdout",
     "output_type": "stream",
     "text": [
      "const       -0.777380\n",
      "WedSatSun    1.208797\n",
      "HighTemp     1.263881\n",
      "dtype: float64\n"
     ]
    }
   ],
   "source": [
    "print(results.params)"
   ]
  },
  {
   "cell_type": "markdown",
   "metadata": {},
   "source": [
    "**Contribution to objective variable (目的変数への寄与):**\n",
    "**HighTemp(positive) > WedSatSun(positive)**"
   ]
  },
  {
   "cell_type": "markdown",
   "metadata": {},
   "source": [
    "#### Logistic regression  "
   ]
  },
  {
   "cell_type": "code",
   "execution_count": 7,
   "metadata": {},
   "outputs": [
    {
     "name": "stdout",
     "output_type": "stream",
     "text": [
      "                         Results: Logit\n",
      "================================================================\n",
      "Model:              Logit            Pseudo R-squared: 0.362    \n",
      "Dependent Variable: Sales            AIC:              23.8021  \n",
      "Date:               2020-04-28 22:05 BIC:              26.9357  \n",
      "No. Observations:   21               Log-Likelihood:   -8.9010  \n",
      "Df Model:           2                LL-Null:          -13.955  \n",
      "Df Residuals:       18               LLR p-value:      0.0063834\n",
      "Converged:          1.0000           Scale:            1.0000   \n",
      "No. Iterations:     7.0000                                      \n",
      "-----------------------------------------------------------------\n",
      "            Coef.    Std.Err.     z     P>|z|    [0.025    0.975]\n",
      "-----------------------------------------------------------------\n",
      "const      -15.2035    7.6567  -1.9856  0.0471  -30.2104  -0.1966\n",
      "WedSatSun    2.4426    1.2405   1.9691  0.0489    0.0114   4.8739\n",
      "HighTemp     0.5445    0.2969   1.8342  0.0666   -0.0373   1.1264\n",
      "================================================================\n",
      "\n"
     ]
    }
   ],
   "source": [
    "X_c = sm.add_constant(X)\n",
    "model = sm.Logit(y, X_c)\n",
    "results = model.fit(disp=0)  # disp=1: additional message is printed  \n",
    "print(results.summary2())"
   ]
  },
  {
   "cell_type": "markdown",
   "metadata": {},
   "source": [
    "#### Regression coefficients  "
   ]
  },
  {
   "cell_type": "code",
   "execution_count": 8,
   "metadata": {},
   "outputs": [
    {
     "name": "stdout",
     "output_type": "stream",
     "text": [
      "const       -15.203506\n",
      "WedSatSun     2.442647\n",
      "HighTemp      0.544505\n",
      "dtype: float64\n"
     ]
    }
   ],
   "source": [
    "print(results.params)"
   ]
  },
  {
   "cell_type": "markdown",
   "metadata": {},
   "source": [
    "#### Obtained model:\n",
    "$\\ln(\\frac{\\rm{Sales}}{1-\\rm{Sales}}) = 2.443 * \\rm{WedSatSun} + 0.545 * \\rm{HighTemp} - 15.204$"
   ]
  },
  {
   "cell_type": "markdown",
   "metadata": {},
   "source": [
    "#### Ratio of correct answers  "
   ]
  },
  {
   "cell_type": "code",
   "execution_count": 9,
   "metadata": {},
   "outputs": [
    {
     "name": "stdout",
     "output_type": "stream",
     "text": [
      "0.8095238095238095\n"
     ]
    }
   ],
   "source": [
    "n_data = y.shape[0]\n",
    "n_correct_pred = ((results.predict(X_c) >= 0.5) == y).sum()\n",
    "print(n_correct_pred / n_data)"
   ]
  },
  {
   "cell_type": "markdown",
   "metadata": {},
   "source": [
    "#### Odds ratio\n",
    "How many times the objective variable will increase when corresponding variable is increased by 1  \n",
    "and other variables are not changed  \n",
    "得られたexp(回帰係数)の値(オッズ比)から、「各説明変数が1増えたときに目的変数が何倍になるか」がわかる。  "
   ]
  },
  {
   "cell_type": "code",
   "execution_count": 10,
   "metadata": {},
   "outputs": [
    {
     "name": "stdout",
     "output_type": "stream",
     "text": [
      "const        2.495752e-07\n",
      "WedSatSun    1.150345e+01\n",
      "HighTemp     1.723756e+00\n",
      "dtype: float64\n"
     ]
    }
   ],
   "source": [
    "print(np.exp(results.params))"
   ]
  },
  {
   "cell_type": "markdown",
   "metadata": {},
   "source": [
    "#### Do prediction using the obtained model    \n",
    "NOTICE: add 1 at the head of each data for constant.  \n",
    "(You can use sm.add_constant() to add 1)\n",
    "得られたモデルを用いて、予測を行う。  \n",
    "注: 予測のための各Xデータの先頭には定数項用の1を付加すること。  \n",
    "(sm.add_constant()を用いて付加してもよい)  "
   ]
  },
  {
   "cell_type": "code",
   "execution_count": 11,
   "metadata": {},
   "outputs": [
    {
     "name": "stdout",
     "output_type": "stream",
     "text": [
      "X for prediction:\n"
     ]
    },
    {
     "data": {
      "text/html": [
       "<div>\n",
       "<style scoped>\n",
       "    .dataframe tbody tr th:only-of-type {\n",
       "        vertical-align: middle;\n",
       "    }\n",
       "\n",
       "    .dataframe tbody tr th {\n",
       "        vertical-align: top;\n",
       "    }\n",
       "\n",
       "    .dataframe thead th {\n",
       "        text-align: right;\n",
       "    }\n",
       "</style>\n",
       "<table border=\"1\" class=\"dataframe\">\n",
       "  <thead>\n",
       "    <tr style=\"text-align: right;\">\n",
       "      <th></th>\n",
       "      <th>const</th>\n",
       "      <th>WedSatSun</th>\n",
       "      <th>HighTemp</th>\n",
       "    </tr>\n",
       "  </thead>\n",
       "  <tbody>\n",
       "    <tr>\n",
       "      <th>0</th>\n",
       "      <td>1</td>\n",
       "      <td>1</td>\n",
       "      <td>23</td>\n",
       "    </tr>\n",
       "    <tr>\n",
       "      <th>1</th>\n",
       "      <td>1</td>\n",
       "      <td>0</td>\n",
       "      <td>28</td>\n",
       "    </tr>\n",
       "  </tbody>\n",
       "</table>\n",
       "</div>"
      ],
      "text/plain": [
       "   const  WedSatSun  HighTemp\n",
       "0      1          1        23\n",
       "1      1          0        28"
      ]
     },
     "metadata": {},
     "output_type": "display_data"
    },
    {
     "name": "stdout",
     "output_type": "stream",
     "text": [
      "Predicted y:\n",
      "0    False\n",
      "1     True\n",
      "dtype: bool\n"
     ]
    }
   ],
   "source": [
    "dfX_test = pd.DataFrame([[1, 1, 23],\n",
    "                         [1, 0, 28],\n",
    "                        ],\n",
    "                        columns=results.params.index)  # example\n",
    "print('X for prediction:')\n",
    "display(dfX_test)\n",
    "y_test = results.predict(dfX_test)\n",
    "print('Predicted y:')\n",
    "print(y_test >= 0.5)"
   ]
  },
  {
   "cell_type": "code",
   "execution_count": null,
   "metadata": {},
   "outputs": [],
   "source": []
  }
 ],
 "metadata": {
  "kernelspec": {
   "display_name": "Python 3",
   "language": "python",
   "name": "python3"
  },
  "language_info": {
   "codemirror_mode": {
    "name": "ipython",
    "version": 3
   },
   "file_extension": ".py",
   "mimetype": "text/x-python",
   "name": "python",
   "nbconvert_exporter": "python",
   "pygments_lexer": "ipython3",
   "version": "3.6.10"
  }
 },
 "nbformat": 4,
 "nbformat_minor": 4
}
