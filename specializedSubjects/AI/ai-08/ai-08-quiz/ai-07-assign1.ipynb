{
 "cells": [
  {
   "cell_type": "markdown",
   "metadata": {},
   "source": [
    "### Sample program for calculating accuracy measures and plotting ROC / PR curve"
   ]
  },
  {
   "cell_type": "markdown",
   "metadata": {},
   "source": [
    "#### Import libraries  "
   ]
  },
  {
   "cell_type": "code",
   "execution_count": 8,
   "metadata": {},
   "outputs": [],
   "source": [
    "import random\n",
    "import pandas as pd\n",
    "import numpy as np\n",
    "import matplotlib.pyplot as plt\n",
    "from sklearn.metrics import roc_curve, auc, roc_auc_score\n",
    "from sklearn.metrics import precision_recall_curve\n",
    "from sklearn.metrics import precision_score, recall_score, accuracy_score\n",
    "from sklearn.metrics import f1_score, matthews_corrcoef"
   ]
  },
  {
   "cell_type": "markdown",
   "metadata": {},
   "source": [
    "#### Parameters  "
   ]
  },
  {
   "cell_type": "code",
   "execution_count": 9,
   "metadata": {},
   "outputs": [],
   "source": [
    "csv_in = 'class_pre3.csv'"
   ]
  },
  {
   "cell_type": "markdown",
   "metadata": {},
   "source": [
    "#### CSV file  "
   ]
  },
  {
   "cell_type": "code",
   "execution_count": 10,
   "metadata": {},
   "outputs": [
    {
     "output_type": "stream",
     "name": "stdout",
     "text": [
      "(100, 4)\n<class 'pandas.core.frame.DataFrame'>\nRangeIndex: 100 entries, 0 to 99\nData columns (total 4 columns):\n #   Column  Non-Null Count  Dtype  \n---  ------  --------------  -----  \n 0   label   100 non-null    int64  \n 1   A       100 non-null    float64\n 2   B       100 non-null    float64\n 3   C       100 non-null    float64\ndtypes: float64(3), int64(1)\nmemory usage: 3.2 KB\nNone\n"
     ]
    },
    {
     "output_type": "display_data",
     "data": {
      "text/plain": "   label         A         B         C\n0      0  0.345066  0.115360  0.456917\n1      0  0.419649  0.365812  0.390605\n2      1  0.689613  0.925082  0.916245\n3      0  0.636881  0.016503  0.420523\n4      1  0.509998  0.665024  0.543389",
      "text/html": "<div>\n<style scoped>\n    .dataframe tbody tr th:only-of-type {\n        vertical-align: middle;\n    }\n\n    .dataframe tbody tr th {\n        vertical-align: top;\n    }\n\n    .dataframe thead th {\n        text-align: right;\n    }\n</style>\n<table border=\"1\" class=\"dataframe\">\n  <thead>\n    <tr style=\"text-align: right;\">\n      <th></th>\n      <th>label</th>\n      <th>A</th>\n      <th>B</th>\n      <th>C</th>\n    </tr>\n  </thead>\n  <tbody>\n    <tr>\n      <th>0</th>\n      <td>0</td>\n      <td>0.345066</td>\n      <td>0.115360</td>\n      <td>0.456917</td>\n    </tr>\n    <tr>\n      <th>1</th>\n      <td>0</td>\n      <td>0.419649</td>\n      <td>0.365812</td>\n      <td>0.390605</td>\n    </tr>\n    <tr>\n      <th>2</th>\n      <td>1</td>\n      <td>0.689613</td>\n      <td>0.925082</td>\n      <td>0.916245</td>\n    </tr>\n    <tr>\n      <th>3</th>\n      <td>0</td>\n      <td>0.636881</td>\n      <td>0.016503</td>\n      <td>0.420523</td>\n    </tr>\n    <tr>\n      <th>4</th>\n      <td>1</td>\n      <td>0.509998</td>\n      <td>0.665024</td>\n      <td>0.543389</td>\n    </tr>\n  </tbody>\n</table>\n</div>"
     },
     "metadata": {}
    }
   ],
   "source": [
    "df = pd.read_csv(csv_in, delimiter=',', skiprows=0, header=0)\n",
    "print(df.shape)\n",
    "print(df.info())\n",
    "display(df.head())"
   ]
  },
  {
   "cell_type": "markdown",
   "metadata": {},
   "source": [
    "#### Confusing matrix (混同行列) and measurements for prediction accuracy for each method  "
   ]
  },
  {
   "cell_type": "code",
   "execution_count": 17,
   "metadata": {},
   "outputs": [
    {
     "output_type": "stream",
     "name": "stdout",
     "text": [
      "A\nprecision: 0.3442622950819672\nrecall: 0.8076923076923077\naccuracy(Q2): 0.55\nf1: 0.4827586206896552\nmatthews: 0.24024998217887925\nfalse positive rate: 0.5405405405405406\n"
     ]
    },
    {
     "output_type": "display_data",
     "data": {
      "text/plain": "A       0   1\nlabel        \n0      34  40\n1       5  21",
      "text/html": "<div>\n<style scoped>\n    .dataframe tbody tr th:only-of-type {\n        vertical-align: middle;\n    }\n\n    .dataframe tbody tr th {\n        vertical-align: top;\n    }\n\n    .dataframe thead th {\n        text-align: right;\n    }\n</style>\n<table border=\"1\" class=\"dataframe\">\n  <thead>\n    <tr style=\"text-align: right;\">\n      <th>A</th>\n      <th>0</th>\n      <th>1</th>\n    </tr>\n    <tr>\n      <th>label</th>\n      <th></th>\n      <th></th>\n    </tr>\n  </thead>\n  <tbody>\n    <tr>\n      <th>0</th>\n      <td>34</td>\n      <td>40</td>\n    </tr>\n    <tr>\n      <th>1</th>\n      <td>5</td>\n      <td>21</td>\n    </tr>\n  </tbody>\n</table>\n</div>"
     },
     "metadata": {}
    }
   ],
   "source": [
    "print('A')\n",
    "print('precision:', precision_score(df['label'], df['A']>=0.4))\n",
    "print('recall:', recall_score(df['label'], df['A']>=0.4))\n",
    "print('accuracy(Q2):', accuracy_score(df['label'], df['A']>=0.4))\n",
    "print('f1:', f1_score(df['label'], df['A']>=0.4))\n",
    "print('matthews:', matthews_corrcoef(df['label'], df['A']>=0.4))\n",
    "predA = df['A'].map(lambda x: 1 if x >= 0.4 else 0)\n",
    "ctA = pd.crosstab(df['label'], predA)\n",
    "fpA = ctA.loc[0,1]\n",
    "tnA = ctA.loc[0,0]\n",
    "print('false positive rate:', fpA/(fpA+tnA))\n",
    "display(ctA)"
   ]
  },
  {
   "cell_type": "code",
   "execution_count": 18,
   "metadata": {},
   "outputs": [
    {
     "output_type": "stream",
     "name": "stdout",
     "text": [
      "B\nprecision: 0.5365853658536586\nrecall: 0.8461538461538461\naccuracy(Q2): 0.77\nf1: 0.6567164179104478\nmatthews: 0.5256450590867675\nfalse positive rate: 0.25675675675675674\ntrue positive rate: 0.22\nspecificity: 0.7432432432432432\n"
     ]
    }
   ],
   "source": [
    "print('B')\n",
    "print('precision:', precision_score(df['label'], df['B']>=0.4))\n",
    "print('recall:', recall_score(df['label'], df['B']>=0.4))\n",
    "print('accuracy(Q2):', accuracy_score(df['label'], df['B']>=0.4))\n",
    "print('f1:', f1_score(df['label'], df['B']>=0.4))\n",
    "print('matthews:', matthews_corrcoef(df['label'], df['B']>=0.4))\n",
    "predB = df['B'].map(lambda x: 1 if x >= 0.4 else 0)\n",
    "ctB = pd.crosstab(df['label'], predB)\n",
    "fpB = ctB.loc[0,1]\n",
    "tpB = ctB.loc[1,1]\n",
    "tnB = ctB.loc[0,0]\n",
    "print('false positive rate:', fpB/(fpB+tnB))\n",
    "print('true positive rate:', tpB / 100)\n",
    "print('specificity:', tnB/(fpB+tnB))"
   ]
  },
  {
   "cell_type": "code",
   "execution_count": 13,
   "metadata": {},
   "outputs": [
    {
     "output_type": "stream",
     "name": "stdout",
     "text": [
      "C\n",
      "precision: 0.5348837209302325\n",
      "recall: 0.8846153846153846\n",
      "accuracy(Q2): 0.77\n",
      "f1: 0.6666666666666665\n",
      "matthews: 0.5443062073039762\n",
      "false positive rate: 0.2702702702702703\n"
     ]
    }
   ],
   "source": [
    "print('C')\n",
    "print('precision:', precision_score(df['label'], df['C']>=0.5))\n",
    "print('recall:', recall_score(df['label'], df['C']>=0.5))\n",
    "print('accuracy(Q2):', accuracy_score(df['label'], df['C']>=0.5))\n",
    "print('f1:', f1_score(df['label'], df['C']>=0.5))\n",
    "print('matthews:', matthews_corrcoef(df['label'], df['C']>=0.5))\n",
    "predC = df['C'].map(lambda x: 1 if x >= 0.5 else 0)\n",
    "ctC = pd.crosstab(df['label'], predC)\n",
    "fpC = ctC.loc[0,1]\n",
    "tnC = ctC.loc[0,0]\n",
    "print('false positive rate:', fpC/(fpC+tnC))"
   ]
  },
  {
   "cell_type": "markdown",
   "metadata": {},
   "source": [
    "#### PR curve and its AUC for each method  "
   ]
  },
  {
   "cell_type": "code",
   "execution_count": 14,
   "metadata": {},
   "outputs": [
    {
     "output_type": "stream",
     "name": "stdout",
     "text": [
      "PR-AUC(A): 0.42520372915574955\n",
      "PR-AUC(B): 0.7257939526027398\n",
      "PR-AUC(C): 0.6737254111840169\n"
     ]
    }
   ],
   "source": [
    "y_true = df['label']\n",
    "y_scoreA = df['A']\n",
    "precisionA, recallA, thresholdsA = precision_recall_curve(y_true, y_scoreA)\n",
    "print('PR-AUC(A):', auc(recallA, precisionA))\n",
    "y_scoreB = df['B']\n",
    "precisionB, recallB, thresholdsB = precision_recall_curve(y_true, y_scoreB)\n",
    "print('PR-AUC(B):', auc(recallB, precisionB))\n",
    "y_scoreC = df['C']\n",
    "precisionC, recallC, thresholdsC = precision_recall_curve(y_true, y_scoreC)\n",
    "print('PR-AUC(C):', auc(recallC, precisionC))"
   ]
  },
  {
   "cell_type": "code",
   "execution_count": 15,
   "metadata": {},
   "outputs": [
    {
     "output_type": "display_data",
     "data": {
      "text/plain": "<Figure size 432x288 with 1 Axes>",
      "image/svg+xml": "<?xml version=\"1.0\" encoding=\"utf-8\" standalone=\"no\"?>\n<!DOCTYPE svg PUBLIC \"-//W3C//DTD SVG 1.1//EN\"\n  \"http://www.w3.org/Graphics/SVG/1.1/DTD/svg11.dtd\">\n<svg height=\"277.314375pt\" version=\"1.1\" viewBox=\"0 0 268.42125 277.314375\" width=\"268.42125pt\" xmlns=\"http://www.w3.org/2000/svg\" xmlns:xlink=\"http://www.w3.org/1999/xlink\">\n <metadata>\n  <rdf:RDF xmlns:cc=\"http://creativecommons.org/ns#\" xmlns:dc=\"http://purl.org/dc/elements/1.1/\" xmlns:rdf=\"http://www.w3.org/1999/02/22-rdf-syntax-ns#\">\n   <cc:Work>\n    <dc:type rdf:resource=\"http://purl.org/dc/dcmitype/StillImage\"/>\n    <dc:date>2021-06-11T09:08:57.764083</dc:date>\n    <dc:format>image/svg+xml</dc:format>\n    <dc:creator>\n     <cc:Agent>\n      <dc:title>Matplotlib v3.4.1, https://matplotlib.org/</dc:title>\n     </cc:Agent>\n    </dc:creator>\n   </cc:Work>\n  </rdf:RDF>\n </metadata>\n <defs>\n  <style type=\"text/css\">*{stroke-linecap:butt;stroke-linejoin:round;}</style>\n </defs>\n <g id=\"figure_1\">\n  <g id=\"patch_1\">\n   <path d=\"M 0 277.314375 \nL 268.42125 277.314375 \nL 268.42125 0 \nL 0 0 \nz\n\" style=\"fill:none;\"/>\n  </g>\n  <g id=\"axes_1\">\n   <g id=\"patch_2\">\n    <path d=\"M 43.78125 239.758125 \nL 261.22125 239.758125 \nL 261.22125 22.318125 \nL 43.78125 22.318125 \nz\n\" style=\"fill:#ffffff;\"/>\n   </g>\n   <g id=\"matplotlib.axis_1\">\n    <g id=\"xtick_1\">\n     <g id=\"line2d_1\">\n      <defs>\n       <path d=\"M 0 0 \nL 0 3.5 \n\" id=\"m5043f4face\" style=\"stroke:#000000;stroke-width:0.8;\"/>\n      </defs>\n      <g>\n       <use style=\"stroke:#000000;stroke-width:0.8;\" x=\"61.90125\" xlink:href=\"#m5043f4face\" y=\"239.758125\"/>\n      </g>\n     </g>\n     <g id=\"text_1\">\n      <!-- 0.0 -->\n      <g transform=\"translate(53.949688 254.356562)scale(0.1 -0.1)\">\n       <defs>\n        <path d=\"M 2034 4250 \nQ 1547 4250 1301 3770 \nQ 1056 3291 1056 2328 \nQ 1056 1369 1301 889 \nQ 1547 409 2034 409 \nQ 2525 409 2770 889 \nQ 3016 1369 3016 2328 \nQ 3016 3291 2770 3770 \nQ 2525 4250 2034 4250 \nz\nM 2034 4750 \nQ 2819 4750 3233 4129 \nQ 3647 3509 3647 2328 \nQ 3647 1150 3233 529 \nQ 2819 -91 2034 -91 \nQ 1250 -91 836 529 \nQ 422 1150 422 2328 \nQ 422 3509 836 4129 \nQ 1250 4750 2034 4750 \nz\n\" id=\"DejaVuSans-30\" transform=\"scale(0.015625)\"/>\n        <path d=\"M 684 794 \nL 1344 794 \nL 1344 0 \nL 684 0 \nL 684 794 \nz\n\" id=\"DejaVuSans-2e\" transform=\"scale(0.015625)\"/>\n       </defs>\n       <use xlink:href=\"#DejaVuSans-30\"/>\n       <use x=\"63.623047\" xlink:href=\"#DejaVuSans-2e\"/>\n       <use x=\"95.410156\" xlink:href=\"#DejaVuSans-30\"/>\n      </g>\n     </g>\n    </g>\n    <g id=\"xtick_2\">\n     <g id=\"line2d_2\">\n      <g>\n       <use style=\"stroke:#000000;stroke-width:0.8;\" x=\"98.14125\" xlink:href=\"#m5043f4face\" y=\"239.758125\"/>\n      </g>\n     </g>\n     <g id=\"text_2\">\n      <!-- 0.2 -->\n      <g transform=\"translate(90.189688 254.356562)scale(0.1 -0.1)\">\n       <defs>\n        <path d=\"M 1228 531 \nL 3431 531 \nL 3431 0 \nL 469 0 \nL 469 531 \nQ 828 903 1448 1529 \nQ 2069 2156 2228 2338 \nQ 2531 2678 2651 2914 \nQ 2772 3150 2772 3378 \nQ 2772 3750 2511 3984 \nQ 2250 4219 1831 4219 \nQ 1534 4219 1204 4116 \nQ 875 4013 500 3803 \nL 500 4441 \nQ 881 4594 1212 4672 \nQ 1544 4750 1819 4750 \nQ 2544 4750 2975 4387 \nQ 3406 4025 3406 3419 \nQ 3406 3131 3298 2873 \nQ 3191 2616 2906 2266 \nQ 2828 2175 2409 1742 \nQ 1991 1309 1228 531 \nz\n\" id=\"DejaVuSans-32\" transform=\"scale(0.015625)\"/>\n       </defs>\n       <use xlink:href=\"#DejaVuSans-30\"/>\n       <use x=\"63.623047\" xlink:href=\"#DejaVuSans-2e\"/>\n       <use x=\"95.410156\" xlink:href=\"#DejaVuSans-32\"/>\n      </g>\n     </g>\n    </g>\n    <g id=\"xtick_3\">\n     <g id=\"line2d_3\">\n      <g>\n       <use style=\"stroke:#000000;stroke-width:0.8;\" x=\"134.38125\" xlink:href=\"#m5043f4face\" y=\"239.758125\"/>\n      </g>\n     </g>\n     <g id=\"text_3\">\n      <!-- 0.4 -->\n      <g transform=\"translate(126.429688 254.356562)scale(0.1 -0.1)\">\n       <defs>\n        <path d=\"M 2419 4116 \nL 825 1625 \nL 2419 1625 \nL 2419 4116 \nz\nM 2253 4666 \nL 3047 4666 \nL 3047 1625 \nL 3713 1625 \nL 3713 1100 \nL 3047 1100 \nL 3047 0 \nL 2419 0 \nL 2419 1100 \nL 313 1100 \nL 313 1709 \nL 2253 4666 \nz\n\" id=\"DejaVuSans-34\" transform=\"scale(0.015625)\"/>\n       </defs>\n       <use xlink:href=\"#DejaVuSans-30\"/>\n       <use x=\"63.623047\" xlink:href=\"#DejaVuSans-2e\"/>\n       <use x=\"95.410156\" xlink:href=\"#DejaVuSans-34\"/>\n      </g>\n     </g>\n    </g>\n    <g id=\"xtick_4\">\n     <g id=\"line2d_4\">\n      <g>\n       <use style=\"stroke:#000000;stroke-width:0.8;\" x=\"170.62125\" xlink:href=\"#m5043f4face\" y=\"239.758125\"/>\n      </g>\n     </g>\n     <g id=\"text_4\">\n      <!-- 0.6 -->\n      <g transform=\"translate(162.669688 254.356562)scale(0.1 -0.1)\">\n       <defs>\n        <path d=\"M 2113 2584 \nQ 1688 2584 1439 2293 \nQ 1191 2003 1191 1497 \nQ 1191 994 1439 701 \nQ 1688 409 2113 409 \nQ 2538 409 2786 701 \nQ 3034 994 3034 1497 \nQ 3034 2003 2786 2293 \nQ 2538 2584 2113 2584 \nz\nM 3366 4563 \nL 3366 3988 \nQ 3128 4100 2886 4159 \nQ 2644 4219 2406 4219 \nQ 1781 4219 1451 3797 \nQ 1122 3375 1075 2522 \nQ 1259 2794 1537 2939 \nQ 1816 3084 2150 3084 \nQ 2853 3084 3261 2657 \nQ 3669 2231 3669 1497 \nQ 3669 778 3244 343 \nQ 2819 -91 2113 -91 \nQ 1303 -91 875 529 \nQ 447 1150 447 2328 \nQ 447 3434 972 4092 \nQ 1497 4750 2381 4750 \nQ 2619 4750 2861 4703 \nQ 3103 4656 3366 4563 \nz\n\" id=\"DejaVuSans-36\" transform=\"scale(0.015625)\"/>\n       </defs>\n       <use xlink:href=\"#DejaVuSans-30\"/>\n       <use x=\"63.623047\" xlink:href=\"#DejaVuSans-2e\"/>\n       <use x=\"95.410156\" xlink:href=\"#DejaVuSans-36\"/>\n      </g>\n     </g>\n    </g>\n    <g id=\"xtick_5\">\n     <g id=\"line2d_5\">\n      <g>\n       <use style=\"stroke:#000000;stroke-width:0.8;\" x=\"206.86125\" xlink:href=\"#m5043f4face\" y=\"239.758125\"/>\n      </g>\n     </g>\n     <g id=\"text_5\">\n      <!-- 0.8 -->\n      <g transform=\"translate(198.909688 254.356562)scale(0.1 -0.1)\">\n       <defs>\n        <path d=\"M 2034 2216 \nQ 1584 2216 1326 1975 \nQ 1069 1734 1069 1313 \nQ 1069 891 1326 650 \nQ 1584 409 2034 409 \nQ 2484 409 2743 651 \nQ 3003 894 3003 1313 \nQ 3003 1734 2745 1975 \nQ 2488 2216 2034 2216 \nz\nM 1403 2484 \nQ 997 2584 770 2862 \nQ 544 3141 544 3541 \nQ 544 4100 942 4425 \nQ 1341 4750 2034 4750 \nQ 2731 4750 3128 4425 \nQ 3525 4100 3525 3541 \nQ 3525 3141 3298 2862 \nQ 3072 2584 2669 2484 \nQ 3125 2378 3379 2068 \nQ 3634 1759 3634 1313 \nQ 3634 634 3220 271 \nQ 2806 -91 2034 -91 \nQ 1263 -91 848 271 \nQ 434 634 434 1313 \nQ 434 1759 690 2068 \nQ 947 2378 1403 2484 \nz\nM 1172 3481 \nQ 1172 3119 1398 2916 \nQ 1625 2713 2034 2713 \nQ 2441 2713 2670 2916 \nQ 2900 3119 2900 3481 \nQ 2900 3844 2670 4047 \nQ 2441 4250 2034 4250 \nQ 1625 4250 1398 4047 \nQ 1172 3844 1172 3481 \nz\n\" id=\"DejaVuSans-38\" transform=\"scale(0.015625)\"/>\n       </defs>\n       <use xlink:href=\"#DejaVuSans-30\"/>\n       <use x=\"63.623047\" xlink:href=\"#DejaVuSans-2e\"/>\n       <use x=\"95.410156\" xlink:href=\"#DejaVuSans-38\"/>\n      </g>\n     </g>\n    </g>\n    <g id=\"xtick_6\">\n     <g id=\"line2d_6\">\n      <g>\n       <use style=\"stroke:#000000;stroke-width:0.8;\" x=\"243.10125\" xlink:href=\"#m5043f4face\" y=\"239.758125\"/>\n      </g>\n     </g>\n     <g id=\"text_6\">\n      <!-- 1.0 -->\n      <g transform=\"translate(235.149688 254.356562)scale(0.1 -0.1)\">\n       <defs>\n        <path d=\"M 794 531 \nL 1825 531 \nL 1825 4091 \nL 703 3866 \nL 703 4441 \nL 1819 4666 \nL 2450 4666 \nL 2450 531 \nL 3481 531 \nL 3481 0 \nL 794 0 \nL 794 531 \nz\n\" id=\"DejaVuSans-31\" transform=\"scale(0.015625)\"/>\n       </defs>\n       <use xlink:href=\"#DejaVuSans-31\"/>\n       <use x=\"63.623047\" xlink:href=\"#DejaVuSans-2e\"/>\n       <use x=\"95.410156\" xlink:href=\"#DejaVuSans-30\"/>\n      </g>\n     </g>\n    </g>\n    <g id=\"text_7\">\n     <!-- Recall -->\n     <g transform=\"translate(137.584063 268.034687)scale(0.1 -0.1)\">\n      <defs>\n       <path d=\"M 2841 2188 \nQ 3044 2119 3236 1894 \nQ 3428 1669 3622 1275 \nL 4263 0 \nL 3584 0 \nL 2988 1197 \nQ 2756 1666 2539 1819 \nQ 2322 1972 1947 1972 \nL 1259 1972 \nL 1259 0 \nL 628 0 \nL 628 4666 \nL 2053 4666 \nQ 2853 4666 3247 4331 \nQ 3641 3997 3641 3322 \nQ 3641 2881 3436 2590 \nQ 3231 2300 2841 2188 \nz\nM 1259 4147 \nL 1259 2491 \nL 2053 2491 \nQ 2509 2491 2742 2702 \nQ 2975 2913 2975 3322 \nQ 2975 3731 2742 3939 \nQ 2509 4147 2053 4147 \nL 1259 4147 \nz\n\" id=\"DejaVuSans-52\" transform=\"scale(0.015625)\"/>\n       <path d=\"M 3597 1894 \nL 3597 1613 \nL 953 1613 \nQ 991 1019 1311 708 \nQ 1631 397 2203 397 \nQ 2534 397 2845 478 \nQ 3156 559 3463 722 \nL 3463 178 \nQ 3153 47 2828 -22 \nQ 2503 -91 2169 -91 \nQ 1331 -91 842 396 \nQ 353 884 353 1716 \nQ 353 2575 817 3079 \nQ 1281 3584 2069 3584 \nQ 2775 3584 3186 3129 \nQ 3597 2675 3597 1894 \nz\nM 3022 2063 \nQ 3016 2534 2758 2815 \nQ 2500 3097 2075 3097 \nQ 1594 3097 1305 2825 \nQ 1016 2553 972 2059 \nL 3022 2063 \nz\n\" id=\"DejaVuSans-65\" transform=\"scale(0.015625)\"/>\n       <path d=\"M 3122 3366 \nL 3122 2828 \nQ 2878 2963 2633 3030 \nQ 2388 3097 2138 3097 \nQ 1578 3097 1268 2742 \nQ 959 2388 959 1747 \nQ 959 1106 1268 751 \nQ 1578 397 2138 397 \nQ 2388 397 2633 464 \nQ 2878 531 3122 666 \nL 3122 134 \nQ 2881 22 2623 -34 \nQ 2366 -91 2075 -91 \nQ 1284 -91 818 406 \nQ 353 903 353 1747 \nQ 353 2603 823 3093 \nQ 1294 3584 2113 3584 \nQ 2378 3584 2631 3529 \nQ 2884 3475 3122 3366 \nz\n\" id=\"DejaVuSans-63\" transform=\"scale(0.015625)\"/>\n       <path d=\"M 2194 1759 \nQ 1497 1759 1228 1600 \nQ 959 1441 959 1056 \nQ 959 750 1161 570 \nQ 1363 391 1709 391 \nQ 2188 391 2477 730 \nQ 2766 1069 2766 1631 \nL 2766 1759 \nL 2194 1759 \nz\nM 3341 1997 \nL 3341 0 \nL 2766 0 \nL 2766 531 \nQ 2569 213 2275 61 \nQ 1981 -91 1556 -91 \nQ 1019 -91 701 211 \nQ 384 513 384 1019 \nQ 384 1609 779 1909 \nQ 1175 2209 1959 2209 \nL 2766 2209 \nL 2766 2266 \nQ 2766 2663 2505 2880 \nQ 2244 3097 1772 3097 \nQ 1472 3097 1187 3025 \nQ 903 2953 641 2809 \nL 641 3341 \nQ 956 3463 1253 3523 \nQ 1550 3584 1831 3584 \nQ 2591 3584 2966 3190 \nQ 3341 2797 3341 1997 \nz\n\" id=\"DejaVuSans-61\" transform=\"scale(0.015625)\"/>\n       <path d=\"M 603 4863 \nL 1178 4863 \nL 1178 0 \nL 603 0 \nL 603 4863 \nz\n\" id=\"DejaVuSans-6c\" transform=\"scale(0.015625)\"/>\n      </defs>\n      <use xlink:href=\"#DejaVuSans-52\"/>\n      <use x=\"64.982422\" xlink:href=\"#DejaVuSans-65\"/>\n      <use x=\"126.505859\" xlink:href=\"#DejaVuSans-63\"/>\n      <use x=\"181.486328\" xlink:href=\"#DejaVuSans-61\"/>\n      <use x=\"242.765625\" xlink:href=\"#DejaVuSans-6c\"/>\n      <use x=\"270.548828\" xlink:href=\"#DejaVuSans-6c\"/>\n     </g>\n    </g>\n   </g>\n   <g id=\"matplotlib.axis_2\">\n    <g id=\"ytick_1\">\n     <g id=\"line2d_7\">\n      <defs>\n       <path d=\"M 0 0 \nL -3.5 0 \n\" id=\"ma3e3da3b3c\" style=\"stroke:#000000;stroke-width:0.8;\"/>\n      </defs>\n      <g>\n       <use style=\"stroke:#000000;stroke-width:0.8;\" x=\"43.78125\" xlink:href=\"#ma3e3da3b3c\" y=\"221.638125\"/>\n      </g>\n     </g>\n     <g id=\"text_8\">\n      <!-- 0.0 -->\n      <g transform=\"translate(20.878125 225.437344)scale(0.1 -0.1)\">\n       <use xlink:href=\"#DejaVuSans-30\"/>\n       <use x=\"63.623047\" xlink:href=\"#DejaVuSans-2e\"/>\n       <use x=\"95.410156\" xlink:href=\"#DejaVuSans-30\"/>\n      </g>\n     </g>\n    </g>\n    <g id=\"ytick_2\">\n     <g id=\"line2d_8\">\n      <g>\n       <use style=\"stroke:#000000;stroke-width:0.8;\" x=\"43.78125\" xlink:href=\"#ma3e3da3b3c\" y=\"185.398125\"/>\n      </g>\n     </g>\n     <g id=\"text_9\">\n      <!-- 0.2 -->\n      <g transform=\"translate(20.878125 189.197344)scale(0.1 -0.1)\">\n       <use xlink:href=\"#DejaVuSans-30\"/>\n       <use x=\"63.623047\" xlink:href=\"#DejaVuSans-2e\"/>\n       <use x=\"95.410156\" xlink:href=\"#DejaVuSans-32\"/>\n      </g>\n     </g>\n    </g>\n    <g id=\"ytick_3\">\n     <g id=\"line2d_9\">\n      <g>\n       <use style=\"stroke:#000000;stroke-width:0.8;\" x=\"43.78125\" xlink:href=\"#ma3e3da3b3c\" y=\"149.158125\"/>\n      </g>\n     </g>\n     <g id=\"text_10\">\n      <!-- 0.4 -->\n      <g transform=\"translate(20.878125 152.957344)scale(0.1 -0.1)\">\n       <use xlink:href=\"#DejaVuSans-30\"/>\n       <use x=\"63.623047\" xlink:href=\"#DejaVuSans-2e\"/>\n       <use x=\"95.410156\" xlink:href=\"#DejaVuSans-34\"/>\n      </g>\n     </g>\n    </g>\n    <g id=\"ytick_4\">\n     <g id=\"line2d_10\">\n      <g>\n       <use style=\"stroke:#000000;stroke-width:0.8;\" x=\"43.78125\" xlink:href=\"#ma3e3da3b3c\" y=\"112.918125\"/>\n      </g>\n     </g>\n     <g id=\"text_11\">\n      <!-- 0.6 -->\n      <g transform=\"translate(20.878125 116.717344)scale(0.1 -0.1)\">\n       <use xlink:href=\"#DejaVuSans-30\"/>\n       <use x=\"63.623047\" xlink:href=\"#DejaVuSans-2e\"/>\n       <use x=\"95.410156\" xlink:href=\"#DejaVuSans-36\"/>\n      </g>\n     </g>\n    </g>\n    <g id=\"ytick_5\">\n     <g id=\"line2d_11\">\n      <g>\n       <use style=\"stroke:#000000;stroke-width:0.8;\" x=\"43.78125\" xlink:href=\"#ma3e3da3b3c\" y=\"76.678125\"/>\n      </g>\n     </g>\n     <g id=\"text_12\">\n      <!-- 0.8 -->\n      <g transform=\"translate(20.878125 80.477344)scale(0.1 -0.1)\">\n       <use xlink:href=\"#DejaVuSans-30\"/>\n       <use x=\"63.623047\" xlink:href=\"#DejaVuSans-2e\"/>\n       <use x=\"95.410156\" xlink:href=\"#DejaVuSans-38\"/>\n      </g>\n     </g>\n    </g>\n    <g id=\"ytick_6\">\n     <g id=\"line2d_12\">\n      <g>\n       <use style=\"stroke:#000000;stroke-width:0.8;\" x=\"43.78125\" xlink:href=\"#ma3e3da3b3c\" y=\"40.438125\"/>\n      </g>\n     </g>\n     <g id=\"text_13\">\n      <!-- 1.0 -->\n      <g transform=\"translate(20.878125 44.237344)scale(0.1 -0.1)\">\n       <use xlink:href=\"#DejaVuSans-31\"/>\n       <use x=\"63.623047\" xlink:href=\"#DejaVuSans-2e\"/>\n       <use x=\"95.410156\" xlink:href=\"#DejaVuSans-30\"/>\n      </g>\n     </g>\n    </g>\n    <g id=\"text_14\">\n     <!-- Precision -->\n     <g transform=\"translate(14.798438 153.345156)rotate(-90)scale(0.1 -0.1)\">\n      <defs>\n       <path d=\"M 1259 4147 \nL 1259 2394 \nL 2053 2394 \nQ 2494 2394 2734 2622 \nQ 2975 2850 2975 3272 \nQ 2975 3691 2734 3919 \nQ 2494 4147 2053 4147 \nL 1259 4147 \nz\nM 628 4666 \nL 2053 4666 \nQ 2838 4666 3239 4311 \nQ 3641 3956 3641 3272 \nQ 3641 2581 3239 2228 \nQ 2838 1875 2053 1875 \nL 1259 1875 \nL 1259 0 \nL 628 0 \nL 628 4666 \nz\n\" id=\"DejaVuSans-50\" transform=\"scale(0.015625)\"/>\n       <path d=\"M 2631 2963 \nQ 2534 3019 2420 3045 \nQ 2306 3072 2169 3072 \nQ 1681 3072 1420 2755 \nQ 1159 2438 1159 1844 \nL 1159 0 \nL 581 0 \nL 581 3500 \nL 1159 3500 \nL 1159 2956 \nQ 1341 3275 1631 3429 \nQ 1922 3584 2338 3584 \nQ 2397 3584 2469 3576 \nQ 2541 3569 2628 3553 \nL 2631 2963 \nz\n\" id=\"DejaVuSans-72\" transform=\"scale(0.015625)\"/>\n       <path d=\"M 603 3500 \nL 1178 3500 \nL 1178 0 \nL 603 0 \nL 603 3500 \nz\nM 603 4863 \nL 1178 4863 \nL 1178 4134 \nL 603 4134 \nL 603 4863 \nz\n\" id=\"DejaVuSans-69\" transform=\"scale(0.015625)\"/>\n       <path d=\"M 2834 3397 \nL 2834 2853 \nQ 2591 2978 2328 3040 \nQ 2066 3103 1784 3103 \nQ 1356 3103 1142 2972 \nQ 928 2841 928 2578 \nQ 928 2378 1081 2264 \nQ 1234 2150 1697 2047 \nL 1894 2003 \nQ 2506 1872 2764 1633 \nQ 3022 1394 3022 966 \nQ 3022 478 2636 193 \nQ 2250 -91 1575 -91 \nQ 1294 -91 989 -36 \nQ 684 19 347 128 \nL 347 722 \nQ 666 556 975 473 \nQ 1284 391 1588 391 \nQ 1994 391 2212 530 \nQ 2431 669 2431 922 \nQ 2431 1156 2273 1281 \nQ 2116 1406 1581 1522 \nL 1381 1569 \nQ 847 1681 609 1914 \nQ 372 2147 372 2553 \nQ 372 3047 722 3315 \nQ 1072 3584 1716 3584 \nQ 2034 3584 2315 3537 \nQ 2597 3491 2834 3397 \nz\n\" id=\"DejaVuSans-73\" transform=\"scale(0.015625)\"/>\n       <path d=\"M 1959 3097 \nQ 1497 3097 1228 2736 \nQ 959 2375 959 1747 \nQ 959 1119 1226 758 \nQ 1494 397 1959 397 \nQ 2419 397 2687 759 \nQ 2956 1122 2956 1747 \nQ 2956 2369 2687 2733 \nQ 2419 3097 1959 3097 \nz\nM 1959 3584 \nQ 2709 3584 3137 3096 \nQ 3566 2609 3566 1747 \nQ 3566 888 3137 398 \nQ 2709 -91 1959 -91 \nQ 1206 -91 779 398 \nQ 353 888 353 1747 \nQ 353 2609 779 3096 \nQ 1206 3584 1959 3584 \nz\n\" id=\"DejaVuSans-6f\" transform=\"scale(0.015625)\"/>\n       <path d=\"M 3513 2113 \nL 3513 0 \nL 2938 0 \nL 2938 2094 \nQ 2938 2591 2744 2837 \nQ 2550 3084 2163 3084 \nQ 1697 3084 1428 2787 \nQ 1159 2491 1159 1978 \nL 1159 0 \nL 581 0 \nL 581 3500 \nL 1159 3500 \nL 1159 2956 \nQ 1366 3272 1645 3428 \nQ 1925 3584 2291 3584 \nQ 2894 3584 3203 3211 \nQ 3513 2838 3513 2113 \nz\n\" id=\"DejaVuSans-6e\" transform=\"scale(0.015625)\"/>\n      </defs>\n      <use xlink:href=\"#DejaVuSans-50\"/>\n      <use x=\"58.552734\" xlink:href=\"#DejaVuSans-72\"/>\n      <use x=\"97.416016\" xlink:href=\"#DejaVuSans-65\"/>\n      <use x=\"158.939453\" xlink:href=\"#DejaVuSans-63\"/>\n      <use x=\"213.919922\" xlink:href=\"#DejaVuSans-69\"/>\n      <use x=\"241.703125\" xlink:href=\"#DejaVuSans-73\"/>\n      <use x=\"293.802734\" xlink:href=\"#DejaVuSans-69\"/>\n      <use x=\"321.585938\" xlink:href=\"#DejaVuSans-6f\"/>\n      <use x=\"382.767578\" xlink:href=\"#DejaVuSans-6e\"/>\n     </g>\n    </g>\n   </g>\n   <g id=\"line2d_13\">\n    <path clip-path=\"url(#p18330ccc1f)\" d=\"M 243.10125 170.98006 \nL 236.132019 172.398995 \nL 236.132019 171.857905 \nL 236.132019 171.304792 \nL 236.132019 170.739249 \nL 236.132019 170.160852 \nL 236.132019 169.569159 \nL 236.132019 168.963706 \nL 236.132019 168.344007 \nL 236.132019 167.709554 \nL 236.132019 167.059812 \nL 229.162788 168.603979 \nL 229.162788 167.949236 \nL 229.162788 167.278125 \nL 229.162788 166.590024 \nL 229.162788 165.884279 \nL 229.162788 165.160203 \nL 229.162788 164.417072 \nL 229.162788 163.654125 \nL 222.193558 165.319206 \nL 222.193558 164.547714 \nL 222.193558 163.754792 \nL 222.193558 162.939533 \nL 222.193558 162.100982 \nL 222.193558 161.238125 \nL 215.224327 163.014596 \nL 215.224327 162.139618 \nL 208.255096 163.98358 \nL 208.255096 163.096587 \nL 208.255096 162.181875 \nL 208.255096 161.238125 \nL 208.255096 160.263931 \nL 208.255096 159.257797 \nL 201.285865 161.238125 \nL 201.285865 160.214396 \nL 201.285865 159.155366 \nL 201.285865 158.059178 \nL 201.285865 156.923839 \nL 201.285865 155.747216 \nL 201.285865 154.527014 \nL 201.285865 153.260767 \nL 201.285865 151.945817 \nL 194.316635 154.132243 \nL 194.316635 152.782125 \nL 194.316635 151.376901 \nL 187.347404 153.688125 \nL 187.347404 152.24238 \nL 180.378173 154.672908 \nL 180.378173 153.184792 \nL 180.378173 151.629034 \nL 180.378173 150.000916 \nL 180.378173 148.295268 \nL 180.378173 146.506418 \nL 180.378173 144.628125 \nL 180.378173 142.65351 \nL 180.378173 140.574967 \nL 180.378173 138.384071 \nL 180.378173 136.071458 \nL 180.378173 133.626696 \nL 180.378173 131.038125 \nL 180.378173 128.29267 \nL 173.408942 131.038125 \nL 166.439712 133.960706 \nL 166.439712 131.038125 \nL 166.439712 127.913987 \nL 166.439712 124.566696 \nL 159.470481 127.682569 \nL 159.470481 124.068894 \nL 152.50125 127.414125 \nL 145.532019 131.038125 \nL 138.562788 134.977255 \nL 131.593558 139.274489 \nL 124.624327 143.980982 \nL 124.624327 140.098125 \nL 124.624327 135.806546 \nL 117.655096 141.104792 \nL 110.685865 147.02636 \nL 110.685865 142.363125 \nL 110.685865 137.078125 \nL 110.685865 131.038125 \nL 110.685865 124.068894 \nL 103.716635 131.038125 \nL 96.747404 139.274489 \nL 89.778173 149.158125 \nL 89.778173 141.104792 \nL 89.778173 131.038125 \nL 89.778173 118.095268 \nL 89.778173 100.838125 \nL 82.808942 112.918125 \nL 75.839712 131.038125 \nL 68.870481 161.238125 \nL 61.90125 221.638125 \nL 61.90125 221.638125 \nL 61.90125 40.438125 \n\" style=\"fill:none;stroke:#1f77b4;stroke-linecap:square;stroke-width:1.5;\"/>\n   </g>\n   <g id=\"line2d_14\">\n    <path clip-path=\"url(#p18330ccc1f)\" d=\"M 243.10125 157.101139 \nL 236.132019 158.721458 \nL 236.132019 157.835308 \nL 236.132019 156.923839 \nL 236.132019 155.985951 \nL 236.132019 155.020478 \nL 236.132019 154.026185 \nL 229.162788 155.747216 \nL 229.162788 154.73351 \nL 229.162788 153.688125 \nL 229.162788 152.609554 \nL 229.162788 151.49619 \nL 229.162788 150.346322 \nL 229.162788 149.158125 \nL 229.162788 147.92965 \nL 229.162788 146.658815 \nL 229.162788 145.343388 \nL 222.193558 147.216696 \nL 222.193558 145.86358 \nL 222.193558 144.460347 \nL 222.193558 143.004163 \nL 222.193558 141.491971 \nL 222.193558 139.920478 \nL 222.193558 138.286125 \nL 222.193558 136.585064 \nL 222.193558 134.813125 \nL 222.193558 132.965785 \nL 222.193558 131.038125 \nL 222.193558 129.024792 \nL 222.193558 126.919943 \nL 215.224327 128.931148 \nL 215.224327 126.723839 \nL 215.224327 124.408857 \nL 215.224327 121.978125 \nL 215.224327 119.42274 \nL 215.224327 116.732862 \nL 215.224327 113.897584 \nL 215.224327 110.904792 \nL 215.224327 107.740982 \nL 215.224327 104.391066 \nL 215.224327 100.838125 \nL 215.224327 97.063125 \nL 215.224327 93.044577 \nL 215.224327 88.758125 \nL 215.224327 84.176056 \nL 215.224327 79.266696 \nL 208.255096 80.704792 \nL 201.285865 82.25351 \nL 194.316635 83.926125 \nL 194.316635 78.188125 \nL 187.347404 79.829429 \nL 180.378173 81.619943 \nL 180.378173 74.952411 \nL 173.408942 76.678125 \nL 166.439712 78.585493 \nL 159.470481 80.704792 \nL 159.470481 72.414596 \nL 159.470481 63.088125 \nL 152.50125 64.598125 \nL 145.532019 66.323839 \nL 138.562788 68.315048 \nL 131.593558 70.638125 \nL 131.593558 56.910852 \nL 124.624327 58.558125 \nL 117.655096 60.571458 \nL 110.685865 63.088125 \nL 103.716635 66.323839 \nL 96.747404 70.638125 \nL 89.778173 76.678125 \nL 82.808942 85.738125 \nL 75.839712 100.838125 \nL 68.870481 131.038125 \nL 61.90125 221.638125 \nL 61.90125 40.438125 \n\" style=\"fill:none;stroke:#ff7f0e;stroke-linecap:square;stroke-width:1.5;\"/>\n   </g>\n   <g id=\"line2d_15\">\n    <path clip-path=\"url(#p18330ccc1f)\" d=\"M 243.10125 169.866696 \nL 236.132019 171.304792 \nL 236.132019 170.739249 \nL 236.132019 170.160852 \nL 236.132019 169.569159 \nL 236.132019 168.963706 \nL 236.132019 168.344007 \nL 236.132019 167.709554 \nL 236.132019 167.059812 \nL 236.132019 166.394223 \nL 236.132019 165.712199 \nL 236.132019 165.013125 \nL 236.132019 164.296353 \nL 236.132019 163.561202 \nL 229.162788 165.160203 \nL 229.162788 164.417072 \nL 229.162788 163.654125 \nL 229.162788 162.870557 \nL 229.162788 162.065522 \nL 229.162788 161.238125 \nL 229.162788 160.387421 \nL 229.162788 159.512411 \nL 229.162788 158.612038 \nL 229.162788 157.685184 \nL 229.162788 156.730662 \nL 229.162788 155.747216 \nL 229.162788 154.73351 \nL 229.162788 153.688125 \nL 229.162788 152.609554 \nL 229.162788 151.49619 \nL 229.162788 150.346322 \nL 229.162788 149.158125 \nL 229.162788 147.92965 \nL 229.162788 146.658815 \nL 229.162788 145.343388 \nL 229.162788 143.980982 \nL 229.162788 142.569034 \nL 229.162788 141.104792 \nL 229.162788 139.585295 \nL 229.162788 138.007356 \nL 229.162788 136.367537 \nL 229.162788 134.662125 \nL 229.162788 132.887105 \nL 229.162788 131.038125 \nL 229.162788 129.110465 \nL 229.162788 127.098995 \nL 222.193558 129.024792 \nL 222.193558 126.919943 \nL 222.193558 124.717195 \nL 222.193558 122.409554 \nL 215.224327 124.408857 \nL 208.255096 126.508125 \nL 201.285865 128.715048 \nL 201.285865 126.269704 \nL 201.285865 123.692179 \nL 201.285865 120.971458 \nL 201.285865 118.095268 \nL 194.316635 120.379301 \nL 187.347404 122.801761 \nL 180.378173 125.375625 \nL 173.408942 128.115544 \nL 173.408942 124.998125 \nL 166.439712 127.913987 \nL 159.470481 131.038125 \nL 159.470481 127.682569 \nL 159.470481 124.068894 \nL 159.470481 120.166125 \nL 152.50125 123.488125 \nL 152.50125 119.220734 \nL 152.50125 114.565398 \nL 152.50125 109.466696 \nL 145.532019 112.918125 \nL 145.532019 107.19602 \nL 138.562788 110.904792 \nL 131.593558 115.04989 \nL 131.593558 108.388125 \nL 131.593558 100.838125 \nL 124.624327 105.152411 \nL 124.624327 96.191971 \nL 117.655096 100.838125 \nL 117.655096 89.856307 \nL 117.655096 76.678125 \nL 117.655096 60.571458 \nL 110.685865 63.088125 \nL 110.685865 40.438125 \nL 103.716635 40.438125 \nL 96.747404 40.438125 \nL 89.778173 40.438125 \nL 82.808942 40.438125 \nL 75.839712 40.438125 \nL 68.870481 40.438125 \nL 61.90125 40.438125 \n\" style=\"fill:none;stroke:#2ca02c;stroke-linecap:square;stroke-width:1.5;\"/>\n   </g>\n   <g id=\"patch_3\">\n    <path d=\"M 43.78125 239.758125 \nL 43.78125 22.318125 \n\" style=\"fill:none;stroke:#000000;stroke-linecap:square;stroke-linejoin:miter;stroke-width:0.8;\"/>\n   </g>\n   <g id=\"patch_4\">\n    <path d=\"M 261.22125 239.758125 \nL 261.22125 22.318125 \n\" style=\"fill:none;stroke:#000000;stroke-linecap:square;stroke-linejoin:miter;stroke-width:0.8;\"/>\n   </g>\n   <g id=\"patch_5\">\n    <path d=\"M 43.78125 239.758125 \nL 261.22125 239.758125 \n\" style=\"fill:none;stroke:#000000;stroke-linecap:square;stroke-linejoin:miter;stroke-width:0.8;\"/>\n   </g>\n   <g id=\"patch_6\">\n    <path d=\"M 43.78125 22.318125 \nL 261.22125 22.318125 \n\" style=\"fill:none;stroke:#000000;stroke-linecap:square;stroke-linejoin:miter;stroke-width:0.8;\"/>\n   </g>\n   <g id=\"text_15\">\n    <!-- PR curve -->\n    <g transform=\"translate(125.99625 16.318125)scale(0.12 -0.12)\">\n     <defs>\n      <path id=\"DejaVuSans-20\" transform=\"scale(0.015625)\"/>\n      <path d=\"M 544 1381 \nL 544 3500 \nL 1119 3500 \nL 1119 1403 \nQ 1119 906 1312 657 \nQ 1506 409 1894 409 \nQ 2359 409 2629 706 \nQ 2900 1003 2900 1516 \nL 2900 3500 \nL 3475 3500 \nL 3475 0 \nL 2900 0 \nL 2900 538 \nQ 2691 219 2414 64 \nQ 2138 -91 1772 -91 \nQ 1169 -91 856 284 \nQ 544 659 544 1381 \nz\nM 1991 3584 \nL 1991 3584 \nz\n\" id=\"DejaVuSans-75\" transform=\"scale(0.015625)\"/>\n      <path d=\"M 191 3500 \nL 800 3500 \nL 1894 563 \nL 2988 3500 \nL 3597 3500 \nL 2284 0 \nL 1503 0 \nL 191 3500 \nz\n\" id=\"DejaVuSans-76\" transform=\"scale(0.015625)\"/>\n     </defs>\n     <use xlink:href=\"#DejaVuSans-50\"/>\n     <use x=\"60.302734\" xlink:href=\"#DejaVuSans-52\"/>\n     <use x=\"129.785156\" xlink:href=\"#DejaVuSans-20\"/>\n     <use x=\"161.572266\" xlink:href=\"#DejaVuSans-63\"/>\n     <use x=\"216.552734\" xlink:href=\"#DejaVuSans-75\"/>\n     <use x=\"279.931641\" xlink:href=\"#DejaVuSans-72\"/>\n     <use x=\"321.044922\" xlink:href=\"#DejaVuSans-76\"/>\n     <use x=\"380.224609\" xlink:href=\"#DejaVuSans-65\"/>\n    </g>\n   </g>\n   <g id=\"legend_1\">\n    <g id=\"patch_7\">\n     <path d=\"M 215.238438 74.3525 \nL 254.22125 74.3525 \nQ 256.22125 74.3525 256.22125 72.3525 \nL 256.22125 29.318125 \nQ 256.22125 27.318125 254.22125 27.318125 \nL 215.238438 27.318125 \nQ 213.238438 27.318125 213.238438 29.318125 \nL 213.238438 72.3525 \nQ 213.238438 74.3525 215.238438 74.3525 \nz\n\" style=\"fill:#ffffff;opacity:0.8;stroke:#cccccc;stroke-linejoin:miter;\"/>\n    </g>\n    <g id=\"line2d_16\">\n     <path d=\"M 217.238438 35.416562 \nL 237.238438 35.416562 \n\" style=\"fill:none;stroke:#1f77b4;stroke-linecap:square;stroke-width:1.5;\"/>\n    </g>\n    <g id=\"line2d_17\"/>\n    <g id=\"text_16\">\n     <!-- A -->\n     <g transform=\"translate(245.238438 38.916562)scale(0.1 -0.1)\">\n      <defs>\n       <path d=\"M 2188 4044 \nL 1331 1722 \nL 3047 1722 \nL 2188 4044 \nz\nM 1831 4666 \nL 2547 4666 \nL 4325 0 \nL 3669 0 \nL 3244 1197 \nL 1141 1197 \nL 716 0 \nL 50 0 \nL 1831 4666 \nz\n\" id=\"DejaVuSans-41\" transform=\"scale(0.015625)\"/>\n      </defs>\n      <use xlink:href=\"#DejaVuSans-41\"/>\n     </g>\n    </g>\n    <g id=\"line2d_18\">\n     <path d=\"M 217.238438 50.094687 \nL 237.238438 50.094687 \n\" style=\"fill:none;stroke:#ff7f0e;stroke-linecap:square;stroke-width:1.5;\"/>\n    </g>\n    <g id=\"line2d_19\"/>\n    <g id=\"text_17\">\n     <!-- B -->\n     <g transform=\"translate(245.238438 53.594687)scale(0.1 -0.1)\">\n      <defs>\n       <path d=\"M 1259 2228 \nL 1259 519 \nL 2272 519 \nQ 2781 519 3026 730 \nQ 3272 941 3272 1375 \nQ 3272 1813 3026 2020 \nQ 2781 2228 2272 2228 \nL 1259 2228 \nz\nM 1259 4147 \nL 1259 2741 \nL 2194 2741 \nQ 2656 2741 2882 2914 \nQ 3109 3088 3109 3444 \nQ 3109 3797 2882 3972 \nQ 2656 4147 2194 4147 \nL 1259 4147 \nz\nM 628 4666 \nL 2241 4666 \nQ 2963 4666 3353 4366 \nQ 3744 4066 3744 3513 \nQ 3744 3084 3544 2831 \nQ 3344 2578 2956 2516 \nQ 3422 2416 3680 2098 \nQ 3938 1781 3938 1306 \nQ 3938 681 3513 340 \nQ 3088 0 2303 0 \nL 628 0 \nL 628 4666 \nz\n\" id=\"DejaVuSans-42\" transform=\"scale(0.015625)\"/>\n      </defs>\n      <use xlink:href=\"#DejaVuSans-42\"/>\n     </g>\n    </g>\n    <g id=\"line2d_20\">\n     <path d=\"M 217.238438 64.772812 \nL 237.238438 64.772812 \n\" style=\"fill:none;stroke:#2ca02c;stroke-linecap:square;stroke-width:1.5;\"/>\n    </g>\n    <g id=\"line2d_21\"/>\n    <g id=\"text_18\">\n     <!-- C -->\n     <g transform=\"translate(245.238438 68.272812)scale(0.1 -0.1)\">\n      <defs>\n       <path d=\"M 4122 4306 \nL 4122 3641 \nQ 3803 3938 3442 4084 \nQ 3081 4231 2675 4231 \nQ 1875 4231 1450 3742 \nQ 1025 3253 1025 2328 \nQ 1025 1406 1450 917 \nQ 1875 428 2675 428 \nQ 3081 428 3442 575 \nQ 3803 722 4122 1019 \nL 4122 359 \nQ 3791 134 3420 21 \nQ 3050 -91 2638 -91 \nQ 1578 -91 968 557 \nQ 359 1206 359 2328 \nQ 359 3453 968 4101 \nQ 1578 4750 2638 4750 \nQ 3056 4750 3426 4639 \nQ 3797 4528 4122 4306 \nz\n\" id=\"DejaVuSans-43\" transform=\"scale(0.015625)\"/>\n      </defs>\n      <use xlink:href=\"#DejaVuSans-43\"/>\n     </g>\n    </g>\n   </g>\n  </g>\n </g>\n <defs>\n  <clipPath id=\"p18330ccc1f\">\n   <rect height=\"217.44\" width=\"217.44\" x=\"43.78125\" y=\"22.318125\"/>\n  </clipPath>\n </defs>\n</svg>\n",
      "image/png": "[encoded data removed]"
     },
     "metadata": {
      "needs_background": "light"
     }
    }
   ],
   "source": [
    "plt.plot(recallA, precisionA, label='A')\n",
    "plt.plot(recallB, precisionB, label='B')\n",
    "plt.plot(recallC, precisionC, label='C')\n",
    "plt.gca().set_aspect('equal', adjustable='box')\n",
    "plt.title('PR curve')\n",
    "plt.xlabel('Recall')\n",
    "plt.ylabel('Precision')\n",
    "plt.xlim(-0.1,1.1)\n",
    "plt.ylim(-0.1,1.1)\n",
    "plt.legend()\n",
    "plt.show()"
   ]
  },
  {
   "cell_type": "markdown",
   "metadata": {},
   "source": [
    "#### (Accuracy around high score predictions to see the meaning of PR curves)  \n",
    "accuracy: B > A > C (this corresponds to PR-AUC)  "
   ]
  },
  {
   "cell_type": "code",
   "execution_count": 16,
   "metadata": {},
   "outputs": [
    {
     "output_type": "display_data",
     "data": {
      "text/plain": "    label         A\n64      0  0.996954\n8       0  0.980202\n87      1  0.944808\n88      1  0.927787\n61      1  0.926016",
      "text/html": "<div>\n<style scoped>\n    .dataframe tbody tr th:only-of-type {\n        vertical-align: middle;\n    }\n\n    .dataframe tbody tr th {\n        vertical-align: top;\n    }\n\n    .dataframe thead th {\n        text-align: right;\n    }\n</style>\n<table border=\"1\" class=\"dataframe\">\n  <thead>\n    <tr style=\"text-align: right;\">\n      <th></th>\n      <th>label</th>\n      <th>A</th>\n    </tr>\n  </thead>\n  <tbody>\n    <tr>\n      <th>64</th>\n      <td>0</td>\n      <td>0.996954</td>\n    </tr>\n    <tr>\n      <th>8</th>\n      <td>0</td>\n      <td>0.980202</td>\n    </tr>\n    <tr>\n      <th>87</th>\n      <td>1</td>\n      <td>0.944808</td>\n    </tr>\n    <tr>\n      <th>88</th>\n      <td>1</td>\n      <td>0.927787</td>\n    </tr>\n    <tr>\n      <th>61</th>\n      <td>1</td>\n      <td>0.926016</td>\n    </tr>\n  </tbody>\n</table>\n</div>"
     },
     "metadata": {}
    },
    {
     "output_type": "display_data",
     "data": {
      "text/plain": "    label         B\n41      0  0.991864\n68      1  0.991634\n74      1  0.967813\n91      1  0.959870\n86      1  0.934083",
      "text/html": "<div>\n<style scoped>\n    .dataframe tbody tr th:only-of-type {\n        vertical-align: middle;\n    }\n\n    .dataframe tbody tr th {\n        vertical-align: top;\n    }\n\n    .dataframe thead th {\n        text-align: right;\n    }\n</style>\n<table border=\"1\" class=\"dataframe\">\n  <thead>\n    <tr style=\"text-align: right;\">\n      <th></th>\n      <th>label</th>\n      <th>B</th>\n    </tr>\n  </thead>\n  <tbody>\n    <tr>\n      <th>41</th>\n      <td>0</td>\n      <td>0.991864</td>\n    </tr>\n    <tr>\n      <th>68</th>\n      <td>1</td>\n      <td>0.991634</td>\n    </tr>\n    <tr>\n      <th>74</th>\n      <td>1</td>\n      <td>0.967813</td>\n    </tr>\n    <tr>\n      <th>91</th>\n      <td>1</td>\n      <td>0.959870</td>\n    </tr>\n    <tr>\n      <th>86</th>\n      <td>1</td>\n      <td>0.934083</td>\n    </tr>\n  </tbody>\n</table>\n</div>"
     },
     "metadata": {}
    },
    {
     "output_type": "display_data",
     "data": {
      "text/plain": "    label         C\n70      1  0.981400\n68      1  0.961010\n42      1  0.956794\n61      1  0.954833\n87      1  0.946145",
      "text/html": "<div>\n<style scoped>\n    .dataframe tbody tr th:only-of-type {\n        vertical-align: middle;\n    }\n\n    .dataframe tbody tr th {\n        vertical-align: top;\n    }\n\n    .dataframe thead th {\n        text-align: right;\n    }\n</style>\n<table border=\"1\" class=\"dataframe\">\n  <thead>\n    <tr style=\"text-align: right;\">\n      <th></th>\n      <th>label</th>\n      <th>C</th>\n    </tr>\n  </thead>\n  <tbody>\n    <tr>\n      <th>70</th>\n      <td>1</td>\n      <td>0.981400</td>\n    </tr>\n    <tr>\n      <th>68</th>\n      <td>1</td>\n      <td>0.961010</td>\n    </tr>\n    <tr>\n      <th>42</th>\n      <td>1</td>\n      <td>0.956794</td>\n    </tr>\n    <tr>\n      <th>61</th>\n      <td>1</td>\n      <td>0.954833</td>\n    </tr>\n    <tr>\n      <th>87</th>\n      <td>1</td>\n      <td>0.946145</td>\n    </tr>\n  </tbody>\n</table>\n</div>"
     },
     "metadata": {}
    }
   ],
   "source": [
    "display(df[['label','A']].sort_values(by='A', ascending=False).head())\n",
    "display(df[['label','B']].sort_values(by='B', ascending=False).head())\n",
    "display(df[['label','C']].sort_values(by='C', ascending=False).head())"
   ]
  },
  {
   "cell_type": "code",
   "execution_count": null,
   "metadata": {},
   "outputs": [],
   "source": []
  }
 ],
 "metadata": {
  "kernelspec": {
   "name": "python3",
   "display_name": "Python 3.8.8 64-bit ('ds2021': conda)"
  },
  "language_info": {
   "codemirror_mode": {
    "name": "ipython",
    "version": 3
   },
   "file_extension": ".py",
   "mimetype": "text/x-python",
   "name": "python",
   "nbconvert_exporter": "python",
   "pygments_lexer": "ipython3",
   "version": "3.8.8"
  },
  "metadata": {
   "interpreter": {
    "hash": "e8880c58ea65068827af19aa57df99e07da1109ce0dc5e321474e5f3a08d850b"
   }
  },
  "interpreter": {
   "hash": "e8880c58ea65068827af19aa57df99e07da1109ce0dc5e321474e5f3a08d850b"
  }
 },
 "nbformat": 4,
 "nbformat_minor": 4
}