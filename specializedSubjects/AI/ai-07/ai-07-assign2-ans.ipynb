{
 "cells": [
  {
   "cell_type": "markdown",
   "metadata": {},
   "source": [
    "### AI-07 Assignment 2   "
   ]
  },
  {
   "cell_type": "markdown",
   "metadata": {},
   "source": [
    "#### Import libraries  "
   ]
  },
  {
   "cell_type": "code",
   "execution_count": 7,
   "metadata": {},
   "outputs": [],
   "source": [
    "import numpy as np\n",
    "import pandas as pd\n",
    "import statsmodels.api as sm\n",
    "from sklearn.model_selection import KFold\n",
    "from sklearn.metrics import mean_absolute_error\n",
    "import matplotlib.pyplot as plt"
   ]
  },
  {
   "cell_type": "markdown",
   "metadata": {},
   "source": [
    "#### Read CSV file  "
   ]
  },
  {
   "cell_type": "code",
   "execution_count": 8,
   "metadata": {},
   "outputs": [
    {
     "name": "stdout",
     "output_type": "stream",
     "text": [
      "(100, 51)\n",
      "<class 'pandas.core.frame.DataFrame'>\n",
      "RangeIndex: 100 entries, 0 to 99\n",
      "Data columns (total 51 columns):\n",
      " #   Column  Non-Null Count  Dtype  \n",
      "---  ------  --------------  -----  \n",
      " 0   x0      100 non-null    float64\n",
      " 1   x1      100 non-null    float64\n",
      " 2   x2      100 non-null    float64\n",
      " 3   x3      100 non-null    float64\n",
      " 4   x4      100 non-null    float64\n",
      " 5   x5      100 non-null    float64\n",
      " 6   x6      100 non-null    float64\n",
      " 7   x7      100 non-null    float64\n",
      " 8   x8      100 non-null    float64\n",
      " 9   x9      100 non-null    float64\n",
      " 10  x10     100 non-null    float64\n",
      " 11  x11     100 non-null    float64\n",
      " 12  x12     100 non-null    float64\n",
      " 13  x13     100 non-null    float64\n",
      " 14  x14     100 non-null    float64\n",
      " 15  x15     100 non-null    float64\n",
      " 16  x16     100 non-null    float64\n",
      " 17  x17     100 non-null    float64\n",
      " 18  x18     100 non-null    float64\n",
      " 19  x19     100 non-null    float64\n",
      " 20  x20     100 non-null    float64\n",
      " 21  x21     100 non-null    float64\n",
      " 22  x22     100 non-null    float64\n",
      " 23  x23     100 non-null    float64\n",
      " 24  x24     100 non-null    float64\n",
      " 25  x25     100 non-null    float64\n",
      " 26  x26     100 non-null    float64\n",
      " 27  x27     100 non-null    float64\n",
      " 28  x28     100 non-null    float64\n",
      " 29  x29     100 non-null    float64\n",
      " 30  x30     100 non-null    float64\n",
      " 31  x31     100 non-null    float64\n",
      " 32  x32     100 non-null    float64\n",
      " 33  x33     100 non-null    float64\n",
      " 34  x34     100 non-null    float64\n",
      " 35  x35     100 non-null    float64\n",
      " 36  x36     100 non-null    float64\n",
      " 37  x37     100 non-null    float64\n",
      " 38  x38     100 non-null    float64\n",
      " 39  x39     100 non-null    float64\n",
      " 40  x40     100 non-null    float64\n",
      " 41  x41     100 non-null    float64\n",
      " 42  x42     100 non-null    float64\n",
      " 43  x43     100 non-null    float64\n",
      " 44  x44     100 non-null    float64\n",
      " 45  x45     100 non-null    float64\n",
      " 46  x46     100 non-null    float64\n",
      " 47  x47     100 non-null    float64\n",
      " 48  x48     100 non-null    float64\n",
      " 49  x49     100 non-null    float64\n",
      " 50  y       100 non-null    float64\n",
      "dtypes: float64(51)\n",
      "memory usage: 40.0 KB\n",
      "None\n"
     ]
    },
    {
     "data": {
      "text/html": [
       "<div>\n",
       "<style scoped>\n",
       "    .dataframe tbody tr th:only-of-type {\n",
       "        vertical-align: middle;\n",
       "    }\n",
       "\n",
       "    .dataframe tbody tr th {\n",
       "        vertical-align: top;\n",
       "    }\n",
       "\n",
       "    .dataframe thead th {\n",
       "        text-align: right;\n",
       "    }\n",
       "</style>\n",
       "<table border=\"1\" class=\"dataframe\">\n",
       "  <thead>\n",
       "    <tr style=\"text-align: right;\">\n",
       "      <th></th>\n",
       "      <th>x0</th>\n",
       "      <th>x1</th>\n",
       "      <th>x2</th>\n",
       "      <th>x3</th>\n",
       "      <th>x4</th>\n",
       "      <th>x5</th>\n",
       "      <th>x6</th>\n",
       "      <th>x7</th>\n",
       "      <th>x8</th>\n",
       "      <th>x9</th>\n",
       "      <th>...</th>\n",
       "      <th>x41</th>\n",
       "      <th>x42</th>\n",
       "      <th>x43</th>\n",
       "      <th>x44</th>\n",
       "      <th>x45</th>\n",
       "      <th>x46</th>\n",
       "      <th>x47</th>\n",
       "      <th>x48</th>\n",
       "      <th>x49</th>\n",
       "      <th>y</th>\n",
       "    </tr>\n",
       "  </thead>\n",
       "  <tbody>\n",
       "    <tr>\n",
       "      <th>0</th>\n",
       "      <td>0.4</td>\n",
       "      <td>-0.3</td>\n",
       "      <td>2.4</td>\n",
       "      <td>-0.3</td>\n",
       "      <td>0.1</td>\n",
       "      <td>1.6</td>\n",
       "      <td>-0.9</td>\n",
       "      <td>-0.6</td>\n",
       "      <td>0.2</td>\n",
       "      <td>-0.3</td>\n",
       "      <td>...</td>\n",
       "      <td>1.1</td>\n",
       "      <td>-0.4</td>\n",
       "      <td>-0.8</td>\n",
       "      <td>0.3</td>\n",
       "      <td>2.0</td>\n",
       "      <td>-0.5</td>\n",
       "      <td>-1.3</td>\n",
       "      <td>0.1</td>\n",
       "      <td>0.5</td>\n",
       "      <td>1.4</td>\n",
       "    </tr>\n",
       "    <tr>\n",
       "      <th>1</th>\n",
       "      <td>0.7</td>\n",
       "      <td>0.1</td>\n",
       "      <td>-0.4</td>\n",
       "      <td>0.0</td>\n",
       "      <td>-0.1</td>\n",
       "      <td>0.8</td>\n",
       "      <td>-0.6</td>\n",
       "      <td>-0.0</td>\n",
       "      <td>-0.1</td>\n",
       "      <td>-0.1</td>\n",
       "      <td>...</td>\n",
       "      <td>0.2</td>\n",
       "      <td>-0.1</td>\n",
       "      <td>-1.1</td>\n",
       "      <td>-0.1</td>\n",
       "      <td>-1.3</td>\n",
       "      <td>0.7</td>\n",
       "      <td>0.1</td>\n",
       "      <td>0.6</td>\n",
       "      <td>1.0</td>\n",
       "      <td>15.2</td>\n",
       "    </tr>\n",
       "    <tr>\n",
       "      <th>2</th>\n",
       "      <td>1.4</td>\n",
       "      <td>0.2</td>\n",
       "      <td>-1.3</td>\n",
       "      <td>-0.7</td>\n",
       "      <td>-0.6</td>\n",
       "      <td>1.2</td>\n",
       "      <td>-0.1</td>\n",
       "      <td>2.3</td>\n",
       "      <td>0.7</td>\n",
       "      <td>0.1</td>\n",
       "      <td>...</td>\n",
       "      <td>1.2</td>\n",
       "      <td>-1.3</td>\n",
       "      <td>0.8</td>\n",
       "      <td>0.2</td>\n",
       "      <td>0.1</td>\n",
       "      <td>0.5</td>\n",
       "      <td>-0.6</td>\n",
       "      <td>0.8</td>\n",
       "      <td>0.1</td>\n",
       "      <td>10.4</td>\n",
       "    </tr>\n",
       "    <tr>\n",
       "      <th>3</th>\n",
       "      <td>-1.4</td>\n",
       "      <td>0.9</td>\n",
       "      <td>-0.2</td>\n",
       "      <td>-0.6</td>\n",
       "      <td>-0.2</td>\n",
       "      <td>2.1</td>\n",
       "      <td>0.3</td>\n",
       "      <td>0.7</td>\n",
       "      <td>0.8</td>\n",
       "      <td>1.0</td>\n",
       "      <td>...</td>\n",
       "      <td>-0.7</td>\n",
       "      <td>0.2</td>\n",
       "      <td>-0.3</td>\n",
       "      <td>-0.5</td>\n",
       "      <td>-0.1</td>\n",
       "      <td>1.8</td>\n",
       "      <td>-0.8</td>\n",
       "      <td>-0.3</td>\n",
       "      <td>1.4</td>\n",
       "      <td>1.6</td>\n",
       "    </tr>\n",
       "    <tr>\n",
       "      <th>4</th>\n",
       "      <td>0.8</td>\n",
       "      <td>0.2</td>\n",
       "      <td>-1.8</td>\n",
       "      <td>0.6</td>\n",
       "      <td>0.5</td>\n",
       "      <td>1.0</td>\n",
       "      <td>-0.8</td>\n",
       "      <td>2.5</td>\n",
       "      <td>-1.2</td>\n",
       "      <td>0.7</td>\n",
       "      <td>...</td>\n",
       "      <td>0.5</td>\n",
       "      <td>-1.0</td>\n",
       "      <td>0.6</td>\n",
       "      <td>-1.7</td>\n",
       "      <td>-0.8</td>\n",
       "      <td>-0.9</td>\n",
       "      <td>0.5</td>\n",
       "      <td>0.7</td>\n",
       "      <td>-1.3</td>\n",
       "      <td>-8.5</td>\n",
       "    </tr>\n",
       "  </tbody>\n",
       "</table>\n",
       "<p>5 rows × 51 columns</p>\n",
       "</div>"
      ],
      "text/plain": [
       "    x0   x1   x2   x3   x4   x5   x6   x7   x8   x9  ...  x41  x42  x43  x44  \\\n",
       "0  0.4 -0.3  2.4 -0.3  0.1  1.6 -0.9 -0.6  0.2 -0.3  ...  1.1 -0.4 -0.8  0.3   \n",
       "1  0.7  0.1 -0.4  0.0 -0.1  0.8 -0.6 -0.0 -0.1 -0.1  ...  0.2 -0.1 -1.1 -0.1   \n",
       "2  1.4  0.2 -1.3 -0.7 -0.6  1.2 -0.1  2.3  0.7  0.1  ...  1.2 -1.3  0.8  0.2   \n",
       "3 -1.4  0.9 -0.2 -0.6 -0.2  2.1  0.3  0.7  0.8  1.0  ... -0.7  0.2 -0.3 -0.5   \n",
       "4  0.8  0.2 -1.8  0.6  0.5  1.0 -0.8  2.5 -1.2  0.7  ...  0.5 -1.0  0.6 -1.7   \n",
       "\n",
       "   x45  x46  x47  x48  x49     y  \n",
       "0  2.0 -0.5 -1.3  0.1  0.5   1.4  \n",
       "1 -1.3  0.7  0.1  0.6  1.0  15.2  \n",
       "2  0.1  0.5 -0.6  0.8  0.1  10.4  \n",
       "3 -0.1  1.8 -0.8 -0.3  1.4   1.6  \n",
       "4 -0.8 -0.9  0.5  0.7 -1.3  -8.5  \n",
       "\n",
       "[5 rows x 51 columns]"
      ]
     },
     "metadata": {},
     "output_type": "display_data"
    }
   ],
   "source": [
    "csv_in = 'reg100x50.csv'\n",
    "df = pd.read_csv(csv_in, delimiter=',', skiprows=0, header=0)\n",
    "print(df.shape)\n",
    "print(df.info())\n",
    "display(df.head())"
   ]
  },
  {
   "cell_type": "markdown",
   "metadata": {},
   "source": [
    "#### Estimation of generalization performance using 5-fold cross validation  "
   ]
  },
  {
   "cell_type": "markdown",
   "metadata": {},
   "source": [
    "##### Firstly, prepare for data with 25 variables ...  "
   ]
  },
  {
   "cell_type": "code",
   "execution_count": 9,
   "metadata": {},
   "outputs": [
    {
     "name": "stdout",
     "output_type": "stream",
     "text": [
      "(100, 25) (100,)\n"
     ]
    }
   ],
   "source": [
    "Xh = df.loc[:, 'x25':'x49']  # explanatory variables\n",
    "yh = df['y']  # objective variable\n",
    "print(Xh.shape, yh.shape)"
   ]
  },
  {
   "cell_type": "markdown",
   "metadata": {},
   "source": [
    "##### Then execute regression calculation within CV loop  "
   ]
  },
  {
   "cell_type": "code",
   "execution_count": 10,
   "metadata": {},
   "outputs": [
    {
     "name": "stdout",
     "output_type": "stream",
     "text": [
      "(75,) (25,)\n",
      "(75,) (25,)\n",
      "(75,) (25,)\n",
      "(75,) (25,)\n"
     ]
    },
    {
     "name": "stderr",
     "output_type": "stream",
     "text": [
      "C:\\Users\\shugo\\miniconda3\\envs\\ds2020\\lib\\site-packages\\ipykernel_launcher.py:3: DeprecationWarning: The default dtype for empty Series will be 'object' instead of 'float64' in a future version. Specify a dtype explicitly to silence this warning.\n",
      "  This is separate from the ipykernel package so we can avoid doing imports until\n"
     ]
    }
   ],
   "source": [
    "skf = KFold(n_splits=4)\n",
    "mae_all = []\n",
    "pred_all = pd.Series([])\n",
    "for train, test in skf.split(Xh, yh):\n",
    "    print(train.shape, test.shape)  # debug\n",
    "    Xh_train_c = sm.add_constant(Xh.loc[train])\n",
    "    model = sm.OLS(yh[train], Xh_train_c)\n",
    "    results = model.fit()\n",
    "    Xh_test_c = sm.add_constant(Xh.loc[test])\n",
    "    yh_test_pred = results.predict(Xh_test_c)\n",
    "    mae = mean_absolute_error(yh_test_pred,yh[test])\n",
    "    mae_all.append(mae)\n",
    "    pred_all = pd.concat([pred_all,yh_test_pred])"
   ]
  },
  {
   "cell_type": "code",
   "execution_count": 11,
   "metadata": {},
   "outputs": [
    {
     "name": "stdout",
     "output_type": "stream",
     "text": [
      "4.855702790390041 [3.355226857221668, 5.039189356330484, 5.747926726596448, 5.280468221411566]\n",
      "4.855702790390041\n"
     ]
    }
   ],
   "source": [
    "print(np.mean(mae_all), mae_all)\n",
    "# or\n",
    "print(mean_absolute_error(pred_all,yh))"
   ]
  },
  {
   "cell_type": "markdown",
   "metadata": {},
   "source": [
    "**Ans. 4.86**  "
   ]
  },
  {
   "cell_type": "code",
   "execution_count": 12,
   "metadata": {},
   "outputs": [
    {
     "data": {
      "image/png": "[encoded data removed]",
      "text/plain": [
       "<Figure size 432x288 with 1 Axes>"
      ]
     },
     "metadata": {
      "needs_background": "light"
     },
     "output_type": "display_data"
    }
   ],
   "source": [
    "#print(pred_all.shape, yh.shape)\n",
    "plt.title('Test by 5-fold CV (25 variables)')\n",
    "plt.xlabel('Pred')\n",
    "plt.ylabel('True')\n",
    "plt.scatter(pred_all, yh)\n",
    "plt.xlim(-25,25)\n",
    "plt.ylim(-25,25)\n",
    "plt.plot([-25,25],[-25,25])\n",
    "plt.gca().set_aspect('equal', adjustable='box')\n",
    "plt.show()"
   ]
  }
 ],
 "metadata": {
  "kernelspec": {
   "display_name": "Python 3",
   "language": "python",
   "name": "python3"
  },
  "language_info": {
   "codemirror_mode": {
    "name": "ipython",
    "version": 3
   },
   "file_extension": ".py",
   "mimetype": "text/x-python",
   "name": "python",
   "nbconvert_exporter": "python",
   "pygments_lexer": "ipython3",
   "version": "3.6.10"
  }
 },
 "nbformat": 4,
 "nbformat_minor": 4
}
