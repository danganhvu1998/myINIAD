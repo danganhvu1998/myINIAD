{
 "cells": [
  {
   "cell_type": "code",
   "execution_count": 97,
   "metadata": {},
   "outputs": [],
   "source": [
    "import numpy as np\n",
    "import pandas as pd"
   ]
  },
  {
   "cell_type": "code",
   "execution_count": 98,
   "metadata": {},
   "outputs": [
    {
     "output_type": "stream",
     "name": "stdout",
     "text": "[ 1  2  3  5  6  7  8  9 10]\n"
    }
   ],
   "source": [
    "nums = np.array([1 ,2, 3, 5, 6, 7, 8, 9, 10])\n",
    "print(nums)"
   ]
  },
  {
   "cell_type": "markdown",
   "metadata": {},
   "source": [
    "+ Create an array without initializing entries.\n",
    "    + A = np.empty(5) → a 1d array with 5 elements (random values)\n",
    "    + A = np.empty((2,3)) → a 3x2 2d array (random values)\n",
    "+ Create an array and initialize entries.\n",
    "    + A = np.zeros((2,3)) → a 2x3 2d array setting values to zero\n",
    "    + A = np.ones((2,3)) → a 2x3 2d array setting values to one\n",
    "    + A = np.identity(3) → a 3x3 2d identity array with its main diagonal set to one, and all other elements 0."
   ]
  },
  {
   "cell_type": "code",
   "execution_count": 99,
   "metadata": {},
   "outputs": [
    {
     "output_type": "stream",
     "name": "stdout",
     "text": "[ 0  1  2  3  4  5  6  7  8  9 10 11 12 13 14]\n[[ 0  1  2]\n [ 3  4  5]\n [ 6  7  8]\n [ 9 10 11]\n [12 13 14]]\n[ 1  2  3  4  5  6  7  8  9 10 11 12 13 14 15]\n[[ 1  2  3]\n [ 4  5  6]\n [ 7  8  9]\n [10 11 12]\n [13 14 15]]\n[0.  0.5 1.  1.5 2.  2.5 3.  3.5 4.  4.5 5.  5.5 6.  6.5 7. ]\n[[0.  0.5 1. ]\n [1.5 2.  2.5]\n [3.  3.5 4. ]\n [4.5 5.  5.5]\n [6.  6.5 7. ]]\n"
    }
   ],
   "source": [
    "# Range and reshape\n",
    "nums1d = np.arange(15)\n",
    "nums2d = nums1d.reshape(-1,3)\n",
    "print(nums1d)\n",
    "print(nums2d)\n",
    "\n",
    "nums1d = np.arange(1, 16)\n",
    "nums2d = nums1d.reshape(-1,3)\n",
    "print(nums1d)\n",
    "print(nums2d)\n",
    "\n",
    "nums1d = np.arange(0, 7.5, 0.5)\n",
    "nums2d = nums1d.reshape(-1,3)\n",
    "print(nums1d)\n",
    "print(nums2d)"
   ]
  },
  {
   "cell_type": "code",
   "execution_count": 100,
   "metadata": {},
   "outputs": [
    {
     "output_type": "stream",
     "name": "stdout",
     "text": "[[0 1 2]\n [3 4 5]]\n[[0 1]\n [2 3]\n [4 5]]\n[[10 13]\n [28 40]]\n"
    }
   ],
   "source": [
    "# Matrix Multilication\n",
    "nums1 = np.arange(6).reshape(2, 3)\n",
    "nums2 = np.arange(6).reshape(3, 2)\n",
    "nums3 = np.dot(nums1, nums2)\n",
    "print(nums1)\n",
    "print(nums2)\n",
    "print(nums3)"
   ]
  },
  {
   "cell_type": "code",
   "execution_count": 101,
   "metadata": {},
   "outputs": [
    {
     "output_type": "stream",
     "name": "stdout",
     "text": "[2 2 2 3 4 5 6 7 8 9]\n[2 2 2 3 4 5 6 7 8 9]\n[0 1 2 3 4 5 6 7 8 9]\n"
    }
   ],
   "source": [
    "nums1 = np.arange(10)\n",
    "nums2 = nums1\n",
    "nums3 = nums1.copy()\n",
    "nums1[1] = 2\n",
    "nums1[0] = 2\n",
    "print(nums1)\n",
    "print(nums2)\n",
    "print(nums3)"
   ]
  },
  {
   "cell_type": "markdown",
   "metadata": {},
   "source": [
    "## Computation of Statistical Measurements\n",
    "\n",
    "+ Let dat be a 2d array:\n",
    "    + np.function(dat, axis=0) ←Column-wise statistic\n",
    "    + np.function(dat, axis=1) ←Row-wise statistic\n",
    "+ Example of「function」\n",
    "    + the minimum of an array: amin\n",
    "    + the maximum of an array: amax\n",
    "    + the average of an array: mean\n",
    "    + the median of an array: median\n",
    "    + standard deviation (population) of an array: std\n",
    "    + summation of an array: sum\n",
    "    + Compute unbiased standard deviation, using np.std(dat, ddof=1, axis=0)"
   ]
  },
  {
   "cell_type": "code",
   "execution_count": 102,
   "metadata": {},
   "outputs": [
    {
     "output_type": "stream",
     "name": "stdout",
     "text": "[[ 0  1  2  3  4]\n [ 5  6  7  8  9]\n [10 11 12 13 14]\n [15 16 17 18 19]]\n[0 1 2 3 4]\n[ 0  5 10 15]\n[ 2.  7. 12. 17.]\n[30 34 38 42 46]\n"
    }
   ],
   "source": [
    "nums = np.arange(20).reshape(4, 5)\n",
    "print(nums)\n",
    "print(np.amin(nums, axis=0))\n",
    "print(np.amin(nums, axis=1))\n",
    "print(np.median(nums, axis=1))\n",
    "print(np.sum(nums, axis=0))"
   ]
  },
  {
   "cell_type": "code",
   "execution_count": 103,
   "metadata": {},
   "outputs": [
    {
     "output_type": "display_data",
     "data": {
      "text/plain": "  CHANNEL REGION    FRESH  MILK  GROCERY  FROZEN  DET_PAPER  DELICA\n0  Retail  Other      NaN  9656     7561     NaN       2674  1338.0\n1  Retail  Other   7057.0  9810     9568  1762.0       3293     NaN\n2  Retail  Other   6353.0  8808     7684  2405.0       3516  7844.0\n3  Horeca  Other  13265.0  1196     4221  6404.0        507  1788.0\n4  Retail  Other  22615.0  5410     7198  3915.0       1777  5185.0",
      "text/html": "<div>\n<style scoped>\n    .dataframe tbody tr th:only-of-type {\n        vertical-align: middle;\n    }\n\n    .dataframe tbody tr th {\n        vertical-align: top;\n    }\n\n    .dataframe thead th {\n        text-align: right;\n    }\n</style>\n<table border=\"1\" class=\"dataframe\">\n  <thead>\n    <tr style=\"text-align: right;\">\n      <th></th>\n      <th>CHANNEL</th>\n      <th>REGION</th>\n      <th>FRESH</th>\n      <th>MILK</th>\n      <th>GROCERY</th>\n      <th>FROZEN</th>\n      <th>DET_PAPER</th>\n      <th>DELICA</th>\n    </tr>\n  </thead>\n  <tbody>\n    <tr>\n      <th>0</th>\n      <td>Retail</td>\n      <td>Other</td>\n      <td>NaN</td>\n      <td>9656</td>\n      <td>7561</td>\n      <td>NaN</td>\n      <td>2674</td>\n      <td>1338.0</td>\n    </tr>\n    <tr>\n      <th>1</th>\n      <td>Retail</td>\n      <td>Other</td>\n      <td>7057.0</td>\n      <td>9810</td>\n      <td>9568</td>\n      <td>1762.0</td>\n      <td>3293</td>\n      <td>NaN</td>\n    </tr>\n    <tr>\n      <th>2</th>\n      <td>Retail</td>\n      <td>Other</td>\n      <td>6353.0</td>\n      <td>8808</td>\n      <td>7684</td>\n      <td>2405.0</td>\n      <td>3516</td>\n      <td>7844.0</td>\n    </tr>\n    <tr>\n      <th>3</th>\n      <td>Horeca</td>\n      <td>Other</td>\n      <td>13265.0</td>\n      <td>1196</td>\n      <td>4221</td>\n      <td>6404.0</td>\n      <td>507</td>\n      <td>1788.0</td>\n    </tr>\n    <tr>\n      <th>4</th>\n      <td>Retail</td>\n      <td>Other</td>\n      <td>22615.0</td>\n      <td>5410</td>\n      <td>7198</td>\n      <td>3915.0</td>\n      <td>1777</td>\n      <td>5185.0</td>\n    </tr>\n  </tbody>\n</table>\n</div>"
     },
     "metadata": {}
    },
    {
     "output_type": "display_data",
     "data": {
      "text/plain": "0       9656\n1       9810\n2       8808\n3       1196\n4       5410\n       ...  \n435    12051\n436     1431\n437    15488\n438     1981\n439     1698\nName: MILK, Length: 440, dtype: int64"
     },
     "metadata": {}
    },
    {
     "output_type": "display_data",
     "data": {
      "text/plain": "CHANNEL      Retail\nREGION        Other\nFRESH          6353\nMILK           8808\nGROCERY        7684\nFROZEN         2405\nDET_PAPER      3516\nDELICA         7844\nName: 2, dtype: object"
     },
     "metadata": {}
    }
   ],
   "source": [
    "df = pd.read_csv('pandas_training_missing-utf8.csv', delimiter=',', skiprows=13, header=0)\n",
    "display(df.head(5))\n",
    "display(df['MILK'])\n",
    "display(df.loc[2])"
   ]
  },
  {
   "cell_type": "code",
   "execution_count": 104,
   "metadata": {},
   "outputs": [
    {
     "output_type": "display_data",
     "data": {
      "text/plain": "     FRESH  MILK  GROCERY  FROZEN\n1   7057.0  9810     9568  1762.0\n2   6353.0  8808     7684  2405.0\n3  13265.0  1196     4221  6404.0\n4  22615.0  5410     7198  3915.0\n5   9413.0  8259     5126   666.0",
      "text/html": "<div>\n<style scoped>\n    .dataframe tbody tr th:only-of-type {\n        vertical-align: middle;\n    }\n\n    .dataframe tbody tr th {\n        vertical-align: top;\n    }\n\n    .dataframe thead th {\n        text-align: right;\n    }\n</style>\n<table border=\"1\" class=\"dataframe\">\n  <thead>\n    <tr style=\"text-align: right;\">\n      <th></th>\n      <th>FRESH</th>\n      <th>MILK</th>\n      <th>GROCERY</th>\n      <th>FROZEN</th>\n    </tr>\n  </thead>\n  <tbody>\n    <tr>\n      <th>1</th>\n      <td>7057.0</td>\n      <td>9810</td>\n      <td>9568</td>\n      <td>1762.0</td>\n    </tr>\n    <tr>\n      <th>2</th>\n      <td>6353.0</td>\n      <td>8808</td>\n      <td>7684</td>\n      <td>2405.0</td>\n    </tr>\n    <tr>\n      <th>3</th>\n      <td>13265.0</td>\n      <td>1196</td>\n      <td>4221</td>\n      <td>6404.0</td>\n    </tr>\n    <tr>\n      <th>4</th>\n      <td>22615.0</td>\n      <td>5410</td>\n      <td>7198</td>\n      <td>3915.0</td>\n    </tr>\n    <tr>\n      <th>5</th>\n      <td>9413.0</td>\n      <td>8259</td>\n      <td>5126</td>\n      <td>666.0</td>\n    </tr>\n  </tbody>\n</table>\n</div>"
     },
     "metadata": {}
    },
    {
     "output_type": "display_data",
     "data": {
      "text/plain": "FRESH      1283078.0\nMILK        823052.0\nGROCERY    1107560.0\nFROZEN      281344.0\ndtype: float64"
     },
     "metadata": {}
    },
    {
     "output_type": "display_data",
     "data": {
      "text/plain": "     FRESH  MILK  GROCERY  FROZEN  DET_PAPER  DELICA\n1   7057.0  9810     9568  1762.0       3293     NaN\n2   6353.0  8808     7684  2405.0       3516  7844.0\n3  13265.0  1196     4221  6404.0        507  1788.0\n4  22615.0  5410     7198  3915.0       1777  5185.0\n5   9413.0  8259     5126   666.0       1795  1451.0",
      "text/html": "<div>\n<style scoped>\n    .dataframe tbody tr th:only-of-type {\n        vertical-align: middle;\n    }\n\n    .dataframe tbody tr th {\n        vertical-align: top;\n    }\n\n    .dataframe thead th {\n        text-align: right;\n    }\n</style>\n<table border=\"1\" class=\"dataframe\">\n  <thead>\n    <tr style=\"text-align: right;\">\n      <th></th>\n      <th>FRESH</th>\n      <th>MILK</th>\n      <th>GROCERY</th>\n      <th>FROZEN</th>\n      <th>DET_PAPER</th>\n      <th>DELICA</th>\n    </tr>\n  </thead>\n  <tbody>\n    <tr>\n      <th>1</th>\n      <td>7057.0</td>\n      <td>9810</td>\n      <td>9568</td>\n      <td>1762.0</td>\n      <td>3293</td>\n      <td>NaN</td>\n    </tr>\n    <tr>\n      <th>2</th>\n      <td>6353.0</td>\n      <td>8808</td>\n      <td>7684</td>\n      <td>2405.0</td>\n      <td>3516</td>\n      <td>7844.0</td>\n    </tr>\n    <tr>\n      <th>3</th>\n      <td>13265.0</td>\n      <td>1196</td>\n      <td>4221</td>\n      <td>6404.0</td>\n      <td>507</td>\n      <td>1788.0</td>\n    </tr>\n    <tr>\n      <th>4</th>\n      <td>22615.0</td>\n      <td>5410</td>\n      <td>7198</td>\n      <td>3915.0</td>\n      <td>1777</td>\n      <td>5185.0</td>\n    </tr>\n    <tr>\n      <th>5</th>\n      <td>9413.0</td>\n      <td>8259</td>\n      <td>5126</td>\n      <td>666.0</td>\n      <td>1795</td>\n      <td>1451.0</td>\n    </tr>\n  </tbody>\n</table>\n</div>"
     },
     "metadata": {}
    },
    {
     "output_type": "display_data",
     "data": {
      "text/plain": "FRESH        1294672.0\nMILK          830831.0\nGROCERY      1119704.0\nFROZEN        284596.0\nDET_PAPER     451189.0\nDELICA        200697.0\ndtype: float64"
     },
     "metadata": {}
    }
   ],
   "source": [
    "df2 = df.iloc[1:100, 2:6]\n",
    "display(df2.head())\n",
    "display(df2.sum(axis=0))\n",
    "df2 = df.loc[1:100, 'FRESH':'DELICA']\n",
    "display(df2.head())\n",
    "display(df2.sum(axis=0))"
   ]
  },
  {
   "cell_type": "code",
   "execution_count": 105,
   "metadata": {},
   "outputs": [
    {
     "output_type": "stream",
     "name": "stdout",
     "text": "7057.0 7057.0\n"
    }
   ],
   "source": [
    " print(df.iat[1, 2], df.at[1, 'FRESH'])"
   ]
  },
  {
   "cell_type": "markdown",
   "metadata": {},
   "source": [
    "## Examples of Conditions for Row/Column Extraction from DataFrame: df_part = df\\[Cond.\\]\n",
    "+ df\\['ColName'\\]==Val1\n",
    "    + Rows whose values in column \"ColName\" are consistent with Val1.\n",
    "+ df\\['ColName'\\]>Val1\n",
    "    + Rows whose values in column \"ColName\" are larger than Val1.\n",
    "+ df\\['ColName'\\].str.match(r'Regex')\n",
    "    + Rows whose values in column \"ColName\" match with a regular expression \"Regex\".\n",
    "+ df\\['ColName'\\].isin(\\['Val1', 'Val2', ...\\])\n",
    "    +Rows whose values in column \"ColName\" are either Val1, Val2, etc"
   ]
  },
  {
   "cell_type": "code",
   "execution_count": 106,
   "metadata": {},
   "outputs": [
    {
     "output_type": "display_data",
     "data": {
      "text/plain": "  CHANNEL REGION    FRESH  MILK  GROCERY  FROZEN  DET_PAPER  DELICA\n0  Retail  Other      NaN  9656     7561     NaN       2674  1338.0\n1  Retail  Other   7057.0  9810     9568  1762.0       3293     NaN\n2  Retail  Other   6353.0  8808     7684  2405.0       3516  7844.0\n4  Retail  Other  22615.0  5410     7198  3915.0       1777  5185.0\n5  Retail  Other   9413.0  8259     5126   666.0       1795  1451.0",
      "text/html": "<div>\n<style scoped>\n    .dataframe tbody tr th:only-of-type {\n        vertical-align: middle;\n    }\n\n    .dataframe tbody tr th {\n        vertical-align: top;\n    }\n\n    .dataframe thead th {\n        text-align: right;\n    }\n</style>\n<table border=\"1\" class=\"dataframe\">\n  <thead>\n    <tr style=\"text-align: right;\">\n      <th></th>\n      <th>CHANNEL</th>\n      <th>REGION</th>\n      <th>FRESH</th>\n      <th>MILK</th>\n      <th>GROCERY</th>\n      <th>FROZEN</th>\n      <th>DET_PAPER</th>\n      <th>DELICA</th>\n    </tr>\n  </thead>\n  <tbody>\n    <tr>\n      <th>0</th>\n      <td>Retail</td>\n      <td>Other</td>\n      <td>NaN</td>\n      <td>9656</td>\n      <td>7561</td>\n      <td>NaN</td>\n      <td>2674</td>\n      <td>1338.0</td>\n    </tr>\n    <tr>\n      <th>1</th>\n      <td>Retail</td>\n      <td>Other</td>\n      <td>7057.0</td>\n      <td>9810</td>\n      <td>9568</td>\n      <td>1762.0</td>\n      <td>3293</td>\n      <td>NaN</td>\n    </tr>\n    <tr>\n      <th>2</th>\n      <td>Retail</td>\n      <td>Other</td>\n      <td>6353.0</td>\n      <td>8808</td>\n      <td>7684</td>\n      <td>2405.0</td>\n      <td>3516</td>\n      <td>7844.0</td>\n    </tr>\n    <tr>\n      <th>4</th>\n      <td>Retail</td>\n      <td>Other</td>\n      <td>22615.0</td>\n      <td>5410</td>\n      <td>7198</td>\n      <td>3915.0</td>\n      <td>1777</td>\n      <td>5185.0</td>\n    </tr>\n    <tr>\n      <th>5</th>\n      <td>Retail</td>\n      <td>Other</td>\n      <td>9413.0</td>\n      <td>8259</td>\n      <td>5126</td>\n      <td>666.0</td>\n      <td>1795</td>\n      <td>1451.0</td>\n    </tr>\n  </tbody>\n</table>\n</div>"
     },
     "metadata": {}
    },
    {
     "output_type": "display_data",
     "data": {
      "text/plain": "    CHANNEL  REGION    FRESH  MILK  GROCERY   FROZEN  DET_PAPER  DELICA\n11   Retail   Other  13146.0  1124     4523   1420.0        549   497.0\n295  Retail  Oporto   7588.0  1897     5234    417.0       2208   254.0\n334  Retail  Oporto  16823.0   928     2743  11559.0        332  3486.0\n357  Retail   Other     37.0  1275    22272    137.0       6747   110.0",
      "text/html": "<div>\n<style scoped>\n    .dataframe tbody tr th:only-of-type {\n        vertical-align: middle;\n    }\n\n    .dataframe tbody tr th {\n        vertical-align: top;\n    }\n\n    .dataframe thead th {\n        text-align: right;\n    }\n</style>\n<table border=\"1\" class=\"dataframe\">\n  <thead>\n    <tr style=\"text-align: right;\">\n      <th></th>\n      <th>CHANNEL</th>\n      <th>REGION</th>\n      <th>FRESH</th>\n      <th>MILK</th>\n      <th>GROCERY</th>\n      <th>FROZEN</th>\n      <th>DET_PAPER</th>\n      <th>DELICA</th>\n    </tr>\n  </thead>\n  <tbody>\n    <tr>\n      <th>11</th>\n      <td>Retail</td>\n      <td>Other</td>\n      <td>13146.0</td>\n      <td>1124</td>\n      <td>4523</td>\n      <td>1420.0</td>\n      <td>549</td>\n      <td>497.0</td>\n    </tr>\n    <tr>\n      <th>295</th>\n      <td>Retail</td>\n      <td>Oporto</td>\n      <td>7588.0</td>\n      <td>1897</td>\n      <td>5234</td>\n      <td>417.0</td>\n      <td>2208</td>\n      <td>254.0</td>\n    </tr>\n    <tr>\n      <th>334</th>\n      <td>Retail</td>\n      <td>Oporto</td>\n      <td>16823.0</td>\n      <td>928</td>\n      <td>2743</td>\n      <td>11559.0</td>\n      <td>332</td>\n      <td>3486.0</td>\n    </tr>\n    <tr>\n      <th>357</th>\n      <td>Retail</td>\n      <td>Other</td>\n      <td>37.0</td>\n      <td>1275</td>\n      <td>22272</td>\n      <td>137.0</td>\n      <td>6747</td>\n      <td>110.0</td>\n    </tr>\n  </tbody>\n</table>\n</div>"
     },
     "metadata": {}
    },
    {
     "output_type": "display_data",
     "data": {
      "text/plain": "   CHANNEL REGION    FRESH  MILK  GROCERY   FROZEN  DET_PAPER  DELICA\n3   Horeca  Other  13265.0  1196     4221   6404.0        507  1788.0\n15  Horeca  Other  10253.0  1114     3821    397.0        964   412.0\n21  Horeca  Other   5567.0   871     2010   3383.0        375   569.0\n22  Horeca  Other  31276.0  1917     4469   9408.0       2381  4334.0\n26  Horeca  Other   9898.0   961     2861   3151.0        242   833.0\n27  Horeca  Other  14276.0   803     3045    485.0        100   518.0\n32  Horeca  Other  21632.0  1318     2886    266.0        918   405.0\n34  Horeca  Other   1502.0  1979     2262    425.0        483   395.0\n39  Horeca  Other  56159.0   555      902  10002.0        212  2916.0\n50  Horeca  Other   6269.0  1095     1980   3860.0        609  2162.0",
      "text/html": "<div>\n<style scoped>\n    .dataframe tbody tr th:only-of-type {\n        vertical-align: middle;\n    }\n\n    .dataframe tbody tr th {\n        vertical-align: top;\n    }\n\n    .dataframe thead th {\n        text-align: right;\n    }\n</style>\n<table border=\"1\" class=\"dataframe\">\n  <thead>\n    <tr style=\"text-align: right;\">\n      <th></th>\n      <th>CHANNEL</th>\n      <th>REGION</th>\n      <th>FRESH</th>\n      <th>MILK</th>\n      <th>GROCERY</th>\n      <th>FROZEN</th>\n      <th>DET_PAPER</th>\n      <th>DELICA</th>\n    </tr>\n  </thead>\n  <tbody>\n    <tr>\n      <th>3</th>\n      <td>Horeca</td>\n      <td>Other</td>\n      <td>13265.0</td>\n      <td>1196</td>\n      <td>4221</td>\n      <td>6404.0</td>\n      <td>507</td>\n      <td>1788.0</td>\n    </tr>\n    <tr>\n      <th>15</th>\n      <td>Horeca</td>\n      <td>Other</td>\n      <td>10253.0</td>\n      <td>1114</td>\n      <td>3821</td>\n      <td>397.0</td>\n      <td>964</td>\n      <td>412.0</td>\n    </tr>\n    <tr>\n      <th>21</th>\n      <td>Horeca</td>\n      <td>Other</td>\n      <td>5567.0</td>\n      <td>871</td>\n      <td>2010</td>\n      <td>3383.0</td>\n      <td>375</td>\n      <td>569.0</td>\n    </tr>\n    <tr>\n      <th>22</th>\n      <td>Horeca</td>\n      <td>Other</td>\n      <td>31276.0</td>\n      <td>1917</td>\n      <td>4469</td>\n      <td>9408.0</td>\n      <td>2381</td>\n      <td>4334.0</td>\n    </tr>\n    <tr>\n      <th>26</th>\n      <td>Horeca</td>\n      <td>Other</td>\n      <td>9898.0</td>\n      <td>961</td>\n      <td>2861</td>\n      <td>3151.0</td>\n      <td>242</td>\n      <td>833.0</td>\n    </tr>\n    <tr>\n      <th>27</th>\n      <td>Horeca</td>\n      <td>Other</td>\n      <td>14276.0</td>\n      <td>803</td>\n      <td>3045</td>\n      <td>485.0</td>\n      <td>100</td>\n      <td>518.0</td>\n    </tr>\n    <tr>\n      <th>32</th>\n      <td>Horeca</td>\n      <td>Other</td>\n      <td>21632.0</td>\n      <td>1318</td>\n      <td>2886</td>\n      <td>266.0</td>\n      <td>918</td>\n      <td>405.0</td>\n    </tr>\n    <tr>\n      <th>34</th>\n      <td>Horeca</td>\n      <td>Other</td>\n      <td>1502.0</td>\n      <td>1979</td>\n      <td>2262</td>\n      <td>425.0</td>\n      <td>483</td>\n      <td>395.0</td>\n    </tr>\n    <tr>\n      <th>39</th>\n      <td>Horeca</td>\n      <td>Other</td>\n      <td>56159.0</td>\n      <td>555</td>\n      <td>902</td>\n      <td>10002.0</td>\n      <td>212</td>\n      <td>2916.0</td>\n    </tr>\n    <tr>\n      <th>50</th>\n      <td>Horeca</td>\n      <td>Other</td>\n      <td>6269.0</td>\n      <td>1095</td>\n      <td>1980</td>\n      <td>3860.0</td>\n      <td>609</td>\n      <td>2162.0</td>\n    </tr>\n  </tbody>\n</table>\n</div>"
     },
     "metadata": {}
    },
    {
     "output_type": "display_data",
     "data": {
      "text/plain": "0      False\n1      False\n2      False\n3      False\n4      False\n       ...  \n435    False\n436    False\n437    False\n438    False\n439    False\nLength: 440, dtype: bool"
     },
     "metadata": {}
    }
   ],
   "source": [
    "# Select a Subset of a DataFrame with Conditions\n",
    "df_ret = df[ df['CHANNEL']=='Retail' ]\n",
    "display(df_ret.head())\n",
    "df_ret = df[ (df['MILK']<2000) & (df['CHANNEL']=='Retail') ]\n",
    "display(df_ret.head(10))\n",
    "df_ret = df[ (df['MILK']<2000) & ~(df['CHANNEL']=='Retail') ]\n",
    "display(df_ret.head(10))\n",
    "display((df['MILK']<2000) & (df['CHANNEL']=='Retail'))"
   ]
  },
  {
   "cell_type": "code",
   "execution_count": 113,
   "metadata": {},
   "outputs": [
    {
     "output_type": "display_data",
     "data": {
      "text/plain": "  CHANNEL REGION    FRESH  MILK  GROCERY  FROZEN  DET_PAPER  DELICA\n0  Retail  Other      NaN  9656     7561     NaN       2674  1338.0\n1  Retail  Other   7057.0  9810     9568  1762.0       3293     NaN\n2  Retail  Other   6353.0  8808     7684  2405.0       3516  7844.0\n3  Horeca  Other  13265.0  1196     4221  6404.0        507  1788.0\n4  Retail  Other  22615.0  5410     7198  3915.0       1777  5185.0",
      "text/html": "<div>\n<style scoped>\n    .dataframe tbody tr th:only-of-type {\n        vertical-align: middle;\n    }\n\n    .dataframe tbody tr th {\n        vertical-align: top;\n    }\n\n    .dataframe thead th {\n        text-align: right;\n    }\n</style>\n<table border=\"1\" class=\"dataframe\">\n  <thead>\n    <tr style=\"text-align: right;\">\n      <th></th>\n      <th>CHANNEL</th>\n      <th>REGION</th>\n      <th>FRESH</th>\n      <th>MILK</th>\n      <th>GROCERY</th>\n      <th>FROZEN</th>\n      <th>DET_PAPER</th>\n      <th>DELICA</th>\n    </tr>\n  </thead>\n  <tbody>\n    <tr>\n      <th>0</th>\n      <td>Retail</td>\n      <td>Other</td>\n      <td>NaN</td>\n      <td>9656</td>\n      <td>7561</td>\n      <td>NaN</td>\n      <td>2674</td>\n      <td>1338.0</td>\n    </tr>\n    <tr>\n      <th>1</th>\n      <td>Retail</td>\n      <td>Other</td>\n      <td>7057.0</td>\n      <td>9810</td>\n      <td>9568</td>\n      <td>1762.0</td>\n      <td>3293</td>\n      <td>NaN</td>\n    </tr>\n    <tr>\n      <th>2</th>\n      <td>Retail</td>\n      <td>Other</td>\n      <td>6353.0</td>\n      <td>8808</td>\n      <td>7684</td>\n      <td>2405.0</td>\n      <td>3516</td>\n      <td>7844.0</td>\n    </tr>\n    <tr>\n      <th>3</th>\n      <td>Horeca</td>\n      <td>Other</td>\n      <td>13265.0</td>\n      <td>1196</td>\n      <td>4221</td>\n      <td>6404.0</td>\n      <td>507</td>\n      <td>1788.0</td>\n    </tr>\n    <tr>\n      <th>4</th>\n      <td>Retail</td>\n      <td>Other</td>\n      <td>22615.0</td>\n      <td>5410</td>\n      <td>7198</td>\n      <td>3915.0</td>\n      <td>1777</td>\n      <td>5185.0</td>\n    </tr>\n  </tbody>\n</table>\n</div>"
     },
     "metadata": {}
    },
    {
     "output_type": "display_data",
     "data": {
      "text/plain": "  CHANNEL REGION    FRESH  MILK  GROCERY  FROZEN  DET_PAPER  DELICA\n3  Horeca  Other  13265.0  1196     4221  6404.0        507  1788.0",
      "text/html": "<div>\n<style scoped>\n    .dataframe tbody tr th:only-of-type {\n        vertical-align: middle;\n    }\n\n    .dataframe tbody tr th {\n        vertical-align: top;\n    }\n\n    .dataframe thead th {\n        text-align: right;\n    }\n</style>\n<table border=\"1\" class=\"dataframe\">\n  <thead>\n    <tr style=\"text-align: right;\">\n      <th></th>\n      <th>CHANNEL</th>\n      <th>REGION</th>\n      <th>FRESH</th>\n      <th>MILK</th>\n      <th>GROCERY</th>\n      <th>FROZEN</th>\n      <th>DET_PAPER</th>\n      <th>DELICA</th>\n    </tr>\n  </thead>\n  <tbody>\n    <tr>\n      <th>3</th>\n      <td>Horeca</td>\n      <td>Other</td>\n      <td>13265.0</td>\n      <td>1196</td>\n      <td>4221</td>\n      <td>6404.0</td>\n      <td>507</td>\n      <td>1788.0</td>\n    </tr>\n  </tbody>\n</table>\n</div>"
     },
     "metadata": {}
    },
    {
     "output_type": "display_data",
     "data": {
      "text/plain": "None"
     },
     "metadata": {}
    },
    {
     "output_type": "display_data",
     "data": {
      "text/plain": "None"
     },
     "metadata": {}
    },
    {
     "output_type": "display_data",
     "data": {
      "text/plain": "  CHANNEL REGION    FRESH  MILK  GROCERY  FROZEN  DET_PAPER  DELICA\n0  Retail  Other      NaN  9656     7561     NaN       2674  1338.0\n1  Retail  Other   7057.0  9810     9568  1762.0       3293     NaN\n2  Retail  Other   6353.0  8808     7684  2405.0       3516  7844.0\n3  Horeca  Other  13265.0  1196     4221  6404.0        507  1788.0\n4  Retail  Other  22615.0  5410     7198  3915.0       1777  5185.0",
      "text/html": "<div>\n<style scoped>\n    .dataframe tbody tr th:only-of-type {\n        vertical-align: middle;\n    }\n\n    .dataframe tbody tr th {\n        vertical-align: top;\n    }\n\n    .dataframe thead th {\n        text-align: right;\n    }\n</style>\n<table border=\"1\" class=\"dataframe\">\n  <thead>\n    <tr style=\"text-align: right;\">\n      <th></th>\n      <th>CHANNEL</th>\n      <th>REGION</th>\n      <th>FRESH</th>\n      <th>MILK</th>\n      <th>GROCERY</th>\n      <th>FROZEN</th>\n      <th>DET_PAPER</th>\n      <th>DELICA</th>\n    </tr>\n  </thead>\n  <tbody>\n    <tr>\n      <th>0</th>\n      <td>Retail</td>\n      <td>Other</td>\n      <td>NaN</td>\n      <td>9656</td>\n      <td>7561</td>\n      <td>NaN</td>\n      <td>2674</td>\n      <td>1338.0</td>\n    </tr>\n    <tr>\n      <th>1</th>\n      <td>Retail</td>\n      <td>Other</td>\n      <td>7057.0</td>\n      <td>9810</td>\n      <td>9568</td>\n      <td>1762.0</td>\n      <td>3293</td>\n      <td>NaN</td>\n    </tr>\n    <tr>\n      <th>2</th>\n      <td>Retail</td>\n      <td>Other</td>\n      <td>6353.0</td>\n      <td>8808</td>\n      <td>7684</td>\n      <td>2405.0</td>\n      <td>3516</td>\n      <td>7844.0</td>\n    </tr>\n    <tr>\n      <th>3</th>\n      <td>Horeca</td>\n      <td>Other</td>\n      <td>13265.0</td>\n      <td>1196</td>\n      <td>4221</td>\n      <td>6404.0</td>\n      <td>507</td>\n      <td>1788.0</td>\n    </tr>\n    <tr>\n      <th>4</th>\n      <td>Retail</td>\n      <td>Other</td>\n      <td>22615.0</td>\n      <td>5410</td>\n      <td>7198</td>\n      <td>3915.0</td>\n      <td>1777</td>\n      <td>5185.0</td>\n    </tr>\n  </tbody>\n</table>\n</div>"
     },
     "metadata": {}
    }
   ],
   "source": [
    "# Page 47 OK\n",
    "df_test = df.iloc[0:5, :]\n",
    "display(df_test)\n",
    "display(df_test[ df_test['MILK']<5000 ])\n",
    "display(df_test[ df_test['MILK']<5000 ].reset_index(drop=True, inplace=True))\n",
    "df_test_child1 = df_test[ df_test['MILK']<5000 ].reset_index(drop=True, inplace=True)\n",
    "df_test_child2 = df_test[ df_test['MILK']<5000 ].reset_index(drop=True, inplace=False)\n",
    "display(df_test_child1)\n",
    "#df_test_child1.at[0, 'FRESH']\n",
    "display(df_test)\n"
   ]
  },
  {
   "cell_type": "code",
   "execution_count": null,
   "metadata": {},
   "outputs": [],
   "source": []
  }
 ],
 "metadata": {
  "language_info": {
   "codemirror_mode": {
    "name": "ipython",
    "version": 3
   },
   "file_extension": ".py",
   "mimetype": "text/x-python",
   "name": "python",
   "nbconvert_exporter": "python",
   "pygments_lexer": "ipython3",
   "version": "3.7.7-final"
  },
  "orig_nbformat": 2,
  "kernelspec": {
   "name": "python3",
   "display_name": "Python 3"
  }
 },
 "nbformat": 4,
 "nbformat_minor": 2
}