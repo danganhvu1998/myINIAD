{
 "metadata": {
  "language_info": {
   "codemirror_mode": {
    "name": "ipython",
    "version": 3
   },
   "file_extension": ".py",
   "mimetype": "text/x-python",
   "name": "python",
   "nbconvert_exporter": "python",
   "pygments_lexer": "ipython3",
   "version": "3.8.8-final"
  },
  "orig_nbformat": 2,
  "kernelspec": {
   "name": "python388jvsc74a57bd0e8880c58ea65068827af19aa57df99e07da1109ce0dc5e321474e5f3a08d850b",
   "display_name": "Python 3.8.8 64-bit ('ds2021': conda)"
  },
  "metadata": {
   "interpreter": {
    "hash": "e8880c58ea65068827af19aa57df99e07da1109ce0dc5e321474e5f3a08d850b"
   }
  }
 },
 "nbformat": 4,
 "nbformat_minor": 2,
 "cells": [
  {
   "cell_type": "code",
   "execution_count": 1,
   "metadata": {},
   "outputs": [],
   "source": [
    "import numpy as np\n",
    "import pandas as pd"
   ]
  },
  {
   "cell_type": "code",
   "execution_count": 2,
   "metadata": {},
   "outputs": [
    {
     "output_type": "stream",
     "name": "stdout",
     "text": [
      "(376, 5)\nShopID      int64\nPref       object\nProduct    object\nPrice       int64\nAmount      int64\ndtype: object\n<class 'pandas.core.frame.DataFrame'>\nRangeIndex: 376 entries, 0 to 375\nData columns (total 5 columns):\n #   Column   Non-Null Count  Dtype \n---  ------   --------------  ----- \n 0   ShopID   376 non-null    int64 \n 1   Pref     376 non-null    object\n 2   Product  376 non-null    object\n 3   Price    376 non-null    int64 \n 4   Amount   376 non-null    int64 \ndtypes: int64(3), object(2)\nmemory usage: 14.8+ KB\n"
     ]
    },
    {
     "output_type": "display_data",
     "data": {
      "text/plain": "None"
     },
     "metadata": {}
    }
   ],
   "source": [
    "df = pd.read_csv('../iniadMaterial/AI-0102/baseball_shop.csv',delimiter=',', skiprows=0, header=0)\n",
    "print( df.shape )\n",
    "print( df.dtypes )\n",
    "display( df.info() )"
   ]
  },
  {
   "cell_type": "code",
   "execution_count": 3,
   "metadata": {},
   "outputs": [
    {
     "output_type": "stream",
     "name": "stdout",
     "text": [
      "Tokyo       68\nKanagawa    68\nChiba       64\nSaitama     48\nIbaraki     48\nTochigi     40\nGunma       40\nName: Pref, dtype: int64\nSHOES      94\nBAT        94\nUNIFORM    94\nGLOVE      94\nName: Product, dtype: int64\n"
     ]
    }
   ],
   "source": [
    "print(df['Pref'].value_counts())\n",
    "print(df['Product'].value_counts())"
   ]
  },
  {
   "cell_type": "code",
   "execution_count": 4,
   "metadata": {},
   "outputs": [
    {
     "output_type": "stream",
     "name": "stdout",
     "text": [
      "94\n"
     ]
    }
   ],
   "source": [
    "print(len(df['ShopID'].value_counts()))"
   ]
  },
  {
   "cell_type": "code",
   "execution_count": 5,
   "metadata": {},
   "outputs": [
    {
     "output_type": "display_data",
     "data": {
      "text/plain": "   ShopID      Pref  Product  Price  Amount   Sales\n0      18  Kanagawa      BAT  13800      10  138000\n1      18  Kanagawa  UNIFORM  11800      12  141600\n2      18  Kanagawa    GLOVE  16700      10  167000\n3      18  Kanagawa    SHOES  12800      10  128000\n4      30   Ibaraki      BAT  13800       8  110400",
      "text/html": "<div>\n<style scoped>\n    .dataframe tbody tr th:only-of-type {\n        vertical-align: middle;\n    }\n\n    .dataframe tbody tr th {\n        vertical-align: top;\n    }\n\n    .dataframe thead th {\n        text-align: right;\n    }\n</style>\n<table border=\"1\" class=\"dataframe\">\n  <thead>\n    <tr style=\"text-align: right;\">\n      <th></th>\n      <th>ShopID</th>\n      <th>Pref</th>\n      <th>Product</th>\n      <th>Price</th>\n      <th>Amount</th>\n      <th>Sales</th>\n    </tr>\n  </thead>\n  <tbody>\n    <tr>\n      <th>0</th>\n      <td>18</td>\n      <td>Kanagawa</td>\n      <td>BAT</td>\n      <td>13800</td>\n      <td>10</td>\n      <td>138000</td>\n    </tr>\n    <tr>\n      <th>1</th>\n      <td>18</td>\n      <td>Kanagawa</td>\n      <td>UNIFORM</td>\n      <td>11800</td>\n      <td>12</td>\n      <td>141600</td>\n    </tr>\n    <tr>\n      <th>2</th>\n      <td>18</td>\n      <td>Kanagawa</td>\n      <td>GLOVE</td>\n      <td>16700</td>\n      <td>10</td>\n      <td>167000</td>\n    </tr>\n    <tr>\n      <th>3</th>\n      <td>18</td>\n      <td>Kanagawa</td>\n      <td>SHOES</td>\n      <td>12800</td>\n      <td>10</td>\n      <td>128000</td>\n    </tr>\n    <tr>\n      <th>4</th>\n      <td>30</td>\n      <td>Ibaraki</td>\n      <td>BAT</td>\n      <td>13800</td>\n      <td>8</td>\n      <td>110400</td>\n    </tr>\n  </tbody>\n</table>\n</div>"
     },
     "metadata": {}
    }
   ],
   "source": [
    "df['Sales'] = df['Price']*df['Amount']\n",
    "display(df.head())"
   ]
  },
  {
   "cell_type": "code",
   "execution_count": 6,
   "metadata": {},
   "outputs": [
    {
     "output_type": "stream",
     "name": "stdout",
     "text": [
      "37283200\n"
     ]
    }
   ],
   "source": [
    "print(df['Sales'].sum())"
   ]
  },
  {
   "cell_type": "code",
   "execution_count": 7,
   "metadata": {},
   "outputs": [
    {
     "output_type": "stream",
     "name": "stdout",
     "text": [
      "            Sales\nPref             \nChiba     5343100\nGunma     4021000\nIbaraki   4513500\nKanagawa  5813100\nSaitama   5276800\nTochigi   3296300\nTokyo     9019400\n"
     ]
    }
   ],
   "source": [
    "df_pref = df[['Pref', 'Sales']].groupby('Pref').sum()\n",
    "# print(df_pref)\n",
    "print(df_pref)"
   ]
  },
  {
   "cell_type": "code",
   "execution_count": 8,
   "metadata": {},
   "outputs": [
    {
     "output_type": "stream",
     "name": "stdout",
     "text": [
      "Tochigi\n"
     ]
    }
   ],
   "source": [
    "print( df_pref['Sales'].idxmin() )"
   ]
  },
  {
   "cell_type": "code",
   "execution_count": 9,
   "metadata": {},
   "outputs": [
    {
     "output_type": "display_data",
     "data": {
      "text/plain": "Product       BAT    GLOVE    SHOES  UNIFORM\nPref                                        \nChiba      966000  1486300  1356800  1534000\nGunma      938400  1402800   960000   719800\nIbaraki   1090200  1152300  1126400  1144600\nKanagawa  1297200  1619900  1574400  1321600\nSaitama   1228200  1503000  1318400  1227200\nTochigi    759000   718100   780800  1038400\nTokyo     2166600  2839000  2137600  1876200",
      "text/html": "<div>\n<style scoped>\n    .dataframe tbody tr th:only-of-type {\n        vertical-align: middle;\n    }\n\n    .dataframe tbody tr th {\n        vertical-align: top;\n    }\n\n    .dataframe thead th {\n        text-align: right;\n    }\n</style>\n<table border=\"1\" class=\"dataframe\">\n  <thead>\n    <tr style=\"text-align: right;\">\n      <th>Product</th>\n      <th>BAT</th>\n      <th>GLOVE</th>\n      <th>SHOES</th>\n      <th>UNIFORM</th>\n    </tr>\n    <tr>\n      <th>Pref</th>\n      <th></th>\n      <th></th>\n      <th></th>\n      <th></th>\n    </tr>\n  </thead>\n  <tbody>\n    <tr>\n      <th>Chiba</th>\n      <td>966000</td>\n      <td>1486300</td>\n      <td>1356800</td>\n      <td>1534000</td>\n    </tr>\n    <tr>\n      <th>Gunma</th>\n      <td>938400</td>\n      <td>1402800</td>\n      <td>960000</td>\n      <td>719800</td>\n    </tr>\n    <tr>\n      <th>Ibaraki</th>\n      <td>1090200</td>\n      <td>1152300</td>\n      <td>1126400</td>\n      <td>1144600</td>\n    </tr>\n    <tr>\n      <th>Kanagawa</th>\n      <td>1297200</td>\n      <td>1619900</td>\n      <td>1574400</td>\n      <td>1321600</td>\n    </tr>\n    <tr>\n      <th>Saitama</th>\n      <td>1228200</td>\n      <td>1503000</td>\n      <td>1318400</td>\n      <td>1227200</td>\n    </tr>\n    <tr>\n      <th>Tochigi</th>\n      <td>759000</td>\n      <td>718100</td>\n      <td>780800</td>\n      <td>1038400</td>\n    </tr>\n    <tr>\n      <th>Tokyo</th>\n      <td>2166600</td>\n      <td>2839000</td>\n      <td>2137600</td>\n      <td>1876200</td>\n    </tr>\n  </tbody>\n</table>\n</div>"
     },
     "metadata": {}
    },
    {
     "output_type": "stream",
     "name": "stdout",
     "text": [
      "1534000\n"
     ]
    }
   ],
   "source": [
    "df_pivot = df.pivot_table('Sales',index='Pref', columns='Product', aggfunc=np.sum)\n",
    "display(df_pivot)\n",
    "print(df_pivot.loc['Chiba']['UNIFORM'])"
   ]
  },
  {
   "cell_type": "code",
   "execution_count": 24,
   "metadata": {},
   "outputs": [
    {
     "output_type": "display_data",
     "data": {
      "text/plain": "                 Amount   Sales\nShopID Pref                    \n1      Chiba         20  264700\n2      Tokyo         20  294100\n3      Chiba         11  148500\n4      Saitama       16  215600\n5      Ibaraki       24  346200\n...                 ...     ...\n90     Tokyo         45  620400\n91     Ibaraki       24  329600\n92     Tochigi       24  319800\n93     Kanagawa      27  368100\n94     Tokyo         32  439800\n\n[94 rows x 2 columns]",
      "text/html": "<div>\n<style scoped>\n    .dataframe tbody tr th:only-of-type {\n        vertical-align: middle;\n    }\n\n    .dataframe tbody tr th {\n        vertical-align: top;\n    }\n\n    .dataframe thead th {\n        text-align: right;\n    }\n</style>\n<table border=\"1\" class=\"dataframe\">\n  <thead>\n    <tr style=\"text-align: right;\">\n      <th></th>\n      <th></th>\n      <th>Amount</th>\n      <th>Sales</th>\n    </tr>\n    <tr>\n      <th>ShopID</th>\n      <th>Pref</th>\n      <th></th>\n      <th></th>\n    </tr>\n  </thead>\n  <tbody>\n    <tr>\n      <th>1</th>\n      <th>Chiba</th>\n      <td>20</td>\n      <td>264700</td>\n    </tr>\n    <tr>\n      <th>2</th>\n      <th>Tokyo</th>\n      <td>20</td>\n      <td>294100</td>\n    </tr>\n    <tr>\n      <th>3</th>\n      <th>Chiba</th>\n      <td>11</td>\n      <td>148500</td>\n    </tr>\n    <tr>\n      <th>4</th>\n      <th>Saitama</th>\n      <td>16</td>\n      <td>215600</td>\n    </tr>\n    <tr>\n      <th>5</th>\n      <th>Ibaraki</th>\n      <td>24</td>\n      <td>346200</td>\n    </tr>\n    <tr>\n      <th>...</th>\n      <th>...</th>\n      <td>...</td>\n      <td>...</td>\n    </tr>\n    <tr>\n      <th>90</th>\n      <th>Tokyo</th>\n      <td>45</td>\n      <td>620400</td>\n    </tr>\n    <tr>\n      <th>91</th>\n      <th>Ibaraki</th>\n      <td>24</td>\n      <td>329600</td>\n    </tr>\n    <tr>\n      <th>92</th>\n      <th>Tochigi</th>\n      <td>24</td>\n      <td>319800</td>\n    </tr>\n    <tr>\n      <th>93</th>\n      <th>Kanagawa</th>\n      <td>27</td>\n      <td>368100</td>\n    </tr>\n    <tr>\n      <th>94</th>\n      <th>Tokyo</th>\n      <td>32</td>\n      <td>439800</td>\n    </tr>\n  </tbody>\n</table>\n<p>94 rows × 2 columns</p>\n</div>"
     },
     "metadata": {}
    },
    {
     "output_type": "stream",
     "name": "stdout",
     "text": [
      "             Amount          Sales\nPref                              \nChiba     24.687500  333943.750000\nGunma     28.800000  402100.000000\nIbaraki   27.750000  376125.000000\nKanagawa  25.058824  341947.058824\nSaitama   32.166667  439733.333333\nTochigi   24.700000  329630.000000\nTokyo     38.411765  530552.941176\n402100.0\n"
     ]
    }
   ],
   "source": [
    "df_shop = df[['ShopID', 'Pref', 'Amount', 'Sales']].groupby(['ShopID', 'Pref']).sum()\n",
    "df_shop_by_pref = df_shop.groupby(['Pref']).mean()\n",
    "display(df_shop)\n",
    "print(df_shop_by_pref)\n",
    "print(df_shop_by_pref.at['Gunma', 'Sales'])"
   ]
  },
  {
   "cell_type": "code",
   "execution_count": 28,
   "metadata": {},
   "outputs": [
    {
     "output_type": "display_data",
     "data": {
      "text/plain": "     ShopID      Pref  Product  Price  Amount   Sales\n0        18  Kanagawa      bat  13800      10  138000\n1        18  Kanagawa  uniform  11800      12  141600\n2        18  Kanagawa    glove  16700      10  167000\n3        18  Kanagawa    shoes  12800      10  128000\n4        30   Ibaraki      bat  13800       8  110400\n..      ...       ...      ...    ...     ...     ...\n371      93  Kanagawa    shoes  12800       7   89600\n372      13     Tokyo      bat  13800       8  110400\n373      13     Tokyo  uniform  11800      10  118000\n374      13     Tokyo    glove  16700       9  150300\n375      13     Tokyo    shoes  12800       8  102400\n\n[376 rows x 6 columns]",
      "text/html": "<div>\n<style scoped>\n    .dataframe tbody tr th:only-of-type {\n        vertical-align: middle;\n    }\n\n    .dataframe tbody tr th {\n        vertical-align: top;\n    }\n\n    .dataframe thead th {\n        text-align: right;\n    }\n</style>\n<table border=\"1\" class=\"dataframe\">\n  <thead>\n    <tr style=\"text-align: right;\">\n      <th></th>\n      <th>ShopID</th>\n      <th>Pref</th>\n      <th>Product</th>\n      <th>Price</th>\n      <th>Amount</th>\n      <th>Sales</th>\n    </tr>\n  </thead>\n  <tbody>\n    <tr>\n      <th>0</th>\n      <td>18</td>\n      <td>Kanagawa</td>\n      <td>bat</td>\n      <td>13800</td>\n      <td>10</td>\n      <td>138000</td>\n    </tr>\n    <tr>\n      <th>1</th>\n      <td>18</td>\n      <td>Kanagawa</td>\n      <td>uniform</td>\n      <td>11800</td>\n      <td>12</td>\n      <td>141600</td>\n    </tr>\n    <tr>\n      <th>2</th>\n      <td>18</td>\n      <td>Kanagawa</td>\n      <td>glove</td>\n      <td>16700</td>\n      <td>10</td>\n      <td>167000</td>\n    </tr>\n    <tr>\n      <th>3</th>\n      <td>18</td>\n      <td>Kanagawa</td>\n      <td>shoes</td>\n      <td>12800</td>\n      <td>10</td>\n      <td>128000</td>\n    </tr>\n    <tr>\n      <th>4</th>\n      <td>30</td>\n      <td>Ibaraki</td>\n      <td>bat</td>\n      <td>13800</td>\n      <td>8</td>\n      <td>110400</td>\n    </tr>\n    <tr>\n      <th>...</th>\n      <td>...</td>\n      <td>...</td>\n      <td>...</td>\n      <td>...</td>\n      <td>...</td>\n      <td>...</td>\n    </tr>\n    <tr>\n      <th>371</th>\n      <td>93</td>\n      <td>Kanagawa</td>\n      <td>shoes</td>\n      <td>12800</td>\n      <td>7</td>\n      <td>89600</td>\n    </tr>\n    <tr>\n      <th>372</th>\n      <td>13</td>\n      <td>Tokyo</td>\n      <td>bat</td>\n      <td>13800</td>\n      <td>8</td>\n      <td>110400</td>\n    </tr>\n    <tr>\n      <th>373</th>\n      <td>13</td>\n      <td>Tokyo</td>\n      <td>uniform</td>\n      <td>11800</td>\n      <td>10</td>\n      <td>118000</td>\n    </tr>\n    <tr>\n      <th>374</th>\n      <td>13</td>\n      <td>Tokyo</td>\n      <td>glove</td>\n      <td>16700</td>\n      <td>9</td>\n      <td>150300</td>\n    </tr>\n    <tr>\n      <th>375</th>\n      <td>13</td>\n      <td>Tokyo</td>\n      <td>shoes</td>\n      <td>12800</td>\n      <td>8</td>\n      <td>102400</td>\n    </tr>\n  </tbody>\n</table>\n<p>376 rows × 6 columns</p>\n</div>"
     },
     "metadata": {}
    }
   ],
   "source": [
    "# print(df['Product'])\n",
    "# print(df['Product'].map(lambda x: x.lower()))\n",
    "df['Product'] = df['Product'].map(lambda x: x.lower())\n",
    "display(df)\n"
   ]
  },
  {
   "cell_type": "code",
   "execution_count": null,
   "metadata": {},
   "outputs": [],
   "source": []
  }
 ]
}