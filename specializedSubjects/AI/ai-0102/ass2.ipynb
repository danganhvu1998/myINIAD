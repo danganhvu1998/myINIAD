{
 "cells": [
  {
   "cell_type": "code",
   "execution_count": 2,
   "metadata": {},
   "outputs": [],
   "source": [
    "import numpy as np\n",
    "import pandas as pd"
   ]
  },
  {
   "cell_type": "code",
   "execution_count": 3,
   "metadata": {},
   "outputs": [
    {
     "output_type": "display_data",
     "data": {
      "text/plain": "     ShopID      Pref  Product  Price  Amount\n0        18  Kanagawa      BAT  13800      10\n1        18  Kanagawa  UNIFORM  11800      12\n2        18  Kanagawa    GLOVE  16700      10\n3        18  Kanagawa    SHOES  12800      10\n4        30   Ibaraki      BAT  13800       8\n..      ...       ...      ...    ...     ...\n371      93  Kanagawa    SHOES  12800       7\n372      13     Tokyo      BAT  13800       8\n373      13     Tokyo  UNIFORM  11800      10\n374      13     Tokyo    GLOVE  16700       9\n375      13     Tokyo    SHOES  12800       8\n\n[376 rows x 5 columns]",
      "text/html": "<div>\n<style scoped>\n    .dataframe tbody tr th:only-of-type {\n        vertical-align: middle;\n    }\n\n    .dataframe tbody tr th {\n        vertical-align: top;\n    }\n\n    .dataframe thead th {\n        text-align: right;\n    }\n</style>\n<table border=\"1\" class=\"dataframe\">\n  <thead>\n    <tr style=\"text-align: right;\">\n      <th></th>\n      <th>ShopID</th>\n      <th>Pref</th>\n      <th>Product</th>\n      <th>Price</th>\n      <th>Amount</th>\n    </tr>\n  </thead>\n  <tbody>\n    <tr>\n      <th>0</th>\n      <td>18</td>\n      <td>Kanagawa</td>\n      <td>BAT</td>\n      <td>13800</td>\n      <td>10</td>\n    </tr>\n    <tr>\n      <th>1</th>\n      <td>18</td>\n      <td>Kanagawa</td>\n      <td>UNIFORM</td>\n      <td>11800</td>\n      <td>12</td>\n    </tr>\n    <tr>\n      <th>2</th>\n      <td>18</td>\n      <td>Kanagawa</td>\n      <td>GLOVE</td>\n      <td>16700</td>\n      <td>10</td>\n    </tr>\n    <tr>\n      <th>3</th>\n      <td>18</td>\n      <td>Kanagawa</td>\n      <td>SHOES</td>\n      <td>12800</td>\n      <td>10</td>\n    </tr>\n    <tr>\n      <th>4</th>\n      <td>30</td>\n      <td>Ibaraki</td>\n      <td>BAT</td>\n      <td>13800</td>\n      <td>8</td>\n    </tr>\n    <tr>\n      <th>...</th>\n      <td>...</td>\n      <td>...</td>\n      <td>...</td>\n      <td>...</td>\n      <td>...</td>\n    </tr>\n    <tr>\n      <th>371</th>\n      <td>93</td>\n      <td>Kanagawa</td>\n      <td>SHOES</td>\n      <td>12800</td>\n      <td>7</td>\n    </tr>\n    <tr>\n      <th>372</th>\n      <td>13</td>\n      <td>Tokyo</td>\n      <td>BAT</td>\n      <td>13800</td>\n      <td>8</td>\n    </tr>\n    <tr>\n      <th>373</th>\n      <td>13</td>\n      <td>Tokyo</td>\n      <td>UNIFORM</td>\n      <td>11800</td>\n      <td>10</td>\n    </tr>\n    <tr>\n      <th>374</th>\n      <td>13</td>\n      <td>Tokyo</td>\n      <td>GLOVE</td>\n      <td>16700</td>\n      <td>9</td>\n    </tr>\n    <tr>\n      <th>375</th>\n      <td>13</td>\n      <td>Tokyo</td>\n      <td>SHOES</td>\n      <td>12800</td>\n      <td>8</td>\n    </tr>\n  </tbody>\n</table>\n<p>376 rows × 5 columns</p>\n</div>"
     },
     "metadata": {}
    },
    {
     "output_type": "stream",
     "name": "stdout",
     "text": "(376, 5)\nShopID      int64\nPref       object\nProduct    object\nPrice       int64\nAmount      int64\ndtype: object\n<class 'pandas.core.frame.DataFrame'>\nRangeIndex: 376 entries, 0 to 375\nData columns (total 5 columns):\n #   Column   Non-Null Count  Dtype \n---  ------   --------------  ----- \n 0   ShopID   376 non-null    int64 \n 1   Pref     376 non-null    object\n 2   Product  376 non-null    object\n 3   Price    376 non-null    int64 \n 4   Amount   376 non-null    int64 \ndtypes: int64(3), object(2)\nmemory usage: 14.8+ KB\n"
    },
    {
     "output_type": "display_data",
     "data": {
      "text/plain": "None"
     },
     "metadata": {}
    },
    {
     "output_type": "display_data",
     "data": {
      "text/plain": "           ShopID         Price      Amount\ncount  376.000000    376.000000  376.000000\nmean    47.500000  13775.000000    7.255319\nstd     27.170082   1833.252119    4.975001\nmin      1.000000  11800.000000    0.000000\n25%     24.000000  12550.000000    4.000000\n50%     47.500000  13300.000000    6.000000\n75%     71.000000  14525.000000    9.000000\nmax     94.000000  16700.000000   44.000000",
      "text/html": "<div>\n<style scoped>\n    .dataframe tbody tr th:only-of-type {\n        vertical-align: middle;\n    }\n\n    .dataframe tbody tr th {\n        vertical-align: top;\n    }\n\n    .dataframe thead th {\n        text-align: right;\n    }\n</style>\n<table border=\"1\" class=\"dataframe\">\n  <thead>\n    <tr style=\"text-align: right;\">\n      <th></th>\n      <th>ShopID</th>\n      <th>Price</th>\n      <th>Amount</th>\n    </tr>\n  </thead>\n  <tbody>\n    <tr>\n      <th>count</th>\n      <td>376.000000</td>\n      <td>376.000000</td>\n      <td>376.000000</td>\n    </tr>\n    <tr>\n      <th>mean</th>\n      <td>47.500000</td>\n      <td>13775.000000</td>\n      <td>7.255319</td>\n    </tr>\n    <tr>\n      <th>std</th>\n      <td>27.170082</td>\n      <td>1833.252119</td>\n      <td>4.975001</td>\n    </tr>\n    <tr>\n      <th>min</th>\n      <td>1.000000</td>\n      <td>11800.000000</td>\n      <td>0.000000</td>\n    </tr>\n    <tr>\n      <th>25%</th>\n      <td>24.000000</td>\n      <td>12550.000000</td>\n      <td>4.000000</td>\n    </tr>\n    <tr>\n      <th>50%</th>\n      <td>47.500000</td>\n      <td>13300.000000</td>\n      <td>6.000000</td>\n    </tr>\n    <tr>\n      <th>75%</th>\n      <td>71.000000</td>\n      <td>14525.000000</td>\n      <td>9.000000</td>\n    </tr>\n    <tr>\n      <th>max</th>\n      <td>94.000000</td>\n      <td>16700.000000</td>\n      <td>44.000000</td>\n    </tr>\n  </tbody>\n</table>\n</div>"
     },
     "metadata": {}
    },
    {
     "output_type": "display_data",
     "data": {
      "text/plain": "         Pref  Product\ncount     376      376\nunique      7        4\ntop     Tokyo  UNIFORM\nfreq       68       94",
      "text/html": "<div>\n<style scoped>\n    .dataframe tbody tr th:only-of-type {\n        vertical-align: middle;\n    }\n\n    .dataframe tbody tr th {\n        vertical-align: top;\n    }\n\n    .dataframe thead th {\n        text-align: right;\n    }\n</style>\n<table border=\"1\" class=\"dataframe\">\n  <thead>\n    <tr style=\"text-align: right;\">\n      <th></th>\n      <th>Pref</th>\n      <th>Product</th>\n    </tr>\n  </thead>\n  <tbody>\n    <tr>\n      <th>count</th>\n      <td>376</td>\n      <td>376</td>\n    </tr>\n    <tr>\n      <th>unique</th>\n      <td>7</td>\n      <td>4</td>\n    </tr>\n    <tr>\n      <th>top</th>\n      <td>Tokyo</td>\n      <td>UNIFORM</td>\n    </tr>\n    <tr>\n      <th>freq</th>\n      <td>68</td>\n      <td>94</td>\n    </tr>\n  </tbody>\n</table>\n</div>"
     },
     "metadata": {}
    },
    {
     "output_type": "display_data",
     "data": {
      "text/plain": "   ShopID      Pref  Product  Price  Amount\n0      18  Kanagawa      BAT  13800      10\n1      18  Kanagawa  UNIFORM  11800      12\n2      18  Kanagawa    GLOVE  16700      10\n3      18  Kanagawa    SHOES  12800      10\n4      30   Ibaraki      BAT  13800       8",
      "text/html": "<div>\n<style scoped>\n    .dataframe tbody tr th:only-of-type {\n        vertical-align: middle;\n    }\n\n    .dataframe tbody tr th {\n        vertical-align: top;\n    }\n\n    .dataframe thead th {\n        text-align: right;\n    }\n</style>\n<table border=\"1\" class=\"dataframe\">\n  <thead>\n    <tr style=\"text-align: right;\">\n      <th></th>\n      <th>ShopID</th>\n      <th>Pref</th>\n      <th>Product</th>\n      <th>Price</th>\n      <th>Amount</th>\n    </tr>\n  </thead>\n  <tbody>\n    <tr>\n      <th>0</th>\n      <td>18</td>\n      <td>Kanagawa</td>\n      <td>BAT</td>\n      <td>13800</td>\n      <td>10</td>\n    </tr>\n    <tr>\n      <th>1</th>\n      <td>18</td>\n      <td>Kanagawa</td>\n      <td>UNIFORM</td>\n      <td>11800</td>\n      <td>12</td>\n    </tr>\n    <tr>\n      <th>2</th>\n      <td>18</td>\n      <td>Kanagawa</td>\n      <td>GLOVE</td>\n      <td>16700</td>\n      <td>10</td>\n    </tr>\n    <tr>\n      <th>3</th>\n      <td>18</td>\n      <td>Kanagawa</td>\n      <td>SHOES</td>\n      <td>12800</td>\n      <td>10</td>\n    </tr>\n    <tr>\n      <th>4</th>\n      <td>30</td>\n      <td>Ibaraki</td>\n      <td>BAT</td>\n      <td>13800</td>\n      <td>8</td>\n    </tr>\n  </tbody>\n</table>\n</div>"
     },
     "metadata": {}
    }
   ],
   "source": [
    "df = pd.read_csv('baseball_shop.csv', delimiter=',', skiprows=0, header=0)\n",
    "display(df)\n",
    "print( df.shape )\n",
    "print( df.dtypes )\n",
    "display( df.info() )\n",
    "display( df.describe() )\n",
    "display( df.describe(exclude='number') )\n",
    "display( df.head() )"
   ]
  },
  {
   "cell_type": "code",
   "execution_count": 4,
   "metadata": {},
   "outputs": [
    {
     "output_type": "stream",
     "name": "stdout",
     "text": "Tokyo       68\nKanagawa    68\nChiba       64\nIbaraki     48\nSaitama     48\nGunma       40\nTochigi     40\nName: Pref, dtype: int64\nUNIFORM    94\nBAT        94\nGLOVE      94\nSHOES      94\nName: Product, dtype: int64\n"
    }
   ],
   "source": [
    "print(df['Pref'].value_counts())\n",
    "print(df['Product'].value_counts())"
   ]
  },
  {
   "cell_type": "code",
   "execution_count": 5,
   "metadata": {},
   "outputs": [
    {
     "output_type": "stream",
     "name": "stdout",
     "text": "94\n94\n"
    }
   ],
   "source": [
    "print( len(df['ShopID'].value_counts()) )\n",
    "print( len(df['ShopID'].unique()) )"
   ]
  },
  {
   "cell_type": "code",
   "execution_count": 6,
   "metadata": {},
   "outputs": [
    {
     "output_type": "display_data",
     "data": {
      "text/plain": "     ShopID      Pref  Product  Price  Amount   Sales\n0        18  Kanagawa      BAT  13800      10  138000\n1        18  Kanagawa  UNIFORM  11800      12  141600\n2        18  Kanagawa    GLOVE  16700      10  167000\n3        18  Kanagawa    SHOES  12800      10  128000\n4        30   Ibaraki      BAT  13800       8  110400\n..      ...       ...      ...    ...     ...     ...\n371      93  Kanagawa    SHOES  12800       7   89600\n372      13     Tokyo      BAT  13800       8  110400\n373      13     Tokyo  UNIFORM  11800      10  118000\n374      13     Tokyo    GLOVE  16700       9  150300\n375      13     Tokyo    SHOES  12800       8  102400\n\n[376 rows x 6 columns]",
      "text/html": "<div>\n<style scoped>\n    .dataframe tbody tr th:only-of-type {\n        vertical-align: middle;\n    }\n\n    .dataframe tbody tr th {\n        vertical-align: top;\n    }\n\n    .dataframe thead th {\n        text-align: right;\n    }\n</style>\n<table border=\"1\" class=\"dataframe\">\n  <thead>\n    <tr style=\"text-align: right;\">\n      <th></th>\n      <th>ShopID</th>\n      <th>Pref</th>\n      <th>Product</th>\n      <th>Price</th>\n      <th>Amount</th>\n      <th>Sales</th>\n    </tr>\n  </thead>\n  <tbody>\n    <tr>\n      <th>0</th>\n      <td>18</td>\n      <td>Kanagawa</td>\n      <td>BAT</td>\n      <td>13800</td>\n      <td>10</td>\n      <td>138000</td>\n    </tr>\n    <tr>\n      <th>1</th>\n      <td>18</td>\n      <td>Kanagawa</td>\n      <td>UNIFORM</td>\n      <td>11800</td>\n      <td>12</td>\n      <td>141600</td>\n    </tr>\n    <tr>\n      <th>2</th>\n      <td>18</td>\n      <td>Kanagawa</td>\n      <td>GLOVE</td>\n      <td>16700</td>\n      <td>10</td>\n      <td>167000</td>\n    </tr>\n    <tr>\n      <th>3</th>\n      <td>18</td>\n      <td>Kanagawa</td>\n      <td>SHOES</td>\n      <td>12800</td>\n      <td>10</td>\n      <td>128000</td>\n    </tr>\n    <tr>\n      <th>4</th>\n      <td>30</td>\n      <td>Ibaraki</td>\n      <td>BAT</td>\n      <td>13800</td>\n      <td>8</td>\n      <td>110400</td>\n    </tr>\n    <tr>\n      <th>...</th>\n      <td>...</td>\n      <td>...</td>\n      <td>...</td>\n      <td>...</td>\n      <td>...</td>\n      <td>...</td>\n    </tr>\n    <tr>\n      <th>371</th>\n      <td>93</td>\n      <td>Kanagawa</td>\n      <td>SHOES</td>\n      <td>12800</td>\n      <td>7</td>\n      <td>89600</td>\n    </tr>\n    <tr>\n      <th>372</th>\n      <td>13</td>\n      <td>Tokyo</td>\n      <td>BAT</td>\n      <td>13800</td>\n      <td>8</td>\n      <td>110400</td>\n    </tr>\n    <tr>\n      <th>373</th>\n      <td>13</td>\n      <td>Tokyo</td>\n      <td>UNIFORM</td>\n      <td>11800</td>\n      <td>10</td>\n      <td>118000</td>\n    </tr>\n    <tr>\n      <th>374</th>\n      <td>13</td>\n      <td>Tokyo</td>\n      <td>GLOVE</td>\n      <td>16700</td>\n      <td>9</td>\n      <td>150300</td>\n    </tr>\n    <tr>\n      <th>375</th>\n      <td>13</td>\n      <td>Tokyo</td>\n      <td>SHOES</td>\n      <td>12800</td>\n      <td>8</td>\n      <td>102400</td>\n    </tr>\n  </tbody>\n</table>\n<p>376 rows × 6 columns</p>\n</div>"
     },
     "metadata": {}
    }
   ],
   "source": [
    "df['Sales'] =  df['Price']*df['Amount']\n",
    "display(df)"
   ]
  },
  {
   "cell_type": "code",
   "execution_count": 7,
   "metadata": {},
   "outputs": [
    {
     "output_type": "stream",
     "name": "stdout",
     "text": "18 574600\n30 382800\n73 623600\n68 176100\n14 422000\n84 403400\n33 504900\n28 421100\n47 483100\n2 294100\n90 620400\n22 322700\n75 276600\n39 489200\n19 233200\n70 481000\n81 403300\n86 654300\n71 385700\n52 460400\n80 282600\n20 248100\n12 451500\n40 920200\n53 282200\n48 496000\n76 1091000\n37 434800\n89 263600\n60 427000\n61 296200\n25 327600\n77 345300\n69 469400\n88 349400\n74 513600\n51 313900\n41 663200\n87 187900\n54 369900\n23 355200\n85 177100\n78 234100\n66 400400\n67 232200\n38 191000\n94 439800\n91 329600\n59 361100\n32 303000\n92 319800\n44 477100\n82 394500\n16 122000\n21 463400\n1 264700\n17 232100\n7 401400\n11 249900\n56 351400\n4 215600\n55 365000\n26 303000\n46 225400\n72 376900\n3 148500\n45 315800\n64 221300\n34 435800\n57 834400\n49 1822600\n63 403200\n10 341600\n9 550100\n62 620700\n29 278300\n27 161300\n50 473000\n58 333700\n35 316800\n36 208600\n8 368000\n6 299200\n24 271600\n43 410300\n83 415400\n65 307100\n31 413400\n15 378800\n5 346200\n42 279400\n79 347300\n93 368100\n13 481100\nTotal Sum: 37283200\n"
    }
   ],
   "source": [
    "shops = df['ShopID'].unique()\n",
    "for shop in shops:\n",
    "    print(shop, df[ df['ShopID']==shop ]['Sales'].sum())\n",
    "print(\"Total Sum:\", df['Sales'].sum())\n"
   ]
  },
  {
   "cell_type": "code",
   "execution_count": 8,
   "metadata": {},
   "outputs": [
    {
     "output_type": "display_data",
     "data": {
      "text/plain": "            Sales\nPref             \nChiba     5343100\nGunma     4021000\nIbaraki   4513500\nKanagawa  5813100\nSaitama   5276800\nTochigi   3296300\nTokyo     9019400",
      "text/html": "<div>\n<style scoped>\n    .dataframe tbody tr th:only-of-type {\n        vertical-align: middle;\n    }\n\n    .dataframe tbody tr th {\n        vertical-align: top;\n    }\n\n    .dataframe thead th {\n        text-align: right;\n    }\n</style>\n<table border=\"1\" class=\"dataframe\">\n  <thead>\n    <tr style=\"text-align: right;\">\n      <th></th>\n      <th>Sales</th>\n    </tr>\n    <tr>\n      <th>Pref</th>\n      <th></th>\n    </tr>\n  </thead>\n  <tbody>\n    <tr>\n      <th>Chiba</th>\n      <td>5343100</td>\n    </tr>\n    <tr>\n      <th>Gunma</th>\n      <td>4021000</td>\n    </tr>\n    <tr>\n      <th>Ibaraki</th>\n      <td>4513500</td>\n    </tr>\n    <tr>\n      <th>Kanagawa</th>\n      <td>5813100</td>\n    </tr>\n    <tr>\n      <th>Saitama</th>\n      <td>5276800</td>\n    </tr>\n    <tr>\n      <th>Tochigi</th>\n      <td>3296300</td>\n    </tr>\n    <tr>\n      <th>Tokyo</th>\n      <td>9019400</td>\n    </tr>\n  </tbody>\n</table>\n</div>"
     },
     "metadata": {}
    }
   ],
   "source": [
    "#display(df)\n",
    "de_pref = df.drop(df.loc[:, 'Product':'Amount'], axis=1).drop('ShopID', axis=1)\n",
    "#display(de_pref)\n",
    "de_pref = de_pref.groupby('Pref').sum()\n",
    "# for pref in prefs:\n",
    "#     print(pref, df[ df['Pref']==pref ]['Sales'].sum())\n",
    "# print(\"Total Sum:\", df['Sales'].sum())\n",
    "display(de_pref)\n"
   ]
  },
  {
   "cell_type": "code",
   "execution_count": 9,
   "metadata": {},
   "outputs": [
    {
     "output_type": "display_data",
     "data": {
      "text/plain": "            Sales\nPref             \nChiba     5343100\nGunma     4021000\nIbaraki   4513500\nKanagawa  5813100\nSaitama   5276800\nTochigi   3296300\nTokyo     9019400",
      "text/html": "<div>\n<style scoped>\n    .dataframe tbody tr th:only-of-type {\n        vertical-align: middle;\n    }\n\n    .dataframe tbody tr th {\n        vertical-align: top;\n    }\n\n    .dataframe thead th {\n        text-align: right;\n    }\n</style>\n<table border=\"1\" class=\"dataframe\">\n  <thead>\n    <tr style=\"text-align: right;\">\n      <th></th>\n      <th>Sales</th>\n    </tr>\n    <tr>\n      <th>Pref</th>\n      <th></th>\n    </tr>\n  </thead>\n  <tbody>\n    <tr>\n      <th>Chiba</th>\n      <td>5343100</td>\n    </tr>\n    <tr>\n      <th>Gunma</th>\n      <td>4021000</td>\n    </tr>\n    <tr>\n      <th>Ibaraki</th>\n      <td>4513500</td>\n    </tr>\n    <tr>\n      <th>Kanagawa</th>\n      <td>5813100</td>\n    </tr>\n    <tr>\n      <th>Saitama</th>\n      <td>5276800</td>\n    </tr>\n    <tr>\n      <th>Tochigi</th>\n      <td>3296300</td>\n    </tr>\n    <tr>\n      <th>Tokyo</th>\n      <td>9019400</td>\n    </tr>\n  </tbody>\n</table>\n</div>"
     },
     "metadata": {}
    },
    {
     "output_type": "display_data",
     "data": {
      "text/plain": "Sales    9019400\nName: Tokyo, dtype: int64"
     },
     "metadata": {}
    }
   ],
   "source": [
    "display(de_pref)\n",
    "max_sale_pref = de_pref.loc[ de_pref['Sales'].idxmax() ]\n",
    "display( max_sale_pref )"
   ]
  },
  {
   "cell_type": "code",
   "execution_count": 11,
   "metadata": {},
   "outputs": [
    {
     "output_type": "execute_result",
     "data": {
      "text/plain": "Product       BAT     GLOVE    SHOES  UNIFORM       All\nPref                                                   \nChiba      966000   1486300  1356800  1534000   5343100\nGunma      938400   1402800   960000   719800   4021000\nIbaraki   1090200   1152300  1126400  1144600   4513500\nKanagawa  1297200   1619900  1574400  1321600   5813100\nSaitama   1228200   1503000  1318400  1227200   5276800\nTochigi    759000    718100   780800  1038400   3296300\nTokyo     2166600   2839000  2137600  1876200   9019400\nAll       8445600  10721400  9254400  8861800  37283200",
      "text/html": "<div>\n<style scoped>\n    .dataframe tbody tr th:only-of-type {\n        vertical-align: middle;\n    }\n\n    .dataframe tbody tr th {\n        vertical-align: top;\n    }\n\n    .dataframe thead th {\n        text-align: right;\n    }\n</style>\n<table border=\"1\" class=\"dataframe\">\n  <thead>\n    <tr style=\"text-align: right;\">\n      <th>Product</th>\n      <th>BAT</th>\n      <th>GLOVE</th>\n      <th>SHOES</th>\n      <th>UNIFORM</th>\n      <th>All</th>\n    </tr>\n    <tr>\n      <th>Pref</th>\n      <th></th>\n      <th></th>\n      <th></th>\n      <th></th>\n      <th></th>\n    </tr>\n  </thead>\n  <tbody>\n    <tr>\n      <th>Chiba</th>\n      <td>966000</td>\n      <td>1486300</td>\n      <td>1356800</td>\n      <td>1534000</td>\n      <td>5343100</td>\n    </tr>\n    <tr>\n      <th>Gunma</th>\n      <td>938400</td>\n      <td>1402800</td>\n      <td>960000</td>\n      <td>719800</td>\n      <td>4021000</td>\n    </tr>\n    <tr>\n      <th>Ibaraki</th>\n      <td>1090200</td>\n      <td>1152300</td>\n      <td>1126400</td>\n      <td>1144600</td>\n      <td>4513500</td>\n    </tr>\n    <tr>\n      <th>Kanagawa</th>\n      <td>1297200</td>\n      <td>1619900</td>\n      <td>1574400</td>\n      <td>1321600</td>\n      <td>5813100</td>\n    </tr>\n    <tr>\n      <th>Saitama</th>\n      <td>1228200</td>\n      <td>1503000</td>\n      <td>1318400</td>\n      <td>1227200</td>\n      <td>5276800</td>\n    </tr>\n    <tr>\n      <th>Tochigi</th>\n      <td>759000</td>\n      <td>718100</td>\n      <td>780800</td>\n      <td>1038400</td>\n      <td>3296300</td>\n    </tr>\n    <tr>\n      <th>Tokyo</th>\n      <td>2166600</td>\n      <td>2839000</td>\n      <td>2137600</td>\n      <td>1876200</td>\n      <td>9019400</td>\n    </tr>\n    <tr>\n      <th>All</th>\n      <td>8445600</td>\n      <td>10721400</td>\n      <td>9254400</td>\n      <td>8861800</td>\n      <td>37283200</td>\n    </tr>\n  </tbody>\n</table>\n</div>"
     },
     "metadata": {},
     "execution_count": 11
    }
   ],
   "source": [
    "pd.crosstab(df['Pref'], df['Product'], values=df['Sales'], aggfunc='sum', margins=True)"
   ]
  },
  {
   "cell_type": "code",
   "execution_count": null,
   "metadata": {},
   "outputs": [],
   "source": []
  }
 ],
 "metadata": {
  "kernelspec": {
   "display_name": "Python 3",
   "language": "python",
   "name": "python3"
  },
  "language_info": {
   "codemirror_mode": {
    "name": "ipython",
    "version": 3
   },
   "file_extension": ".py",
   "mimetype": "text/x-python",
   "name": "python",
   "nbconvert_exporter": "python",
   "pygments_lexer": "ipython3",
   "version": "3.8.2-final"
  }
 },
 "nbformat": 4,
 "nbformat_minor": 2
}