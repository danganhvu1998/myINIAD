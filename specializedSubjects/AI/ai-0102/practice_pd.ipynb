{
 "metadata": {
  "language_info": {
   "codemirror_mode": {
    "name": "ipython",
    "version": 3
   },
   "file_extension": ".py",
   "mimetype": "text/x-python",
   "name": "python",
   "nbconvert_exporter": "python",
   "pygments_lexer": "ipython3",
   "version": "3.8.8-final"
  },
  "orig_nbformat": 2,
  "kernelspec": {
   "name": "python388jvsc74a57bd0db8b7fe47b70054bb2bb00b153272d4f7a23c7269610021a9b5fc371a2b81095",
   "display_name": "Python 3.8.8 64-bit ('iniad_ai': conda)"
  },
  "metadata": {
   "interpreter": {
    "hash": "db8b7fe47b70054bb2bb00b153272d4f7a23c7269610021a9b5fc371a2b81095"
   }
  }
 },
 "nbformat": 4,
 "nbformat_minor": 2,
 "cells": [
  {
   "cell_type": "code",
   "execution_count": 25,
   "metadata": {},
   "outputs": [],
   "source": [
    "import numpy as np\n",
    "import pandas as pd"
   ]
  },
  {
   "cell_type": "code",
   "execution_count": 26,
   "metadata": {},
   "outputs": [
    {
     "output_type": "display_data",
     "data": {
      "text/plain": "    CHANNEL REGION  FRESH   MILK  GROCERY  FROZEN  DET_PAPER  DELICA\n0    Retail  Other  12669   9656     7561     214       2674    1338\n1    Retail  Other   7057   9810     9568    1762       3293    1776\n2    Retail  Other   6353   8808     7684    2405       3516    7844\n3    Horeca  Other  13265   1196     4221    6404        507    1788\n4    Retail  Other  22615   5410     7198    3915       1777    5185\n..      ...    ...    ...    ...      ...     ...        ...     ...\n435  Horeca  Other  29703  12051    16027   13135        182    2204\n436  Horeca  Other  39228   1431      764    4510         93    2346\n437  Retail  Other  14531  15488    30243     437      14841    1867\n438  Horeca  Other  10290   1981     2232    1038        168    2125\n439  Horeca  Other   2787   1698     2510      65        477      52\n\n[440 rows x 8 columns]",
      "text/html": "<div>\n<style scoped>\n    .dataframe tbody tr th:only-of-type {\n        vertical-align: middle;\n    }\n\n    .dataframe tbody tr th {\n        vertical-align: top;\n    }\n\n    .dataframe thead th {\n        text-align: right;\n    }\n</style>\n<table border=\"1\" class=\"dataframe\">\n  <thead>\n    <tr style=\"text-align: right;\">\n      <th></th>\n      <th>CHANNEL</th>\n      <th>REGION</th>\n      <th>FRESH</th>\n      <th>MILK</th>\n      <th>GROCERY</th>\n      <th>FROZEN</th>\n      <th>DET_PAPER</th>\n      <th>DELICA</th>\n    </tr>\n  </thead>\n  <tbody>\n    <tr>\n      <th>0</th>\n      <td>Retail</td>\n      <td>Other</td>\n      <td>12669</td>\n      <td>9656</td>\n      <td>7561</td>\n      <td>214</td>\n      <td>2674</td>\n      <td>1338</td>\n    </tr>\n    <tr>\n      <th>1</th>\n      <td>Retail</td>\n      <td>Other</td>\n      <td>7057</td>\n      <td>9810</td>\n      <td>9568</td>\n      <td>1762</td>\n      <td>3293</td>\n      <td>1776</td>\n    </tr>\n    <tr>\n      <th>2</th>\n      <td>Retail</td>\n      <td>Other</td>\n      <td>6353</td>\n      <td>8808</td>\n      <td>7684</td>\n      <td>2405</td>\n      <td>3516</td>\n      <td>7844</td>\n    </tr>\n    <tr>\n      <th>3</th>\n      <td>Horeca</td>\n      <td>Other</td>\n      <td>13265</td>\n      <td>1196</td>\n      <td>4221</td>\n      <td>6404</td>\n      <td>507</td>\n      <td>1788</td>\n    </tr>\n    <tr>\n      <th>4</th>\n      <td>Retail</td>\n      <td>Other</td>\n      <td>22615</td>\n      <td>5410</td>\n      <td>7198</td>\n      <td>3915</td>\n      <td>1777</td>\n      <td>5185</td>\n    </tr>\n    <tr>\n      <th>...</th>\n      <td>...</td>\n      <td>...</td>\n      <td>...</td>\n      <td>...</td>\n      <td>...</td>\n      <td>...</td>\n      <td>...</td>\n      <td>...</td>\n    </tr>\n    <tr>\n      <th>435</th>\n      <td>Horeca</td>\n      <td>Other</td>\n      <td>29703</td>\n      <td>12051</td>\n      <td>16027</td>\n      <td>13135</td>\n      <td>182</td>\n      <td>2204</td>\n    </tr>\n    <tr>\n      <th>436</th>\n      <td>Horeca</td>\n      <td>Other</td>\n      <td>39228</td>\n      <td>1431</td>\n      <td>764</td>\n      <td>4510</td>\n      <td>93</td>\n      <td>2346</td>\n    </tr>\n    <tr>\n      <th>437</th>\n      <td>Retail</td>\n      <td>Other</td>\n      <td>14531</td>\n      <td>15488</td>\n      <td>30243</td>\n      <td>437</td>\n      <td>14841</td>\n      <td>1867</td>\n    </tr>\n    <tr>\n      <th>438</th>\n      <td>Horeca</td>\n      <td>Other</td>\n      <td>10290</td>\n      <td>1981</td>\n      <td>2232</td>\n      <td>1038</td>\n      <td>168</td>\n      <td>2125</td>\n    </tr>\n    <tr>\n      <th>439</th>\n      <td>Horeca</td>\n      <td>Other</td>\n      <td>2787</td>\n      <td>1698</td>\n      <td>2510</td>\n      <td>65</td>\n      <td>477</td>\n      <td>52</td>\n    </tr>\n  </tbody>\n</table>\n<p>440 rows × 8 columns</p>\n</div>"
     },
     "metadata": {}
    }
   ],
   "source": [
    "df = pd.read_csv('../iniadMaterial/AI-0102/pandas_training-utf8.csv',delimiter=',', skiprows=13, header=0)\n",
    "display(df)"
   ]
  },
  {
   "cell_type": "code",
   "execution_count": 27,
   "metadata": {},
   "outputs": [
    {
     "output_type": "stream",
     "name": "stdout",
     "text": [
      "181\nCHANNEL      Horeca\nREGION        Other\nFRESH        112151\nMILK          29627\nGROCERY       18148\nFROZEN        16745\nDET_PAPER      4948\nDELICA         8550\nName: 181, dtype: object\n"
     ]
    }
   ],
   "source": [
    "id_col_max = df['FRESH'].idxmax()\n",
    "print( id_col_max )\n",
    "print(df.loc[ id_col_max ])"
   ]
  },
  {
   "cell_type": "code",
   "execution_count": 28,
   "metadata": {},
   "outputs": [
    {
     "output_type": "display_data",
     "data": {
      "text/plain": "    CHANNEL  REGION   FRESH   MILK  GROCERY  FROZEN  DET_PAPER  DELICA\n39   Horeca   Other   56159    555      902   10002        212    2916\n103  Horeca   Other   56082   3504     8906   18028       1480    2498\n125  Horeca   Other   76237   3473     7102   16538        778     918\n181  Horeca   Other  112151  29627    18148   16745       4948    8550\n258  Horeca  Lisbon   56083   4563     2124    6422        730    3321\n259  Horeca  Lisbon   53205   4959     7336    3012        967     818\n284  Horeca   Other   68951   4411    12609    8692        751    2406",
      "text/html": "<div>\n<style scoped>\n    .dataframe tbody tr th:only-of-type {\n        vertical-align: middle;\n    }\n\n    .dataframe tbody tr th {\n        vertical-align: top;\n    }\n\n    .dataframe thead th {\n        text-align: right;\n    }\n</style>\n<table border=\"1\" class=\"dataframe\">\n  <thead>\n    <tr style=\"text-align: right;\">\n      <th></th>\n      <th>CHANNEL</th>\n      <th>REGION</th>\n      <th>FRESH</th>\n      <th>MILK</th>\n      <th>GROCERY</th>\n      <th>FROZEN</th>\n      <th>DET_PAPER</th>\n      <th>DELICA</th>\n    </tr>\n  </thead>\n  <tbody>\n    <tr>\n      <th>39</th>\n      <td>Horeca</td>\n      <td>Other</td>\n      <td>56159</td>\n      <td>555</td>\n      <td>902</td>\n      <td>10002</td>\n      <td>212</td>\n      <td>2916</td>\n    </tr>\n    <tr>\n      <th>103</th>\n      <td>Horeca</td>\n      <td>Other</td>\n      <td>56082</td>\n      <td>3504</td>\n      <td>8906</td>\n      <td>18028</td>\n      <td>1480</td>\n      <td>2498</td>\n    </tr>\n    <tr>\n      <th>125</th>\n      <td>Horeca</td>\n      <td>Other</td>\n      <td>76237</td>\n      <td>3473</td>\n      <td>7102</td>\n      <td>16538</td>\n      <td>778</td>\n      <td>918</td>\n    </tr>\n    <tr>\n      <th>181</th>\n      <td>Horeca</td>\n      <td>Other</td>\n      <td>112151</td>\n      <td>29627</td>\n      <td>18148</td>\n      <td>16745</td>\n      <td>4948</td>\n      <td>8550</td>\n    </tr>\n    <tr>\n      <th>258</th>\n      <td>Horeca</td>\n      <td>Lisbon</td>\n      <td>56083</td>\n      <td>4563</td>\n      <td>2124</td>\n      <td>6422</td>\n      <td>730</td>\n      <td>3321</td>\n    </tr>\n    <tr>\n      <th>259</th>\n      <td>Horeca</td>\n      <td>Lisbon</td>\n      <td>53205</td>\n      <td>4959</td>\n      <td>7336</td>\n      <td>3012</td>\n      <td>967</td>\n      <td>818</td>\n    </tr>\n    <tr>\n      <th>284</th>\n      <td>Horeca</td>\n      <td>Other</td>\n      <td>68951</td>\n      <td>4411</td>\n      <td>12609</td>\n      <td>8692</td>\n      <td>751</td>\n      <td>2406</td>\n    </tr>\n  </tbody>\n</table>\n</div>"
     },
     "metadata": {}
    }
   ],
   "source": [
    "df_10k = df[ df['FRESH'] > 50000 ]\n",
    "display(df_10k)"
   ]
  },
  {
   "cell_type": "code",
   "execution_count": 29,
   "metadata": {},
   "outputs": [
    {
     "output_type": "execute_result",
     "data": {
      "text/plain": [
       "   index CHANNEL  REGION   FRESH   MILK  GROCERY  FROZEN  DET_PAPER  DELICA\n",
       "0     39  Horeca   Other   56159    555      902   10002        212    2916\n",
       "1    103  Horeca   Other   56082   3504     8906   18028       1480    2498\n",
       "2    125  Horeca   Other   76237   3473     7102   16538        778     918\n",
       "3    181  Horeca   Other  112151  29627    18148   16745       4948    8550\n",
       "4    258  Horeca  Lisbon   56083   4563     2124    6422        730    3321\n",
       "5    259  Horeca  Lisbon   53205   4959     7336    3012        967     818\n",
       "6    284  Horeca   Other   68951   4411    12609    8692        751    2406"
      ],
      "text/html": "<div>\n<style scoped>\n    .dataframe tbody tr th:only-of-type {\n        vertical-align: middle;\n    }\n\n    .dataframe tbody tr th {\n        vertical-align: top;\n    }\n\n    .dataframe thead th {\n        text-align: right;\n    }\n</style>\n<table border=\"1\" class=\"dataframe\">\n  <thead>\n    <tr style=\"text-align: right;\">\n      <th></th>\n      <th>index</th>\n      <th>CHANNEL</th>\n      <th>REGION</th>\n      <th>FRESH</th>\n      <th>MILK</th>\n      <th>GROCERY</th>\n      <th>FROZEN</th>\n      <th>DET_PAPER</th>\n      <th>DELICA</th>\n    </tr>\n  </thead>\n  <tbody>\n    <tr>\n      <th>0</th>\n      <td>39</td>\n      <td>Horeca</td>\n      <td>Other</td>\n      <td>56159</td>\n      <td>555</td>\n      <td>902</td>\n      <td>10002</td>\n      <td>212</td>\n      <td>2916</td>\n    </tr>\n    <tr>\n      <th>1</th>\n      <td>103</td>\n      <td>Horeca</td>\n      <td>Other</td>\n      <td>56082</td>\n      <td>3504</td>\n      <td>8906</td>\n      <td>18028</td>\n      <td>1480</td>\n      <td>2498</td>\n    </tr>\n    <tr>\n      <th>2</th>\n      <td>125</td>\n      <td>Horeca</td>\n      <td>Other</td>\n      <td>76237</td>\n      <td>3473</td>\n      <td>7102</td>\n      <td>16538</td>\n      <td>778</td>\n      <td>918</td>\n    </tr>\n    <tr>\n      <th>3</th>\n      <td>181</td>\n      <td>Horeca</td>\n      <td>Other</td>\n      <td>112151</td>\n      <td>29627</td>\n      <td>18148</td>\n      <td>16745</td>\n      <td>4948</td>\n      <td>8550</td>\n    </tr>\n    <tr>\n      <th>4</th>\n      <td>258</td>\n      <td>Horeca</td>\n      <td>Lisbon</td>\n      <td>56083</td>\n      <td>4563</td>\n      <td>2124</td>\n      <td>6422</td>\n      <td>730</td>\n      <td>3321</td>\n    </tr>\n    <tr>\n      <th>5</th>\n      <td>259</td>\n      <td>Horeca</td>\n      <td>Lisbon</td>\n      <td>53205</td>\n      <td>4959</td>\n      <td>7336</td>\n      <td>3012</td>\n      <td>967</td>\n      <td>818</td>\n    </tr>\n    <tr>\n      <th>6</th>\n      <td>284</td>\n      <td>Horeca</td>\n      <td>Other</td>\n      <td>68951</td>\n      <td>4411</td>\n      <td>12609</td>\n      <td>8692</td>\n      <td>751</td>\n      <td>2406</td>\n    </tr>\n  </tbody>\n</table>\n</div>"
     },
     "metadata": {},
     "execution_count": 29
    }
   ],
   "source": [
    "df_10k.reset_index()"
   ]
  },
  {
   "cell_type": "code",
   "execution_count": 30,
   "metadata": {},
   "outputs": [
    {
     "output_type": "execute_result",
     "data": {
      "text/plain": [
       "  CHANNEL  REGION   FRESH   MILK  GROCERY  FROZEN  DET_PAPER  DELICA\n",
       "0  Horeca   Other   56159    555      902   10002        212    2916\n",
       "1  Horeca   Other   56082   3504     8906   18028       1480    2498\n",
       "2  Horeca   Other   76237   3473     7102   16538        778     918\n",
       "3  Horeca   Other  112151  29627    18148   16745       4948    8550\n",
       "4  Horeca  Lisbon   56083   4563     2124    6422        730    3321\n",
       "5  Horeca  Lisbon   53205   4959     7336    3012        967     818\n",
       "6  Horeca   Other   68951   4411    12609    8692        751    2406"
      ],
      "text/html": "<div>\n<style scoped>\n    .dataframe tbody tr th:only-of-type {\n        vertical-align: middle;\n    }\n\n    .dataframe tbody tr th {\n        vertical-align: top;\n    }\n\n    .dataframe thead th {\n        text-align: right;\n    }\n</style>\n<table border=\"1\" class=\"dataframe\">\n  <thead>\n    <tr style=\"text-align: right;\">\n      <th></th>\n      <th>CHANNEL</th>\n      <th>REGION</th>\n      <th>FRESH</th>\n      <th>MILK</th>\n      <th>GROCERY</th>\n      <th>FROZEN</th>\n      <th>DET_PAPER</th>\n      <th>DELICA</th>\n    </tr>\n  </thead>\n  <tbody>\n    <tr>\n      <th>0</th>\n      <td>Horeca</td>\n      <td>Other</td>\n      <td>56159</td>\n      <td>555</td>\n      <td>902</td>\n      <td>10002</td>\n      <td>212</td>\n      <td>2916</td>\n    </tr>\n    <tr>\n      <th>1</th>\n      <td>Horeca</td>\n      <td>Other</td>\n      <td>56082</td>\n      <td>3504</td>\n      <td>8906</td>\n      <td>18028</td>\n      <td>1480</td>\n      <td>2498</td>\n    </tr>\n    <tr>\n      <th>2</th>\n      <td>Horeca</td>\n      <td>Other</td>\n      <td>76237</td>\n      <td>3473</td>\n      <td>7102</td>\n      <td>16538</td>\n      <td>778</td>\n      <td>918</td>\n    </tr>\n    <tr>\n      <th>3</th>\n      <td>Horeca</td>\n      <td>Other</td>\n      <td>112151</td>\n      <td>29627</td>\n      <td>18148</td>\n      <td>16745</td>\n      <td>4948</td>\n      <td>8550</td>\n    </tr>\n    <tr>\n      <th>4</th>\n      <td>Horeca</td>\n      <td>Lisbon</td>\n      <td>56083</td>\n      <td>4563</td>\n      <td>2124</td>\n      <td>6422</td>\n      <td>730</td>\n      <td>3321</td>\n    </tr>\n    <tr>\n      <th>5</th>\n      <td>Horeca</td>\n      <td>Lisbon</td>\n      <td>53205</td>\n      <td>4959</td>\n      <td>7336</td>\n      <td>3012</td>\n      <td>967</td>\n      <td>818</td>\n    </tr>\n    <tr>\n      <th>6</th>\n      <td>Horeca</td>\n      <td>Other</td>\n      <td>68951</td>\n      <td>4411</td>\n      <td>12609</td>\n      <td>8692</td>\n      <td>751</td>\n      <td>2406</td>\n    </tr>\n  </tbody>\n</table>\n</div>"
     },
     "metadata": {},
     "execution_count": 30
    }
   ],
   "source": [
    "df_10k.reset_index(drop=True)"
   ]
  },
  {
   "cell_type": "code",
   "execution_count": 33,
   "metadata": {},
   "outputs": [
    {
     "output_type": "display_data",
     "data": {
      "text/plain": "None"
     },
     "metadata": {}
    }
   ],
   "source": [
    "inplace_df_10k = df_10k.reset_index(drop=False, inplace=True)\n",
    "display(inplace_df_10k)"
   ]
  },
  {
   "cell_type": "code",
   "execution_count": null,
   "metadata": {},
   "outputs": [],
   "source": []
  }
 ]
}