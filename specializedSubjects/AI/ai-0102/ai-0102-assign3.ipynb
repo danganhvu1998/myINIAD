{
 "metadata": {
  "language_info": {
   "codemirror_mode": {
    "name": "ipython",
    "version": 3
   },
   "file_extension": ".py",
   "mimetype": "text/x-python",
   "name": "python",
   "nbconvert_exporter": "python",
   "pygments_lexer": "ipython3",
   "version": "3.8.8-final"
  },
  "orig_nbformat": 2,
  "kernelspec": {
   "name": "python388jvsc74a57bd0e8880c58ea65068827af19aa57df99e07da1109ce0dc5e321474e5f3a08d850b",
   "display_name": "Python 3.8.8 64-bit"
  },
  "metadata": {
   "interpreter": {
    "hash": "e8880c58ea65068827af19aa57df99e07da1109ce0dc5e321474e5f3a08d850b"
   }
  }
 },
 "nbformat": 4,
 "nbformat_minor": 2,
 "cells": [
  {
   "cell_type": "code",
   "execution_count": 1,
   "metadata": {},
   "outputs": [],
   "source": [
    "import numpy as np\n",
    "import pandas as pd"
   ]
  },
  {
   "cell_type": "code",
   "execution_count": 2,
   "metadata": {},
   "outputs": [
    {
     "output_type": "stream",
     "name": "stdout",
     "text": [
      "(139, 7)\nDate        object\nOpen         int64\nHigh         int64\nLow          int64\nClose        int64\nVol          int64\nAdjClose     int64\ndtype: object\n<class 'pandas.core.frame.DataFrame'>\nRangeIndex: 139 entries, 0 to 138\nData columns (total 7 columns):\n #   Column    Non-Null Count  Dtype \n---  ------    --------------  ----- \n 0   Date      139 non-null    object\n 1   Open      139 non-null    int64 \n 2   High      139 non-null    int64 \n 3   Low       139 non-null    int64 \n 4   Close     139 non-null    int64 \n 5   Vol       139 non-null    int64 \n 6   AdjClose  139 non-null    int64 \ndtypes: int64(6), object(1)\nmemory usage: 7.7+ KB\n"
     ]
    },
    {
     "output_type": "display_data",
     "data": {
      "text/plain": "None"
     },
     "metadata": {}
    },
    {
     "output_type": "stream",
     "name": "stdout",
     "text": [
      "(201, 7)\nDate        object\nOpen         int64\nHigh         int64\nLow          int64\nClose        int64\nVol          int64\nAdjClose     int64\ndtype: object\n<class 'pandas.core.frame.DataFrame'>\nRangeIndex: 201 entries, 0 to 200\nData columns (total 7 columns):\n #   Column    Non-Null Count  Dtype \n---  ------    --------------  ----- \n 0   Date      201 non-null    object\n 1   Open      201 non-null    int64 \n 2   High      201 non-null    int64 \n 3   Low       201 non-null    int64 \n 4   Close     201 non-null    int64 \n 5   Vol       201 non-null    int64 \n 6   AdjClose  201 non-null    int64 \ndtypes: int64(6), object(1)\nmemory usage: 11.1+ KB\n"
     ]
    },
    {
     "output_type": "display_data",
     "data": {
      "text/plain": "None"
     },
     "metadata": {}
    }
   ],
   "source": [
    "df1 = pd.read_csv('../iniadMaterial/AI-0102/1393_2017-utf8.csv',delimiter=',', skiprows=9, header=0)\n",
    "print( df1.shape )\n",
    "print( df1.dtypes )\n",
    "display( df1.info() )\n",
    "df2 = pd.read_csv('../iniadMaterial/AI-0102/2045_2017-utf8.csv',delimiter=',', skiprows=9, header=0)\n",
    "print( df2.shape )\n",
    "print( df2.dtypes )\n",
    "display( df2.info() )"
   ]
  },
  {
   "cell_type": "code",
   "execution_count": 3,
   "metadata": {},
   "outputs": [
    {
     "output_type": "display_data",
     "data": {
      "text/plain": "        Date   High\n0 2017-01-04  25520\n1 2017-01-05  25520\n2 2017-01-06  25170\n3 2017-01-10  25170\n4 2017-01-11  25040",
      "text/html": "<div>\n<style scoped>\n    .dataframe tbody tr th:only-of-type {\n        vertical-align: middle;\n    }\n\n    .dataframe tbody tr th {\n        vertical-align: top;\n    }\n\n    .dataframe thead th {\n        text-align: right;\n    }\n</style>\n<table border=\"1\" class=\"dataframe\">\n  <thead>\n    <tr style=\"text-align: right;\">\n      <th></th>\n      <th>Date</th>\n      <th>High</th>\n    </tr>\n  </thead>\n  <tbody>\n    <tr>\n      <th>0</th>\n      <td>2017-01-04</td>\n      <td>25520</td>\n    </tr>\n    <tr>\n      <th>1</th>\n      <td>2017-01-05</td>\n      <td>25520</td>\n    </tr>\n    <tr>\n      <th>2</th>\n      <td>2017-01-06</td>\n      <td>25170</td>\n    </tr>\n    <tr>\n      <th>3</th>\n      <td>2017-01-10</td>\n      <td>25170</td>\n    </tr>\n    <tr>\n      <th>4</th>\n      <td>2017-01-11</td>\n      <td>25040</td>\n    </tr>\n  </tbody>\n</table>\n</div>"
     },
     "metadata": {}
    }
   ],
   "source": [
    "df1['Date'] = pd.to_datetime(df1['Date'], format='%Y-%m-%d')\n",
    "df1 = df1[['Date', 'High']]\n",
    "display(df1.head())"
   ]
  },
  {
   "cell_type": "code",
   "execution_count": 4,
   "metadata": {},
   "outputs": [
    {
     "output_type": "display_data",
     "data": {
      "text/plain": "        Date  High\n0 2017-01-04  9340\n1 2017-01-05  9340\n2 2017-01-06  9380\n3 2017-01-10  9390\n4 2017-01-11  9520",
      "text/html": "<div>\n<style scoped>\n    .dataframe tbody tr th:only-of-type {\n        vertical-align: middle;\n    }\n\n    .dataframe tbody tr th {\n        vertical-align: top;\n    }\n\n    .dataframe thead th {\n        text-align: right;\n    }\n</style>\n<table border=\"1\" class=\"dataframe\">\n  <thead>\n    <tr style=\"text-align: right;\">\n      <th></th>\n      <th>Date</th>\n      <th>High</th>\n    </tr>\n  </thead>\n  <tbody>\n    <tr>\n      <th>0</th>\n      <td>2017-01-04</td>\n      <td>9340</td>\n    </tr>\n    <tr>\n      <th>1</th>\n      <td>2017-01-05</td>\n      <td>9340</td>\n    </tr>\n    <tr>\n      <th>2</th>\n      <td>2017-01-06</td>\n      <td>9380</td>\n    </tr>\n    <tr>\n      <th>3</th>\n      <td>2017-01-10</td>\n      <td>9390</td>\n    </tr>\n    <tr>\n      <th>4</th>\n      <td>2017-01-11</td>\n      <td>9520</td>\n    </tr>\n  </tbody>\n</table>\n</div>"
     },
     "metadata": {}
    }
   ],
   "source": [
    "df2['Date'] = pd.to_datetime(df2['Date'], format='%Y-%m-%d')\n",
    "df2 = df2[['Date', 'High']]\n",
    "display(df2.head())"
   ]
  },
  {
   "cell_type": "code",
   "execution_count": 6,
   "metadata": {},
   "outputs": [
    {
     "output_type": "display_data",
     "data": {
      "text/plain": "        Date  High_x  High_y\n0 2017-01-04   25520    9340\n1 2017-01-05   25520    9340\n2 2017-01-06   25170    9380\n3 2017-01-10   25170    9390\n4 2017-01-11   25040    9520",
      "text/html": "<div>\n<style scoped>\n    .dataframe tbody tr th:only-of-type {\n        vertical-align: middle;\n    }\n\n    .dataframe tbody tr th {\n        vertical-align: top;\n    }\n\n    .dataframe thead th {\n        text-align: right;\n    }\n</style>\n<table border=\"1\" class=\"dataframe\">\n  <thead>\n    <tr style=\"text-align: right;\">\n      <th></th>\n      <th>Date</th>\n      <th>High_x</th>\n      <th>High_y</th>\n    </tr>\n  </thead>\n  <tbody>\n    <tr>\n      <th>0</th>\n      <td>2017-01-04</td>\n      <td>25520</td>\n      <td>9340</td>\n    </tr>\n    <tr>\n      <th>1</th>\n      <td>2017-01-05</td>\n      <td>25520</td>\n      <td>9340</td>\n    </tr>\n    <tr>\n      <th>2</th>\n      <td>2017-01-06</td>\n      <td>25170</td>\n      <td>9380</td>\n    </tr>\n    <tr>\n      <th>3</th>\n      <td>2017-01-10</td>\n      <td>25170</td>\n      <td>9390</td>\n    </tr>\n    <tr>\n      <th>4</th>\n      <td>2017-01-11</td>\n      <td>25040</td>\n      <td>9520</td>\n    </tr>\n  </tbody>\n</table>\n</div>"
     },
     "metadata": {}
    }
   ],
   "source": [
    "df12 = pd.merge(df1, df2, on='Date', how='inner')\n",
    "display(df12.head())"
   ]
  },
  {
   "cell_type": "code",
   "execution_count": 7,
   "metadata": {},
   "outputs": [
    {
     "output_type": "stream",
     "name": "stdout",
     "text": [
      "0.9000759630136421\n"
     ]
    }
   ],
   "source": [
    "print(df12['High_x'].corr(df12['High_y']))"
   ]
  }
 ]
}