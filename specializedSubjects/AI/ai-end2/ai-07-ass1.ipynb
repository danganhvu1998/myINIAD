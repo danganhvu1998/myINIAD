{
 "cells": [
  {
   "cell_type": "markdown",
   "metadata": {},
   "source": [
    "### Sample program for calculating accuracy measures and plotting ROC / PR curve"
   ]
  },
  {
   "cell_type": "markdown",
   "metadata": {},
   "source": [
    "#### Import libraries  "
   ]
  },
  {
   "cell_type": "code",
   "execution_count": 1,
   "metadata": {},
   "outputs": [],
   "source": [
    "import random\n",
    "import pandas as pd\n",
    "import numpy as np\n",
    "import matplotlib.pyplot as plt\n",
    "from sklearn.metrics import roc_curve, auc, roc_auc_score\n",
    "from sklearn.metrics import precision_recall_curve\n",
    "from sklearn.metrics import precision_score, recall_score, accuracy_score\n",
    "from sklearn.metrics import f1_score, matthews_corrcoef"
   ]
  },
  {
   "cell_type": "markdown",
   "metadata": {},
   "source": [
    "#### Parameters  "
   ]
  },
  {
   "cell_type": "code",
   "execution_count": 2,
   "metadata": {},
   "outputs": [],
   "source": [
    "csv_in = 'ai-end2-1.csv'"
   ]
  },
  {
   "cell_type": "markdown",
   "metadata": {},
   "source": [
    "#### CSV file  "
   ]
  },
  {
   "cell_type": "code",
   "execution_count": 3,
   "metadata": {},
   "outputs": [
    {
     "name": "stdout",
     "output_type": "stream",
     "text": [
      "(107, 4)\n",
      "<class 'pandas.core.frame.DataFrame'>\n",
      "RangeIndex: 107 entries, 0 to 106\n",
      "Data columns (total 4 columns):\n",
      " #   Column  Non-Null Count  Dtype  \n",
      "---  ------  --------------  -----  \n",
      " 0   label   107 non-null    float64\n",
      " 1   A       107 non-null    float64\n",
      " 2   B       107 non-null    float64\n",
      " 3   C       107 non-null    float64\n",
      "dtypes: float64(4)\n",
      "memory usage: 3.5 KB\n",
      "None\n"
     ]
    },
    {
     "data": {
      "text/html": [
       "<div>\n",
       "<style scoped>\n",
       "    .dataframe tbody tr th:only-of-type {\n",
       "        vertical-align: middle;\n",
       "    }\n",
       "\n",
       "    .dataframe tbody tr th {\n",
       "        vertical-align: top;\n",
       "    }\n",
       "\n",
       "    .dataframe thead th {\n",
       "        text-align: right;\n",
       "    }\n",
       "</style>\n",
       "<table border=\"1\" class=\"dataframe\">\n",
       "  <thead>\n",
       "    <tr style=\"text-align: right;\">\n",
       "      <th></th>\n",
       "      <th>label</th>\n",
       "      <th>A</th>\n",
       "      <th>B</th>\n",
       "      <th>C</th>\n",
       "    </tr>\n",
       "  </thead>\n",
       "  <tbody>\n",
       "    <tr>\n",
       "      <th>0</th>\n",
       "      <td>1.0</td>\n",
       "      <td>0.288374</td>\n",
       "      <td>0.957809</td>\n",
       "      <td>0.643425</td>\n",
       "    </tr>\n",
       "    <tr>\n",
       "      <th>1</th>\n",
       "      <td>1.0</td>\n",
       "      <td>0.954157</td>\n",
       "      <td>0.861865</td>\n",
       "      <td>0.801566</td>\n",
       "    </tr>\n",
       "    <tr>\n",
       "      <th>2</th>\n",
       "      <td>1.0</td>\n",
       "      <td>0.605162</td>\n",
       "      <td>0.818588</td>\n",
       "      <td>0.871809</td>\n",
       "    </tr>\n",
       "    <tr>\n",
       "      <th>3</th>\n",
       "      <td>0.0</td>\n",
       "      <td>0.369670</td>\n",
       "      <td>0.090991</td>\n",
       "      <td>0.285757</td>\n",
       "    </tr>\n",
       "    <tr>\n",
       "      <th>4</th>\n",
       "      <td>0.0</td>\n",
       "      <td>0.951802</td>\n",
       "      <td>0.080485</td>\n",
       "      <td>0.634434</td>\n",
       "    </tr>\n",
       "  </tbody>\n",
       "</table>\n",
       "</div>"
      ],
      "text/plain": [
       "   label         A         B         C\n",
       "0    1.0  0.288374  0.957809  0.643425\n",
       "1    1.0  0.954157  0.861865  0.801566\n",
       "2    1.0  0.605162  0.818588  0.871809\n",
       "3    0.0  0.369670  0.090991  0.285757\n",
       "4    0.0  0.951802  0.080485  0.634434"
      ]
     },
     "metadata": {},
     "output_type": "display_data"
    }
   ],
   "source": [
    "df = pd.read_csv(csv_in, delimiter=',', skiprows=0, header=0)\n",
    "print(df.shape)\n",
    "print(df.info())\n",
    "display(df.head())"
   ]
  },
  {
   "cell_type": "markdown",
   "metadata": {},
   "source": [
    "#### Confusing matrix (混同行列) and measurements for prediction accuracy for each method  "
   ]
  },
  {
   "cell_type": "code",
   "execution_count": 4,
   "metadata": {},
   "outputs": [
    {
     "name": "stdout",
     "output_type": "stream",
     "text": [
      "A\n",
      "precision: 0.704225352112676\n",
      "recall: 0.7936507936507936\n",
      "accuracy(Q2): 0.6822429906542056\n",
      "f1: 0.7462686567164178\n",
      "matthews: 0.32947506751627353\n",
      "false positive rate: 0.4772727272727273\n"
     ]
    },
    {
     "data": {
      "text/html": [
       "<div>\n",
       "<style scoped>\n",
       "    .dataframe tbody tr th:only-of-type {\n",
       "        vertical-align: middle;\n",
       "    }\n",
       "\n",
       "    .dataframe tbody tr th {\n",
       "        vertical-align: top;\n",
       "    }\n",
       "\n",
       "    .dataframe thead th {\n",
       "        text-align: right;\n",
       "    }\n",
       "</style>\n",
       "<table border=\"1\" class=\"dataframe\">\n",
       "  <thead>\n",
       "    <tr style=\"text-align: right;\">\n",
       "      <th>A</th>\n",
       "      <th>0</th>\n",
       "      <th>1</th>\n",
       "    </tr>\n",
       "    <tr>\n",
       "      <th>label</th>\n",
       "      <th></th>\n",
       "      <th></th>\n",
       "    </tr>\n",
       "  </thead>\n",
       "  <tbody>\n",
       "    <tr>\n",
       "      <th>0.0</th>\n",
       "      <td>23</td>\n",
       "      <td>21</td>\n",
       "    </tr>\n",
       "    <tr>\n",
       "      <th>1.0</th>\n",
       "      <td>13</td>\n",
       "      <td>50</td>\n",
       "    </tr>\n",
       "  </tbody>\n",
       "</table>\n",
       "</div>"
      ],
      "text/plain": [
       "A       0   1\n",
       "label        \n",
       "0.0    23  21\n",
       "1.0    13  50"
      ]
     },
     "metadata": {},
     "output_type": "display_data"
    }
   ],
   "source": [
    "print('A')\n",
    "print('precision:', precision_score(df['label'], df['A']>=0.6))\n",
    "print('recall:', recall_score(df['label'], df['A']>=0.6))\n",
    "print('accuracy(Q2):', accuracy_score(df['label'], df['A']>=0.6))\n",
    "print('f1:', f1_score(df['label'], df['A']>=0.6))\n",
    "print('matthews:', matthews_corrcoef(df['label'], df['A']>=0.6))\n",
    "predA = df['A'].map(lambda x: 1 if x >= 0.6 else 0)\n",
    "ctA = pd.crosstab(df['label'], predA)\n",
    "fpA = ctA.loc[0,1]\n",
    "tnA = ctA.loc[0,0]\n",
    "print('false positive rate:', fpA/(fpA+tnA))\n",
    "display(ctA)"
   ]
  },
  {
   "cell_type": "code",
   "execution_count": 5,
   "metadata": {},
   "outputs": [
    {
     "name": "stdout",
     "output_type": "stream",
     "text": [
      "B\n",
      "precision: 0.8771929824561403\n",
      "recall: 0.7936507936507936\n",
      "accuracy(Q2): 0.8130841121495327\n",
      "f1: 0.8333333333333334\n",
      "matthews: 0.6258161932217313\n",
      "false positive rate: 0.1590909090909091\n",
      "specificity: 0.8409090909090909\n"
     ]
    }
   ],
   "source": [
    "print('B')\n",
    "print('precision:', precision_score(df['label'], df['B']>=0.6))\n",
    "print('recall:', recall_score(df['label'], df['B']>=0.6))\n",
    "print('accuracy(Q2):', accuracy_score(df['label'], df['B']>=0.6))\n",
    "print('f1:', f1_score(df['label'], df['B']>=0.6))\n",
    "print('matthews:', matthews_corrcoef(df['label'], df['B']>=0.6))\n",
    "predB = df['B'].map(lambda x: 1 if x >= 0.6 else 0)\n",
    "ctB = pd.crosstab(df['label'], predB)\n",
    "fpB = ctB.loc[0,1]\n",
    "tnB = ctB.loc[0,0]\n",
    "print('false positive rate:', fpB/(fpB+tnB))\n",
    "print('specificity:', tnB/(fpB+tnB))"
   ]
  },
  {
   "cell_type": "code",
   "execution_count": 6,
   "metadata": {},
   "outputs": [
    {
     "name": "stdout",
     "output_type": "stream",
     "text": [
      "C\n",
      "precision: 0.7654320987654321\n",
      "recall: 0.9841269841269841\n",
      "accuracy(Q2): 0.8130841121495327\n",
      "f1: 0.861111111111111\n",
      "matthews: 0.6336499344868604\n",
      "false positive rate: 0.4318181818181818\n"
     ]
    }
   ],
   "source": [
    "print('C')\n",
    "print('precision:', precision_score(df['label'], df['C']>=0.5))\n",
    "print('recall:', recall_score(df['label'], df['C']>=0.5))\n",
    "print('accuracy(Q2):', accuracy_score(df['label'], df['C']>=0.5))\n",
    "print('f1:', f1_score(df['label'], df['C']>=0.5))\n",
    "print('matthews:', matthews_corrcoef(df['label'], df['C']>=0.5))\n",
    "predC = df['C'].map(lambda x: 1 if x >= 0.5 else 0)\n",
    "ctC = pd.crosstab(df['label'], predC)\n",
    "fpC = ctC.loc[0,1]\n",
    "tnC = ctC.loc[0,0]\n",
    "print('false positive rate:', fpC/(fpC+tnC))"
   ]
  },
  {
   "cell_type": "code",
   "execution_count": 7,
   "metadata": {},
   "outputs": [
    {
     "ename": "NameError",
     "evalue": "name 'fprA' is not defined",
     "output_type": "error",
     "traceback": [
      "\u001b[0;31m---------------------------------------------------------------------------\u001b[0m",
      "\u001b[0;31mNameError\u001b[0m                                 Traceback (most recent call last)",
      "\u001b[0;32m<ipython-input-7-d9082b9bc9ab>\u001b[0m in \u001b[0;36m<module>\u001b[0;34m\u001b[0m\n\u001b[0;32m----> 1\u001b[0;31m \u001b[0mplt\u001b[0m\u001b[0;34m.\u001b[0m\u001b[0mplot\u001b[0m\u001b[0;34m(\u001b[0m\u001b[0mfprA\u001b[0m\u001b[0;34m,\u001b[0m \u001b[0mtprA\u001b[0m\u001b[0;34m,\u001b[0m \u001b[0mlabel\u001b[0m\u001b[0;34m=\u001b[0m\u001b[0;34m'A'\u001b[0m\u001b[0;34m)\u001b[0m\u001b[0;34m\u001b[0m\u001b[0;34m\u001b[0m\u001b[0m\n\u001b[0m\u001b[1;32m      2\u001b[0m \u001b[0mplt\u001b[0m\u001b[0;34m.\u001b[0m\u001b[0mplot\u001b[0m\u001b[0;34m(\u001b[0m\u001b[0mfprB\u001b[0m\u001b[0;34m,\u001b[0m \u001b[0mtprB\u001b[0m\u001b[0;34m,\u001b[0m \u001b[0mlabel\u001b[0m\u001b[0;34m=\u001b[0m\u001b[0;34m'B'\u001b[0m\u001b[0;34m)\u001b[0m\u001b[0;34m\u001b[0m\u001b[0;34m\u001b[0m\u001b[0m\n\u001b[1;32m      3\u001b[0m \u001b[0mplt\u001b[0m\u001b[0;34m.\u001b[0m\u001b[0mplot\u001b[0m\u001b[0;34m(\u001b[0m\u001b[0mfprC\u001b[0m\u001b[0;34m,\u001b[0m \u001b[0mtprC\u001b[0m\u001b[0;34m,\u001b[0m \u001b[0mlabel\u001b[0m\u001b[0;34m=\u001b[0m\u001b[0;34m'C'\u001b[0m\u001b[0;34m)\u001b[0m\u001b[0;34m\u001b[0m\u001b[0;34m\u001b[0m\u001b[0m\n\u001b[1;32m      4\u001b[0m \u001b[0mplt\u001b[0m\u001b[0;34m.\u001b[0m\u001b[0mplot\u001b[0m\u001b[0;34m(\u001b[0m\u001b[0;34m[\u001b[0m\u001b[0;36m0\u001b[0m\u001b[0;34m,\u001b[0m\u001b[0;36m1\u001b[0m\u001b[0;34m]\u001b[0m\u001b[0;34m,\u001b[0m\u001b[0;34m[\u001b[0m\u001b[0;36m0\u001b[0m\u001b[0;34m,\u001b[0m\u001b[0;36m1\u001b[0m\u001b[0;34m]\u001b[0m\u001b[0;34m)\u001b[0m\u001b[0;34m\u001b[0m\u001b[0;34m\u001b[0m\u001b[0m\n\u001b[1;32m      5\u001b[0m \u001b[0mplt\u001b[0m\u001b[0;34m.\u001b[0m\u001b[0mgca\u001b[0m\u001b[0;34m(\u001b[0m\u001b[0;34m)\u001b[0m\u001b[0;34m.\u001b[0m\u001b[0mset_aspect\u001b[0m\u001b[0;34m(\u001b[0m\u001b[0;34m'equal'\u001b[0m\u001b[0;34m,\u001b[0m \u001b[0madjustable\u001b[0m\u001b[0;34m=\u001b[0m\u001b[0;34m'box'\u001b[0m\u001b[0;34m)\u001b[0m\u001b[0;34m\u001b[0m\u001b[0;34m\u001b[0m\u001b[0m\n",
      "\u001b[0;31mNameError\u001b[0m: name 'fprA' is not defined"
     ]
    }
   ],
   "source": [
    "plt.plot(fprA, tprA, label='A')\n",
    "plt.plot(fprB, tprB, label='B')\n",
    "plt.plot(fprC, tprC, label='C')\n",
    "plt.plot([0,1],[0,1])\n",
    "plt.gca().set_aspect('equal', adjustable='box')\n",
    "plt.title('ROC curve')\n",
    "plt.xlabel('False positive rate')\n",
    "plt.ylabel('True positive rate')\n",
    "plt.xlim(-0.1,1.1)\n",
    "plt.ylim(-0.1,1.1)\n",
    "plt.legend()\n",
    "plt.show()"
   ]
  },
  {
   "cell_type": "markdown",
   "metadata": {},
   "source": [
    "#### PR curve and its AUC for each method  "
   ]
  },
  {
   "cell_type": "code",
   "execution_count": null,
   "metadata": {},
   "outputs": [],
   "source": [
    "y_true = df['label']\n",
    "y_scoreA = df['A']\n",
    "precisionA, recallA, thresholdsA = precision_recall_curve(y_true, y_scoreA)\n",
    "print('PR-AUC(A):', auc(recallA, precisionA))\n",
    "y_scoreB = df['B']\n",
    "precisionB, recallB, thresholdsB = precision_recall_curve(y_true, y_scoreB)\n",
    "print('PR-AUC(B):', auc(recallB, precisionB))\n",
    "y_scoreC = df['C']\n",
    "precisionC, recallC, thresholdsC = precision_recall_curve(y_true, y_scoreC)\n",
    "print('PR-AUC(C):', auc(recallC, precisionC))"
   ]
  },
  {
   "cell_type": "code",
   "execution_count": null,
   "metadata": {},
   "outputs": [],
   "source": [
    "plt.plot(recallA, precisionA, label='A')\n",
    "plt.plot(recallB, precisionB, label='B')\n",
    "plt.plot(recallC, precisionC, label='C')\n",
    "plt.gca().set_aspect('equal', adjustable='box')\n",
    "plt.title('PR curve')\n",
    "plt.xlabel('Recall')\n",
    "plt.ylabel('Precision')\n",
    "plt.xlim(-0.1,1.1)\n",
    "plt.ylim(-0.1,1.1)\n",
    "plt.legend()\n",
    "plt.show()"
   ]
  },
  {
   "cell_type": "markdown",
   "metadata": {},
   "source": [
    "#### (Accuracy around high score predictions to see the meaning of PR curves)  \n",
    "accuracy: B > A > C (this corresponds to PR-AUC)  "
   ]
  },
  {
   "cell_type": "code",
   "execution_count": null,
   "metadata": {},
   "outputs": [],
   "source": [
    "display(df[['label','A']].sort_values(by='A', ascending=False).head())\n",
    "display(df[['label','B']].sort_values(by='B', ascending=False).head())\n",
    "display(df[['label','C']].sort_values(by='C', ascending=False).head())"
   ]
  },
  {
   "cell_type": "code",
   "execution_count": null,
   "metadata": {},
   "outputs": [],
   "source": []
  }
 ],
 "metadata": {
  "kernelspec": {
   "display_name": "Python 3.8.8 64-bit ('ds2021': conda)",
   "language": "python",
   "name": "python388jvsc74a57bd0e8880c58ea65068827af19aa57df99e07da1109ce0dc5e321474e5f3a08d850b"
  },
  "language_info": {
   "codemirror_mode": {
    "name": "ipython",
    "version": 3
   },
   "file_extension": ".py",
   "mimetype": "text/x-python",
   "name": "python",
   "nbconvert_exporter": "python",
   "pygments_lexer": "ipython3",
   "version": "3.8.8"
  },
  "metadata": {
   "interpreter": {
    "hash": "e8880c58ea65068827af19aa57df99e07da1109ce0dc5e321474e5f3a08d850b"
   }
  }
 },
 "nbformat": 4,
 "nbformat_minor": 4
}
